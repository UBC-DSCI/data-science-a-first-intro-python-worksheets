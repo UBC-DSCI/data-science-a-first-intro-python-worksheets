{
 "cells": [
  {
   "cell_type": "markdown",
   "metadata": {
    "deletable": false,
    "editable": false,
    "nbgrader": {
     "cell_type": "markdown",
     "checksum": "451c7180e639028e58801c01fe793405",
     "grade": false,
     "grade_id": "cell-b41ef16616efdfa8",
     "locked": true,
     "schema_version": 3,
     "solution": false,
     "task": false
    }
   },
   "source": [
    "# Worksheet 2: Introduction to Reading Data\n",
    "\n",
    "### Lecture and Tutorial Learning Goals:\n",
    "\n",
    "After completing this week's lecture and tutorial work, you will be able to:\n",
    "\n",
    "* define the following:\n",
    "    - absolute file path\n",
    "    - relative file path\n",
    "    - url\n",
    "* read data into Python using a relative path and a url\n",
    "* compare and contrast the following functions:\n",
    "    - `read_csv` \n",
    "    - `read_table`\n",
    "    - `read_excel`\n",
    "* match the following `pandas` `read_*` function arguments to their descriptions:\n",
    "    - `filepath_or_buffer` \n",
    "    - `sep`\n",
    "    - `names`\n",
    "    - `skiprows`\n",
    "* Connect to a database using the `ibis` library's `connect` function.\n",
    "* List the tables in a database using the `ibis` library's `list_tables` function\n",
    "* Create a reference to a database table using the `ibis` library's `table` function\n",
    "* Execute queries to bring data from a database into Python using the `ibis` library's `execute` function\n",
    "* Use `to_csv` to save a data frame to a `.csv` file\n",
    "\n",
    "\n",
    "This worksheet covers parts of [Chapter 2](https://python.datasciencebook.ca/reading.html) of the online textbook. You should read this chapter before attempting the worksheet."
   ]
  },
  {
   "cell_type": "code",
   "execution_count": null,
   "metadata": {
    "deletable": false,
    "editable": false,
    "lines_to_next_cell": 2,
    "nbgrader": {
     "cell_type": "code",
     "checksum": "2fd9f0128759ed1001749851f6eb5a9b",
     "grade": false,
     "grade_id": "cell-f0df10f129a73fe7",
     "locked": true,
     "schema_version": 3,
     "solution": false,
     "task": false
    }
   },
   "outputs": [],
   "source": [
    "### Run this cell before continuing.\n",
    "import os\n",
    "\n",
    "import altair as alt\n",
    "import pandas as pd\n",
    "import numpy as np\n",
    "\n",
    "# Simplify working with large datasets in Altair\n",
    "alt.data_transformers.disable_max_rows();"
   ]
  },
  {
   "cell_type": "code",
   "execution_count": null,
   "metadata": {
    "deletable": false,
    "editable": false,
    "lines_to_next_cell": 2,
    "nbgrader": {
     "cell_type": "code",
     "checksum": "e50874e7fa1bba842c9b93f3fe109c7e",
     "grade": false,
     "grade_id": "cell-a6632ec0f6a1911b",
     "locked": true,
     "schema_version": 3,
     "solution": false,
     "task": false
    }
   },
   "outputs": [],
   "source": [
    "### Run this cell before continuing.\n",
    "try:\n",
    "    os.remove(\"data/delay_data.csv\")\n",
    "except:\n",
    "    None"
   ]
  },
  {
   "cell_type": "markdown",
   "metadata": {
    "deletable": false,
    "editable": false,
    "nbgrader": {
     "cell_type": "markdown",
     "checksum": "e550bcec85654ce3ac3d9a3fe6a9f3f0",
     "grade": false,
     "grade_id": "cell-01937bf399a7f45d",
     "locked": true,
     "schema_version": 3,
     "solution": false,
     "task": false
    }
   },
   "source": [
    "## 1. Comparing Absolute Paths, Relative Paths, and URLs"
   ]
  },
  {
   "cell_type": "markdown",
   "metadata": {
    "deletable": false,
    "editable": false,
    "nbgrader": {
     "cell_type": "markdown",
     "checksum": "0f457118b48d36d823f12788695deec3",
     "grade": false,
     "grade_id": "cell-53313c72991fc35b",
     "locked": true,
     "schema_version": 3,
     "solution": false,
     "task": false
    }
   },
   "source": [
    "**Question 1.1** Multiple Choice:\n",
    "<br> {points: 1}\n",
    "\n",
    "If you needed to read a file using an absolute path, what would be the first symbol in your argument `(___)` when using the `pd.read_csv` function?\n",
    "\n",
    "A. `pd.read_csv(\">___\")`\n",
    "\n",
    "B. `pd.read_csv(\";___\")`\n",
    "\n",
    "C. `pd.read_csv(\"___\")`\n",
    "\n",
    "D. `pd.read_csv(\"/___\")`\n",
    "\n",
    "*Assign your answer to an object called `answer1_1`. Make sure your answer is an uppercase letter and is surrounded by quotation marks (e.g. `\"F\"`).*"
   ]
  },
  {
   "cell_type": "code",
   "execution_count": null,
   "metadata": {
    "deletable": false,
    "nbgrader": {
     "cell_type": "code",
     "checksum": "93f74cea0dc822ed646423205e60c47f",
     "grade": false,
     "grade_id": "cell-31f6bcc763a6c19f",
     "locked": false,
     "schema_version": 3,
     "solution": true,
     "task": false
    }
   },
   "outputs": [],
   "source": [
    "# your code here\n",
    "raise NotImplementedError"
   ]
  },
  {
   "cell_type": "code",
   "execution_count": null,
   "metadata": {
    "deletable": false,
    "editable": false,
    "nbgrader": {
     "cell_type": "code",
     "checksum": "8b78056d35a466a3c20525c74691b5b9",
     "grade": true,
     "grade_id": "cell-0d7a29b2deaf9cfe",
     "locked": true,
     "points": 3,
     "schema_version": 3,
     "solution": false,
     "task": false
    }
   },
   "outputs": [],
   "source": [
    "from hashlib import sha1\n",
    "assert sha1(str(type(answer1_1)).encode(\"utf-8\")+b\"0c14ae17d6a06f25\").hexdigest() == \"960fef2a955c3c6e7ee8ca598dc532e4219608a2\", \"type of answer1_1 is not str. answer1_1 should be an str\"\n",
    "assert sha1(str(len(answer1_1)).encode(\"utf-8\")+b\"0c14ae17d6a06f25\").hexdigest() == \"6fd951c810ae9e67d7d593c89d44b5575383907e\", \"length of answer1_1 is not correct\"\n",
    "assert sha1(str(answer1_1.lower()).encode(\"utf-8\")+b\"0c14ae17d6a06f25\").hexdigest() == \"16a24c26fcfbfc4e0d6315f631227871a51ff556\", \"value of answer1_1 is not correct\"\n",
    "assert sha1(str(answer1_1).encode(\"utf-8\")+b\"0c14ae17d6a06f25\").hexdigest() == \"a4e5acf4c42f62b605ef418a1fe82efc0a5a70eb\", \"correct string value of answer1_1 but incorrect case of letters\"\n",
    "\n",
    "print('Success!')"
   ]
  },
  {
   "cell_type": "markdown",
   "metadata": {
    "deletable": false,
    "editable": false,
    "nbgrader": {
     "cell_type": "markdown",
     "checksum": "e5f55656a582ab7fd1c8509055f71558",
     "grade": false,
     "grade_id": "cell-285561d2d852e675",
     "locked": true,
     "schema_version": 3,
     "solution": false,
     "task": false
    }
   },
   "source": [
    "**Question 1.2** True or False: \n",
    "<br> {points: 1}\n",
    "\n",
    "The file argument in the `pd.read_csv` function that uses an absolute path can *never* look like that of a relative path?\n",
    "\n",
    "*Assign your answer to an object called `answer1_2`. Make sure your answer is a boolean (e.g. `True` or `False`).* "
   ]
  },
  {
   "cell_type": "code",
   "execution_count": null,
   "metadata": {
    "deletable": false,
    "nbgrader": {
     "cell_type": "code",
     "checksum": "f46d68720dee0931dd0c9423ea4286cb",
     "grade": false,
     "grade_id": "cell-4e1a9125a5d354ca",
     "locked": false,
     "schema_version": 3,
     "solution": true,
     "task": false
    }
   },
   "outputs": [],
   "source": [
    "# your code here\n",
    "raise NotImplementedError"
   ]
  },
  {
   "cell_type": "code",
   "execution_count": null,
   "metadata": {
    "deletable": false,
    "editable": false,
    "nbgrader": {
     "cell_type": "code",
     "checksum": "80f5bffbb28a80f70e6c84c0108ea00d",
     "grade": true,
     "grade_id": "cell-3b1e215bff84eb7b",
     "locked": true,
     "points": 3,
     "schema_version": 3,
     "solution": false,
     "task": false
    }
   },
   "outputs": [],
   "source": [
    "from hashlib import sha1\n",
    "assert sha1(str(type(answer1_2)).encode(\"utf-8\")+b\"1f204bc1488dcc4b\").hexdigest() == \"50f797abbc01ef57f66eb2938271988b5ce72349\", \"type of answer1_2 is not bool. answer1_2 should be a bool\"\n",
    "assert sha1(str(answer1_2).encode(\"utf-8\")+b\"1f204bc1488dcc4b\").hexdigest() == \"c95487772cbcfaf601b0a3a50f6acbd5a65c2797\", \"boolean value of answer1_2 is not correct\"\n",
    "\n",
    "print('Success!')"
   ]
  },
  {
   "cell_type": "markdown",
   "metadata": {
    "deletable": false,
    "editable": false,
    "nbgrader": {
     "cell_type": "markdown",
     "checksum": "5672088845dd830dabba735f872ba9e7",
     "grade": false,
     "grade_id": "cell-f57fc85cb8f2edc5",
     "locked": true,
     "schema_version": 3,
     "solution": false,
     "task": false
    }
   },
   "source": [
    "**Question 1.3** \n",
    "Match the following paths with the correct path type that they represent:\n",
    "<br> {points: 1}\n",
    "\n",
    "*Example Path*\n",
    "\n",
    "A. `/Users/my_user/Desktop/UBC/BIOL363/SciaticNerveLab/sn_trial_1.xlsx`\n",
    "\n",
    "B. `https://www.ubc.ca`\n",
    "\n",
    "C. `file_1.csv`\n",
    "\n",
    "D. `/Users/name/Documents/Course_A/homework/my_first_homework.docx`\n",
    "\n",
    "E. `homework/my_second_homework.docx`\n",
    "\n",
    "F. `https://www.random_website.com`\n",
    "\n",
    "\n",
    "*Path Type*\n",
    "\n",
    "1. absolute\n",
    "2. relative\n",
    "3. URL\n",
    "\n",
    "For every argument, create an object using the letter associated with the example path and assign it the corresponding number from the list of path types. For example: `B = 1`. "
   ]
  },
  {
   "cell_type": "code",
   "execution_count": null,
   "metadata": {
    "deletable": false,
    "nbgrader": {
     "cell_type": "code",
     "checksum": "159c291290642c9a5204daa74e0f6ea1",
     "grade": false,
     "grade_id": "cell-f0b3c00004a32ddd",
     "locked": false,
     "schema_version": 3,
     "solution": true,
     "task": false
    }
   },
   "outputs": [],
   "source": [
    "# your code here\n",
    "raise NotImplementedError"
   ]
  },
  {
   "cell_type": "code",
   "execution_count": null,
   "metadata": {
    "deletable": false,
    "editable": false,
    "nbgrader": {
     "cell_type": "code",
     "checksum": "8cfec1613af3fa074a2dc02ca1afd0f3",
     "grade": true,
     "grade_id": "cell-81b5979634cdb51d",
     "locked": true,
     "points": 3,
     "schema_version": 3,
     "solution": false,
     "task": false
    }
   },
   "outputs": [],
   "source": [
    "from hashlib import sha1\n",
    "assert sha1(str(type(A)).encode(\"utf-8\")+b\"54ad2295143b8721\").hexdigest() == \"1c9919f531dff7440d1b4953ab95199752c155e9\", \"type of A is not int. Please make sure it is int and not np.int64, etc. You can cast your value into an int using int()\"\n",
    "assert sha1(str(A).encode(\"utf-8\")+b\"54ad2295143b8721\").hexdigest() == \"7c5bd1c5739b3c2fc382355c654427c938438e71\", \"value of A is not correct\"\n",
    "\n",
    "assert sha1(str(type(B)).encode(\"utf-8\")+b\"8077155c8c09ccdf\").hexdigest() == \"562cead287808d7b840cc9cc5221d12b221e1225\", \"type of B is not int. Please make sure it is int and not np.int64, etc. You can cast your value into an int using int()\"\n",
    "assert sha1(str(B).encode(\"utf-8\")+b\"8077155c8c09ccdf\").hexdigest() == \"949632fe917472c4ea4b589748839b00413b1eb4\", \"value of B is not correct\"\n",
    "\n",
    "assert sha1(str(type(C)).encode(\"utf-8\")+b\"8d667ba0311c3c94\").hexdigest() == \"05a221c70b8ddfcbb2c1d3a022593654088c34ca\", \"type of C is not int. Please make sure it is int and not np.int64, etc. You can cast your value into an int using int()\"\n",
    "assert sha1(str(C).encode(\"utf-8\")+b\"8d667ba0311c3c94\").hexdigest() == \"9c84c3d006238c6d4fd2aff403e28a92dde63111\", \"value of C is not correct\"\n",
    "\n",
    "assert sha1(str(type(D)).encode(\"utf-8\")+b\"f2177a099e34ca6a\").hexdigest() == \"28df2ccfd5319049bf9e0bb823d10e042a3d1dca\", \"type of D is not int. Please make sure it is int and not np.int64, etc. You can cast your value into an int using int()\"\n",
    "assert sha1(str(D).encode(\"utf-8\")+b\"f2177a099e34ca6a\").hexdigest() == \"24c1c84fc134bd1c899e2f84083858b1b956ee26\", \"value of D is not correct\"\n",
    "\n",
    "assert sha1(str(type(E)).encode(\"utf-8\")+b\"01cd2fd3ee545597\").hexdigest() == \"2572f6062c326555f8cb616d66e198669b1149f5\", \"type of E is not int. Please make sure it is int and not np.int64, etc. You can cast your value into an int using int()\"\n",
    "assert sha1(str(E).encode(\"utf-8\")+b\"01cd2fd3ee545597\").hexdigest() == \"5aa3d74999a5b4a0d3a7747bc306b75f5ae5b9c4\", \"value of E is not correct\"\n",
    "\n",
    "assert sha1(str(type(F)).encode(\"utf-8\")+b\"df1534d2a4416ffb\").hexdigest() == \"564886aeec4ebb71e977827ca2515a82351ec5ba\", \"type of F is not int. Please make sure it is int and not np.int64, etc. You can cast your value into an int using int()\"\n",
    "assert sha1(str(F).encode(\"utf-8\")+b\"df1534d2a4416ffb\").hexdigest() == \"ff1129838c09feb57d74b18a946545de0d136572\", \"value of F is not correct\"\n",
    "\n",
    "print('Success!')"
   ]
  },
  {
   "cell_type": "markdown",
   "metadata": {
    "deletable": false,
    "editable": false,
    "nbgrader": {
     "cell_type": "markdown",
     "checksum": "d64b9a26572215d9086ac311ed5ba1b8",
     "grade": false,
     "grade_id": "cell-f99a3b9bb2d39344",
     "locked": true,
     "schema_version": 3,
     "solution": false,
     "task": false
    }
   },
   "source": [
    "**Question 1.4** Multiple Choice:\n",
    "<br> {points: 1}\n",
    "\n",
    "If the absolute path to a data file looks like this: `/Users/my_user/Desktop/UBC/BIOL363/SciaticNerveLab/sn_trial_1.xlsx`\n",
    "\n",
    "What would the relative path look like if the working directory (i.e., where the Jupyter notebook is where you are running your Python code from) is now located in the `UBC` folder?\n",
    "\n",
    "A. `sn_trial_1.xlsx`\n",
    "\n",
    "B. `/SciaticNerveLab/sn_trial_1.xlsx`\n",
    "\n",
    "C. `BIOL363/SciaticNerveLab/sn_trial_1.xlsx`\n",
    "\n",
    "D. `UBC/BIOL363/SciaticNerveLab/sn_trial_1.xlsx`\n",
    "\n",
    "E. `/BIOL363/SciaticNerveLab/sn_trial_1.xlsx`\n",
    "\n",
    "*Assign your answer to an object called `answer1_4`. Make sure your answer is an uppercase letter and is surrounded by quotation marks (e.g. `\"F\"`).* "
   ]
  },
  {
   "cell_type": "code",
   "execution_count": null,
   "metadata": {
    "deletable": false,
    "nbgrader": {
     "cell_type": "code",
     "checksum": "57d6bc1e7faeff7d7f5ff7e2d3173445",
     "grade": false,
     "grade_id": "cell-010c531f8b38479c",
     "locked": false,
     "schema_version": 3,
     "solution": true,
     "task": false
    }
   },
   "outputs": [],
   "source": [
    "# your code here\n",
    "raise NotImplementedError"
   ]
  },
  {
   "cell_type": "code",
   "execution_count": null,
   "metadata": {
    "deletable": false,
    "editable": false,
    "nbgrader": {
     "cell_type": "code",
     "checksum": "2575b977d3da4a4f3c94a653e0b8303c",
     "grade": true,
     "grade_id": "cell-496ddf4b95dcd6c9",
     "locked": true,
     "points": 3,
     "schema_version": 3,
     "solution": false,
     "task": false
    }
   },
   "outputs": [],
   "source": [
    "from hashlib import sha1\n",
    "assert sha1(str(type(answer1_4)).encode(\"utf-8\")+b\"1dfa1a5d0b72ecf7\").hexdigest() == \"5fbfce196fbf35d74fed6babdc3ae5f51b2754de\", \"type of answer1_4 is not str. answer1_4 should be an str\"\n",
    "assert sha1(str(len(answer1_4)).encode(\"utf-8\")+b\"1dfa1a5d0b72ecf7\").hexdigest() == \"ef06c75d15336312a769bea6a8ceec6d078bcc20\", \"length of answer1_4 is not correct\"\n",
    "assert sha1(str(answer1_4.lower()).encode(\"utf-8\")+b\"1dfa1a5d0b72ecf7\").hexdigest() == \"5bf5310a22923f4a93aaa94e824def24ac9cd966\", \"value of answer1_4 is not correct\"\n",
    "assert sha1(str(answer1_4).encode(\"utf-8\")+b\"1dfa1a5d0b72ecf7\").hexdigest() == \"47d50d5fe7e38bf4f14a6807cf1be6502edf29b2\", \"correct string value of answer1_4 but incorrect case of letters\"\n",
    "\n",
    "print('Success!')"
   ]
  },
  {
   "cell_type": "markdown",
   "metadata": {
    "deletable": false,
    "editable": false,
    "nbgrader": {
     "cell_type": "markdown",
     "checksum": "e3a7ec8c7b6ca5b3e4600ee0f8b83c10",
     "grade": false,
     "grade_id": "cell-0092b78e05e366e8",
     "locked": true,
     "schema_version": 3,
     "solution": false,
     "task": false
    }
   },
   "source": [
    "**Question 1.5**\n",
    "<br> {points: 1}\n",
    "\n",
    "Match the following paths with the most likely kind of data format they contain. \n",
    "\n",
    "*Paths:*\n",
    "\n",
    "1. `https://www.ubc.ca/datasets/data.db`\n",
    "2. `/home/user/downloads/data.xlsx`\n",
    "3. `data.tsv`\n",
    "4. `examples/data/data.csv`\n",
    "5. `https://en.wikipedia.org/wiki/Normal_distribution`\n",
    "\n",
    "*Dataset Types:*\n",
    "\n",
    "A. Excel Spreadsheet\n",
    "\n",
    "B. Database\n",
    "\n",
    "C. HTML file\n",
    "\n",
    "D. Comma-separated values file\n",
    "\n",
    "E. Tab-separated values file\n",
    "\n",
    "For every dataset type, create an object using the letter associated with the example and assign it the corresponding number from the list of paths. For example: `F = 5`\n"
   ]
  },
  {
   "cell_type": "code",
   "execution_count": null,
   "metadata": {
    "deletable": false,
    "nbgrader": {
     "cell_type": "code",
     "checksum": "3fb4ba5bcb309cefe6bae82416006152",
     "grade": false,
     "grade_id": "cell-2b98d9f0abe41b3c",
     "locked": false,
     "schema_version": 3,
     "solution": true,
     "task": false
    }
   },
   "outputs": [],
   "source": [
    "# your code here\n",
    "raise NotImplementedError"
   ]
  },
  {
   "cell_type": "code",
   "execution_count": null,
   "metadata": {
    "deletable": false,
    "editable": false,
    "nbgrader": {
     "cell_type": "code",
     "checksum": "cd98b5214e15e1a3840531bbc3d30b6e",
     "grade": true,
     "grade_id": "cell-3d1733503218cd62",
     "locked": true,
     "points": 3,
     "schema_version": 3,
     "solution": false,
     "task": false
    }
   },
   "outputs": [],
   "source": [
    "from hashlib import sha1\n",
    "assert sha1(str(type(A)).encode(\"utf-8\")+b\"78efb627b6ed755b\").hexdigest() == \"8d5eac340f441c02bc9edad0ecf4f6a4ed3b0c7e\", \"type of A is not int. Please make sure it is int and not np.int64, etc. You can cast your value into an int using int()\"\n",
    "assert sha1(str(A).encode(\"utf-8\")+b\"78efb627b6ed755b\").hexdigest() == \"8e282fd863af1a947992679f80adadcf9eb4164c\", \"value of A is not correct\"\n",
    "\n",
    "assert sha1(str(type(B)).encode(\"utf-8\")+b\"e5eddb6f61a7b1ba\").hexdigest() == \"d0326a658b2d25192a9b44e4eb570a6082a69424\", \"type of B is not int. Please make sure it is int and not np.int64, etc. You can cast your value into an int using int()\"\n",
    "assert sha1(str(B).encode(\"utf-8\")+b\"e5eddb6f61a7b1ba\").hexdigest() == \"ff41eb0ad435b8e51fe261ef9cde8e553c572b3f\", \"value of B is not correct\"\n",
    "\n",
    "assert sha1(str(type(C)).encode(\"utf-8\")+b\"83d6c48755e8acdc\").hexdigest() == \"b1ed7ff7184f08d0c25ad6911c757750a3a53563\", \"type of C is not int. Please make sure it is int and not np.int64, etc. You can cast your value into an int using int()\"\n",
    "assert sha1(str(C).encode(\"utf-8\")+b\"83d6c48755e8acdc\").hexdigest() == \"dde710b095e128953c65adacec54cb4fdcd52a90\", \"value of C is not correct\"\n",
    "\n",
    "assert sha1(str(type(D)).encode(\"utf-8\")+b\"fde1f4d49d7b7889\").hexdigest() == \"a318d7f92ff5c8710a74103c3eb04fe7ecc8ad52\", \"type of D is not int. Please make sure it is int and not np.int64, etc. You can cast your value into an int using int()\"\n",
    "assert sha1(str(D).encode(\"utf-8\")+b\"fde1f4d49d7b7889\").hexdigest() == \"12baaf2d96042bf0d97059c32803f3bdae7ee4e8\", \"value of D is not correct\"\n",
    "\n",
    "assert sha1(str(type(E)).encode(\"utf-8\")+b\"ca43c2ddba1d5d9a\").hexdigest() == \"750a8e6faa2b9fc7927cb7a5b719be77f11f93de\", \"type of E is not int. Please make sure it is int and not np.int64, etc. You can cast your value into an int using int()\"\n",
    "assert sha1(str(E).encode(\"utf-8\")+b\"ca43c2ddba1d5d9a\").hexdigest() == \"3714a6c082c0ac3097cf7aaa304de8be8618f024\", \"value of E is not correct\"\n",
    "\n",
    "print('Success!')"
   ]
  },
  {
   "cell_type": "markdown",
   "metadata": {
    "deletable": false,
    "editable": false,
    "nbgrader": {
     "cell_type": "markdown",
     "checksum": "23b9c53ea715823c838948744c64f475",
     "grade": false,
     "grade_id": "cell-e96ecdf801ee47e8",
     "locked": true,
     "schema_version": 3,
     "solution": false,
     "task": false
    }
   },
   "source": [
    "## 2. Argument Modifications to Read Data\n",
    "Reading files is one of the first steps to wrangling data and consequently `pd.read_csv` is a crucial function in Python. However, despite how effortlessly it has worked so far, it has its limitations.\n",
    "\n",
    "Not all data sets come as perfectly organized like the ones you worked with last week. Time and effort were put into ensuring that the files were arranged with headers, columns were separated by commas, and the beginning excluded metadata. \n",
    "\n",
    "Now that you understand how to read files located outside (or inside) of your working directory, you can begin to learn the tips and tricks necessary to overcoming the setbacks of `read_csv`. "
   ]
  },
  {
   "cell_type": "code",
   "execution_count": null,
   "metadata": {
    "deletable": false,
    "editable": false,
    "nbgrader": {
     "cell_type": "code",
     "checksum": "51ad46d14ba0bbf3e72f55e12142d5b3",
     "grade": false,
     "grade_id": "cell-cc72c20a82574247",
     "locked": true,
     "schema_version": 3,
     "solution": false,
     "task": false
    },
    "tags": []
   },
   "outputs": [],
   "source": [
    "### Run this cell to learn more about the arguments used in pd.read_csv\n",
    "### Reading over the help file will assist with the next question. \n",
    "\n",
    "?pd.read_csv"
   ]
  },
  {
   "cell_type": "markdown",
   "metadata": {
    "deletable": false,
    "editable": false,
    "nbgrader": {
     "cell_type": "markdown",
     "checksum": "6db013c1d917f9ac8700d3ab7da51f5c",
     "grade": false,
     "grade_id": "cell-bafde1ddc023cf35",
     "locked": true,
     "schema_version": 3,
     "solution": false,
     "task": false
    }
   },
   "source": [
    "**Question 2.1** \n",
    "<br> {points: 1}\n",
    "\n",
    "Match the following descriptions with the corresponding arguments used in `pd.read_csv`:\n",
    "\n",
    "*Descriptions*\n",
    "\n",
    "G. Character that separates columns in your file. \n",
    "\n",
    "H. Specifies a list of column names to use when reading in a file.\n",
    "\n",
    "I. This is the file name, path to a file, or URL. \n",
    "\n",
    "J. Specifies the number of lines which must be ignored because they contain metadata. \n",
    "\n",
    "\n",
    "*Arguments*\n",
    "\n",
    "1. `filepath_or_buffer`\n",
    "2. `sep`\n",
    "3. `names`\n",
    "4. `skiprows`\n",
    "\n",
    "For every description, create an object using the letter associated with the description and assign it the corresponding number from the list of functions. For example: `G = 1`"
   ]
  },
  {
   "cell_type": "code",
   "execution_count": null,
   "metadata": {
    "deletable": false,
    "nbgrader": {
     "cell_type": "code",
     "checksum": "03b23714760e989c2e020b02431763e4",
     "grade": false,
     "grade_id": "cell-c6d77501960c676f",
     "locked": false,
     "schema_version": 3,
     "solution": true,
     "task": false
    }
   },
   "outputs": [],
   "source": [
    "# your code here\n",
    "raise NotImplementedError"
   ]
  },
  {
   "cell_type": "code",
   "execution_count": null,
   "metadata": {
    "deletable": false,
    "editable": false,
    "nbgrader": {
     "cell_type": "code",
     "checksum": "bfaee439b39466eb5826ee38fe4ce75f",
     "grade": true,
     "grade_id": "cell-b9229174ebcf7d2e",
     "locked": true,
     "points": 3,
     "schema_version": 3,
     "solution": false,
     "task": false
    }
   },
   "outputs": [],
   "source": [
    "from hashlib import sha1\n",
    "assert sha1(str(type(G)).encode(\"utf-8\")+b\"9276c618f9c24a33\").hexdigest() == \"5b5b2f6a85e193296fd234a87b06b0969f0eefa5\", \"type of G is not int. Please make sure it is int and not np.int64, etc. You can cast your value into an int using int()\"\n",
    "assert sha1(str(G).encode(\"utf-8\")+b\"9276c618f9c24a33\").hexdigest() == \"312161c958ca492294f49f627eb7c5fd68b10918\", \"value of G is not correct\"\n",
    "\n",
    "assert sha1(str(type(H)).encode(\"utf-8\")+b\"ea48c42a909b5392\").hexdigest() == \"33fcad60f34e28d86e2dc1633ece6f6c9c6c0c85\", \"type of H is not int. Please make sure it is int and not np.int64, etc. You can cast your value into an int using int()\"\n",
    "assert sha1(str(H).encode(\"utf-8\")+b\"ea48c42a909b5392\").hexdigest() == \"0d2ccf3758fab00203ddd50dd683872a60531177\", \"value of H is not correct\"\n",
    "\n",
    "assert sha1(str(type(I)).encode(\"utf-8\")+b\"3cb0c56d23a3c511\").hexdigest() == \"83d94186cdcccd9a3920286e1d09cc5396bb1ad5\", \"type of I is not int. Please make sure it is int and not np.int64, etc. You can cast your value into an int using int()\"\n",
    "assert sha1(str(I).encode(\"utf-8\")+b\"3cb0c56d23a3c511\").hexdigest() == \"17438181e074de9cae404dc6e1fdd74241ea77d2\", \"value of I is not correct\"\n",
    "\n",
    "assert sha1(str(type(J)).encode(\"utf-8\")+b\"f56e535007a79d10\").hexdigest() == \"51f1290c8facd7c3b69744f41dfc1c81136a798c\", \"type of J is not int. Please make sure it is int and not np.int64, etc. You can cast your value into an int using int()\"\n",
    "assert sha1(str(J).encode(\"utf-8\")+b\"f56e535007a79d10\").hexdigest() == \"7f357c2d75fcdfd1d498dc99c8d5feec444124b0\", \"value of J is not correct\"\n",
    "\n",
    "print('Success!')"
   ]
  },
  {
   "cell_type": "markdown",
   "metadata": {
    "deletable": false,
    "editable": false,
    "nbgrader": {
     "cell_type": "markdown",
     "checksum": "0cda116cee1476c87e965d01b187a554",
     "grade": false,
     "grade_id": "cell-9c4d459ff0d4eb12",
     "locked": true,
     "schema_version": 3,
     "solution": false,
     "task": false
    }
   },
   "source": [
    "**Question 2.2** True or False:\n",
    "<br> {points: 1}\n",
    "\n",
    "`pd.read_csv` and `pd.read_table` can both be used for reading files that have columns separated by `;`. \n",
    "\n",
    "*Assign your answer to an object called `answer2_2`. Make sure your answer is a boolean (e.g. `True` or `False`).*"
   ]
  },
  {
   "cell_type": "code",
   "execution_count": null,
   "metadata": {
    "deletable": false,
    "nbgrader": {
     "cell_type": "code",
     "checksum": "b4030e34743fb95e3559e78105af2e4f",
     "grade": false,
     "grade_id": "cell-c593b61a9e63214d",
     "locked": false,
     "schema_version": 3,
     "solution": true,
     "task": false
    }
   },
   "outputs": [],
   "source": [
    "# your code here\n",
    "raise NotImplementedError"
   ]
  },
  {
   "cell_type": "code",
   "execution_count": null,
   "metadata": {
    "deletable": false,
    "editable": false,
    "nbgrader": {
     "cell_type": "code",
     "checksum": "6700657eb1875b4a8fc46bcb73e705bf",
     "grade": true,
     "grade_id": "cell-fff66a74bda40e7f",
     "locked": true,
     "points": 3,
     "schema_version": 3,
     "solution": false,
     "task": false
    }
   },
   "outputs": [],
   "source": [
    "from hashlib import sha1\n",
    "assert sha1(str(type(answer2_2)).encode(\"utf-8\")+b\"991e71e36904a207\").hexdigest() == \"5eb128bb5cf729c0a56696cb1377128e93b3a67a\", \"type of answer2_2 is not bool. answer2_2 should be a bool\"\n",
    "assert sha1(str(answer2_2).encode(\"utf-8\")+b\"991e71e36904a207\").hexdigest() == \"21ee71126582ec7b20a1ac09168e14b0871dde7b\", \"boolean value of answer2_2 is not correct\"\n",
    "\n",
    "print('Success!')"
   ]
  },
  {
   "cell_type": "markdown",
   "metadata": {
    "deletable": false,
    "editable": false,
    "nbgrader": {
     "cell_type": "markdown",
     "checksum": "66cc5038d447efc81f635f220a115365",
     "grade": false,
     "grade_id": "cell-80b368654abb01ac",
     "locked": true,
     "schema_version": 3,
     "solution": false,
     "task": false
    }
   },
   "source": [
    "**Question 2.3** True or False: \n",
    "<br> {points: 1}\n",
    "\n",
    "`pd.read_csv` can be used for files that have columns separated by one or more of the following characters: letters, tabs, semicolons, or commas.\n",
    "\n",
    "*Assign your answer to an object called `answer2_3`. Make sure your answer is a boolean (e.g. `True` or `False`).*"
   ]
  },
  {
   "cell_type": "code",
   "execution_count": null,
   "metadata": {
    "deletable": false,
    "nbgrader": {
     "cell_type": "code",
     "checksum": "17d8f953e09660e4a3ac8c39901057a7",
     "grade": false,
     "grade_id": "cell-870bb80556aab0c3",
     "locked": false,
     "schema_version": 3,
     "solution": true,
     "task": false
    }
   },
   "outputs": [],
   "source": [
    "# your code here\n",
    "raise NotImplementedError"
   ]
  },
  {
   "cell_type": "code",
   "execution_count": null,
   "metadata": {
    "deletable": false,
    "editable": false,
    "nbgrader": {
     "cell_type": "code",
     "checksum": "be3da2b957e5b871064f2f94a5a63311",
     "grade": true,
     "grade_id": "cell-bc72e3bea9ddf5b5",
     "locked": true,
     "points": 3,
     "schema_version": 3,
     "solution": false,
     "task": false
    }
   },
   "outputs": [],
   "source": [
    "from hashlib import sha1\n",
    "assert sha1(str(type(answer2_3)).encode(\"utf-8\")+b\"bc072d1fc5363f26\").hexdigest() == \"a8b863ab2cc8b7c7e3e346c4c46a32f7c6037005\", \"type of answer2_3 is not bool. answer2_3 should be a bool\"\n",
    "assert sha1(str(answer2_3).encode(\"utf-8\")+b\"bc072d1fc5363f26\").hexdigest() == \"015a2fdb111d3a0fdb0df69523af49802ca2c86d\", \"boolean value of answer2_3 is not correct\"\n",
    "\n",
    "print('Success!')"
   ]
  },
  {
   "cell_type": "markdown",
   "metadata": {
    "deletable": false,
    "editable": false,
    "nbgrader": {
     "cell_type": "markdown",
     "checksum": "78b8a3239193bb68e4bffc00e9c40727",
     "grade": false,
     "grade_id": "cell-fa798647ffd412f8",
     "locked": true,
     "schema_version": 3,
     "solution": false,
     "task": false
    }
   },
   "source": [
    "## 3. Happiness Report (2017)\n",
    "This data was taken from [Kaggle](https://www.kaggle.com/unsdsn/world-happiness) and ranks countries on happiness based on rationalized factors like economic growth, social support, etc. The data was released by the United Nations at an event celebrating International Day of Happiness.  According to the website, the file contains the following information:\n",
    "\n",
    "* Country = Name of the country.\n",
    "* Region = Region the country belongs to.\n",
    "* Happiness Rank = Rank of the country based on the Happiness Score.\n",
    "* Happiness Score = A metric measured by asking the sampled people the question: \"How would you rate your happiness on a scale of 0 to 10 where 10 is the happiest?\"\n",
    "* Standard Error = The standard error of the happiness score.\n",
    "* Economy (GDP per Capita) = The extent to which GDP contributes to the calculation of the Happiness Score.\n",
    "* Family = The extent to which Family contributes to the calculation of the Happiness Score.\n",
    "* Health (Life Expectancy) = The extent to which Life expectancy contributed to the calculation of the Happiness Score.\n",
    "* Freedom = The extent to which Freedom contributed to the calculation of the Happiness Score.\n",
    "* Trust (Government Corruption) = The extent to which Perception of Corruption contributes to Happiness Score.\n",
    "* Generosity = The extent to which Generosity contributed to the calculation of the Happiness Score.\n",
    "* Dystopia Residual = The extent to which Dystopia Residual contributed to the calculation of the Happiness Score.\n",
    "\n",
    "To clean up the file and make it easier to read, we only kept the country name, happiness score, economy (GDP per capita), life expectancy, and freedom. The happiness scores and rankings use data from the Gallup World Poll, which surveys citizens in countries from around the world.\n",
    "\n",
    "Kaggle stores this information but it is compiled by the *Sustainable Development Solutions Network*. They survey these factors nearly every year (since 2012) and allow global comparisons to optimize political decision making. These landmark surveys are highly recognized and allow countries to learn and grow from one another. One day, they will provide a historical insight on the nature of our time.  "
   ]
  },
  {
   "cell_type": "markdown",
   "metadata": {
    "deletable": false,
    "editable": false,
    "nbgrader": {
     "cell_type": "markdown",
     "checksum": "ed7419617e14886a6f028c6c643860d6",
     "grade": false,
     "grade_id": "cell-6495dcc89ffe6f0a",
     "locked": true,
     "schema_version": 3,
     "solution": false,
     "task": false
    }
   },
   "source": [
    "**Question 3.1** Fill in the Blank: \n",
    "<br> {points: 1}\n",
    "\n",
    "Trust is the extent to which \\_\\_\\_\\_\\_\\_\\_\\_\\_\\_\\_\\_\\_\\_\\_ contributes to Happiness Score. \n",
    "\n",
    "A. Corruption \n",
    "\n",
    "B. Government Intervention \n",
    "\n",
    "C. Perception of Corruption  \n",
    "\n",
    "D. Tax Money Designation \n",
    "\n",
    "*Assign your answer to an object called `answer3_1`. Make sure your answer is an uppercase letter and is surrounded by quotation marks (e.g. `\"F\"`).* "
   ]
  },
  {
   "cell_type": "code",
   "execution_count": null,
   "metadata": {
    "deletable": false,
    "nbgrader": {
     "cell_type": "code",
     "checksum": "b1ecfd76566f61618f604998167a3358",
     "grade": false,
     "grade_id": "cell-f5e4734a364c4ac8",
     "locked": false,
     "schema_version": 3,
     "solution": true,
     "task": false
    }
   },
   "outputs": [],
   "source": [
    "# your code here\n",
    "raise NotImplementedError"
   ]
  },
  {
   "cell_type": "code",
   "execution_count": null,
   "metadata": {
    "deletable": false,
    "editable": false,
    "nbgrader": {
     "cell_type": "code",
     "checksum": "682de35f4da699dc740f3154a927b33e",
     "grade": true,
     "grade_id": "cell-0bcf4e7cd22fa393",
     "locked": true,
     "points": 3,
     "schema_version": 3,
     "solution": false,
     "task": false
    }
   },
   "outputs": [],
   "source": [
    "from hashlib import sha1\n",
    "assert sha1(str(type(answer3_1)).encode(\"utf-8\")+b\"a386ca782e78b8c7\").hexdigest() == \"6c590f4fbf08caac68bf6d220a1379607b8713cb\", \"type of answer3_1 is not str. answer3_1 should be an str\"\n",
    "assert sha1(str(len(answer3_1)).encode(\"utf-8\")+b\"a386ca782e78b8c7\").hexdigest() == \"ea222bc12434d6a904f4f7440f0702f1a7f8b1fa\", \"length of answer3_1 is not correct\"\n",
    "assert sha1(str(answer3_1.lower()).encode(\"utf-8\")+b\"a386ca782e78b8c7\").hexdigest() == \"af4054e99babff76fda67220cc5f0c6e50c9b082\", \"value of answer3_1 is not correct\"\n",
    "assert sha1(str(answer3_1).encode(\"utf-8\")+b\"a386ca782e78b8c7\").hexdigest() == \"b30beb8b083e0ffe50e201b99ff5a44d0eeee956\", \"correct string value of answer3_1 but incorrect case of letters\"\n",
    "\n",
    "print('Success!')"
   ]
  },
  {
   "cell_type": "markdown",
   "metadata": {
    "deletable": false,
    "editable": false,
    "nbgrader": {
     "cell_type": "markdown",
     "checksum": "677864fdd53fbac92d55d83cd1625d58",
     "grade": false,
     "grade_id": "cell-838e271dab9da39a",
     "locked": true,
     "schema_version": 3,
     "solution": false,
     "task": false
    }
   },
   "source": [
    "**Question 3.2** Multiple Choice: \n",
    "<br> {points: 1}\n",
    "\n",
    "What is the happiness report?\n",
    "\n",
    "A. Study conducted by the governments of multiple countries. \n",
    "\n",
    "B. Independent survey of citizens from multiple countries.\n",
    "\n",
    "C. Study conducted by the UN. \n",
    "\n",
    "D. Survey given to international students by UBC's psychology department. \n",
    "\n",
    "*Assign your answer to an object called `answer3_2`. Make sure your answer is an uppercase letter and is surrounded by quotation marks (e.g. `\"F\"`).* "
   ]
  },
  {
   "cell_type": "code",
   "execution_count": null,
   "metadata": {
    "deletable": false,
    "nbgrader": {
     "cell_type": "code",
     "checksum": "be5b96bf0038bdec059376de0fe2d4e1",
     "grade": false,
     "grade_id": "cell-70bcf03b219a7e20",
     "locked": false,
     "schema_version": 3,
     "solution": true,
     "task": false
    }
   },
   "outputs": [],
   "source": [
    "# your code here\n",
    "raise NotImplementedError"
   ]
  },
  {
   "cell_type": "code",
   "execution_count": null,
   "metadata": {
    "deletable": false,
    "editable": false,
    "nbgrader": {
     "cell_type": "code",
     "checksum": "d47c120580c481a77dc20d6ca94742f3",
     "grade": true,
     "grade_id": "cell-e7d4bdc58a1398fe",
     "locked": true,
     "points": 3,
     "schema_version": 3,
     "solution": false,
     "task": false
    }
   },
   "outputs": [],
   "source": [
    "from hashlib import sha1\n",
    "assert sha1(str(type(answer3_2)).encode(\"utf-8\")+b\"2e356924c30f6333\").hexdigest() == \"8a6a642a06775cfef6824cea0a942cfdac4bbe2e\", \"type of answer3_2 is not str. answer3_2 should be an str\"\n",
    "assert sha1(str(len(answer3_2)).encode(\"utf-8\")+b\"2e356924c30f6333\").hexdigest() == \"97666bb70989d99cc5272818b97459bec8b30ba4\", \"length of answer3_2 is not correct\"\n",
    "assert sha1(str(answer3_2.lower()).encode(\"utf-8\")+b\"2e356924c30f6333\").hexdigest() == \"1ef679b356630379b7220a26c1916df6b2d02346\", \"value of answer3_2 is not correct\"\n",
    "assert sha1(str(answer3_2).encode(\"utf-8\")+b\"2e356924c30f6333\").hexdigest() == \"c009dd83f025fdff314f2b2598e4fe9d2a0e5de7\", \"correct string value of answer3_2 but incorrect case of letters\"\n",
    "\n",
    "print('Success!')"
   ]
  },
  {
   "cell_type": "markdown",
   "metadata": {
    "deletable": false,
    "editable": false,
    "nbgrader": {
     "cell_type": "markdown",
     "checksum": "4797c7177a7333946fa1154f93564d48",
     "grade": false,
     "grade_id": "cell-5a8a233fd251ad76",
     "locked": true,
     "schema_version": 3,
     "solution": false,
     "task": false
    }
   },
   "source": [
    "**Question 3.3** Fill in the Blanks (of the Table):\n",
    "<br> {points: 1}\n",
    "\n",
    "It is often a good idea to try to \"inspect\" your data to see what it looks like before trying to load it into Python. This will help you figure out the right function to call and what arguments to use. When your data are stored as plain text, you can do this easily with Jupyter (or any text editor). \n",
    "\n",
    "Open all the files named `happiness_report...` in the `data` folder with the plain text editor in your working directory (the `worksheet_02` directory) using Jupyter (**Right click the file -> Open With -> Editor**). This will allow you to visualize the files and the organization of your data. Based on your findings, fill in the missing items A-F in the table below. This table will be very useful to refer back to in the coming weeks. \n",
    "\n",
    "*You'll notice that trying to open one of the files gives you an error (`File Load Error ... is not UTF-8 encoded`). This means that this data is not stored as human-readable plain text. For this special file, just fill in the* `read_*` *function entry, the other columns will be left blank.*"
   ]
  },
  {
   "cell_type": "markdown",
   "metadata": {
    "deletable": false,
    "editable": false,
    "nbgrader": {
     "cell_type": "markdown",
     "checksum": "46d9c14d8ab74209d2df98b00f8a8ab1",
     "grade": false,
     "grade_id": "cell-f45eda526a4ab070",
     "locked": true,
     "schema_version": 3,
     "solution": false,
     "task": false
    }
   },
   "source": [
    "|File Name                       | delim      | Header | Metadata | skip               | read_*   |\n",
    "|--------------------------------|------------|--------|----------|--------------------|----------|\n",
    "|`_.csv`                         |`\";\"`, `\",\"`, `\"\\\"`, or `\"tab\"`|`\"yes\"`or `\"no\"`|`\"yes\"`or `\"no\"`|`NA` or # of lines|`pd.read_*`|\n",
    "|`happiness_report.csv`          |,           |**A**     |no        |`NA`                  |`pd.read_csv`  |\n",
    "|`happiness_report_semicolon.csv`|;           |yes     |no        |`NA`                  |**B** |\n",
    "|`happiness_report.tsv`          |**C**         |yes     |no        |`NA`                  |`pd.read_table` or `pd.read_csv`  |\n",
    "|`happiness_report_metadata.csv` |,           |yes     |**D**       |2                   |`pd.read_csv`  |\n",
    "|`happiness_report_no_header.csv`|,           |**E**      |no      |`NA`                  |`pd.read_csv`  |\n",
    "|`happiness_report.xlsx`         |            |        |          |                    |**F**|\n",
    "\n",
    "For the missing items (labelled A to F) in the table above, create an object using the letter and assign it the corresponding missing value.\n",
    "\n",
    "For example: `A = \"yes\"`. The possible options for each column are given in the first row of the table. "
   ]
  },
  {
   "cell_type": "code",
   "execution_count": null,
   "metadata": {
    "deletable": false,
    "nbgrader": {
     "cell_type": "code",
     "checksum": "260a23f836b3dabee6859a44f7c9fea2",
     "grade": false,
     "grade_id": "cell-5351cf56f2b43768",
     "locked": false,
     "schema_version": 3,
     "solution": true,
     "task": false
    }
   },
   "outputs": [],
   "source": [
    "# your code here\n",
    "raise NotImplementedError"
   ]
  },
  {
   "cell_type": "code",
   "execution_count": null,
   "metadata": {
    "deletable": false,
    "editable": false,
    "nbgrader": {
     "cell_type": "code",
     "checksum": "659dd4c0557db5adb1cff198f732cb85",
     "grade": true,
     "grade_id": "cell-aa1c440804c4da54",
     "locked": true,
     "points": 3,
     "schema_version": 3,
     "solution": false,
     "task": false
    }
   },
   "outputs": [],
   "source": [
    "from hashlib import sha1\n",
    "assert sha1(str(type(A)).encode(\"utf-8\")+b\"8d8453df067deb61\").hexdigest() == \"bc58041e65144fb49796c111bf8b1ce986a13bf1\", \"type of A is not str. A should be an str\"\n",
    "assert sha1(str(len(A)).encode(\"utf-8\")+b\"8d8453df067deb61\").hexdigest() == \"038c8de7e93a1e49b41aceaf7fb3dd35dee27878\", \"length of A is not correct\"\n",
    "assert sha1(str(A.lower()).encode(\"utf-8\")+b\"8d8453df067deb61\").hexdigest() == \"ec828d00f164cbcb90239aa37b4051fd4aebbf6f\", \"value of A is not correct\"\n",
    "assert sha1(str(A).encode(\"utf-8\")+b\"8d8453df067deb61\").hexdigest() == \"ec828d00f164cbcb90239aa37b4051fd4aebbf6f\", \"correct string value of A but incorrect case of letters\"\n",
    "\n",
    "assert sha1(str(type(B)).encode(\"utf-8\")+b\"961a817cba741baa\").hexdigest() == \"d3ffda688279027e718ae57b8adc07091e81e21d\", \"type of B is not str. B should be an str\"\n",
    "assert sha1(str(len(B)).encode(\"utf-8\")+b\"961a817cba741baa\").hexdigest() == \"4fad1f6397c8d95693a88af5cce3b87cb1cc73c5\", \"length of B is not correct\"\n",
    "assert sha1(str(B.lower()).encode(\"utf-8\")+b\"961a817cba741baa\").hexdigest() == \"c008336063dfb724ea260a9df8a7d04cdfa32e03\", \"value of B is not correct\"\n",
    "assert sha1(str(B).encode(\"utf-8\")+b\"961a817cba741baa\").hexdigest() == \"c008336063dfb724ea260a9df8a7d04cdfa32e03\", \"correct string value of B but incorrect case of letters\"\n",
    "\n",
    "assert sha1(str(type(C)).encode(\"utf-8\")+b\"90d2b899bf4dcd38\").hexdigest() == \"404deb3f18e8210787760f80108c4033861f3afa\", \"type of C is not str. C should be an str\"\n",
    "assert sha1(str(len(C)).encode(\"utf-8\")+b\"90d2b899bf4dcd38\").hexdigest() == \"841aaab692d02de1139aaba418e4b437b11fa993\", \"length of C is not correct\"\n",
    "assert sha1(str(C.lower()).encode(\"utf-8\")+b\"90d2b899bf4dcd38\").hexdigest() == \"ddb61161e436453b37feea50f647794d1e19a881\", \"value of C is not correct\"\n",
    "assert sha1(str(C).encode(\"utf-8\")+b\"90d2b899bf4dcd38\").hexdigest() == \"ddb61161e436453b37feea50f647794d1e19a881\", \"correct string value of C but incorrect case of letters\"\n",
    "\n",
    "assert sha1(str(type(D)).encode(\"utf-8\")+b\"c48745fac16867dc\").hexdigest() == \"639a01386476a7ea2b7b6748d2bba0c428ed40c3\", \"type of D is not str. D should be an str\"\n",
    "assert sha1(str(len(D)).encode(\"utf-8\")+b\"c48745fac16867dc\").hexdigest() == \"6bb3fdfcd2ac72b6a2f7ced45d473e2f63323f09\", \"length of D is not correct\"\n",
    "assert sha1(str(D.lower()).encode(\"utf-8\")+b\"c48745fac16867dc\").hexdigest() == \"46efe9da7370efc15d1a7ee94f681cb59dca7864\", \"value of D is not correct\"\n",
    "assert sha1(str(D).encode(\"utf-8\")+b\"c48745fac16867dc\").hexdigest() == \"46efe9da7370efc15d1a7ee94f681cb59dca7864\", \"correct string value of D but incorrect case of letters\"\n",
    "\n",
    "assert sha1(str(type(E)).encode(\"utf-8\")+b\"179f2822e182194b\").hexdigest() == \"7c733e2906a5fa3b1421902ba392eda45b515307\", \"type of E is not str. E should be an str\"\n",
    "assert sha1(str(len(E)).encode(\"utf-8\")+b\"179f2822e182194b\").hexdigest() == \"b03772bacbb8b101ecc0ba93aad7cc2d0ef8c07e\", \"length of E is not correct\"\n",
    "assert sha1(str(E.lower()).encode(\"utf-8\")+b\"179f2822e182194b\").hexdigest() == \"e9e9ab58c2d2a899ad248aa2bab82c90cbf662c4\", \"value of E is not correct\"\n",
    "assert sha1(str(E).encode(\"utf-8\")+b\"179f2822e182194b\").hexdigest() == \"e9e9ab58c2d2a899ad248aa2bab82c90cbf662c4\", \"correct string value of E but incorrect case of letters\"\n",
    "\n",
    "assert sha1(str(type(F)).encode(\"utf-8\")+b\"84c14430c43164bf\").hexdigest() == \"86ac6c0fa5cb42c95e9390b9ce796b2f71b2b1cc\", \"type of F is not str. F should be an str\"\n",
    "assert sha1(str(len(F)).encode(\"utf-8\")+b\"84c14430c43164bf\").hexdigest() == \"4a59d4fae3d4f37032e3ee6f592210858ef57259\", \"length of F is not correct\"\n",
    "assert sha1(str(F.lower()).encode(\"utf-8\")+b\"84c14430c43164bf\").hexdigest() == \"822fa2ef734f3a0e9f366ab6ba9e0a5387cf9e19\", \"value of F is not correct\"\n",
    "assert sha1(str(F).encode(\"utf-8\")+b\"84c14430c43164bf\").hexdigest() == \"822fa2ef734f3a0e9f366ab6ba9e0a5387cf9e19\", \"correct string value of F but incorrect case of letters\"\n",
    "\n",
    "print('Success!')"
   ]
  },
  {
   "cell_type": "markdown",
   "metadata": {
    "deletable": false,
    "editable": false,
    "nbgrader": {
     "cell_type": "markdown",
     "checksum": "0288add9bbe67e362860878d4262a9f8",
     "grade": false,
     "grade_id": "cell-2bf3dca10743194a",
     "locked": true,
     "schema_version": 3,
     "solution": false,
     "task": false
    }
   },
   "source": [
    "**Question 3.4** \n",
    "<br> {points: 1}\n",
    "\n",
    "Read the file `happiness_report.csv` in the `data` folder using the shortest relative path. **Hint:** preview the data using Jupyter (as discussed above) so you know which `pd.read_*` function and arguments to use.\n",
    "\n",
    "*Assign the relative path (the string) to an object named* `happiness_report_path`, *and assign the output of the correct* `pd.read_*` *function you call to an object named* `happiness_report`. "
   ]
  },
  {
   "cell_type": "code",
   "execution_count": null,
   "metadata": {
    "deletable": false,
    "nbgrader": {
     "cell_type": "code",
     "checksum": "9086a0933d4bbbd5619314983030ea1c",
     "grade": false,
     "grade_id": "cell-2a9511095cc19de1",
     "locked": false,
     "schema_version": 3,
     "solution": true,
     "task": false
    }
   },
   "outputs": [],
   "source": [
    "# happiness_report_path = \"___\"\n",
    "# ___ = ___(happiness_report_path)\n",
    "\n",
    "# your code here\n",
    "raise NotImplementedError\n",
    "happiness_report.head(10)  #  print the top 10 lines"
   ]
  },
  {
   "cell_type": "code",
   "execution_count": null,
   "metadata": {
    "deletable": false,
    "editable": false,
    "nbgrader": {
     "cell_type": "code",
     "checksum": "f51652bb07fcc5952e9717f0dee34b67",
     "grade": true,
     "grade_id": "cell-266883cbf4d69fc8",
     "locked": true,
     "points": 3,
     "schema_version": 3,
     "solution": false,
     "task": false
    }
   },
   "outputs": [],
   "source": [
    "from hashlib import sha1\n",
    "assert sha1(str(type(happiness_report_path)).encode(\"utf-8\")+b\"4a24230c4240287f\").hexdigest() == \"a05f37b07ebfc2241edf45cd030a34546fb9556e\", \"type of type(happiness_report_path) is not correct\"\n",
    "\n",
    "assert sha1(str(type(happiness_report_path.split(\"/\")[-2:])).encode(\"utf-8\")+b\"13aa205199c74787\").hexdigest() == \"02f72485e2f727cbd9240b5e3ed4d8f1c184cd74\", \"type of happiness_report_path.split(\\\"/\\\")[-2:] is not list. happiness_report_path.split(\\\"/\\\")[-2:] should be a list\"\n",
    "assert sha1(str(len(happiness_report_path.split(\"/\")[-2:])).encode(\"utf-8\")+b\"13aa205199c74787\").hexdigest() == \"a81d29183b5b9c8fd7cf9eefdaa3ed9b1c6295ea\", \"length of happiness_report_path.split(\\\"/\\\")[-2:] is not correct\"\n",
    "assert sha1(str(sorted(map(str, happiness_report_path.split(\"/\")[-2:]))).encode(\"utf-8\")+b\"13aa205199c74787\").hexdigest() == \"0cc19db8b45d1330c9815f3d7000c9d72033e31a\", \"values of happiness_report_path.split(\\\"/\\\")[-2:] are not correct\"\n",
    "assert sha1(str(happiness_report_path.split(\"/\")[-2:]).encode(\"utf-8\")+b\"13aa205199c74787\").hexdigest() == \"0cc19db8b45d1330c9815f3d7000c9d72033e31a\", \"order of elements of happiness_report_path.split(\\\"/\\\")[-2:] is not correct\"\n",
    "\n",
    "assert sha1(str(type(happiness_report)).encode(\"utf-8\")+b\"b3b9f5d5ac0d753c\").hexdigest() == \"ce7d14a7750ec544a31596287a03bfc7336f51f8\", \"type of type(happiness_report) is not correct\"\n",
    "\n",
    "assert sha1(str(type(happiness_report.shape)).encode(\"utf-8\")+b\"8dd8ca42684a5b20\").hexdigest() == \"499d94b7187f36405bbc77ce92623e61494b7b8e\", \"type of happiness_report.shape is not tuple. happiness_report.shape should be a tuple\"\n",
    "assert sha1(str(len(happiness_report.shape)).encode(\"utf-8\")+b\"8dd8ca42684a5b20\").hexdigest() == \"ef7e5966f80586340efee74b27e01cbdc693a4c0\", \"length of happiness_report.shape is not correct\"\n",
    "assert sha1(str(sorted(map(str, happiness_report.shape))).encode(\"utf-8\")+b\"8dd8ca42684a5b20\").hexdigest() == \"439aa60bae5b1b47b8859349c5952ce25308bcea\", \"values of happiness_report.shape are not correct\"\n",
    "assert sha1(str(happiness_report.shape).encode(\"utf-8\")+b\"8dd8ca42684a5b20\").hexdigest() == \"9fcf5c70504cdb870b3dfe5b2d8d3d1eba108364\", \"order of elements of happiness_report.shape is not correct\"\n",
    "\n",
    "assert sha1(str(type(happiness_report.columns.values)).encode(\"utf-8\")+b\"f388e7cfe2ee8830\").hexdigest() == \"4dcdb435268f181faef3c7537c177326da2a037a\", \"type of happiness_report.columns.values is not correct\"\n",
    "assert sha1(str(happiness_report.columns.values).encode(\"utf-8\")+b\"f388e7cfe2ee8830\").hexdigest() == \"6b4874ac45e5cb924738d57707d3254e7bea4ba6\", \"value of happiness_report.columns.values is not correct\"\n",
    "\n",
    "assert sha1(str(type(sum(happiness_report.freedom))).encode(\"utf-8\")+b\"42446b3b0d10a16d\").hexdigest() == \"0b65fcf956ca2f7f5033dd51cbca4a8386cd6db6\", \"type of sum(happiness_report.freedom) is not float. Please make sure it is float and not np.float64, etc. You can cast your value into a float using float()\"\n",
    "assert sha1(str(round(sum(happiness_report.freedom), 2)).encode(\"utf-8\")+b\"42446b3b0d10a16d\").hexdigest() == \"1f4d33521b4ba1d9801fd293650c4e15d8216244\", \"value of sum(happiness_report.freedom) is not correct (rounded to 2 decimal places)\"\n",
    "\n",
    "print('Success!')"
   ]
  },
  {
   "cell_type": "markdown",
   "metadata": {
    "deletable": false,
    "editable": false,
    "nbgrader": {
     "cell_type": "markdown",
     "checksum": "6d1530ba25f0656a03841ecde50244da",
     "grade": false,
     "grade_id": "cell-339c379f6f9f7a50",
     "locked": true,
     "schema_version": 3,
     "solution": false,
     "task": false
    }
   },
   "source": [
    "**Question 3.5** Multiple Choice:\n",
    "<br> {points: 1}\n",
    "\n",
    "If Norway is in \"first place\" based on the happiness score, at what position is Canada?\n",
    "\n",
    "A. 3rd\n",
    "\n",
    "B. 15th\n",
    "\n",
    "C. 7th\n",
    "\n",
    "D. 28th\n",
    "\n",
    "*Hint: create a new cell and run `happiness_report`.* \n",
    "\n",
    "*Assign your answer to an object called `answer3_5`. Make sure your answer is an uppercase letter and is surrounded by quotation marks (e.g. `\"F\"`).* "
   ]
  },
  {
   "cell_type": "code",
   "execution_count": null,
   "metadata": {
    "deletable": false,
    "nbgrader": {
     "cell_type": "code",
     "checksum": "4d72289f41cff20137de291d2dad4d1a",
     "grade": false,
     "grade_id": "cell-2024e97da21549c5",
     "locked": false,
     "schema_version": 3,
     "solution": true,
     "task": false
    }
   },
   "outputs": [],
   "source": [
    "# your code here\n",
    "raise NotImplementedError"
   ]
  },
  {
   "cell_type": "code",
   "execution_count": null,
   "metadata": {
    "deletable": false,
    "editable": false,
    "nbgrader": {
     "cell_type": "code",
     "checksum": "4d92ffca41739bd54a6f8a0cc9645629",
     "grade": true,
     "grade_id": "cell-d780fec46b04aed8",
     "locked": true,
     "points": 3,
     "schema_version": 3,
     "solution": false,
     "task": false
    }
   },
   "outputs": [],
   "source": [
    "from hashlib import sha1\n",
    "assert sha1(str(type(answer3_5)).encode(\"utf-8\")+b\"ba74c18bc87f8dcf\").hexdigest() == \"dfbb5bf3b30eb8228efa71c0e5f0120aa876a054\", \"type of answer3_5 is not str. answer3_5 should be an str\"\n",
    "assert sha1(str(len(answer3_5)).encode(\"utf-8\")+b\"ba74c18bc87f8dcf\").hexdigest() == \"8ad5858985cc930761236785a3a515124ed81cc4\", \"length of answer3_5 is not correct\"\n",
    "assert sha1(str(answer3_5.lower()).encode(\"utf-8\")+b\"ba74c18bc87f8dcf\").hexdigest() == \"3a35efd009a79f54a2bcebd3905743406f2774a4\", \"value of answer3_5 is not correct\"\n",
    "assert sha1(str(answer3_5).encode(\"utf-8\")+b\"ba74c18bc87f8dcf\").hexdigest() == \"a569149f937d87b848d70ef0442d4a5505d3f747\", \"correct string value of answer3_5 but incorrect case of letters\"\n",
    "\n",
    "print('Success!')"
   ]
  },
  {
   "cell_type": "markdown",
   "metadata": {
    "deletable": false,
    "editable": false,
    "nbgrader": {
     "cell_type": "markdown",
     "checksum": "455262eb678aec49a02df860777102df",
     "grade": false,
     "grade_id": "cell-260c9f66f7b3dad7",
     "locked": true,
     "schema_version": 3,
     "solution": false,
     "task": false
    }
   },
   "source": [
    "**Question 3.6.1**\n",
    "<br> {points: 1}\n",
    "\n",
    "For each question in the ranges 3.6.1 to 3.6.5 and 3.7.1 to 3.7.2, fill in the blank (`___`) in the code given and remove the `raise NotImplementedError` for the questions where you provide an answer. Refer to your table above and don't be afraid to ask for help. Remember you can use `?` help operator to access documentation for a function (e.g. `?pd.read_csv`).\n",
    "\n",
    "Read in the file `happiness_report_semicolon.csv` using `pd.read_csv` and name it `happy_semi_df`"
   ]
  },
  {
   "cell_type": "code",
   "execution_count": null,
   "metadata": {
    "deletable": false,
    "nbgrader": {
     "cell_type": "code",
     "checksum": "3b7938c5c2226909f1059215fe170292",
     "grade": false,
     "grade_id": "cell-0d6b7f409728cc19",
     "locked": false,
     "schema_version": 3,
     "solution": true,
     "task": false
    }
   },
   "outputs": [],
   "source": [
    "# ___ = pd.read_csv(\"data/___\", sep = \"___\")\n",
    "\n",
    "# your code here\n",
    "raise NotImplementedError\n",
    "happy_semi_df"
   ]
  },
  {
   "cell_type": "code",
   "execution_count": null,
   "metadata": {
    "deletable": false,
    "editable": false,
    "nbgrader": {
     "cell_type": "code",
     "checksum": "9c0eea4df384b7632c6e77ac6a51cf27",
     "grade": true,
     "grade_id": "cell-6f0e14455ddb386f",
     "locked": true,
     "points": 3,
     "schema_version": 3,
     "solution": false,
     "task": false
    }
   },
   "outputs": [],
   "source": [
    "from hashlib import sha1\n",
    "assert sha1(str(type(happy_semi_df)).encode(\"utf-8\")+b\"c5439069c6152346\").hexdigest() == \"d5c471e6e4311424d7b17e3a1e6e128fa8f65292\", \"type of type(happy_semi_df) is not correct\"\n",
    "\n",
    "assert sha1(str(type(happy_semi_df.shape)).encode(\"utf-8\")+b\"5b14816ee0dd4e51\").hexdigest() == \"83aefe235a8e2e7282556719571ab039d0a9b425\", \"type of happy_semi_df.shape is not tuple. happy_semi_df.shape should be a tuple\"\n",
    "assert sha1(str(len(happy_semi_df.shape)).encode(\"utf-8\")+b\"5b14816ee0dd4e51\").hexdigest() == \"a3fd4c3042fd34b9a16b0499a45039d8f8562f92\", \"length of happy_semi_df.shape is not correct\"\n",
    "assert sha1(str(sorted(map(str, happy_semi_df.shape))).encode(\"utf-8\")+b\"5b14816ee0dd4e51\").hexdigest() == \"9bc16856f7f101812b76321f8b9e37e0a8a62f81\", \"values of happy_semi_df.shape are not correct\"\n",
    "assert sha1(str(happy_semi_df.shape).encode(\"utf-8\")+b\"5b14816ee0dd4e51\").hexdigest() == \"c8fb79d5a20e7b752f979204bbb94a38f2f97353\", \"order of elements of happy_semi_df.shape is not correct\"\n",
    "\n",
    "assert sha1(str(type(happy_semi_df.columns.values)).encode(\"utf-8\")+b\"a8d48252274ec278\").hexdigest() == \"958867212e130e2718104b0c8cc09117df757ac1\", \"type of happy_semi_df.columns.values is not correct\"\n",
    "assert sha1(str(happy_semi_df.columns.values).encode(\"utf-8\")+b\"a8d48252274ec278\").hexdigest() == \"11d363210a6aa4fdbf20d46dd5751e61e04a2258\", \"value of happy_semi_df.columns.values is not correct\"\n",
    "\n",
    "assert sha1(str(type(sum(np.array([st.replace(\",\", \".\") for st in happy_semi_df.freedom.astype(str)]).astype(float)))).encode(\"utf-8\")+b\"ad47262166de528d\").hexdigest() == \"5c1ff1e729a12d2c4b05d74e5ac9d70cca27e5e3\", \"type of sum(np.array([st.replace(\\\",\\\", \\\".\\\") for st in happy_semi_df.freedom.astype(str)]).astype(float)) is not correct\"\n",
    "assert sha1(str(sum(np.array([st.replace(\",\", \".\") for st in happy_semi_df.freedom.astype(str)]).astype(float))).encode(\"utf-8\")+b\"ad47262166de528d\").hexdigest() == \"bd718f4c4ee90329ac86bc378c9e3eac032d9046\", \"value of sum(np.array([st.replace(\\\",\\\", \\\".\\\") for st in happy_semi_df.freedom.astype(str)]).astype(float)) is not correct\"\n",
    "\n",
    "print('Success!')"
   ]
  },
  {
   "cell_type": "markdown",
   "metadata": {
    "deletable": false,
    "editable": false,
    "nbgrader": {
     "cell_type": "markdown",
     "checksum": "d7d71edef2b0f9eb3efadc94b442a0fe",
     "grade": false,
     "grade_id": "cell-331cf74e531fdba9",
     "locked": true,
     "schema_version": 3,
     "solution": false,
     "task": false
    }
   },
   "source": [
    "**Question 3.6.2**\n",
    "<br> {points: 1}\n",
    "\n",
    "Read in the file `happiness_report_semicolon.csv` again, but this time use a different `read_*` function than `pd.read_csv`.  **Hint:** take a look at the list of `read_*` functions at the top of this worksheet under the learning goals section. Name the data frame `happy_semi_df2`."
   ]
  },
  {
   "cell_type": "code",
   "execution_count": null,
   "metadata": {
    "deletable": false,
    "nbgrader": {
     "cell_type": "code",
     "checksum": "cca5702317fc14958df4de7a52c7104c",
     "grade": false,
     "grade_id": "cell-9edc42f2fcc7c84b",
     "locked": false,
     "schema_version": 3,
     "solution": true,
     "task": false
    }
   },
   "outputs": [],
   "source": [
    "# ___ = ___(\"___\", sep=\"___\")\n",
    "\n",
    "# your code here\n",
    "raise NotImplementedError\n",
    "happy_semi_df2"
   ]
  },
  {
   "cell_type": "code",
   "execution_count": null,
   "metadata": {
    "deletable": false,
    "editable": false,
    "nbgrader": {
     "cell_type": "code",
     "checksum": "a5560588fe3133904db22b52e6756441",
     "grade": true,
     "grade_id": "cell-c707e8088f55e65a",
     "locked": true,
     "points": 3,
     "schema_version": 3,
     "solution": false,
     "task": false
    }
   },
   "outputs": [],
   "source": [
    "from hashlib import sha1\n",
    "assert sha1(str(type(happy_semi_df2)).encode(\"utf-8\")+b\"f890a5f73043dd85\").hexdigest() == \"2a510017a3828adeab5ad78d30b04e9afdce714d\", \"type of type(happy_semi_df2) is not correct\"\n",
    "\n",
    "assert sha1(str(type(happy_semi_df2.shape)).encode(\"utf-8\")+b\"097979dd5d606629\").hexdigest() == \"52510156f13230049032a8f984d053ccfd1c5932\", \"type of happy_semi_df2.shape is not tuple. happy_semi_df2.shape should be a tuple\"\n",
    "assert sha1(str(len(happy_semi_df2.shape)).encode(\"utf-8\")+b\"097979dd5d606629\").hexdigest() == \"5c3b4f64718886996e8cf2a12f4d5a21d3b15212\", \"length of happy_semi_df2.shape is not correct\"\n",
    "assert sha1(str(sorted(map(str, happy_semi_df2.shape))).encode(\"utf-8\")+b\"097979dd5d606629\").hexdigest() == \"589cfc5e8bc9763b201df0fed50ed24577314e98\", \"values of happy_semi_df2.shape are not correct\"\n",
    "assert sha1(str(happy_semi_df2.shape).encode(\"utf-8\")+b\"097979dd5d606629\").hexdigest() == \"29d652a45e9a95314d3e505d52c2b1901b17b8ab\", \"order of elements of happy_semi_df2.shape is not correct\"\n",
    "\n",
    "assert sha1(str(type(happy_semi_df2.columns.values)).encode(\"utf-8\")+b\"82625bfd721ab639\").hexdigest() == \"bfee94c14fa9911b672a04d61ad3a6bd92b378e6\", \"type of happy_semi_df2.columns.values is not correct\"\n",
    "assert sha1(str(happy_semi_df2.columns.values).encode(\"utf-8\")+b\"82625bfd721ab639\").hexdigest() == \"56e02d31f70ca8d5a20612e202e22c8af9788d44\", \"value of happy_semi_df2.columns.values is not correct\"\n",
    "\n",
    "assert sha1(str(type(sum(np.array([st.replace(\",\", \".\") for st in happy_semi_df2.happiness_score.astype(str)]).astype(float)))).encode(\"utf-8\")+b\"fa8de9be37f716c0\").hexdigest() == \"c909c4c73540b737b07b406a5d1557e47f84eba4\", \"type of sum(np.array([st.replace(\\\",\\\", \\\".\\\") for st in happy_semi_df2.happiness_score.astype(str)]).astype(float)) is not correct\"\n",
    "assert sha1(str(sum(np.array([st.replace(\",\", \".\") for st in happy_semi_df2.happiness_score.astype(str)]).astype(float))).encode(\"utf-8\")+b\"fa8de9be37f716c0\").hexdigest() == \"a6d28e600269f163eb9d17c50245d59717f8797c\", \"value of sum(np.array([st.replace(\\\",\\\", \\\".\\\") for st in happy_semi_df2.happiness_score.astype(str)]).astype(float)) is not correct\"\n",
    "\n",
    "print('Success!')"
   ]
  },
  {
   "cell_type": "markdown",
   "metadata": {
    "deletable": false,
    "editable": false,
    "nbgrader": {
     "cell_type": "markdown",
     "checksum": "c35f2157a129cb52bca22c0a3b0e7597",
     "grade": false,
     "grade_id": "cell-daeb8b069b857cab",
     "locked": true,
     "schema_version": 3,
     "solution": false,
     "task": false
    }
   },
   "source": [
    "**Question 3.6.3**\n",
    "<br> {points: 1}\n",
    "\n",
    "Read in the file `happiness_report.tsv` using the appropriate `read_*` function and name it `happy_tsv`."
   ]
  },
  {
   "cell_type": "code",
   "execution_count": null,
   "metadata": {
    "deletable": false,
    "nbgrader": {
     "cell_type": "code",
     "checksum": "622756da4ce98f9fe8a4aeaf9681c82e",
     "grade": false,
     "grade_id": "cell-95b5bac9fb43253f",
     "locked": false,
     "schema_version": 3,
     "solution": true,
     "task": false
    }
   },
   "outputs": [],
   "source": [
    "# ___ = ___(\"___\")\n",
    "\n",
    "# your code here\n",
    "raise NotImplementedError\n",
    "happy_tsv"
   ]
  },
  {
   "cell_type": "code",
   "execution_count": null,
   "metadata": {
    "deletable": false,
    "editable": false,
    "nbgrader": {
     "cell_type": "code",
     "checksum": "813d1cd71427250d299247613cbeaed2",
     "grade": true,
     "grade_id": "cell-bdb550f60c65cdb1",
     "locked": true,
     "points": 3,
     "schema_version": 3,
     "solution": false,
     "task": false
    }
   },
   "outputs": [],
   "source": [
    "from hashlib import sha1\n",
    "assert sha1(str(type(happy_tsv)).encode(\"utf-8\")+b\"4214194ce6c566e3\").hexdigest() == \"f18b8debff62c3a1c55a500d18287206f5af01e6\", \"type of type(happy_tsv) is not correct\"\n",
    "\n",
    "assert sha1(str(type(happy_tsv.shape)).encode(\"utf-8\")+b\"769e5e4c1a96ca2a\").hexdigest() == \"f79c82467165a29ccd037ed2307773bad2e33b7f\", \"type of happy_tsv.shape is not tuple. happy_tsv.shape should be a tuple\"\n",
    "assert sha1(str(len(happy_tsv.shape)).encode(\"utf-8\")+b\"769e5e4c1a96ca2a\").hexdigest() == \"a7c79d533c5c7d99df90c0e33dc1fa2ea143d048\", \"length of happy_tsv.shape is not correct\"\n",
    "assert sha1(str(sorted(map(str, happy_tsv.shape))).encode(\"utf-8\")+b\"769e5e4c1a96ca2a\").hexdigest() == \"f3d5c1f28714d748e5cb1796e82da39f693372f7\", \"values of happy_tsv.shape are not correct\"\n",
    "assert sha1(str(happy_tsv.shape).encode(\"utf-8\")+b\"769e5e4c1a96ca2a\").hexdigest() == \"f379b971636ab07879c445dbcecd4bc38c971a08\", \"order of elements of happy_tsv.shape is not correct\"\n",
    "\n",
    "assert sha1(str(type(happy_tsv.columns.values)).encode(\"utf-8\")+b\"ad27a47f99924c06\").hexdigest() == \"cd5b9f4c5553f3317d91a62489ec920e725578cd\", \"type of happy_tsv.columns.values is not correct\"\n",
    "assert sha1(str(happy_tsv.columns.values).encode(\"utf-8\")+b\"ad27a47f99924c06\").hexdigest() == \"9c61cb1718f3eec0b328225982d981190a06fcdd\", \"value of happy_tsv.columns.values is not correct\"\n",
    "\n",
    "assert sha1(str(type(sum(happy_tsv.freedom))).encode(\"utf-8\")+b\"3884c9f04238f135\").hexdigest() == \"98b9276ff162e9fd3f31ecacd2c33d2989719b4b\", \"type of sum(happy_tsv.freedom) is not float. Please make sure it is float and not np.float64, etc. You can cast your value into a float using float()\"\n",
    "assert sha1(str(round(sum(happy_tsv.freedom), 2)).encode(\"utf-8\")+b\"3884c9f04238f135\").hexdigest() == \"90073e94149647e4b371fff69ad1b31fd0a38ad2\", \"value of sum(happy_tsv.freedom) is not correct (rounded to 2 decimal places)\"\n",
    "\n",
    "print('Success!')"
   ]
  },
  {
   "cell_type": "markdown",
   "metadata": {
    "deletable": false,
    "editable": false,
    "nbgrader": {
     "cell_type": "markdown",
     "checksum": "f2143da31921caed4340c3822adfcace",
     "grade": false,
     "grade_id": "cell-6dfce98f770d4afe",
     "locked": true,
     "schema_version": 3,
     "solution": false,
     "task": false
    }
   },
   "source": [
    "**Question 3.6.4**\n",
    "<br> {points: 1}\n",
    "\n",
    "Read in the file `happiness_report_metadata.csv` using the appropriate `read_*` function and name it `happy_metadata`."
   ]
  },
  {
   "cell_type": "code",
   "execution_count": null,
   "metadata": {
    "deletable": false,
    "nbgrader": {
     "cell_type": "code",
     "checksum": "649702e81690c7b8e2f0ed53b239cdd1",
     "grade": false,
     "grade_id": "cell-df90d3d0614c6e49",
     "locked": false,
     "schema_version": 3,
     "solution": true,
     "task": false
    }
   },
   "outputs": [],
   "source": [
    "# ___ = ___(\n",
    "#     \"data/happiness_report_metadata.csv\", skiprows=___\n",
    "# )\n",
    "\n",
    "# your code here\n",
    "raise NotImplementedError\n",
    "happy_metadata"
   ]
  },
  {
   "cell_type": "code",
   "execution_count": null,
   "metadata": {
    "deletable": false,
    "editable": false,
    "nbgrader": {
     "cell_type": "code",
     "checksum": "0e0a6e362d2d74c5afcbba340f0fa721",
     "grade": true,
     "grade_id": "cell-ed89fc8570b1ff03",
     "locked": true,
     "points": 3,
     "schema_version": 3,
     "solution": false,
     "task": false
    }
   },
   "outputs": [],
   "source": [
    "from hashlib import sha1\n",
    "assert sha1(str(type(happy_metadata)).encode(\"utf-8\")+b\"41958152305d78ee\").hexdigest() == \"712fe32aa6383889addb2ca6daa4c64c2f8e5692\", \"type of type(happy_metadata) is not correct\"\n",
    "\n",
    "assert sha1(str(type(happy_metadata.shape)).encode(\"utf-8\")+b\"f829c2d920b131ed\").hexdigest() == \"fff5661b627a52022361db652d67f69c59fb380e\", \"type of happy_metadata.shape is not tuple. happy_metadata.shape should be a tuple\"\n",
    "assert sha1(str(len(happy_metadata.shape)).encode(\"utf-8\")+b\"f829c2d920b131ed\").hexdigest() == \"e9d9ce90ac8d0c68bd2c32d336acd2415b4cbeb5\", \"length of happy_metadata.shape is not correct\"\n",
    "assert sha1(str(sorted(map(str, happy_metadata.shape))).encode(\"utf-8\")+b\"f829c2d920b131ed\").hexdigest() == \"94dc7ce074cb3c36d180fefa1ac4625c382825d2\", \"values of happy_metadata.shape are not correct\"\n",
    "assert sha1(str(happy_metadata.shape).encode(\"utf-8\")+b\"f829c2d920b131ed\").hexdigest() == \"a6ec676c3343d9b4b4703784400bee5802a39b49\", \"order of elements of happy_metadata.shape is not correct\"\n",
    "\n",
    "assert sha1(str(type(happy_metadata.columns.values)).encode(\"utf-8\")+b\"aa422dc521dee60a\").hexdigest() == \"49670b61329cef41ee3c03cffb49301130f33915\", \"type of happy_metadata.columns.values is not correct\"\n",
    "assert sha1(str(happy_metadata.columns.values).encode(\"utf-8\")+b\"aa422dc521dee60a\").hexdigest() == \"35db515b3a3b90c97d760928a6064151b0786036\", \"value of happy_metadata.columns.values is not correct\"\n",
    "\n",
    "assert sha1(str(type(sum(happy_metadata.freedom))).encode(\"utf-8\")+b\"99ec1415acbafd4c\").hexdigest() == \"9f02755014a5eb819036d4355966e8cd6ed6597f\", \"type of sum(happy_metadata.freedom) is not float. Please make sure it is float and not np.float64, etc. You can cast your value into a float using float()\"\n",
    "assert sha1(str(round(sum(happy_metadata.freedom), 2)).encode(\"utf-8\")+b\"99ec1415acbafd4c\").hexdigest() == \"9e861f992ed2c5f1607c63d01fc71a488a43063d\", \"value of sum(happy_metadata.freedom) is not correct (rounded to 2 decimal places)\"\n",
    "\n",
    "print('Success!')"
   ]
  },
  {
   "cell_type": "markdown",
   "metadata": {
    "deletable": false,
    "editable": false,
    "nbgrader": {
     "cell_type": "markdown",
     "checksum": "9188755b2537cedb93cba84ffce0f222",
     "grade": false,
     "grade_id": "cell-d5c62572e23a1854",
     "locked": true,
     "schema_version": 3,
     "solution": false,
     "task": false
    }
   },
   "source": [
    "**Question 3.6.5**\n",
    "<br> {points: 1}\n",
    "\n",
    "Read in the file `happiness_report_no_header.csv` using the appropriate `read_*` function and name it `happy_header`. \n",
    "Note: If the argument `names` is a list, the values will be used as the names of the columns."
   ]
  },
  {
   "cell_type": "code",
   "execution_count": null,
   "metadata": {
    "deletable": false,
    "nbgrader": {
     "cell_type": "code",
     "checksum": "f6c4774dd295ae446d0b31bb7cfcd4a1",
     "grade": false,
     "grade_id": "cell-f3e8559ecb065da0",
     "locked": false,
     "schema_version": 3,
     "solution": true,
     "task": false
    }
   },
   "outputs": [],
   "source": [
    "# ___ = ___(\n",
    "#     \"___\",\n",
    "#     names=[\n",
    "#         \"country\",\n",
    "#         \"happiness_score\",\n",
    "#         \"GDP_per_capita\",\n",
    "#         \"life_expectancy\",\n",
    "#         \"freedom\",\n",
    "#     ],\n",
    "# )\n",
    "\n",
    "# your code here\n",
    "raise NotImplementedError\n",
    "happy_header"
   ]
  },
  {
   "cell_type": "code",
   "execution_count": null,
   "metadata": {
    "deletable": false,
    "editable": false,
    "nbgrader": {
     "cell_type": "code",
     "checksum": "5b9cc268e0b32dd8c5f69827aa54611f",
     "grade": true,
     "grade_id": "cell-f56c16878a516d14",
     "locked": true,
     "points": 3,
     "schema_version": 3,
     "solution": false,
     "task": false
    }
   },
   "outputs": [],
   "source": [
    "from hashlib import sha1\n",
    "assert sha1(str(type(happy_header)).encode(\"utf-8\")+b\"2ce3b074791ec9c2\").hexdigest() == \"626e1ca7fe8298e8eaf11d79c13fe105c4d8dfa8\", \"type of type(happy_header) is not correct\"\n",
    "\n",
    "assert sha1(str(type(happy_header.shape)).encode(\"utf-8\")+b\"f0a3e494d22b36a3\").hexdigest() == \"5c7f865829a7833eafa950f1a4f6f5dd31ab7182\", \"type of happy_header.shape is not tuple. happy_header.shape should be a tuple\"\n",
    "assert sha1(str(len(happy_header.shape)).encode(\"utf-8\")+b\"f0a3e494d22b36a3\").hexdigest() == \"56d160a3e75ab513dfbdfa0988b3fa32979de0c0\", \"length of happy_header.shape is not correct\"\n",
    "assert sha1(str(sorted(map(str, happy_header.shape))).encode(\"utf-8\")+b\"f0a3e494d22b36a3\").hexdigest() == \"3f9831df3a5af4b4633410cf137780453d5c9c27\", \"values of happy_header.shape are not correct\"\n",
    "assert sha1(str(happy_header.shape).encode(\"utf-8\")+b\"f0a3e494d22b36a3\").hexdigest() == \"f08dee877f05cd1f9efec0208c918db51b417f6c\", \"order of elements of happy_header.shape is not correct\"\n",
    "\n",
    "assert sha1(str(type(happy_header.columns.values)).encode(\"utf-8\")+b\"4ae647a1df794ad8\").hexdigest() == \"61f02188a9496a05ff5166e86f055c56902b7d31\", \"type of happy_header.columns.values is not correct\"\n",
    "assert sha1(str(happy_header.columns.values).encode(\"utf-8\")+b\"4ae647a1df794ad8\").hexdigest() == \"94e1b0bd5a1c51fd3914be69d09d4e5b1d60ce37\", \"value of happy_header.columns.values is not correct\"\n",
    "\n",
    "assert sha1(str(type(sum(happy_header.freedom))).encode(\"utf-8\")+b\"0d932d9c460fe012\").hexdigest() == \"88120d3117e03c6ffa33566d9569875345b51870\", \"type of sum(happy_header.freedom) is not float. Please make sure it is float and not np.float64, etc. You can cast your value into a float using float()\"\n",
    "assert sha1(str(round(sum(happy_header.freedom), 2)).encode(\"utf-8\")+b\"0d932d9c460fe012\").hexdigest() == \"3e06dc1f3e053b06fa1639226ec4f03dcb0381b8\", \"value of sum(happy_header.freedom) is not correct (rounded to 2 decimal places)\"\n",
    "\n",
    "print('Success!')"
   ]
  },
  {
   "cell_type": "markdown",
   "metadata": {
    "deletable": false,
    "editable": false,
    "nbgrader": {
     "cell_type": "markdown",
     "checksum": "945f5437f99d8fd8eed6fd245e00d8f8",
     "grade": false,
     "grade_id": "cell-4050684fb738520a",
     "locked": true,
     "schema_version": 3,
     "solution": false,
     "task": false
    }
   },
   "source": [
    "**Question 3.7**\n",
    "<br> {points: 1}\n",
    "\n",
    "Earlier when you tried to open `happiness_report.xlsx` in Jupyter, you received an error message `(File Load Error ... is not UTF-8 encoded)`. This happens because Excel spreadsheet files are not stored in plain text, and so Jupyter can't open them with its default text viewing program. This makes them a bit harder to inspect before trying to open in `Python`.\n",
    "\n",
    "To inspect the data, we will just try to load `happiness_report.xlsx` using the most basic form of the appropriate `read_*` function, passing only the filename as an argument. Assign the output to a variable called `happy_xlsx`.\n",
    "\n",
    "*Note: you can also try to examine `.xlsx` files with Microsoft Excel or Google Sheets before loading into Python.*"
   ]
  },
  {
   "cell_type": "code",
   "execution_count": null,
   "metadata": {
    "deletable": false,
    "nbgrader": {
     "cell_type": "code",
     "checksum": "72bd86dde14e18f7f1d94dc752b9a20c",
     "grade": false,
     "grade_id": "cell-9c2d94b7e4040d98",
     "locked": false,
     "schema_version": 3,
     "solution": true,
     "task": false
    }
   },
   "outputs": [],
   "source": [
    "# ___ = ___(\"___\")\n",
    "\n",
    "# your code here\n",
    "raise NotImplementedError\n",
    "happy_xlsx"
   ]
  },
  {
   "cell_type": "code",
   "execution_count": null,
   "metadata": {
    "deletable": false,
    "editable": false,
    "nbgrader": {
     "cell_type": "code",
     "checksum": "fb4afb708c37cbe56b3b8e04de7524b8",
     "grade": true,
     "grade_id": "cell-79c203e0b46e0a51",
     "locked": true,
     "points": 3,
     "schema_version": 3,
     "solution": false,
     "task": false
    }
   },
   "outputs": [],
   "source": [
    "from hashlib import sha1\n",
    "assert sha1(str(type(happy_xlsx)).encode(\"utf-8\")+b\"4cedd894affc8bdb\").hexdigest() == \"2c9ad5c3c61bf434c2a41ee81935634a13225d21\", \"type of type(happy_xlsx) is not correct\"\n",
    "\n",
    "assert sha1(str(type(happy_xlsx.shape)).encode(\"utf-8\")+b\"b17d2573cd6bcd7e\").hexdigest() == \"baea4983914ee97a51d92dc35aa1a0af4d29c4d2\", \"type of happy_xlsx.shape is not tuple. happy_xlsx.shape should be a tuple\"\n",
    "assert sha1(str(len(happy_xlsx.shape)).encode(\"utf-8\")+b\"b17d2573cd6bcd7e\").hexdigest() == \"853a77003b54349bc9943823bee6fbe9f613c4a5\", \"length of happy_xlsx.shape is not correct\"\n",
    "assert sha1(str(sorted(map(str, happy_xlsx.shape))).encode(\"utf-8\")+b\"b17d2573cd6bcd7e\").hexdigest() == \"66a677b650fc069d51d5701f0502417de943cf09\", \"values of happy_xlsx.shape are not correct\"\n",
    "assert sha1(str(happy_xlsx.shape).encode(\"utf-8\")+b\"b17d2573cd6bcd7e\").hexdigest() == \"949d6cc5f4c4dfa10d032fd58da89479a2510e71\", \"order of elements of happy_xlsx.shape is not correct\"\n",
    "\n",
    "assert sha1(str(type(happy_xlsx.columns.values)).encode(\"utf-8\")+b\"61892f997cbe49c5\").hexdigest() == \"d24a3dc2d6c223b584e787d65a31818622e643db\", \"type of happy_xlsx.columns.values is not correct\"\n",
    "assert sha1(str(happy_xlsx.columns.values).encode(\"utf-8\")+b\"61892f997cbe49c5\").hexdigest() == \"fe45baa3bd8bef2f180cf1234c2447d3e80781f9\", \"value of happy_xlsx.columns.values is not correct\"\n",
    "\n",
    "assert sha1(str(type(sum(happy_xlsx.freedom))).encode(\"utf-8\")+b\"cc5b5aef9ed392bd\").hexdigest() == \"a81e9d09f563bc0e8275266a44055f6a8f0f0d13\", \"type of sum(happy_xlsx.freedom) is not float. Please make sure it is float and not np.float64, etc. You can cast your value into a float using float()\"\n",
    "assert sha1(str(round(sum(happy_xlsx.freedom), 2)).encode(\"utf-8\")+b\"cc5b5aef9ed392bd\").hexdigest() == \"3eefd526b6c7143c5c7ea5616c837d48dcc3876d\", \"value of sum(happy_xlsx.freedom) is not correct (rounded to 2 decimal places)\"\n",
    "\n",
    "print('Success!')"
   ]
  },
  {
   "cell_type": "markdown",
   "metadata": {
    "deletable": false,
    "editable": false,
    "nbgrader": {
     "cell_type": "markdown",
     "checksum": "c299fcba078e6e4f161308aa39a637b6",
     "grade": false,
     "grade_id": "cell-c3d1de78c3cb2d90",
     "locked": true,
     "schema_version": 3,
     "solution": false,
     "task": false
    }
   },
   "source": [
    "**Question 3.8** \n",
    "<br> {points: 1}\n",
    "\n",
    "Opening the data on a text editor showed some clear differences. Do all the data sets look the same once reading them on your Python notebook (`\"yes\"` or `\"no\"`)? \n",
    " \n",
    "*Assign your answer to an object called `answer3_8`. Make sure your answer is in lowercase and is surrounded by quotation marks (e.g. `\"yes\"` or `\"no\"`).* "
   ]
  },
  {
   "cell_type": "code",
   "execution_count": null,
   "metadata": {
    "deletable": false,
    "nbgrader": {
     "cell_type": "code",
     "checksum": "22181ecc1415c11f70f9bf1c6eda205e",
     "grade": false,
     "grade_id": "cell-fa296337c8c6c4ff",
     "locked": false,
     "schema_version": 3,
     "solution": true,
     "task": false
    }
   },
   "outputs": [],
   "source": [
    "# your code here\n",
    "raise NotImplementedError"
   ]
  },
  {
   "cell_type": "code",
   "execution_count": null,
   "metadata": {
    "deletable": false,
    "editable": false,
    "nbgrader": {
     "cell_type": "code",
     "checksum": "61f38f8c31c2b405f289f6353455fb6e",
     "grade": true,
     "grade_id": "cell-0b8300d53191a02e",
     "locked": true,
     "points": 0,
     "schema_version": 3,
     "solution": false,
     "task": false
    }
   },
   "outputs": [],
   "source": [
    "from hashlib import sha1\n",
    "assert sha1(str(type(answer3_8)).encode(\"utf-8\")+b\"a595bd1ead30fd18\").hexdigest() == \"80b772b25bd31633b4377b9fa69ae16383d710ce\", \"type of answer3_8 is not str. answer3_8 should be an str\"\n",
    "assert sha1(str(len(answer3_8)).encode(\"utf-8\")+b\"a595bd1ead30fd18\").hexdigest() == \"ec4628f363c211a297dc9b641a7223385ccd275e\", \"length of answer3_8 is not correct\"\n",
    "assert sha1(str(answer3_8.lower()).encode(\"utf-8\")+b\"a595bd1ead30fd18\").hexdigest() == \"324aa6b649414fc5831acc0995c2c3704d0502ce\", \"value of answer3_8 is not correct\"\n",
    "assert sha1(str(answer3_8).encode(\"utf-8\")+b\"a595bd1ead30fd18\").hexdigest() == \"324aa6b649414fc5831acc0995c2c3704d0502ce\", \"correct string value of answer3_8 but incorrect case of letters\"\n",
    "\n",
    "print('Success!')"
   ]
  },
  {
   "cell_type": "markdown",
   "metadata": {
    "deletable": false,
    "editable": false,
    "nbgrader": {
     "cell_type": "markdown",
     "checksum": "e703fb4c8ef043bb03d5beef063a25d8",
     "grade": false,
     "grade_id": "cell-884c1bd38cf56aaf",
     "locked": true,
     "schema_version": 3,
     "solution": false,
     "task": false
    }
   },
   "source": [
    "**Question 3.9** \n",
    "<br> {points: 1}\n",
    "\n",
    "Using the `happy_header` data set that you read earlier, plot `life_expectancy` vs. `GDP_per_capita`. Note that the statement \"plot A vs. B\" usually means to plot A on the y-axis, and B on the x-axis. Be sure to give your axes human-readable titles.\n",
    "\n",
    "*Assign your answer to an object called `header_plot`.* "
   ]
  },
  {
   "cell_type": "code",
   "execution_count": null,
   "metadata": {
    "deletable": false,
    "nbgrader": {
     "cell_type": "code",
     "checksum": "bc6c138407c7017b81a7fce2f571384a",
     "grade": false,
     "grade_id": "cell-1789a92984f2c9fb",
     "locked": false,
     "schema_version": 3,
     "solution": true,
     "task": false
    }
   },
   "outputs": [],
   "source": [
    "# your code here\n",
    "raise NotImplementedError\n",
    "header_plot"
   ]
  },
  {
   "cell_type": "code",
   "execution_count": null,
   "metadata": {
    "deletable": false,
    "editable": false,
    "nbgrader": {
     "cell_type": "code",
     "checksum": "3a335838cb738160efe2bec2687ff7fc",
     "grade": true,
     "grade_id": "cell-56ebd948b3afe4ab",
     "locked": true,
     "points": 1,
     "schema_version": 3,
     "solution": false,
     "task": false
    }
   },
   "outputs": [],
   "source": [
    "from hashlib import sha1\n",
    "assert sha1(str(type(header_plot.encoding.x['shorthand'])).encode(\"utf-8\")+b\"06320a9b9616a663\").hexdigest() == \"908a5c7d1c105f0ad4a2c10e3788f3f7b18f07ba\", \"type of header_plot.encoding.x['shorthand'] is not str. header_plot.encoding.x['shorthand'] should be an str\"\n",
    "assert sha1(str(len(header_plot.encoding.x['shorthand'])).encode(\"utf-8\")+b\"06320a9b9616a663\").hexdigest() == \"88bc9973242bbbd908dfbc5842d672bbc31e6cf8\", \"length of header_plot.encoding.x['shorthand'] is not correct\"\n",
    "assert sha1(str(header_plot.encoding.x['shorthand'].lower()).encode(\"utf-8\")+b\"06320a9b9616a663\").hexdigest() == \"4264055bde5859f4524c3cd67a2208666f089fcc\", \"value of header_plot.encoding.x['shorthand'] is not correct\"\n",
    "assert sha1(str(header_plot.encoding.x['shorthand']).encode(\"utf-8\")+b\"06320a9b9616a663\").hexdigest() == \"4cae9a0f4e3f7c0fb7b63191acd6e077d8b6b105\", \"correct string value of header_plot.encoding.x['shorthand'] but incorrect case of letters\"\n",
    "\n",
    "assert sha1(str(type(header_plot.encoding.y['shorthand'])).encode(\"utf-8\")+b\"a281f413be4bd7f0\").hexdigest() == \"22ed7453563941f92cbee9ef5d2d1551418df5fa\", \"type of header_plot.encoding.y['shorthand'] is not str. header_plot.encoding.y['shorthand'] should be an str\"\n",
    "assert sha1(str(len(header_plot.encoding.y['shorthand'])).encode(\"utf-8\")+b\"a281f413be4bd7f0\").hexdigest() == \"7ad3534490c7b071f9254f67f982e778122f41df\", \"length of header_plot.encoding.y['shorthand'] is not correct\"\n",
    "assert sha1(str(header_plot.encoding.y['shorthand'].lower()).encode(\"utf-8\")+b\"a281f413be4bd7f0\").hexdigest() == \"73d542d2fff1c8de03872a6da95ea3816e7925de\", \"value of header_plot.encoding.y['shorthand'] is not correct\"\n",
    "assert sha1(str(header_plot.encoding.y['shorthand']).encode(\"utf-8\")+b\"a281f413be4bd7f0\").hexdigest() == \"73d542d2fff1c8de03872a6da95ea3816e7925de\", \"correct string value of header_plot.encoding.y['shorthand'] but incorrect case of letters\"\n",
    "\n",
    "assert sha1(str(type(header_plot.mark)).encode(\"utf-8\")+b\"9fee3786985ccf08\").hexdigest() == \"2fe7647a0a9abfeda0096a5b33e8ebe1866e62d2\", \"type of header_plot.mark is not str. header_plot.mark should be an str\"\n",
    "assert sha1(str(len(header_plot.mark)).encode(\"utf-8\")+b\"9fee3786985ccf08\").hexdigest() == \"034616bfd8fb517d0581b93e5b7ea9ec500b21b4\", \"length of header_plot.mark is not correct\"\n",
    "assert sha1(str(header_plot.mark.lower()).encode(\"utf-8\")+b\"9fee3786985ccf08\").hexdigest() == \"a39b7d091fe46e376cb830e61a9fdd04dc7a4e07\", \"value of header_plot.mark is not correct\"\n",
    "assert sha1(str(header_plot.mark).encode(\"utf-8\")+b\"9fee3786985ccf08\").hexdigest() == \"a39b7d091fe46e376cb830e61a9fdd04dc7a4e07\", \"correct string value of header_plot.mark but incorrect case of letters\"\n",
    "\n",
    "assert sha1(str(type(isinstance(header_plot.encoding.x['title'], str))).encode(\"utf-8\")+b\"38fc4edbb7fc846f\").hexdigest() == \"85c4882ba52809b5eb74f1ffea7202de299f1418\", \"type of isinstance(header_plot.encoding.x['title'], str) is not bool. isinstance(header_plot.encoding.x['title'], str) should be a bool\"\n",
    "assert sha1(str(isinstance(header_plot.encoding.x['title'], str)).encode(\"utf-8\")+b\"38fc4edbb7fc846f\").hexdigest() == \"141df40db17f534f6b32d766ecc2949f9747bd07\", \"boolean value of isinstance(header_plot.encoding.x['title'], str) is not correct\"\n",
    "\n",
    "assert sha1(str(type(isinstance(header_plot.encoding.y['title'], str))).encode(\"utf-8\")+b\"bbdfd3a8d3a18ce4\").hexdigest() == \"2c13df61ccc70fcff85e1e5a02ccf17b904232aa\", \"type of isinstance(header_plot.encoding.y['title'], str) is not bool. isinstance(header_plot.encoding.y['title'], str) should be a bool\"\n",
    "assert sha1(str(isinstance(header_plot.encoding.y['title'], str)).encode(\"utf-8\")+b\"bbdfd3a8d3a18ce4\").hexdigest() == \"d6a98edea0fd99eaecf01f97f2f640553f9bc024\", \"boolean value of isinstance(header_plot.encoding.y['title'], str) is not correct\"\n",
    "\n",
    "print('Success!')"
   ]
  },
  {
   "cell_type": "markdown",
   "metadata": {
    "deletable": false,
    "editable": false,
    "nbgrader": {
     "cell_type": "markdown",
     "checksum": "05ce16d83c1adc38404c35a339c14240",
     "grade": false,
     "grade_id": "cell-d2de7ca256a685eb",
     "locked": true,
     "schema_version": 3,
     "solution": false,
     "task": false
    }
   },
   "source": [
    "## 4. Reading Data from a Database\n",
    "\n",
    "### Investigating the reliability of flights into and out of Boston Logan International Airport\n",
    "\n",
    "Delays and cancellations seem to be an unavoidable risk of air travel. A missed connection, or hours spent waiting at the departure gate, might make you wonder though: how reliable is air travel, *really*?\n",
    "\n",
    "The US Bureau of Transportation Statistics keeps a continually-updated [Airline On-Time Performance Dataset](https://transtats.bts.gov/DatabaseInfo.asp?DB_ID=120&DB_Name=Airline%20On-Time%20Performance%20Data) that has tracked the scheduled and actual departure / arrival time of flights in the United States from 1987 to the present day. In this section we'll do some exploration of this data to try to answer some of the above questions. The actual data we'll be using was from only the year 2015, and was compiled into the [2015 Kaggle Flight Delays Dataset](https://www.kaggle.com/usdot/flight-delays) from the raw Bureau data. But even that  dataset is too large to handle in this course (5.8 million flights in just one year!), so the data have been filtered down to flights that either depart or arrive at Logan International Airport (`BOS`), resulting in around 209,000 flight records. \n",
    "\n",
    "Our data has the following variables (columns):\n",
    "\n",
    "- year\n",
    "- month\n",
    "- day\n",
    "- day of the week (from 1 - 7.999..., with fractional days based on departure time)\n",
    "- origin airport code\n",
    "- destination airport code\n",
    "- flight distance (miles)\n",
    "- scheduled departure time (local)\n",
    "- departure delay (minutes)\n",
    "- scheduled arrival time (local)\n",
    "- arrival delay (minutes)\n",
    "- diverted? (True/False)\n",
    "- cancelled? (True/False)\n",
    "\n",
    "\n"
   ]
  },
  {
   "cell_type": "markdown",
   "metadata": {
    "deletable": false,
    "editable": false,
    "nbgrader": {
     "cell_type": "markdown",
     "checksum": "56156da0dfb19d3852615383f2724375",
     "grade": false,
     "grade_id": "cell-ae6a468045492d65",
     "locked": true,
     "schema_version": 3,
     "solution": false,
     "task": false
    }
   },
   "source": [
    "**Question 4.1** True or False:\n",
    "<br> {points: 1}\n",
    "\n",
    "We can use our dataset to figure out which airline company was the least likely to experience a flight delay in 2015.\n",
    "\n",
    "*Assign your answer to an object called `answer4_1`. Make sure your answer is a boolean (e.g. `True` or `False`).*"
   ]
  },
  {
   "cell_type": "code",
   "execution_count": null,
   "metadata": {
    "deletable": false,
    "nbgrader": {
     "cell_type": "code",
     "checksum": "b429827fb88028119c4780f387a35c36",
     "grade": false,
     "grade_id": "cell-a617f1c9efd04f99",
     "locked": false,
     "schema_version": 3,
     "solution": true,
     "task": false
    }
   },
   "outputs": [],
   "source": [
    "# your code here\n",
    "raise NotImplementedError"
   ]
  },
  {
   "cell_type": "code",
   "execution_count": null,
   "metadata": {
    "deletable": false,
    "editable": false,
    "nbgrader": {
     "cell_type": "code",
     "checksum": "8e0717de1016180d6d1b47be89639867",
     "grade": true,
     "grade_id": "cell-3a25845fbe2a154e",
     "locked": true,
     "points": 3,
     "schema_version": 3,
     "solution": false,
     "task": false
    }
   },
   "outputs": [],
   "source": [
    "from hashlib import sha1\n",
    "assert sha1(str(type(answer4_1)).encode(\"utf-8\")+b\"e76afcf9b5265d18\").hexdigest() == \"e8a537ee96823fd68ab93dc2e0f2e4189b9ac124\", \"type of answer4_1 is not bool. answer4_1 should be a bool\"\n",
    "assert sha1(str(answer4_1).encode(\"utf-8\")+b\"e76afcf9b5265d18\").hexdigest() == \"cc3d58748f1664e2a51f7e117c1ee9970c00f3f9\", \"boolean value of answer4_1 is not correct\"\n",
    "\n",
    "print('Success!')"
   ]
  },
  {
   "cell_type": "markdown",
   "metadata": {
    "deletable": false,
    "editable": false,
    "nbgrader": {
     "cell_type": "markdown",
     "checksum": "2f9851315cc33e188aa147ede3966dbc",
     "grade": false,
     "grade_id": "cell-8e10ec43a04b5f28",
     "locked": true,
     "schema_version": 3,
     "solution": false,
     "task": false
    }
   },
   "source": [
    "**Question 4.2** Multiple Choice\n",
    "<br> {points: 1}\n",
    "\n",
    "If we're mostly concerned with getting to our destination on time, which variable in our dataset should we use as the y-axis of a plot?\n",
    "\n",
    "A. flight distance\n",
    "\n",
    "B. departure delay\n",
    "\n",
    "C. origin airport code\n",
    "\n",
    "D. arrival delay\n",
    "\n",
    "*Assign your answer as a single character to an object called `answer4_2`. Make sure your answer is an uppercase letter and is surrounded by quotation marks (e.g. `\"F\"`).*"
   ]
  },
  {
   "cell_type": "code",
   "execution_count": null,
   "metadata": {
    "deletable": false,
    "nbgrader": {
     "cell_type": "code",
     "checksum": "5bfd92ca78885f86913d2b4b23421928",
     "grade": false,
     "grade_id": "cell-b0d8a3e66f6ca65f",
     "locked": false,
     "schema_version": 3,
     "solution": true,
     "task": false
    }
   },
   "outputs": [],
   "source": [
    "# your code here\n",
    "raise NotImplementedError"
   ]
  },
  {
   "cell_type": "code",
   "execution_count": null,
   "metadata": {
    "deletable": false,
    "editable": false,
    "nbgrader": {
     "cell_type": "code",
     "checksum": "8debd74b7b8499d34477dac75d275525",
     "grade": true,
     "grade_id": "cell-5ef18ca82d1a9b95",
     "locked": true,
     "points": 3,
     "schema_version": 3,
     "solution": false,
     "task": false
    }
   },
   "outputs": [],
   "source": [
    "from hashlib import sha1\n",
    "assert sha1(str(type(answer4_2)).encode(\"utf-8\")+b\"28a54d12dc2c67dc\").hexdigest() == \"d2a61bcea9c79ff6cd1a8144bcfc83fe14f925a4\", \"type of answer4_2 is not str. answer4_2 should be an str\"\n",
    "assert sha1(str(len(answer4_2)).encode(\"utf-8\")+b\"28a54d12dc2c67dc\").hexdigest() == \"cf4f1a42250a842195b66a5fda9fc9b6b4a908a0\", \"length of answer4_2 is not correct\"\n",
    "assert sha1(str(answer4_2.lower()).encode(\"utf-8\")+b\"28a54d12dc2c67dc\").hexdigest() == \"2f18e91d00f1212ce13d23c3ceb199e665d41979\", \"value of answer4_2 is not correct\"\n",
    "assert sha1(str(answer4_2).encode(\"utf-8\")+b\"28a54d12dc2c67dc\").hexdigest() == \"d02463dbe226b513c5930a066199cfb228d326d2\", \"correct string value of answer4_2 but incorrect case of letters\"\n",
    "\n",
    "print('Success!')"
   ]
  },
  {
   "cell_type": "markdown",
   "metadata": {
    "deletable": false,
    "editable": false,
    "nbgrader": {
     "cell_type": "markdown",
     "checksum": "1113103e768456f8ee3ffa63e0b0552d",
     "grade": false,
     "grade_id": "cell-ece904e30e3c5df3",
     "locked": true,
     "schema_version": 3,
     "solution": false,
     "task": false
    }
   },
   "source": [
    "Let's start exploring our data. The file is stored in `data/flights_filtered.db` in your working directory (still the `py_worksheet_reading` folder). If you try to open the file in Jupyter to inspect its contents, you'll again run into the `File Load Error ... is not UTF-8 encoded` message you got earlier when trying to open an Excel spreadsheet in Jupyter. This is because the file is a *database* (often denoted by the `.db` extension), which are usually not stored in plain text. \n",
    "\n",
    "We'll need more Python packages to help us handle this kind of data: In this course, we will work with the [`ibis` package](https://ibis-project.org/docs/3.2.0/).\n",
    "\n",
    "Let's load that now\n",
    "\n"
   ]
  },
  {
   "cell_type": "code",
   "execution_count": null,
   "metadata": {
    "deletable": false,
    "editable": false,
    "lines_to_next_cell": 2,
    "nbgrader": {
     "cell_type": "code",
     "checksum": "3a78abe8d366a981d6d2b76e9e421c1b",
     "grade": false,
     "grade_id": "cell-1b17f8e1f081d8e4",
     "locked": true,
     "schema_version": 3,
     "solution": false,
     "task": false
    }
   },
   "outputs": [],
   "source": [
    "# Run this cell before continuing.\n",
    "import ibis"
   ]
  },
  {
   "cell_type": "markdown",
   "metadata": {
    "deletable": false,
    "editable": false,
    "nbgrader": {
     "cell_type": "markdown",
     "checksum": "a38aad6cecdcce87f07c672cd9e15333",
     "grade": false,
     "grade_id": "cell-6fc5d146857922ba",
     "locked": true,
     "schema_version": 3,
     "solution": false,
     "task": false
    }
   },
   "source": [
    "In order to open a database in Python, you need to take the following steps:\n",
    "\n",
    "1. Connect to the database. For an SQLite database, we will do that using \n",
    "the `connect` function from the\n",
    "`sqlite` backend in the\n",
    "`ibis` package. This command does not read\n",
    "in the data, but simply tells Python where the database is and opens up a\n",
    "communication channel that Python can use to send SQL commands to the database.\n",
    "2. Check what tables (similar to pandas dataframes, Excel spreadsheets) are in the database using the `list_tables` function\n",
    "3. Once you've picked a table, create a Python object for it using the `table` function from the `conn` object\n",
    "4. You can then interact with this table using familiar commands like `head` or `[]` and don't forget to use `execute` to get back a pandas data frame\n",
    "\n",
    "The next few questions will walk you through this process.\n"
   ]
  },
  {
   "cell_type": "markdown",
   "metadata": {
    "deletable": false,
    "editable": false,
    "nbgrader": {
     "cell_type": "markdown",
     "checksum": "bb81da8d5bcd5a63cebc25fbfa3791d4",
     "grade": false,
     "grade_id": "cell-2263f7b141009a80",
     "locked": true,
     "schema_version": 3,
     "solution": false,
     "task": false
    }
   },
   "source": [
    "**Question 4.3.1** \n",
    "<br> {points: 1}\n",
    "\n",
    "Use the `connect` function from the `sqlite` backend in the `ibis` package to open and connect to the `flights_filtered.db` database in the `data` folder.\n",
    "\n",
    "*Assign the output to a variable named `conn`*."
   ]
  },
  {
   "cell_type": "code",
   "execution_count": null,
   "metadata": {
    "deletable": false,
    "nbgrader": {
     "cell_type": "code",
     "checksum": "6e7611afed5e1bfff23c2567ac3e5d99",
     "grade": false,
     "grade_id": "cell-f7c7606756107e5a",
     "locked": false,
     "schema_version": 3,
     "solution": true,
     "task": false
    }
   },
   "outputs": [],
   "source": [
    "# conn = ibis.sqlite.connect(\"___\")  #replace ___ with the database relative path\n",
    "# \n",
    "\n",
    "# your code here\n",
    "raise NotImplementedError"
   ]
  },
  {
   "cell_type": "code",
   "execution_count": null,
   "metadata": {
    "deletable": false,
    "editable": false,
    "nbgrader": {
     "cell_type": "code",
     "checksum": "4ee7d8b8b6cfb21246d062a0317192e0",
     "grade": true,
     "grade_id": "cell-10c6061a03204914",
     "locked": true,
     "points": 1,
     "schema_version": 3,
     "solution": false,
     "task": false
    }
   },
   "outputs": [],
   "source": [
    "from hashlib import sha1\n",
    "assert sha1(str(type(type(conn))).encode(\"utf-8\")+b\"1901f201b88d145d\").hexdigest() == \"c7edf4f8ee53f7d8c4d5eb24d0902539004ec16f\", \"type of type(conn) is not correct\"\n",
    "assert sha1(str(type(conn)).encode(\"utf-8\")+b\"1901f201b88d145d\").hexdigest() == \"d172109527279471053c157b6100df09505812e3\", \"value of type(conn) is not correct\"\n",
    "\n",
    "assert sha1(str(type(conn.list_tables())).encode(\"utf-8\")+b\"740504e28014acb4\").hexdigest() == \"c2e2cd47fbab944d8a04ffd49ba92aabcfad59d2\", \"type of conn.list_tables() is not list. conn.list_tables() should be a list\"\n",
    "assert sha1(str(len(conn.list_tables())).encode(\"utf-8\")+b\"740504e28014acb4\").hexdigest() == \"ed75994573d64eba22af27dce6e9b208adca9ee0\", \"length of conn.list_tables() is not correct\"\n",
    "assert sha1(str(sorted(map(str, conn.list_tables()))).encode(\"utf-8\")+b\"740504e28014acb4\").hexdigest() == \"b5037f0ff5c7bec8d425b833fd42f5efb2027279\", \"values of conn.list_tables() are not correct\"\n",
    "assert sha1(str(conn.list_tables()).encode(\"utf-8\")+b\"740504e28014acb4\").hexdigest() == \"b5037f0ff5c7bec8d425b833fd42f5efb2027279\", \"order of elements of conn.list_tables() is not correct\"\n",
    "\n",
    "print('Success!')"
   ]
  },
  {
   "cell_type": "markdown",
   "metadata": {
    "deletable": false,
    "editable": false,
    "nbgrader": {
     "cell_type": "markdown",
     "checksum": "aca7699a568fdac44fd4d03c6fb2993f",
     "grade": false,
     "grade_id": "cell-3be320fb744223bf",
     "locked": true,
     "schema_version": 3,
     "solution": false,
     "task": false
    }
   },
   "source": [
    "**Question 4.3.2**\n",
    "<br> {points: 1}\n",
    "\n",
    "Use the `list_tables` function to inspect the database stored in the engine to see what tables it contains.\n",
    "\n",
    "*Make a new variable named `flights_table_name` that stores the name of the table with our data in it*"
   ]
  },
  {
   "cell_type": "code",
   "execution_count": null,
   "metadata": {},
   "outputs": [],
   "source": [
    "# Use this cell to figure out how to answer the question\n",
    "# Call the table_names function in this cell and take a look at the output\n",
    "\n",
    "# (___).list_tables() # replace ___ with the right argument\n",
    "\n",
    "\n",
    "# once you've called this and seen the output, insert the output string in the cell below as denoted"
   ]
  },
  {
   "cell_type": "code",
   "execution_count": null,
   "metadata": {
    "deletable": false,
    "nbgrader": {
     "cell_type": "code",
     "checksum": "2dd5d20b7b96e8d63718bfdf09a8bb7c",
     "grade": false,
     "grade_id": "cell-7a521f34b4eacb55",
     "locked": false,
     "schema_version": 3,
     "solution": true,
     "task": false
    }
   },
   "outputs": [],
   "source": [
    "# ___ = '___'\n",
    "\n",
    "# your code here\n",
    "raise NotImplementedError"
   ]
  },
  {
   "cell_type": "code",
   "execution_count": null,
   "metadata": {
    "deletable": false,
    "editable": false,
    "nbgrader": {
     "cell_type": "code",
     "checksum": "f3a86db16efe8b009e4bf0e6245d452d",
     "grade": true,
     "grade_id": "cell-0cdbe210a4acaec3",
     "locked": true,
     "points": 1,
     "schema_version": 3,
     "solution": false,
     "task": false
    }
   },
   "outputs": [],
   "source": [
    "from hashlib import sha1\n",
    "assert sha1(str(type(flights_table_name)).encode(\"utf-8\")+b\"5acd1d14759879e9\").hexdigest() == \"414279cc2f099979413fbaa0dd875c87a710814f\", \"type of flights_table_name is not str. flights_table_name should be an str\"\n",
    "assert sha1(str(len(flights_table_name)).encode(\"utf-8\")+b\"5acd1d14759879e9\").hexdigest() == \"67256e362d7899ecafded13731c2c8e68e8bc14d\", \"length of flights_table_name is not correct\"\n",
    "assert sha1(str(flights_table_name.lower()).encode(\"utf-8\")+b\"5acd1d14759879e9\").hexdigest() == \"889a74c938f35d65db78befc0b3967b621b79cd1\", \"value of flights_table_name is not correct\"\n",
    "assert sha1(str(flights_table_name).encode(\"utf-8\")+b\"5acd1d14759879e9\").hexdigest() == \"889a74c938f35d65db78befc0b3967b621b79cd1\", \"correct string value of flights_table_name but incorrect case of letters\"\n",
    "\n",
    "print('Success!')"
   ]
  },
  {
   "cell_type": "markdown",
   "metadata": {
    "deletable": false,
    "editable": false,
    "nbgrader": {
     "cell_type": "markdown",
     "checksum": "79130959eef46533e3ed6557bea9b1ff",
     "grade": false,
     "grade_id": "cell-2cea3627425a277f",
     "locked": true,
     "schema_version": 3,
     "solution": false,
     "task": false
    }
   },
   "source": [
    "**Question 4.3.3**\n",
    "<br> {points: 1}\n",
    "\n",
    "Use the `table` function from the `conn` object to create a Python reference to the table and call this `flight_data`\n",
    "\n",
    "*Make a new variable named `flight_data`.*"
   ]
  },
  {
   "cell_type": "code",
   "execution_count": null,
   "metadata": {
    "deletable": false,
    "nbgrader": {
     "cell_type": "code",
     "checksum": "1a1eeb072bb181318240062763a3ec75",
     "grade": false,
     "grade_id": "cell-ce6208974728270f",
     "locked": false,
     "schema_version": 3,
     "solution": true,
     "task": false
    }
   },
   "outputs": [],
   "source": [
    "# flight_data = conn.table(_____)\n",
    "\n",
    "# your code here\n",
    "raise NotImplementedError\n",
    "flight_data "
   ]
  },
  {
   "cell_type": "code",
   "execution_count": null,
   "metadata": {
    "deletable": false,
    "editable": false,
    "nbgrader": {
     "cell_type": "code",
     "checksum": "e2905e9efa6f5d4af11ce3aaff1c0ae9",
     "grade": true,
     "grade_id": "cell-f49edc2edcd86899",
     "locked": true,
     "points": 1,
     "schema_version": 3,
     "solution": false,
     "task": false
    }
   },
   "outputs": [],
   "source": [
    "from hashlib import sha1\n",
    "assert sha1(str(type(type(flight_data))).encode(\"utf-8\")+b\"599c60674951d396\").hexdigest() == \"f8a2d038fa750896c4f5057455325e8da0f4f1ca\", \"type of type(flight_data) is not correct\"\n",
    "assert sha1(str(type(flight_data)).encode(\"utf-8\")+b\"599c60674951d396\").hexdigest() == \"95e1712f2107438b3b7b2e446c57d0b03950fd40\", \"value of type(flight_data) is not correct\"\n",
    "\n",
    "assert sha1(str(type(flight_data.columns)).encode(\"utf-8\")+b\"b376a3d684a04478\").hexdigest() == \"24a8b7b10d2dd23681afb6e7d47dd62ed6e51e18\", \"type of flight_data.columns is not list. flight_data.columns should be a list\"\n",
    "assert sha1(str(len(flight_data.columns)).encode(\"utf-8\")+b\"b376a3d684a04478\").hexdigest() == \"f71c727fcfdbd0c49dd1a750900662228e34bc79\", \"length of flight_data.columns is not correct\"\n",
    "assert sha1(str(sorted(map(str, flight_data.columns))).encode(\"utf-8\")+b\"b376a3d684a04478\").hexdigest() == \"a8795612b184bd7021b8749c77a58a642356fd47\", \"values of flight_data.columns are not correct\"\n",
    "assert sha1(str(flight_data.columns).encode(\"utf-8\")+b\"b376a3d684a04478\").hexdigest() == \"5f56ae7f28dcbba161eef66b962fcebad5f55d51\", \"order of elements of flight_data.columns is not correct\"\n",
    "\n",
    "print('Success!')"
   ]
  },
  {
   "cell_type": "markdown",
   "metadata": {
    "deletable": false,
    "editable": false,
    "nbgrader": {
     "cell_type": "markdown",
     "checksum": "913a9da717e1c2a1c627f974c822feaa",
     "grade": false,
     "grade_id": "cell-a7bdf4efaa13a843",
     "locked": true,
     "schema_version": 3,
     "solution": false,
     "task": false
    }
   },
   "source": [
    "Now that we've connected to the database and created an pandas dataframe object, we'll take a look at the first few rows and columns of the flight on-time performance data. So let's try using the `head` function (which allows us to see the first few rows of a dataset) and see what happens:"
   ]
  },
  {
   "cell_type": "code",
   "execution_count": null,
   "metadata": {
    "deletable": false,
    "editable": false,
    "nbgrader": {
     "cell_type": "code",
     "checksum": "5357984a9b310d36ddf9872fa7914629",
     "grade": false,
     "grade_id": "cell-e6e5d21a17b9f654",
     "locked": true,
     "schema_version": 3,
     "solution": false,
     "task": false
    }
   },
   "outputs": [],
   "source": [
    "# Run this cell before continuing.\n",
    "flight_data.head()"
   ]
  },
  {
   "cell_type": "markdown",
   "metadata": {
    "deletable": false,
    "editable": false,
    "nbgrader": {
     "cell_type": "markdown",
     "checksum": "c79aa887b3a06f347f69e2722c19fa0d",
     "grade": false,
     "grade_id": "cell-d7cc224da62342f1",
     "locked": true,
     "schema_version": 3,
     "solution": false,
     "task": false
    }
   },
   "source": [
    "Although it looks like we might have obtained the whole data frame from the database, we didn't!\n",
    "It's a *reference*; the data is still stored only in the SQLite database. The `flight_data` object  \n",
    "is an `AlchemyTable` (`ibis` is using `sqlalchemy` under the hood!), which, when printed, tells\n",
    "you which columns are available in the table. \n",
    "\n",
    "When we\n",
    "write `flight_data.head().execute()` in Python, in the background, the `execute` function is\n",
    "translating the Python code into SQL, sending that SQL to the database, and then translating the\n",
    "response for us."
   ]
  },
  {
   "cell_type": "code",
   "execution_count": null,
   "metadata": {},
   "outputs": [],
   "source": [
    "# Run this cell before continuing.\n",
    "flight_data.head().execute()"
   ]
  },
  {
   "cell_type": "markdown",
   "metadata": {
    "deletable": false,
    "editable": false,
    "nbgrader": {
     "cell_type": "markdown",
     "checksum": "372dd501e50ab9955c345b56a3219180",
     "grade": false,
     "grade_id": "cell-356613f497cc07cb",
     "locked": true,
     "schema_version": 3,
     "solution": false,
     "task": false
    }
   },
   "source": [
    "It works! And---as luck would have it---it also works to use the `[]` and `loc[]` functions you've learned about previously. Just don't forget to add `execute`! "
   ]
  },
  {
   "cell_type": "markdown",
   "metadata": {
    "deletable": false,
    "editable": false,
    "nbgrader": {
     "cell_type": "markdown",
     "checksum": "431811c00f7e539117627db56dc67d09",
     "grade": false,
     "grade_id": "cell-6e081aa11d2799c3",
     "locked": true,
     "schema_version": 3,
     "solution": false,
     "task": false
    }
   },
   "source": [
    "**Question 4.4**\n",
    "<br> {points: 1}\n",
    "\n",
    "Use `[]` to extract the **arrival and departure delay** columns for rows where **the origin airport is BOS.** This is done in two steps, first we filter rows and second, select columns. \n",
    "\n",
    "*Store your answer in a variable called* `delay_data`."
   ]
  },
  {
   "cell_type": "code",
   "execution_count": null,
   "metadata": {
    "deletable": false,
    "nbgrader": {
     "cell_type": "code",
     "checksum": "b446c5c8742a033ba1b8c7cdb4828f4e",
     "grade": false,
     "grade_id": "cell-e9116224f425a610",
     "locked": false,
     "schema_version": 3,
     "solution": true,
     "task": false
    }
   },
   "outputs": [],
   "source": [
    "# fd_bos_origin = flight_data[___ == \"___\"].execute()\n",
    "# delay_data = fd_bos_origin[[___, ___]]\n",
    "\n",
    "# your code here\n",
    "raise NotImplementedError"
   ]
  },
  {
   "cell_type": "code",
   "execution_count": null,
   "metadata": {
    "deletable": false,
    "editable": false,
    "nbgrader": {
     "cell_type": "code",
     "checksum": "449b51d2d75ef4a0484864a1a7550876",
     "grade": true,
     "grade_id": "cell-5338b9a6748de0f7",
     "locked": true,
     "points": 1,
     "schema_version": 3,
     "solution": false,
     "task": false
    }
   },
   "outputs": [],
   "source": [
    "from hashlib import sha1\n",
    "assert sha1(str(type(delay_data.shape)).encode(\"utf-8\")+b\"13b8f67621c9faff\").hexdigest() == \"2744f1602fded2e320ddf337fbed63f9c33f3393\", \"type of delay_data.shape is not tuple. delay_data.shape should be a tuple\"\n",
    "assert sha1(str(len(delay_data.shape)).encode(\"utf-8\")+b\"13b8f67621c9faff\").hexdigest() == \"83fd505d2ec4314af849ea5ecc16e886e75a2d52\", \"length of delay_data.shape is not correct\"\n",
    "assert sha1(str(sorted(map(str, delay_data.shape))).encode(\"utf-8\")+b\"13b8f67621c9faff\").hexdigest() == \"5e030dcffacc833d7ec9cf5294319b3bc4b6e016\", \"values of delay_data.shape are not correct\"\n",
    "assert sha1(str(delay_data.shape).encode(\"utf-8\")+b\"13b8f67621c9faff\").hexdigest() == \"b5ca71ba5dc4a7763201a7e83ef673ff50a42f80\", \"order of elements of delay_data.shape is not correct\"\n",
    "\n",
    "assert sha1(str(type(delay_data.columns.values)).encode(\"utf-8\")+b\"e914c0d978f60a93\").hexdigest() == \"240f0ffac2dcf8fd051689c8f6f7b7bef2b7160b\", \"type of delay_data.columns.values is not correct\"\n",
    "assert sha1(str(delay_data.columns.values).encode(\"utf-8\")+b\"e914c0d978f60a93\").hexdigest() == \"3b2e6ecde684cf87c56e98c1ebe2fdde98449bc6\", \"value of delay_data.columns.values is not correct\"\n",
    "\n",
    "print('Success!')"
   ]
  },
  {
   "cell_type": "code",
   "execution_count": null,
   "metadata": {
    "deletable": false,
    "editable": false,
    "nbgrader": {
     "cell_type": "code",
     "checksum": "2498ae03a9fec487826daf1cead798c3",
     "grade": false,
     "grade_id": "cell-84aab140cb516617",
     "locked": true,
     "schema_version": 3,
     "solution": false,
     "task": false
    }
   },
   "outputs": [],
   "source": [
    "# Take a look at `delay_data` to make sure it has the two columns we expect.\n",
    "# Run this cell before continuing.\n",
    "delay_data.head()"
   ]
  },
  {
   "cell_type": "markdown",
   "metadata": {
    "deletable": false,
    "editable": false,
    "nbgrader": {
     "cell_type": "markdown",
     "checksum": "0891c03252e63a19a9fa6f563b7e328d",
     "grade": false,
     "grade_id": "cell-303a41d2e27cbc4d",
     "locked": true,
     "schema_version": 3,
     "solution": false,
     "task": false
    }
   },
   "source": [
    "Our next task is to visualize our data to see whether there is a difference in delays for arrivals at and departures from `BOS`. But before we do that, let's figure out just how much data we're working with using the `shape` method."
   ]
  },
  {
   "cell_type": "code",
   "execution_count": null,
   "metadata": {
    "deletable": false,
    "editable": false,
    "nbgrader": {
     "cell_type": "code",
     "checksum": "f63bff9c068e2cdeee037bfd6a82c437",
     "grade": false,
     "grade_id": "cell-09bd61a2b25cb771",
     "locked": true,
     "schema_version": 3,
     "solution": false,
     "task": false
    }
   },
   "outputs": [],
   "source": [
    "# Run this cell before continuing.\n",
    "delay_data.shape"
   ]
  },
  {
   "cell_type": "markdown",
   "metadata": {
    "deletable": false,
    "editable": false,
    "nbgrader": {
     "cell_type": "markdown",
     "checksum": "dd116aa3acfc45e4710882d1bdfe1700",
     "grade": false,
     "grade_id": "cell-4b975655f6f919ed",
     "locked": true,
     "schema_version": 3,
     "solution": false,
     "task": false
    }
   },
   "source": [
    "Yikes---that's a lot of data! If we tried to do a scatter plot of these, we probably wouldn't be able to see anything useful; all the points would be mushed together. Let's try using a *histogram* instead. A histogram helps us visualize how a particular variable is distributed in a dataset. It does this by separating the data into *bins*, and then plotting vertical bars showing how many data points fell in each bin.\n",
    "\n",
    "For example, we could use a histogram to visualize the distribution of IMDB ratings of different movies with the `mark_bar`."
   ]
  },
  {
   "cell_type": "code",
   "execution_count": null,
   "metadata": {
    "deletable": false,
    "editable": false,
    "nbgrader": {
     "cell_type": "code",
     "checksum": "2b20c0be186e5c4877c4761439bae9c8",
     "grade": false,
     "grade_id": "cell-9c2880fd80fb47e8",
     "locked": true,
     "schema_version": 3,
     "solution": false,
     "task": false
    }
   },
   "outputs": [],
   "source": [
    "happiness_data = pd.read_csv(\n",
    "    \"data/happiness_report_metadata.csv\", skiprows=2\n",
    ")\n",
    "\n",
    "alt.Chart(happiness_data).mark_bar().encode(\n",
    "    x=alt.X(\"happiness_score\").bin(),\n",
    "    y=\"count()\",\n",
    ")"
   ]
  },
  {
   "cell_type": "markdown",
   "metadata": {
    "deletable": false,
    "editable": false,
    "nbgrader": {
     "cell_type": "markdown",
     "checksum": "4d706cca4095a79a316b8159bc684323",
     "grade": false,
     "grade_id": "cell-b55f33f294252032",
     "locked": true,
     "schema_version": 3,
     "solution": false,
     "task": false
    }
   },
   "source": [
    "We'll use histograms to visualize the departure delay times and arrival delay times separately."
   ]
  },
  {
   "cell_type": "markdown",
   "metadata": {
    "deletable": false,
    "editable": false,
    "nbgrader": {
     "cell_type": "markdown",
     "checksum": "4feadcccadc736cdbdc32b235fff3a32",
     "grade": false,
     "grade_id": "cell-d8475f9acda08a6f",
     "locked": true,
     "schema_version": 3,
     "solution": false,
     "task": false
    }
   },
   "source": [
    "**Question 4.5**\n",
    "<br> {points: 1}\n",
    "\n",
    "Plot the **arrival** delay time data as a histogram. You will plot the delay (in hours) separated into 15-minute-wide bins on the x axis. The y axis will show the percentage of flights departing BOS that had that amount of delay during 2015.\n",
    "\n",
    "The plotting code is provided below, however, you would need to finish the data wrangling part for the plot by filling `___` with the correct code. Please note that we would want the delay in hours on X axis but the delay data in the dataset is in minutes. To create this new column, we use the `assign` function in Pandas.\n",
    "\n",
    "*Assign the output of altair plot to an object called* `arrival_delay_plot`."
   ]
  },
  {
   "cell_type": "code",
   "execution_count": null,
   "metadata": {
    "deletable": false,
    "nbgrader": {
     "cell_type": "code",
     "checksum": "21f835cf67c05a43cb0682e7cc5fb26b",
     "grade": false,
     "grade_id": "cell-cb0371528dff7979",
     "locked": false,
     "schema_version": 3,
     "solution": true,
     "task": false
    }
   },
   "outputs": [],
   "source": [
    "# Replace each ___ with the correct item in the list above.\n",
    "\n",
    "# delay_data = delay_data.assign(\n",
    "#     ARRIVAL_DELAY_hr=___\n",
    "# )\n",
    "#\n",
    "# ___ = alt.Chart(delay_data, title='Arrival delays').transform_joinaggregate(\n",
    "#     total=\"count(ARRIVAL_DELAY_hr)\"\n",
    "# ).transform_calculate(\n",
    "#     pct=\"1 / datum.total\"\n",
    "# ).mark_bar().encode(\n",
    "#     alt.X(\"ARRIVAL_DELAY_hr:Q\")\n",
    "#         .bin(step=0.25)\n",
    "#         .scale(domain=[-2, 5])\n",
    "#         .title(\"Delay (hours)\"),\n",
    "#     alt.Y(\"sum(pct):Q\")\n",
    "#         .axis(format=\"%\")\n",
    "#         .title(\"% of Flights\")\n",
    "# )\n",
    "\n",
    "# your code here\n",
    "raise NotImplementedError\n",
    "arrival_delay_plot"
   ]
  },
  {
   "cell_type": "code",
   "execution_count": null,
   "metadata": {
    "deletable": false,
    "editable": false,
    "nbgrader": {
     "cell_type": "code",
     "checksum": "996693ef4b329fb518b17c100f1af2eb",
     "grade": true,
     "grade_id": "cell-c7ffba55e40ac67a",
     "locked": true,
     "points": 1,
     "schema_version": 3,
     "solution": false,
     "task": false
    }
   },
   "outputs": [],
   "source": [
    "from hashlib import sha1\n",
    "assert sha1(str(type(arrival_delay_plot.mark)).encode(\"utf-8\")+b\"bb16209ba6ca1512\").hexdigest() == \"267e9578748e7d27f68a1d424987e4273d89b836\", \"type of arrival_delay_plot.mark is not str. arrival_delay_plot.mark should be an str\"\n",
    "assert sha1(str(len(arrival_delay_plot.mark)).encode(\"utf-8\")+b\"bb16209ba6ca1512\").hexdigest() == \"961058f2ab63d33da6dcc65c76882d538cbb48c9\", \"length of arrival_delay_plot.mark is not correct\"\n",
    "assert sha1(str(arrival_delay_plot.mark.lower()).encode(\"utf-8\")+b\"bb16209ba6ca1512\").hexdigest() == \"f934cea934651de64b3bdaff2da014660f6b9a91\", \"value of arrival_delay_plot.mark is not correct\"\n",
    "assert sha1(str(arrival_delay_plot.mark).encode(\"utf-8\")+b\"bb16209ba6ca1512\").hexdigest() == \"f934cea934651de64b3bdaff2da014660f6b9a91\", \"correct string value of arrival_delay_plot.mark but incorrect case of letters\"\n",
    "\n",
    "assert sha1(str(type(arrival_delay_plot.encoding.x['title'])).encode(\"utf-8\")+b\"03230f0cca954470\").hexdigest() == \"57f8ad4276c3a98524804ee359b8b06c456c3fb0\", \"type of arrival_delay_plot.encoding.x['title'] is not str. arrival_delay_plot.encoding.x['title'] should be an str\"\n",
    "assert sha1(str(len(arrival_delay_plot.encoding.x['title'])).encode(\"utf-8\")+b\"03230f0cca954470\").hexdigest() == \"4f61a8c3fd1dfd27e170cbf499227199fbe8861d\", \"length of arrival_delay_plot.encoding.x['title'] is not correct\"\n",
    "assert sha1(str(arrival_delay_plot.encoding.x['title'].lower()).encode(\"utf-8\")+b\"03230f0cca954470\").hexdigest() == \"6defa2d6595de33594627815c2a0bf170957299e\", \"value of arrival_delay_plot.encoding.x['title'] is not correct\"\n",
    "assert sha1(str(arrival_delay_plot.encoding.x['title']).encode(\"utf-8\")+b\"03230f0cca954470\").hexdigest() == \"1f0d5df93b44126fd5d7c7ceac72accd2acb944e\", \"correct string value of arrival_delay_plot.encoding.x['title'] but incorrect case of letters\"\n",
    "\n",
    "assert sha1(str(type(arrival_delay_plot.encoding.y['title'])).encode(\"utf-8\")+b\"47bbfe711f7fb0d6\").hexdigest() == \"0428324476efc53b1406c83255398ff000fac59f\", \"type of arrival_delay_plot.encoding.y['title'] is not str. arrival_delay_plot.encoding.y['title'] should be an str\"\n",
    "assert sha1(str(len(arrival_delay_plot.encoding.y['title'])).encode(\"utf-8\")+b\"47bbfe711f7fb0d6\").hexdigest() == \"4d0f87511c0b5aea31f747046588bf19dfe52528\", \"length of arrival_delay_plot.encoding.y['title'] is not correct\"\n",
    "assert sha1(str(arrival_delay_plot.encoding.y['title'].lower()).encode(\"utf-8\")+b\"47bbfe711f7fb0d6\").hexdigest() == \"6f888b6e4c79efd3714615715a36d1e37f38971a\", \"value of arrival_delay_plot.encoding.y['title'] is not correct\"\n",
    "assert sha1(str(arrival_delay_plot.encoding.y['title']).encode(\"utf-8\")+b\"47bbfe711f7fb0d6\").hexdigest() == \"64396e64a7b850a841e096368b6bc185ad4dbc71\", \"correct string value of arrival_delay_plot.encoding.y['title'] but incorrect case of letters\"\n",
    "\n",
    "assert sha1(str(type(arrival_delay_plot.encoding.x['shorthand'])).encode(\"utf-8\")+b\"ddda0fb8e9ce9db9\").hexdigest() == \"a4a922f0fa611a271e80303e874e4b4b8ff12102\", \"type of arrival_delay_plot.encoding.x['shorthand'] is not str. arrival_delay_plot.encoding.x['shorthand'] should be an str\"\n",
    "assert sha1(str(len(arrival_delay_plot.encoding.x['shorthand'])).encode(\"utf-8\")+b\"ddda0fb8e9ce9db9\").hexdigest() == \"22e006bcfe8247ef51fd04f8e93a83676b40a6c6\", \"length of arrival_delay_plot.encoding.x['shorthand'] is not correct\"\n",
    "assert sha1(str(arrival_delay_plot.encoding.x['shorthand'].lower()).encode(\"utf-8\")+b\"ddda0fb8e9ce9db9\").hexdigest() == \"7ec9be605f15db7cb1c1dd33d97b6a3be623c8f0\", \"value of arrival_delay_plot.encoding.x['shorthand'] is not correct\"\n",
    "assert sha1(str(arrival_delay_plot.encoding.x['shorthand']).encode(\"utf-8\")+b\"ddda0fb8e9ce9db9\").hexdigest() == \"b2bd20b5f53ad0cab6a7f381893611c510c04576\", \"correct string value of arrival_delay_plot.encoding.x['shorthand'] but incorrect case of letters\"\n",
    "\n",
    "assert sha1(str(type(arrival_delay_plot.encoding.y['shorthand'])).encode(\"utf-8\")+b\"991f2239874882a5\").hexdigest() == \"a34d5d80e8fc0814a583b342ed702d2745968635\", \"type of arrival_delay_plot.encoding.y['shorthand'] is not str. arrival_delay_plot.encoding.y['shorthand'] should be an str\"\n",
    "assert sha1(str(len(arrival_delay_plot.encoding.y['shorthand'])).encode(\"utf-8\")+b\"991f2239874882a5\").hexdigest() == \"22215f024938ddfd03a5b8cc49c5df48bde752a0\", \"length of arrival_delay_plot.encoding.y['shorthand'] is not correct\"\n",
    "assert sha1(str(arrival_delay_plot.encoding.y['shorthand'].lower()).encode(\"utf-8\")+b\"991f2239874882a5\").hexdigest() == \"1b853ec980fdacf2e9c9ca223d29c90f9ed13e61\", \"value of arrival_delay_plot.encoding.y['shorthand'] is not correct\"\n",
    "assert sha1(str(arrival_delay_plot.encoding.y['shorthand']).encode(\"utf-8\")+b\"991f2239874882a5\").hexdigest() == \"ced91d5d3e0313d97d6a9335658c4a18e43760ac\", \"correct string value of arrival_delay_plot.encoding.y['shorthand'] but incorrect case of letters\"\n",
    "\n",
    "print('Success!')"
   ]
  },
  {
   "cell_type": "markdown",
   "metadata": {
    "deletable": false,
    "editable": false,
    "nbgrader": {
     "cell_type": "markdown",
     "checksum": "cb3145e18d9024bcda96909fc6e92e01",
     "grade": false,
     "grade_id": "cell-86568c7e0a844a14",
     "locked": true,
     "schema_version": 3,
     "solution": false,
     "task": false
    }
   },
   "source": [
    "**Question 4.6**\n",
    "<br> {points: 1}\n",
    "\n",
    "Plot the **departure** delay time data as a histogram with the same format as the previous plot. **Hint:** copy and paste your code from the previous block! The only thing that will change is column from `delay_data` that you use for the x-axis.\n",
    "\n",
    "*Assign the output of altair plot to an object called* `departure_delay_plot`."
   ]
  },
  {
   "cell_type": "code",
   "execution_count": null,
   "metadata": {
    "deletable": false,
    "nbgrader": {
     "cell_type": "code",
     "checksum": "4a0396a260a551bcfc3f4afc99c31174",
     "grade": false,
     "grade_id": "cell-806e4299bc42a0fd",
     "locked": false,
     "schema_version": 3,
     "solution": true,
     "task": false
    }
   },
   "outputs": [],
   "source": [
    "# delay_data = delay_data.assign(\n",
    "#     DEPARTURE_DELAY_hr = ___\n",
    "# )\n",
    "# departure_delay_plot = ___ \n",
    "\n",
    "# your code here\n",
    "raise NotImplementedError\n",
    "departure_delay_plot"
   ]
  },
  {
   "cell_type": "code",
   "execution_count": null,
   "metadata": {
    "deletable": false,
    "editable": false,
    "nbgrader": {
     "cell_type": "code",
     "checksum": "2859dc5346be399299e2672055e0deed",
     "grade": true,
     "grade_id": "cell-1389a9deb7b3bcce",
     "locked": true,
     "points": 1,
     "schema_version": 3,
     "solution": false,
     "task": false
    }
   },
   "outputs": [],
   "source": [
    "from hashlib import sha1\n",
    "assert sha1(str(type(departure_delay_plot.mark)).encode(\"utf-8\")+b\"cb6c4907e339673c\").hexdigest() == \"e53266ba13c1b561754b9a6a573dea2987d914d4\", \"type of departure_delay_plot.mark is not str. departure_delay_plot.mark should be an str\"\n",
    "assert sha1(str(len(departure_delay_plot.mark)).encode(\"utf-8\")+b\"cb6c4907e339673c\").hexdigest() == \"ae0e01afcf753113761ccb552c17f917945f4b3e\", \"length of departure_delay_plot.mark is not correct\"\n",
    "assert sha1(str(departure_delay_plot.mark.lower()).encode(\"utf-8\")+b\"cb6c4907e339673c\").hexdigest() == \"e35626546c4668f52956683d1618db17f509013f\", \"value of departure_delay_plot.mark is not correct\"\n",
    "assert sha1(str(departure_delay_plot.mark).encode(\"utf-8\")+b\"cb6c4907e339673c\").hexdigest() == \"e35626546c4668f52956683d1618db17f509013f\", \"correct string value of departure_delay_plot.mark but incorrect case of letters\"\n",
    "\n",
    "assert sha1(str(type(departure_delay_plot.encoding.x['title'])).encode(\"utf-8\")+b\"1b04dc85389d66bb\").hexdigest() == \"26df82197e6e1996bb8c92dc567b41fae6160740\", \"type of departure_delay_plot.encoding.x['title'] is not str. departure_delay_plot.encoding.x['title'] should be an str\"\n",
    "assert sha1(str(len(departure_delay_plot.encoding.x['title'])).encode(\"utf-8\")+b\"1b04dc85389d66bb\").hexdigest() == \"e3724f72dfe4da4be4c0299beb96247555ad1592\", \"length of departure_delay_plot.encoding.x['title'] is not correct\"\n",
    "assert sha1(str(departure_delay_plot.encoding.x['title'].lower()).encode(\"utf-8\")+b\"1b04dc85389d66bb\").hexdigest() == \"c15e5eac334a440917eb00d64422473f835800e7\", \"value of departure_delay_plot.encoding.x['title'] is not correct\"\n",
    "assert sha1(str(departure_delay_plot.encoding.x['title']).encode(\"utf-8\")+b\"1b04dc85389d66bb\").hexdigest() == \"43e62eb26ccfe8beca08b67829e3178e35cfbc8e\", \"correct string value of departure_delay_plot.encoding.x['title'] but incorrect case of letters\"\n",
    "\n",
    "assert sha1(str(type(departure_delay_plot.encoding.y['title'])).encode(\"utf-8\")+b\"a78674d9e0bccba9\").hexdigest() == \"4b24955a29429a8cb1244c9543d1c272c265fedf\", \"type of departure_delay_plot.encoding.y['title'] is not str. departure_delay_plot.encoding.y['title'] should be an str\"\n",
    "assert sha1(str(len(departure_delay_plot.encoding.y['title'])).encode(\"utf-8\")+b\"a78674d9e0bccba9\").hexdigest() == \"9c653722505b77c6ae0371eebf00ae88a1834226\", \"length of departure_delay_plot.encoding.y['title'] is not correct\"\n",
    "assert sha1(str(departure_delay_plot.encoding.y['title'].lower()).encode(\"utf-8\")+b\"a78674d9e0bccba9\").hexdigest() == \"15a38c21b52ed7b7bb572758e070fd6694a43d4e\", \"value of departure_delay_plot.encoding.y['title'] is not correct\"\n",
    "assert sha1(str(departure_delay_plot.encoding.y['title']).encode(\"utf-8\")+b\"a78674d9e0bccba9\").hexdigest() == \"18d693ad34c13d3aef6857b9ef833614f6a300b5\", \"correct string value of departure_delay_plot.encoding.y['title'] but incorrect case of letters\"\n",
    "\n",
    "assert sha1(str(type(departure_delay_plot.encoding.x['shorthand'])).encode(\"utf-8\")+b\"23f0b65f5d1ee6dc\").hexdigest() == \"f1a934074b09207efca09f2c33177b073fc6962b\", \"type of departure_delay_plot.encoding.x['shorthand'] is not str. departure_delay_plot.encoding.x['shorthand'] should be an str\"\n",
    "assert sha1(str(len(departure_delay_plot.encoding.x['shorthand'])).encode(\"utf-8\")+b\"23f0b65f5d1ee6dc\").hexdigest() == \"62e7da50221c7ca981ece3d2a4aed8e2f2d144a5\", \"length of departure_delay_plot.encoding.x['shorthand'] is not correct\"\n",
    "assert sha1(str(departure_delay_plot.encoding.x['shorthand'].lower()).encode(\"utf-8\")+b\"23f0b65f5d1ee6dc\").hexdigest() == \"402d4c2046f4fdd5ce2ed39d09b8101bdb25cb64\", \"value of departure_delay_plot.encoding.x['shorthand'] is not correct\"\n",
    "assert sha1(str(departure_delay_plot.encoding.x['shorthand']).encode(\"utf-8\")+b\"23f0b65f5d1ee6dc\").hexdigest() == \"9a8ddb0a2512e6cca25d03cde235bc13110daf58\", \"correct string value of departure_delay_plot.encoding.x['shorthand'] but incorrect case of letters\"\n",
    "\n",
    "assert sha1(str(type(departure_delay_plot.encoding.y['shorthand'])).encode(\"utf-8\")+b\"85cc56707b962e87\").hexdigest() == \"ea9668a43a714a93815c6b1dcf564d0e7054a23f\", \"type of departure_delay_plot.encoding.y['shorthand'] is not str. departure_delay_plot.encoding.y['shorthand'] should be an str\"\n",
    "assert sha1(str(len(departure_delay_plot.encoding.y['shorthand'])).encode(\"utf-8\")+b\"85cc56707b962e87\").hexdigest() == \"a25957da1d06198ee0e155f30fbdb6e2821d8cd5\", \"length of departure_delay_plot.encoding.y['shorthand'] is not correct\"\n",
    "assert sha1(str(departure_delay_plot.encoding.y['shorthand'].lower()).encode(\"utf-8\")+b\"85cc56707b962e87\").hexdigest() == \"92ffb8c76b2b1521c6c7a9d6291ad595df6ec520\", \"value of departure_delay_plot.encoding.y['shorthand'] is not correct\"\n",
    "assert sha1(str(departure_delay_plot.encoding.y['shorthand']).encode(\"utf-8\")+b\"85cc56707b962e87\").hexdigest() == \"de9d366622472fe6474d5573e25c5c2f53b9b30b\", \"correct string value of departure_delay_plot.encoding.y['shorthand'] but incorrect case of letters\"\n",
    "\n",
    "print('Success!')"
   ]
  },
  {
   "cell_type": "markdown",
   "metadata": {
    "deletable": false,
    "editable": false,
    "nbgrader": {
     "cell_type": "markdown",
     "checksum": "b88cdb584585fa695b2e5be0ffcdf3f6",
     "grade": false,
     "grade_id": "cell-6657febeb798f228",
     "locked": true,
     "schema_version": 3,
     "solution": false,
     "task": false
    }
   },
   "source": [
    "**Question 4.7**\n",
    "<br> {points: 1}\n",
    "\n",
    "Look at the two plots you generated. Are departures from or arrivals to `BOS` more likely to be on time? Note that \"on time\" is defined as being at most 15 minutes ahead or behind the scheduled time.\n",
    "\n",
    "*Hint: Remember that each bin is 15 min (0.25 hours) wide.*\n",
    "\n",
    "_Assign your answer (either `\"departures\"` or `\"arrivals\"`) to an object called `answer4_7`._"
   ]
  },
  {
   "cell_type": "code",
   "execution_count": null,
   "metadata": {
    "deletable": false,
    "nbgrader": {
     "cell_type": "code",
     "checksum": "7348f9f672762e039ba7015bd9e220c1",
     "grade": false,
     "grade_id": "cell-2abe63d9b3bb7dd0",
     "locked": false,
     "schema_version": 3,
     "solution": true,
     "task": false
    }
   },
   "outputs": [],
   "source": [
    "# your code here\n",
    "raise NotImplementedError"
   ]
  },
  {
   "cell_type": "code",
   "execution_count": null,
   "metadata": {
    "deletable": false,
    "editable": false,
    "nbgrader": {
     "cell_type": "code",
     "checksum": "1a59cbaba129383bf07e4e341e236dfb",
     "grade": true,
     "grade_id": "cell-5e0e102e3ce475fd",
     "locked": true,
     "points": 1,
     "schema_version": 3,
     "solution": false,
     "task": false
    }
   },
   "outputs": [],
   "source": [
    "from hashlib import sha1\n",
    "assert sha1(str(type(answer4_7)).encode(\"utf-8\")+b\"00faf792804df0a6\").hexdigest() == \"5a78eb195a4b8d071dd4d71917ec14580027a2f5\", \"type of answer4_7 is not str. answer4_7 should be an str\"\n",
    "assert sha1(str(len(answer4_7)).encode(\"utf-8\")+b\"00faf792804df0a6\").hexdigest() == \"16527f13cf3850c7e27a7d4020b698ea41048542\", \"length of answer4_7 is not correct\"\n",
    "assert sha1(str(answer4_7.lower()).encode(\"utf-8\")+b\"00faf792804df0a6\").hexdigest() == \"dffac3c59621c7e47f7a71e97ff384f2ee678c1e\", \"value of answer4_7 is not correct\"\n",
    "assert sha1(str(answer4_7).encode(\"utf-8\")+b\"00faf792804df0a6\").hexdigest() == \"dffac3c59621c7e47f7a71e97ff384f2ee678c1e\", \"correct string value of answer4_7 but incorrect case of letters\"\n",
    "\n",
    "print('Success!')"
   ]
  },
  {
   "cell_type": "markdown",
   "metadata": {
    "deletable": false,
    "editable": false,
    "nbgrader": {
     "cell_type": "markdown",
     "checksum": "627c42d67032f5364fd38c1a1484d573",
     "grade": false,
     "grade_id": "cell-c35956f1f27af2ea",
     "locked": true,
     "schema_version": 3,
     "solution": false,
     "task": false
    }
   },
   "source": [
    "**Question 4.8**\n",
    "<br>{points: 1}\n",
    "\n",
    "Use the `to_csv` method to write the dataframe to a file called `delay_data.csv`. Save the file in the `data/` folder and specify `index=False` to avoid including the numerical index in the file.\n",
    "\n",
    "*Note: there are many possible ways to use `to_csv` to customize the output. Just use the defaults here!*"
   ]
  },
  {
   "cell_type": "code",
   "execution_count": null,
   "metadata": {
    "lines_to_next_cell": 2
   },
   "outputs": [],
   "source": [
    "# If you don't know how to call collect or write_csv, use this cell to\n",
    "# check the documentation by calling ?pd.DataFrame.to_csv"
   ]
  },
  {
   "cell_type": "code",
   "execution_count": null,
   "metadata": {
    "deletable": false,
    "nbgrader": {
     "cell_type": "code",
     "checksum": "9df8c65029a49ff7f5af6b3b6b25d2ee",
     "grade": false,
     "grade_id": "cell-317f2b694425e7ad",
     "locked": false,
     "schema_version": 3,
     "solution": true,
     "task": false
    }
   },
   "outputs": [],
   "source": [
    "# pd.DataFrame.to_csv(___, ___)\n",
    "\n",
    "# your code here\n",
    "raise NotImplementedError"
   ]
  },
  {
   "cell_type": "code",
   "execution_count": null,
   "metadata": {
    "deletable": false,
    "editable": false,
    "nbgrader": {
     "cell_type": "code",
     "checksum": "82e774fd6206866653743a0b4cd94fe5",
     "grade": true,
     "grade_id": "cell-ba229a7094676d0f",
     "locked": true,
     "points": 1,
     "schema_version": 3,
     "solution": false,
     "task": false
    }
   },
   "outputs": [],
   "source": [
    "from hashlib import sha1\n",
    "assert sha1(str(type(os.path.exists('data/delay_data.csv'))).encode(\"utf-8\")+b\"e7d347bc0596f804\").hexdigest() == \"3f920f405e995e43b39bb8619986c53c6106674e\", \"type of os.path.exists('data/delay_data.csv') is not bool. os.path.exists('data/delay_data.csv') should be a bool\"\n",
    "assert sha1(str(os.path.exists('data/delay_data.csv')).encode(\"utf-8\")+b\"e7d347bc0596f804\").hexdigest() == \"0a0752fd8fef8df6379e2ea86db4ec3f2c7b62f9\", \"boolean value of os.path.exists('data/delay_data.csv') is not correct\"\n",
    "\n",
    "assert sha1(str(type(pd.read_csv('data/delay_data.csv').sum())).encode(\"utf-8\")+b\"2f7190307b3c1a5d\").hexdigest() == \"565909fc3ba0b2c659b2e569eb4ee6bed5591c43\", \"type of pd.read_csv('data/delay_data.csv').sum() is not correct\"\n",
    "assert sha1(str(pd.read_csv('data/delay_data.csv').sum()).encode(\"utf-8\")+b\"2f7190307b3c1a5d\").hexdigest() == \"0882bdfe04a74151c47c873bb04d36f9778a94cb\", \"value of pd.read_csv('data/delay_data.csv').sum() is not correct\"\n",
    "\n",
    "print('Success!')"
   ]
  },
  {
   "cell_type": "code",
   "execution_count": null,
   "metadata": {
    "deletable": false,
    "editable": false,
    "nbgrader": {
     "cell_type": "code",
     "checksum": "4d626e753b69e3979d687c8886190667",
     "grade": false,
     "grade_id": "cell-deef0dceb7f4c945",
     "locked": true,
     "schema_version": 3,
     "solution": false,
     "task": false
    }
   },
   "outputs": [],
   "source": [
    "try:\n",
    "    os.remove(\"data/delay_data.csv\")\n",
    "except:\n",
    "    None"
   ]
  },
  {
   "cell_type": "markdown",
   "metadata": {
    "deletable": false,
    "editable": false,
    "nbgrader": {
     "cell_type": "markdown",
     "checksum": "059b3c88eb9be3ddc6a5cef0d125b3e5",
     "grade": false,
     "grade_id": "cell-f038e8a1f963597e",
     "locked": true,
     "schema_version": 3,
     "solution": false,
     "task": false
    }
   },
   "source": [
    "## 5 (Optional). Reading Data from the Internet\n",
    "\n",
    "### How has the World Gross Domestic product changed throughout history?\n",
    "\n",
    "\n",
    "As defined on Wikipedia, the \"Gross world product (GWP) is the combined gross national product of all the countries in the world.\" Living in our modern age with our roaring (sometimes up and sometimes down) economies, one might wonder how the world economy has changed over history. To answer this question we will scrape data from the [Wikipedia Gross world product page](https://en.wikipedia.org/wiki/Gross_world_product).\n",
    "\n",
    "Your data set will include the following columns: \n",
    "* `year`\n",
    "* `gwp_value`\n",
    "\n",
    "Specifically we will scrape the 2 columns named \"Year\" and \"Real GWP\" in the table under the header \"Historical and prehistorical estimates\". **The end goal of this exercise is to create a line plot with year on the x-axis and GWP value on the y-axis.**"
   ]
  },
  {
   "cell_type": "markdown",
   "metadata": {
    "deletable": false,
    "editable": false,
    "nbgrader": {
     "cell_type": "markdown",
     "checksum": "43ec8d7f2f6c7630560993a2c8dfc60c",
     "grade": false,
     "grade_id": "cell-f2713fa0d78ca175",
     "locked": true,
     "schema_version": 3,
     "solution": false,
     "task": false
    }
   },
   "source": [
    "**Question 5.1.0** Multiple Choice: \n",
    "<br> {points: 0}\n",
    "\n",
    "Under which of the following headers in the table will we scrape from on the [Wikipedia Gross world product page](https://en.wikipedia.org/wiki/Gross_world_product)?\n",
    "\n",
    "A. Gross world product\n",
    "\n",
    "B. Recent growth\n",
    "\n",
    "C. Historical and prehistorical estimates\n",
    "\n",
    "D. See also\n",
    "\n",
    "*Assign your answer to an object called `answer5_1_0`. Make sure your answer is an uppercase letter and is surrounded by quotation marks (e.g. `\"F\"`).* "
   ]
  },
  {
   "cell_type": "code",
   "execution_count": null,
   "metadata": {
    "deletable": false,
    "nbgrader": {
     "cell_type": "code",
     "checksum": "4c1f9b352553e4037c03f15b8c58eb98",
     "grade": false,
     "grade_id": "cell-9014b8f73a269598",
     "locked": false,
     "schema_version": 3,
     "solution": true,
     "task": false
    }
   },
   "outputs": [],
   "source": [
    "# your code here\n",
    "raise NotImplementedError"
   ]
  },
  {
   "cell_type": "code",
   "execution_count": null,
   "metadata": {
    "deletable": false,
    "editable": false,
    "nbgrader": {
     "cell_type": "code",
     "checksum": "def10c18ccfbed182106141f5bb508d2",
     "grade": true,
     "grade_id": "cell-23f53baed109b8c8",
     "locked": true,
     "points": 0,
     "schema_version": 3,
     "solution": false,
     "task": false
    }
   },
   "outputs": [],
   "source": [
    "from hashlib import sha1\n",
    "assert sha1(str(type(answer5_1_0)).encode(\"utf-8\")+b\"9d20ac1816fc291a\").hexdigest() == \"bf82b3c8393b28b55e6b70f8e10a3fc0aec6d07c\", \"type of answer5_1_0 is not str. answer5_1_0 should be an str\"\n",
    "assert sha1(str(len(answer5_1_0)).encode(\"utf-8\")+b\"9d20ac1816fc291a\").hexdigest() == \"6595ed4e5ec6ca98b230585d6f8eb925d4d0918b\", \"length of answer5_1_0 is not correct\"\n",
    "assert sha1(str(answer5_1_0.lower()).encode(\"utf-8\")+b\"9d20ac1816fc291a\").hexdigest() == \"385e508895b225f3f0e72b8629372ed32a010416\", \"value of answer5_1_0 is not correct\"\n",
    "assert sha1(str(answer5_1_0).encode(\"utf-8\")+b\"9d20ac1816fc291a\").hexdigest() == \"4c3fa516a8424824b44e206f0c37bc66da085529\", \"correct string value of answer5_1_0 but incorrect case of letters\"\n",
    "\n",
    "print('Success!')"
   ]
  },
  {
   "cell_type": "markdown",
   "metadata": {
    "deletable": false,
    "editable": false,
    "nbgrader": {
     "cell_type": "markdown",
     "checksum": "c2b639e8e104edcaa04474a14d98a4a3",
     "grade": false,
     "grade_id": "cell-f920cb84f6e8944d",
     "locked": true,
     "schema_version": 3,
     "solution": false,
     "task": false
    }
   },
   "source": [
    "**Question 5.1.1** Multiple Choice: \n",
    "<br> {points: 0}\n",
    "\n",
    "What is going to be the x-axis of the scatter plot we create?\n",
    "\n",
    "A. compound annual growth rate\n",
    "\n",
    "B. the value of the gross world product\n",
    "\n",
    "C. year\n",
    "\n",
    "*Assign your answer to an object called `answer5_1_1`. Make sure your answer is an uppercase letter and is surrounded by quotation marks (e.g. `\"F\"`).* "
   ]
  },
  {
   "cell_type": "code",
   "execution_count": null,
   "metadata": {
    "deletable": false,
    "nbgrader": {
     "cell_type": "code",
     "checksum": "b1fe5be98b34ca81ddfde3d48a63a99a",
     "grade": false,
     "grade_id": "cell-09fc2b26ac527015",
     "locked": false,
     "schema_version": 3,
     "solution": true,
     "task": false
    }
   },
   "outputs": [],
   "source": [
    "# your code here\n",
    "raise NotImplementedError"
   ]
  },
  {
   "cell_type": "code",
   "execution_count": null,
   "metadata": {
    "deletable": false,
    "editable": false,
    "nbgrader": {
     "cell_type": "code",
     "checksum": "10a1a641289fa1ef509f10d9ebffab1d",
     "grade": true,
     "grade_id": "cell-3e8412c02d763ddf",
     "locked": true,
     "points": 0,
     "schema_version": 3,
     "solution": false,
     "task": false
    }
   },
   "outputs": [],
   "source": [
    "from hashlib import sha1\n",
    "assert sha1(str(type(answer5_1_1)).encode(\"utf-8\")+b\"33afadf80c876a01\").hexdigest() == \"d4e0f7617c0f8691ecfbea2f4fd257e8e60a179c\", \"type of answer5_1_1 is not str. answer5_1_1 should be an str\"\n",
    "assert sha1(str(len(answer5_1_1)).encode(\"utf-8\")+b\"33afadf80c876a01\").hexdigest() == \"5eb9d2e8f5a0d5416ec242b826fcc2cda8b016dc\", \"length of answer5_1_1 is not correct\"\n",
    "assert sha1(str(answer5_1_1.lower()).encode(\"utf-8\")+b\"33afadf80c876a01\").hexdigest() == \"81e7c54c3cd7d3ab6cfcd14be2b9e4cca638785a\", \"value of answer5_1_1 is not correct\"\n",
    "assert sha1(str(answer5_1_1).encode(\"utf-8\")+b\"33afadf80c876a01\").hexdigest() == \"c7cb9fe6fc367a090d876bb4feb07c93e42ada4b\", \"correct string value of answer5_1_1 but incorrect case of letters\"\n",
    "\n",
    "print('Success!')"
   ]
  },
  {
   "cell_type": "markdown",
   "metadata": {
    "deletable": false,
    "editable": false,
    "nbgrader": {
     "cell_type": "markdown",
     "checksum": "371079d4c01b24ed14ca1265959ff8b5",
     "grade": false,
     "grade_id": "cell-98dab9f796764883",
     "locked": true,
     "schema_version": 3,
     "solution": false,
     "task": false
    }
   },
   "source": [
    "We need to now load the `BeautifulSoup` and `requests` package to begin our web scraping!"
   ]
  },
  {
   "cell_type": "code",
   "execution_count": null,
   "metadata": {
    "deletable": false,
    "editable": false,
    "nbgrader": {
     "cell_type": "code",
     "checksum": "c3a691ab0db6376fc3918f12efd89736",
     "grade": false,
     "grade_id": "cell-5c4120dd33e96704",
     "locked": true,
     "schema_version": 3,
     "solution": false,
     "task": false
    }
   },
   "outputs": [],
   "source": [
    "# Run this cell\n",
    "import requests\n",
    "from bs4 import BeautifulSoup"
   ]
  },
  {
   "cell_type": "markdown",
   "metadata": {
    "deletable": false,
    "editable": false,
    "nbgrader": {
     "cell_type": "markdown",
     "checksum": "366acf04d7b28d534bf3ffb313d1c8d9",
     "grade": false,
     "grade_id": "cell-2e1088d94c071532",
     "locked": true,
     "schema_version": 3,
     "solution": false,
     "task": false
    }
   },
   "source": [
    "**Question 5.2**\n",
    "<br> {points: 0}\n",
    "\n",
    "To download information from the URL, we should create a `BeautifulSoup` object using the url given in the cell below. We need to use the `.get` function from `request` package to get the url and then pass it into `BeautifulSoup` function.\n",
    "\n",
    "*Assign your answer to an object called `gwp`.*"
   ]
  },
  {
   "cell_type": "code",
   "execution_count": null,
   "metadata": {
    "deletable": false,
    "nbgrader": {
     "cell_type": "code",
     "checksum": "1a2f138948eb19fb04a947cef0c4578f",
     "grade": false,
     "grade_id": "cell-ac271e91bb5e69e8",
     "locked": false,
     "schema_version": 3,
     "solution": true,
     "task": false
    }
   },
   "outputs": [],
   "source": [
    "url = \"https://en.wikipedia.org/wiki/Gross_world_product\"\n",
    "\n",
    "# your code here\n",
    "raise NotImplementedError"
   ]
  },
  {
   "cell_type": "code",
   "execution_count": null,
   "metadata": {
    "deletable": false,
    "editable": false,
    "nbgrader": {
     "cell_type": "code",
     "checksum": "dd78ec9a9d363061f26ce8c883a8eabc",
     "grade": true,
     "grade_id": "cell-70aac0a17c2d3ce8",
     "locked": true,
     "points": 0,
     "schema_version": 3,
     "solution": false,
     "task": false
    }
   },
   "outputs": [],
   "source": [
    "from hashlib import sha1\n",
    "assert sha1(str(type(gwp.__module__ == 'bs4')).encode(\"utf-8\")+b\"a2622571146a6098\").hexdigest() == \"3c00c5724cd852c6967d3b2bd9e88ec849bed0e2\", \"type of gwp.__module__ == 'bs4' is not bool. gwp.__module__ == 'bs4' should be a bool\"\n",
    "assert sha1(str(gwp.__module__ == 'bs4').encode(\"utf-8\")+b\"a2622571146a6098\").hexdigest() == \"751aa918b493594c7ca0dc87509de89eed04c1dd\", \"boolean value of gwp.__module__ == 'bs4' is not correct\"\n",
    "\n",
    "assert sha1(str(type(len(gwp.find_all(\"table\")))).encode(\"utf-8\")+b\"c1b35e5ebce9e70c\").hexdigest() == \"8586361b39cde0cced0639b93c7340bf51efaa27\", \"type of len(gwp.find_all(\\\"table\\\")) is not int. Please make sure it is int and not np.int64, etc. You can cast your value into an int using int()\"\n",
    "assert sha1(str(len(gwp.find_all(\"table\"))).encode(\"utf-8\")+b\"c1b35e5ebce9e70c\").hexdigest() == \"673572f17ef08f1806a74c437558efdc7c29a737\", \"value of len(gwp.find_all(\\\"table\\\")) is not correct\"\n",
    "\n",
    "print('Success!')"
   ]
  },
  {
   "cell_type": "markdown",
   "metadata": {
    "deletable": false,
    "editable": false,
    "nbgrader": {
     "cell_type": "markdown",
     "checksum": "7129ffcaa9747d97df7ddc768a9793bd",
     "grade": false,
     "grade_id": "cell-2234b2d30087a603",
     "locked": true,
     "schema_version": 3,
     "solution": false,
     "task": false
    }
   },
   "source": [
    "**Question 5.3**\n",
    "\n",
    "Run the cell below to create the first column of your data set (the year from the table under the \"Historical and prehistorical estimates\" header). The node was obtained using `CSS selector`. "
   ]
  },
  {
   "cell_type": "code",
   "execution_count": null,
   "metadata": {
    "deletable": false,
    "editable": false,
    "nbgrader": {
     "cell_type": "code",
     "checksum": "27673aa65cce5131b39c42ee34be25a6",
     "grade": false,
     "grade_id": "cell-d58e889638d61873",
     "locked": true,
     "schema_version": 3,
     "solution": false,
     "task": false
    }
   },
   "outputs": [],
   "source": [
    "# Run this cell to create the first column for your data set.\n",
    "\n",
    "year = pd.DataFrame(\n",
    "    [\n",
    "        row.get_text()  # get the content of each rows that extracted from the table\n",
    "        for row in gwp.select(\n",
    "            \".wikitable tbody:nth-child(1) td:nth-child(1)\"\n",
    "        )  # get each rows in the table\n",
    "    ],\n",
    "    columns=[\"year\"],  # set the column name\n",
    ")\n",
    "year.head()"
   ]
  },
  {
   "cell_type": "markdown",
   "metadata": {
    "deletable": false,
    "editable": false,
    "nbgrader": {
     "cell_type": "markdown",
     "checksum": "195a0921842635898d51ce4a677915b7",
     "grade": false,
     "grade_id": "cell-5017ed82d1225440",
     "locked": true,
     "schema_version": 3,
     "solution": false,
     "task": false
    }
   },
   "source": [
    "We can see that although we want numbers for the year, the data we scraped includes the characters `CE` and `\\n` (a newline character). We will have to do some string manipulation and then convert the years from characters to numbers. \n",
    "\n",
    "First we use the `replace` function to match the regex representation for string `\" CE\\n\"` and replace it with nothing `\"\"`:"
   ]
  },
  {
   "cell_type": "code",
   "execution_count": null,
   "metadata": {
    "deletable": false,
    "editable": false,
    "nbgrader": {
     "cell_type": "code",
     "checksum": "68aa45a86df89a3798b3e39c26ea5452",
     "grade": false,
     "grade_id": "cell-6ec2fdfaf8589ac4",
     "locked": true,
     "schema_version": 3,
     "solution": false,
     "task": false
    }
   },
   "outputs": [],
   "source": [
    "year = year.replace(\" CE\\n\", \"\", regex=True)\n",
    "year.head()"
   ]
  },
  {
   "cell_type": "markdown",
   "metadata": {
    "deletable": false,
    "editable": false,
    "nbgrader": {
     "cell_type": "markdown",
     "checksum": "eac779bbba085dcccbdbcc710e74de99",
     "grade": false,
     "grade_id": "cell-a59dce30f27441db",
     "locked": true,
     "schema_version": 3,
     "solution": false,
     "task": false
    }
   },
   "source": [
    "When we print year, we can see we were able to remove `\" CE\\n\"`, but we missed that there is also `\" BCE\\n\"` on the earliest years! There are also commas (`\",\"`) in the large BC years that we will have to remove. We also need to put a `-` sign in front of the BC numbers so we don't confuse them with the AD numbers after we convert everything to numbers. To do this we will need to use a similar strategy to clean this all up! \n",
    "\n",
    "This week we will provide you the code to do this cleaning, next week you will learn to do these kinds of things yourself. After we do all the string/text manipulation then we use the `astype(int)` function to convert the text to integers."
   ]
  },
  {
   "cell_type": "code",
   "execution_count": null,
   "metadata": {
    "deletable": false,
    "editable": false,
    "nbgrader": {
     "cell_type": "code",
     "checksum": "7b050eda7cf9284fe8d6cd3baad88d88",
     "grade": false,
     "grade_id": "cell-5f56ac2571cf0dea",
     "locked": true,
     "schema_version": 3,
     "solution": false,
     "task": false
    }
   },
   "outputs": [],
   "source": [
    "# select the lines containing \" BC\\n\" and put a - at the beginning of them.\n",
    "\n",
    "year[year[\"year\"].str.contains(\" BCE\\n\", regex=True)] = \"-\" + year[\n",
    "    year[\"year\"].str.contains(\" BCE\\n\", regex=True)\n",
    "].replace(\" BCE\\n\", \"\", regex=True)\n",
    "\n",
    "\n",
    "year"
   ]
  },
  {
   "cell_type": "code",
   "execution_count": null,
   "metadata": {
    "deletable": false,
    "editable": false,
    "nbgrader": {
     "cell_type": "code",
     "checksum": "bf7616f5e6287931174970c316783417",
     "grade": false,
     "grade_id": "cell-17f4637ad6306778",
     "locked": true,
     "schema_version": 3,
     "solution": false,
     "task": false
    }
   },
   "outputs": [],
   "source": [
    "# Replace all commas with nothing and change them to integers\n",
    "year = year.replace(\",\", \"\", regex=True).astype(int)\n",
    "year"
   ]
  },
  {
   "cell_type": "markdown",
   "metadata": {
    "deletable": false,
    "editable": false,
    "nbgrader": {
     "cell_type": "markdown",
     "checksum": "828f3454c4524fb8b7c9b7e71cd06b3b",
     "grade": false,
     "grade_id": "cell-5534fe310273b2d8",
     "locked": true,
     "schema_version": 3,
     "solution": false,
     "task": false
    }
   },
   "source": [
    "**Question 5.4**\n",
    "<br> {points: 0}\n",
    "\n",
    "Create a new column for the gross world product (GWP) from the table we are scraping. Don't forget to use `CCS selector` to obtain the CSS selector needed to scrape the GWP values from the table we are scraping. Assign your answer to an object called `gwp_value`. \n",
    "\n",
    "Fill in the `___` in the cell below. \n",
    "\n",
    "Refer to **Question 5.3** and don't be afraid to ask for help. "
   ]
  },
  {
   "cell_type": "code",
   "execution_count": null,
   "metadata": {
    "deletable": false,
    "nbgrader": {
     "cell_type": "code",
     "checksum": "e54186b65d73ec48765e6855014a0bd3",
     "grade": false,
     "grade_id": "cell-86deddef163bcc73",
     "locked": false,
     "schema_version": 3,
     "solution": true,
     "task": false
    }
   },
   "outputs": [],
   "source": [
    "# ___ = pd.DataFrame(\n",
    "#     [\n",
    "#         row.get_text()\n",
    "#         for row in gwp.select(___)\n",
    "#     ],\n",
    "#     columns=[___],\n",
    "# )\n",
    "\n",
    "# your code here\n",
    "raise NotImplementedError\n",
    "gwp_value.head()"
   ]
  },
  {
   "cell_type": "code",
   "execution_count": null,
   "metadata": {
    "deletable": false,
    "editable": false,
    "nbgrader": {
     "cell_type": "code",
     "checksum": "634d535a6cd03397a869ad4f34eb92e7",
     "grade": true,
     "grade_id": "cell-438addc1687e3917",
     "locked": true,
     "points": 0,
     "schema_version": 3,
     "solution": false,
     "task": false
    }
   },
   "outputs": [],
   "source": [
    "from hashlib import sha1\n",
    "assert sha1(str(type(gwp_value.dtypes)).encode(\"utf-8\")+b\"56c3f8fd8f794977\").hexdigest() == \"bdb82bc167eb0c234036faa553b33d1c8f4c784c\", \"type of gwp_value.dtypes is not correct\"\n",
    "assert sha1(str(gwp_value.dtypes).encode(\"utf-8\")+b\"56c3f8fd8f794977\").hexdigest() == \"e443153336a7b175779099a0190cc65b64916ee5\", \"value of gwp_value.dtypes is not correct\"\n",
    "\n",
    "print('Success!')"
   ]
  },
  {
   "cell_type": "markdown",
   "metadata": {
    "deletable": false,
    "editable": false,
    "nbgrader": {
     "cell_type": "markdown",
     "checksum": "f2da4861b74815f6816c643958aa5f18",
     "grade": false,
     "grade_id": "cell-e1b4a2d4eaaf451c",
     "locked": true,
     "schema_version": 3,
     "solution": false,
     "task": false
    }
   },
   "source": [
    "Again, looking at the output of `gwp_value.head()` we see we have some cleaning and type conversions to do. We need to remove the commas, the extraneous trailing information in the first 3 columns, and the `\"\\n\"` character again. We provide the code to do this below:"
   ]
  },
  {
   "cell_type": "code",
   "execution_count": null,
   "metadata": {
    "deletable": false,
    "editable": false,
    "nbgrader": {
     "cell_type": "code",
     "checksum": "64d0f6b670e3ecc83fc4a6c27f3b68c2",
     "grade": false,
     "grade_id": "cell-aae7d3c8f4ba3865",
     "locked": true,
     "schema_version": 3,
     "solution": false,
     "task": false
    }
   },
   "outputs": [],
   "source": [
    "# Run this cell to clean up the year data and convert it to a number.\n",
    "\n",
    "# Replace all commas with nothing\n",
    "gwp_value = gwp_value.replace(\",\", \"\", regex=True)\n",
    "\n",
    "# Extract numerics and change strings to numeric.\n",
    "gwp_value[\"gwp_value\"] = gwp_value[\"gwp_value\"].str.extract(r\"([0-9.]+)\").astype(float)\n",
    "\n",
    "gwp_value.head()"
   ]
  },
  {
   "cell_type": "markdown",
   "metadata": {
    "deletable": false,
    "editable": false,
    "nbgrader": {
     "cell_type": "markdown",
     "checksum": "c5699cc6c3107bee59357b9f26ba3cbc",
     "grade": false,
     "grade_id": "cell-09d2f7df73b5e750",
     "locked": true,
     "schema_version": 3,
     "solution": false,
     "task": false
    }
   },
   "source": [
    "**Question 5.5**\n",
    "<br> {points: 0}\n",
    "\n",
    "Use the `pandas` `concat` function to create a data frame named `gwp` with `year` and `gwp_value` as columns. The general form for the creating data frames from dataframes horizontally using the `concat` function is as follows (`axis=1` means we are doing the concatenation horizontally):\n",
    "\n",
    "```pd.concat([COLUMN1_NAME, COLUMN2_NAME, COLUMN3_NAME, ...], axis=1)```\n"
   ]
  },
  {
   "cell_type": "code",
   "execution_count": null,
   "metadata": {
    "deletable": false,
    "nbgrader": {
     "cell_type": "code",
     "checksum": "7ceaea6486f897d9c6a00e3c63984069",
     "grade": false,
     "grade_id": "cell-0bc1cb6696cf0426",
     "locked": false,
     "schema_version": 3,
     "solution": true,
     "task": false
    }
   },
   "outputs": [],
   "source": [
    "# ___ = pd.concat(___, axis=1)\n",
    "\n",
    "# your code here\n",
    "raise NotImplementedError\n",
    "gwp.head()"
   ]
  },
  {
   "cell_type": "code",
   "execution_count": null,
   "metadata": {
    "deletable": false,
    "editable": false,
    "nbgrader": {
     "cell_type": "code",
     "checksum": "303e0c5bda7154b83a08d8a87baa69ad",
     "grade": true,
     "grade_id": "cell-3cba4415a994f8a4",
     "locked": true,
     "points": 0,
     "schema_version": 3,
     "solution": false,
     "task": false
    }
   },
   "outputs": [],
   "source": [
    "from hashlib import sha1\n",
    "assert sha1(str(type(gwp)).encode(\"utf-8\")+b\"83c50968555b7870\").hexdigest() == \"0d3ffc0f5d29a919fdf7f8347c1a9ca4b2eed804\", \"type of type(gwp) is not correct\"\n",
    "\n",
    "assert sha1(str(type(\"year\" in gwp.columns)).encode(\"utf-8\")+b\"474f34bc949085ca\").hexdigest() == \"70d3ff0ec43aa453ab1a319c6c498b7824d620ac\", \"type of \\\"year\\\" in gwp.columns is not bool. \\\"year\\\" in gwp.columns should be a bool\"\n",
    "assert sha1(str(\"year\" in gwp.columns).encode(\"utf-8\")+b\"474f34bc949085ca\").hexdigest() == \"bc84aa5ca8a0dcdb3ffe85e4c509f0544fe57197\", \"boolean value of \\\"year\\\" in gwp.columns is not correct\"\n",
    "\n",
    "assert sha1(str(type(\"gwp_value\" in gwp.columns)).encode(\"utf-8\")+b\"706b6079a5159fbf\").hexdigest() == \"40b834dd32c65f88935227ad33d02d4d38f48e4a\", \"type of \\\"gwp_value\\\" in gwp.columns is not bool. \\\"gwp_value\\\" in gwp.columns should be a bool\"\n",
    "assert sha1(str(\"gwp_value\" in gwp.columns).encode(\"utf-8\")+b\"706b6079a5159fbf\").hexdigest() == \"2cb29c2882b42e52c510185c4ebe57f352a9a9c0\", \"boolean value of \\\"gwp_value\\\" in gwp.columns is not correct\"\n",
    "\n",
    "print('Success!')"
   ]
  },
  {
   "cell_type": "markdown",
   "metadata": {
    "deletable": false,
    "editable": false,
    "nbgrader": {
     "cell_type": "markdown",
     "checksum": "8578008b017e683d780578ab6e158b8e",
     "grade": false,
     "grade_id": "cell-503877c2d6e4925b",
     "locked": true,
     "schema_version": 3,
     "solution": false,
     "task": false
    }
   },
   "source": [
    "One last piece of data transformation/wrangling we will do before we get to data visualization is to create another column called `sqrt_year` which scales the year values so that they will be more informative when we plot them (if you look at our year data we have a lot of years in the recent past, and fewer and fewer as we go back in time). Often times you can just transform the scale within `altair` (for example see what we do with the `gwp_value` later on), but the year value is tricky for scaling because it contains negative values. So we need to first make everything positive, then take the square root, and then re-transform the values that should be negative to negative again! We provide the code to do this below."
   ]
  },
  {
   "cell_type": "markdown",
   "metadata": {
    "deletable": false,
    "editable": false,
    "nbgrader": {
     "cell_type": "markdown",
     "checksum": "4d7fd45b3294f0846ac355c8854fa1bd",
     "grade": false,
     "grade_id": "cell-5fa1e339bd0afeb2",
     "locked": true,
     "schema_version": 3,
     "solution": false,
     "task": false
    }
   },
   "source": [
    "To get the square root for a dataframe, we could use the `np.sqrt` function from the `numpy` package. And we could use `np.where` function from the `numpy` package to wrangle the data based on its values. Therefore, we would need to import the `numpy` package first. "
   ]
  },
  {
   "cell_type": "code",
   "execution_count": null,
   "metadata": {
    "deletable": false,
    "editable": false,
    "nbgrader": {
     "cell_type": "code",
     "checksum": "c108b40fa9034c4d81c36a6264d996b9",
     "grade": false,
     "grade_id": "cell-0b4d2b2a6677aab2",
     "locked": true,
     "schema_version": 3,
     "solution": false,
     "task": false
    }
   },
   "outputs": [],
   "source": [
    "import numpy as np"
   ]
  },
  {
   "cell_type": "code",
   "execution_count": null,
   "metadata": {
    "deletable": false,
    "editable": false,
    "nbgrader": {
     "cell_type": "code",
     "checksum": "28e4a12cc2e9649552edc18d2ac6e0e2",
     "grade": false,
     "grade_id": "cell-44ac8d8ce7b36e58",
     "locked": true,
     "schema_version": 3,
     "solution": false,
     "task": false
    }
   },
   "outputs": [],
   "source": [
    "gwp = gwp.assign(\n",
    "    sqrt_year=np.where(year < 0, np.sqrt(abs(year)) * -1, np.sqrt(abs(year)))\n",
    ")\n",
    "gwp.head()"
   ]
  },
  {
   "cell_type": "markdown",
   "metadata": {
    "deletable": false,
    "editable": false,
    "nbgrader": {
     "cell_type": "markdown",
     "checksum": "6bfc60c076a6425a22f48e63cf8cd790",
     "grade": false,
     "grade_id": "cell-1833f7c5bde23c49",
     "locked": true,
     "schema_version": 3,
     "solution": false,
     "task": false
    }
   },
   "source": [
    "**Question 5.6**\n",
    "<br> {points: 0}\n",
    "\n",
    "Create a line plot using the `gwp` data frame where `sqrt_year` is on the x-axis and `gwp_value` is on the y-axis. Name your plot object `gwp_historical`. To make a line plot instead of a scatter plot you should use the `mark_line` function instead of the `mark_point` function. *Note that we provide the plot code to relabel the x-axis with the human understandable years instead of the tranformed ones we plot.*"
   ]
  },
  {
   "cell_type": "code",
   "execution_count": null,
   "metadata": {
    "deletable": false,
    "nbgrader": {
     "cell_type": "code",
     "checksum": "d219d60604ee0524e4ccc4d7dd49b402",
     "grade": false,
     "grade_id": "cell-8cee40703d450fc0",
     "locked": false,
     "schema_version": 3,
     "solution": true,
     "task": false
    }
   },
   "outputs": [],
   "source": [
    "# ___ = alt.Chart(gwp).mark_line().encode(\n",
    "#     x=alt.X(\"___\").\n",
    "#         .title(\"___\")\n",
    "#         .axis(values=[-1000, -750, -500, -250, -77.7, 0, 38.7]),\n",
    "#     y=alt.Y(\"___\")\n",
    "#         .scale(type=\"log\", base=10),\n",
    "#         .title(\"Gross World Domestic Product ($ billions)\")\n",
    "# )\n",
    "\n",
    "# your code here\n",
    "raise NotImplementedError\n",
    "\n",
    "gwp_historical"
   ]
  },
  {
   "cell_type": "code",
   "execution_count": null,
   "metadata": {
    "deletable": false,
    "editable": false,
    "nbgrader": {
     "cell_type": "code",
     "checksum": "623332d3b2a2330c8335553267d64ab9",
     "grade": true,
     "grade_id": "cell-777c68035ed0cf31",
     "locked": true,
     "points": 0,
     "schema_version": 3,
     "solution": false,
     "task": false
    }
   },
   "outputs": [],
   "source": [
    "from hashlib import sha1\n",
    "assert sha1(str(type(gwp_historical.mark)).encode(\"utf-8\")+b\"f0da9949e2a6d345\").hexdigest() == \"1c81ce2be59dcaa6ad2388cb3cb1df3b4070ef65\", \"type of gwp_historical.mark is not str. gwp_historical.mark should be an str\"\n",
    "assert sha1(str(len(gwp_historical.mark)).encode(\"utf-8\")+b\"f0da9949e2a6d345\").hexdigest() == \"ab815f23fb8a3c3e7ab9baa7c744c4f7fa529e13\", \"length of gwp_historical.mark is not correct\"\n",
    "assert sha1(str(gwp_historical.mark.lower()).encode(\"utf-8\")+b\"f0da9949e2a6d345\").hexdigest() == \"6d7b481d86489d00314136badd2645c0c7f128fc\", \"value of gwp_historical.mark is not correct\"\n",
    "assert sha1(str(gwp_historical.mark).encode(\"utf-8\")+b\"f0da9949e2a6d345\").hexdigest() == \"6d7b481d86489d00314136badd2645c0c7f128fc\", \"correct string value of gwp_historical.mark but incorrect case of letters\"\n",
    "\n",
    "assert sha1(str(type(isinstance(gwp_historical.encoding.x['title'], str))).encode(\"utf-8\")+b\"25dd7a5b85674eb0\").hexdigest() == \"459fb6bc023e5c108a5ba992aab0392e4ce67180\", \"type of isinstance(gwp_historical.encoding.x['title'], str) is not bool. isinstance(gwp_historical.encoding.x['title'], str) should be a bool\"\n",
    "assert sha1(str(isinstance(gwp_historical.encoding.x['title'], str)).encode(\"utf-8\")+b\"25dd7a5b85674eb0\").hexdigest() == \"553419520121797f76fbcafa890ec63ff2607315\", \"boolean value of isinstance(gwp_historical.encoding.x['title'], str) is not correct\"\n",
    "\n",
    "assert sha1(str(type(isinstance(gwp_historical.encoding.y['title'], str))).encode(\"utf-8\")+b\"51571be616a7d94f\").hexdigest() == \"697afaf9c0373a5d0aab857a5c33fb767801c761\", \"type of isinstance(gwp_historical.encoding.y['title'], str) is not bool. isinstance(gwp_historical.encoding.y['title'], str) should be a bool\"\n",
    "assert sha1(str(isinstance(gwp_historical.encoding.y['title'], str)).encode(\"utf-8\")+b\"51571be616a7d94f\").hexdigest() == \"cb4eaeb725de2f43acb62f2dde9df8b6b2dca673\", \"boolean value of isinstance(gwp_historical.encoding.y['title'], str) is not correct\"\n",
    "\n",
    "print('Success!')"
   ]
  },
  {
   "cell_type": "markdown",
   "metadata": {
    "deletable": false,
    "editable": false,
    "nbgrader": {
     "cell_type": "markdown",
     "checksum": "ddfce3f64ae303089d813894eeb0f952",
     "grade": false,
     "grade_id": "cell-9fad67ebf88a44dc",
     "locked": true,
     "schema_version": 3,
     "solution": false,
     "task": false
    }
   },
   "source": [
    "**Question 5.7** \n",
    "<br> {points: 0}\n",
    "\n",
    "Looking at the line plot, when does the Gross World Domestic Product first start to more rapidly increase (i.e., when does the slope of the line first change)? \n",
    "\n",
    "A. roughly around year -1,000,000\n",
    "\n",
    "B. roughly around year -250,000\n",
    "\n",
    "C. roughly around year -5000\n",
    "\n",
    "D. roughly around year 1500\n",
    "\n",
    "\n",
    "*Assign your answer to an object called `answer5_7`. Make sure your answer is an uppercase letter and is surrounded by quotation marks (e.g. `\"F\"`).*"
   ]
  },
  {
   "cell_type": "code",
   "execution_count": null,
   "metadata": {
    "deletable": false,
    "nbgrader": {
     "cell_type": "code",
     "checksum": "c7de244efa32574a6b8f41b0d036c189",
     "grade": false,
     "grade_id": "cell-f5b7b1abc10c4c10",
     "locked": false,
     "schema_version": 3,
     "solution": true,
     "task": false
    }
   },
   "outputs": [],
   "source": [
    "# your code here\n",
    "raise NotImplementedError"
   ]
  },
  {
   "cell_type": "code",
   "execution_count": null,
   "metadata": {
    "deletable": false,
    "editable": false,
    "nbgrader": {
     "cell_type": "code",
     "checksum": "f416d2608fa41ca88d59cd1ce0b7846b",
     "grade": true,
     "grade_id": "cell-1f98d6f7bb212ed9",
     "locked": true,
     "points": 0,
     "schema_version": 3,
     "solution": false,
     "task": false
    }
   },
   "outputs": [],
   "source": [
    "from hashlib import sha1\n",
    "assert sha1(str(type(answer5_7)).encode(\"utf-8\")+b\"2cc415bdc2e369b0\").hexdigest() == \"1e6e26c1bd81231a2d345cb49b41b39d7d946fdb\", \"type of answer5_7 is not str. answer5_7 should be an str\"\n",
    "assert sha1(str(len(answer5_7)).encode(\"utf-8\")+b\"2cc415bdc2e369b0\").hexdigest() == \"08529589d677452d9096c5b4a99263b1c2208d41\", \"length of answer5_7 is not correct\"\n",
    "assert sha1(str(answer5_7.lower()).encode(\"utf-8\")+b\"2cc415bdc2e369b0\").hexdigest() == \"a37e2854a2e214f45ac3be164dc7e3e35ba81804\", \"value of answer5_7 is not correct\"\n",
    "assert sha1(str(answer5_7).encode(\"utf-8\")+b\"2cc415bdc2e369b0\").hexdigest() == \"9ef9fb0bca0fd5d0d7e8a7017107a0456afd683c\", \"correct string value of answer5_7 but incorrect case of letters\"\n",
    "\n",
    "print('Success!')"
   ]
  },
  {
   "cell_type": "code",
   "execution_count": null,
   "metadata": {
    "deletable": false,
    "editable": false,
    "nbgrader": {
     "cell_type": "code",
     "checksum": "d0cf259c209162aeb29fdbf01cf45d80",
     "grade": false,
     "grade_id": "cell-e46f0ec8bbd820d5",
     "locked": true,
     "schema_version": 3,
     "solution": false,
     "task": false
    }
   },
   "outputs": [],
   "source": [
    "try:\n",
    "    os.remove(\"data/delay_data.csv\")\n",
    "except:\n",
    "    None"
   ]
  }
 ],
 "metadata": {
  "kernelspec": {
   "display_name": "Python 3 (ipykernel)",
   "language": "python",
   "name": "python3"
  },
  "language_info": {
   "codemirror_mode": {
    "name": "ipython",
    "version": 3
   },
   "file_extension": ".py",
   "mimetype": "text/x-python",
   "name": "python",
   "nbconvert_exporter": "python",
   "pygments_lexer": "ipython3",
   "version": "3.11.4"
  }
 },
 "nbformat": 4,
 "nbformat_minor": 4
}
