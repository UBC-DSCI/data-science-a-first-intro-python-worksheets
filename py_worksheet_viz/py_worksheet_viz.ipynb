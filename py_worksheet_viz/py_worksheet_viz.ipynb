{
 "cells": [
  {
   "cell_type": "markdown",
   "metadata": {
    "deletable": false,
    "editable": false,
    "nbgrader": {
     "cell_type": "markdown",
     "checksum": "c0a79a0f27081b90e3c0785746e41019",
     "grade": false,
     "grade_id": "cell-d7dff6881e80c256",
     "locked": true,
     "schema_version": 3,
     "solution": false,
     "task": false
    }
   },
   "source": [
    "# Worksheet 4: Effective Data Visualization \n",
    "\n",
    "\n",
    "### Lecture and Tutorial Learning Goals:\n",
    "\n",
    "Expand your data visualization knowledge and tool set beyond what we have seen and practiced so far. We will move beyond scatter plots and learn other effective ways to visualize data, as well as some general rules of thumb to follow when creating visualizations. All visualization tasks this week will be applied to real world data sets.\n",
    "\n",
    "\n",
    "After completing this week's lecture and tutorial work, you will be able to:\n",
    "\n",
    "- Describe when to use the following kinds of visualizations:\n",
    "    - scatter plots\n",
    "    - line plots\n",
    "    - bar plots\n",
    "- Given a dataset and a question, select from the above plot types to create a visualization that best answers the question\n",
    "- Given a visualization and a question, evaluate the effectiveness of the visualization and suggest improvements to better answer the question\n",
    "- Identify rules of thumb for creating effective visualizations\n",
    "- Define the two key aspects of altair objects:\n",
    "    - mark objects\n",
    "    - encodings\n",
    "- Use the `altair` library in Python to create and refine the above visualizations using:\n",
    "    - mark objects: `mark_point`, `mark_line`, `mark_bar`\n",
    "    - encodings : `x`, `y`, `color`, `shape`\n",
    "    - subplots: `facet`\n",
    "- Describe the difference in raster and vector output formats\n",
    "- Use `save` to save visualizations in `png` and `svg` formats\n",
    "\n",
    "This worksheet covers parts of [Chapter 4](https://python.datasciencebook.ca/viz.html) of the online textbook. You should read this chapter before attempting the worksheet.\n",
    "Any place you see `___`, you must fill in the function, variable, or data to complete the code. Substitute the `raise NotImplementedError` with your completed code and answers then proceed to run the cell!"
   ]
  },
  {
   "cell_type": "code",
   "execution_count": null,
   "metadata": {
    "deletable": false,
    "editable": false,
    "nbgrader": {
     "cell_type": "code",
     "checksum": "ab9016317260f86695723e8a05abffcf",
     "grade": false,
     "grade_id": "cell-1fdb1939e17b5421",
     "locked": true,
     "schema_version": 3,
     "solution": false,
     "task": false
    }
   },
   "outputs": [],
   "source": [
    "### Run this cell before continuing.\n",
    "import altair as alt\n",
    "import pandas as pd\n",
    "\n",
    "# Simplify working with large datasets in Altair\n",
    "alt.data_transformers.disable_max_rows()"
   ]
  },
  {
   "cell_type": "markdown",
   "metadata": {
    "deletable": false,
    "editable": false,
    "nbgrader": {
     "cell_type": "markdown",
     "checksum": "c3d3f2feb135bd29afd976588f7efc5d",
     "grade": false,
     "grade_id": "cell-3c378af00356c0f3",
     "locked": true,
     "schema_version": 3,
     "solution": false
    }
   },
   "source": [
    "**Question 0.1** True or False: \n",
    "<br> {points: 1}\n",
    "\n",
    "For each of the items below, which are encodings in `altair`? \n",
    "\n",
    "A. `color` <br>\n",
    "B. `scale` <br>\n",
    "C. `x` <br>\n",
    "D. `fill` <br>\n",
    "E. `type`\n",
    "\n",
    "*Assign either `True` or `False` for each to an object called `answer0_1_L` where `L` should be replaced by the letter corresponding to the question. For example, if above we had E. `type`, we would set `answer0_1_E = True`.*"
   ]
  },
  {
   "cell_type": "code",
   "execution_count": null,
   "metadata": {
    "deletable": false,
    "nbgrader": {
     "cell_type": "code",
     "checksum": "83dccd22df663b9ebdc461f955a6dfdd",
     "grade": false,
     "grade_id": "cell-d42b5b5cadd02544",
     "locked": false,
     "schema_version": 3,
     "solution": true
    }
   },
   "outputs": [],
   "source": [
    "# your code here\n",
    "raise NotImplementedError"
   ]
  },
  {
   "cell_type": "code",
   "execution_count": null,
   "metadata": {
    "deletable": false,
    "editable": false,
    "nbgrader": {
     "cell_type": "code",
     "checksum": "b13ae363e78f0671d48f90340691d7ce",
     "grade": true,
     "grade_id": "cell-65573b490f8813ec",
     "locked": true,
     "points": 1,
     "schema_version": 3,
     "solution": false
    }
   },
   "outputs": [],
   "source": [
    "from hashlib import sha1\n",
    "assert sha1(str(type(answer0_1_A)).encode(\"utf-8\")+b\"f0058bfbde573e51\").hexdigest() == \"9b2aaafb3594ea8ce9307441b995bde3c4dd2c2f\", \"type of answer0_1_A is not bool. answer0_1_A should be a bool\"\n",
    "assert sha1(str(answer0_1_A).encode(\"utf-8\")+b\"f0058bfbde573e51\").hexdigest() == \"a2e16365866c6cd403d0c714fb8977e39fda0da3\", \"boolean value of answer0_1_A is not correct\"\n",
    "\n",
    "assert sha1(str(type(answer0_1_B)).encode(\"utf-8\")+b\"f86704526fbda670\").hexdigest() == \"ae93b9a8b6111c7262b50d756425ad00341c5dd8\", \"type of answer0_1_B is not bool. answer0_1_B should be a bool\"\n",
    "assert sha1(str(answer0_1_B).encode(\"utf-8\")+b\"f86704526fbda670\").hexdigest() == \"f07f7a14fd0ae66175d7c26ef98773b7a2c712d0\", \"boolean value of answer0_1_B is not correct\"\n",
    "\n",
    "assert sha1(str(type(answer0_1_C)).encode(\"utf-8\")+b\"c239ae8f55ff6de5\").hexdigest() == \"59c5bc092ef25fa86b7041cad27a8554d995b56e\", \"type of answer0_1_C is not bool. answer0_1_C should be a bool\"\n",
    "assert sha1(str(answer0_1_C).encode(\"utf-8\")+b\"c239ae8f55ff6de5\").hexdigest() == \"70d0dff876cc716f9abc5deb9cc121b668998889\", \"boolean value of answer0_1_C is not correct\"\n",
    "\n",
    "assert sha1(str(type(answer0_1_D)).encode(\"utf-8\")+b\"528644164efe770b\").hexdigest() == \"a81aeef6760160deb5537ad11e57729ad8483f96\", \"type of answer0_1_D is not bool. answer0_1_D should be a bool\"\n",
    "assert sha1(str(answer0_1_D).encode(\"utf-8\")+b\"528644164efe770b\").hexdigest() == \"bb263cd2311c4cab67678acbc677612ab58b5114\", \"boolean value of answer0_1_D is not correct\"\n",
    "\n",
    "assert sha1(str(type(answer0_1_E)).encode(\"utf-8\")+b\"4bc3244e3ad9e272\").hexdigest() == \"0c763ed4a7c4c2e9fb7de0d99f9fd8fb810d04d3\", \"type of answer0_1_E is not bool. answer0_1_E should be a bool\"\n",
    "assert sha1(str(answer0_1_E).encode(\"utf-8\")+b\"4bc3244e3ad9e272\").hexdigest() == \"8de58010a347d0f4aeba73452de0f19744806ae5\", \"boolean value of answer0_1_E is not correct\"\n",
    "\n",
    "print('Success!')"
   ]
  },
  {
   "cell_type": "markdown",
   "metadata": {
    "deletable": false,
    "editable": false,
    "nbgrader": {
     "cell_type": "markdown",
     "checksum": "bab60a5b1f7e4f0f5ccc2b355e758d2c",
     "grade": false,
     "grade_id": "cell-a7dfc6e8e27d0615",
     "locked": true,
     "schema_version": 3,
     "solution": false
    }
   },
   "source": [
    "**Question 0.2** Multiple Choice:\n",
    "<br> {points: 1}\n",
    "\n",
    "When deciding on the size of your visualization we recommend that you: \n",
    "\n",
    "A. Make the plot as small as possible to save space\n",
    "\n",
    "B. Make it as big as your screen allows to make it easier to see\n",
    "\n",
    "C. Use the default chart size in most cases, and resize when needed to ensure clear visualization\n",
    "\n",
    "*Assign your answer to an object called `answer0_2`. Make sure your answer is an uppercase letter and is surrounded by quotation marks (e.g. `\"F\"`).*"
   ]
  },
  {
   "cell_type": "code",
   "execution_count": null,
   "metadata": {
    "deletable": false,
    "nbgrader": {
     "cell_type": "code",
     "checksum": "8be46bf98f19a10eac0507b7b0c1f23c",
     "grade": false,
     "grade_id": "cell-46cbbfc18df2f1a2",
     "locked": false,
     "schema_version": 3,
     "solution": true
    }
   },
   "outputs": [],
   "source": [
    "# your code here\n",
    "raise NotImplementedError"
   ]
  },
  {
   "cell_type": "code",
   "execution_count": null,
   "metadata": {
    "deletable": false,
    "editable": false,
    "nbgrader": {
     "cell_type": "code",
     "checksum": "49aa04b1bbe5b53c8cffd0986f8ebd49",
     "grade": true,
     "grade_id": "cell-165bb2f307f14e34",
     "locked": true,
     "points": 1,
     "schema_version": 3,
     "solution": false
    }
   },
   "outputs": [],
   "source": [
    "from hashlib import sha1\n",
    "assert sha1(str(type(answer0_2)).encode(\"utf-8\")+b\"8bf655a9f06e30bd\").hexdigest() == \"2e46b82e56c310c903fc5d535be5b05b453d68b6\", \"type of answer0_2 is not str. answer0_2 should be an str\"\n",
    "assert sha1(str(len(answer0_2)).encode(\"utf-8\")+b\"8bf655a9f06e30bd\").hexdigest() == \"621abbb4f1b2361b5df7745af742d6ac54e46a9c\", \"length of answer0_2 is not correct\"\n",
    "assert sha1(str(answer0_2.lower()).encode(\"utf-8\")+b\"8bf655a9f06e30bd\").hexdigest() == \"ee210605db911de555586be4925e8c9b3fecbe83\", \"value of answer0_2 is not correct\"\n",
    "assert sha1(str(answer0_2).encode(\"utf-8\")+b\"8bf655a9f06e30bd\").hexdigest() == \"f896359cd9c1bffa484d28418ed2477a85f40df0\", \"correct string value of answer0_2 but incorrect case of letters\"\n",
    "\n",
    "print('Success!')"
   ]
  },
  {
   "cell_type": "markdown",
   "metadata": {
    "deletable": false,
    "editable": false,
    "nbgrader": {
     "cell_type": "markdown",
     "checksum": "dd6827ddf5b4f38ded4e154456d53739",
     "grade": false,
     "grade_id": "cell-a64e6788a027a69c",
     "locked": true,
     "schema_version": 3,
     "solution": false
    }
   },
   "source": [
    "**Question 0.3** Multiple Choice:\n",
    "<br> {points: 1}\n",
    "\n",
    "Under what circumstance would you use a static (non-interactive) 3D plot?\n",
    "\n",
    "A. Anytime you have more than two variables that you want to show the relationship between\n",
    "\n",
    "B. When you want to emphasize the large difference between groups\n",
    "\n",
    "C. When you need to grab attention of your audience\n",
    "\n",
    "D. Rarely, we avoid 3D plots as it is difficult to visualize 3D information on a screen or on paper\n",
    "\n",
    "*Assign your answer to an object called `answer0_3`. Make sure your answer is an uppercase letter and is surrounded by quotation marks (e.g. `\"F\"`).*"
   ]
  },
  {
   "cell_type": "code",
   "execution_count": null,
   "metadata": {
    "deletable": false,
    "nbgrader": {
     "cell_type": "code",
     "checksum": "9c7b0b0c887e3c7398e94256b07bfb4e",
     "grade": false,
     "grade_id": "cell-e3a98de134b6b2f0",
     "locked": false,
     "schema_version": 3,
     "solution": true
    }
   },
   "outputs": [],
   "source": [
    "# your code here\n",
    "raise NotImplementedError"
   ]
  },
  {
   "cell_type": "code",
   "execution_count": null,
   "metadata": {
    "deletable": false,
    "editable": false,
    "nbgrader": {
     "cell_type": "code",
     "checksum": "f842fbd59ad449b53324cfa5b835b80e",
     "grade": true,
     "grade_id": "cell-521dc123937db46d",
     "locked": true,
     "points": 1,
     "schema_version": 3,
     "solution": false
    }
   },
   "outputs": [],
   "source": [
    "from hashlib import sha1\n",
    "assert sha1(str(type(answer0_3)).encode(\"utf-8\")+b\"97c113402ed7f6f6\").hexdigest() == \"3f9dbf83cbfd85abdf43c7e3a043da2ce099fe72\", \"type of answer0_3 is not str. answer0_3 should be an str\"\n",
    "assert sha1(str(len(answer0_3)).encode(\"utf-8\")+b\"97c113402ed7f6f6\").hexdigest() == \"970ccc2c068a7825805cb05a80f658aaf9604153\", \"length of answer0_3 is not correct\"\n",
    "assert sha1(str(answer0_3.lower()).encode(\"utf-8\")+b\"97c113402ed7f6f6\").hexdigest() == \"58041d1136b8342c2357087a40179dea9b370643\", \"value of answer0_3 is not correct\"\n",
    "assert sha1(str(answer0_3).encode(\"utf-8\")+b\"97c113402ed7f6f6\").hexdigest() == \"4c088ae555050d23bfa3371225e767906dae3ab0\", \"correct string value of answer0_3 but incorrect case of letters\"\n",
    "\n",
    "print('Success!')"
   ]
  },
  {
   "cell_type": "markdown",
   "metadata": {
    "deletable": false,
    "editable": false,
    "nbgrader": {
     "cell_type": "markdown",
     "checksum": "1f2a939153e7d3122c65406e79df639c",
     "grade": false,
     "grade_id": "cell-7148c0706bcb2d4b",
     "locked": true,
     "schema_version": 3,
     "solution": false
    }
   },
   "source": [
    "**Question 0.4** Multiple Choice:\n",
    "<br> {points: 1}\n",
    "\n",
    "What is the symbol used to add a new layer to an `altair` chart?\n",
    "\n",
    "A. `<-`\n",
    "\n",
    "B. `>`\n",
    "\n",
    "C. `&`\n",
    "\n",
    "D. `+`\n",
    "\n",
    "*Assign your answer to an object called `answer0_4`. Make sure your answer is an uppercase letter and is surrounded by quotation marks (e.g. `\"F\"`).*"
   ]
  },
  {
   "cell_type": "code",
   "execution_count": null,
   "metadata": {
    "deletable": false,
    "nbgrader": {
     "cell_type": "code",
     "checksum": "d3d30e3d237755e0de706770d2b95925",
     "grade": false,
     "grade_id": "cell-ea7ba4f1243e667d",
     "locked": false,
     "schema_version": 3,
     "solution": true
    }
   },
   "outputs": [],
   "source": [
    "# your code here\n",
    "raise NotImplementedError"
   ]
  },
  {
   "cell_type": "code",
   "execution_count": null,
   "metadata": {
    "deletable": false,
    "editable": false,
    "nbgrader": {
     "cell_type": "code",
     "checksum": "c1df45a9af2bff5e81f536910a41e5bc",
     "grade": true,
     "grade_id": "cell-5c15ea7ab4b4655e",
     "locked": true,
     "points": 1,
     "schema_version": 3,
     "solution": false
    }
   },
   "outputs": [],
   "source": [
    "from hashlib import sha1\n",
    "assert sha1(str(type(answer0_4)).encode(\"utf-8\")+b\"62aefe42badc8f04\").hexdigest() == \"c761a0154be357736583145271b3fa962c509ff6\", \"type of answer0_4 is not str. answer0_4 should be an str\"\n",
    "assert sha1(str(len(answer0_4)).encode(\"utf-8\")+b\"62aefe42badc8f04\").hexdigest() == \"7538f8c2a665df63eb39ab724099a0d4f4be83de\", \"length of answer0_4 is not correct\"\n",
    "assert sha1(str(answer0_4.lower()).encode(\"utf-8\")+b\"62aefe42badc8f04\").hexdigest() == \"959b45bd0608205be1951c469c8c5f4eff940ad8\", \"value of answer0_4 is not correct\"\n",
    "assert sha1(str(answer0_4).encode(\"utf-8\")+b\"62aefe42badc8f04\").hexdigest() == \"16b062584df9fef2cbc4b6a60fac006754bf10cb\", \"correct string value of answer0_4 but incorrect case of letters\"\n",
    "\n",
    "print('Success!')"
   ]
  },
  {
   "cell_type": "markdown",
   "metadata": {
    "deletable": false,
    "editable": false,
    "nbgrader": {
     "cell_type": "markdown",
     "checksum": "09d5b8a1e178a7eca20abfc8f7823941",
     "grade": false,
     "grade_id": "cell-d33780730eef352c",
     "locked": true,
     "schema_version": 3,
     "solution": false,
     "task": false
    }
   },
   "source": [
    "**Question 0.5** Item Arrangement\n",
    "<br> {points: 1}\n",
    "\n",
    "Match the following graphical marks to their corresponding visualization purposes.\n",
    "\n",
    "1. `mark_point`\n",
    "2. `mark_line`\n",
    "3. `mark_bar`\n",
    "\n",
    "A. Comparing amounts  <br>\n",
    "B. Showing a trend with respect to an independent quantity  <br>\n",
    "C. Visualizing the relationship between two variables in two dimensions  <br>\n",
    "\n",
    "*Assign each single character answer (e.g. \"D\") to an object called `answer0_5_#` where `#` should be \n",
    "replaced by the number corresponding to the item. For example, if we wanted to match 1 to F, we would\n",
    "set `answer0_5_1 = \"F\"`.*"
   ]
  },
  {
   "cell_type": "code",
   "execution_count": null,
   "metadata": {
    "deletable": false,
    "nbgrader": {
     "cell_type": "code",
     "checksum": "bd622061e6c5fe3deed764e19932ea8d",
     "grade": false,
     "grade_id": "cell-3f32a93753a230e1",
     "locked": false,
     "schema_version": 3,
     "solution": true,
     "task": false
    }
   },
   "outputs": [],
   "source": [
    "# your code here\n",
    "raise NotImplementedError"
   ]
  },
  {
   "cell_type": "code",
   "execution_count": null,
   "metadata": {
    "deletable": false,
    "editable": false,
    "nbgrader": {
     "cell_type": "code",
     "checksum": "2ace39d4e6622508c9373e812b84cbe5",
     "grade": true,
     "grade_id": "cell-7b95a04e22cfd223",
     "locked": true,
     "points": 1,
     "schema_version": 3,
     "solution": false,
     "task": false
    }
   },
   "outputs": [],
   "source": [
    "from hashlib import sha1\n",
    "assert sha1(str(type(answer0_5_1)).encode(\"utf-8\")+b\"7f78c85fa0d1a5a1\").hexdigest() == \"f1648621f1466759e014b9b6801e33fb26856e00\", \"type of answer0_5_1 is not str. answer0_5_1 should be an str\"\n",
    "assert sha1(str(len(answer0_5_1)).encode(\"utf-8\")+b\"7f78c85fa0d1a5a1\").hexdigest() == \"ad2795ffa9fbbdeec5952d416e65cd90836be6da\", \"length of answer0_5_1 is not correct\"\n",
    "assert sha1(str(answer0_5_1.lower()).encode(\"utf-8\")+b\"7f78c85fa0d1a5a1\").hexdigest() == \"6b6e08d7bb80560cfba4b5bdf6030d6cc25927f7\", \"value of answer0_5_1 is not correct\"\n",
    "assert sha1(str(answer0_5_1).encode(\"utf-8\")+b\"7f78c85fa0d1a5a1\").hexdigest() == \"00574ebc821a7a5e4db87771aad8f40e49095473\", \"correct string value of answer0_5_1 but incorrect case of letters\"\n",
    "\n",
    "assert sha1(str(type(answer0_5_2)).encode(\"utf-8\")+b\"5b653e25cad94785\").hexdigest() == \"5f4a1215258304610d784b9ecc3f5f23da831d37\", \"type of answer0_5_2 is not str. answer0_5_2 should be an str\"\n",
    "assert sha1(str(len(answer0_5_2)).encode(\"utf-8\")+b\"5b653e25cad94785\").hexdigest() == \"42019388f7246bade58b62771cc9233fc5892aeb\", \"length of answer0_5_2 is not correct\"\n",
    "assert sha1(str(answer0_5_2.lower()).encode(\"utf-8\")+b\"5b653e25cad94785\").hexdigest() == \"0c8a9a535373ebeb8bd717be1b95b244fd7e49b6\", \"value of answer0_5_2 is not correct\"\n",
    "assert sha1(str(answer0_5_2).encode(\"utf-8\")+b\"5b653e25cad94785\").hexdigest() == \"8ce540bcec4af2cc3f5034fb3e58ec529047dee0\", \"correct string value of answer0_5_2 but incorrect case of letters\"\n",
    "\n",
    "assert sha1(str(type(answer0_5_3)).encode(\"utf-8\")+b\"c558c62dc69540de\").hexdigest() == \"0f56deef606a17abc0cffeec776743a58d7b5d98\", \"type of answer0_5_3 is not str. answer0_5_3 should be an str\"\n",
    "assert sha1(str(len(answer0_5_3)).encode(\"utf-8\")+b\"c558c62dc69540de\").hexdigest() == \"89cc6f6180d41505f8db17a9af30e99b3f654929\", \"length of answer0_5_3 is not correct\"\n",
    "assert sha1(str(answer0_5_3.lower()).encode(\"utf-8\")+b\"c558c62dc69540de\").hexdigest() == \"e4c5079c5e108d477e1045bcefc543c1dca5ea34\", \"value of answer0_5_3 is not correct\"\n",
    "assert sha1(str(answer0_5_3).encode(\"utf-8\")+b\"c558c62dc69540de\").hexdigest() == \"4861e6829823a1f8ecc2180f99395f6bccf48a51\", \"correct string value of answer0_5_3 but incorrect case of letters\"\n",
    "\n",
    "print('Success!')"
   ]
  },
  {
   "cell_type": "markdown",
   "metadata": {
    "deletable": false,
    "editable": false,
    "nbgrader": {
     "cell_type": "markdown",
     "checksum": "5f66540df0550f6bce458b3273d5d302",
     "grade": false,
     "grade_id": "cell-603e82af426c3ceb",
     "locked": true,
     "schema_version": 3,
     "solution": false,
     "task": false
    }
   },
   "source": [
    "## 1. World Vaccination Trends\n",
    "\n",
    "Data scientists find work in all sectors of the economy and all types of organizations. Some work in collaboration with public sector organizations to solve problems that affect society, both at local and global scales. Today we will be looking at a global problem with real data from the [World Health Organization](https://www.who.int/) (WHO). According to WHO, Polio is a disease that affects mostly children younger than 5 years old, and to date there is no cure. However, when given a vaccine, children can develop sufficient antibodies in their system to be immune to the disease. Another disease, Hepatitis B, is also known to affect infants but in a chronic manner. There is also a vaccine for Hepatitis B available. \n",
    "\n",
    "The columns in the dataset are:\n",
    "\n",
    "- `who_region` - The WHO region of the world\n",
    "- `yr` - The year\n",
    "- `pct_vaccinated` - Estimated percentage of people vaccinated in the region\n",
    "- `vaccine` - Whether it's the `polio` or the `hepatitis_b` vaccine\n",
    "\n",
    "We want to know two things. First, has there been a change in Polio or Hepatitis B vaccination patterns throughout the years? And if so, what is that pattern? Second, have the vaccination patterns for one of these diseases changed more than the other? **The goal for today is to produce a plot of the estimated percentage of people vaccinated per year**. To do this, you will follow the steps outlined below.\n",
    "\n",
    "The original datasets are available here:\n",
    "   - Polio: http://apps.who.int/gho/data/view.main.81605?lang=en\n",
    "   - Hepatitis B: http://apps.who.int/gho/data/view.main.81300?lang=en\n",
    "   \n",
    "The data set we will work with for this worksheet however is named `world_vaccination.csv` and it lives in the `worksheet_04/data` directory."
   ]
  },
  {
   "cell_type": "markdown",
   "metadata": {
    "deletable": false,
    "editable": false,
    "nbgrader": {
     "cell_type": "markdown",
     "checksum": "3b503c9c084b1ee40cd79de5e4a071a4",
     "grade": false,
     "grade_id": "cell-6767e740b3c9df90",
     "locked": true,
     "schema_version": 3,
     "solution": false
    }
   },
   "source": [
    "**Question 1.0** Multiple Choice:\n",
    "<br> {points: 1}\n",
    "\n",
    "Consider the columns/variables `yr` and `pct_vaccinated`. These variables are:\n",
    "\n",
    "A. both quantitative (e.g., numerical).\n",
    "\n",
    "B. both categorical\n",
    "\n",
    "C. one is categorical and one is quantitative\n",
    "\n",
    "D. None of the above. \n",
    "\n",
    "*Assign your answer to an object called `answer1_0`. Make sure your answer is an uppercase letter and is surrounded by quotation marks (e.g. `\"F\"`).*"
   ]
  },
  {
   "cell_type": "code",
   "execution_count": null,
   "metadata": {
    "deletable": false,
    "nbgrader": {
     "cell_type": "code",
     "checksum": "8e815ada8ad9ac3ab3bb2b8a10f8e0a6",
     "grade": false,
     "grade_id": "cell-eeda947331564185",
     "locked": false,
     "schema_version": 3,
     "solution": true
    }
   },
   "outputs": [],
   "source": [
    "# your code here\n",
    "raise NotImplementedError"
   ]
  },
  {
   "cell_type": "code",
   "execution_count": null,
   "metadata": {
    "deletable": false,
    "editable": false,
    "nbgrader": {
     "cell_type": "code",
     "checksum": "987b16cab21ec74079d21853dd795976",
     "grade": true,
     "grade_id": "cell-abc8ab4c34c2959d",
     "locked": true,
     "points": 1,
     "schema_version": 3,
     "solution": false
    }
   },
   "outputs": [],
   "source": [
    "from hashlib import sha1\n",
    "assert sha1(str(type(answer1_0)).encode(\"utf-8\")+b\"09a7cb73ccbe1076\").hexdigest() == \"86ccf62468b7300e2fb8cf7aa95b69dccd2ea03c\", \"type of answer1_0 is not str. answer1_0 should be an str\"\n",
    "assert sha1(str(len(answer1_0)).encode(\"utf-8\")+b\"09a7cb73ccbe1076\").hexdigest() == \"8cf0a4f655117e83f9b03d4d0b6c0522f108d765\", \"length of answer1_0 is not correct\"\n",
    "assert sha1(str(answer1_0.lower()).encode(\"utf-8\")+b\"09a7cb73ccbe1076\").hexdigest() == \"021df46a041114ddbc0a848eb2f190ab1f659e91\", \"value of answer1_0 is not correct\"\n",
    "assert sha1(str(answer1_0).encode(\"utf-8\")+b\"09a7cb73ccbe1076\").hexdigest() == \"c27c843e1f5cb0d4078c3faabc78d8ed4a6aef37\", \"correct string value of answer1_0 but incorrect case of letters\"\n",
    "\n",
    "print('Success!')"
   ]
  },
  {
   "cell_type": "markdown",
   "metadata": {
    "deletable": false,
    "editable": false,
    "nbgrader": {
     "cell_type": "markdown",
     "checksum": "09a6ba9973928692aedf8a56a554b1d7",
     "grade": false,
     "grade_id": "cell-cfc4be1132bff6c2",
     "locked": true,
     "schema_version": 3,
     "solution": false,
     "task": false
    }
   },
   "source": [
    "**Question 1.1** \n",
    "<br> {points: 1}\n",
    "\n",
    "Read the `world_vaccination.csv` file. We want to filter out the `(WHO) Global` region as it is just the average of the other regions (e.g. we want all of the columns except `(WHO) Global`). Also, Filter the data so that we don't have any NA's in the `pct_vaccinated` column. Assign your filtered data to an object called `world_vaccination`.\n",
    "\n",
    "*Hint: Remember that when you want to filter for rows that aren't equal to something you can use the `!=` operator.*"
   ]
  },
  {
   "cell_type": "code",
   "execution_count": null,
   "metadata": {
    "deletable": false,
    "nbgrader": {
     "cell_type": "code",
     "checksum": "5cba5503cd9a87b64795ff50b522b322",
     "grade": false,
     "grade_id": "cell-4f35092c147ceab5",
     "locked": false,
     "schema_version": 3,
     "solution": true
    }
   },
   "outputs": [],
   "source": [
    "# ___ = pd.___(___)\n",
    "# ___ = ___[___[___] != ___]\n",
    "\n",
    "# your code here\n",
    "raise NotImplementedError\n",
    "world_vaccination"
   ]
  },
  {
   "cell_type": "code",
   "execution_count": null,
   "metadata": {
    "deletable": false,
    "editable": false,
    "nbgrader": {
     "cell_type": "code",
     "checksum": "9eaa96eec23a97a7b652751682f0ebff",
     "grade": true,
     "grade_id": "cell-4f295963a61ad122",
     "locked": true,
     "points": 1,
     "schema_version": 3,
     "solution": false
    }
   },
   "outputs": [],
   "source": [
    "from hashlib import sha1\n",
    "assert sha1(str(type(world_vaccination is None)).encode(\"utf-8\")+b\"24f98e79338e8e96\").hexdigest() == \"eb598aaf7250280a857ca19a4ddd25be70853bde\", \"type of world_vaccination is None is not bool. world_vaccination is None should be a bool\"\n",
    "assert sha1(str(world_vaccination is None).encode(\"utf-8\")+b\"24f98e79338e8e96\").hexdigest() == \"1461162186c2b4712a4c5011c349d0ab2bf5b3e9\", \"boolean value of world_vaccination is None is not correct\"\n",
    "\n",
    "assert sha1(str(type(world_vaccination)).encode(\"utf-8\")+b\"b11abcf0fa2c151d\").hexdigest() == \"9c2aede54ed4b4677a5de38a42d201100f8ccfa7\", \"type of type(world_vaccination) is not correct\"\n",
    "\n",
    "assert sha1(str(type(world_vaccination.isna().sum().values)).encode(\"utf-8\")+b\"723e2dff47a11ddc\").hexdigest() == \"ed2bf054009bcd7db6d64c8c2b707b9d2e70499e\", \"type of world_vaccination.isna().sum().values is not correct\"\n",
    "assert sha1(str(world_vaccination.isna().sum().values).encode(\"utf-8\")+b\"723e2dff47a11ddc\").hexdigest() == \"9173d7347dd97e26c7e179d4cbff4e5bda949fed\", \"value of world_vaccination.isna().sum().values is not correct\"\n",
    "\n",
    "assert sha1(str(type(world_vaccination.shape)).encode(\"utf-8\")+b\"dd2109f6e050ee91\").hexdigest() == \"e34809e30273e85613e111af32338ebde10b1b52\", \"type of world_vaccination.shape is not tuple. world_vaccination.shape should be a tuple\"\n",
    "assert sha1(str(len(world_vaccination.shape)).encode(\"utf-8\")+b\"dd2109f6e050ee91\").hexdigest() == \"0e6316e027026127c18b212485d53e9cdd1827cc\", \"length of world_vaccination.shape is not correct\"\n",
    "assert sha1(str(sorted(map(str, world_vaccination.shape))).encode(\"utf-8\")+b\"dd2109f6e050ee91\").hexdigest() == \"840c58dfb9cbeeb08c0b7990a72a0a92ec29040a\", \"values of world_vaccination.shape are not correct\"\n",
    "assert sha1(str(world_vaccination.shape).encode(\"utf-8\")+b\"dd2109f6e050ee91\").hexdigest() == \"7e12693af6d1947fe1436e70b028885c3cdb3a7e\", \"order of elements of world_vaccination.shape is not correct\"\n",
    "\n",
    "assert sha1(str(type(round(sum(world_vaccination.yr), 2))).encode(\"utf-8\")+b\"a3eb8f10dc157e60\").hexdigest() == \"3d8e46824bea6227393020f65b6b283391ac1625\", \"type of round(sum(world_vaccination.yr), 2) is not int. Please make sure it is int and not np.int64, etc. You can cast your value into an int using int()\"\n",
    "assert sha1(str(round(sum(world_vaccination.yr), 2)).encode(\"utf-8\")+b\"a3eb8f10dc157e60\").hexdigest() == \"afdc587f9932dce0ef865505591eb2957c9a0b05\", \"value of round(sum(world_vaccination.yr), 2) is not correct\"\n",
    "\n",
    "print('Success!')"
   ]
  },
  {
   "cell_type": "markdown",
   "metadata": {
    "deletable": false,
    "editable": false,
    "nbgrader": {
     "cell_type": "markdown",
     "checksum": "7fd0ffd5c0b4ba62165ca16ed24b0f7a",
     "grade": false,
     "grade_id": "cell-b246d38affa1166f",
     "locked": true,
     "schema_version": 3,
     "solution": false
    }
   },
   "source": [
    "**Question 1.2** \n",
    "<br> {points: 1}\n",
    "\n",
    "Create a scatter plot of the percentage of people vaccinated (y-axis) against year (x-axis) for all the regions in `world_vaccination`. Make sure to label your axes with human readable labels. If you use the `alt.X()` method, you can set `scale=alt.Scale(zero=False)`.\n",
    "\n",
    "*Assign your plot to an object called `world_vacc_plot`*."
   ]
  },
  {
   "cell_type": "code",
   "execution_count": null,
   "metadata": {
    "deletable": false,
    "nbgrader": {
     "cell_type": "code",
     "checksum": "b35ed5d140876e97dc5bf58e011e3577",
     "grade": false,
     "grade_id": "cell-31e847db6b64c666",
     "locked": false,
     "schema_version": 3,
     "solution": true
    }
   },
   "outputs": [],
   "source": [
    "# your code here\n",
    "raise NotImplementedError\n",
    "world_vacc_plot"
   ]
  },
  {
   "cell_type": "code",
   "execution_count": null,
   "metadata": {
    "deletable": false,
    "editable": false,
    "nbgrader": {
     "cell_type": "code",
     "checksum": "af8f0bf52377b93cc9dc422aeb2eadb5",
     "grade": true,
     "grade_id": "cell-56bc18a4d58208c4",
     "locked": true,
     "points": 1,
     "schema_version": 3,
     "solution": false
    }
   },
   "outputs": [],
   "source": [
    "from hashlib import sha1\n",
    "assert sha1(str(type(world_vacc_plot is None)).encode(\"utf-8\")+b\"1158f842adae071c\").hexdigest() == \"f8c0c1e43e7c7930aac30f828d0c7cb362f35098\", \"type of world_vacc_plot is None is not bool. world_vacc_plot is None should be a bool\"\n",
    "assert sha1(str(world_vacc_plot is None).encode(\"utf-8\")+b\"1158f842adae071c\").hexdigest() == \"2550d0d4eff22ae4bb279a34de9ce069a33c0c81\", \"boolean value of world_vacc_plot is None is not correct\"\n",
    "\n",
    "assert sha1(str(type(world_vacc_plot.encoding.x['shorthand'])).encode(\"utf-8\")+b\"c93515f36d1d4a7d\").hexdigest() == \"34e103461c8670125e58fb90d16fb9a7aea1c7b5\", \"type of world_vacc_plot.encoding.x['shorthand'] is not str. world_vacc_plot.encoding.x['shorthand'] should be an str\"\n",
    "assert sha1(str(len(world_vacc_plot.encoding.x['shorthand'])).encode(\"utf-8\")+b\"c93515f36d1d4a7d\").hexdigest() == \"2251d103b2d13fd3a3193fff67eedfc1ad01dae1\", \"length of world_vacc_plot.encoding.x['shorthand'] is not correct\"\n",
    "assert sha1(str(world_vacc_plot.encoding.x['shorthand'].lower()).encode(\"utf-8\")+b\"c93515f36d1d4a7d\").hexdigest() == \"3d1517cb54a526733777235bfbd07be550e7f5c6\", \"value of world_vacc_plot.encoding.x['shorthand'] is not correct\"\n",
    "assert sha1(str(world_vacc_plot.encoding.x['shorthand']).encode(\"utf-8\")+b\"c93515f36d1d4a7d\").hexdigest() == \"3d1517cb54a526733777235bfbd07be550e7f5c6\", \"correct string value of world_vacc_plot.encoding.x['shorthand'] but incorrect case of letters\"\n",
    "\n",
    "assert sha1(str(type(world_vacc_plot.encoding.y['shorthand'])).encode(\"utf-8\")+b\"b43188459f548204\").hexdigest() == \"5f85dfef9a40dadf16ec5d47748eb5c34b105a41\", \"type of world_vacc_plot.encoding.y['shorthand'] is not str. world_vacc_plot.encoding.y['shorthand'] should be an str\"\n",
    "assert sha1(str(len(world_vacc_plot.encoding.y['shorthand'])).encode(\"utf-8\")+b\"b43188459f548204\").hexdigest() == \"6c8f302aa44b26360486f143f59c82454b807a73\", \"length of world_vacc_plot.encoding.y['shorthand'] is not correct\"\n",
    "assert sha1(str(world_vacc_plot.encoding.y['shorthand'].lower()).encode(\"utf-8\")+b\"b43188459f548204\").hexdigest() == \"fa4529535557acd1d4f2f06dd0be2f918f364384\", \"value of world_vacc_plot.encoding.y['shorthand'] is not correct\"\n",
    "assert sha1(str(world_vacc_plot.encoding.y['shorthand']).encode(\"utf-8\")+b\"b43188459f548204\").hexdigest() == \"fa4529535557acd1d4f2f06dd0be2f918f364384\", \"correct string value of world_vacc_plot.encoding.y['shorthand'] but incorrect case of letters\"\n",
    "\n",
    "assert sha1(str(type(world_vacc_plot.mark)).encode(\"utf-8\")+b\"5aaa2c4357b6cbd1\").hexdigest() == \"38085943308d20efea9b1eeb5efcd147c58136db\", \"type of world_vacc_plot.mark is not str. world_vacc_plot.mark should be an str\"\n",
    "assert sha1(str(len(world_vacc_plot.mark)).encode(\"utf-8\")+b\"5aaa2c4357b6cbd1\").hexdigest() == \"4399974215b72c236e36c1432ae49e1f74cfddae\", \"length of world_vacc_plot.mark is not correct\"\n",
    "assert sha1(str(world_vacc_plot.mark.lower()).encode(\"utf-8\")+b\"5aaa2c4357b6cbd1\").hexdigest() == \"fc60b759d67fcd77c8ec868f42731112eab94cee\", \"value of world_vacc_plot.mark is not correct\"\n",
    "assert sha1(str(world_vacc_plot.mark).encode(\"utf-8\")+b\"5aaa2c4357b6cbd1\").hexdigest() == \"fc60b759d67fcd77c8ec868f42731112eab94cee\", \"correct string value of world_vacc_plot.mark but incorrect case of letters\"\n",
    "\n",
    "assert sha1(str(type(isinstance(world_vacc_plot.encoding.x['title'], str))).encode(\"utf-8\")+b\"84cc7140e7171672\").hexdigest() == \"ba50eca66ee92927ebde8924376e6ba73d852d15\", \"type of isinstance(world_vacc_plot.encoding.x['title'], str) is not bool. isinstance(world_vacc_plot.encoding.x['title'], str) should be a bool\"\n",
    "assert sha1(str(isinstance(world_vacc_plot.encoding.x['title'], str)).encode(\"utf-8\")+b\"84cc7140e7171672\").hexdigest() == \"b45b02d296089b2c0705183a546350ac5897cbec\", \"boolean value of isinstance(world_vacc_plot.encoding.x['title'], str) is not correct\"\n",
    "\n",
    "assert sha1(str(type(isinstance(world_vacc_plot.encoding.y['title'], str))).encode(\"utf-8\")+b\"b1e28fc37ca04f7a\").hexdigest() == \"bcf0be93a4bf45f03b23226f3e9c746c3005356c\", \"type of isinstance(world_vacc_plot.encoding.y['title'], str) is not bool. isinstance(world_vacc_plot.encoding.y['title'], str) should be a bool\"\n",
    "assert sha1(str(isinstance(world_vacc_plot.encoding.y['title'], str)).encode(\"utf-8\")+b\"b1e28fc37ca04f7a\").hexdigest() == \"30e005543322628c3ef4a5e947809238e9215374\", \"boolean value of isinstance(world_vacc_plot.encoding.y['title'], str) is not correct\"\n",
    "\n",
    "print('Success!')"
   ]
  },
  {
   "cell_type": "markdown",
   "metadata": {
    "deletable": false,
    "editable": false,
    "nbgrader": {
     "cell_type": "markdown",
     "checksum": "1a9b21e4027dd39dfdd817025788e87b",
     "grade": false,
     "grade_id": "cell-9df6590ba88a1529",
     "locked": true,
     "schema_version": 3,
     "solution": false
    }
   },
   "source": [
    "**Question 1.3** Multiple Choice:\n",
    "<br> {points: 1}\n",
    "\n",
    "Now that we see how the percentage of people vaccinated with each of these vaccines varies over time, we should now start to look if there is a difference between the percentage vaccinated between the two different diseases. What should we do next to compare the differences (if they exist) most effectively?\n",
    "\n",
    "A. Filter the data by the type of vaccine and make two separate plots\n",
    "\n",
    "B. Colour the data by the type of vaccine\n",
    "\n",
    "C. Have a different shaped \"dot\"/point for each type of vaccine\n",
    "\n",
    "D. Colour the data by the type of vaccine, and have a different shaped \"dot\"/point for each type of vaccine\n",
    "\n",
    "*Assign your answer to an object called `answer1_3`. Make sure your answer is an uppercase letter and is surrounded by quotation marks (e.g. `\"F\"`).*"
   ]
  },
  {
   "cell_type": "code",
   "execution_count": null,
   "metadata": {
    "deletable": false,
    "nbgrader": {
     "cell_type": "code",
     "checksum": "1a4ee42773333ed25db09f48d79057cf",
     "grade": false,
     "grade_id": "cell-eff4b83a3aa5ecd4",
     "locked": false,
     "schema_version": 3,
     "solution": true
    }
   },
   "outputs": [],
   "source": [
    "# your code here\n",
    "raise NotImplementedError"
   ]
  },
  {
   "cell_type": "code",
   "execution_count": null,
   "metadata": {
    "deletable": false,
    "editable": false,
    "nbgrader": {
     "cell_type": "code",
     "checksum": "e74f13bc181522230ed4117b0e86c6c1",
     "grade": true,
     "grade_id": "cell-de1ed1a45f987cbd",
     "locked": true,
     "points": 1,
     "schema_version": 3,
     "solution": false
    }
   },
   "outputs": [],
   "source": [
    "from hashlib import sha1\n",
    "assert sha1(str(type(answer1_3)).encode(\"utf-8\")+b\"9b911334cdf4ddca\").hexdigest() == \"dedf77e0cf09f30089e5b4c4860c45bcbb6386ba\", \"type of answer1_3 is not str. answer1_3 should be an str\"\n",
    "assert sha1(str(len(answer1_3)).encode(\"utf-8\")+b\"9b911334cdf4ddca\").hexdigest() == \"cbee90787acdb664423b8b05b6e790511721ef09\", \"length of answer1_3 is not correct\"\n",
    "assert sha1(str(answer1_3.lower()).encode(\"utf-8\")+b\"9b911334cdf4ddca\").hexdigest() == \"16e1a569867e94f38863bce9926110fbeb7e95d9\", \"value of answer1_3 is not correct\"\n",
    "assert sha1(str(answer1_3).encode(\"utf-8\")+b\"9b911334cdf4ddca\").hexdigest() == \"76b8edc016febb470469d4ba350a62734c93cfc4\", \"correct string value of answer1_3 but incorrect case of letters\"\n",
    "\n",
    "print('Success!')"
   ]
  },
  {
   "cell_type": "markdown",
   "metadata": {
    "deletable": false,
    "editable": false,
    "nbgrader": {
     "cell_type": "markdown",
     "checksum": "171da237c1b314efaded4395d5e37eb2",
     "grade": false,
     "grade_id": "cell-a0d78ab0948d478b",
     "locked": true,
     "schema_version": 3,
     "solution": false
    }
   },
   "source": [
    "**Question 1.4**\n",
    "<br> {points: 1}\n",
    "\n",
    "Now that we know what to do next to compare the differences effectively, let's do it. Start by copying your code from **Question 1.2**. Next, add a `color` and `shape` encoding objects inside of the `.encode` function to map `vaccine` to colour and shape. Finally, make sure you change *all* the axes and legends so they have nicely formatted, human-readable labels and set the title font size of the axes to 12. \n",
    "\n",
    "\n",
    "*Assign your answer to an object called `compare_vacc_plot` and check the textbook chapter for how to use the `configure_axis` method to adjust the axis title size.*"
   ]
  },
  {
   "cell_type": "code",
   "execution_count": null,
   "metadata": {
    "deletable": false,
    "nbgrader": {
     "cell_type": "code",
     "checksum": "c4d435373b53a1b2e438d7e2f96c7aad",
     "grade": false,
     "grade_id": "cell-374fd332fce06441",
     "locked": false,
     "schema_version": 3,
     "solution": true
    },
    "tags": []
   },
   "outputs": [],
   "source": [
    "# your code here\n",
    "raise NotImplementedError\n",
    "\n",
    "compare_vacc_plot"
   ]
  },
  {
   "cell_type": "code",
   "execution_count": null,
   "metadata": {
    "deletable": false,
    "editable": false,
    "nbgrader": {
     "cell_type": "code",
     "checksum": "f6ed63899929f4ff7345392f7acf7613",
     "grade": true,
     "grade_id": "cell-d644f60d1f60a559",
     "locked": true,
     "points": 1,
     "schema_version": 3,
     "solution": false
    }
   },
   "outputs": [],
   "source": [
    "from hashlib import sha1\n",
    "assert sha1(str(type(compare_vacc_plot is None)).encode(\"utf-8\")+b\"910c7602ddb8e300\").hexdigest() == \"8e031452c0b268b738495546dce6ddcba2da2731\", \"type of compare_vacc_plot is None is not bool. compare_vacc_plot is None should be a bool\"\n",
    "assert sha1(str(compare_vacc_plot is None).encode(\"utf-8\")+b\"910c7602ddb8e300\").hexdigest() == \"4f0aaa9b5326d56904100ce30fa3034f966468cc\", \"boolean value of compare_vacc_plot is None is not correct\"\n",
    "\n",
    "assert sha1(str(type(compare_vacc_plot.encoding.x['shorthand'])).encode(\"utf-8\")+b\"85b00da6f9a92ca4\").hexdigest() == \"9d3b0bda7b2ac6271e47fa8ad294ddeb2ea9a57b\", \"type of compare_vacc_plot.encoding.x['shorthand'] is not str. compare_vacc_plot.encoding.x['shorthand'] should be an str\"\n",
    "assert sha1(str(len(compare_vacc_plot.encoding.x['shorthand'])).encode(\"utf-8\")+b\"85b00da6f9a92ca4\").hexdigest() == \"ba113b9783e902c9cffaf52cbed5772818c5ef8b\", \"length of compare_vacc_plot.encoding.x['shorthand'] is not correct\"\n",
    "assert sha1(str(compare_vacc_plot.encoding.x['shorthand'].lower()).encode(\"utf-8\")+b\"85b00da6f9a92ca4\").hexdigest() == \"d68eee099808ed0e964332f67722e8148e11d40a\", \"value of compare_vacc_plot.encoding.x['shorthand'] is not correct\"\n",
    "assert sha1(str(compare_vacc_plot.encoding.x['shorthand']).encode(\"utf-8\")+b\"85b00da6f9a92ca4\").hexdigest() == \"d68eee099808ed0e964332f67722e8148e11d40a\", \"correct string value of compare_vacc_plot.encoding.x['shorthand'] but incorrect case of letters\"\n",
    "\n",
    "assert sha1(str(type(compare_vacc_plot.encoding.y['shorthand'])).encode(\"utf-8\")+b\"fedc00ec31ca41ec\").hexdigest() == \"e5d86c4503e91314124f7146369622ae311c08ca\", \"type of compare_vacc_plot.encoding.y['shorthand'] is not str. compare_vacc_plot.encoding.y['shorthand'] should be an str\"\n",
    "assert sha1(str(len(compare_vacc_plot.encoding.y['shorthand'])).encode(\"utf-8\")+b\"fedc00ec31ca41ec\").hexdigest() == \"c2b5d6933abaf92365099fc5c06ba66e6b126b48\", \"length of compare_vacc_plot.encoding.y['shorthand'] is not correct\"\n",
    "assert sha1(str(compare_vacc_plot.encoding.y['shorthand'].lower()).encode(\"utf-8\")+b\"fedc00ec31ca41ec\").hexdigest() == \"78f0e2f97320031743eaf652d2660a09ce92d603\", \"value of compare_vacc_plot.encoding.y['shorthand'] is not correct\"\n",
    "assert sha1(str(compare_vacc_plot.encoding.y['shorthand']).encode(\"utf-8\")+b\"fedc00ec31ca41ec\").hexdigest() == \"78f0e2f97320031743eaf652d2660a09ce92d603\", \"correct string value of compare_vacc_plot.encoding.y['shorthand'] but incorrect case of letters\"\n",
    "\n",
    "assert sha1(str(type(compare_vacc_plot.encoding.color['shorthand'])).encode(\"utf-8\")+b\"68e3864c16d5f7e1\").hexdigest() == \"8c637640763fc4e9f3221467d4ff38b4a9c17a7b\", \"type of compare_vacc_plot.encoding.color['shorthand'] is not str. compare_vacc_plot.encoding.color['shorthand'] should be an str\"\n",
    "assert sha1(str(len(compare_vacc_plot.encoding.color['shorthand'])).encode(\"utf-8\")+b\"68e3864c16d5f7e1\").hexdigest() == \"0046c96bac6d013c7307caec4c6532d0f6c78981\", \"length of compare_vacc_plot.encoding.color['shorthand'] is not correct\"\n",
    "assert sha1(str(compare_vacc_plot.encoding.color['shorthand'].lower()).encode(\"utf-8\")+b\"68e3864c16d5f7e1\").hexdigest() == \"e5a338fb45f69fe0b535a976b88c3af095da5dd8\", \"value of compare_vacc_plot.encoding.color['shorthand'] is not correct\"\n",
    "assert sha1(str(compare_vacc_plot.encoding.color['shorthand']).encode(\"utf-8\")+b\"68e3864c16d5f7e1\").hexdigest() == \"e5a338fb45f69fe0b535a976b88c3af095da5dd8\", \"correct string value of compare_vacc_plot.encoding.color['shorthand'] but incorrect case of letters\"\n",
    "\n",
    "assert sha1(str(type(compare_vacc_plot.encoding.shape['shorthand'])).encode(\"utf-8\")+b\"662a9bb6347dc96b\").hexdigest() == \"43f8e316074054c404c59b8f6f533753b12cd869\", \"type of compare_vacc_plot.encoding.shape['shorthand'] is not str. compare_vacc_plot.encoding.shape['shorthand'] should be an str\"\n",
    "assert sha1(str(len(compare_vacc_plot.encoding.shape['shorthand'])).encode(\"utf-8\")+b\"662a9bb6347dc96b\").hexdigest() == \"88f0827cf8f7f5e43798d415086f5635de2180cc\", \"length of compare_vacc_plot.encoding.shape['shorthand'] is not correct\"\n",
    "assert sha1(str(compare_vacc_plot.encoding.shape['shorthand'].lower()).encode(\"utf-8\")+b\"662a9bb6347dc96b\").hexdigest() == \"368dd3534c69ae7212ccc61d0714ce8a3cd027d3\", \"value of compare_vacc_plot.encoding.shape['shorthand'] is not correct\"\n",
    "assert sha1(str(compare_vacc_plot.encoding.shape['shorthand']).encode(\"utf-8\")+b\"662a9bb6347dc96b\").hexdigest() == \"368dd3534c69ae7212ccc61d0714ce8a3cd027d3\", \"correct string value of compare_vacc_plot.encoding.shape['shorthand'] but incorrect case of letters\"\n",
    "\n",
    "assert sha1(str(type(compare_vacc_plot.mark)).encode(\"utf-8\")+b\"aa061eee11d17a7b\").hexdigest() == \"c484dc158674cbf6e5902c5843cb2bb2c0219883\", \"type of compare_vacc_plot.mark is not str. compare_vacc_plot.mark should be an str\"\n",
    "assert sha1(str(len(compare_vacc_plot.mark)).encode(\"utf-8\")+b\"aa061eee11d17a7b\").hexdigest() == \"be3bf70247250ef16761e3b049d9ad6321f7dfdf\", \"length of compare_vacc_plot.mark is not correct\"\n",
    "assert sha1(str(compare_vacc_plot.mark.lower()).encode(\"utf-8\")+b\"aa061eee11d17a7b\").hexdigest() == \"876d3016d1b5a41bd66a349bee51baf36f0bc41a\", \"value of compare_vacc_plot.mark is not correct\"\n",
    "assert sha1(str(compare_vacc_plot.mark).encode(\"utf-8\")+b\"aa061eee11d17a7b\").hexdigest() == \"876d3016d1b5a41bd66a349bee51baf36f0bc41a\", \"correct string value of compare_vacc_plot.mark but incorrect case of letters\"\n",
    "\n",
    "assert sha1(str(type(isinstance(compare_vacc_plot.encoding.x['title'], str))).encode(\"utf-8\")+b\"1442721e04503f2e\").hexdigest() == \"87261af3ff502bee4433e9f9890c4c921b29a9ea\", \"type of isinstance(compare_vacc_plot.encoding.x['title'], str) is not bool. isinstance(compare_vacc_plot.encoding.x['title'], str) should be a bool\"\n",
    "assert sha1(str(isinstance(compare_vacc_plot.encoding.x['title'], str)).encode(\"utf-8\")+b\"1442721e04503f2e\").hexdigest() == \"27b094bbfbb686317fb5693986e7a0b6e88f6be8\", \"boolean value of isinstance(compare_vacc_plot.encoding.x['title'], str) is not correct\"\n",
    "\n",
    "assert sha1(str(type(isinstance(compare_vacc_plot.encoding.y['title'], str))).encode(\"utf-8\")+b\"7cc88bd9d2926785\").hexdigest() == \"6b6c36189c3d4589bba32304eb01899945626d00\", \"type of isinstance(compare_vacc_plot.encoding.y['title'], str) is not bool. isinstance(compare_vacc_plot.encoding.y['title'], str) should be a bool\"\n",
    "assert sha1(str(isinstance(compare_vacc_plot.encoding.y['title'], str)).encode(\"utf-8\")+b\"7cc88bd9d2926785\").hexdigest() == \"e20ff7669ce872fda7ebcc3ab2a9f79d6a89d7fb\", \"boolean value of isinstance(compare_vacc_plot.encoding.y['title'], str) is not correct\"\n",
    "\n",
    "assert sha1(str(type(compare_vacc_plot.config.axis.titleFontSize)).encode(\"utf-8\")+b\"2f0ea16ea5b2e3d6\").hexdigest() == \"112a96070804d82cf411b0d7ba846b647c637eb8\", \"type of compare_vacc_plot.config.axis.titleFontSize is not int. Please make sure it is int and not np.int64, etc. You can cast your value into an int using int()\"\n",
    "assert sha1(str(compare_vacc_plot.config.axis.titleFontSize).encode(\"utf-8\")+b\"2f0ea16ea5b2e3d6\").hexdigest() == \"6def8f1b47216bd4c04eb8c797dc182dd68df751\", \"value of compare_vacc_plot.config.axis.titleFontSize is not correct\"\n",
    "\n",
    "print('Success!')"
   ]
  },
  {
   "cell_type": "markdown",
   "metadata": {
    "deletable": false,
    "editable": false,
    "nbgrader": {
     "cell_type": "markdown",
     "checksum": "3d5bcb3e1ed0481bb9388217b23d2490",
     "grade": false,
     "grade_id": "cell-f4cb0b4284167707",
     "locked": true,
     "schema_version": 3,
     "solution": false,
     "task": false
    }
   },
   "source": [
    "Now we see that although the dates where the percentage vaccinated became > 0 for each vaccine type started out in different years, they both increased at similar rates and are currently resting at about the same amount of percentage vaccinated. There is some variation that still exists in the data however, and perhaps that could be attributed to geographical region? Let's create some more visualizations to see if that is indeed the case!\n",
    "\n",
    "To get started, let's focus on the Polio vaccine data, and then we'll look at both together."
   ]
  },
  {
   "cell_type": "markdown",
   "metadata": {
    "deletable": false,
    "editable": false,
    "nbgrader": {
     "cell_type": "markdown",
     "checksum": "cc86ac034faa2f43086a9ff0f207d3c0",
     "grade": false,
     "grade_id": "cell-88236b86419d60b7",
     "locked": true,
     "schema_version": 3,
     "solution": false
    }
   },
   "source": [
    "**Question 1.5**\n",
    "<br> {points: 1}\n",
    "\n",
    "Create a data frame object named `polio` that contains only the rows where the `vaccine` is `\"polio\"`:"
   ]
  },
  {
   "cell_type": "code",
   "execution_count": null,
   "metadata": {
    "deletable": false,
    "nbgrader": {
     "cell_type": "code",
     "checksum": "c237ccc677406fbf467d4da15478dc12",
     "grade": false,
     "grade_id": "cell-e3ea1eaccfcdb529",
     "locked": false,
     "schema_version": 3,
     "solution": true
    }
   },
   "outputs": [],
   "source": [
    "# your code here\n",
    "raise NotImplementedError\n",
    "polio"
   ]
  },
  {
   "cell_type": "code",
   "execution_count": null,
   "metadata": {
    "deletable": false,
    "editable": false,
    "nbgrader": {
     "cell_type": "code",
     "checksum": "bee0106998f8343ac757f8e6cb5ccb09",
     "grade": true,
     "grade_id": "cell-96b08ba246959d81",
     "locked": true,
     "points": 1,
     "schema_version": 3,
     "solution": false
    }
   },
   "outputs": [],
   "source": [
    "from hashlib import sha1\n",
    "assert sha1(str(type(polio is None)).encode(\"utf-8\")+b\"f8ea2414b8bb83c8\").hexdigest() == \"9732c2fcb72e6b4d768cd20bef2db6222df4d9f7\", \"type of polio is None is not bool. polio is None should be a bool\"\n",
    "assert sha1(str(polio is None).encode(\"utf-8\")+b\"f8ea2414b8bb83c8\").hexdigest() == \"8afb871311d1d1381ee645e3b16b33f9c8fba88b\", \"boolean value of polio is None is not correct\"\n",
    "\n",
    "assert sha1(str(type(polio.vaccine.unique()[0])).encode(\"utf-8\")+b\"f790fed0607cf23a\").hexdigest() == \"e13cb6c332d03bd325deccc4919479cbfc470c08\", \"type of polio.vaccine.unique()[0] is not str. polio.vaccine.unique()[0] should be an str\"\n",
    "assert sha1(str(len(polio.vaccine.unique()[0])).encode(\"utf-8\")+b\"f790fed0607cf23a\").hexdigest() == \"6b3cd10ab16d4fcb8cbc88d37046683f09ea56ad\", \"length of polio.vaccine.unique()[0] is not correct\"\n",
    "assert sha1(str(polio.vaccine.unique()[0].lower()).encode(\"utf-8\")+b\"f790fed0607cf23a\").hexdigest() == \"f0348f532275918331c9d14231386f5cf215cd03\", \"value of polio.vaccine.unique()[0] is not correct\"\n",
    "assert sha1(str(polio.vaccine.unique()[0]).encode(\"utf-8\")+b\"f790fed0607cf23a\").hexdigest() == \"f0348f532275918331c9d14231386f5cf215cd03\", \"correct string value of polio.vaccine.unique()[0] but incorrect case of letters\"\n",
    "\n",
    "assert sha1(str(type(polio.shape)).encode(\"utf-8\")+b\"c8e67fc0ba6cc1f9\").hexdigest() == \"ec4b295e1d03c68c03628996be83b34221727483\", \"type of polio.shape is not tuple. polio.shape should be a tuple\"\n",
    "assert sha1(str(len(polio.shape)).encode(\"utf-8\")+b\"c8e67fc0ba6cc1f9\").hexdigest() == \"0af6a1caad4176a8f380b6bcd4d7a701a642096e\", \"length of polio.shape is not correct\"\n",
    "assert sha1(str(sorted(map(str, polio.shape))).encode(\"utf-8\")+b\"c8e67fc0ba6cc1f9\").hexdigest() == \"2f1feef803d9a44b2df40e06ef5024b85747427a\", \"values of polio.shape are not correct\"\n",
    "assert sha1(str(polio.shape).encode(\"utf-8\")+b\"c8e67fc0ba6cc1f9\").hexdigest() == \"e4350ba1947ac704955314df9641444c51375bf9\", \"order of elements of polio.shape is not correct\"\n",
    "\n",
    "assert sha1(str(type(round(sum(polio.pct_vaccinated), 2))).encode(\"utf-8\")+b\"d818836f8207ed23\").hexdigest() == \"39001289d1b3a7c05275063c229fbafd09345fc4\", \"type of round(sum(polio.pct_vaccinated), 2) is not float. Please make sure it is float and not np.float64, etc. You can cast your value into a float using float()\"\n",
    "assert sha1(str(round(round(sum(polio.pct_vaccinated), 2), 2)).encode(\"utf-8\")+b\"d818836f8207ed23\").hexdigest() == \"4044ccb256476cbdc98a2f9fc4070b1dd6576bff\", \"value of round(sum(polio.pct_vaccinated), 2) is not correct (rounded to 2 decimal places)\"\n",
    "\n",
    "print('Success!')"
   ]
  },
  {
   "cell_type": "markdown",
   "metadata": {
    "deletable": false,
    "editable": false,
    "nbgrader": {
     "cell_type": "markdown",
     "checksum": "0b1c7e9e092837b4204650c817a9dd0a",
     "grade": false,
     "grade_id": "cell-a76fd8a76737dd65",
     "locked": true,
     "schema_version": 3,
     "solution": false
    }
   },
   "source": [
    "**Question 1.6**\n",
    "<br> {points: 1}\n",
    "\n",
    "Now create a scatter plot using the `polio` data where percentage vaccinated is on the y-axis, year is on the x-axis and each `who_region` has a different colour point, and a different shape. Name it `polio_regions`. Also set the axis title font size to 12 and the overall width of the chart to 500.\n",
    "\n",
    "*Hint: Look in the textbook chapter how to use the `properties` method to change the plot width.*"
   ]
  },
  {
   "cell_type": "code",
   "execution_count": null,
   "metadata": {
    "deletable": false,
    "nbgrader": {
     "cell_type": "code",
     "checksum": "d17512b589e0eac5ebe63e87bc5d096e",
     "grade": false,
     "grade_id": "cell-b8e28cbd972366a7",
     "locked": false,
     "schema_version": 3,
     "solution": true
    }
   },
   "outputs": [],
   "source": [
    "# your code here\n",
    "raise NotImplementedError\n",
    "polio_regions"
   ]
  },
  {
   "cell_type": "code",
   "execution_count": null,
   "metadata": {
    "deletable": false,
    "editable": false,
    "nbgrader": {
     "cell_type": "code",
     "checksum": "118dcc3e2f0ce989f3dc06e5ceb065cd",
     "grade": true,
     "grade_id": "cell-80a368c34a543e78",
     "locked": true,
     "points": 1,
     "schema_version": 3,
     "solution": false
    }
   },
   "outputs": [],
   "source": [
    "from hashlib import sha1\n",
    "assert sha1(str(type(polio_regions is None)).encode(\"utf-8\")+b\"1ae7433b67b0eac5\").hexdigest() == \"2272374cb3b980a449b50793c8c833ad32b5b76a\", \"type of polio_regions is None is not bool. polio_regions is None should be a bool\"\n",
    "assert sha1(str(polio_regions is None).encode(\"utf-8\")+b\"1ae7433b67b0eac5\").hexdigest() == \"4c6a42678c6a9dd44d7a8ca3aab1b5876169af5f\", \"boolean value of polio_regions is None is not correct\"\n",
    "\n",
    "assert sha1(str(type(polio_regions.encoding.x['shorthand'])).encode(\"utf-8\")+b\"3fc39afe176e8347\").hexdigest() == \"8c20c39181da21e182a17c50b6956a2274a2d0aa\", \"type of polio_regions.encoding.x['shorthand'] is not str. polio_regions.encoding.x['shorthand'] should be an str\"\n",
    "assert sha1(str(len(polio_regions.encoding.x['shorthand'])).encode(\"utf-8\")+b\"3fc39afe176e8347\").hexdigest() == \"433d2ac23234dd07315cdd8ccce95d0a55f50cd3\", \"length of polio_regions.encoding.x['shorthand'] is not correct\"\n",
    "assert sha1(str(polio_regions.encoding.x['shorthand'].lower()).encode(\"utf-8\")+b\"3fc39afe176e8347\").hexdigest() == \"4115ca87e1c23f67838f8961d9c4f73320f4d31b\", \"value of polio_regions.encoding.x['shorthand'] is not correct\"\n",
    "assert sha1(str(polio_regions.encoding.x['shorthand']).encode(\"utf-8\")+b\"3fc39afe176e8347\").hexdigest() == \"4115ca87e1c23f67838f8961d9c4f73320f4d31b\", \"correct string value of polio_regions.encoding.x['shorthand'] but incorrect case of letters\"\n",
    "\n",
    "assert sha1(str(type(polio_regions.encoding.y['shorthand'])).encode(\"utf-8\")+b\"2194a3a0f3a9368d\").hexdigest() == \"8fc4ed784642b7341c3aaee869fb8f87ef0e636e\", \"type of polio_regions.encoding.y['shorthand'] is not str. polio_regions.encoding.y['shorthand'] should be an str\"\n",
    "assert sha1(str(len(polio_regions.encoding.y['shorthand'])).encode(\"utf-8\")+b\"2194a3a0f3a9368d\").hexdigest() == \"2ff65260cca996cff43882534940ae64a528d293\", \"length of polio_regions.encoding.y['shorthand'] is not correct\"\n",
    "assert sha1(str(polio_regions.encoding.y['shorthand'].lower()).encode(\"utf-8\")+b\"2194a3a0f3a9368d\").hexdigest() == \"87c03006a3cd91b2e2763a3d387fc855802a6832\", \"value of polio_regions.encoding.y['shorthand'] is not correct\"\n",
    "assert sha1(str(polio_regions.encoding.y['shorthand']).encode(\"utf-8\")+b\"2194a3a0f3a9368d\").hexdigest() == \"87c03006a3cd91b2e2763a3d387fc855802a6832\", \"correct string value of polio_regions.encoding.y['shorthand'] but incorrect case of letters\"\n",
    "\n",
    "assert sha1(str(type(polio_regions.encoding.color['shorthand'])).encode(\"utf-8\")+b\"8fd78a55c654a34f\").hexdigest() == \"80a00346d338b5f89cee7e5a7b899119ae88fcf9\", \"type of polio_regions.encoding.color['shorthand'] is not str. polio_regions.encoding.color['shorthand'] should be an str\"\n",
    "assert sha1(str(len(polio_regions.encoding.color['shorthand'])).encode(\"utf-8\")+b\"8fd78a55c654a34f\").hexdigest() == \"8cb85120c1cbc273d9d91b6381dad94e2252f0d2\", \"length of polio_regions.encoding.color['shorthand'] is not correct\"\n",
    "assert sha1(str(polio_regions.encoding.color['shorthand'].lower()).encode(\"utf-8\")+b\"8fd78a55c654a34f\").hexdigest() == \"cd232e1d77c18d36fd3cd69e4aedf4705311ef61\", \"value of polio_regions.encoding.color['shorthand'] is not correct\"\n",
    "assert sha1(str(polio_regions.encoding.color['shorthand']).encode(\"utf-8\")+b\"8fd78a55c654a34f\").hexdigest() == \"cd232e1d77c18d36fd3cd69e4aedf4705311ef61\", \"correct string value of polio_regions.encoding.color['shorthand'] but incorrect case of letters\"\n",
    "\n",
    "assert sha1(str(type(polio_regions.encoding.shape['shorthand'])).encode(\"utf-8\")+b\"f617f90bf6c0e547\").hexdigest() == \"6f3c805f60576db70d179048fe635a356994a707\", \"type of polio_regions.encoding.shape['shorthand'] is not str. polio_regions.encoding.shape['shorthand'] should be an str\"\n",
    "assert sha1(str(len(polio_regions.encoding.shape['shorthand'])).encode(\"utf-8\")+b\"f617f90bf6c0e547\").hexdigest() == \"9849897986985fdb8ec656e5494d8ed2371f5123\", \"length of polio_regions.encoding.shape['shorthand'] is not correct\"\n",
    "assert sha1(str(polio_regions.encoding.shape['shorthand'].lower()).encode(\"utf-8\")+b\"f617f90bf6c0e547\").hexdigest() == \"4bad681c42db4c30919f63b9ada3d600924cb60d\", \"value of polio_regions.encoding.shape['shorthand'] is not correct\"\n",
    "assert sha1(str(polio_regions.encoding.shape['shorthand']).encode(\"utf-8\")+b\"f617f90bf6c0e547\").hexdigest() == \"4bad681c42db4c30919f63b9ada3d600924cb60d\", \"correct string value of polio_regions.encoding.shape['shorthand'] but incorrect case of letters\"\n",
    "\n",
    "assert sha1(str(type(polio_regions.mark)).encode(\"utf-8\")+b\"90fb2ae04bfec241\").hexdigest() == \"e7ded150ad94e18026b4bc3ac76f4c966ff8d696\", \"type of polio_regions.mark is not str. polio_regions.mark should be an str\"\n",
    "assert sha1(str(len(polio_regions.mark)).encode(\"utf-8\")+b\"90fb2ae04bfec241\").hexdigest() == \"5a258108f3b3ee9d0bb6bc7c452faee55c8410b2\", \"length of polio_regions.mark is not correct\"\n",
    "assert sha1(str(polio_regions.mark.lower()).encode(\"utf-8\")+b\"90fb2ae04bfec241\").hexdigest() == \"ba5887d184232ed941caa34c63d21d6cef5c11c5\", \"value of polio_regions.mark is not correct\"\n",
    "assert sha1(str(polio_regions.mark).encode(\"utf-8\")+b\"90fb2ae04bfec241\").hexdigest() == \"ba5887d184232ed941caa34c63d21d6cef5c11c5\", \"correct string value of polio_regions.mark but incorrect case of letters\"\n",
    "\n",
    "assert sha1(str(type(isinstance(polio_regions.encoding.x['title'], str))).encode(\"utf-8\")+b\"f39e384e2706701a\").hexdigest() == \"0e034ece2f56df830a384b32cc312c61a7d58015\", \"type of isinstance(polio_regions.encoding.x['title'], str) is not bool. isinstance(polio_regions.encoding.x['title'], str) should be a bool\"\n",
    "assert sha1(str(isinstance(polio_regions.encoding.x['title'], str)).encode(\"utf-8\")+b\"f39e384e2706701a\").hexdigest() == \"d46b11da4d6c3866560fab585720140eb0965442\", \"boolean value of isinstance(polio_regions.encoding.x['title'], str) is not correct\"\n",
    "\n",
    "assert sha1(str(type(isinstance(polio_regions.encoding.y['title'], str))).encode(\"utf-8\")+b\"335b112a41d9daa3\").hexdigest() == \"d808439e03de607aa5f2491da8a4c84ca7971c84\", \"type of isinstance(polio_regions.encoding.y['title'], str) is not bool. isinstance(polio_regions.encoding.y['title'], str) should be a bool\"\n",
    "assert sha1(str(isinstance(polio_regions.encoding.y['title'], str)).encode(\"utf-8\")+b\"335b112a41d9daa3\").hexdigest() == \"2a7e9467ebd30f4ab313dbe41f104af629ccb614\", \"boolean value of isinstance(polio_regions.encoding.y['title'], str) is not correct\"\n",
    "\n",
    "assert sha1(str(type(polio_regions.config.axis.titleFontSize)).encode(\"utf-8\")+b\"4ec3382d9bd2761a\").hexdigest() == \"108501b68b37cca8073c94ed691cf3cd77c85338\", \"type of polio_regions.config.axis.titleFontSize is not int. Please make sure it is int and not np.int64, etc. You can cast your value into an int using int()\"\n",
    "assert sha1(str(polio_regions.config.axis.titleFontSize).encode(\"utf-8\")+b\"4ec3382d9bd2761a\").hexdigest() == \"27671a0b206e2acd14bdd98cb07ed24d8faad5ba\", \"value of polio_regions.config.axis.titleFontSize is not correct\"\n",
    "\n",
    "assert sha1(str(type(polio_regions.config.axis.titleFontSize)).encode(\"utf-8\")+b\"88fac21cc5787cc9\").hexdigest() == \"0c265b989d83fc2ef6a4e85d6861e871e624ab0e\", \"type of polio_regions.config.axis.titleFontSize is not int. Please make sure it is int and not np.int64, etc. You can cast your value into an int using int()\"\n",
    "assert sha1(str(polio_regions.config.axis.titleFontSize).encode(\"utf-8\")+b\"88fac21cc5787cc9\").hexdigest() == \"4fb600431fbdebe8ef9b843f82ae43a28775c9bd\", \"value of polio_regions.config.axis.titleFontSize is not correct\"\n",
    "\n",
    "assert sha1(str(type(polio_regions.width)).encode(\"utf-8\")+b\"dd5cc2b4d0bfedf8\").hexdigest() == \"079772ce610a9101a642a97c305b9274e381ce06\", \"type of polio_regions.width is not int. Please make sure it is int and not np.int64, etc. You can cast your value into an int using int()\"\n",
    "assert sha1(str(polio_regions.width).encode(\"utf-8\")+b\"dd5cc2b4d0bfedf8\").hexdigest() == \"dac2f2bc73f972ee250a961ce766659ed8e60bf1\", \"value of polio_regions.width is not correct\"\n",
    "\n",
    "print('Success!')"
   ]
  },
  {
   "cell_type": "markdown",
   "metadata": {
    "deletable": false,
    "editable": false,
    "nbgrader": {
     "cell_type": "markdown",
     "checksum": "0ed80e3d83719e2a0ec75cda6024077f",
     "grade": false,
     "grade_id": "cell-78cdf142395d1696",
     "locked": true,
     "schema_version": 3,
     "solution": false
    }
   },
   "source": [
    "**Question 1.7**\n",
    "<br> {points: 1}\n",
    "\n",
    "Although when we have multiple groups, it's easier for us to see the differences when we change point colour and shape, at some point there are too many groups to keep things straight. We are approaching that on the plot above, and so we need to do something different. One thing we could try is to change the point to a line to reduce the noise/chaos of the plot above. We would also not have a shape encoding in the line plot, but keep the rest of the code the same. Do that in the cell below and name the plot object `polio_regions_line`."
   ]
  },
  {
   "cell_type": "code",
   "execution_count": null,
   "metadata": {
    "deletable": false,
    "nbgrader": {
     "cell_type": "code",
     "checksum": "31ea5e2ddd1de94aca76593791261a1d",
     "grade": false,
     "grade_id": "cell-c803221869b8ae00",
     "locked": false,
     "schema_version": 3,
     "solution": true
    }
   },
   "outputs": [],
   "source": [
    "# your code here\n",
    "raise NotImplementedError\n",
    "polio_regions_line"
   ]
  },
  {
   "cell_type": "code",
   "execution_count": null,
   "metadata": {
    "deletable": false,
    "editable": false,
    "nbgrader": {
     "cell_type": "code",
     "checksum": "da9a574a24db7fb1309c3dbe2416f745",
     "grade": true,
     "grade_id": "cell-9bc60c906bcd60b3",
     "locked": true,
     "points": 1,
     "schema_version": 3,
     "solution": false
    }
   },
   "outputs": [],
   "source": [
    "from hashlib import sha1\n",
    "assert sha1(str(type(polio_regions_line is None)).encode(\"utf-8\")+b\"30ab695398fec225\").hexdigest() == \"361fb85d12dbe0157567d33c9b386d2ad1089b57\", \"type of polio_regions_line is None is not bool. polio_regions_line is None should be a bool\"\n",
    "assert sha1(str(polio_regions_line is None).encode(\"utf-8\")+b\"30ab695398fec225\").hexdigest() == \"9aa6b18b571e45f6f75e1be47473d622ae8439cc\", \"boolean value of polio_regions_line is None is not correct\"\n",
    "\n",
    "assert sha1(str(type(polio_regions_line.encoding.x['shorthand'])).encode(\"utf-8\")+b\"ef9c1fa030593316\").hexdigest() == \"6a4f7e0b91216aabadaa5d82c1d95581ef52306b\", \"type of polio_regions_line.encoding.x['shorthand'] is not str. polio_regions_line.encoding.x['shorthand'] should be an str\"\n",
    "assert sha1(str(len(polio_regions_line.encoding.x['shorthand'])).encode(\"utf-8\")+b\"ef9c1fa030593316\").hexdigest() == \"f0ad82480eb42e23ee12091a50248473dedf25f6\", \"length of polio_regions_line.encoding.x['shorthand'] is not correct\"\n",
    "assert sha1(str(polio_regions_line.encoding.x['shorthand'].lower()).encode(\"utf-8\")+b\"ef9c1fa030593316\").hexdigest() == \"546aa2c3e0ff31ccbd94dd9d0053a42e4f828598\", \"value of polio_regions_line.encoding.x['shorthand'] is not correct\"\n",
    "assert sha1(str(polio_regions_line.encoding.x['shorthand']).encode(\"utf-8\")+b\"ef9c1fa030593316\").hexdigest() == \"546aa2c3e0ff31ccbd94dd9d0053a42e4f828598\", \"correct string value of polio_regions_line.encoding.x['shorthand'] but incorrect case of letters\"\n",
    "\n",
    "assert sha1(str(type(polio_regions_line.encoding.y['shorthand'])).encode(\"utf-8\")+b\"7b4fe9ea0383cae7\").hexdigest() == \"0d1180ccd6ce9b1ea63e506f73fe6fe306e6f0b3\", \"type of polio_regions_line.encoding.y['shorthand'] is not str. polio_regions_line.encoding.y['shorthand'] should be an str\"\n",
    "assert sha1(str(len(polio_regions_line.encoding.y['shorthand'])).encode(\"utf-8\")+b\"7b4fe9ea0383cae7\").hexdigest() == \"2155bac42d396259f1861a9f702a6133e48d1eb9\", \"length of polio_regions_line.encoding.y['shorthand'] is not correct\"\n",
    "assert sha1(str(polio_regions_line.encoding.y['shorthand'].lower()).encode(\"utf-8\")+b\"7b4fe9ea0383cae7\").hexdigest() == \"9073db409137098b623fb1fe0ead9e89aeb95478\", \"value of polio_regions_line.encoding.y['shorthand'] is not correct\"\n",
    "assert sha1(str(polio_regions_line.encoding.y['shorthand']).encode(\"utf-8\")+b\"7b4fe9ea0383cae7\").hexdigest() == \"9073db409137098b623fb1fe0ead9e89aeb95478\", \"correct string value of polio_regions_line.encoding.y['shorthand'] but incorrect case of letters\"\n",
    "\n",
    "assert sha1(str(type(polio_regions_line.encoding.color['shorthand'])).encode(\"utf-8\")+b\"bcde4e4c91a62762\").hexdigest() == \"2e88884101d76786658253aacccbab8c59e6d9da\", \"type of polio_regions_line.encoding.color['shorthand'] is not str. polio_regions_line.encoding.color['shorthand'] should be an str\"\n",
    "assert sha1(str(len(polio_regions_line.encoding.color['shorthand'])).encode(\"utf-8\")+b\"bcde4e4c91a62762\").hexdigest() == \"25e619aa76a6d332f7937ad015a6d96f7f541e9a\", \"length of polio_regions_line.encoding.color['shorthand'] is not correct\"\n",
    "assert sha1(str(polio_regions_line.encoding.color['shorthand'].lower()).encode(\"utf-8\")+b\"bcde4e4c91a62762\").hexdigest() == \"a150333b1559e61548ab1df5f387bd014ce54bfc\", \"value of polio_regions_line.encoding.color['shorthand'] is not correct\"\n",
    "assert sha1(str(polio_regions_line.encoding.color['shorthand']).encode(\"utf-8\")+b\"bcde4e4c91a62762\").hexdigest() == \"a150333b1559e61548ab1df5f387bd014ce54bfc\", \"correct string value of polio_regions_line.encoding.color['shorthand'] but incorrect case of letters\"\n",
    "\n",
    "assert sha1(str(type(polio_regions_line.mark)).encode(\"utf-8\")+b\"22f7c1a11a35298c\").hexdigest() == \"eb256d16e8ff245f033bdf25094da908eb9208fa\", \"type of polio_regions_line.mark is not str. polio_regions_line.mark should be an str\"\n",
    "assert sha1(str(len(polio_regions_line.mark)).encode(\"utf-8\")+b\"22f7c1a11a35298c\").hexdigest() == \"2047843d76dab4a2d780fe4ecbc196c12bce63ca\", \"length of polio_regions_line.mark is not correct\"\n",
    "assert sha1(str(polio_regions_line.mark.lower()).encode(\"utf-8\")+b\"22f7c1a11a35298c\").hexdigest() == \"d642ad5b3f53a341379f05b7c81b8d1ef2508432\", \"value of polio_regions_line.mark is not correct\"\n",
    "assert sha1(str(polio_regions_line.mark).encode(\"utf-8\")+b\"22f7c1a11a35298c\").hexdigest() == \"d642ad5b3f53a341379f05b7c81b8d1ef2508432\", \"correct string value of polio_regions_line.mark but incorrect case of letters\"\n",
    "\n",
    "assert sha1(str(type(isinstance(polio_regions_line.encoding.x['title'], str))).encode(\"utf-8\")+b\"b58ac073571b7171\").hexdigest() == \"9ffa89936f0f5f8f9b117e5005dc0afe6644a203\", \"type of isinstance(polio_regions_line.encoding.x['title'], str) is not bool. isinstance(polio_regions_line.encoding.x['title'], str) should be a bool\"\n",
    "assert sha1(str(isinstance(polio_regions_line.encoding.x['title'], str)).encode(\"utf-8\")+b\"b58ac073571b7171\").hexdigest() == \"18e73b878a6c6164558eceb0a87d93cb9369030d\", \"boolean value of isinstance(polio_regions_line.encoding.x['title'], str) is not correct\"\n",
    "\n",
    "assert sha1(str(type(isinstance(polio_regions_line.encoding.y['title'], str))).encode(\"utf-8\")+b\"76ef06f722d7b7bd\").hexdigest() == \"33c278efe418061ac1a263eb468d655fab067be0\", \"type of isinstance(polio_regions_line.encoding.y['title'], str) is not bool. isinstance(polio_regions_line.encoding.y['title'], str) should be a bool\"\n",
    "assert sha1(str(isinstance(polio_regions_line.encoding.y['title'], str)).encode(\"utf-8\")+b\"76ef06f722d7b7bd\").hexdigest() == \"e634e32b27dc06e40cf00fd6f0074c92be650216\", \"boolean value of isinstance(polio_regions_line.encoding.y['title'], str) is not correct\"\n",
    "\n",
    "assert sha1(str(type(polio_regions_line.config.axis.titleFontSize)).encode(\"utf-8\")+b\"9492dc5fcdc2a29e\").hexdigest() == \"ba98fa093575637cc66f4cb7d9fcea7d21d61670\", \"type of polio_regions_line.config.axis.titleFontSize is not int. Please make sure it is int and not np.int64, etc. You can cast your value into an int using int()\"\n",
    "assert sha1(str(polio_regions_line.config.axis.titleFontSize).encode(\"utf-8\")+b\"9492dc5fcdc2a29e\").hexdigest() == \"2262e6a443b90ee4efbc50c1df1a133a39a6d348\", \"value of polio_regions_line.config.axis.titleFontSize is not correct\"\n",
    "\n",
    "assert sha1(str(type(polio_regions_line.config.axis.titleFontSize)).encode(\"utf-8\")+b\"61b2629c591c7f80\").hexdigest() == \"4f59cf19e6a5c6c57905fa60d9b373852310a655\", \"type of polio_regions_line.config.axis.titleFontSize is not int. Please make sure it is int and not np.int64, etc. You can cast your value into an int using int()\"\n",
    "assert sha1(str(polio_regions_line.config.axis.titleFontSize).encode(\"utf-8\")+b\"61b2629c591c7f80\").hexdigest() == \"6bbb06a40da8ea5c78ab178e497218e81d051ac3\", \"value of polio_regions_line.config.axis.titleFontSize is not correct\"\n",
    "\n",
    "assert sha1(str(type(polio_regions_line.width)).encode(\"utf-8\")+b\"c89f2664b992d1f1\").hexdigest() == \"86d5b93857baf1577275b06afe5ab50fff6b9a8a\", \"type of polio_regions_line.width is not int. Please make sure it is int and not np.int64, etc. You can cast your value into an int using int()\"\n",
    "assert sha1(str(polio_regions_line.width).encode(\"utf-8\")+b\"c89f2664b992d1f1\").hexdigest() == \"edba4e5afe51fbafafeb70bfcc6bf3a71fcde17c\", \"value of polio_regions_line.width is not correct\"\n",
    "\n",
    "print('Success!')"
   ]
  },
  {
   "cell_type": "markdown",
   "metadata": {
    "deletable": false,
    "editable": false,
    "nbgrader": {
     "cell_type": "markdown",
     "checksum": "d970c40d0ca81d47671c9891b9420afd",
     "grade": false,
     "grade_id": "cell-99db863d291c52b2",
     "locked": true,
     "schema_version": 3,
     "solution": false
    }
   },
   "source": [
    "**Question 1.8**\n",
    "<br> {points: 1}\n",
    "\n",
    "Now that we know how to effectively plot the percentage vaccinated against Polio over time for each region, how might we compare this to what we see for each region for the percentage vaccinated against Hepatitis B? In this case we would like two plots next to each other, which we can get using a technique called \"facetting\". We saw facetting last week, and now we will take some time to learn it.\n",
    "\n",
    "The basic syntax for the `altair` facet function is the following:\n",
    "\n",
    "```\n",
    "# Creates horizontally arranged side by side plots for each category in COLUMN_X\n",
    "facet('COLUMN_X')\n",
    "```\n",
    "\n",
    "or \n",
    "\n",
    "```\n",
    "# Creates a single column of vertically arranged plots for each category in COLUMN_X\n",
    "facet('COLUMN_X', columns=1)\n",
    "```\n",
    "\n",
    "Create a plot like the one named `polio_regions_line` but instead of using the `polio` data frame, use the `world_vaccination` data frame, and facet on the column `vaccine` so that the two plots are side-by-side. Name this plot object `side_by_side_world`. Use the default chart width to make sure the plot size fit well within the worksheet."
   ]
  },
  {
   "cell_type": "code",
   "execution_count": null,
   "metadata": {
    "deletable": false,
    "nbgrader": {
     "cell_type": "code",
     "checksum": "08ad77abe846c4cb319a49f1c8181796",
     "grade": false,
     "grade_id": "cell-1703a03640493439",
     "locked": false,
     "schema_version": 3,
     "solution": true
    }
   },
   "outputs": [],
   "source": [
    "# ___ = alt.Chart(___).___().encode(\n",
    "#     x=alt.X(___)\n",
    "#         .title(___)\n",
    "#         .scale(zero=False),\n",
    "#     y=alt.Y(___)\n",
    "#         .title(___),\n",
    "#     color=alt.Color(___).title(___)\n",
    "# ).facet(\n",
    "#     ___\n",
    "# ).configure_axis(\n",
    "#     ___\n",
    "# )\n",
    "\n",
    "# your code here\n",
    "raise NotImplementedError\n",
    "side_by_side_world"
   ]
  },
  {
   "cell_type": "code",
   "execution_count": null,
   "metadata": {
    "deletable": false,
    "editable": false,
    "nbgrader": {
     "cell_type": "code",
     "checksum": "dfaa5fd4b5c47825544fab73e4113882",
     "grade": true,
     "grade_id": "cell-da960eda0165bd94",
     "locked": true,
     "points": 1,
     "schema_version": 3,
     "solution": false
    }
   },
   "outputs": [],
   "source": [
    "from hashlib import sha1\n",
    "assert sha1(str(type(side_by_side_world is None)).encode(\"utf-8\")+b\"0ea087b0fbe8c989\").hexdigest() == \"d85aebc11215b568c9340837d914636d18b9fc76\", \"type of side_by_side_world is None is not bool. side_by_side_world is None should be a bool\"\n",
    "assert sha1(str(side_by_side_world is None).encode(\"utf-8\")+b\"0ea087b0fbe8c989\").hexdigest() == \"38d9b1ff72db09fc66cafff9b36f97a989b91e9c\", \"boolean value of side_by_side_world is None is not correct\"\n",
    "\n",
    "assert sha1(str(type(side_by_side_world.facet)).encode(\"utf-8\")+b\"0ce8f4ec5a485520\").hexdigest() == \"a26a00bb7ab2f1942043ff06f2dd7080200c4923\", \"type of side_by_side_world.facet is not correct\"\n",
    "assert sha1(str(side_by_side_world.facet).encode(\"utf-8\")+b\"0ce8f4ec5a485520\").hexdigest() == \"8591ad255fb9385a43af486684c5c78fd5b3451f\", \"value of side_by_side_world.facet is not correct\"\n",
    "\n",
    "print('Success!')"
   ]
  },
  {
   "cell_type": "markdown",
   "metadata": {
    "deletable": false,
    "editable": false,
    "nbgrader": {
     "cell_type": "markdown",
     "checksum": "66c6d3e0d581923223136355139a3e04",
     "grade": false,
     "grade_id": "cell-bf8e150751b134f6",
     "locked": true,
     "schema_version": 3,
     "solution": false
    }
   },
   "source": [
    "**Question 1.9.1**\n",
    "<br> {points: 1}\n",
    "\n",
    "Now use `facet` to arrange the same two plots vertically (i.e. a single column). Name this plot `vertical_world`."
   ]
  },
  {
   "cell_type": "code",
   "execution_count": null,
   "metadata": {
    "deletable": false,
    "nbgrader": {
     "cell_type": "code",
     "checksum": "9b0c41f975cfa919523b03189b2d2e0a",
     "grade": false,
     "grade_id": "cell-55bbd1d0a2ea4a40",
     "locked": false,
     "schema_version": 3,
     "solution": true
    }
   },
   "outputs": [],
   "source": [
    "# your code here\n",
    "raise NotImplementedError\n",
    "vertical_world"
   ]
  },
  {
   "cell_type": "code",
   "execution_count": null,
   "metadata": {
    "deletable": false,
    "editable": false,
    "nbgrader": {
     "cell_type": "code",
     "checksum": "b598d2c5326d6857ececac104f31f87f",
     "grade": true,
     "grade_id": "cell-2a2384fca721cc8a",
     "locked": true,
     "points": 1,
     "schema_version": 3,
     "solution": false
    }
   },
   "outputs": [],
   "source": [
    "from hashlib import sha1\n",
    "assert sha1(str(type(vertical_world is None)).encode(\"utf-8\")+b\"d75d3faa03df9580\").hexdigest() == \"4c0eaa84c88fb574c28542477ac335a075b2ae81\", \"type of vertical_world is None is not bool. vertical_world is None should be a bool\"\n",
    "assert sha1(str(vertical_world is None).encode(\"utf-8\")+b\"d75d3faa03df9580\").hexdigest() == \"a2d2b852f6814eb208c970194237df6333164cf2\", \"boolean value of vertical_world is None is not correct\"\n",
    "\n",
    "assert sha1(str(type(vertical_world.columns)).encode(\"utf-8\")+b\"0888023f0816b568\").hexdigest() == \"e3d451c9f9b49fa1f18b9de04e57fd60257ac7f2\", \"type of vertical_world.columns is not int. Please make sure it is int and not np.int64, etc. You can cast your value into an int using int()\"\n",
    "assert sha1(str(vertical_world.columns).encode(\"utf-8\")+b\"0888023f0816b568\").hexdigest() == \"5b87b7a4ba6979fe133c809e34484ddae97970c0\", \"value of vertical_world.columns is not correct\"\n",
    "\n",
    "assert sha1(str(type(vertical_world.facet)).encode(\"utf-8\")+b\"6e2337652b8f6815\").hexdigest() == \"ca621be2b6ce2f03a98b4af6a6ac5eaf709f5767\", \"type of vertical_world.facet is not correct\"\n",
    "assert sha1(str(vertical_world.facet).encode(\"utf-8\")+b\"6e2337652b8f6815\").hexdigest() == \"a2ad6f6fd0104175737b897c5bf4d8f71623fe71\", \"value of vertical_world.facet is not correct\"\n",
    "\n",
    "print('Success!')"
   ]
  },
  {
   "cell_type": "markdown",
   "metadata": {
    "deletable": false,
    "editable": false,
    "nbgrader": {
     "cell_type": "markdown",
     "checksum": "87c62d43656c57cce3f8c39b53ac89fb",
     "grade": false,
     "grade_id": "cell-8cba902e440bfbf8",
     "locked": true,
     "schema_version": 3,
     "solution": false,
     "task": false
    }
   },
   "source": [
    "Which arrangement is better? Depends on what you are asking! If you are interested in comparing the rate at which things changed over time (exact location on the x-axis), then the vertical arrangement is more effective. However, if you are interested in comparing the exact percentage values between the lines across facets (exact location on the y-axis) at certain points in time then the side-by-side arrangement is more effective."
   ]
  },
  {
   "cell_type": "markdown",
   "metadata": {
    "deletable": false,
    "editable": false,
    "nbgrader": {
     "cell_type": "markdown",
     "checksum": "fa67020d3aafa34b64ee55af0fe320c5",
     "grade": false,
     "grade_id": "cell-6e7d28492998c804",
     "locked": true,
     "schema_version": 3,
     "solution": false
    }
   },
   "source": [
    "**Question 1.9.2** Multiple Choice:\n",
    "<br> {points: 1}\n",
    "\n",
    "Which WHO region had the greatest progress in the shortest period of time in either Hepatitis B and in Polio (using the data we plotted above)?\n",
    "\n",
    "\n",
    "A. Americas\n",
    "\n",
    "B. Eastern Mediterranean\n",
    "\n",
    "C. Europe\n",
    "\n",
    "D. Western Pacific\n",
    "\n",
    "*Assign your answer to an object called `answer1_9_2`. Make sure your answer is an uppercase letter and is surrounded by quotation marks (e.g. `\"F\"`).*"
   ]
  },
  {
   "cell_type": "code",
   "execution_count": null,
   "metadata": {
    "deletable": false,
    "nbgrader": {
     "cell_type": "code",
     "checksum": "76d3652fb9236545f6bc846328fbbf96",
     "grade": false,
     "grade_id": "cell-2f8d6a1dce2d67ae",
     "locked": false,
     "schema_version": 3,
     "solution": true
    }
   },
   "outputs": [],
   "source": [
    "# your code here\n",
    "raise NotImplementedError"
   ]
  },
  {
   "cell_type": "code",
   "execution_count": null,
   "metadata": {
    "deletable": false,
    "editable": false,
    "nbgrader": {
     "cell_type": "code",
     "checksum": "f385bb753a89de9d0b48e31d1920e2d5",
     "grade": true,
     "grade_id": "cell-a69f9766adab9544",
     "locked": true,
     "points": 1,
     "schema_version": 3,
     "solution": false
    }
   },
   "outputs": [],
   "source": [
    "from hashlib import sha1\n",
    "assert sha1(str(type(answer1_9_2)).encode(\"utf-8\")+b\"e3f4f48f530d7683\").hexdigest() == \"22ece9ceb76837b6634e66d3e06b953df91daa19\", \"type of answer1_9_2 is not str. answer1_9_2 should be an str\"\n",
    "assert sha1(str(len(answer1_9_2)).encode(\"utf-8\")+b\"e3f4f48f530d7683\").hexdigest() == \"33b28c1aa8a51505d1acd82036db4a14568e1c4f\", \"length of answer1_9_2 is not correct\"\n",
    "assert sha1(str(answer1_9_2.lower()).encode(\"utf-8\")+b\"e3f4f48f530d7683\").hexdigest() == \"59bd05dd6844d44431839040d561497b1bdc1469\", \"value of answer1_9_2 is not correct\"\n",
    "assert sha1(str(answer1_9_2).encode(\"utf-8\")+b\"e3f4f48f530d7683\").hexdigest() == \"9a69c9d20ad2082b62de1cb9744ad6749aa33e3b\", \"correct string value of answer1_9_2 but incorrect case of letters\"\n",
    "\n",
    "print('Success!')"
   ]
  },
  {
   "cell_type": "markdown",
   "metadata": {
    "deletable": false,
    "editable": false,
    "nbgrader": {
     "cell_type": "markdown",
     "checksum": "d44f5db0fc14b57fbf099cd8f5b94579",
     "grade": false,
     "grade_id": "cell-5ded190fc1855d5b",
     "locked": true,
     "schema_version": 3,
     "solution": false,
     "task": false
    }
   },
   "source": [
    "## 2. Fast-Food Chains in the United States\n",
    "\n",
    "With their cheap meals and convenient drive-thrus, fast food restaurants are a growing demand in many countries. Despite their questionable ingredients and nutritional value, most Americans count on fast food in their daily lives (they are often delicious and so hard to resist...). \n",
    "\n",
    "<img src=\"https://media.giphy.com/media/NS6SKs3Lt8cPHhe0es/giphy.gif\" width = \"400\"/>\n",
    "\n",
    "Source: https://media.giphy.com/media/NS6SKs3Lt8cPHhe0es/giphy.gif\n",
    "\n",
    "According to Wikipedia,\n",
    ">  Fast food was originally created as a commercial strategy to accommodate the larger numbers of busy commuters, travelers and wage workers who often didn't have the time to sit down at a public house or diner and wait the normal way for their food to be cooked. By making speed of service the priority, this ensured that customers with strictly limited time (a commuter stopping to procure dinner to bring home to their family, for example, or an hourly laborer on a short lunch break) were not inconvenienced by waiting for their food to be cooked on-the-spot (as is expected from a traditional \"sit down\" restaurant). For those with no time to spare, fast food became a multi-billion dollar industry.\n",
    "\n",
    "Currently, fast food is the norm and lots of businesses are investing in advertisement as well as new ideas to make their chain stand out in the sea of restaurants. In fact, one business is hiring you. They want to know the layout of the landscape:\n",
    "\n",
    "1) Which is the most prevalent franchise on the west coast of the US? \n",
    "\n",
    "2) Which state has the highest number of fast-food restuarants? \n",
    "\n",
    "3) Is the most dominant franchise consistent across the west coast?\n",
    "\n",
    "In this assignment, you will pretend to assist in the opening of a new restaurant somewhere on the west coast of the United States (California, Oregon, or Washington). Your goal is to figure out which fast food chain to recommend and figure out which state would be the least competitive.\n",
    "\n",
    "The columns in the dataset are:\n",
    "\n",
    "- `name` - The name of the restaurant\n",
    "- `st` - State"
   ]
  },
  {
   "cell_type": "markdown",
   "metadata": {
    "deletable": false,
    "editable": false,
    "nbgrader": {
     "cell_type": "markdown",
     "checksum": "b2f571f033a07018dee699e0533800f0",
     "grade": false,
     "grade_id": "cell-1d4483955210a104",
     "locked": true,
     "schema_version": 3,
     "solution": false
    }
   },
   "source": [
    "**Question 2.1** Multiple Choice:\n",
    "<br> {points: 1}\n",
    "\n",
    "From the list below, what are you *not* trying to determine:\n",
    "\n",
    "A. The west coast frachise with the greatest prevalence\n",
    "\n",
    "B. The least dominant franchise consistent across the west coast\n",
    "\n",
    "C. The state on the west coast with the greatest number of fast-food restuarants\n",
    "\n",
    "*Assign your answer to an object called `answer2_1`. Make sure your answer is an uppercase letter and is surrounded by quotation marks (e.g. `\"F\"`).*"
   ]
  },
  {
   "cell_type": "code",
   "execution_count": null,
   "metadata": {
    "deletable": false,
    "nbgrader": {
     "cell_type": "code",
     "checksum": "ef477bd25d540eded7b3d5e4e2e13682",
     "grade": false,
     "grade_id": "cell-ee7c5c9ca8b83d19",
     "locked": false,
     "schema_version": 3,
     "solution": true
    }
   },
   "outputs": [],
   "source": [
    "# your code here\n",
    "raise NotImplementedError"
   ]
  },
  {
   "cell_type": "code",
   "execution_count": null,
   "metadata": {
    "deletable": false,
    "editable": false,
    "nbgrader": {
     "cell_type": "code",
     "checksum": "ad47e7f305ad35360b8c477a34f977b0",
     "grade": true,
     "grade_id": "cell-22af5054ff59eadd",
     "locked": true,
     "points": 1,
     "schema_version": 3,
     "solution": false
    }
   },
   "outputs": [],
   "source": [
    "from hashlib import sha1\n",
    "assert sha1(str(type(answer2_1)).encode(\"utf-8\")+b\"9c0d4afb7eb34918\").hexdigest() == \"d0ad3b576347a60f641f54eaa2db41a81e11d8bf\", \"type of answer2_1 is not str. answer2_1 should be an str\"\n",
    "assert sha1(str(len(answer2_1)).encode(\"utf-8\")+b\"9c0d4afb7eb34918\").hexdigest() == \"aefaed6976da46f624bfbfd600f62fd1843aa7ee\", \"length of answer2_1 is not correct\"\n",
    "assert sha1(str(answer2_1.lower()).encode(\"utf-8\")+b\"9c0d4afb7eb34918\").hexdigest() == \"fd81dffd6d56f774b62490463f9624fcc2201b9b\", \"value of answer2_1 is not correct\"\n",
    "assert sha1(str(answer2_1).encode(\"utf-8\")+b\"9c0d4afb7eb34918\").hexdigest() == \"3e2b7cba9dbddd1982b315cf8721ee345bbdbe36\", \"correct string value of answer2_1 but incorrect case of letters\"\n",
    "\n",
    "print('Success!')"
   ]
  },
  {
   "cell_type": "markdown",
   "metadata": {
    "deletable": false,
    "editable": false,
    "nbgrader": {
     "cell_type": "markdown",
     "checksum": "aa85db0f0538a8727cf7b54727473a6c",
     "grade": false,
     "grade_id": "cell-2a0d906c102c421a",
     "locked": true,
     "schema_version": 3,
     "solution": false
    }
   },
   "source": [
    "**Question 2.2**\n",
    "<br> {points: 1}\n",
    "\n",
    "Read the `fast_food.csv` file (found in the `data` directory) and assign it to an object called `fast_food`."
   ]
  },
  {
   "cell_type": "code",
   "execution_count": null,
   "metadata": {
    "deletable": false,
    "nbgrader": {
     "cell_type": "code",
     "checksum": "239828ab95e408029def1ca051c2a652",
     "grade": false,
     "grade_id": "cell-84ec1117f0f1e0d4",
     "locked": false,
     "schema_version": 3,
     "solution": true
    }
   },
   "outputs": [],
   "source": [
    "# your code here\n",
    "raise NotImplementedError\n",
    "fast_food"
   ]
  },
  {
   "cell_type": "code",
   "execution_count": null,
   "metadata": {
    "deletable": false,
    "editable": false,
    "nbgrader": {
     "cell_type": "code",
     "checksum": "442d19e7df9f4436de13c2c11c55fc1e",
     "grade": true,
     "grade_id": "cell-f61886d392c4a00a",
     "locked": true,
     "points": 1,
     "schema_version": 3,
     "solution": false
    }
   },
   "outputs": [],
   "source": [
    "from hashlib import sha1\n",
    "assert sha1(str(type(fast_food is None)).encode(\"utf-8\")+b\"3afe10035975cecc\").hexdigest() == \"1b7fa759c456c8512b2f7ccba97190a3cede23a1\", \"type of fast_food is None is not bool. fast_food is None should be a bool\"\n",
    "assert sha1(str(fast_food is None).encode(\"utf-8\")+b\"3afe10035975cecc\").hexdigest() == \"a17193369ef9cd6339ac42670c80382cdbacb78f\", \"boolean value of fast_food is None is not correct\"\n",
    "\n",
    "assert sha1(str(type(fast_food.shape)).encode(\"utf-8\")+b\"264e9d284d711776\").hexdigest() == \"d639b98ba482547c0703a02c5814b05aed91a9b4\", \"type of fast_food.shape is not tuple. fast_food.shape should be a tuple\"\n",
    "assert sha1(str(len(fast_food.shape)).encode(\"utf-8\")+b\"264e9d284d711776\").hexdigest() == \"2096dc5e3540cfefe8d75d9ccecd7c1d4af40bb9\", \"length of fast_food.shape is not correct\"\n",
    "assert sha1(str(sorted(map(str, fast_food.shape))).encode(\"utf-8\")+b\"264e9d284d711776\").hexdigest() == \"5d0d6cf0fe2e464152648f1cc06b005e8d3aba4b\", \"values of fast_food.shape are not correct\"\n",
    "assert sha1(str(fast_food.shape).encode(\"utf-8\")+b\"264e9d284d711776\").hexdigest() == \"7e3dcdb606996b3ef741f68e045c7c918751a862\", \"order of elements of fast_food.shape is not correct\"\n",
    "\n",
    "assert sha1(str(type(fast_food.iloc[2, 0])).encode(\"utf-8\")+b\"13353557544d6d01\").hexdigest() == \"e0781d632e63b1d15583c997b2a45aa2c02523ec\", \"type of fast_food.iloc[2, 0] is not str. fast_food.iloc[2, 0] should be an str\"\n",
    "assert sha1(str(len(fast_food.iloc[2, 0])).encode(\"utf-8\")+b\"13353557544d6d01\").hexdigest() == \"f503f6679a4d38c9aad883768d21905edcbae428\", \"length of fast_food.iloc[2, 0] is not correct\"\n",
    "assert sha1(str(fast_food.iloc[2, 0].lower()).encode(\"utf-8\")+b\"13353557544d6d01\").hexdigest() == \"aceb7e4b4b22d11c1e4eb9c026ec1b5a9539c819\", \"value of fast_food.iloc[2, 0] is not correct\"\n",
    "assert sha1(str(fast_food.iloc[2, 0]).encode(\"utf-8\")+b\"13353557544d6d01\").hexdigest() == \"02488e7118ca39b94d174c57d88736ad663f5a3e\", \"correct string value of fast_food.iloc[2, 0] but incorrect case of letters\"\n",
    "\n",
    "assert sha1(str(type(fast_food.iloc[3, 1])).encode(\"utf-8\")+b\"0406600e7e5aeca9\").hexdigest() == \"a316a52fce962d421fb7e001cb61530f042e573f\", \"type of fast_food.iloc[3, 1] is not str. fast_food.iloc[3, 1] should be an str\"\n",
    "assert sha1(str(len(fast_food.iloc[3, 1])).encode(\"utf-8\")+b\"0406600e7e5aeca9\").hexdigest() == \"bc885140c051c020f1948fddac04d43b7a4eb9fc\", \"length of fast_food.iloc[3, 1] is not correct\"\n",
    "assert sha1(str(fast_food.iloc[3, 1].lower()).encode(\"utf-8\")+b\"0406600e7e5aeca9\").hexdigest() == \"b59490696297514c83cb829a3f72020a39b96659\", \"value of fast_food.iloc[3, 1] is not correct\"\n",
    "assert sha1(str(fast_food.iloc[3, 1]).encode(\"utf-8\")+b\"0406600e7e5aeca9\").hexdigest() == \"773de4834e0eb967d75bf16f86b406559fd1a90b\", \"correct string value of fast_food.iloc[3, 1] but incorrect case of letters\"\n",
    "\n",
    "print('Success!')"
   ]
  },
  {
   "cell_type": "markdown",
   "metadata": {
    "deletable": false,
    "editable": false,
    "nbgrader": {
     "cell_type": "markdown",
     "checksum": "d865e8ca139f00d3d978512805cb813b",
     "grade": false,
     "grade_id": "cell-b752f228aa364c90",
     "locked": true,
     "schema_version": 3,
     "solution": false,
     "task": false
    }
   },
   "source": [
    "**Question 2.2.1** Multiple Choice:\n",
    "<br> {points: 1}\n",
    "\n",
    "What does each row in the dataset represent?\n",
    "\n",
    "A. The number of branches from a given franchise and state\n",
    "\n",
    "B. A unique branch of a given franchise in a given state\n",
    "\n",
    "C. An indicator of whether a given franchise is present in a given state\n",
    "\n",
    "*Assign your answer to an object called `answer2_2_1`. Make sure your answer is an uppercase letter and is surrounded by quotation marks (e.g. `\"F\"`).*"
   ]
  },
  {
   "cell_type": "code",
   "execution_count": null,
   "metadata": {
    "deletable": false,
    "nbgrader": {
     "cell_type": "code",
     "checksum": "e29b6e4a6c2546e97da764cbaa11927f",
     "grade": false,
     "grade_id": "cell-3b610030c80671d3",
     "locked": false,
     "schema_version": 3,
     "solution": true,
     "task": false
    }
   },
   "outputs": [],
   "source": [
    "# your code here\n",
    "raise NotImplementedError"
   ]
  },
  {
   "cell_type": "code",
   "execution_count": null,
   "metadata": {
    "deletable": false,
    "editable": false,
    "nbgrader": {
     "cell_type": "code",
     "checksum": "fd34b94c91488ba8fe8ae90d8971d2fd",
     "grade": true,
     "grade_id": "cell-d5c80de7a7a08e65",
     "locked": true,
     "points": 1,
     "schema_version": 3,
     "solution": false,
     "task": false
    }
   },
   "outputs": [],
   "source": [
    "from hashlib import sha1\n",
    "assert sha1(str(type(answer2_2_1)).encode(\"utf-8\")+b\"05b3f52ceaf7071d\").hexdigest() == \"847686cdfab77744ee9b28aace13e3a7edfc0318\", \"type of answer2_2_1 is not str. answer2_2_1 should be an str\"\n",
    "assert sha1(str(len(answer2_2_1)).encode(\"utf-8\")+b\"05b3f52ceaf7071d\").hexdigest() == \"653a710b12fbfbc7e6c08811a315ac0b8a83a9fa\", \"length of answer2_2_1 is not correct\"\n",
    "assert sha1(str(answer2_2_1.lower()).encode(\"utf-8\")+b\"05b3f52ceaf7071d\").hexdigest() == \"e78fdf5f55727ddb67862900ae72d822f328eb4b\", \"value of answer2_2_1 is not correct\"\n",
    "assert sha1(str(answer2_2_1).encode(\"utf-8\")+b\"05b3f52ceaf7071d\").hexdigest() == \"90227345ad62c31ec9c9b669aad66f9f834eef27\", \"correct string value of answer2_2_1 but incorrect case of letters\"\n",
    "\n",
    "print('Success!')"
   ]
  },
  {
   "cell_type": "markdown",
   "metadata": {
    "deletable": false,
    "editable": false,
    "nbgrader": {
     "cell_type": "markdown",
     "checksum": "17279d8fcb2520cd558a5a3595c9af0a",
     "grade": false,
     "grade_id": "cell-0df97ab2333937cb",
     "locked": true,
     "schema_version": 3,
     "solution": false
    }
   },
   "source": [
    "**Question 2.3** \n",
    "<br> {points: 1}\n",
    "\n",
    "Next, find the top 9 restaurants (in terms of number of locations) on the west coast (in the states \"CA\", \"WA\" or \"OR\") and name them `top_restaurants`.\n",
    "\n",
    "Fill in the `___` in the cell below.\n",
    "\n",
    "*Assign your answer to an object called `top_restaurants`. Note that for the line that reads `___(9)` there are two possible correct answers and you can choose either one of them.*"
   ]
  },
  {
   "cell_type": "code",
   "execution_count": null,
   "metadata": {
    "deletable": false,
    "nbgrader": {
     "cell_type": "code",
     "checksum": "97e27334456656754ae07a95bf5e1cf5",
     "grade": false,
     "grade_id": "cell-5c06ffd85d7fa572",
     "locked": false,
     "schema_version": 3,
     "solution": true
    }
   },
   "outputs": [],
   "source": [
    "# ___ = (\n",
    "#     fast_food[fast_food[___].isin(___)]\n",
    "#     .value_counts(___)\n",
    "#     .___(9)\n",
    "#     .reset_index()\n",
    "# )\n",
    "\n",
    "# your code here\n",
    "raise NotImplementedError\n",
    "top_restaurants"
   ]
  },
  {
   "cell_type": "code",
   "execution_count": null,
   "metadata": {
    "deletable": false,
    "editable": false,
    "nbgrader": {
     "cell_type": "code",
     "checksum": "b1267f50e3734751fd1ed7cadb6de51c",
     "grade": true,
     "grade_id": "cell-f2aa06843158a15e",
     "locked": true,
     "points": 1,
     "schema_version": 3,
     "solution": false
    }
   },
   "outputs": [],
   "source": [
    "from hashlib import sha1\n",
    "assert sha1(str(type(top_restaurants is None)).encode(\"utf-8\")+b\"77348d4e605abc92\").hexdigest() == \"29f7ce3d06ac184877575f2a51fb627c868689d3\", \"type of top_restaurants is None is not bool. top_restaurants is None should be a bool\"\n",
    "assert sha1(str(top_restaurants is None).encode(\"utf-8\")+b\"77348d4e605abc92\").hexdigest() == \"211836d526b05ac59c8b749370d5d20582f236f2\", \"boolean value of top_restaurants is None is not correct\"\n",
    "\n",
    "assert sha1(str(type(top_restaurants.shape)).encode(\"utf-8\")+b\"a0304e3ec015d493\").hexdigest() == \"057bfa85be7ed5d1c76bda51a292ab8caf0cada8\", \"type of top_restaurants.shape is not tuple. top_restaurants.shape should be a tuple\"\n",
    "assert sha1(str(len(top_restaurants.shape)).encode(\"utf-8\")+b\"a0304e3ec015d493\").hexdigest() == \"910e99e4faf3beda811eae1dd21ff16d5a7e58f2\", \"length of top_restaurants.shape is not correct\"\n",
    "assert sha1(str(sorted(map(str, top_restaurants.shape))).encode(\"utf-8\")+b\"a0304e3ec015d493\").hexdigest() == \"df7737fae72c1c4e9edfe3e482ea8a7de91c456b\", \"values of top_restaurants.shape are not correct\"\n",
    "assert sha1(str(top_restaurants.shape).encode(\"utf-8\")+b\"a0304e3ec015d493\").hexdigest() == \"ec9698cc4f5f5f9439e0d478b85b426669b08573\", \"order of elements of top_restaurants.shape is not correct\"\n",
    "\n",
    "assert sha1(str(type(sum(top_restaurants['count']))).encode(\"utf-8\")+b\"253911fa81b9d5ad\").hexdigest() == \"3843be3e5f32ef421c982798a57a003f4751d8f2\", \"type of sum(top_restaurants['count']) is not int. Please make sure it is int and not np.int64, etc. You can cast your value into an int using int()\"\n",
    "assert sha1(str(sum(top_restaurants['count'])).encode(\"utf-8\")+b\"253911fa81b9d5ad\").hexdigest() == \"1b4165d0da2622f78b3a1ae9b1e8b848744954d6\", \"value of sum(top_restaurants['count']) is not correct\"\n",
    "\n",
    "print('Success!')"
   ]
  },
  {
   "cell_type": "markdown",
   "metadata": {
    "deletable": false,
    "editable": false,
    "nbgrader": {
     "cell_type": "markdown",
     "checksum": "2805058d4f45bb9d4d654ff154ffd8df",
     "grade": false,
     "grade_id": "cell-49f4f43165cf12c8",
     "locked": true,
     "schema_version": 3,
     "solution": false
    }
   },
   "source": [
    "**Question 2.4** \n",
    "<br> {points: 1}\n",
    "\n",
    "Even though we can use the table above to answer the question: \"(1) Which is the most prevalent franchise on the west coast of the US?\" A table is not always the clearest way of showing information (although sometimes it might be). In our case a bar plot could be more helpful, so let's create one!\n",
    "\n",
    "Plot the counts for the top 9 fast food restaurants on the west coast as a bar chart using `mark_bar` with the `top_restaurants` dataframe. The number of restaurants should be on the y-axis and the restaurant names should be on the x-axis. \n",
    "\n",
    "To do this fill in the `___` in the cell below. Make sure to label your axes and choose an appropriate figure size using `properties`.\n",
    "\n",
    "*Assign your answer to an object called `count_bar_chart`.*"
   ]
  },
  {
   "cell_type": "code",
   "execution_count": null,
   "metadata": {
    "deletable": false,
    "nbgrader": {
     "cell_type": "code",
     "checksum": "897a659a9ac543dc1fbae50902335460",
     "grade": false,
     "grade_id": "cell-7fa524ccd31a0eb3",
     "locked": false,
     "schema_version": 3,
     "solution": true
    }
   },
   "outputs": [],
   "source": [
    "# ___ = alt.Chart(___).mark_bar().encode(\n",
    "#     x=alt.X(___).title(___),\n",
    "#     y=alt.Y(___).title(___)\n",
    "# )\n",
    "\n",
    "# your code here\n",
    "raise NotImplementedError\n",
    "count_bar_chart"
   ]
  },
  {
   "cell_type": "code",
   "execution_count": null,
   "metadata": {
    "deletable": false,
    "editable": false,
    "nbgrader": {
     "cell_type": "code",
     "checksum": "2ae4575f2b031ecd40a46b7b255bfc42",
     "grade": true,
     "grade_id": "cell-75b9ba0facc9e21e",
     "locked": true,
     "points": 1,
     "schema_version": 3,
     "solution": false
    }
   },
   "outputs": [],
   "source": [
    "from hashlib import sha1\n",
    "assert sha1(str(type(count_bar_chart is None)).encode(\"utf-8\")+b\"488c981034ab5c15\").hexdigest() == \"6f345c65c0344e5ea18e0ae8b0e4ccfe529f2a1a\", \"type of count_bar_chart is None is not bool. count_bar_chart is None should be a bool\"\n",
    "assert sha1(str(count_bar_chart is None).encode(\"utf-8\")+b\"488c981034ab5c15\").hexdigest() == \"a46c36eb9a08bc43ebb2b50d03b91b2bab2361e6\", \"boolean value of count_bar_chart is None is not correct\"\n",
    "\n",
    "assert sha1(str(type(count_bar_chart.encoding.x['shorthand'])).encode(\"utf-8\")+b\"2db2a423fcb9ad47\").hexdigest() == \"797328f1a467f872fec038750941ea8f7f7a4928\", \"type of count_bar_chart.encoding.x['shorthand'] is not str. count_bar_chart.encoding.x['shorthand'] should be an str\"\n",
    "assert sha1(str(len(count_bar_chart.encoding.x['shorthand'])).encode(\"utf-8\")+b\"2db2a423fcb9ad47\").hexdigest() == \"ed40e9f93bd83f5888e4bde970c5395b40719a07\", \"length of count_bar_chart.encoding.x['shorthand'] is not correct\"\n",
    "assert sha1(str(count_bar_chart.encoding.x['shorthand'].lower()).encode(\"utf-8\")+b\"2db2a423fcb9ad47\").hexdigest() == \"9c4a33e9fc7cf23023097995e3ca438cea2bac93\", \"value of count_bar_chart.encoding.x['shorthand'] is not correct\"\n",
    "assert sha1(str(count_bar_chart.encoding.x['shorthand']).encode(\"utf-8\")+b\"2db2a423fcb9ad47\").hexdigest() == \"9c4a33e9fc7cf23023097995e3ca438cea2bac93\", \"correct string value of count_bar_chart.encoding.x['shorthand'] but incorrect case of letters\"\n",
    "\n",
    "assert sha1(str(type(count_bar_chart.encoding.y['shorthand'])).encode(\"utf-8\")+b\"f636d4db5ce80b80\").hexdigest() == \"87044b3df651da2b0cf0d21d7ea9d9fc74c1d038\", \"type of count_bar_chart.encoding.y['shorthand'] is not str. count_bar_chart.encoding.y['shorthand'] should be an str\"\n",
    "assert sha1(str(len(count_bar_chart.encoding.y['shorthand'])).encode(\"utf-8\")+b\"f636d4db5ce80b80\").hexdigest() == \"15f3365c00bb0bcd3f6ff312a86b0c91cbdc7e44\", \"length of count_bar_chart.encoding.y['shorthand'] is not correct\"\n",
    "assert sha1(str(count_bar_chart.encoding.y['shorthand'].lower()).encode(\"utf-8\")+b\"f636d4db5ce80b80\").hexdigest() == \"f27dbb12c03979fd14fa4cfc8d08b256d0b26bd4\", \"value of count_bar_chart.encoding.y['shorthand'] is not correct\"\n",
    "assert sha1(str(count_bar_chart.encoding.y['shorthand']).encode(\"utf-8\")+b\"f636d4db5ce80b80\").hexdigest() == \"f27dbb12c03979fd14fa4cfc8d08b256d0b26bd4\", \"correct string value of count_bar_chart.encoding.y['shorthand'] but incorrect case of letters\"\n",
    "\n",
    "assert sha1(str(type(count_bar_chart.mark)).encode(\"utf-8\")+b\"86eb326d261340a9\").hexdigest() == \"0badf13162d11ff3951a5615b0ebb6655f183c8b\", \"type of count_bar_chart.mark is not str. count_bar_chart.mark should be an str\"\n",
    "assert sha1(str(len(count_bar_chart.mark)).encode(\"utf-8\")+b\"86eb326d261340a9\").hexdigest() == \"cda83735bcad5f21ba573d39406a750891d04c34\", \"length of count_bar_chart.mark is not correct\"\n",
    "assert sha1(str(count_bar_chart.mark.lower()).encode(\"utf-8\")+b\"86eb326d261340a9\").hexdigest() == \"e600b1bada36f7f080f81c38320f1f2ca3a0f16f\", \"value of count_bar_chart.mark is not correct\"\n",
    "assert sha1(str(count_bar_chart.mark).encode(\"utf-8\")+b\"86eb326d261340a9\").hexdigest() == \"e600b1bada36f7f080f81c38320f1f2ca3a0f16f\", \"correct string value of count_bar_chart.mark but incorrect case of letters\"\n",
    "\n",
    "assert sha1(str(type(isinstance(count_bar_chart.encoding.x['title'], str))).encode(\"utf-8\")+b\"eeec82955a94a2d4\").hexdigest() == \"f32cefd9507fc25b9a530ef48fc9ddd83d465f13\", \"type of isinstance(count_bar_chart.encoding.x['title'], str) is not bool. isinstance(count_bar_chart.encoding.x['title'], str) should be a bool\"\n",
    "assert sha1(str(isinstance(count_bar_chart.encoding.x['title'], str)).encode(\"utf-8\")+b\"eeec82955a94a2d4\").hexdigest() == \"6c854033809f57db0ba2119a226633dc8ea22bd8\", \"boolean value of isinstance(count_bar_chart.encoding.x['title'], str) is not correct\"\n",
    "\n",
    "assert sha1(str(type(isinstance(count_bar_chart.encoding.y['title'], str))).encode(\"utf-8\")+b\"da8407eca5303c7a\").hexdigest() == \"8d30b908f5fffdd3b96cad0916f08967e24fec4c\", \"type of isinstance(count_bar_chart.encoding.y['title'], str) is not bool. isinstance(count_bar_chart.encoding.y['title'], str) should be a bool\"\n",
    "assert sha1(str(isinstance(count_bar_chart.encoding.y['title'], str)).encode(\"utf-8\")+b\"da8407eca5303c7a\").hexdigest() == \"d5531ab07868569ca3c6c308c711590f10a0ab98\", \"boolean value of isinstance(count_bar_chart.encoding.y['title'], str) is not correct\"\n",
    "\n",
    "print('Success!')"
   ]
  },
  {
   "cell_type": "markdown",
   "metadata": {
    "deletable": false,
    "editable": false,
    "nbgrader": {
     "cell_type": "markdown",
     "checksum": "7add420a487054dc979c913212f84279",
     "grade": false,
     "grade_id": "cell-7a9798d1a03634b9",
     "locked": true,
     "schema_version": 3,
     "solution": false,
     "task": false
    }
   },
   "source": [
    "**Question 2.5**\n",
    "<br> {points: 1}\n",
    "\n",
    "The x-axes labels are rotated vertically which makes them hard to read; what can we do? There is a good solution to this problem.\n",
    "\n",
    "**Part A:** We can use the `configure_axis` function to rotate the labels. Choose an angle that you think is appropriate. Choose something between -35 and -55 for the `angle` argument. If you ust want to rotate the labels for only your X axis or Y axis, use `configure_axisX` or `configure_axisY` respectively. Remember that you don't need to recreate the entire chart but can build off the `count_bar_chart` you created in the previous question.\n",
    "\n",
    "*Name the resulting plot count_bar_chart_A.*\n",
    "\n",
    "**Part B:** We can also simply swap the x and the y encoding in the plot, make `n` the X axis and `name` the Y axis.\n",
    "\n",
    "*Name the resulting plot count_bar_chart_B.*"
   ]
  },
  {
   "cell_type": "code",
   "execution_count": null,
   "metadata": {
    "deletable": false,
    "nbgrader": {
     "cell_type": "code",
     "checksum": "c47d354e39a7836fe45590357705555b",
     "grade": false,
     "grade_id": "cell-74b1fc82a7200158",
     "locked": false,
     "schema_version": 3,
     "solution": true
    }
   },
   "outputs": [],
   "source": [
    "# PART A\n",
    "# ___ = ___.configure____(labelAngle=___)\n",
    "\n",
    "# your code here\n",
    "raise NotImplementedError\n",
    "count_bar_chart_A.display()\n",
    "# `display()` is needed to show a chart that is not at the bottom of the notebook cell\n",
    "\n",
    "\n",
    "# PART B\n",
    "# ___ = ___\n",
    "\n",
    "# your code here\n",
    "raise NotImplementedError\n",
    "count_bar_chart_B"
   ]
  },
  {
   "cell_type": "code",
   "execution_count": null,
   "metadata": {
    "deletable": false,
    "editable": false,
    "nbgrader": {
     "cell_type": "code",
     "checksum": "59ab4fce01ac99b4f7a2dc588cae9b19",
     "grade": true,
     "grade_id": "cell-6fc37492ce4c8caf",
     "locked": true,
     "points": 1,
     "schema_version": 3,
     "solution": false
    }
   },
   "outputs": [],
   "source": [
    "from hashlib import sha1\n",
    "assert sha1(str(type(count_bar_chart_A is None)).encode(\"utf-8\")+b\"2ee6eabae7900635\").hexdigest() == \"54e081a6975a25e7167ae90201091629b3d3c572\", \"type of count_bar_chart_A is None is not bool. count_bar_chart_A is None should be a bool\"\n",
    "assert sha1(str(count_bar_chart_A is None).encode(\"utf-8\")+b\"2ee6eabae7900635\").hexdigest() == \"eb6f134c902e75d6c0ea6e9ff22a8ece0231f00c\", \"boolean value of count_bar_chart_A is None is not correct\"\n",
    "\n",
    "assert sha1(str(type(count_bar_chart_A.encoding.x['shorthand'])).encode(\"utf-8\")+b\"32182bf598bdbbe9\").hexdigest() == \"f0a98da04b43ce004c23f2ef232621d2f0c861df\", \"type of count_bar_chart_A.encoding.x['shorthand'] is not str. count_bar_chart_A.encoding.x['shorthand'] should be an str\"\n",
    "assert sha1(str(len(count_bar_chart_A.encoding.x['shorthand'])).encode(\"utf-8\")+b\"32182bf598bdbbe9\").hexdigest() == \"d31b2739c9b2e7a2da5fa4a69a48a1b4db5fe515\", \"length of count_bar_chart_A.encoding.x['shorthand'] is not correct\"\n",
    "assert sha1(str(count_bar_chart_A.encoding.x['shorthand'].lower()).encode(\"utf-8\")+b\"32182bf598bdbbe9\").hexdigest() == \"b7a4c9f98b03d1e3ad8a7c720c0bee2f1bf1360e\", \"value of count_bar_chart_A.encoding.x['shorthand'] is not correct\"\n",
    "assert sha1(str(count_bar_chart_A.encoding.x['shorthand']).encode(\"utf-8\")+b\"32182bf598bdbbe9\").hexdigest() == \"b7a4c9f98b03d1e3ad8a7c720c0bee2f1bf1360e\", \"correct string value of count_bar_chart_A.encoding.x['shorthand'] but incorrect case of letters\"\n",
    "\n",
    "assert sha1(str(type(count_bar_chart_A.encoding.y['shorthand'])).encode(\"utf-8\")+b\"1398762ce4f44742\").hexdigest() == \"57ec760b851b72b299807d46fb4363774a1ac4ac\", \"type of count_bar_chart_A.encoding.y['shorthand'] is not str. count_bar_chart_A.encoding.y['shorthand'] should be an str\"\n",
    "assert sha1(str(len(count_bar_chart_A.encoding.y['shorthand'])).encode(\"utf-8\")+b\"1398762ce4f44742\").hexdigest() == \"8e23b326072fa8a173ea3eed7dc634eb8d06acca\", \"length of count_bar_chart_A.encoding.y['shorthand'] is not correct\"\n",
    "assert sha1(str(count_bar_chart_A.encoding.y['shorthand'].lower()).encode(\"utf-8\")+b\"1398762ce4f44742\").hexdigest() == \"a822796d8abbdd36ab16e16c961e334a3fa24e1b\", \"value of count_bar_chart_A.encoding.y['shorthand'] is not correct\"\n",
    "assert sha1(str(count_bar_chart_A.encoding.y['shorthand']).encode(\"utf-8\")+b\"1398762ce4f44742\").hexdigest() == \"a822796d8abbdd36ab16e16c961e334a3fa24e1b\", \"correct string value of count_bar_chart_A.encoding.y['shorthand'] but incorrect case of letters\"\n",
    "\n",
    "assert sha1(str(type(count_bar_chart_A.mark)).encode(\"utf-8\")+b\"11835921b4fd6435\").hexdigest() == \"3d64eb0b488a36bed0bc0d4f4e4e390c96c9d611\", \"type of count_bar_chart_A.mark is not str. count_bar_chart_A.mark should be an str\"\n",
    "assert sha1(str(len(count_bar_chart_A.mark)).encode(\"utf-8\")+b\"11835921b4fd6435\").hexdigest() == \"de701a1cb9680d2281a73744a6259f68fab1c146\", \"length of count_bar_chart_A.mark is not correct\"\n",
    "assert sha1(str(count_bar_chart_A.mark.lower()).encode(\"utf-8\")+b\"11835921b4fd6435\").hexdigest() == \"f3a76fcbb910f411cbeeb4c3eaa5c6347f5f690f\", \"value of count_bar_chart_A.mark is not correct\"\n",
    "assert sha1(str(count_bar_chart_A.mark).encode(\"utf-8\")+b\"11835921b4fd6435\").hexdigest() == \"f3a76fcbb910f411cbeeb4c3eaa5c6347f5f690f\", \"correct string value of count_bar_chart_A.mark but incorrect case of letters\"\n",
    "\n",
    "assert sha1(str(type(isinstance(count_bar_chart_A.encoding.x['title'], str))).encode(\"utf-8\")+b\"eef4aab0973f3f99\").hexdigest() == \"e00bf1d2c013f0f2612d05859be96e0d6271dfdd\", \"type of isinstance(count_bar_chart_A.encoding.x['title'], str) is not bool. isinstance(count_bar_chart_A.encoding.x['title'], str) should be a bool\"\n",
    "assert sha1(str(isinstance(count_bar_chart_A.encoding.x['title'], str)).encode(\"utf-8\")+b\"eef4aab0973f3f99\").hexdigest() == \"f861e497a6df6243529a51ce3be6a872d652f6c5\", \"boolean value of isinstance(count_bar_chart_A.encoding.x['title'], str) is not correct\"\n",
    "\n",
    "assert sha1(str(type(isinstance(count_bar_chart_A.encoding.y['title'], str))).encode(\"utf-8\")+b\"46cddc3adc90e60c\").hexdigest() == \"122dd78e8c843cb8e397d7606b6c4c5a187217e2\", \"type of isinstance(count_bar_chart_A.encoding.y['title'], str) is not bool. isinstance(count_bar_chart_A.encoding.y['title'], str) should be a bool\"\n",
    "assert sha1(str(isinstance(count_bar_chart_A.encoding.y['title'], str)).encode(\"utf-8\")+b\"46cddc3adc90e60c\").hexdigest() == \"6e667484ceee467e33a6a3136f650ff9f80ff237\", \"boolean value of isinstance(count_bar_chart_A.encoding.y['title'], str) is not correct\"\n",
    "\n",
    "\n",
    "assert sha1(str(type(count_bar_chart_B is None)).encode(\"utf-8\")+b\"277deda869b7e614\").hexdigest() == \"dd05d35ecd8f3ad3d8f10e8918c69129965f1fd3\", \"type of count_bar_chart_B is None is not bool. count_bar_chart_B is None should be a bool\"\n",
    "assert sha1(str(count_bar_chart_B is None).encode(\"utf-8\")+b\"277deda869b7e614\").hexdigest() == \"5bf3d79fffb947f762d22cbfb34719abb3ec0642\", \"boolean value of count_bar_chart_B is None is not correct\"\n",
    "\n",
    "assert sha1(str(type(count_bar_chart_B.encoding.x['shorthand'])).encode(\"utf-8\")+b\"95017c3cce399127\").hexdigest() == \"4f8734f84d1f1db98898327c1bbe3a77bf5c9c1d\", \"type of count_bar_chart_B.encoding.x['shorthand'] is not str. count_bar_chart_B.encoding.x['shorthand'] should be an str\"\n",
    "assert sha1(str(len(count_bar_chart_B.encoding.x['shorthand'])).encode(\"utf-8\")+b\"95017c3cce399127\").hexdigest() == \"9b467bccd7b460799607855c09fb415bf8be4958\", \"length of count_bar_chart_B.encoding.x['shorthand'] is not correct\"\n",
    "assert sha1(str(count_bar_chart_B.encoding.x['shorthand'].lower()).encode(\"utf-8\")+b\"95017c3cce399127\").hexdigest() == \"3f23a9d40ee5f2eae78b1ec430d1fa091a6c8cef\", \"value of count_bar_chart_B.encoding.x['shorthand'] is not correct\"\n",
    "assert sha1(str(count_bar_chart_B.encoding.x['shorthand']).encode(\"utf-8\")+b\"95017c3cce399127\").hexdigest() == \"3f23a9d40ee5f2eae78b1ec430d1fa091a6c8cef\", \"correct string value of count_bar_chart_B.encoding.x['shorthand'] but incorrect case of letters\"\n",
    "\n",
    "assert sha1(str(type(count_bar_chart_B.encoding.y['shorthand'])).encode(\"utf-8\")+b\"c635dbaabeb3acf5\").hexdigest() == \"755b2946b46cce67f8f1730197222ebb5e8905be\", \"type of count_bar_chart_B.encoding.y['shorthand'] is not str. count_bar_chart_B.encoding.y['shorthand'] should be an str\"\n",
    "assert sha1(str(len(count_bar_chart_B.encoding.y['shorthand'])).encode(\"utf-8\")+b\"c635dbaabeb3acf5\").hexdigest() == \"6d8075a3e9411378492898be45950f44f4606e15\", \"length of count_bar_chart_B.encoding.y['shorthand'] is not correct\"\n",
    "assert sha1(str(count_bar_chart_B.encoding.y['shorthand'].lower()).encode(\"utf-8\")+b\"c635dbaabeb3acf5\").hexdigest() == \"22007b95d1e22ceed4148da5b7f4ca01115cfc9b\", \"value of count_bar_chart_B.encoding.y['shorthand'] is not correct\"\n",
    "assert sha1(str(count_bar_chart_B.encoding.y['shorthand']).encode(\"utf-8\")+b\"c635dbaabeb3acf5\").hexdigest() == \"22007b95d1e22ceed4148da5b7f4ca01115cfc9b\", \"correct string value of count_bar_chart_B.encoding.y['shorthand'] but incorrect case of letters\"\n",
    "\n",
    "assert sha1(str(type(count_bar_chart_B.mark)).encode(\"utf-8\")+b\"ac5f615a3966a3af\").hexdigest() == \"f65dfb034577bc754231d16b2a6f6c4f30a15fdc\", \"type of count_bar_chart_B.mark is not str. count_bar_chart_B.mark should be an str\"\n",
    "assert sha1(str(len(count_bar_chart_B.mark)).encode(\"utf-8\")+b\"ac5f615a3966a3af\").hexdigest() == \"0d807832d34478910008c76940b0ffdbed17a104\", \"length of count_bar_chart_B.mark is not correct\"\n",
    "assert sha1(str(count_bar_chart_B.mark.lower()).encode(\"utf-8\")+b\"ac5f615a3966a3af\").hexdigest() == \"d9612d12a1ab00b6984fe1f8bd7c83ee799cdd5e\", \"value of count_bar_chart_B.mark is not correct\"\n",
    "assert sha1(str(count_bar_chart_B.mark).encode(\"utf-8\")+b\"ac5f615a3966a3af\").hexdigest() == \"d9612d12a1ab00b6984fe1f8bd7c83ee799cdd5e\", \"correct string value of count_bar_chart_B.mark but incorrect case of letters\"\n",
    "\n",
    "assert sha1(str(type(isinstance(count_bar_chart_B.encoding.x['title'], str))).encode(\"utf-8\")+b\"a0755cd28bf5ec97\").hexdigest() == \"a7fa8c1273ecddb7642e126114bfed90c70b978b\", \"type of isinstance(count_bar_chart_B.encoding.x['title'], str) is not bool. isinstance(count_bar_chart_B.encoding.x['title'], str) should be a bool\"\n",
    "assert sha1(str(isinstance(count_bar_chart_B.encoding.x['title'], str)).encode(\"utf-8\")+b\"a0755cd28bf5ec97\").hexdigest() == \"12899d57aa017b2233b6bf9399820fafef449ca8\", \"boolean value of isinstance(count_bar_chart_B.encoding.x['title'], str) is not correct\"\n",
    "\n",
    "assert sha1(str(type(isinstance(count_bar_chart_B.encoding.y['title'], str))).encode(\"utf-8\")+b\"c531963b20e11b32\").hexdigest() == \"2bc6938a9fa007ce0fce82209373037e5c2945f0\", \"type of isinstance(count_bar_chart_B.encoding.y['title'], str) is not bool. isinstance(count_bar_chart_B.encoding.y['title'], str) should be a bool\"\n",
    "assert sha1(str(isinstance(count_bar_chart_B.encoding.y['title'], str)).encode(\"utf-8\")+b\"c531963b20e11b32\").hexdigest() == \"eaed1c5eeca3e1ef7bc399ee3dd9f9cba40dfec7\", \"boolean value of isinstance(count_bar_chart_B.encoding.y['title'], str) is not correct\"\n",
    "\n",
    "print('Success!')"
   ]
  },
  {
   "cell_type": "markdown",
   "metadata": {
    "deletable": false,
    "editable": false,
    "nbgrader": {
     "cell_type": "markdown",
     "checksum": "724b26bc82c520bd53bfe57f1b987f34",
     "grade": false,
     "grade_id": "cell-09a3f2ba6c0c15e4",
     "locked": true,
     "schema_version": 3,
     "solution": false
    }
   },
   "source": [
    "**Question 2.6**\n",
    "<br> {points: 1}\n",
    "\n",
    "Which is the most prevalent franchise on the west coast? Save your answer as `answer2_6` and be sure to surround the restuarant name with quotations. Pay attention to case and punctuation when answering."
   ]
  },
  {
   "cell_type": "code",
   "execution_count": null,
   "metadata": {
    "deletable": false,
    "nbgrader": {
     "cell_type": "code",
     "checksum": "9d0dfcb5f6e84964d73eb5168ac175d4",
     "grade": false,
     "grade_id": "cell-4b5e9ae3b501ff80",
     "locked": false,
     "schema_version": 3,
     "solution": true
    }
   },
   "outputs": [],
   "source": [
    "# your code here\n",
    "raise NotImplementedError"
   ]
  },
  {
   "cell_type": "code",
   "execution_count": null,
   "metadata": {
    "deletable": false,
    "editable": false,
    "nbgrader": {
     "cell_type": "code",
     "checksum": "9af21674935b3c6b31a74e0ea033dad1",
     "grade": true,
     "grade_id": "cell-7e1f5a0036666e46",
     "locked": true,
     "points": 1,
     "schema_version": 3,
     "solution": false
    }
   },
   "outputs": [],
   "source": [
    "from hashlib import sha1\n",
    "assert sha1(str(type(answer2_6)).encode(\"utf-8\")+b\"7de78f5489f5e00a\").hexdigest() == \"be7187b4e5c47b71eff2a4bd0930152f38c1ca47\", \"type of answer2_6 is not str. answer2_6 should be an str\"\n",
    "assert sha1(str(len(answer2_6)).encode(\"utf-8\")+b\"7de78f5489f5e00a\").hexdigest() == \"e3a5879b266944bca46f7fca4447a5314a4247b6\", \"length of answer2_6 is not correct\"\n",
    "assert sha1(str(answer2_6.lower()).encode(\"utf-8\")+b\"7de78f5489f5e00a\").hexdigest() == \"1e02ad09b71b7bc45ff670cdeb458d6809749e08\", \"value of answer2_6 is not correct\"\n",
    "assert sha1(str(answer2_6).encode(\"utf-8\")+b\"7de78f5489f5e00a\").hexdigest() == \"90791d62f11b9c412a245b407f6f3d9954ff7270\", \"correct string value of answer2_6 but incorrect case of letters\"\n",
    "\n",
    "print('Success!')"
   ]
  },
  {
   "cell_type": "markdown",
   "metadata": {
    "deletable": false,
    "editable": false,
    "nbgrader": {
     "cell_type": "markdown",
     "checksum": "fef97a75f009548a1ada275e803e0fbe",
     "grade": false,
     "grade_id": "cell-21bc1492a7923acd",
     "locked": true,
     "schema_version": 3,
     "solution": false
    }
   },
   "source": [
    "**Question 2.7** \n",
    "<br> {points: 1}\n",
    "\n",
    "Next, let's find which state on the west coast has the highest number of those top 9 fast-food restuarants we found earlier. To do this we need to use the names in `top_restaurants` to get the counts of each restaurant in each of the 3 states from the `fast_food` data frame. You will need to use `isin` to filter out the names of the restaurants that are not in the `top_restaurants` list. We can use the same method to do the filtering for the states as well. Name this data frame `state_counts`."
   ]
  },
  {
   "cell_type": "code",
   "execution_count": null,
   "metadata": {
    "deletable": false,
    "nbgrader": {
     "cell_type": "code",
     "checksum": "c000550a755dbbac5fa9b9c722376ef4",
     "grade": false,
     "grade_id": "cell-fdd4333a78788519",
     "locked": false,
     "schema_version": 3,
     "solution": true
    }
   },
   "outputs": [],
   "source": [
    "# state_counts = (\n",
    "#     ___[\n",
    "#         fast_food[___].isin(top_restaurants[\"name\"])\n",
    "#         & fast_food[___].isin([\"CA\", \"WA\", \"OR\"])\n",
    "#     ]\n",
    "#     .___('st')\n",
    "#     .reset_index()\n",
    "# )\n",
    "\n",
    "# your code here\n",
    "raise NotImplementedError\n",
    "state_counts"
   ]
  },
  {
   "cell_type": "code",
   "execution_count": null,
   "metadata": {
    "deletable": false,
    "editable": false,
    "nbgrader": {
     "cell_type": "code",
     "checksum": "aae2147a1f8450681ae7665d31c8f540",
     "grade": true,
     "grade_id": "cell-53713f7578969f5c",
     "locked": true,
     "points": 1,
     "schema_version": 3,
     "solution": false
    }
   },
   "outputs": [],
   "source": [
    "from hashlib import sha1\n",
    "assert sha1(str(type(state_counts is None)).encode(\"utf-8\")+b\"a2ad1d27657c4e07\").hexdigest() == \"3923f29de0df598e4085c3fd39a6f2d7aea2992e\", \"type of state_counts is None is not bool. state_counts is None should be a bool\"\n",
    "assert sha1(str(state_counts is None).encode(\"utf-8\")+b\"a2ad1d27657c4e07\").hexdigest() == \"898a60fcbb1c1b523c218a3f24fd174697b2ad12\", \"boolean value of state_counts is None is not correct\"\n",
    "\n",
    "assert sha1(str(type(state_counts.st.values)).encode(\"utf-8\")+b\"f768ac127248c84f\").hexdigest() == \"d7f69f9ddf1625b7118e3976ecd57bc163154270\", \"type of state_counts.st.values is not correct\"\n",
    "assert sha1(str(state_counts.st.values).encode(\"utf-8\")+b\"f768ac127248c84f\").hexdigest() == \"52278839feae37d162eb364a6e76760ac4922005\", \"value of state_counts.st.values is not correct\"\n",
    "\n",
    "assert sha1(str(type(state_counts.shape)).encode(\"utf-8\")+b\"c41d3f8c136efd9c\").hexdigest() == \"01dcd305eb6c46eca768667f5321f25a747984c2\", \"type of state_counts.shape is not tuple. state_counts.shape should be a tuple\"\n",
    "assert sha1(str(len(state_counts.shape)).encode(\"utf-8\")+b\"c41d3f8c136efd9c\").hexdigest() == \"6656ef79ac29825ce6994513d7ab8e9e303e7f98\", \"length of state_counts.shape is not correct\"\n",
    "assert sha1(str(sorted(map(str, state_counts.shape))).encode(\"utf-8\")+b\"c41d3f8c136efd9c\").hexdigest() == \"2a403d55012c8370eab3c5abc7ad852153b1ff73\", \"values of state_counts.shape are not correct\"\n",
    "assert sha1(str(state_counts.shape).encode(\"utf-8\")+b\"c41d3f8c136efd9c\").hexdigest() == \"4c182fe2eef8338114de555adb2d2c3852d1f290\", \"order of elements of state_counts.shape is not correct\"\n",
    "\n",
    "assert sha1(str(type(sum(state_counts['count']))).encode(\"utf-8\")+b\"8f4960347d101fd7\").hexdigest() == \"7179b2266ad428603776efac317c74be06ddf80c\", \"type of sum(state_counts['count']) is not int. Please make sure it is int and not np.int64, etc. You can cast your value into an int using int()\"\n",
    "assert sha1(str(sum(state_counts['count'])).encode(\"utf-8\")+b\"8f4960347d101fd7\").hexdigest() == \"89e1335888093b4095f6fc509e81c7c7b5460235\", \"value of sum(state_counts['count']) is not correct\"\n",
    "\n",
    "print('Success!')"
   ]
  },
  {
   "cell_type": "markdown",
   "metadata": {
    "deletable": false,
    "editable": false,
    "nbgrader": {
     "cell_type": "markdown",
     "checksum": "70a25f8e5b2a071eb5f9c2544390a8cb",
     "grade": false,
     "grade_id": "cell-d7ee2bd6b5df79ae",
     "locked": true,
     "schema_version": 3,
     "solution": false
    }
   },
   "source": [
    "**Question 2.8**\n",
    "<br> {points: 1}\n",
    "\n",
    "Now, create a bar plot that has restaurant count on the y-axis and US state on the x-axis. Name the plot `state_counts_plot` and title the axes appropriately."
   ]
  },
  {
   "cell_type": "code",
   "execution_count": null,
   "metadata": {
    "deletable": false,
    "nbgrader": {
     "cell_type": "code",
     "checksum": "00a29aa3c9ea88f1e4875f3a7e24a1dd",
     "grade": false,
     "grade_id": "cell-b7d101d1906d201c",
     "locked": false,
     "schema_version": 3,
     "solution": true
    }
   },
   "outputs": [],
   "source": [
    "# ___ = ___\n",
    "\n",
    "# your code here\n",
    "raise NotImplementedError\n",
    "state_counts_plot"
   ]
  },
  {
   "cell_type": "code",
   "execution_count": null,
   "metadata": {
    "deletable": false,
    "editable": false,
    "nbgrader": {
     "cell_type": "code",
     "checksum": "3b85fff16ad4f8b83143ebe0431c8b97",
     "grade": true,
     "grade_id": "cell-3ee58280015e1838",
     "locked": true,
     "points": 1,
     "schema_version": 3,
     "solution": false
    }
   },
   "outputs": [],
   "source": [
    "from hashlib import sha1\n",
    "assert sha1(str(type(state_counts_plot is None)).encode(\"utf-8\")+b\"cc680a45791fa885\").hexdigest() == \"8f9885d72d0b7860e73d709ad21af8c2bc45112f\", \"type of state_counts_plot is None is not bool. state_counts_plot is None should be a bool\"\n",
    "assert sha1(str(state_counts_plot is None).encode(\"utf-8\")+b\"cc680a45791fa885\").hexdigest() == \"ceb072e21680904dd3910d656ab8d4156caa09d1\", \"boolean value of state_counts_plot is None is not correct\"\n",
    "\n",
    "assert sha1(str(type(state_counts_plot.encoding.x['shorthand'])).encode(\"utf-8\")+b\"f6067f9025ab1663\").hexdigest() == \"db12422a15f54617ef1b73fa51008b6492613267\", \"type of state_counts_plot.encoding.x['shorthand'] is not str. state_counts_plot.encoding.x['shorthand'] should be an str\"\n",
    "assert sha1(str(len(state_counts_plot.encoding.x['shorthand'])).encode(\"utf-8\")+b\"f6067f9025ab1663\").hexdigest() == \"9b62caf8c493fc1c64887897be19f1ce28fbc823\", \"length of state_counts_plot.encoding.x['shorthand'] is not correct\"\n",
    "assert sha1(str(state_counts_plot.encoding.x['shorthand'].lower()).encode(\"utf-8\")+b\"f6067f9025ab1663\").hexdigest() == \"94006dd5d52c225c79bd7f1212554776d9ad259e\", \"value of state_counts_plot.encoding.x['shorthand'] is not correct\"\n",
    "assert sha1(str(state_counts_plot.encoding.x['shorthand']).encode(\"utf-8\")+b\"f6067f9025ab1663\").hexdigest() == \"94006dd5d52c225c79bd7f1212554776d9ad259e\", \"correct string value of state_counts_plot.encoding.x['shorthand'] but incorrect case of letters\"\n",
    "\n",
    "assert sha1(str(type(state_counts_plot.encoding.y['shorthand'])).encode(\"utf-8\")+b\"e251aa1fc8534983\").hexdigest() == \"8076af414c8bd901359916a9d4f88fe859e1a365\", \"type of state_counts_plot.encoding.y['shorthand'] is not str. state_counts_plot.encoding.y['shorthand'] should be an str\"\n",
    "assert sha1(str(len(state_counts_plot.encoding.y['shorthand'])).encode(\"utf-8\")+b\"e251aa1fc8534983\").hexdigest() == \"fc50b785a8820562473e9dd6bad675a1c7d4d89f\", \"length of state_counts_plot.encoding.y['shorthand'] is not correct\"\n",
    "assert sha1(str(state_counts_plot.encoding.y['shorthand'].lower()).encode(\"utf-8\")+b\"e251aa1fc8534983\").hexdigest() == \"32540450297e0236c57fd276c7da7d8abbb460b4\", \"value of state_counts_plot.encoding.y['shorthand'] is not correct\"\n",
    "assert sha1(str(state_counts_plot.encoding.y['shorthand']).encode(\"utf-8\")+b\"e251aa1fc8534983\").hexdigest() == \"32540450297e0236c57fd276c7da7d8abbb460b4\", \"correct string value of state_counts_plot.encoding.y['shorthand'] but incorrect case of letters\"\n",
    "\n",
    "assert sha1(str(type(state_counts_plot.mark)).encode(\"utf-8\")+b\"605069d2465ef152\").hexdigest() == \"87f31f710eea889920717abfdcfd1aeb14f0ca59\", \"type of state_counts_plot.mark is not str. state_counts_plot.mark should be an str\"\n",
    "assert sha1(str(len(state_counts_plot.mark)).encode(\"utf-8\")+b\"605069d2465ef152\").hexdigest() == \"4d4f22c0b84a9e07a5896e70615dafe43e4768dc\", \"length of state_counts_plot.mark is not correct\"\n",
    "assert sha1(str(state_counts_plot.mark.lower()).encode(\"utf-8\")+b\"605069d2465ef152\").hexdigest() == \"a019993f4b73de52faec323696741792ade9cfc4\", \"value of state_counts_plot.mark is not correct\"\n",
    "assert sha1(str(state_counts_plot.mark).encode(\"utf-8\")+b\"605069d2465ef152\").hexdigest() == \"a019993f4b73de52faec323696741792ade9cfc4\", \"correct string value of state_counts_plot.mark but incorrect case of letters\"\n",
    "\n",
    "assert sha1(str(type(isinstance(state_counts_plot.encoding.x['title'], str))).encode(\"utf-8\")+b\"5e2e227bf25e2306\").hexdigest() == \"d0e22896767fcfbb123060c5f95af9c2771fafd5\", \"type of isinstance(state_counts_plot.encoding.x['title'], str) is not bool. isinstance(state_counts_plot.encoding.x['title'], str) should be a bool\"\n",
    "assert sha1(str(isinstance(state_counts_plot.encoding.x['title'], str)).encode(\"utf-8\")+b\"5e2e227bf25e2306\").hexdigest() == \"09a4a66d2bdcfa755a222821785d7f7dfc8889d9\", \"boolean value of isinstance(state_counts_plot.encoding.x['title'], str) is not correct\"\n",
    "\n",
    "assert sha1(str(type(isinstance(state_counts_plot.encoding.y['title'], str))).encode(\"utf-8\")+b\"8bb31b15f1bf0500\").hexdigest() == \"407a061b6252688129f65f43e10b85fdcc6180c5\", \"type of isinstance(state_counts_plot.encoding.y['title'], str) is not bool. isinstance(state_counts_plot.encoding.y['title'], str) should be a bool\"\n",
    "assert sha1(str(isinstance(state_counts_plot.encoding.y['title'], str)).encode(\"utf-8\")+b\"8bb31b15f1bf0500\").hexdigest() == \"1a18935f2cd1c2a69259df7651d25e06dc17319e\", \"boolean value of isinstance(state_counts_plot.encoding.y['title'], str) is not correct\"\n",
    "\n",
    "print('Success!')"
   ]
  },
  {
   "cell_type": "markdown",
   "metadata": {
    "deletable": false,
    "editable": false,
    "nbgrader": {
     "cell_type": "markdown",
     "checksum": "721e65a87691d1956f2844f8845c89a3",
     "grade": false,
     "grade_id": "cell-b50e50c135e6d682",
     "locked": true,
     "schema_version": 3,
     "solution": false
    }
   },
   "source": [
    "**Question 2.9.0**\n",
    "<br> {points: 1}\n",
    "\n",
    "Which state (CA, OR, WA) has the highest number of fast-food restuarants? Save your answer as `answer2_9_0` and be sure to surround the state initialism with quotations (e.g. `\"NY\"`). Pay attention to case and punctuation when answering."
   ]
  },
  {
   "cell_type": "code",
   "execution_count": null,
   "metadata": {
    "deletable": false,
    "nbgrader": {
     "cell_type": "code",
     "checksum": "8a7859ec3c4200bd96a50f2de05da2c1",
     "grade": false,
     "grade_id": "cell-3808cf146c117d12",
     "locked": false,
     "schema_version": 3,
     "solution": true
    }
   },
   "outputs": [],
   "source": [
    "# your code here\n",
    "raise NotImplementedError"
   ]
  },
  {
   "cell_type": "code",
   "execution_count": null,
   "metadata": {
    "deletable": false,
    "editable": false,
    "nbgrader": {
     "cell_type": "code",
     "checksum": "0ce931fef348c7cad68043df189fc29a",
     "grade": true,
     "grade_id": "cell-a17cc0ffac7cd795",
     "locked": true,
     "points": 1,
     "schema_version": 3,
     "solution": false
    }
   },
   "outputs": [],
   "source": [
    "from hashlib import sha1\n",
    "assert sha1(str(type(answer2_9_0)).encode(\"utf-8\")+b\"30398eaa77b11c81\").hexdigest() == \"4e94f75ebd6c9d8708318c4a53a78e84f49aebcc\", \"type of answer2_9_0 is not str. answer2_9_0 should be an str\"\n",
    "assert sha1(str(len(answer2_9_0)).encode(\"utf-8\")+b\"30398eaa77b11c81\").hexdigest() == \"160c7cf7e8eed3bd08d64135bbca6d2884b2eeed\", \"length of answer2_9_0 is not correct\"\n",
    "assert sha1(str(answer2_9_0.lower()).encode(\"utf-8\")+b\"30398eaa77b11c81\").hexdigest() == \"d8075b90a674c476e80ef37da709fdeebf3c7e32\", \"value of answer2_9_0 is not correct\"\n",
    "assert sha1(str(answer2_9_0).encode(\"utf-8\")+b\"30398eaa77b11c81\").hexdigest() == \"eb65676ec27aaade078568df0d185107a078a32a\", \"correct string value of answer2_9_0 but incorrect case of letters\"\n",
    "\n",
    "print('Success!')"
   ]
  },
  {
   "cell_type": "markdown",
   "metadata": {
    "deletable": false,
    "editable": false,
    "nbgrader": {
     "cell_type": "markdown",
     "checksum": "18fbe3367ad55765d5a741e82d5bdfc1",
     "grade": false,
     "grade_id": "cell-d202e7ffd51f7ed6",
     "locked": true,
     "schema_version": 3,
     "solution": false,
     "task": false
    }
   },
   "source": [
    "Consider the populations of California (39.512 million), Oregon (4.217 million) and Washington (7.615 million) (source: [United States Census Bureau](https://www.census.gov/data/tables/time-series/demo/popest/2010s-state-total.html), visited on April 2020). Discuss with your neighbour about whether using the raw restaurant count for each state is the best measure of competition? Would restaurant per capita be a better alternative?"
   ]
  },
  {
   "cell_type": "markdown",
   "metadata": {
    "deletable": false,
    "editable": false,
    "nbgrader": {
     "cell_type": "markdown",
     "checksum": "0178a29d3a421429330e4dbf0caf3e4e",
     "grade": false,
     "grade_id": "cell-f1cdfd674e10939c",
     "locked": true,
     "schema_version": 3,
     "solution": false,
     "task": false
    }
   },
   "source": [
    "Calculate the restaurant per capita for the states on the west coast by uncommenting and filling in the `___` in the code below."
   ]
  },
  {
   "cell_type": "code",
   "execution_count": null,
   "metadata": {},
   "outputs": [],
   "source": [
    "# population = [39.512, 4.217, 7.615]\n",
    "\n",
    "# state_counts[\"n_per_capita\"] = ___ / population"
   ]
  },
  {
   "cell_type": "markdown",
   "metadata": {
    "deletable": false,
    "editable": false,
    "nbgrader": {
     "cell_type": "markdown",
     "checksum": "865aff7902ea6bdc8ae9ade34a4bcf14",
     "grade": false,
     "grade_id": "cell-81dda6467a7fbc87",
     "locked": true,
     "schema_version": 3,
     "solution": false,
     "task": false
    }
   },
   "source": [
    "**Question 2.9.1** Multiple Choice:\n",
    "<br> {points: 1}\n",
    "\n",
    "Which state has the highest number of fast food restaurants per capita?\n",
    "\n",
    "A. Washington\n",
    "\n",
    "B. California\n",
    "\n",
    "C. Oregon\n",
    "\n",
    "*Assign your answer to an object called `answer2_9_1`. Make sure your answer is an uppercase letter and is surrounded by quotation marks (e.g. `\"F\"`).*"
   ]
  },
  {
   "cell_type": "code",
   "execution_count": null,
   "metadata": {
    "deletable": false,
    "nbgrader": {
     "cell_type": "code",
     "checksum": "5bfdccb35dbd2f485a2f493fda1f82b2",
     "grade": false,
     "grade_id": "cell-7df84a13da5e51bc",
     "locked": false,
     "schema_version": 3,
     "solution": true,
     "task": false
    }
   },
   "outputs": [],
   "source": [
    "# your code here\n",
    "raise NotImplementedError"
   ]
  },
  {
   "cell_type": "code",
   "execution_count": null,
   "metadata": {
    "deletable": false,
    "editable": false,
    "nbgrader": {
     "cell_type": "code",
     "checksum": "4655d1606cd42888d2def1ae78cd1fe5",
     "grade": true,
     "grade_id": "cell-caee5ba3ec18fa8c",
     "locked": true,
     "points": 1,
     "schema_version": 3,
     "solution": false,
     "task": false
    }
   },
   "outputs": [],
   "source": [
    "from hashlib import sha1\n",
    "assert sha1(str(type(answer2_9_1)).encode(\"utf-8\")+b\"8b252086a65e84cf\").hexdigest() == \"5a6c317d771be04b3406cb26b08f228dd5f8164d\", \"type of answer2_9_1 is not str. answer2_9_1 should be an str\"\n",
    "assert sha1(str(len(answer2_9_1)).encode(\"utf-8\")+b\"8b252086a65e84cf\").hexdigest() == \"667ac6111d8f885a808f86614a9bcf83367620a9\", \"length of answer2_9_1 is not correct\"\n",
    "assert sha1(str(answer2_9_1.lower()).encode(\"utf-8\")+b\"8b252086a65e84cf\").hexdigest() == \"1382d51d122471907cf963c383032103e82a7e44\", \"value of answer2_9_1 is not correct\"\n",
    "assert sha1(str(answer2_9_1).encode(\"utf-8\")+b\"8b252086a65e84cf\").hexdigest() == \"658c2cd3a5de9beceb95473c593d42797309e2d6\", \"correct string value of answer2_9_1 but incorrect case of letters\"\n",
    "\n",
    "print('Success!')"
   ]
  },
  {
   "cell_type": "markdown",
   "metadata": {
    "deletable": false,
    "editable": false,
    "nbgrader": {
     "cell_type": "markdown",
     "checksum": "ec30bbcdd926832720a886c9fed4bc60",
     "grade": false,
     "grade_id": "cell-6ae4fef0681d6b96",
     "locked": true,
     "schema_version": 3,
     "solution": false,
     "task": false
    }
   },
   "source": [
    "**Question 2.9.2** \n",
    "<br> {points: 1}\n",
    "\n",
    "Is the most dominant/top franchise consistent across different states along the west coast? To answer this question we need a data frame that has three columns: `name` (restaurant), `st` (state) and `count` (restaurant count). We can use the same code from Q2.7 for this, but we will need to count the combinations of `st` and `name` instead of just `st` alone. We can do this by passing a list of the two columns to the `value_counts()` method as in the scaffolded code below."
   ]
  },
  {
   "cell_type": "code",
   "execution_count": null,
   "metadata": {
    "deletable": false,
    "nbgrader": {
     "cell_type": "code",
     "checksum": "eb8d7e447636cf5ebf95990889cdd661",
     "grade": false,
     "grade_id": "cell-fa13c7c54d724542",
     "locked": false,
     "schema_version": 3,
     "solution": true
    }
   },
   "outputs": [],
   "source": [
    "# ___ = (\n",
    "#     fast_food[\n",
    "#         ___\n",
    "#         & ___\n",
    "#     ]\n",
    "#     .___(['st', 'name'])\n",
    "#     .___()\n",
    "# )\n",
    "\n",
    "# your code here\n",
    "raise NotImplementedError\n",
    "top_n_state"
   ]
  },
  {
   "cell_type": "code",
   "execution_count": null,
   "metadata": {
    "deletable": false,
    "editable": false,
    "nbgrader": {
     "cell_type": "code",
     "checksum": "0363dbfcd64586a0a0b43b2abb6c0949",
     "grade": true,
     "grade_id": "cell-58b0fb2c06951419",
     "locked": true,
     "points": 1,
     "schema_version": 3,
     "solution": false
    }
   },
   "outputs": [],
   "source": [
    "from hashlib import sha1\n",
    "assert sha1(str(type(top_n_state is None)).encode(\"utf-8\")+b\"8195ac889151e161\").hexdigest() == \"00362728635e7df685645bb47452899e56300d8d\", \"type of top_n_state is None is not bool. top_n_state is None should be a bool\"\n",
    "assert sha1(str(top_n_state is None).encode(\"utf-8\")+b\"8195ac889151e161\").hexdigest() == \"e5a7125d813e14afc7ba11e43fcddee7d1561820\", \"boolean value of top_n_state is None is not correct\"\n",
    "\n",
    "assert sha1(str(type(top_n_state.st.unique())).encode(\"utf-8\")+b\"9307f5bd96729eec\").hexdigest() == \"f40baaf6bed11e06379e347f80ed4e21ecabad52\", \"type of top_n_state.st.unique() is not correct\"\n",
    "assert sha1(str(top_n_state.st.unique()).encode(\"utf-8\")+b\"9307f5bd96729eec\").hexdigest() == \"6a68c76740d3f02a77324aebe35159b14510adb3\", \"value of top_n_state.st.unique() is not correct\"\n",
    "\n",
    "assert sha1(str(type(top_n_state.shape)).encode(\"utf-8\")+b\"c1cfbf2f4a2fc911\").hexdigest() == \"ef16c509e4dbca724129b0996672f99e8688e4bc\", \"type of top_n_state.shape is not tuple. top_n_state.shape should be a tuple\"\n",
    "assert sha1(str(len(top_n_state.shape)).encode(\"utf-8\")+b\"c1cfbf2f4a2fc911\").hexdigest() == \"1043a8adb40fc9c6415d98e2e69e6649c34039a6\", \"length of top_n_state.shape is not correct\"\n",
    "assert sha1(str(sorted(map(str, top_n_state.shape))).encode(\"utf-8\")+b\"c1cfbf2f4a2fc911\").hexdigest() == \"c2e3cbdad87bee98ffb76871ee519ad409b82d00\", \"values of top_n_state.shape are not correct\"\n",
    "assert sha1(str(top_n_state.shape).encode(\"utf-8\")+b\"c1cfbf2f4a2fc911\").hexdigest() == \"d545577d8836dae3585728dde03e5c96f132a4ec\", \"order of elements of top_n_state.shape is not correct\"\n",
    "\n",
    "assert sha1(str(type(sum(top_n_state['count'].dropna()))).encode(\"utf-8\")+b\"25545a749db85f8c\").hexdigest() == \"5c3d4bd841c30d2c263de44c1daa02bf043ae900\", \"type of sum(top_n_state['count'].dropna()) is not int. Please make sure it is int and not np.int64, etc. You can cast your value into an int using int()\"\n",
    "assert sha1(str(sum(top_n_state['count'].dropna())).encode(\"utf-8\")+b\"25545a749db85f8c\").hexdigest() == \"4967c2e0ccac349323de9756e45fe34927dd6e8f\", \"value of sum(top_n_state['count'].dropna()) is not correct\"\n",
    "\n",
    "print('Success!')"
   ]
  },
  {
   "cell_type": "markdown",
   "metadata": {
    "deletable": false,
    "editable": false,
    "nbgrader": {
     "cell_type": "markdown",
     "checksum": "3f3966723c970befcdcfaa410b20473f",
     "grade": false,
     "grade_id": "cell-fbbbd065920901d2",
     "locked": true,
     "schema_version": 3,
     "solution": false
    }
   },
   "source": [
    "**Question 2.9.3** \n",
    "<br> {points: 1}\n",
    "\n",
    "Plot the top 9 fast food restaurants as a stacked bar chart. The state name should be on the x-axis and the restaurant name should be encoded as the color. The y-axis will be the percentage of the stacked bars which we can get by using `stack(\"normalize)\"` on the Y encoding as in the scaffolded code below. Assign appropriate titles to the axes and the legend.\n",
    "\n",
    "*Assign your answer to an object called `top_n_state_plot2`*."
   ]
  },
  {
   "cell_type": "code",
   "execution_count": null,
   "metadata": {
    "deletable": false,
    "nbgrader": {
     "cell_type": "code",
     "checksum": "6e942a4363b98db996d2caea4dec64ff",
     "grade": false,
     "grade_id": "cell-8d848ab3e4d34d85",
     "locked": false,
     "schema_version": 3,
     "solution": true
    }
   },
   "outputs": [],
   "source": [
    "# ___ = alt.Chart(___).mark_bar().encode(\n",
    "#     y=alt.Y(___)\n",
    "#         .stack(\"normalize\")\n",
    "#         .title(___),\n",
    "#     x=alt.X(___).title(___),\n",
    "#     color=alt.Color(___).title(___)\n",
    "# )\n",
    "\n",
    "# your code here\n",
    "raise NotImplementedError\n",
    "top_n_state_plot2"
   ]
  },
  {
   "cell_type": "code",
   "execution_count": null,
   "metadata": {
    "deletable": false,
    "editable": false,
    "nbgrader": {
     "cell_type": "code",
     "checksum": "5b3adfcff549a501aba8678573c10de5",
     "grade": true,
     "grade_id": "cell-b90d158867cf1c27",
     "locked": true,
     "points": 1,
     "schema_version": 3,
     "solution": false
    }
   },
   "outputs": [],
   "source": [
    "from hashlib import sha1\n",
    "assert sha1(str(type(top_n_state_plot2 is None)).encode(\"utf-8\")+b\"4e4fe051539d4a2c\").hexdigest() == \"aa3eac902a0b6b6ee07aaaf0a974b24411d4de39\", \"type of top_n_state_plot2 is None is not bool. top_n_state_plot2 is None should be a bool\"\n",
    "assert sha1(str(top_n_state_plot2 is None).encode(\"utf-8\")+b\"4e4fe051539d4a2c\").hexdigest() == \"a722358e6bcfe5febf0dae99bd9e5366c61d42a0\", \"boolean value of top_n_state_plot2 is None is not correct\"\n",
    "\n",
    "assert sha1(str(type(top_n_state_plot2.encoding.x['shorthand'])).encode(\"utf-8\")+b\"0162eafbd86ba666\").hexdigest() == \"d4ebda58c77a1d0215c3a60035b75ff386f1a7af\", \"type of top_n_state_plot2.encoding.x['shorthand'] is not str. top_n_state_plot2.encoding.x['shorthand'] should be an str\"\n",
    "assert sha1(str(len(top_n_state_plot2.encoding.x['shorthand'])).encode(\"utf-8\")+b\"0162eafbd86ba666\").hexdigest() == \"6e92545bd38c61928328173cd386ecf1a401e862\", \"length of top_n_state_plot2.encoding.x['shorthand'] is not correct\"\n",
    "assert sha1(str(top_n_state_plot2.encoding.x['shorthand'].lower()).encode(\"utf-8\")+b\"0162eafbd86ba666\").hexdigest() == \"93dac5cf11ee1c905b1c6bb9bc24570f401eb7e3\", \"value of top_n_state_plot2.encoding.x['shorthand'] is not correct\"\n",
    "assert sha1(str(top_n_state_plot2.encoding.x['shorthand']).encode(\"utf-8\")+b\"0162eafbd86ba666\").hexdigest() == \"93dac5cf11ee1c905b1c6bb9bc24570f401eb7e3\", \"correct string value of top_n_state_plot2.encoding.x['shorthand'] but incorrect case of letters\"\n",
    "\n",
    "assert sha1(str(type(top_n_state_plot2.encoding.y['shorthand'])).encode(\"utf-8\")+b\"db8b727e326d7a75\").hexdigest() == \"55713705aee0f635f514ac7803cce4558f9251f7\", \"type of top_n_state_plot2.encoding.y['shorthand'] is not str. top_n_state_plot2.encoding.y['shorthand'] should be an str\"\n",
    "assert sha1(str(len(top_n_state_plot2.encoding.y['shorthand'])).encode(\"utf-8\")+b\"db8b727e326d7a75\").hexdigest() == \"f5b3cbabb4e788879e533b542d6c7d374892c62c\", \"length of top_n_state_plot2.encoding.y['shorthand'] is not correct\"\n",
    "assert sha1(str(top_n_state_plot2.encoding.y['shorthand'].lower()).encode(\"utf-8\")+b\"db8b727e326d7a75\").hexdigest() == \"7688cb0dfa6004e18bc5fd6e87ea92e37258ce8b\", \"value of top_n_state_plot2.encoding.y['shorthand'] is not correct\"\n",
    "assert sha1(str(top_n_state_plot2.encoding.y['shorthand']).encode(\"utf-8\")+b\"db8b727e326d7a75\").hexdigest() == \"7688cb0dfa6004e18bc5fd6e87ea92e37258ce8b\", \"correct string value of top_n_state_plot2.encoding.y['shorthand'] but incorrect case of letters\"\n",
    "\n",
    "assert sha1(str(type(top_n_state_plot2.encoding.color['shorthand'])).encode(\"utf-8\")+b\"8714b0208b00ddce\").hexdigest() == \"fac87ac500ec68d73f0df3c96a9361414d2dfb65\", \"type of top_n_state_plot2.encoding.color['shorthand'] is not str. top_n_state_plot2.encoding.color['shorthand'] should be an str\"\n",
    "assert sha1(str(len(top_n_state_plot2.encoding.color['shorthand'])).encode(\"utf-8\")+b\"8714b0208b00ddce\").hexdigest() == \"b49c5e4754ac3a3f63fe9c7bf8ab30490744ce4a\", \"length of top_n_state_plot2.encoding.color['shorthand'] is not correct\"\n",
    "assert sha1(str(top_n_state_plot2.encoding.color['shorthand'].lower()).encode(\"utf-8\")+b\"8714b0208b00ddce\").hexdigest() == \"29d4ffad8778b346745fe4a7638610139a4fdaa4\", \"value of top_n_state_plot2.encoding.color['shorthand'] is not correct\"\n",
    "assert sha1(str(top_n_state_plot2.encoding.color['shorthand']).encode(\"utf-8\")+b\"8714b0208b00ddce\").hexdigest() == \"29d4ffad8778b346745fe4a7638610139a4fdaa4\", \"correct string value of top_n_state_plot2.encoding.color['shorthand'] but incorrect case of letters\"\n",
    "\n",
    "assert sha1(str(type(top_n_state_plot2.mark)).encode(\"utf-8\")+b\"aad08778768deb0c\").hexdigest() == \"643e6d9df204bfda57ec6fc3759fbfca831bf2cc\", \"type of top_n_state_plot2.mark is not str. top_n_state_plot2.mark should be an str\"\n",
    "assert sha1(str(len(top_n_state_plot2.mark)).encode(\"utf-8\")+b\"aad08778768deb0c\").hexdigest() == \"0a15bb34b52cff6bfab12db9eaa3d72158332f0e\", \"length of top_n_state_plot2.mark is not correct\"\n",
    "assert sha1(str(top_n_state_plot2.mark.lower()).encode(\"utf-8\")+b\"aad08778768deb0c\").hexdigest() == \"1fecd3e3bc7ee0e839b2226a7aa59e73ef1382e4\", \"value of top_n_state_plot2.mark is not correct\"\n",
    "assert sha1(str(top_n_state_plot2.mark).encode(\"utf-8\")+b\"aad08778768deb0c\").hexdigest() == \"1fecd3e3bc7ee0e839b2226a7aa59e73ef1382e4\", \"correct string value of top_n_state_plot2.mark but incorrect case of letters\"\n",
    "\n",
    "assert sha1(str(type(isinstance(top_n_state_plot2.encoding.x['title'], str))).encode(\"utf-8\")+b\"f9e99469c5c7d7cd\").hexdigest() == \"19b37306dc3eb4d344ca58ffc41c2a18a97eb9fa\", \"type of isinstance(top_n_state_plot2.encoding.x['title'], str) is not bool. isinstance(top_n_state_plot2.encoding.x['title'], str) should be a bool\"\n",
    "assert sha1(str(isinstance(top_n_state_plot2.encoding.x['title'], str)).encode(\"utf-8\")+b\"f9e99469c5c7d7cd\").hexdigest() == \"416c74ecef0936c97b1bb5cfa986dbc9a6586380\", \"boolean value of isinstance(top_n_state_plot2.encoding.x['title'], str) is not correct\"\n",
    "\n",
    "assert sha1(str(type(isinstance(top_n_state_plot2.encoding.y['title'], str))).encode(\"utf-8\")+b\"7cc4413722b8befd\").hexdigest() == \"c3b77b766a9ae42d0e9eace87a66dca0dc481b32\", \"type of isinstance(top_n_state_plot2.encoding.y['title'], str) is not bool. isinstance(top_n_state_plot2.encoding.y['title'], str) should be a bool\"\n",
    "assert sha1(str(isinstance(top_n_state_plot2.encoding.y['title'], str)).encode(\"utf-8\")+b\"7cc4413722b8befd\").hexdigest() == \"d0e2fdd7298abdccf19a8ebd51e1212148aa2e75\", \"boolean value of isinstance(top_n_state_plot2.encoding.y['title'], str) is not correct\"\n",
    "\n",
    "assert sha1(str(type(isinstance(top_n_state_plot2.encoding.color['title'], str))).encode(\"utf-8\")+b\"7a099b9a31bf6b64\").hexdigest() == \"fe482df08f61f7e91808a764e613fc7a32ed36f0\", \"type of isinstance(top_n_state_plot2.encoding.color['title'], str) is not bool. isinstance(top_n_state_plot2.encoding.color['title'], str) should be a bool\"\n",
    "assert sha1(str(isinstance(top_n_state_plot2.encoding.color['title'], str)).encode(\"utf-8\")+b\"7a099b9a31bf6b64\").hexdigest() == \"d6bc575ed9fdac1de7bb62cc41fffe0279fab375\", \"boolean value of isinstance(top_n_state_plot2.encoding.color['title'], str) is not correct\"\n",
    "\n",
    "print('Success!')"
   ]
  },
  {
   "cell_type": "markdown",
   "metadata": {
    "deletable": false,
    "editable": false,
    "nbgrader": {
     "cell_type": "markdown",
     "checksum": "998b3807a5af09b047397c8d4219ca7e",
     "grade": false,
     "grade_id": "cell-ff61d705f3a66bac",
     "locked": true,
     "schema_version": 3,
     "solution": false,
     "task": false
    }
   },
   "source": [
    "How easy is it to compare the restaurants and states to answer our question: Is the most dominant/top franchise consistent across the West-Coast? If we carefully look at this plot we can pick answer this question, but it takes us a while to process this. If we instead visualize this as a side-by-side bar chart we might be able to do this comparison easier (making it a more effective visualization)."
   ]
  },
  {
   "cell_type": "markdown",
   "metadata": {
    "deletable": false,
    "editable": false,
    "nbgrader": {
     "cell_type": "markdown",
     "checksum": "f98f0f21f0648fbbdd89c4f5b85130e8",
     "grade": false,
     "grade_id": "cell-bc917b8d65a605c2",
     "locked": true,
     "schema_version": 3,
     "solution": false
    }
   },
   "source": [
    "**Question 2.9.4** \n",
    "<br> {points: 1}\n",
    "\n",
    "Plot the counts (y-axis) for the top 9 fast food restaurants (x-axis) on the west coast, per US State, as a bar chart using `mark_bar`. Color the bars by the restaurant's by name and also use the name for the x-axis encoding. Facet the bar chart by state.\n",
    "\n",
    "To do this fill in the `___` in the cell below.  Make sure to label your axes.\n",
    "\n",
    "*Assign your answer to an object called `top_n_state_plot`.*"
   ]
  },
  {
   "cell_type": "code",
   "execution_count": null,
   "metadata": {
    "deletable": false,
    "nbgrader": {
     "cell_type": "code",
     "checksum": "821ff4933aedd3c61be104dc7a451f72",
     "grade": false,
     "grade_id": "cell-e76e0bf48a0e8854",
     "locked": false,
     "schema_version": 3,
     "solution": true
    }
   },
   "outputs": [],
   "source": [
    "# ___ = alt.Chart(___).mark_bar().encode(\n",
    "#     x=alt.X(___).title(None),\n",
    "#     y=alt.Y(___).title(___),\n",
    "#     color=alt.Color(___).title(___)\n",
    "# ).facet(\n",
    "#     ___\n",
    "# )\n",
    "\n",
    "# your code here\n",
    "raise NotImplementedError\n",
    "top_n_state_plot"
   ]
  },
  {
   "cell_type": "code",
   "execution_count": null,
   "metadata": {
    "deletable": false,
    "editable": false,
    "nbgrader": {
     "cell_type": "code",
     "checksum": "eb294a561af3449ac45cab45c6eb050e",
     "grade": true,
     "grade_id": "cell-ed385a60b4c8a6d0",
     "locked": true,
     "points": 1,
     "schema_version": 3,
     "solution": false
    }
   },
   "outputs": [],
   "source": [
    "from hashlib import sha1\n",
    "assert sha1(str(type(top_n_state_plot is None)).encode(\"utf-8\")+b\"b4c0e4249f2500e7\").hexdigest() == \"2c0106e9aca7351621483d25a4138165b345d06b\", \"type of top_n_state_plot is None is not bool. top_n_state_plot is None should be a bool\"\n",
    "assert sha1(str(top_n_state_plot is None).encode(\"utf-8\")+b\"b4c0e4249f2500e7\").hexdigest() == \"1937933ed50c91bb455fc0a012c570d368f30d30\", \"boolean value of top_n_state_plot is None is not correct\"\n",
    "\n",
    "assert sha1(str(type(top_n_state_plot.spec.encoding.x['shorthand'])).encode(\"utf-8\")+b\"448ee6e34f7a222c\").hexdigest() == \"fec6dc177d4a75647778898d83115d00b2a91f32\", \"type of top_n_state_plot.spec.encoding.x['shorthand'] is not str. top_n_state_plot.spec.encoding.x['shorthand'] should be an str\"\n",
    "assert sha1(str(len(top_n_state_plot.spec.encoding.x['shorthand'])).encode(\"utf-8\")+b\"448ee6e34f7a222c\").hexdigest() == \"0a2cd61f9afbe8d82e9d262302f5df436f8f4ed3\", \"length of top_n_state_plot.spec.encoding.x['shorthand'] is not correct\"\n",
    "assert sha1(str(top_n_state_plot.spec.encoding.x['shorthand'].lower()).encode(\"utf-8\")+b\"448ee6e34f7a222c\").hexdigest() == \"5254467aca845b0d0780de60d8d449a47645731a\", \"value of top_n_state_plot.spec.encoding.x['shorthand'] is not correct\"\n",
    "assert sha1(str(top_n_state_plot.spec.encoding.x['shorthand']).encode(\"utf-8\")+b\"448ee6e34f7a222c\").hexdigest() == \"5254467aca845b0d0780de60d8d449a47645731a\", \"correct string value of top_n_state_plot.spec.encoding.x['shorthand'] but incorrect case of letters\"\n",
    "\n",
    "assert sha1(str(type(top_n_state_plot.spec.encoding.y['shorthand'])).encode(\"utf-8\")+b\"e9301267505d8b59\").hexdigest() == \"3a0234aef4454e3313c3047adebeb5000d2329e1\", \"type of top_n_state_plot.spec.encoding.y['shorthand'] is not str. top_n_state_plot.spec.encoding.y['shorthand'] should be an str\"\n",
    "assert sha1(str(len(top_n_state_plot.spec.encoding.y['shorthand'])).encode(\"utf-8\")+b\"e9301267505d8b59\").hexdigest() == \"7db4ca474b394e5a5682966312968c5a01197d9a\", \"length of top_n_state_plot.spec.encoding.y['shorthand'] is not correct\"\n",
    "assert sha1(str(top_n_state_plot.spec.encoding.y['shorthand'].lower()).encode(\"utf-8\")+b\"e9301267505d8b59\").hexdigest() == \"db4a1cca9f3990270ff4fda03d5ba7024cf56752\", \"value of top_n_state_plot.spec.encoding.y['shorthand'] is not correct\"\n",
    "assert sha1(str(top_n_state_plot.spec.encoding.y['shorthand']).encode(\"utf-8\")+b\"e9301267505d8b59\").hexdigest() == \"db4a1cca9f3990270ff4fda03d5ba7024cf56752\", \"correct string value of top_n_state_plot.spec.encoding.y['shorthand'] but incorrect case of letters\"\n",
    "\n",
    "assert sha1(str(type(top_n_state_plot.spec.encoding.color['shorthand'])).encode(\"utf-8\")+b\"9d5f297d10eb180a\").hexdigest() == \"78dca06793e1e7d446a8aacebfce8950acc5ad19\", \"type of top_n_state_plot.spec.encoding.color['shorthand'] is not str. top_n_state_plot.spec.encoding.color['shorthand'] should be an str\"\n",
    "assert sha1(str(len(top_n_state_plot.spec.encoding.color['shorthand'])).encode(\"utf-8\")+b\"9d5f297d10eb180a\").hexdigest() == \"85c1598f224d2c74146c0def2e829f688ec958f6\", \"length of top_n_state_plot.spec.encoding.color['shorthand'] is not correct\"\n",
    "assert sha1(str(top_n_state_plot.spec.encoding.color['shorthand'].lower()).encode(\"utf-8\")+b\"9d5f297d10eb180a\").hexdigest() == \"38e2762b3b9ff706f2e0d83b04b79318831084a7\", \"value of top_n_state_plot.spec.encoding.color['shorthand'] is not correct\"\n",
    "assert sha1(str(top_n_state_plot.spec.encoding.color['shorthand']).encode(\"utf-8\")+b\"9d5f297d10eb180a\").hexdigest() == \"38e2762b3b9ff706f2e0d83b04b79318831084a7\", \"correct string value of top_n_state_plot.spec.encoding.color['shorthand'] but incorrect case of letters\"\n",
    "\n",
    "assert sha1(str(type(isinstance(top_n_state_plot.spec.encoding.y['title'], str))).encode(\"utf-8\")+b\"cb07f079701ea20e\").hexdigest() == \"62af82151c83234c7a90587bfa1c75a1fdaa059b\", \"type of isinstance(top_n_state_plot.spec.encoding.y['title'], str) is not bool. isinstance(top_n_state_plot.spec.encoding.y['title'], str) should be a bool\"\n",
    "assert sha1(str(isinstance(top_n_state_plot.spec.encoding.y['title'], str)).encode(\"utf-8\")+b\"cb07f079701ea20e\").hexdigest() == \"271feb652486073f473fa3f38ec54346043d81ac\", \"boolean value of isinstance(top_n_state_plot.spec.encoding.y['title'], str) is not correct\"\n",
    "\n",
    "assert sha1(str(type(isinstance(top_n_state_plot.spec.encoding.color['title'], str))).encode(\"utf-8\")+b\"6ffc3d829afc7f96\").hexdigest() == \"129c0c778e3a4bab9efd70e5b8e87680126103e6\", \"type of isinstance(top_n_state_plot.spec.encoding.color['title'], str) is not bool. isinstance(top_n_state_plot.spec.encoding.color['title'], str) should be a bool\"\n",
    "assert sha1(str(isinstance(top_n_state_plot.spec.encoding.color['title'], str)).encode(\"utf-8\")+b\"6ffc3d829afc7f96\").hexdigest() == \"66d3c0ba8a1d9219e504a98e5fddc149c483c33c\", \"boolean value of isinstance(top_n_state_plot.spec.encoding.color['title'], str) is not correct\"\n",
    "\n",
    "assert sha1(str(type(top_n_state_plot.facet)).encode(\"utf-8\")+b\"6dcf8fe639d69271\").hexdigest() == \"d3c56862dc4d65e369a0683f3307ebb4cad1b2e3\", \"type of top_n_state_plot.facet is not correct\"\n",
    "assert sha1(str(top_n_state_plot.facet).encode(\"utf-8\")+b\"6dcf8fe639d69271\").hexdigest() == \"bec3236accf97213b41fb760e1f7a51c447701cc\", \"value of top_n_state_plot.facet is not correct\"\n",
    "\n",
    "assert sha1(str(type(top_n_state_plot.spec.mark)).encode(\"utf-8\")+b\"dc818e80b74c2c8d\").hexdigest() == \"cd7a7746a589377e3bedddacfa4e1fa096603313\", \"type of top_n_state_plot.spec.mark is not str. top_n_state_plot.spec.mark should be an str\"\n",
    "assert sha1(str(len(top_n_state_plot.spec.mark)).encode(\"utf-8\")+b\"dc818e80b74c2c8d\").hexdigest() == \"e10d2b02317e24cb1d6a4d0dc98ac4f9f9b322c7\", \"length of top_n_state_plot.spec.mark is not correct\"\n",
    "assert sha1(str(top_n_state_plot.spec.mark.lower()).encode(\"utf-8\")+b\"dc818e80b74c2c8d\").hexdigest() == \"2228c1a81ec4ef79027917b8809bc6e42f0df658\", \"value of top_n_state_plot.spec.mark is not correct\"\n",
    "assert sha1(str(top_n_state_plot.spec.mark).encode(\"utf-8\")+b\"dc818e80b74c2c8d\").hexdigest() == \"2228c1a81ec4ef79027917b8809bc6e42f0df658\", \"correct string value of top_n_state_plot.spec.mark but incorrect case of letters\"\n",
    "\n",
    "print('Success!')"
   ]
  },
  {
   "cell_type": "markdown",
   "metadata": {
    "deletable": false,
    "editable": false,
    "nbgrader": {
     "cell_type": "markdown",
     "checksum": "a23bdb6a6715b4e0ed42cadde701421e",
     "grade": false,
     "grade_id": "cell-18024b55d0ecc8f0",
     "locked": true,
     "schema_version": 3,
     "solution": false
    }
   },
   "source": [
    "**Question 2.9.5** \n",
    "<br> {points: 1}\n",
    "\n",
    "Is the most dominant franchise consistent across the three west coast states? Answer `\"yes\"` or `\"no\"`. Save your answer as `answer2_9_5` and be sure to surround the answer with quotations. Pay attention to case and punctuation when answering."
   ]
  },
  {
   "cell_type": "code",
   "execution_count": null,
   "metadata": {
    "deletable": false,
    "nbgrader": {
     "cell_type": "code",
     "checksum": "5ccdf44bdb0132bc34a5fd2c31fa9205",
     "grade": false,
     "grade_id": "cell-84b61b1043757d6f",
     "locked": false,
     "schema_version": 3,
     "solution": true
    }
   },
   "outputs": [],
   "source": [
    "# your code here\n",
    "raise NotImplementedError"
   ]
  },
  {
   "cell_type": "code",
   "execution_count": null,
   "metadata": {
    "deletable": false,
    "editable": false,
    "nbgrader": {
     "cell_type": "code",
     "checksum": "43bd703edc8bf32dd21b64e197700918",
     "grade": true,
     "grade_id": "cell-0eb8e20187b2bfa2",
     "locked": true,
     "points": 1,
     "schema_version": 3,
     "solution": false
    }
   },
   "outputs": [],
   "source": [
    "from hashlib import sha1\n",
    "assert sha1(str(type(answer2_9_5)).encode(\"utf-8\")+b\"090a38a2f0b275c0\").hexdigest() == \"6478310d8af3b88999896d193ffee4612686788b\", \"type of answer2_9_5 is not str. answer2_9_5 should be an str\"\n",
    "assert sha1(str(len(answer2_9_5)).encode(\"utf-8\")+b\"090a38a2f0b275c0\").hexdigest() == \"420e6f545869a8b5867fb70407943c47f5eded98\", \"length of answer2_9_5 is not correct\"\n",
    "assert sha1(str(answer2_9_5.lower()).encode(\"utf-8\")+b\"090a38a2f0b275c0\").hexdigest() == \"4b007845dcde9651b76b9da236ecc221457f7e77\", \"value of answer2_9_5 is not correct\"\n",
    "assert sha1(str(answer2_9_5).encode(\"utf-8\")+b\"090a38a2f0b275c0\").hexdigest() == \"4b007845dcde9651b76b9da236ecc221457f7e77\", \"correct string value of answer2_9_5 but incorrect case of letters\"\n",
    "\n",
    "print('Success!')"
   ]
  },
  {
   "cell_type": "markdown",
   "metadata": {
    "deletable": false,
    "editable": false,
    "nbgrader": {
     "cell_type": "markdown",
     "checksum": "eff34d9c7f0409fbef10447703d44d7c",
     "grade": false,
     "grade_id": "cell-ed421b97dac101b5",
     "locked": true,
     "schema_version": 3,
     "solution": false,
     "task": false
    }
   },
   "source": [
    "We are just scratching the surface of how to create effective visualizations in Python. For example, we haven't covered how to change from the default colors palette `altair` provides. We'll learn more in the tutorial, but it's a big world out there; to learn more, visit the links in the reading and practice, practice, practice! Go forth and make beautiful and effective plots!"
   ]
  }
 ],
 "metadata": {
  "kernelspec": {
   "display_name": "Python 3 (ipykernel)",
   "language": "python",
   "name": "python3"
  },
  "language_info": {
   "codemirror_mode": {
    "name": "ipython",
    "version": 3
   },
   "file_extension": ".py",
   "mimetype": "text/x-python",
   "name": "python",
   "nbconvert_exporter": "python",
   "pygments_lexer": "ipython3",
   "version": "3.11.4"
  }
 },
 "nbformat": 4,
 "nbformat_minor": 4
}
