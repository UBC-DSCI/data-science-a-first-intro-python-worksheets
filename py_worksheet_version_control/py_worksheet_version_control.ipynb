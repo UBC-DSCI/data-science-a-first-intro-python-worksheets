{
 "cells": [
  {
   "cell_type": "markdown",
   "metadata": {
    "deletable": false,
    "editable": false,
    "nbgrader": {
     "cell_type": "markdown",
     "checksum": "aa94891de98f714680f05a18fb82dd83",
     "grade": false,
     "grade_id": "cell-9fc931a1b92d396c",
     "locked": true,
     "schema_version": 3,
     "solution": false,
     "task": false
    }
   },
   "source": [
    "# Worksheet 5: Introduction to version control\n",
    "\n",
    "\n",
    "<img src=\"img/logo.png\" width=400>\n",
    "\n",
    "### Lecture and Tutorial Learning Goals:\n",
    "\n",
    "After completing this week's lecture and tutorial work, you will be able to:\n",
    "\n",
    "* Describe what version control is and why data analysis projects can benefit from it\n",
    "* Create a remote version control repository on GitHub\n",
    "* Move changes to files from GitHub to JupyterHub, and from JupyterHub to GitHub\n",
    "* Give collaborators access to the repository\n",
    "* Resolve conflicting edits made by multiple collaborators\n",
    "* Communicate with collaborators using issues\n",
    "* Use best practices when collaborating on a project with others\n",
    "\n",
    "This worksheet covers parts of [Chapter 12](https://python.datasciencebook.ca/version-control.html) of the online textbook. You should read this chapter before attempting the worksheet.\n",
    "\n",
    "**Note the following important information from UBC about your privacy: [GitHub.com](https://github.com/) is stored on servers outside Canada. When you access this site from UBC’s JupyterHub environment, you are transferred to these servers. UBC cannot guarantee security of your private information on servers outside of Canada. Please exercise caution whenever using personal information. You may wish to use a pseudonym to protect your privacy if you have concerns. Please feel free to contact us at UBC (LT.hub@ubc.ca) if you have any questions about your privacy.**"
   ]
  },
  {
   "cell_type": "markdown",
   "metadata": {
    "deletable": false,
    "editable": false,
    "nbgrader": {
     "cell_type": "markdown",
     "checksum": "32ddce9f7b2244bd1a5f36d10b074427",
     "grade": false,
     "grade_id": "cell-3b8465487dd766f5",
     "locked": true,
     "schema_version": 3,
     "solution": false,
     "task": false
    }
   },
   "source": [
    "## 1. What is version control? Why use it? "
   ]
  },
  {
   "cell_type": "markdown",
   "metadata": {
    "deletable": false,
    "editable": false,
    "nbgrader": {
     "cell_type": "markdown",
     "checksum": "19910d2d3b6a492e1a6f9ef67459926d",
     "grade": false,
     "grade_id": "cell-33341d6ba389a6a5",
     "locked": true,
     "schema_version": 3,
     "solution": false
    }
   },
   "source": [
    "**Question 1.1** Multiple Choice:\n",
    "<br> {points: 1}\n",
    "\n",
    "Which reason listed below **is not** a good reason to use version control:\n",
    "\n",
    "A. Version control tools provide transparency on how a project evolved by tracking the history of documents, and who made what changes to those documents.\n",
    "\n",
    "B. Version control tools usually include a remote/cloud repository hosting service that can act as a backup of your local files (i.e., the files on your computer).\n",
    "\n",
    "C. In practice, most data science projects involve collaboration on documents that contain code (e.g., Jupyter notebooks), and version control tools facilitate collaboration on such documents.\n",
    "\n",
    "D. Version control tools check the accuracy of your code. \n",
    "\n",
    "*Assign your answer to an object called `answer1_1`. Make sure your answer is an uppercase letter and is surrounded by quotation marks (e.g. `\"F\"`).*"
   ]
  },
  {
   "cell_type": "code",
   "execution_count": null,
   "metadata": {
    "deletable": false,
    "nbgrader": {
     "cell_type": "code",
     "checksum": "32f2e7965b2a6929ba328170d17cbf10",
     "grade": false,
     "grade_id": "cell-6bdc2f57a189abcf",
     "locked": false,
     "schema_version": 3,
     "solution": true
    }
   },
   "outputs": [],
   "source": [
    "# your code here\n",
    "raise NotImplementedError"
   ]
  },
  {
   "cell_type": "code",
   "execution_count": null,
   "metadata": {
    "deletable": false,
    "editable": false,
    "nbgrader": {
     "cell_type": "code",
     "checksum": "a7b34ecb8fe2400364a9570089a12045",
     "grade": true,
     "grade_id": "cell-62f0d28a4d321e00",
     "locked": true,
     "points": 3,
     "schema_version": 3,
     "solution": false
    }
   },
   "outputs": [],
   "source": [
    "from hashlib import sha1\n",
    "assert sha1(str(type(answer1_1)).encode(\"utf-8\")+b\"398da584ee5e21d1\").hexdigest() == \"11e4c24287bfefe5ab059aa602c56f6f54696cde\", \"type of answer1_1 is not str. answer1_1 should be an str\"\n",
    "assert sha1(str(len(answer1_1)).encode(\"utf-8\")+b\"398da584ee5e21d1\").hexdigest() == \"b717dd6dc7bdd023a7e9be9997b17edf4143dab2\", \"length of answer1_1 is not correct\"\n",
    "assert sha1(str(answer1_1.lower()).encode(\"utf-8\")+b\"398da584ee5e21d1\").hexdigest() == \"46c08ed6114f266b591818f2aaf8baadf0082b20\", \"value of answer1_1 is not correct\"\n",
    "assert sha1(str(answer1_1).encode(\"utf-8\")+b\"398da584ee5e21d1\").hexdigest() == \"4fc1ce98adafe7398515a8cff2cc005065df101f\", \"correct string value of answer1_1 but incorrect case of letters\"\n",
    "\n",
    "print('Success!')"
   ]
  },
  {
   "cell_type": "markdown",
   "metadata": {
    "deletable": false,
    "editable": false,
    "nbgrader": {
     "cell_type": "markdown",
     "checksum": "0371d29c14e1c94b06f8d8822728dd0f",
     "grade": false,
     "grade_id": "cell-b91542cf20075a6d",
     "locked": true,
     "schema_version": 3,
     "solution": false
    }
   },
   "source": [
    "**Question 1.2** True or false: \n",
    "<br> {points: 1}\n",
    "\n",
    "**Git** is a remote/cloud repository hosting service where you can backup and share your files with collaborators.\n",
    "\n",
    "*Assign your answer to an object called `answer1_2`. Make sure your answer is a boolean (e.g. `True` or `False`).* "
   ]
  },
  {
   "cell_type": "code",
   "execution_count": null,
   "metadata": {
    "deletable": false,
    "nbgrader": {
     "cell_type": "code",
     "checksum": "3471bdc16e4ac20588d6bbe9540f53d2",
     "grade": false,
     "grade_id": "cell-419826637ad2ec8b",
     "locked": false,
     "schema_version": 3,
     "solution": true
    }
   },
   "outputs": [],
   "source": [
    "# your code here\n",
    "raise NotImplementedError"
   ]
  },
  {
   "cell_type": "code",
   "execution_count": null,
   "metadata": {
    "deletable": false,
    "editable": false,
    "nbgrader": {
     "cell_type": "code",
     "checksum": "416c6319be42e96d97229f6409fbe1ff",
     "grade": true,
     "grade_id": "cell-decda128ce0061b5",
     "locked": true,
     "points": 3,
     "schema_version": 3,
     "solution": false
    }
   },
   "outputs": [],
   "source": [
    "from hashlib import sha1\n",
    "assert sha1(str(type(answer1_2)).encode(\"utf-8\")+b\"9a10b35867588d4d\").hexdigest() == \"3c40317dc4b74fce459c5e2f9cd2e11fabcc8897\", \"type of answer1_2 is not bool. answer1_2 should be a bool\"\n",
    "assert sha1(str(answer1_2).encode(\"utf-8\")+b\"9a10b35867588d4d\").hexdigest() == \"08e8b1c5910018b83f73389ca4568d1e4c08817c\", \"boolean value of answer1_2 is not correct\"\n",
    "\n",
    "print('Success!')"
   ]
  },
  {
   "cell_type": "markdown",
   "metadata": {
    "deletable": false,
    "editable": false,
    "nbgrader": {
     "cell_type": "markdown",
     "checksum": "758abad6164c754ce4e934d5174d2dfb",
     "grade": false,
     "grade_id": "cell-201bce97876c61d9",
     "locked": true,
     "schema_version": 3,
     "solution": false,
     "task": false
    },
    "tags": []
   },
   "source": [
    "## 2. Creating a space for your data science project online\n",
    "\n",
    "For the rest of this worksheet, you will create a toy data science project on GitHub to practice using Git and GitHub. We will ask you questions about what you are doing along the way to test your understanding.\n",
    "\n",
    "#### Signup for a free GitHub.com account:\n",
    "If you do not already have a free GitHub.com account, visit [GitHub.com](https://github.com/) and signup for one. Store your username and password in a secure place (we recomend using a password manager for things like this, examples of these are [LastPass](https://www.lastpass.com/), [1Password](https://1password.com/), etc).\n",
    "\n",
    "#### Create a GitHub repository:\n",
    "On [GitHub.com](https://github.com/) create a new repository and name it `toy_ds_project`. You can decide whether to make it private or public. Ensure that you select “Add a README file.” **This task corresponds to [this step](https://python.datasciencebook.ca/version-control.html#creating-a-remote-repository-on-github) in the textbook.**"
   ]
  },
  {
   "cell_type": "markdown",
   "metadata": {
    "deletable": false,
    "editable": false,
    "nbgrader": {
     "cell_type": "markdown",
     "checksum": "30effa704db3f1c2f6439c6a56c5e0fc",
     "grade": false,
     "grade_id": "cell-b3a3c0bfe11c30aa",
     "locked": true,
     "schema_version": 3,
     "solution": false
    },
    "tags": []
   },
   "source": [
    "**Question 2.1** Multiple Choice:\n",
    "\n",
    "Which statement below is **not true** about GitHub repositories:\n",
    "<br> {points: 1}\n",
    "\n",
    "A. Immediately after a repository is created on GitHub.com using the website, the repository exists only on GitHub.com and does not exist on your computer (i.e., you need to do something to get a copy of it on your computer).\n",
    "\n",
    "B. Only the creator of GitHub repository, and people the creator specify, can edit the files in the repository. This is true even when the repository is public.\n",
    "\n",
    "C. If the repository is public, anyone on the web can view it.\n",
    "\n",
    "D. If the repository is public, anyone on the web can edit it.\n",
    "\n",
    "E. A GitHub repository is like a folder on Dropbox or Google Drive, but it is different in that it has special properties for version control.\n",
    "\n",
    "*Assign your answer to an object called `answer2_1`. Make sure your answer is an uppercase letter and is surrounded by quotation marks (e.g. `\"F\"`).* "
   ]
  },
  {
   "cell_type": "code",
   "execution_count": null,
   "metadata": {
    "deletable": false,
    "nbgrader": {
     "cell_type": "code",
     "checksum": "62da17e28171bff9b03a01dabbe2c46c",
     "grade": false,
     "grade_id": "cell-09da6197edcf6859",
     "locked": false,
     "schema_version": 3,
     "solution": true
    },
    "tags": []
   },
   "outputs": [],
   "source": [
    "# your code here\n",
    "raise NotImplementedError"
   ]
  },
  {
   "cell_type": "code",
   "execution_count": null,
   "metadata": {
    "deletable": false,
    "editable": false,
    "nbgrader": {
     "cell_type": "code",
     "checksum": "f709894f6c3f987a85b258a1d5a40d29",
     "grade": true,
     "grade_id": "cell-bcb67971fe82e848",
     "locked": true,
     "points": 3,
     "schema_version": 3,
     "solution": false
    }
   },
   "outputs": [],
   "source": [
    "from hashlib import sha1\n",
    "assert sha1(str(type(answer2_1)).encode(\"utf-8\")+b\"da866d7bf00392a9\").hexdigest() == \"a483c51d7218ba551461533e79603f96a81c46a0\", \"type of answer2_1 is not str. answer2_1 should be an str\"\n",
    "assert sha1(str(len(answer2_1)).encode(\"utf-8\")+b\"da866d7bf00392a9\").hexdigest() == \"b77e1fa1c0eaa0a247494dd86ba0a8f568c847f2\", \"length of answer2_1 is not correct\"\n",
    "assert sha1(str(answer2_1.lower()).encode(\"utf-8\")+b\"da866d7bf00392a9\").hexdigest() == \"aa3d02e3c43e93a3b153acc3a4c9921024cd7b1b\", \"value of answer2_1 is not correct\"\n",
    "assert sha1(str(answer2_1).encode(\"utf-8\")+b\"da866d7bf00392a9\").hexdigest() == \"b162bfd82ae1de6e369e802c503f3a8f09acd844\", \"correct string value of answer2_1 but incorrect case of letters\"\n",
    "\n",
    "print('Success!')"
   ]
  },
  {
   "cell_type": "markdown",
   "metadata": {
    "deletable": false,
    "editable": false,
    "nbgrader": {
     "cell_type": "markdown",
     "checksum": "b98e3a64d14f0ec16ac45fb15f187a73",
     "grade": false,
     "grade_id": "cell-bee24c9a528da438",
     "locked": true,
     "schema_version": 3,
     "solution": false,
     "task": false
    }
   },
   "source": [
    "## 3. Creating and editing files on GitHub\n",
    "\n",
    "1. Edit the `README.md` file in your `toy_ds_project` repository on GitHub.com using the pen tool. Write \"project creation date:\" and list today's date. \n",
    "2. Commit this change directly to the main branch and write the commit message \"added creation date\". **This task corresponds to [this step](https://datasciencebook.ca/Getting-started-with-version-control.html#editing-files-on-github-with-the-pen-tool) in the textbook.**\n",
    "3. Next, use the pen tool again to edit the `README.md` file. Write \"author\" and list your name as the author. Commit this change and use the commit message \"added project author\".\n",
    "4. Explore the commit history of your project by clicking on the link that looks like this: \n",
    "\n",
    "<img src=\"img/commits_history_link.png\" width=600>\n",
    "\n",
    "> Note: you can visit the version of your repository at any stage in its history by click on the `<>` buttons! Give it a try!"
   ]
  },
  {
   "cell_type": "markdown",
   "metadata": {
    "deletable": false,
    "editable": false,
    "nbgrader": {
     "cell_type": "markdown",
     "checksum": "0447b8c46a0659a1c6b415efa9565a1f",
     "grade": false,
     "grade_id": "cell-4589f01853a62fe7",
     "locked": true,
     "schema_version": 3,
     "solution": false
    }
   },
   "source": [
    "**Question 3.1**  True or false:\n",
    "<br> {points: 1}\n",
    "\n",
    "Even though commit messages are required to edit a file using the pen tool on GitHub.com, it doesn't matter what message you write in practice.\n",
    "\n",
    "*Assign your answer to an object called `answer3_1`. Make sure your answer is a boolean (e.g. `True` or `False`).* "
   ]
  },
  {
   "cell_type": "code",
   "execution_count": null,
   "metadata": {
    "deletable": false,
    "nbgrader": {
     "cell_type": "code",
     "checksum": "d9d130716e5783b98f8194c3964abae9",
     "grade": false,
     "grade_id": "cell-c7993ed9e8e63184",
     "locked": false,
     "schema_version": 3,
     "solution": true
    }
   },
   "outputs": [],
   "source": [
    "# your code here\n",
    "raise NotImplementedError"
   ]
  },
  {
   "cell_type": "code",
   "execution_count": null,
   "metadata": {
    "deletable": false,
    "editable": false,
    "nbgrader": {
     "cell_type": "code",
     "checksum": "96422158a7940c97baab1aa6393ff361",
     "grade": true,
     "grade_id": "cell-0a781125473dc3d8",
     "locked": true,
     "points": 3,
     "schema_version": 3,
     "solution": false
    }
   },
   "outputs": [],
   "source": [
    "from hashlib import sha1\n",
    "assert sha1(str(type(answer3_1)).encode(\"utf-8\")+b\"94135b8fceb8c408\").hexdigest() == \"cb1854da44430b4f135a07ca39258676aa78576b\", \"type of answer3_1 is not bool. answer3_1 should be a bool\"\n",
    "assert sha1(str(answer3_1).encode(\"utf-8\")+b\"94135b8fceb8c408\").hexdigest() == \"9b5a99a4dcc1d11a87388f9e4ccb16821cc5c69e\", \"boolean value of answer3_1 is not correct\"\n",
    "\n",
    "print('Success!')"
   ]
  },
  {
   "cell_type": "markdown",
   "metadata": {
    "deletable": false,
    "editable": false,
    "nbgrader": {
     "cell_type": "markdown",
     "checksum": "9f0a0ac747db41b5fc3b2abce9c25a61",
     "grade": false,
     "grade_id": "cell-97539987da5e6f2a",
     "locked": true,
     "schema_version": 3,
     "solution": false,
     "task": false
    }
   },
   "source": [
    "## 4. Cloning your repository on JupyterHub\n",
    "\n",
    "For our data science project, we need to put a copy of our repository somewhere we can run and test the code we write (otherwise, we won't know that our code works!!!). We can use the course JupyterHub for this!\n",
    "\n",
    "#### Clone GitHub repository to the course JupyterHub:\n",
    "Clone a copy of this GitHub repository to the course JupyterHub using the Jupyter Git extension. **This task corresponds to [this step](https://python.datasciencebook.ca/version-control.html#cloning-a-repository-using-jupyter) in the textbook.**\n"
   ]
  },
  {
   "cell_type": "markdown",
   "metadata": {
    "deletable": false,
    "editable": false,
    "nbgrader": {
     "cell_type": "markdown",
     "checksum": "f70e2212a47e87a89b56d315af431fde",
     "grade": false,
     "grade_id": "cell-798a7cbf057308b4",
     "locked": true,
     "schema_version": 3,
     "solution": false,
     "task": false
    }
   },
   "source": [
    "**Question 4.1** True or false:\n",
    "<br> {points: 1}\n",
    "\n",
    "The definition of **cloning a repository** is to copy/download the entire contents (files, project history, and location of the remote repository) of a remote GitHub.com repository to a computer (e.g., your workspace on a JupyterHub, or your laptop).\n",
    "\n",
    "*Assign your answer to an object called `answer4_1`. Make sure your answer is a boolean (e.g. `True` or `False`).* "
   ]
  },
  {
   "cell_type": "code",
   "execution_count": null,
   "metadata": {
    "deletable": false,
    "nbgrader": {
     "cell_type": "code",
     "checksum": "ceef55f7aaeae8cd732984330838b210",
     "grade": false,
     "grade_id": "cell-050dd93f81d2fc95",
     "locked": false,
     "schema_version": 3,
     "solution": true,
     "task": false
    }
   },
   "outputs": [],
   "source": [
    "# your code here\n",
    "raise NotImplementedError"
   ]
  },
  {
   "cell_type": "code",
   "execution_count": null,
   "metadata": {
    "deletable": false,
    "editable": false,
    "nbgrader": {
     "cell_type": "code",
     "checksum": "abd49f62a2ddc5092f9504b1d761f491",
     "grade": true,
     "grade_id": "cell-f4e891dadfecbbf6",
     "locked": true,
     "points": 3,
     "schema_version": 3,
     "solution": false,
     "task": false
    }
   },
   "outputs": [],
   "source": [
    "from hashlib import sha1\n",
    "assert sha1(str(type(answer4_1)).encode(\"utf-8\")+b\"abdc0393a74cbfed\").hexdigest() == \"9f9fbb93b6cb33bc85448728b1f361726e666aa5\", \"type of answer4_1 is not bool. answer4_1 should be a bool\"\n",
    "assert sha1(str(answer4_1).encode(\"utf-8\")+b\"abdc0393a74cbfed\").hexdigest() == \"29add53a2e8b999484a90c60aaeb7532d7c501c9\", \"boolean value of answer4_1 is not correct\"\n",
    "\n",
    "print('Success!')"
   ]
  },
  {
   "cell_type": "markdown",
   "metadata": {
    "deletable": false,
    "editable": false,
    "nbgrader": {
     "cell_type": "markdown",
     "checksum": "c873db8e102bd9802ec30320a7f96825",
     "grade": false,
     "grade_id": "cell-5596109d0e6be6f8",
     "locked": true,
     "schema_version": 3,
     "solution": false,
     "task": false
    }
   },
   "source": [
    "## 5. Working in a cloned repository on JupyterHub\n",
    "\n",
    "Now that your repository exists in your workspace on the course JupyterHub, you can create a new Jupyter notebook with an Python kernel and write some code! To help this project move along, we show you below how to create a new Jupyter notebook and save it and some code to put in it. \n",
    "\n",
    "### Creating a new Jupyter notebook with an Python kernel\n",
    "\n",
    "To create a new Jupyter notebook with an Python kernel in your `toy_ds_project` repository, use the file navigation menu of Jupyter so that you are inside the `toy_ds_project`:\n",
    "\n",
    "<img src=\"img/to-get-to-project-root.png\" width=500>\n",
    "\n",
    "\n",
    "Once there, click on new Python notebook.\n",
    "\n",
    "<img src=\"img/new-notebook_py.png\" width=500>\n",
    "\n",
    "Next, right-click on the filename and click on \"Rename\", to rename the file `marg_vs_divorce_viz.ipynb`.\n",
    "\n",
    "<img src=\"img/rename.png\" width=500>"
   ]
  },
  {
   "cell_type": "markdown",
   "metadata": {
    "deletable": false,
    "editable": false,
    "nbgrader": {
     "cell_type": "markdown",
     "checksum": "90ebce31e8fc604ad686fa1420e89efd",
     "grade": false,
     "grade_id": "cell-809047e1033806c6",
     "locked": true,
     "schema_version": 3,
     "solution": false,
     "task": false
    }
   },
   "source": [
    "\n",
    "### Add code to the notebook you created\n",
    "\n",
    "Add the code below to the notebook and run it to display the data visualization. Feel free to add a narrative to the notebook if you like, commenting on the question being asked, the data visualization results, and whether correlation means causation. When you are done, save the notebook.\n",
    "\n",
    "```python\n",
    "import altair as alt\n",
    "import pandas as pd\n",
    "\n",
    "\n",
    "should_have_bought_butter = pd.DataFrame({\n",
    "    \"margarine_consumption\": [8.2, 7, 6.5, 5.3, 5.2, 4, 4.6, 4.5, 4.2, 3.7],\n",
    "    \"maine_divorce_rate\": [5, 4.7, 4.6, 4.4, 4.3, 4.1, 4.2, 4.2, 4.2, 4.1],\n",
    "    \"year\": [2000, 2001, 2002, 2003, 2004, 2005, 2006, 2007, 2008, 2009]\n",
    "})\n",
    "\n",
    "marg_vs_time = alt.Chart(should_have_bought_butter).mark_line(color=\"steelblue\").encode(\n",
    "    x=alt.X(\"year\").title(\"Year\"),\n",
    "    y=alt.Y(\"margarine_consumption\")\n",
    "        .title(\"Margarine consumption (lbs per capita)\")\n",
    "        .scale(zero=False)\n",
    ").properties(\n",
    "    height=250\n",
    ")\n",
    "\n",
    "\n",
    "divorce_rate_vs_time = marg_vs_time.mark_line(color=\"coral\").encode(\n",
    "    y=alt.Y(\"maine_divorce_rate\")\n",
    "        .title(\"Divorce rate in Maine (per 1000\")\n",
    "        .scale(zero=False)\n",
    ")\n",
    "\n",
    "(marg_vs_time | divorce_rate_vs_time).properties(\n",
    "    title=\"Divorce rate in Maine correlates with margarine consumption\"\n",
    ")\n",
    "```"
   ]
  },
  {
   "cell_type": "markdown",
   "metadata": {
    "deletable": false,
    "editable": false,
    "nbgrader": {
     "cell_type": "markdown",
     "checksum": "d7efc12d27224276cc4b91f1dc4f3e58",
     "grade": false,
     "grade_id": "cell-1f6c2b4695b6022b",
     "locked": true,
     "schema_version": 3,
     "solution": false,
     "task": false
    }
   },
   "source": [
    "## 6. Specifying files to commit\n",
    "\n",
    "Now we would like to start the process of putting `marg_vs_divorce_viz.ipynb` under version control and eventually push this file to our remote repository on GitHub.com. The first step to doing this is to **add** the changes to this file (creating it and the code) to the Git staging area. Go ahead and use the Jupyter Git extension to do this now. **This task corresponds to [this step](https://python.datasciencebook.ca/version-control.html#specifying-files-to-commit) in the textbook.**"
   ]
  },
  {
   "cell_type": "markdown",
   "metadata": {
    "deletable": false,
    "editable": false,
    "nbgrader": {
     "cell_type": "markdown",
     "checksum": "3ea3bb53a01a2b719547b6e642ce3882",
     "grade": false,
     "grade_id": "cell-b41196d7c306a078",
     "locked": true,
     "schema_version": 3,
     "solution": false,
     "task": false
    }
   },
   "source": [
    "**Question 6.1** Multiple Choice:\n",
    "<br> {points: 1}\n",
    "\n",
    "Git has a distinct step of **adding** files to the staging area because:\n",
    "\n",
    "A. Not all changes we make (i.e., files we create or edit) are ones that we want to push to our remote GitHub repository.\n",
    "\n",
    "B. It allows us to edit multiple files at once, but associate particular commit messages with particular files (so that the commit messages can more specifically reflect the changes that were made).\n",
    "\n",
    "C. This is technically required of all version control software.\n",
    "\n",
    "D. A and C.\n",
    "\n",
    "E. A and B.\n",
    "\n",
    "*Assign your answer to an object called `answer6_1`. Make sure your answer is an uppercase letter and is surrounded by quotation marks (e.g. `\"F\"`).* "
   ]
  },
  {
   "cell_type": "code",
   "execution_count": null,
   "metadata": {
    "deletable": false,
    "nbgrader": {
     "cell_type": "code",
     "checksum": "45add27f275237cddcc131e1f254ff76",
     "grade": false,
     "grade_id": "cell-78a41a64da6293e8",
     "locked": false,
     "schema_version": 3,
     "solution": true,
     "task": false
    }
   },
   "outputs": [],
   "source": [
    "# your code here\n",
    "raise NotImplementedError"
   ]
  },
  {
   "cell_type": "code",
   "execution_count": null,
   "metadata": {
    "deletable": false,
    "editable": false,
    "nbgrader": {
     "cell_type": "code",
     "checksum": "2da52edd802a4200e88bd8432837ed59",
     "grade": true,
     "grade_id": "cell-4df7797ab4b028cf",
     "locked": true,
     "points": 3,
     "schema_version": 3,
     "solution": false,
     "task": false
    }
   },
   "outputs": [],
   "source": [
    "from hashlib import sha1\n",
    "assert sha1(str(type(answer6_1)).encode(\"utf-8\")+b\"fd6b9e20cb45ad46\").hexdigest() == \"e1d4ceebb49be8ab86859e0dc89ec2174459ab47\", \"type of answer6_1 is not str. answer6_1 should be an str\"\n",
    "assert sha1(str(len(answer6_1)).encode(\"utf-8\")+b\"fd6b9e20cb45ad46\").hexdigest() == \"e44cdcea301a5301b1699729dbbbb25da10ade42\", \"length of answer6_1 is not correct\"\n",
    "assert sha1(str(answer6_1.lower()).encode(\"utf-8\")+b\"fd6b9e20cb45ad46\").hexdigest() == \"f1b9544e121af724a484c17323be827340ca4b71\", \"value of answer6_1 is not correct\"\n",
    "assert sha1(str(answer6_1).encode(\"utf-8\")+b\"fd6b9e20cb45ad46\").hexdigest() == \"f94b7f752871246b502709f58766f5f6a60f7313\", \"correct string value of answer6_1 but incorrect case of letters\"\n",
    "\n",
    "print('Success!')"
   ]
  },
  {
   "cell_type": "markdown",
   "metadata": {
    "deletable": false,
    "editable": false,
    "nbgrader": {
     "cell_type": "markdown",
     "checksum": "83305b97c52f474246e7dbdb3341f75c",
     "grade": false,
     "grade_id": "cell-4e608fec626c6457",
     "locked": true,
     "schema_version": 3,
     "solution": false,
     "task": false
    }
   },
   "source": [
    "## 7. Making the commit \n",
    "\n",
    "The next step is to **commit** our changes to our local Git repository. You can use the Jupyter Git extension to do this now. **This task corresponds to [this step](https://datasciencebook.ca/Getting-started-with-version-control.html#making-the-commit) in the textbook.**"
   ]
  },
  {
   "cell_type": "markdown",
   "metadata": {
    "deletable": false,
    "editable": false,
    "nbgrader": {
     "cell_type": "markdown",
     "checksum": "e80d4ba580495d694e38c82c52841b98",
     "grade": false,
     "grade_id": "cell-bb0b5573ca79e68e",
     "locked": true,
     "schema_version": 3,
     "solution": false,
     "task": false
    }
   },
   "source": [
    "**Question 7.1** True or false:\n",
    "<br> {points: 1}\n",
    "\n",
    "When we **commit** our changes to Git, the snapshot of changes, the commit message, the time and date stamp, and the user who committed the changes are all saved to the Git history on GitHub.\n",
    "\n",
    "*Assign your answer to an object called `answer7_1`. Make sure your answer is a boolean (e.g. `True` or `False`).* "
   ]
  },
  {
   "cell_type": "code",
   "execution_count": null,
   "metadata": {
    "deletable": false,
    "nbgrader": {
     "cell_type": "code",
     "checksum": "e4394075676e919af91f39ffc7ae9204",
     "grade": false,
     "grade_id": "cell-abcee8a2afc5bc19",
     "locked": false,
     "schema_version": 3,
     "solution": true,
     "task": false
    }
   },
   "outputs": [],
   "source": [
    "# your code here\n",
    "raise NotImplementedError"
   ]
  },
  {
   "cell_type": "code",
   "execution_count": null,
   "metadata": {
    "deletable": false,
    "editable": false,
    "nbgrader": {
     "cell_type": "code",
     "checksum": "bee48a4d642f530fae2d308ef695c97b",
     "grade": true,
     "grade_id": "cell-a4297f9a9b8fe5a9",
     "locked": true,
     "points": 3,
     "schema_version": 3,
     "solution": false,
     "task": false
    }
   },
   "outputs": [],
   "source": [
    "from hashlib import sha1\n",
    "assert sha1(str(type(answer7_1)).encode(\"utf-8\")+b\"0edda0f4b18aac5b\").hexdigest() == \"63a7d020f048a72ab59dcde97fdf4667ea9a0470\", \"type of answer7_1 is not bool. answer7_1 should be a bool\"\n",
    "assert sha1(str(answer7_1).encode(\"utf-8\")+b\"0edda0f4b18aac5b\").hexdigest() == \"2a892d14da42ebfa1a44b819095019334c1f8dd6\", \"boolean value of answer7_1 is not correct\"\n",
    "\n",
    "print('Success!')"
   ]
  },
  {
   "cell_type": "markdown",
   "metadata": {
    "deletable": false,
    "editable": false,
    "nbgrader": {
     "cell_type": "markdown",
     "checksum": "53f3416939924e6dc179399290894ee1",
     "grade": false,
     "grade_id": "cell-76bb7245f8522013",
     "locked": true,
     "schema_version": 3,
     "solution": false,
     "task": false
    }
   },
   "source": [
    "## 8. Pushing the commits to GitHub\n",
    "\n",
    "Finally, we are ready to send our changes (creating and adding code to `marg_vs_divorce_viz.ipynb`) to our remote repository through a process we call \"pushing\". Go ahead and do this now. **This task corresponds to [this step](https://python.datasciencebook.ca/version-control.html#pushing-the-commits-to-github) in the textbook.**\n",
    "\n",
    "After completing pushing your work to the remote repository on GitHub, visit your repository on GitHub.com and check out what your awesome toy project looks like!!!"
   ]
  },
  {
   "cell_type": "markdown",
   "metadata": {
    "deletable": false,
    "editable": false,
    "nbgrader": {
     "cell_type": "markdown",
     "checksum": "3c46580cecfb8270a2b0f4245be95092",
     "grade": false,
     "grade_id": "cell-22a610ed6a316a7b",
     "locked": true,
     "schema_version": 3,
     "solution": false,
     "task": false
    }
   },
   "source": [
    "**Question 8.1** Multiple Choice:\n",
    "\n",
    "Which statement below is **not** true?\n",
    "<br> {points: 1}\n",
    "\n",
    "A. Cloning and pulling a GitHub repository are the exact same thing.\n",
    "\n",
    "B. Pushing with Git is the act of sending changes that were committed to Git to a remote repository, for example, on GitHub.com.\n",
    "\n",
    "C. Pulling with Git is the act of collecting changes that exists in a remote repository, for example, on GitHub.com, that do not yet exist on the local computer you are working on (i.e., your workspace on the JupyterHub or your laptop).\n",
    "\n",
    "D. You should push your work to GitHub anytime you want to share your work with others, or when you are done a work session and want to back up your work.\n",
    "\n",
    "*Assign your answer to an object called `answer8_1`. Make sure your answer is an uppercase letter and is surrounded by quotation marks (e.g. `\"F\"`).* "
   ]
  },
  {
   "cell_type": "code",
   "execution_count": null,
   "metadata": {
    "deletable": false,
    "nbgrader": {
     "cell_type": "code",
     "checksum": "2494c9da557361271ba1830a94f541de",
     "grade": false,
     "grade_id": "cell-513a65b2e4fa6c01",
     "locked": false,
     "schema_version": 3,
     "solution": true,
     "task": false
    }
   },
   "outputs": [],
   "source": [
    "# your code here\n",
    "raise NotImplementedError"
   ]
  },
  {
   "cell_type": "code",
   "execution_count": null,
   "metadata": {
    "deletable": false,
    "editable": false,
    "nbgrader": {
     "cell_type": "code",
     "checksum": "0ba6e1866331ba711ba9b2fdd42d7c6d",
     "grade": true,
     "grade_id": "cell-ac98c61c35f6f0b6",
     "locked": true,
     "points": 3,
     "schema_version": 3,
     "solution": false,
     "task": false
    }
   },
   "outputs": [],
   "source": [
    "from hashlib import sha1\n",
    "assert sha1(str(type(answer8_1)).encode(\"utf-8\")+b\"1ed95697df6bd6fd\").hexdigest() == \"324f98812e5bd88792e46d45a1928677bd6b6d67\", \"type of answer8_1 is not str. answer8_1 should be an str\"\n",
    "assert sha1(str(len(answer8_1)).encode(\"utf-8\")+b\"1ed95697df6bd6fd\").hexdigest() == \"6a9d5b89022e5d75293cef63dd3b59d85aa3124a\", \"length of answer8_1 is not correct\"\n",
    "assert sha1(str(answer8_1.lower()).encode(\"utf-8\")+b\"1ed95697df6bd6fd\").hexdigest() == \"477e6eccb34bc2dd87ea2de2b1e26cec32494b64\", \"value of answer8_1 is not correct\"\n",
    "assert sha1(str(answer8_1).encode(\"utf-8\")+b\"1ed95697df6bd6fd\").hexdigest() == \"26c4801a2701d317142596fbb653b77bf7fcbbdd\", \"correct string value of answer8_1 but incorrect case of letters\"\n",
    "\n",
    "print('Success!')"
   ]
  },
  {
   "cell_type": "markdown",
   "metadata": {
    "deletable": false,
    "editable": false,
    "nbgrader": {
     "cell_type": "markdown",
     "checksum": "d3566c2606e749c8c6f7ad7020dc7f72",
     "grade": false,
     "grade_id": "cell-f5d9167c9c55eb6f",
     "locked": true,
     "schema_version": 3,
     "solution": false,
     "task": false
    }
   },
   "source": [
    "## 9. Giving collaborators access to your project\n",
    "\n",
    "One of the advantages of using version control tools, such as Git and GitHub, is how it lets you collaborate. Let's get some practice starting down this path. Add one or more of your breakout group members to your GitHub repository as a collaborator. **This task corresponds to [this step](https://python.datasciencebook.ca/version-control.html#giving-collaborators-access-to-your-project) in the textbook.**"
   ]
  },
  {
   "cell_type": "markdown",
   "metadata": {
    "deletable": false,
    "editable": false,
    "nbgrader": {
     "cell_type": "markdown",
     "checksum": "aac5c00d4863429035c46c7fb2cc4233",
     "grade": false,
     "grade_id": "cell-f2819a276d866112",
     "locked": true,
     "schema_version": 3,
     "solution": false,
     "task": false
    }
   },
   "source": [
    "**Question 9.1** True or false:\n",
    "<br> {points: 1}\n",
    "\n",
    "You can clone or pull from any public remote repository on GitHub.com, however you can only push to public remote repositories on GitHub.com that you own are a collaborator on.\n",
    "\n",
    "*Assign your answer to an object called `answer9_1`. Make sure your answer is a boolean (e.g. `True` or `False`).* "
   ]
  },
  {
   "cell_type": "code",
   "execution_count": null,
   "metadata": {
    "deletable": false,
    "nbgrader": {
     "cell_type": "code",
     "checksum": "4b04442444526d5f74df38d803a94216",
     "grade": false,
     "grade_id": "cell-e27a72ed06d0a5c6",
     "locked": false,
     "schema_version": 3,
     "solution": true,
     "task": false
    }
   },
   "outputs": [],
   "source": [
    "# your code here\n",
    "raise NotImplementedError"
   ]
  },
  {
   "cell_type": "code",
   "execution_count": null,
   "metadata": {
    "deletable": false,
    "editable": false,
    "nbgrader": {
     "cell_type": "code",
     "checksum": "587541c5509804d21d8bcaa49d2f3653",
     "grade": true,
     "grade_id": "cell-9dc8d28efb9ccda7",
     "locked": true,
     "points": 3,
     "schema_version": 3,
     "solution": false,
     "task": false
    }
   },
   "outputs": [],
   "source": [
    "from hashlib import sha1\n",
    "assert sha1(str(type(answer9_1)).encode(\"utf-8\")+b\"7d9bc89c71fafc21\").hexdigest() == \"2f111c707976b8afa6f40a4669cfe079aead440e\", \"type of answer9_1 is not bool. answer9_1 should be a bool\"\n",
    "assert sha1(str(answer9_1).encode(\"utf-8\")+b\"7d9bc89c71fafc21\").hexdigest() == \"d0d6d1223c081f806119f49af0cdbea463e1ef0d\", \"boolean value of answer9_1 is not correct\"\n",
    "\n",
    "print('Success!')"
   ]
  },
  {
   "cell_type": "markdown",
   "metadata": {
    "deletable": false,
    "editable": false,
    "nbgrader": {
     "cell_type": "markdown",
     "checksum": "75175bc3a2080e7e0ef0ee3833809cb9",
     "grade": false,
     "grade_id": "cell-797a55d8f7192735",
     "locked": true,
     "schema_version": 3,
     "solution": false,
     "task": false
    }
   },
   "source": [
    "#### (Optional) more collaboration practice!\n",
    "\n",
    "If you want to practice more Git & GitHub skills for collaboration, ask someone in your team if you can collaborate and send an edit to their project. To do this, they will need to add you as a collaborator, and then you will need to clone their repository to your JupyterHub. After that, you can edit some files (or create a whole new one), save your work, and then use the Jupyter Git extension to add, commit, and push your changes to their remote GitHub repository."
   ]
  },
  {
   "cell_type": "markdown",
   "metadata": {
    "deletable": false,
    "editable": false,
    "nbgrader": {
     "cell_type": "markdown",
     "checksum": "2440317bc8e6c4e8bb2ec25f1f79c577",
     "grade": false,
     "grade_id": "cell-2f3cb25ea183fa20",
     "locked": true,
     "schema_version": 3,
     "solution": false,
     "task": false
    }
   },
   "source": [
    "## 10. Communicating using GitHub issues\n",
    "\n",
    "It's easy for project communications to get lost in email or whatever messaging platform you use to communicate with your team. GitHub issues are an excellent tool explicitly designed for project collaboration as they are \"attached\" to the project's remote GitHub repository. Your task here is to go to the issue tab for your project and create an issue about something you might want to improve about your project. **This task corresponds to [this step](https://python.datasciencebook.ca/version-control.html#communicating-using-github-issues) in the textbook.**"
   ]
  },
  {
   "cell_type": "markdown",
   "metadata": {
    "deletable": false,
    "editable": false,
    "nbgrader": {
     "cell_type": "markdown",
     "checksum": "e0191b3db608a99c9d3fb255f7099392",
     "grade": false,
     "grade_id": "cell-9df9861dc7f0b061",
     "locked": true,
     "schema_version": 3,
     "solution": false,
     "task": false
    }
   },
   "source": [
    "**Question 10.1** Multiple Choice:\n",
    "<br> {points: 1}\n",
    "\n",
    "Which statement below is **not** a reason why GitHub issues are an ideal medium for project-specific communications?\n",
    "\n",
    "A. Issues are part of each GitHub repository, and thus \"attached\" to the project.\n",
    "\n",
    "B. Issues only persist while they are open, and immediately deleted when they are closed.\n",
    "\n",
    "C. Issues are easily searchable using GitHub’s search tools.\n",
    "\n",
    "D. All issues are accessible to all project collaborators, so no one is left out of the conversation.\n",
    "\n",
    "E. Issues can be set up so that team members get email notifications when a new issue is created or a new post is made in an issue thread.\n",
    "\n",
    "*Assign your answer to an object called `answer10_1`. Make sure your answer is an uppercase letter and is surrounded by quotation marks (e.g. `\"F\"`).* "
   ]
  },
  {
   "cell_type": "code",
   "execution_count": null,
   "metadata": {
    "deletable": false,
    "nbgrader": {
     "cell_type": "code",
     "checksum": "582dfcf807d7d590b697316dd28b601e",
     "grade": false,
     "grade_id": "cell-79a4febe0e471e05",
     "locked": false,
     "schema_version": 3,
     "solution": true,
     "task": false
    }
   },
   "outputs": [],
   "source": [
    "# your code here\n",
    "raise NotImplementedError"
   ]
  },
  {
   "cell_type": "code",
   "execution_count": null,
   "metadata": {
    "deletable": false,
    "editable": false,
    "nbgrader": {
     "cell_type": "code",
     "checksum": "7f384a763a97a3814c6834914d1a4fe7",
     "grade": true,
     "grade_id": "cell-6656677ba896c92f",
     "locked": true,
     "points": 3,
     "schema_version": 3,
     "solution": false,
     "task": false
    }
   },
   "outputs": [],
   "source": [
    "from hashlib import sha1\n",
    "assert sha1(str(type(answer10_1)).encode(\"utf-8\")+b\"5af9632f50d95e06\").hexdigest() == \"23aec8bf244ba441b42a2ffa449d9eb4e5aa9dba\", \"type of answer10_1 is not str. answer10_1 should be an str\"\n",
    "assert sha1(str(len(answer10_1)).encode(\"utf-8\")+b\"5af9632f50d95e06\").hexdigest() == \"33538b8a4701890577f526542ccd7f3fef4e8910\", \"length of answer10_1 is not correct\"\n",
    "assert sha1(str(answer10_1.lower()).encode(\"utf-8\")+b\"5af9632f50d95e06\").hexdigest() == \"0cf92f8d3ad6283f7d8c7845f3d54b7bef4efac3\", \"value of answer10_1 is not correct\"\n",
    "assert sha1(str(answer10_1).encode(\"utf-8\")+b\"5af9632f50d95e06\").hexdigest() == \"059247f5c812f8b412d2b832b34f184287410cc3\", \"correct string value of answer10_1 but incorrect case of letters\"\n",
    "\n",
    "print('Success!')"
   ]
  },
  {
   "cell_type": "markdown",
   "metadata": {
    "deletable": false,
    "editable": false,
    "nbgrader": {
     "cell_type": "markdown",
     "checksum": "6cbde4e4b7fd052e64963f6bcd57f75a",
     "grade": false,
     "grade_id": "cell-38a8620df69dd63c",
     "locked": true,
     "schema_version": 3,
     "solution": false,
     "task": false
    }
   },
   "source": [
    "#### (Optional) Even more collaboration practice! \n",
    "\n",
    "Visit a team member's GitHub repository and leave a polite but constructive message on how they could improve their project. \n"
   ]
  },
  {
   "cell_type": "markdown",
   "metadata": {
    "deletable": false,
    "editable": false,
    "nbgrader": {
     "cell_type": "markdown",
     "checksum": "63a79938d9b762f2dc3e3a144338a0ca",
     "grade": false,
     "grade_id": "cell-86e7938376066291",
     "locked": true,
     "schema_version": 3,
     "solution": false,
     "task": false
    }
   },
   "source": [
    "## Nice work! You're all done here!\n",
    "\n",
    "<img src=\"https://media.giphy.com/media/lcYFNTaz4U9jy/giphy.gif\">"
   ]
  }
 ],
 "metadata": {
  "jupytext": {
   "encoding": "# -*- coding: utf-8 -*-"
  },
  "kernelspec": {
   "display_name": "Python 3 (ipykernel)",
   "language": "python",
   "name": "python3"
  },
  "language_info": {
   "codemirror_mode": {
    "name": "ipython",
    "version": 3
   },
   "file_extension": ".py",
   "mimetype": "text/x-python",
   "name": "python",
   "nbconvert_exporter": "python",
   "pygments_lexer": "ipython3",
   "version": "3.11.4"
  }
 },
 "nbformat": 4,
 "nbformat_minor": 4
}
