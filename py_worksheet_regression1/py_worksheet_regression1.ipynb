{
 "cells": [
  {
   "cell_type": "markdown",
   "metadata": {
    "deletable": false,
    "editable": false,
    "nbgrader": {
     "cell_type": "markdown",
     "checksum": "287c943b3b3c791644f34632e4018ee8",
     "grade": false,
     "grade_id": "cell-6093d584be2ad9ed",
     "locked": true,
     "schema_version": 3,
     "solution": false
    }
   },
   "source": [
    "# Worksheet 8 - Regression\n",
    "\n",
    "### Lecture and Tutorial Learning Goals:\n",
    "\n",
    "After completing this week's lecture and tutorial work, you will be able to:\n",
    "- Recognize situations where a simple regression analysis would be appropriate for making predictions.\n",
    "- Explain the k-nearest neighbour ($k$-nn) regression algorithm and describe how it differs from $k$-nn classification.\n",
    "- Interpret the output of a $k$-nn regression.\n",
    "- In a dataset with two variables, perform k-nearest neighbour regression in Python using `scikit-learn` to predict the values for a test dataset.\n",
    "- Using Python, execute hyperparameter tuning in Python to choose the number of neighbours.\n",
    "- Using Python, evaluate $k$-nn regression prediction accuracy using a test data set and an appropriate metric (root mean squared error).\n",
    "- In the context of $k$-nn regression, compare and contrast goodness of fit and prediction properties (RMSE versus RMSPE).\n",
    "- Describe advantages and disadvantages of the $k$-nearest neighbour regression approach.\n",
    "\n",
    "This tutorial covers parts of [Chapter 7](https://python.datasciencebook.ca/regression1) of the online textbook. You should read this chapter before attempting this assignment. Any place you see `___`, you must fill in the function, variable, or data to complete the code. Substitute the `raise NotImplementedError` with your completed code and answers then proceed to run the cell."
   ]
  },
  {
   "cell_type": "code",
   "execution_count": null,
   "metadata": {
    "deletable": false,
    "editable": false,
    "nbgrader": {
     "cell_type": "code",
     "checksum": "557f03fa20fc0ebcf8983518d3f404b1",
     "grade": false,
     "grade_id": "cell-53085d5554f9dcc8",
     "locked": true,
     "schema_version": 3,
     "solution": false,
     "task": false
    }
   },
   "outputs": [],
   "source": [
    "### Run this cell before continuing.\n",
    "import altair as alt\n",
    "import numpy as np\n",
    "import pandas as pd\n",
    "from sklearn import set_config\n",
    "from sklearn.model_selection import GridSearchCV, cross_validate, train_test_split\n",
    "from sklearn.neighbors import KNeighborsRegressor\n",
    "from sklearn.pipeline import make_pipeline\n",
    "from sklearn.preprocessing import StandardScaler\n",
    "from sklearn.metrics import mean_squared_error\n",
    "\n",
    "# Simplify working with large datasets in Altair\n",
    "alt.data_transformers.disable_max_rows()\n",
    "\n",
    "# Output dataframes instead of arrays\n",
    "set_config(transform_output=\"pandas\")"
   ]
  },
  {
   "cell_type": "markdown",
   "metadata": {
    "deletable": false,
    "editable": false,
    "nbgrader": {
     "cell_type": "markdown",
     "checksum": "761fe69db4e2a0df7d566bcba24a6c5d",
     "grade": false,
     "grade_id": "cell-8e40e06455324a19",
     "locked": true,
     "schema_version": 3,
     "solution": false
    }
   },
   "source": [
    "**Question 0.0** \n",
    "<br> {points: 1}\n",
    "\n",
    "To predict a value of $Y$ for a new observation using $k$-nn **regression**, we identify the $k$-nearest neighbours and then:\n",
    "\n",
    "A. Assign it the median of the $k$-nearest neighbours as the predicted value\n",
    "\n",
    "B. Assign it the mean of the $k$-nearest neighbours as the predicted value\n",
    "\n",
    "C. Assign it the mode of the $k$-nearest neighbours as the predicted value\n",
    "\n",
    "D. Assign it the majority vote of the $k$-nearest neighbours as the predicted value\n",
    "\n",
    "*Save the letter of the answer you think is correct to a variable named `answer0_0`. Make sure your answer is an uppercase letter and is surrounded by quotation marks (e.g. `\"F\"`).*"
   ]
  },
  {
   "cell_type": "code",
   "execution_count": null,
   "metadata": {
    "deletable": false,
    "nbgrader": {
     "cell_type": "code",
     "checksum": "be09c84e9423c2fde7de7f9a7ff062d0",
     "grade": false,
     "grade_id": "cell-108236d99368cc44",
     "locked": false,
     "schema_version": 3,
     "solution": true
    }
   },
   "outputs": [],
   "source": [
    "# your code here\n",
    "raise NotImplementedError"
   ]
  },
  {
   "cell_type": "code",
   "execution_count": null,
   "metadata": {
    "deletable": false,
    "editable": false,
    "nbgrader": {
     "cell_type": "code",
     "checksum": "502a6770e0d111da96d9b80ba7867e31",
     "grade": true,
     "grade_id": "cell-7d5938e33a38edeb",
     "locked": true,
     "points": 1,
     "schema_version": 3,
     "solution": false
    }
   },
   "outputs": [],
   "source": [
    "from hashlib import sha1\n",
    "assert sha1(str(type(answer0_0)).encode(\"utf-8\")+b\"bd3407798a0e40a1\").hexdigest() == \"1c4643ba7147cdf7193bf376956c724b9f6ac9b5\", \"type of answer0_0 is not str. answer0_0 should be an str\"\n",
    "assert sha1(str(len(answer0_0)).encode(\"utf-8\")+b\"bd3407798a0e40a1\").hexdigest() == \"069a2991c7d79601a638afdf1f39b4df22ea80aa\", \"length of answer0_0 is not correct\"\n",
    "assert sha1(str(answer0_0.lower()).encode(\"utf-8\")+b\"bd3407798a0e40a1\").hexdigest() == \"dbcbc220ab89f93b13f17fc9940da098b6f09784\", \"value of answer0_0 is not correct\"\n",
    "assert sha1(str(answer0_0).encode(\"utf-8\")+b\"bd3407798a0e40a1\").hexdigest() == \"faa33c5d5fafe7d88a9e4f86399efa53b3b0aee2\", \"correct string value of answer0_0 but incorrect case of letters\"\n",
    "\n",
    "print('Success!')"
   ]
  },
  {
   "cell_type": "markdown",
   "metadata": {
    "deletable": false,
    "editable": false,
    "nbgrader": {
     "cell_type": "markdown",
     "checksum": "cb44f1b9b4de90f4fc22579922dfb503",
     "grade": false,
     "grade_id": "cell-b0f4fa2237ef0429",
     "locked": true,
     "schema_version": 3,
     "solution": false,
     "task": false
    }
   },
   "source": [
    "**Question 0.1**\n",
    "<br> {points: 1}\n",
    "\n",
    "Of those shown below, which is the correct formula for root mean squared error (RMSE)?\n",
    "\n",
    "\n",
    "A. $\\text{RMSE} = \\sqrt{\\frac{\\frac{1}{n}\\sum\\limits_{i=1}^{n}(y_i - \\hat{y_i})^2}{1 - n}}$\n",
    "\n",
    "B. $\\text{RMSE} = \\sqrt{\\frac{1}{n - 1}\\sum\\limits_{i=1}^{n}(y_i - \\hat{y_i})^2}$\n",
    "\n",
    "C. $\\text{RMSE} = \\sqrt{\\frac{1}{n}\\sum\\limits_{i=1}^{n}(y_i - \\hat{y_i})^2}$\n",
    "\n",
    "D. $\\text{RMSE} = \\sqrt{\\frac{1}{n}\\sum\\limits_{i=1}^{n}(y_i - \\hat{y_i})}$ \n",
    "\n",
    "*Save the letter of your answer to a variable named `answer0_1`. Make sure you put quotations around the letter and pay attention to case.*"
   ]
  },
  {
   "cell_type": "code",
   "execution_count": null,
   "metadata": {
    "deletable": false,
    "nbgrader": {
     "cell_type": "code",
     "checksum": "3fa947ab2ac171de2a28b1fcf66500d4",
     "grade": false,
     "grade_id": "cell-93c565d6974de38f",
     "locked": false,
     "schema_version": 3,
     "solution": true,
     "task": false
    }
   },
   "outputs": [],
   "source": [
    "# your code here\n",
    "raise NotImplementedError"
   ]
  },
  {
   "cell_type": "code",
   "execution_count": null,
   "metadata": {
    "deletable": false,
    "editable": false,
    "nbgrader": {
     "cell_type": "code",
     "checksum": "5abb249928252eeb26926455df5bbdc9",
     "grade": true,
     "grade_id": "cell-b1e66491132c1e30",
     "locked": true,
     "points": 1,
     "schema_version": 3,
     "solution": false,
     "task": false
    }
   },
   "outputs": [],
   "source": [
    "from hashlib import sha1\n",
    "assert sha1(str(type(answer0_1)).encode(\"utf-8\")+b\"3a6c2d5057815c89\").hexdigest() == \"fe62081b71c3af815f5fec7ba3d8d85c20a8d334\", \"type of answer0_1 is not str. answer0_1 should be an str\"\n",
    "assert sha1(str(len(answer0_1)).encode(\"utf-8\")+b\"3a6c2d5057815c89\").hexdigest() == \"6b1d1e9ad11fe83e3d813311b0bd4345ca2010fc\", \"length of answer0_1 is not correct\"\n",
    "assert sha1(str(answer0_1.lower()).encode(\"utf-8\")+b\"3a6c2d5057815c89\").hexdigest() == \"30839949907ea8b0867df956bfd0ccd37d5c357d\", \"value of answer0_1 is not correct\"\n",
    "assert sha1(str(answer0_1).encode(\"utf-8\")+b\"3a6c2d5057815c89\").hexdigest() == \"94c36033d1ae1d24c1129e0fb48c80e2c582d859\", \"correct string value of answer0_1 but incorrect case of letters\"\n",
    "\n",
    "print('Success!')"
   ]
  },
  {
   "cell_type": "markdown",
   "metadata": {
    "deletable": false,
    "editable": false,
    "nbgrader": {
     "cell_type": "markdown",
     "checksum": "247617d4518ef89461e9e157503fac43",
     "grade": false,
     "grade_id": "cell-ded5f8fa4e621b81",
     "locked": true,
     "schema_version": 3,
     "solution": false
    }
   },
   "source": [
    "**Question 0.2**\n",
    "<br> {points: 1}\n",
    "\n",
    "The plot below is a very simple k-nn regression example, where the black dots are the data observations and the blue line is the predictions from a $k$-nn regression model created from this data where $k=2$.\n",
    "\n",
    "Using the formula for root mean squared error (given in the reading), and the graph below, by hand (pen and paper or use Python as a calculator) calculate the RMSE for this model. **Use one decimal place of precision when inputting the heights of the black dots and blue line.** \n",
    "\n",
    "*Save your answer to a variable named `answer0_2`*\n",
    "\n",
    "<img align=\"left\" src=\"img/k-nn_RMSE.jpeg\" />"
   ]
  },
  {
   "cell_type": "code",
   "execution_count": null,
   "metadata": {
    "deletable": false,
    "nbgrader": {
     "cell_type": "code",
     "checksum": "712a52037eb11184818103e9f607d13f",
     "grade": false,
     "grade_id": "cell-8dc7cc6f35de80cb",
     "locked": false,
     "schema_version": 3,
     "solution": true
    }
   },
   "outputs": [],
   "source": [
    "# your code here\n",
    "raise NotImplementedError\n",
    "answer0_2"
   ]
  },
  {
   "cell_type": "code",
   "execution_count": null,
   "metadata": {
    "deletable": false,
    "editable": false,
    "nbgrader": {
     "cell_type": "code",
     "checksum": "48e1d06402a78044746e8866cc016e85",
     "grade": true,
     "grade_id": "cell-d90b3e7b890ce86b",
     "locked": true,
     "points": 1,
     "schema_version": 3,
     "solution": false
    }
   },
   "outputs": [],
   "source": [
    "from hashlib import sha1\n",
    "assert sha1(str(type(answer0_2)).encode(\"utf-8\")+b\"b5bdedd33d070f72\").hexdigest() == \"8f21bbd832a13652845205b8837feb00b93eb847\", \"type of answer0_2 is not float. Please make sure it is float and not np.float64, etc. You can cast your value into a float using float()\"\n",
    "assert sha1(str(round(answer0_2, 2)).encode(\"utf-8\")+b\"b5bdedd33d070f72\").hexdigest() == \"7edaab46306185bbe3777a653760322f91e71f50\", \"value of answer0_2 is not correct (rounded to 2 decimal places)\"\n",
    "\n",
    "print('Success!')"
   ]
  },
  {
   "cell_type": "markdown",
   "metadata": {
    "deletable": false,
    "editable": false,
    "nbgrader": {
     "cell_type": "markdown",
     "checksum": "7d5cd1229dfed0d018c205a39336ef31",
     "grade": false,
     "grade_id": "cell-73d7913554df0781",
     "locked": true,
     "schema_version": 3,
     "solution": false,
     "task": false
    }
   },
   "source": [
    "### RMSPE Definition\n",
    "\n",
    "**Question 0.3** \n",
    "<br> {points: 1}\n",
    "\n",
    "What does RMSPE stand for?\n",
    "\n",
    "\n",
    "A. root mean squared prediction error\n",
    "\n",
    "B. root mean squared percentage error \n",
    "\n",
    "C. root mean squared performance error \n",
    "\n",
    "D. root mean squared preference error \n",
    "\n",
    "*Save the letter of your answer to a variable named `answer0_3`. Make sure you put quotations around the letter and pay attention to case.*"
   ]
  },
  {
   "cell_type": "code",
   "execution_count": null,
   "metadata": {
    "deletable": false,
    "nbgrader": {
     "cell_type": "code",
     "checksum": "1c552fb5d4f17448f4ef16ff47bfd1de",
     "grade": false,
     "grade_id": "cell-81be027da315cb3f",
     "locked": false,
     "schema_version": 3,
     "solution": true,
     "task": false
    }
   },
   "outputs": [],
   "source": [
    "# your code here\n",
    "raise NotImplementedError"
   ]
  },
  {
   "cell_type": "code",
   "execution_count": null,
   "metadata": {
    "deletable": false,
    "editable": false,
    "nbgrader": {
     "cell_type": "code",
     "checksum": "4d34a3fb9b9349459a5f8f06afc8750f",
     "grade": true,
     "grade_id": "cell-db93265fd197f97f",
     "locked": true,
     "points": 1,
     "schema_version": 3,
     "solution": false,
     "task": false
    }
   },
   "outputs": [],
   "source": [
    "from hashlib import sha1\n",
    "assert sha1(str(type(answer0_3)).encode(\"utf-8\")+b\"dbeaec790c2eecf8\").hexdigest() == \"d90375d1bda11c0da32efefe79e01d1faf5f648c\", \"type of answer0_3 is not str. answer0_3 should be an str\"\n",
    "assert sha1(str(len(answer0_3)).encode(\"utf-8\")+b\"dbeaec790c2eecf8\").hexdigest() == \"92410133de0eaafae7837117dfabb06f4a57a885\", \"length of answer0_3 is not correct\"\n",
    "assert sha1(str(answer0_3.lower()).encode(\"utf-8\")+b\"dbeaec790c2eecf8\").hexdigest() == \"bc083cb21e9608bac6cba73fbe8a23d55a6b551d\", \"value of answer0_3 is not correct\"\n",
    "assert sha1(str(answer0_3).encode(\"utf-8\")+b\"dbeaec790c2eecf8\").hexdigest() == \"3d11e79183ed464181e0ff99846f95a3daa5b809\", \"correct string value of answer0_3 but incorrect case of letters\"\n",
    "\n",
    "print('Success!')"
   ]
  },
  {
   "cell_type": "markdown",
   "metadata": {
    "deletable": false,
    "editable": false,
    "nbgrader": {
     "cell_type": "markdown",
     "checksum": "4d69f891ae2b08cee7906ae7f104890d",
     "grade": false,
     "grade_id": "cell-e612110169987c7b",
     "locked": true,
     "schema_version": 3,
     "solution": false,
     "task": false
    }
   },
   "source": [
    "## Marathon Training\n",
    "\n",
    "<img src='https://media.giphy.com/media/nUN6InE2CodRm/giphy.gif' width='400'>\n",
    "\n",
    "Source: https://media.giphy.com/media/nUN6InE2CodRm/giphy.gif\n",
    "\n",
    "What predicts which athletes will perform better than others? Specifically, we are interested in marathon runners, and looking at how the maximum distance ran per week (in miles) during race training predicts the time it takes a runner to finish the race. For this, we will be looking at the `marathon.csv` file in the `data/` folder."
   ]
  },
  {
   "cell_type": "markdown",
   "metadata": {
    "deletable": false,
    "editable": false,
    "nbgrader": {
     "cell_type": "markdown",
     "checksum": "9ea30c1434a67e3876226cd543d43d4c",
     "grade": false,
     "grade_id": "cell-16d7d432c49c9e53",
     "locked": true,
     "schema_version": 3,
     "solution": false
    }
   },
   "source": [
    "**Question 1.0** \n",
    "<br> {points: 1}\n",
    "\n",
    "Load the data and assign it to an object called `marathon`. "
   ]
  },
  {
   "cell_type": "code",
   "execution_count": null,
   "metadata": {
    "deletable": false,
    "nbgrader": {
     "cell_type": "code",
     "checksum": "75aa40b2dc5eadc254c56f3ec9d4a9b5",
     "grade": false,
     "grade_id": "cell-5376dc2c39983258",
     "locked": false,
     "schema_version": 3,
     "solution": true
    }
   },
   "outputs": [],
   "source": [
    "# your code here\n",
    "raise NotImplementedError\n",
    "marathon"
   ]
  },
  {
   "cell_type": "code",
   "execution_count": null,
   "metadata": {
    "deletable": false,
    "editable": false,
    "nbgrader": {
     "cell_type": "code",
     "checksum": "5ca2f2b618b56683c4526a5cd7e95248",
     "grade": true,
     "grade_id": "cell-60554f6f6a56a16c",
     "locked": true,
     "points": 1,
     "schema_version": 3,
     "solution": false
    }
   },
   "outputs": [],
   "source": [
    "from hashlib import sha1\n",
    "assert sha1(str(type(marathon is None)).encode(\"utf-8\")+b\"fba9a9f9021093b0\").hexdigest() == \"a8b60028fb4e3d2961100128256b605d872c7735\", \"type of marathon is None is not bool. marathon is None should be a bool\"\n",
    "assert sha1(str(marathon is None).encode(\"utf-8\")+b\"fba9a9f9021093b0\").hexdigest() == \"6c0dfffb4e6ad61fdf49d5a5d9834ce90502aba4\", \"boolean value of marathon is None is not correct\"\n",
    "\n",
    "assert sha1(str(type(marathon)).encode(\"utf-8\")+b\"67b00066a96de7cf\").hexdigest() == \"06b6e7aa1d8174036b41693a512cd7679689b595\", \"type of type(marathon) is not correct\"\n",
    "\n",
    "assert sha1(str(type(marathon.shape)).encode(\"utf-8\")+b\"10ac86b4bc109af4\").hexdigest() == \"9e89b473f4feb11c081e761a7cec824c2d2c7110\", \"type of marathon.shape is not tuple. marathon.shape should be a tuple\"\n",
    "assert sha1(str(len(marathon.shape)).encode(\"utf-8\")+b\"10ac86b4bc109af4\").hexdigest() == \"3aba96b2092fa7d5db72603dcad64e1167f1580f\", \"length of marathon.shape is not correct\"\n",
    "assert sha1(str(sorted(map(str, marathon.shape))).encode(\"utf-8\")+b\"10ac86b4bc109af4\").hexdigest() == \"57e4270f5aa00e08de8a0420372eba4608d65437\", \"values of marathon.shape are not correct\"\n",
    "assert sha1(str(marathon.shape).encode(\"utf-8\")+b\"10ac86b4bc109af4\").hexdigest() == \"5fbcb2e92dd432d66378b6e5fffb22e41e5a2397\", \"order of elements of marathon.shape is not correct\"\n",
    "\n",
    "assert sha1(str(type(\"time_hrs\" in marathon.columns)).encode(\"utf-8\")+b\"6836623fc4c52631\").hexdigest() == \"5171108d3cd95edc40dfc488d55af84c2fc9a58e\", \"type of \\\"time_hrs\\\" in marathon.columns is not bool. \\\"time_hrs\\\" in marathon.columns should be a bool\"\n",
    "assert sha1(str(\"time_hrs\" in marathon.columns).encode(\"utf-8\")+b\"6836623fc4c52631\").hexdigest() == \"32c96a9468dd1e6152971b2f0b416033b87902e7\", \"boolean value of \\\"time_hrs\\\" in marathon.columns is not correct\"\n",
    "\n",
    "assert sha1(str(type(\"max\" in marathon.columns)).encode(\"utf-8\")+b\"1d3ab9c382d6b3f5\").hexdigest() == \"ceb551b909605df99e42c8892abc18233b410617\", \"type of \\\"max\\\" in marathon.columns is not bool. \\\"max\\\" in marathon.columns should be a bool\"\n",
    "assert sha1(str(\"max\" in marathon.columns).encode(\"utf-8\")+b\"1d3ab9c382d6b3f5\").hexdigest() == \"29a1b1917161561ab86d9d2d724a4ac4e010f35c\", \"boolean value of \\\"max\\\" in marathon.columns is not correct\"\n",
    "\n",
    "print('Success!')"
   ]
  },
  {
   "cell_type": "markdown",
   "metadata": {
    "deletable": false,
    "editable": false,
    "nbgrader": {
     "cell_type": "markdown",
     "checksum": "cf74db2f57c49f8935ab34dc3fcb8ea4",
     "grade": false,
     "grade_id": "cell-26802c14f46a4d8e",
     "locked": true,
     "schema_version": 3,
     "solution": false
    }
   },
   "source": [
    "**Question 2.0**\n",
    "<br> {points: 1}\n",
    "\n",
    "We want to predict race time (in hours) (`time_hrs`) given a particular value of maximum distance ran per week (in miles) during race training (`max`). Let's take a subset of size 50 individuals of our marathon data and assign it to an object called `marathon_50`. With this subset, plot a scatterplot (using `mark_circle`) to assess the relationship between these two variables. Put `time_hrs` on the y-axis and `max` on the x-axis.  Discuss, with a classmate, the relationship between race time and maximum distance ran per week during training based on the scatterplot you create below. \n",
    "\n",
    "*Hint: To take a subset of your data you can use the `sample` function*\n",
    "\n",
    "*Assign your plot to an object called `answer2`.*"
   ]
  },
  {
   "cell_type": "code",
   "execution_count": null,
   "metadata": {
    "deletable": false,
    "nbgrader": {
     "cell_type": "code",
     "checksum": "f6927f52ae154d8e6ea639d7893551b5",
     "grade": false,
     "grade_id": "cell-6fcfc6ca32883f4d",
     "locked": false,
     "schema_version": 3,
     "solution": true
    }
   },
   "outputs": [],
   "source": [
    "# ___ = ___.sample(___, random_state=300) # Do not change the random_state\n",
    "\n",
    "\n",
    "# your code here\n",
    "raise NotImplementedError\n",
    "answer2"
   ]
  },
  {
   "cell_type": "code",
   "execution_count": null,
   "metadata": {
    "deletable": false,
    "editable": false,
    "nbgrader": {
     "cell_type": "code",
     "checksum": "e5d6ffdc477241db2af1da967de17ad2",
     "grade": true,
     "grade_id": "cell-78ac50fb41cd9a86",
     "locked": true,
     "points": 1,
     "schema_version": 3,
     "solution": false
    }
   },
   "outputs": [],
   "source": [
    "from hashlib import sha1\n",
    "assert sha1(str(type(answer2 is None)).encode(\"utf-8\")+b\"866aa9da83af63eb\").hexdigest() == \"d387b628c763d87cf2e410f6e677cf4604689d10\", \"type of answer2 is None is not bool. answer2 is None should be a bool\"\n",
    "assert sha1(str(answer2 is None).encode(\"utf-8\")+b\"866aa9da83af63eb\").hexdigest() == \"94e3888cca22b85261ca93e5a3764cb47a0faab7\", \"boolean value of answer2 is None is not correct\"\n",
    "\n",
    "assert sha1(str(type(marathon_50.shape)).encode(\"utf-8\")+b\"3d0882df3272c963\").hexdigest() == \"595480d93407d13ccdea6ee3fe29ffe8eb270f12\", \"type of marathon_50.shape is not tuple. marathon_50.shape should be a tuple\"\n",
    "assert sha1(str(len(marathon_50.shape)).encode(\"utf-8\")+b\"3d0882df3272c963\").hexdigest() == \"9260e27311095a7da11be481dd37e62a025445e2\", \"length of marathon_50.shape is not correct\"\n",
    "assert sha1(str(sorted(map(str, marathon_50.shape))).encode(\"utf-8\")+b\"3d0882df3272c963\").hexdigest() == \"98dcbf13fcb31671921886a62a8d01ed05eaf987\", \"values of marathon_50.shape are not correct\"\n",
    "assert sha1(str(marathon_50.shape).encode(\"utf-8\")+b\"3d0882df3272c963\").hexdigest() == \"1de54e6478e1b595f9c6383d4200ba38f6047af8\", \"order of elements of marathon_50.shape is not correct\"\n",
    "\n",
    "assert sha1(str(type(answer2.data.equals(marathon_50))).encode(\"utf-8\")+b\"0039ca7b897f361c\").hexdigest() == \"90a6fac84bc945928e83baf5c308a032fb7ebf0f\", \"type of answer2.data.equals(marathon_50) is not bool. answer2.data.equals(marathon_50) should be a bool\"\n",
    "assert sha1(str(answer2.data.equals(marathon_50)).encode(\"utf-8\")+b\"0039ca7b897f361c\").hexdigest() == \"48172036d752fb39977cf8d3d9acf1ba27d237ba\", \"boolean value of answer2.data.equals(marathon_50) is not correct\"\n",
    "\n",
    "assert sha1(str(type(answer2.encoding.x['shorthand'])).encode(\"utf-8\")+b\"657c3320bc004107\").hexdigest() == \"e1c33c3c25c5c743aae79676c88f4baa9c965b46\", \"type of answer2.encoding.x['shorthand'] is not str. answer2.encoding.x['shorthand'] should be an str\"\n",
    "assert sha1(str(len(answer2.encoding.x['shorthand'])).encode(\"utf-8\")+b\"657c3320bc004107\").hexdigest() == \"61fcdec9bb863d1cf67856d78c54ff3bba4c1868\", \"length of answer2.encoding.x['shorthand'] is not correct\"\n",
    "assert sha1(str(answer2.encoding.x['shorthand'].lower()).encode(\"utf-8\")+b\"657c3320bc004107\").hexdigest() == \"f21d8c317de6ffbc4cbefe97110f8e776245666f\", \"value of answer2.encoding.x['shorthand'] is not correct\"\n",
    "assert sha1(str(answer2.encoding.x['shorthand']).encode(\"utf-8\")+b\"657c3320bc004107\").hexdigest() == \"f21d8c317de6ffbc4cbefe97110f8e776245666f\", \"correct string value of answer2.encoding.x['shorthand'] but incorrect case of letters\"\n",
    "\n",
    "assert sha1(str(type(answer2.encoding.y['shorthand'])).encode(\"utf-8\")+b\"98940bff5b6ff96a\").hexdigest() == \"c1a41d3cb35333c611d5b5548cc46937fb073b02\", \"type of answer2.encoding.y['shorthand'] is not str. answer2.encoding.y['shorthand'] should be an str\"\n",
    "assert sha1(str(len(answer2.encoding.y['shorthand'])).encode(\"utf-8\")+b\"98940bff5b6ff96a\").hexdigest() == \"50c760e0ad77b0fb0ecebbcf32232950f66eee08\", \"length of answer2.encoding.y['shorthand'] is not correct\"\n",
    "assert sha1(str(answer2.encoding.y['shorthand'].lower()).encode(\"utf-8\")+b\"98940bff5b6ff96a\").hexdigest() == \"5dd959e2e97d5af35936e7643d9102a1b58f3e97\", \"value of answer2.encoding.y['shorthand'] is not correct\"\n",
    "assert sha1(str(answer2.encoding.y['shorthand']).encode(\"utf-8\")+b\"98940bff5b6ff96a\").hexdigest() == \"5dd959e2e97d5af35936e7643d9102a1b58f3e97\", \"correct string value of answer2.encoding.y['shorthand'] but incorrect case of letters\"\n",
    "\n",
    "assert sha1(str(type(answer2.mark)).encode(\"utf-8\")+b\"9e33ce4a7576a292\").hexdigest() == \"8287005147cef23a3743f956fcf1ccf5264c8574\", \"type of answer2.mark is not str. answer2.mark should be an str\"\n",
    "assert sha1(str(len(answer2.mark)).encode(\"utf-8\")+b\"9e33ce4a7576a292\").hexdigest() == \"148219deccbbc4e53c0ece766bccb25dda310dfa\", \"length of answer2.mark is not correct\"\n",
    "assert sha1(str(answer2.mark.lower()).encode(\"utf-8\")+b\"9e33ce4a7576a292\").hexdigest() == \"cbf996ac142b621b9b03d9328609fbb4545ba885\", \"value of answer2.mark is not correct\"\n",
    "assert sha1(str(answer2.mark).encode(\"utf-8\")+b\"9e33ce4a7576a292\").hexdigest() == \"cbf996ac142b621b9b03d9328609fbb4545ba885\", \"correct string value of answer2.mark but incorrect case of letters\"\n",
    "\n",
    "assert sha1(str(type(isinstance(answer2.encoding.x['title'], str))).encode(\"utf-8\")+b\"22386c59f78906ab\").hexdigest() == \"1de06adf9be410c8f5d1cb52cd3aa0d52c8fb163\", \"type of isinstance(answer2.encoding.x['title'], str) is not bool. isinstance(answer2.encoding.x['title'], str) should be a bool\"\n",
    "assert sha1(str(isinstance(answer2.encoding.x['title'], str)).encode(\"utf-8\")+b\"22386c59f78906ab\").hexdigest() == \"d5dda34958f84bcd926cfdd3e2dd448ec6598128\", \"boolean value of isinstance(answer2.encoding.x['title'], str) is not correct\"\n",
    "\n",
    "assert sha1(str(type(isinstance(answer2.encoding.y['title'], str))).encode(\"utf-8\")+b\"570f460d695fb714\").hexdigest() == \"5e1f2c1e6f29ce962a2af7b6b9b8bbc9e1a7046c\", \"type of isinstance(answer2.encoding.y['title'], str) is not bool. isinstance(answer2.encoding.y['title'], str) should be a bool\"\n",
    "assert sha1(str(isinstance(answer2.encoding.y['title'], str)).encode(\"utf-8\")+b\"570f460d695fb714\").hexdigest() == \"9432f1dd1e8bbb0eadaabb18aa03a635527b87c1\", \"boolean value of isinstance(answer2.encoding.y['title'], str) is not correct\"\n",
    "\n",
    "print('Success!')"
   ]
  },
  {
   "cell_type": "markdown",
   "metadata": {
    "deletable": false,
    "editable": false,
    "nbgrader": {
     "cell_type": "markdown",
     "checksum": "14adf10f016a98d409cb390184406bf1",
     "grade": false,
     "grade_id": "cell-cbe9f9a5c4b7c264",
     "locked": true,
     "schema_version": 3,
     "solution": false
    }
   },
   "source": [
    "**Question 3.0**\n",
    "<br> {points: 1}\n",
    "\n",
    "Suppose we want to predict the race time for someone who ran a maximum distance of 100 miles per week during training. In the chart we created in the previous question, we can see that no one has run a maximum distance of exactly 100 miles per week. How can we predict with this data? We can use $k$-nn regression! To do this we get the $Y$ values (target/response variable) of the nearest $k$ values and then take their average and use that as the prediction. \n",
    "\n",
    "For this question perform $k$-nn regression manually to predict the race time based on the average value of the 4 runners (\"neighbors\") closest to running 100 miles per week during training.\n",
    "\n",
    "*Fill in the scaffolding below and assign your answer to an object named `answer3`.*"
   ]
  },
  {
   "cell_type": "code",
   "execution_count": null,
   "metadata": {
    "deletable": false,
    "editable": false,
    "nbgrader": {
     "cell_type": "code",
     "checksum": "1b7ba4c5feb2b757a6defcb9e3d57969",
     "grade": false,
     "grade_id": "cell-51d4b16bee915d31",
     "locked": true,
     "schema_version": 3,
     "solution": false,
     "task": false
    }
   },
   "outputs": [],
   "source": [
    "# Run this cell to see a visualization of the 4 nearest neighbours to 100 miles / week\n",
    "\n",
    "rule = alt.Chart().mark_rule().encode(x=alt.datum(100))\n",
    "\n",
    "lines = alt.Chart(\n",
    "    pd.DataFrame({\n",
    "        \"x\": [110, 104, 90, 86],\n",
    "        \"y\": [2.63, 2.8, 3.27, 2.44]\n",
    "    })\n",
    ").mark_line(color=\"orange\", size=2).encode(\n",
    "    x=\"x\",\n",
    "    x2=alt.datum(100),  # we use `x2` to set a constant second x-coordinate at 100 for all the lines\n",
    "    y=\"y\",\n",
    ")\n",
    "\n",
    "lines + rule + answer2"
   ]
  },
  {
   "cell_type": "code",
   "execution_count": null,
   "metadata": {
    "deletable": false,
    "nbgrader": {
     "cell_type": "code",
     "checksum": "86d5852fe651b81170219fd15540a341",
     "grade": false,
     "grade_id": "cell-a8d1b15c312d9c3d",
     "locked": false,
     "schema_version": 3,
     "solution": true
    }
   },
   "outputs": [],
   "source": [
    "# ___ = (\n",
    "#     marathon_50\n",
    "#     .___(diff=(100 - ___).abs())  # Compute the absolute distance to 100 miles for each runner\n",
    "#     .___(4, ___)\n",
    "#     [___]\n",
    "#     .mean()\n",
    "# )\n",
    "\n",
    "# your code here\n",
    "raise NotImplementedError\n",
    "answer3"
   ]
  },
  {
   "cell_type": "code",
   "execution_count": null,
   "metadata": {
    "deletable": false,
    "editable": false,
    "nbgrader": {
     "cell_type": "code",
     "checksum": "8691839517bbe6761161d7661ddbb93f",
     "grade": true,
     "grade_id": "cell-af7afd4794001c7b",
     "locked": true,
     "points": 1,
     "schema_version": 3,
     "solution": false
    }
   },
   "outputs": [],
   "source": [
    "from hashlib import sha1\n",
    "assert sha1(str(type(answer3)).encode(\"utf-8\")+b\"defe2b316e0fca52\").hexdigest() == \"4490f21cadd48d0f86f0acda228810eede63c085\", \"type of answer3 is not correct\"\n",
    "assert sha1(str(answer3).encode(\"utf-8\")+b\"defe2b316e0fca52\").hexdigest() == \"dda5b24b8d9144aa9ec121227998313a022648f4\", \"value of answer3 is not correct\"\n",
    "\n",
    "print('Success!')"
   ]
  },
  {
   "cell_type": "markdown",
   "metadata": {
    "deletable": false,
    "editable": false,
    "nbgrader": {
     "cell_type": "markdown",
     "checksum": "b1f9aa206f133969fcff7bf2009bbd0e",
     "grade": false,
     "grade_id": "cell-0c2107e7f52efb3d",
     "locked": true,
     "schema_version": 3,
     "solution": false,
     "task": false
    }
   },
   "source": [
    "**Question 4.0**\n",
    "<br> {points: 1}\n",
    "\n",
    "For this question, let's instead predict the race time based on the 2 closest neighbors to the 100 miles per week during training.\n",
    "\n",
    "*Assign your answer to an object named `answer4`.*"
   ]
  },
  {
   "cell_type": "code",
   "execution_count": null,
   "metadata": {
    "deletable": false,
    "nbgrader": {
     "cell_type": "code",
     "checksum": "ddca56a9ac218b2e4309e74065c8a0f6",
     "grade": false,
     "grade_id": "cell-44994bbd299ff0d0",
     "locked": false,
     "schema_version": 3,
     "solution": true
    }
   },
   "outputs": [],
   "source": [
    "# your code here\n",
    "raise NotImplementedError\n",
    "answer4"
   ]
  },
  {
   "cell_type": "code",
   "execution_count": null,
   "metadata": {
    "deletable": false,
    "editable": false,
    "nbgrader": {
     "cell_type": "code",
     "checksum": "c7657d483e154a6cc0b0c3e6f3a182c7",
     "grade": true,
     "grade_id": "cell-690e322810064165",
     "locked": true,
     "points": 1,
     "schema_version": 3,
     "solution": false
    }
   },
   "outputs": [],
   "source": [
    "from hashlib import sha1\n",
    "assert sha1(str(type(answer4)).encode(\"utf-8\")+b\"a69c3804adae9c70\").hexdigest() == \"f3239daef6d23f8e0c4f589426b8a20bf403e0bd\", \"type of answer4 is not correct\"\n",
    "assert sha1(str(answer4).encode(\"utf-8\")+b\"a69c3804adae9c70\").hexdigest() == \"ed0b990774df1fe7494fc646252914cdc4323f6c\", \"value of answer4 is not correct\"\n",
    "\n",
    "print('Success!')"
   ]
  },
  {
   "cell_type": "markdown",
   "metadata": {
    "deletable": false,
    "editable": false,
    "nbgrader": {
     "cell_type": "markdown",
     "checksum": "a5edd599a336ceeb48bfe12280c7e05b",
     "grade": false,
     "grade_id": "cell-3311ba44befa3767",
     "locked": true,
     "schema_version": 3,
     "solution": false
    }
   },
   "source": [
    "**Question 5.0**\n",
    "<br> {points: 1}\n",
    "\n",
    "So far you have calculated the $k$ nearest neighbors predictions manually based on values of $k$ we have told you to use. However, last week we learned how to use a better method to choose the best $k$ for classification. \n",
    "\n",
    "Based on what you learned last week and what you have learned about $k$-nn regression so far this week, which method would you use to choose the $k$ (in the situation where we don't tell you which $k$ to use)?\n",
    "\n",
    "- A) Choose the $k$ that excludes most outliers\n",
    "- B) Choose the $k$ with the lowest training error\n",
    "- C) Choose the $k$ with the lowest cross-validation error\n",
    "- D) Choose the $k$ that includes the most data points\n",
    "- E) Choose the $k$ with the lowest testing error\n",
    "\n",
    "*Assign your answer to an object called `answer5`.  Make sure your answer is an uppercase letter and is surrounded by quotation marks (e.g. `\"F\"`).*"
   ]
  },
  {
   "cell_type": "code",
   "execution_count": null,
   "metadata": {
    "deletable": false,
    "nbgrader": {
     "cell_type": "code",
     "checksum": "a11647b32fa9749c8e9821e17be507a0",
     "grade": false,
     "grade_id": "cell-01b498d6b1415bf5",
     "locked": false,
     "schema_version": 3,
     "solution": true
    }
   },
   "outputs": [],
   "source": [
    "# your code here\n",
    "raise NotImplementedError\n",
    "answer5"
   ]
  },
  {
   "cell_type": "code",
   "execution_count": null,
   "metadata": {
    "deletable": false,
    "editable": false,
    "nbgrader": {
     "cell_type": "code",
     "checksum": "bb9fd3163ee5039acc3ee9295315dec8",
     "grade": true,
     "grade_id": "cell-7cbe965dbdb7228d",
     "locked": true,
     "points": 1,
     "schema_version": 3,
     "solution": false
    }
   },
   "outputs": [],
   "source": [
    "from hashlib import sha1\n",
    "assert sha1(str(type(answer5)).encode(\"utf-8\")+b\"1c9613baf5f39609\").hexdigest() == \"fa1f9a8ed8840fa52e5555485124a460478ae0f8\", \"type of answer5 is not str. answer5 should be an str\"\n",
    "assert sha1(str(len(answer5)).encode(\"utf-8\")+b\"1c9613baf5f39609\").hexdigest() == \"9e2d1493458b958f35109a95183ecbe387728580\", \"length of answer5 is not correct\"\n",
    "assert sha1(str(answer5.lower()).encode(\"utf-8\")+b\"1c9613baf5f39609\").hexdigest() == \"79576c1ad29cdc32b7d6f24c616dd7d4231b6f33\", \"value of answer5 is not correct\"\n",
    "assert sha1(str(answer5).encode(\"utf-8\")+b\"1c9613baf5f39609\").hexdigest() == \"b9f1f3fea37e1916cf141c6b67fc102e71c177c7\", \"correct string value of answer5 but incorrect case of letters\"\n",
    "\n",
    "print('Success!')"
   ]
  },
  {
   "cell_type": "markdown",
   "metadata": {
    "deletable": false,
    "editable": false,
    "nbgrader": {
     "cell_type": "markdown",
     "checksum": "47f01e223f004b1f3c8ad26a8226b640",
     "grade": false,
     "grade_id": "cell-b3b34499fe540e49",
     "locked": true,
     "schema_version": 3,
     "solution": false
    }
   },
   "source": [
    "**Question 6.0**\n",
    "<br> {points: 1}\n",
    "\n",
    "We have just seen how to perform k-nn regression manually, now we will apply it to the whole dataset using the `scikit-learn` package. To do so, we will first need to create the training and test datasets. Split the data to use *75%* as your training set. Store the training data as `marathon_training` and the test set as `marathon_testing`. Remember we won't touch the test dataset until the end. \n",
    "\n",
    "Next, set the `time_hrs` column as the target (y) and `max` column as the input feature (X). Store the features as `X_train` and `X_test` and targets as `y_train` and `y_test` respectively for the `marathon_training` and `marathon_testing`. Remember that it is easier to work with input features as a data frame rather than a series, so make sure to extract the single input feature as a data frame by passing the column name inside a list.\n",
    "\n",
    "*Assign your answers to objects named `marathon_training`, `marathon_testing`, `X_train`, `y_train`, `X_test`, and `y_test`.*"
   ]
  },
  {
   "cell_type": "code",
   "execution_count": null,
   "metadata": {
    "deletable": false,
    "nbgrader": {
     "cell_type": "code",
     "checksum": "a8490ade5d5c9723dbb01fbd6c3d9114",
     "grade": false,
     "grade_id": "cell-8257a9338314019e",
     "locked": false,
     "schema_version": 3,
     "solution": true
    }
   },
   "outputs": [],
   "source": [
    "# ___, ___ = train_test_split(\n",
    "#     ___,\n",
    "#     test_size=___,\n",
    "#     random_state=2000,  # Do not change the random_state\n",
    "# )\n",
    "# X_train = ___[___]  # A single column data frame\n",
    "# y_train = ___[___]  # A series\n",
    "\n",
    "# X_test = ___[___]  # A single column data frame\n",
    "# y_test = ___[___]  # A series\n",
    "\n",
    "# your code here\n",
    "raise NotImplementedError"
   ]
  },
  {
   "cell_type": "code",
   "execution_count": null,
   "metadata": {
    "deletable": false,
    "editable": false,
    "nbgrader": {
     "cell_type": "code",
     "checksum": "df2003be0e9b380c2d0c150f130d5a81",
     "grade": true,
     "grade_id": "cell-381c8aeacf15fd35",
     "locked": true,
     "points": 1,
     "schema_version": 3,
     "solution": false
    }
   },
   "outputs": [],
   "source": [
    "from hashlib import sha1\n",
    "assert sha1(str(type(marathon_training is None)).encode(\"utf-8\")+b\"fc1d3d9a2b801869\").hexdigest() == \"3e1431d90218453a53a6157960c5e11eea42b809\", \"type of marathon_training is None is not bool. marathon_training is None should be a bool\"\n",
    "assert sha1(str(marathon_training is None).encode(\"utf-8\")+b\"fc1d3d9a2b801869\").hexdigest() == \"6611c0a258d0e02f4b996edc49c43a8a99f6b1a5\", \"boolean value of marathon_training is None is not correct\"\n",
    "\n",
    "assert sha1(str(type(marathon_training.shape)).encode(\"utf-8\")+b\"36a09489f9e1d49c\").hexdigest() == \"479c4d76600f2f982d4a937099b48366c68e0d7e\", \"type of marathon_training.shape is not tuple. marathon_training.shape should be a tuple\"\n",
    "assert sha1(str(len(marathon_training.shape)).encode(\"utf-8\")+b\"36a09489f9e1d49c\").hexdigest() == \"d0684106253384774f3dd95d8f948b480ad41e2c\", \"length of marathon_training.shape is not correct\"\n",
    "assert sha1(str(sorted(map(str, marathon_training.shape))).encode(\"utf-8\")+b\"36a09489f9e1d49c\").hexdigest() == \"3c4aa6a520f5af10dbc3955717f56c2c585bd70a\", \"values of marathon_training.shape are not correct\"\n",
    "assert sha1(str(marathon_training.shape).encode(\"utf-8\")+b\"36a09489f9e1d49c\").hexdigest() == \"283ceb1da988f5b5dac4cac66db95873046ed4da\", \"order of elements of marathon_training.shape is not correct\"\n",
    "\n",
    "assert sha1(str(type(sum(marathon_training.age))).encode(\"utf-8\")+b\"d7154d577117f377\").hexdigest() == \"23ed230bbbf213d7f1febf0344145da1aa8a2463\", \"type of sum(marathon_training.age) is not int. Please make sure it is int and not np.int64, etc. You can cast your value into an int using int()\"\n",
    "assert sha1(str(sum(marathon_training.age)).encode(\"utf-8\")+b\"d7154d577117f377\").hexdigest() == \"0ebb345959497e38ef511f25f951c2bb7d4cb87f\", \"value of sum(marathon_training.age) is not correct\"\n",
    "\n",
    "assert sha1(str(type(marathon_testing is None)).encode(\"utf-8\")+b\"854ed42a1d37895e\").hexdigest() == \"d49a3989842f1752af2e6151bb7242141e6ad2ea\", \"type of marathon_testing is None is not bool. marathon_testing is None should be a bool\"\n",
    "assert sha1(str(marathon_testing is None).encode(\"utf-8\")+b\"854ed42a1d37895e\").hexdigest() == \"ed14f037a0306f0a4bbc9711410a7f09b1b30b75\", \"boolean value of marathon_testing is None is not correct\"\n",
    "\n",
    "assert sha1(str(type(marathon_testing.shape)).encode(\"utf-8\")+b\"ae9607678ae6f19d\").hexdigest() == \"2df9a398bc8e56b6bee75eace3cb7fe3fca4cc95\", \"type of marathon_testing.shape is not tuple. marathon_testing.shape should be a tuple\"\n",
    "assert sha1(str(len(marathon_testing.shape)).encode(\"utf-8\")+b\"ae9607678ae6f19d\").hexdigest() == \"cb7012b0ad93607a09bf7eaffe1c5f3e1965e0cf\", \"length of marathon_testing.shape is not correct\"\n",
    "assert sha1(str(sorted(map(str, marathon_testing.shape))).encode(\"utf-8\")+b\"ae9607678ae6f19d\").hexdigest() == \"1f1bc9e67f0b366af630b554578feaeaa2ada1d2\", \"values of marathon_testing.shape are not correct\"\n",
    "assert sha1(str(marathon_testing.shape).encode(\"utf-8\")+b\"ae9607678ae6f19d\").hexdigest() == \"ba6340b0a81af69fe4e0f4ee4bb1eca0fa5b7f31\", \"order of elements of marathon_testing.shape is not correct\"\n",
    "\n",
    "assert sha1(str(type(sum(marathon_testing.age))).encode(\"utf-8\")+b\"57572699fe2f75c4\").hexdigest() == \"576cc7ca85b86be89066f37c182b17e4ee11d043\", \"type of sum(marathon_testing.age) is not int. Please make sure it is int and not np.int64, etc. You can cast your value into an int using int()\"\n",
    "assert sha1(str(sum(marathon_testing.age)).encode(\"utf-8\")+b\"57572699fe2f75c4\").hexdigest() == \"fb2c4694ac9511354d2fd9a4256f0b5ec62fba9a\", \"value of sum(marathon_testing.age) is not correct\"\n",
    "\n",
    "assert sha1(str(type(X_train.columns.values)).encode(\"utf-8\")+b\"e8a2d7d3dbab4997\").hexdigest() == \"c5d7241932d24001ee14da12c0d759e96db5e3b2\", \"type of X_train.columns.values is not correct\"\n",
    "assert sha1(str(X_train.columns.values).encode(\"utf-8\")+b\"e8a2d7d3dbab4997\").hexdigest() == \"2f464af222d185d3fa3b996378f7844b59b93362\", \"value of X_train.columns.values is not correct\"\n",
    "\n",
    "assert sha1(str(type(X_train.shape)).encode(\"utf-8\")+b\"0fdfd1a04515a598\").hexdigest() == \"2407d80ab036950624c881a1c3338bcf4374def0\", \"type of X_train.shape is not tuple. X_train.shape should be a tuple\"\n",
    "assert sha1(str(len(X_train.shape)).encode(\"utf-8\")+b\"0fdfd1a04515a598\").hexdigest() == \"a7db81bbbf3d7be6a8e97fb80116c243276b5507\", \"length of X_train.shape is not correct\"\n",
    "assert sha1(str(sorted(map(str, X_train.shape))).encode(\"utf-8\")+b\"0fdfd1a04515a598\").hexdigest() == \"430ac65beb12ab223b73043b989577b009d8d6a2\", \"values of X_train.shape are not correct\"\n",
    "assert sha1(str(X_train.shape).encode(\"utf-8\")+b\"0fdfd1a04515a598\").hexdigest() == \"6ce58ce9e56d3a541ca05dc5ef89179d6f365495\", \"order of elements of X_train.shape is not correct\"\n",
    "\n",
    "assert sha1(str(type(y_train.name)).encode(\"utf-8\")+b\"de755ae3c626d6d3\").hexdigest() == \"22a8b62dc43bce8eb57280782c66d2ca69bcd5b9\", \"type of y_train.name is not str. y_train.name should be an str\"\n",
    "assert sha1(str(len(y_train.name)).encode(\"utf-8\")+b\"de755ae3c626d6d3\").hexdigest() == \"b9bb3026499eadddbb96128df21c9aea31403e4a\", \"length of y_train.name is not correct\"\n",
    "assert sha1(str(y_train.name.lower()).encode(\"utf-8\")+b\"de755ae3c626d6d3\").hexdigest() == \"18f54b7327b9cea7f689fe69367fc96062de7f4e\", \"value of y_train.name is not correct\"\n",
    "assert sha1(str(y_train.name).encode(\"utf-8\")+b\"de755ae3c626d6d3\").hexdigest() == \"18f54b7327b9cea7f689fe69367fc96062de7f4e\", \"correct string value of y_train.name but incorrect case of letters\"\n",
    "\n",
    "assert sha1(str(type(y_train.shape)).encode(\"utf-8\")+b\"0209335cdacf6325\").hexdigest() == \"297dad2a274c0da885e9eeeee9b8206833be2a72\", \"type of y_train.shape is not tuple. y_train.shape should be a tuple\"\n",
    "assert sha1(str(len(y_train.shape)).encode(\"utf-8\")+b\"0209335cdacf6325\").hexdigest() == \"676a59817ec161e26f2cb8c63e75e634e47ff311\", \"length of y_train.shape is not correct\"\n",
    "assert sha1(str(sorted(map(str, y_train.shape))).encode(\"utf-8\")+b\"0209335cdacf6325\").hexdigest() == \"2606816f6097d04e8d562099565bc67aaa2c80d8\", \"values of y_train.shape are not correct\"\n",
    "assert sha1(str(y_train.shape).encode(\"utf-8\")+b\"0209335cdacf6325\").hexdigest() == \"a89eb4479db7e16577309158a72fc9c261fdabb9\", \"order of elements of y_train.shape is not correct\"\n",
    "\n",
    "assert sha1(str(type(X_test.columns.values)).encode(\"utf-8\")+b\"ea9b7cad598d9c2a\").hexdigest() == \"1c8c849839ecace97c4337210aeb0fbeb5139e36\", \"type of X_test.columns.values is not correct\"\n",
    "assert sha1(str(X_test.columns.values).encode(\"utf-8\")+b\"ea9b7cad598d9c2a\").hexdigest() == \"3c6afdb934b7a034c9b6d950e0f612df50d6ed50\", \"value of X_test.columns.values is not correct\"\n",
    "\n",
    "assert sha1(str(type(X_test.shape)).encode(\"utf-8\")+b\"ff86e0954c0647f5\").hexdigest() == \"4fa965c4558f019254fb8d55467319c5ed912d5e\", \"type of X_test.shape is not tuple. X_test.shape should be a tuple\"\n",
    "assert sha1(str(len(X_test.shape)).encode(\"utf-8\")+b\"ff86e0954c0647f5\").hexdigest() == \"7487ed2213d26fd7f21f7d14aab74e8da4e532b6\", \"length of X_test.shape is not correct\"\n",
    "assert sha1(str(sorted(map(str, X_test.shape))).encode(\"utf-8\")+b\"ff86e0954c0647f5\").hexdigest() == \"96fde4d448bc9fad5b69c8c021080cb6b43c8a6d\", \"values of X_test.shape are not correct\"\n",
    "assert sha1(str(X_test.shape).encode(\"utf-8\")+b\"ff86e0954c0647f5\").hexdigest() == \"4606f79e022dd6d126cbdc574022a4f144ac4f1e\", \"order of elements of X_test.shape is not correct\"\n",
    "\n",
    "assert sha1(str(type(y_test.name)).encode(\"utf-8\")+b\"55775e4450ffcb88\").hexdigest() == \"6c2ab893c818a220747ebbf4bf36ed986f552241\", \"type of y_test.name is not str. y_test.name should be an str\"\n",
    "assert sha1(str(len(y_test.name)).encode(\"utf-8\")+b\"55775e4450ffcb88\").hexdigest() == \"9d4f7f0eaed1b81aa3b3a48a12abbddc4a0ac3fa\", \"length of y_test.name is not correct\"\n",
    "assert sha1(str(y_test.name.lower()).encode(\"utf-8\")+b\"55775e4450ffcb88\").hexdigest() == \"34356d87b34fbcf8eca8fd664c28fd3bee92f20b\", \"value of y_test.name is not correct\"\n",
    "assert sha1(str(y_test.name).encode(\"utf-8\")+b\"55775e4450ffcb88\").hexdigest() == \"34356d87b34fbcf8eca8fd664c28fd3bee92f20b\", \"correct string value of y_test.name but incorrect case of letters\"\n",
    "\n",
    "assert sha1(str(type(y_test.shape)).encode(\"utf-8\")+b\"a497c6263281c462\").hexdigest() == \"69189b472c9fa1a9e02f750a0afd7045f20a96e5\", \"type of y_test.shape is not tuple. y_test.shape should be a tuple\"\n",
    "assert sha1(str(len(y_test.shape)).encode(\"utf-8\")+b\"a497c6263281c462\").hexdigest() == \"b4f7eebdd68ea52b2f8e973e03fa4b77f715dbca\", \"length of y_test.shape is not correct\"\n",
    "assert sha1(str(sorted(map(str, y_test.shape))).encode(\"utf-8\")+b\"a497c6263281c462\").hexdigest() == \"57f7ca24c676ae52c99b391b10a3bd2f18e72429\", \"values of y_test.shape are not correct\"\n",
    "assert sha1(str(y_test.shape).encode(\"utf-8\")+b\"a497c6263281c462\").hexdigest() == \"ea04e3d9bf3296434316d972ab4904459bb1e523\", \"order of elements of y_test.shape is not correct\"\n",
    "\n",
    "print('Success!')"
   ]
  },
  {
   "cell_type": "markdown",
   "metadata": {
    "deletable": false,
    "editable": false,
    "nbgrader": {
     "cell_type": "markdown",
     "checksum": "4fd00f6a0b76b2844119efa7bd675c38",
     "grade": false,
     "grade_id": "cell-0c01c0b6cf4d8e91",
     "locked": true,
     "schema_version": 3,
     "solution": false,
     "task": false
    }
   },
   "source": [
    "**Question 7.0**\n",
    "<br> {points: 1}\n",
    "\n",
    "Next, we’ll use cross-validation on our **training data** to choose $k$. In $k$-nn classification, we used accuracy to see how well our predictions matched the true labels. In the context of $k$-nn *regression*, we will use RMSPE as the scoring instead. Interpreting the RMSPE value can be tricky but generally speaking, if the prediction values are very close to the true values, the RMSPE will be small. Conversely, if the prediction values are *not* very close to the true values, the RMSPE will be quite large. \n",
    "\n",
    "Let's perform a cross-validation and choose the optimal $k$!\n",
    "\n",
    "First, create a pipeline for $k$-nn. We are still using the $k$-nearest neighbours algorithm, and we will also use the `StandardScaler` to standardize the numerical values. Store your pipeline in an object called `marathon_pipe`. Finally, perform a cross-validation with 5 folds using the `cross_validate` function. Remember that since the `cross_validate` function always maximizes its \"score\", and here we're using RMSPE (lower is better!), we need to specify that we're using the *negative* RMSPE (`\"neg_root_mean_squared_error\"`).\n",
    "\n",
    "*Store the output of the cross validation as a data frame in an object called `marathon_cv`.*"
   ]
  },
  {
   "cell_type": "code",
   "execution_count": null,
   "metadata": {
    "deletable": false,
    "nbgrader": {
     "cell_type": "code",
     "checksum": "19be30edec8b71b3601d0b24ada2cbb2",
     "grade": false,
     "grade_id": "cell-766f1e094dd32efc",
     "locked": false,
     "schema_version": 3,
     "solution": true
    }
   },
   "outputs": [],
   "source": [
    "# ___ = make_pipeline(\n",
    "#     ___,\n",
    "#     ___,\n",
    "# )\n",
    "#\n",
    "# marathon_cv = pd.___(\n",
    "#     cross_validate(\n",
    "#         ___,\n",
    "#         ___,\n",
    "#         ___,\n",
    "#         scoring=___,\n",
    "#         return_train_score=True,\n",
    "#     )\n",
    "# )\n",
    "\n",
    "# your code here\n",
    "raise NotImplementedError\n",
    "marathon_cv"
   ]
  },
  {
   "cell_type": "code",
   "execution_count": null,
   "metadata": {
    "deletable": false,
    "editable": false,
    "nbgrader": {
     "cell_type": "code",
     "checksum": "4c08220d105940a7c0475ee2b6a0ede6",
     "grade": true,
     "grade_id": "cell-289bc7a299c4f482",
     "locked": true,
     "points": 1,
     "schema_version": 3,
     "solution": false
    }
   },
   "outputs": [],
   "source": [
    "from hashlib import sha1\n",
    "assert sha1(str(type(marathon_pipe is None)).encode(\"utf-8\")+b\"aaffbf8709db9b10\").hexdigest() == \"8e5d57ffff96b9220cb6638e12543f1e9af50442\", \"type of marathon_pipe is None is not bool. marathon_pipe is None should be a bool\"\n",
    "assert sha1(str(marathon_pipe is None).encode(\"utf-8\")+b\"aaffbf8709db9b10\").hexdigest() == \"f270b58f65030309951f6e8fa385992b61de3909\", \"boolean value of marathon_pipe is None is not correct\"\n",
    "\n",
    "assert sha1(str(type(marathon_pipe.steps[1][1].n_neighbors)).encode(\"utf-8\")+b\"be4770ff174ba0d5\").hexdigest() == \"7419fc0eb61e5f7d5211c7ca790f7eaa30b7fca4\", \"type of marathon_pipe.steps[1][1].n_neighbors is not int. Please make sure it is int and not np.int64, etc. You can cast your value into an int using int()\"\n",
    "assert sha1(str(marathon_pipe.steps[1][1].n_neighbors).encode(\"utf-8\")+b\"be4770ff174ba0d5\").hexdigest() == \"b7f2dce4ca133e0c7e884f2453eae5374e9c3071\", \"value of marathon_pipe.steps[1][1].n_neighbors is not correct\"\n",
    "\n",
    "assert sha1(str(type(marathon_pipe.steps[1][1].weights)).encode(\"utf-8\")+b\"7951a46b8bd81560\").hexdigest() == \"5e42210c0849a1bf0bf87d3feb6eac2c1d015456\", \"type of marathon_pipe.steps[1][1].weights is not str. marathon_pipe.steps[1][1].weights should be an str\"\n",
    "assert sha1(str(len(marathon_pipe.steps[1][1].weights)).encode(\"utf-8\")+b\"7951a46b8bd81560\").hexdigest() == \"1c11b18c5f5089198f1711fa648c357eb8e3ddeb\", \"length of marathon_pipe.steps[1][1].weights is not correct\"\n",
    "assert sha1(str(marathon_pipe.steps[1][1].weights.lower()).encode(\"utf-8\")+b\"7951a46b8bd81560\").hexdigest() == \"bb3b9acb3d9bfbed7d8828efd4cfaded26a41ced\", \"value of marathon_pipe.steps[1][1].weights is not correct\"\n",
    "assert sha1(str(marathon_pipe.steps[1][1].weights).encode(\"utf-8\")+b\"7951a46b8bd81560\").hexdigest() == \"bb3b9acb3d9bfbed7d8828efd4cfaded26a41ced\", \"correct string value of marathon_pipe.steps[1][1].weights but incorrect case of letters\"\n",
    "\n",
    "assert sha1(str(type(marathon_pipe.steps[0][1])).encode(\"utf-8\")+b\"c3f07082a4939953\").hexdigest() == \"c075a37cd66336a5b7afbb788d13076b2a92731d\", \"type of marathon_pipe.steps[0][1] is not correct\"\n",
    "assert sha1(str(marathon_pipe.steps[0][1]).encode(\"utf-8\")+b\"c3f07082a4939953\").hexdigest() == \"cfdaa883073873c2b186536daa3367448c5edb20\", \"value of marathon_pipe.steps[0][1] is not correct\"\n",
    "\n",
    "assert sha1(str(type(marathon_cv is None)).encode(\"utf-8\")+b\"662825e7fb698a23\").hexdigest() == \"655ff6b539fda269e1bd88ae473a135cdbd50117\", \"type of marathon_cv is None is not bool. marathon_cv is None should be a bool\"\n",
    "assert sha1(str(marathon_cv is None).encode(\"utf-8\")+b\"662825e7fb698a23\").hexdigest() == \"4740e7a1e54ed5c7a9f9f83556ff1fbf1c2d2e3f\", \"boolean value of marathon_cv is None is not correct\"\n",
    "\n",
    "assert sha1(str(type(len(marathon_cv['train_score']))).encode(\"utf-8\")+b\"593a02f9e1fd993a\").hexdigest() == \"0f8c7319144b65c8fd5464fc8772d254e2c2eeb5\", \"type of len(marathon_cv['train_score']) is not int. Please make sure it is int and not np.int64, etc. You can cast your value into an int using int()\"\n",
    "assert sha1(str(len(marathon_cv['train_score'])).encode(\"utf-8\")+b\"593a02f9e1fd993a\").hexdigest() == \"b01fd5d20d9d7409c63e6a184278519a57f15762\", \"value of len(marathon_cv['train_score']) is not correct\"\n",
    "\n",
    "assert sha1(str(type(sum(marathon_cv['train_score']))).encode(\"utf-8\")+b\"a30a40f91329648f\").hexdigest() == \"635bbdf6b87648a173d28d35d02bd29d6979c13b\", \"type of sum(marathon_cv['train_score']) is not float. Please make sure it is float and not np.float64, etc. You can cast your value into a float using float()\"\n",
    "assert sha1(str(round(sum(marathon_cv['train_score']), 2)).encode(\"utf-8\")+b\"a30a40f91329648f\").hexdigest() == \"e6fe0b1981175c58fc7cb462a4d32a2cbd716099\", \"value of sum(marathon_cv['train_score']) is not correct (rounded to 2 decimal places)\"\n",
    "\n",
    "assert sha1(str(type(sum(marathon_cv['test_score']))).encode(\"utf-8\")+b\"01955c47b7d7686e\").hexdigest() == \"8a7ac70b33c09ae5e088aa5ee8daeadc4b9ff2c7\", \"type of sum(marathon_cv['test_score']) is not float. Please make sure it is float and not np.float64, etc. You can cast your value into a float using float()\"\n",
    "assert sha1(str(round(sum(marathon_cv['test_score']), 2)).encode(\"utf-8\")+b\"01955c47b7d7686e\").hexdigest() == \"d956d3fb780393eff8b3ea2b84d127c8190aa271\", \"value of sum(marathon_cv['test_score']) is not correct (rounded to 2 decimal places)\"\n",
    "\n",
    "print('Success!')"
   ]
  },
  {
   "cell_type": "markdown",
   "metadata": {
    "deletable": false,
    "editable": false,
    "nbgrader": {
     "cell_type": "markdown",
     "checksum": "26a0c5f4ee389ac76334c430fb49d6ab",
     "grade": false,
     "grade_id": "cell-7cd5193eecc27c30",
     "locked": true,
     "schema_version": 3,
     "solution": false
    }
   },
   "source": [
    "**Question 8.0**\n",
    "<br> {points: 1}\n",
    "\n",
    "The major difference compared to other models from Chapters 6 and 7 is that we are running a *regression* rather than a *classification*. Using `KNeighborsRegressor` essentially tells `scikit-learn` that we need to use different metrics (`neg_root_mean_squared_error` rather than accuracy) for tuning and evaluation. \n",
    "\n",
    "Now, let's use the `neg_root_mean_squared_error` to find the best setting for $k$ from our model. Let's test 200 values of $k$. \n",
    "\n",
    "First, create a parameter grid called `param_grid` that contains values of range 1 to 200. \n",
    "\n",
    "Next, tune your model such that it tests all the values in `range(1, 201, 1)` using `GridSearchCV` function with `cv=5` and `n_jobs=-1` and save the tuned model as `marathon_tuned`. Finally, fit the tuned model to the training dataset and save the `cv_results_` in a dataframe. \n",
    "\n",
    "*Assign your answer to an object called `marathon_results`.*"
   ]
  },
  {
   "cell_type": "code",
   "execution_count": null,
   "metadata": {
    "deletable": false,
    "nbgrader": {
     "cell_type": "code",
     "checksum": "c31d761e4100b98b50b69cbec445cad9",
     "grade": false,
     "grade_id": "cell-8c7e7ded673d28ec",
     "locked": false,
     "schema_version": 3,
     "solution": true
    }
   },
   "outputs": [],
   "source": [
    "np.random.seed(2019) # DO NOT CHANGE\n",
    "\n",
    "# param_grid = _____\n",
    "# marathon_tuned = GridSearchCV(___, ___, ___, ___, ___)\n",
    "# marathon_results = pd.DataFrame(____.fit(____, ____).____) \n",
    "\n",
    "# your code here\n",
    "raise NotImplementedError\n",
    "marathon_results"
   ]
  },
  {
   "cell_type": "code",
   "execution_count": null,
   "metadata": {
    "deletable": false,
    "editable": false,
    "nbgrader": {
     "cell_type": "code",
     "checksum": "72e201254d72fa9a0b16520f88181f38",
     "grade": true,
     "grade_id": "cell-29d608ebfdd11366",
     "locked": true,
     "points": 1,
     "schema_version": 3,
     "solution": false
    }
   },
   "outputs": [],
   "source": [
    "from hashlib import sha1\n",
    "assert sha1(str(type(param_grid is None)).encode(\"utf-8\")+b\"22b02a2505d0df56\").hexdigest() == \"3e5647bd4d71e59e4085b896bb8ec46d8a2327d9\", \"type of param_grid is None is not bool. param_grid is None should be a bool\"\n",
    "assert sha1(str(param_grid is None).encode(\"utf-8\")+b\"22b02a2505d0df56\").hexdigest() == \"763d7bae3a5f9879311781f74a6a2d401dacef56\", \"boolean value of param_grid is None is not correct\"\n",
    "\n",
    "assert sha1(str(type(param_grid)).encode(\"utf-8\")+b\"7cfdaf023168fc24\").hexdigest() == \"83d95ae21d0b6a9473c8af8c92f81cfee69465c5\", \"type of type(param_grid) is not correct\"\n",
    "\n",
    "assert sha1(str(type(\"kneighborsregressor__n_neighbors\" in param_grid)).encode(\"utf-8\")+b\"ed06fc767dc0cfb5\").hexdigest() == \"fc2949d9a22b25728be1023e1323a3ff8644c559\", \"type of \\\"kneighborsregressor__n_neighbors\\\" in param_grid is not bool. \\\"kneighborsregressor__n_neighbors\\\" in param_grid should be a bool\"\n",
    "assert sha1(str(\"kneighborsregressor__n_neighbors\" in param_grid).encode(\"utf-8\")+b\"ed06fc767dc0cfb5\").hexdigest() == \"8ff8f1bd8ffdf4aa94200b303a83869d670945b1\", \"boolean value of \\\"kneighborsregressor__n_neighbors\\\" in param_grid is not correct\"\n",
    "\n",
    "assert sha1(str(type(sum(i for i in param_grid['kneighborsregressor__n_neighbors']))).encode(\"utf-8\")+b\"5edc685923868120\").hexdigest() == \"28d17f9f7846b1608623cf1de66a25bd17f0da55\", \"type of sum(i for i in param_grid['kneighborsregressor__n_neighbors']) is not int. Please make sure it is int and not np.int64, etc. You can cast your value into an int using int()\"\n",
    "assert sha1(str(sum(i for i in param_grid['kneighborsregressor__n_neighbors'])).encode(\"utf-8\")+b\"5edc685923868120\").hexdigest() == \"25fc33847b1c1429b1283419fad487833e3a7a65\", \"value of sum(i for i in param_grid['kneighborsregressor__n_neighbors']) is not correct\"\n",
    "\n",
    "assert sha1(str(type(marathon_tuned is None)).encode(\"utf-8\")+b\"bdd15ea64c652264\").hexdigest() == \"e0e9ff1276b834bc1fd2503ae9cdc353ff895526\", \"type of marathon_tuned is None is not bool. marathon_tuned is None should be a bool\"\n",
    "assert sha1(str(marathon_tuned is None).encode(\"utf-8\")+b\"bdd15ea64c652264\").hexdigest() == \"22375c9b09c6b6ac7d677523584d36811e98d67e\", \"boolean value of marathon_tuned is None is not correct\"\n",
    "\n",
    "assert sha1(str(type(marathon_tuned.n_splits_)).encode(\"utf-8\")+b\"fafcd59d2929cc3a\").hexdigest() == \"17dcb469c7d2eafd296dfc2ffc915b21ca8599c7\", \"type of marathon_tuned.n_splits_ is not int. Please make sure it is int and not np.int64, etc. You can cast your value into an int using int()\"\n",
    "assert sha1(str(marathon_tuned.n_splits_).encode(\"utf-8\")+b\"fafcd59d2929cc3a\").hexdigest() == \"eaa3f89adc6aa6d4453271bb4df8b2ac79b56778\", \"value of marathon_tuned.n_splits_ is not correct\"\n",
    "\n",
    "assert sha1(str(type(marathon_tuned.estimator[0])).encode(\"utf-8\")+b\"5cf75cd7d4494aa6\").hexdigest() == \"f60aafe298e94a07b2a5958c790caf702ce569a6\", \"type of marathon_tuned.estimator[0] is not correct\"\n",
    "assert sha1(str(marathon_tuned.estimator[0]).encode(\"utf-8\")+b\"5cf75cd7d4494aa6\").hexdigest() == \"4814981885d7b5db9add2ef0e139529884ed86c4\", \"value of marathon_tuned.estimator[0] is not correct\"\n",
    "\n",
    "assert sha1(str(type(marathon_tuned.estimator[1])).encode(\"utf-8\")+b\"b948249bea3ccab4\").hexdigest() == \"6b48bb64d68137456ab6526630eb6217c1732513\", \"type of marathon_tuned.estimator[1] is not correct\"\n",
    "assert sha1(str(marathon_tuned.estimator[1]).encode(\"utf-8\")+b\"b948249bea3ccab4\").hexdigest() == \"375b95d9c61101760e76e887342ffc964c1857a1\", \"value of marathon_tuned.estimator[1] is not correct\"\n",
    "\n",
    "assert sha1(str(type(marathon_tuned.param_grid == param_grid)).encode(\"utf-8\")+b\"2ae189e18364ba55\").hexdigest() == \"f4dba3dbd3b6a3c1704eef957453c637e1efebdd\", \"type of marathon_tuned.param_grid == param_grid is not bool. marathon_tuned.param_grid == param_grid should be a bool\"\n",
    "assert sha1(str(marathon_tuned.param_grid == param_grid).encode(\"utf-8\")+b\"2ae189e18364ba55\").hexdigest() == \"0c186fc48227ddb4b92819ada4f2e2169e9e1360\", \"boolean value of marathon_tuned.param_grid == param_grid is not correct\"\n",
    "\n",
    "assert sha1(str(type(marathon_results is None)).encode(\"utf-8\")+b\"50c6f3d71a32359e\").hexdigest() == \"12be43108e19d32bc26ce6a1650b8f2717b66c3c\", \"type of marathon_results is None is not bool. marathon_results is None should be a bool\"\n",
    "assert sha1(str(marathon_results is None).encode(\"utf-8\")+b\"50c6f3d71a32359e\").hexdigest() == \"99ddbd863e9f0c61965c2d5fc2ba277888c17db6\", \"boolean value of marathon_results is None is not correct\"\n",
    "\n",
    "assert sha1(str(type(marathon_results)).encode(\"utf-8\")+b\"cb4e490829d75b15\").hexdigest() == \"dd95eb4d10876de44f1de2e9fd6b05ccb8b14355\", \"type of type(marathon_results) is not correct\"\n",
    "\n",
    "assert sha1(str(type(marathon_results.shape)).encode(\"utf-8\")+b\"3522879ac4878b3f\").hexdigest() == \"36d33a6f8516e0a0ef4ef93a70999de4d4616a6a\", \"type of marathon_results.shape is not tuple. marathon_results.shape should be a tuple\"\n",
    "assert sha1(str(len(marathon_results.shape)).encode(\"utf-8\")+b\"3522879ac4878b3f\").hexdigest() == \"beb9438d354626be565ab9b5abc2f250f3736a29\", \"length of marathon_results.shape is not correct\"\n",
    "assert sha1(str(sorted(map(str, marathon_results.shape))).encode(\"utf-8\")+b\"3522879ac4878b3f\").hexdigest() == \"e9ee4881797891df014e3752a74cc31131d11700\", \"values of marathon_results.shape are not correct\"\n",
    "assert sha1(str(marathon_results.shape).encode(\"utf-8\")+b\"3522879ac4878b3f\").hexdigest() == \"1e64f9e17d65fd668c7af84ae40a031d36cc4944\", \"order of elements of marathon_results.shape is not correct\"\n",
    "\n",
    "assert sha1(str(type(sum(marathon_results.param_kneighborsregressor__n_neighbors))).encode(\"utf-8\")+b\"aef1fbeb1da70dfe\").hexdigest() == \"aec7bb370c84fb9dfc879984f4c9832f143caa2f\", \"type of sum(marathon_results.param_kneighborsregressor__n_neighbors) is not int. Please make sure it is int and not np.int64, etc. You can cast your value into an int using int()\"\n",
    "assert sha1(str(sum(marathon_results.param_kneighborsregressor__n_neighbors)).encode(\"utf-8\")+b\"aef1fbeb1da70dfe\").hexdigest() == \"e6e22590b05958c2b1727cf69e171ad6b60ea7e7\", \"value of sum(marathon_results.param_kneighborsregressor__n_neighbors) is not correct\"\n",
    "\n",
    "assert sha1(str(type(sum(marathon_results.mean_test_score))).encode(\"utf-8\")+b\"dcb6f55543a59b3e\").hexdigest() == \"24c342d321114bef651d11a52c555fe339f4be4f\", \"type of sum(marathon_results.mean_test_score) is not float. Please make sure it is float and not np.float64, etc. You can cast your value into a float using float()\"\n",
    "assert sha1(str(round(sum(marathon_results.mean_test_score), 2)).encode(\"utf-8\")+b\"dcb6f55543a59b3e\").hexdigest() == \"b729b0f7535c7613377426f64a0ed248bfa40a2f\", \"value of sum(marathon_results.mean_test_score) is not correct (rounded to 2 decimal places)\"\n",
    "\n",
    "assert sha1(str(type(sum(marathon_results.std_test_score))).encode(\"utf-8\")+b\"af4be61e6c39d546\").hexdigest() == \"9d6b4041bb3fa890c3fd788156ba974bc59b3b5c\", \"type of sum(marathon_results.std_test_score) is not float. Please make sure it is float and not np.float64, etc. You can cast your value into a float using float()\"\n",
    "assert sha1(str(round(sum(marathon_results.std_test_score), 2)).encode(\"utf-8\")+b\"af4be61e6c39d546\").hexdigest() == \"686ed5dc66d397a2b9972418d1db9b6a4f6288f1\", \"value of sum(marathon_results.std_test_score) is not correct (rounded to 2 decimal places)\"\n",
    "\n",
    "print('Success!')"
   ]
  },
  {
   "cell_type": "markdown",
   "metadata": {
    "deletable": false,
    "editable": false,
    "nbgrader": {
     "cell_type": "markdown",
     "checksum": "c7741d04bb74dbf6c518c14d4f9bccb0",
     "grade": false,
     "grade_id": "cell-35eaea9c384c5f6c",
     "locked": true,
     "schema_version": 3,
     "solution": false
    }
   },
   "source": [
    "**Question 8.1**\n",
    "<br> {points: 1}\n",
    "\n",
    "Great! Now find the number of neighbors that will serve as our best $k$ value by calling the `best_params_` attribute of the model `marathon_tuned`. Your answer should simply be a dictionary with one key-value pair. \n",
    "\n",
    "Also, find the score for the best model by calling the `best_score_` attribute of the model `marathon_tuned`. Make sure to convert the negative RMSPE score we used for cross-validation into a positive RMSPE score for reporting by using a `-` sign.\n",
    "\n",
    "*Assign your best parameters to an object called `marathon_min`, and assign your best RMSPE to an object called `marathon_best_RMSPE`.* \n"
   ]
  },
  {
   "cell_type": "code",
   "execution_count": null,
   "metadata": {
    "deletable": false,
    "nbgrader": {
     "cell_type": "code",
     "checksum": "d86b5cdee75a41caa88010256f2c42ef",
     "grade": false,
     "grade_id": "cell-f9738d45da9e8a77",
     "locked": false,
     "schema_version": 3,
     "solution": true
    }
   },
   "outputs": [],
   "source": [
    "# ___ = ___.best_params_\n",
    "# ___ = -___.best_score_\n",
    "\n",
    "# your code here\n",
    "raise NotImplementedError\n",
    "marathon_min"
   ]
  },
  {
   "cell_type": "code",
   "execution_count": null,
   "metadata": {
    "deletable": false,
    "editable": false,
    "nbgrader": {
     "cell_type": "code",
     "checksum": "17e17fc4f3ff2afda441dfc373e22a4e",
     "grade": false,
     "grade_id": "cell-b0dd9e2eb4743bab",
     "locked": true,
     "schema_version": 3,
     "solution": false,
     "task": false
    }
   },
   "outputs": [],
   "source": [
    "marathon_best_RMSPE"
   ]
  },
  {
   "cell_type": "code",
   "execution_count": null,
   "metadata": {
    "deletable": false,
    "editable": false,
    "nbgrader": {
     "cell_type": "code",
     "checksum": "79f8fd411aed87929eb64eedd5a890f9",
     "grade": true,
     "grade_id": "cell-a1e34e1fb62d79f5",
     "locked": true,
     "points": 1,
     "schema_version": 3,
     "solution": false
    }
   },
   "outputs": [],
   "source": [
    "from hashlib import sha1\n",
    "assert sha1(str(type(marathon_min is None)).encode(\"utf-8\")+b\"4b82af5286fbf8f0\").hexdigest() == \"6147b0997c260b254b6130f96c9686ed7c83dd64\", \"type of marathon_min is None is not bool. marathon_min is None should be a bool\"\n",
    "assert sha1(str(marathon_min is None).encode(\"utf-8\")+b\"4b82af5286fbf8f0\").hexdigest() == \"dff1b9ffb71232136eecd0c264d59f6d47f77023\", \"boolean value of marathon_min is None is not correct\"\n",
    "\n",
    "assert sha1(str(type(marathon_min)).encode(\"utf-8\")+b\"9ed304f900fa24e2\").hexdigest() == \"f0c764fa1613e01776dc07443edaba3c81a6239e\", \"type of type(marathon_min) is not correct\"\n",
    "\n",
    "assert sha1(str(type(marathon_min)).encode(\"utf-8\")+b\"3ba1e3861c57e2d1\").hexdigest() == \"60969e193f2c9fb52a9b090047093416cd4a3534\", \"type of marathon_min is not dict. marathon_min should be a dict\"\n",
    "assert sha1(str(len(list(marathon_min.keys()))).encode(\"utf-8\")+b\"3ba1e3861c57e2d1\").hexdigest() == \"daded4d00f685f2f687e2a313ba96694dba49bf1\", \"number of keys of marathon_min is not correct\"\n",
    "assert sha1(str(sorted(map(str, marathon_min.keys()))).encode(\"utf-8\")+b\"3ba1e3861c57e2d1\").hexdigest() == \"5ec859c8e6d443aefbc93df4f7da25c8d06ca108\", \"keys of marathon_min are not correct\"\n",
    "assert sha1(str(sorted(map(str, marathon_min.values()))).encode(\"utf-8\")+b\"3ba1e3861c57e2d1\").hexdigest() == \"2e412fec690e8b9ba18a1e362a82167ca6d28556\", \"correct keys, but values of marathon_min are not correct\"\n",
    "assert sha1(str(marathon_min).encode(\"utf-8\")+b\"3ba1e3861c57e2d1\").hexdigest() == \"5a88aad60d0d1d58c155273ee0e6f3dc367438ec\", \"correct keys and values, but incorrect correspondence in keys and values of marathon_min\"\n",
    "\n",
    "assert sha1(str(type(marathon_best_RMSPE is None)).encode(\"utf-8\")+b\"1965ed4a84af25ac\").hexdigest() == \"185ea7e29665c7eef0273486a925874172a50353\", \"type of marathon_best_RMSPE is None is not bool. marathon_best_RMSPE is None should be a bool\"\n",
    "assert sha1(str(marathon_best_RMSPE is None).encode(\"utf-8\")+b\"1965ed4a84af25ac\").hexdigest() == \"45ec4d2bf0ccf66b8c4ef84a912e22e1a15938ff\", \"boolean value of marathon_best_RMSPE is None is not correct\"\n",
    "\n",
    "assert sha1(str(type(marathon_best_RMSPE)).encode(\"utf-8\")+b\"af57ccc33b7fca82\").hexdigest() == \"b027beab8fe22947aac3809bbfe6f56f5c408ecb\", \"type of marathon_best_RMSPE is not correct\"\n",
    "assert sha1(str(marathon_best_RMSPE).encode(\"utf-8\")+b\"af57ccc33b7fca82\").hexdigest() == \"e8026acdc7c1ff02f9aa1ac3d9279e723a023911\", \"value of marathon_best_RMSPE is not correct\"\n",
    "\n",
    "print('Success!')"
   ]
  },
  {
   "cell_type": "markdown",
   "metadata": {
    "deletable": false,
    "editable": false,
    "nbgrader": {
     "cell_type": "markdown",
     "checksum": "aa8abd5ef20ec9ab38ae4d8705bd15c7",
     "grade": false,
     "grade_id": "cell-28a414eb59f5ae20",
     "locked": true,
     "schema_version": 3,
     "solution": false
    }
   },
   "source": [
    "**Question 8.2**\n",
    "<br> {points: 1}\n",
    "\n",
    "To assess how well our model might do at predicting on unseen data, we will assess its RMSPE on the test data.\n",
    "\n",
    "We will use the predict function to make predictions on the test data and store the predictions `marathon_prediction`. Remember that `GridSearchCV` automatically refits the model with the best found parameters, so you can use the `predict` method of the `marathon_tuned` variable for this step.\n",
    "\n",
    "Finally, we will compute the RMSPE on the test data using the `mean_squared_error` function. Don't forget to take the square root to obtain the RMSPE!\n",
    "\n",
    "*Note: `scikit-learn` also has a `score` function for the `KNeighborsRegressor`. The `score` function returns the coefficient of determination (often called $R^2$) of the fit, not the RMSPE.*\n",
    "\n",
    "\n",
    "*Assign your answer in an object called `marathon_summary`.*\n"
   ]
  },
  {
   "cell_type": "code",
   "execution_count": null,
   "metadata": {
    "deletable": false,
    "nbgrader": {
     "cell_type": "code",
     "checksum": "231e9a9aad23a5fac955ed2a8287ebbf",
     "grade": false,
     "grade_id": "cell-a4de6046a0bd5f96",
     "locked": false,
     "schema_version": 3,
     "solution": true
    }
   },
   "outputs": [],
   "source": [
    "np.random.seed(1234) # DO NOT CHANGE\n",
    "\n",
    "# ___ = ___.___(___)\n",
    "# ___ = mean_squared_error(___, ___)**(1/2)\n",
    "\n",
    "\n",
    "# your code here\n",
    "raise NotImplementedError\n",
    "marathon_summary"
   ]
  },
  {
   "cell_type": "code",
   "execution_count": null,
   "metadata": {
    "deletable": false,
    "editable": false,
    "nbgrader": {
     "cell_type": "code",
     "checksum": "0f537c8969ceaa133ba3ea9992fabd69",
     "grade": true,
     "grade_id": "cell-94fab75dca459b65",
     "locked": true,
     "points": 1,
     "schema_version": 3,
     "solution": false
    }
   },
   "outputs": [],
   "source": [
    "from hashlib import sha1\n",
    "assert sha1(str(type(marathon_prediction is None)).encode(\"utf-8\")+b\"f280743436881ea8\").hexdigest() == \"9787213bcfe527b6cadc71500d3985e9d3e5b00f\", \"type of marathon_prediction is None is not bool. marathon_prediction is None should be a bool\"\n",
    "assert sha1(str(marathon_prediction is None).encode(\"utf-8\")+b\"f280743436881ea8\").hexdigest() == \"6ccf7a3de14ae7b97fd55965e9dd92b693014388\", \"boolean value of marathon_prediction is None is not correct\"\n",
    "\n",
    "assert sha1(str(type(marathon_prediction)).encode(\"utf-8\")+b\"995ff3380eb6fba2\").hexdigest() == \"5483fc6ead8c251f0f5c2a25753dc6419d80166c\", \"type of type(marathon_prediction) is not correct\"\n",
    "\n",
    "assert sha1(str(type(marathon_prediction.sum())).encode(\"utf-8\")+b\"b5ddb2a80e2db433\").hexdigest() == \"e319f76acd970c37742c1449e2ed3e7688905319\", \"type of marathon_prediction.sum() is not correct\"\n",
    "assert sha1(str(marathon_prediction.sum()).encode(\"utf-8\")+b\"b5ddb2a80e2db433\").hexdigest() == \"b6235de031e4c7f96f97b56bdc83ef60bfbda293\", \"value of marathon_prediction.sum() is not correct\"\n",
    "\n",
    "assert sha1(str(type(marathon_summary is None)).encode(\"utf-8\")+b\"cc61fce5b8cf2626\").hexdigest() == \"c9d8dde054c37aaa006a89171f41d3f698a395ae\", \"type of marathon_summary is None is not bool. marathon_summary is None should be a bool\"\n",
    "assert sha1(str(marathon_summary is None).encode(\"utf-8\")+b\"cc61fce5b8cf2626\").hexdigest() == \"9def28d45ce107ee3f09e309621e1282722b9533\", \"boolean value of marathon_summary is None is not correct\"\n",
    "\n",
    "assert sha1(str(type(marathon_summary)).encode(\"utf-8\")+b\"2587ff7bc7b7a1ab\").hexdigest() == \"ffabaf40164265a47478f3dd80e64c94f508777f\", \"type of marathon_summary is not correct\"\n",
    "assert sha1(str(marathon_summary).encode(\"utf-8\")+b\"2587ff7bc7b7a1ab\").hexdigest() == \"a2a8525a28c37eaac4c59a9e9b88900299dd529d\", \"value of marathon_summary is not correct\"\n",
    "\n",
    "print('Success!')"
   ]
  },
  {
   "cell_type": "markdown",
   "metadata": {
    "deletable": false,
    "editable": false,
    "nbgrader": {
     "cell_type": "markdown",
     "checksum": "916cfae57b2ffacb39d11610af802680",
     "grade": false,
     "grade_id": "cell-dffef3173aff9b72",
     "locked": true,
     "schema_version": 3,
     "solution": false,
     "task": false
    }
   },
   "source": [
    "What does this RMSPE mean? RMSPE is measured in the units of the target/response variable, so it can sometimes be a bit hard to interpret. In this case, we have a helpful reference to compare against: we know that a typical marathon race time is somewhere between 3 - 5 hours. So this model allows us to predict a runner's race time up to about +/-0.6 of an hour, or +/- 36 minutes. Relative the total race time, this margin of error is not *fantastic*, but not *terrible* either. We can certainly use the model to determine roughly whether an athlete will have a bad, good, or excellent race time, but probably cannot reliably distinguish between athletes of a similar caliber.\n",
    "\n",
    "For now, let’s consider this approach to thinking about RMSPE from our testing data set: as long as it's not significantly worse than the cross-validation RMSPE of our best model (**Question 8.1**), then we can say that we’re not doing too much worse on the test data than we did on the training data. In future courses on statistical/machine learning, you will learn more about how to interpret RMSPE from testing data and other ways to assess models.  "
   ]
  },
  {
   "cell_type": "markdown",
   "metadata": {
    "deletable": false,
    "editable": false,
    "nbgrader": {
     "cell_type": "markdown",
     "checksum": "7a897402fd703010fe30e1523087aac7",
     "grade": false,
     "grade_id": "cell-ed97bb769cc923e5",
     "locked": true,
     "schema_version": 3,
     "solution": false,
     "task": false
    }
   },
   "source": [
    "**Question 8.3**\n",
    "<br>{points: 1}\n",
    "\n",
    "The RMSPE from our testing data set is *much worse* than the cross-validation RMSPE of our best model. \n",
    "\n",
    "*Assign your answer to an object named `answer8_3`. Make sure your answer is either `True` or `False`.*"
   ]
  },
  {
   "cell_type": "code",
   "execution_count": null,
   "metadata": {
    "deletable": false,
    "nbgrader": {
     "cell_type": "code",
     "checksum": "26215e2be064314a108b179eedbf1505",
     "grade": false,
     "grade_id": "cell-24ccc13552b0fff1",
     "locked": false,
     "schema_version": 3,
     "solution": true,
     "task": false
    }
   },
   "outputs": [],
   "source": [
    "# your code here\n",
    "raise NotImplementedError"
   ]
  },
  {
   "cell_type": "code",
   "execution_count": null,
   "metadata": {
    "deletable": false,
    "editable": false,
    "nbgrader": {
     "cell_type": "code",
     "checksum": "40e4fb6caaf9c1cef9c6cfd64ef1fe46",
     "grade": true,
     "grade_id": "cell-f39ed1223c189ec6",
     "locked": true,
     "points": 1,
     "schema_version": 3,
     "solution": false,
     "task": false
    }
   },
   "outputs": [],
   "source": [
    "from hashlib import sha1\n",
    "assert sha1(str(type(answer8_3)).encode(\"utf-8\")+b\"b79932a953e6d239\").hexdigest() == \"9d1db5ebda1d1ac1279124d09609da9c0a6f85ea\", \"type of answer8_3 is not bool. answer8_3 should be a bool\"\n",
    "assert sha1(str(answer8_3).encode(\"utf-8\")+b\"b79932a953e6d239\").hexdigest() == \"367f4d64e830e1026cc239303f8f5c5122c64845\", \"boolean value of answer8_3 is not correct\"\n",
    "\n",
    "print('Success!')"
   ]
  },
  {
   "cell_type": "markdown",
   "metadata": {
    "deletable": false,
    "editable": false,
    "nbgrader": {
     "cell_type": "markdown",
     "checksum": "91c371815f8521c3f43e3f0bfe407f84",
     "grade": false,
     "grade_id": "cell-f527fba0cc1ca89d",
     "locked": true,
     "schema_version": 3,
     "solution": false
    }
   },
   "source": [
    "**Question 9.0**\n",
    "<br> {points: 1}\n",
    "\n",
    "Let's visualize what the relationship between `max` and `time_hrs` looks like with our best $k$ value to ultimately explore how the $k$ value affects $k$-nn regression.\n",
    "\n",
    "To do so, use the `predict` function on `marathon_tuned` to use the model with the best $K$ value to create predictions for the `marathon_training` data. Then, add the column of predictions to the `marathon_training` data frame using the `assign` function. Name the resulting data frame `marathon_preds` and the new column `predictions`.\n",
    "\n",
    "Next, create a scatterplot with the marathon time (y-axis) against the maximum distance run per week (x-axis) from `marathon_preds`. Use `mark_circle` with an opacity of 0.4 to avoid overplotting. Assign your plot to a variable called `marathon_plot`. **Plot the predictions as a black line over the data points.** Remember the fundamentals of effective visualizations such as having a human-readable axes titles. \n",
    "\n",
    "*Assign the data frame from the first part to a variable called `marathon_preds`, and the plot to a variable called `marathon_plot`.*"
   ]
  },
  {
   "cell_type": "code",
   "execution_count": null,
   "metadata": {
    "deletable": false,
    "nbgrader": {
     "cell_type": "code",
     "checksum": "e740adac0cff3905a99f571b55640aee",
     "grade": false,
     "grade_id": "cell-e623a65f902a7e98",
     "locked": false,
     "schema_version": 3,
     "solution": true
    }
   },
   "outputs": [],
   "source": [
    "np.random.seed(2019) # DO NOT CHANGE\n",
    "\n",
    "# marathon_preds = ____.assign(\n",
    "#     predictions= _____.predict(____)\n",
    "# )\n",
    "# marathon_plot = ___\n",
    "\n",
    "# your code here\n",
    "raise NotImplementedError\n",
    "marathon_plot"
   ]
  },
  {
   "cell_type": "code",
   "execution_count": null,
   "metadata": {
    "deletable": false,
    "editable": false,
    "nbgrader": {
     "cell_type": "code",
     "checksum": "e5c53ff604394ca7d9124ce6df52d120",
     "grade": true,
     "grade_id": "cell-5eff9c974a058bdf",
     "locked": true,
     "points": 1,
     "schema_version": 3,
     "solution": false
    }
   },
   "outputs": [],
   "source": [
    "from hashlib import sha1\n",
    "assert sha1(str(type(marathon_preds is None)).encode(\"utf-8\")+b\"ec50b4dd3a59f412\").hexdigest() == \"afb5e9102fb5de4099bd6455446128ffbd3031b7\", \"type of marathon_preds is None is not bool. marathon_preds is None should be a bool\"\n",
    "assert sha1(str(marathon_preds is None).encode(\"utf-8\")+b\"ec50b4dd3a59f412\").hexdigest() == \"51fa033a27a34d8ff181b0b3d57b5500513d6c9a\", \"boolean value of marathon_preds is None is not correct\"\n",
    "\n",
    "assert sha1(str(type(marathon_preds)).encode(\"utf-8\")+b\"89a2e89995a05a86\").hexdigest() == \"482828bd2c5d9c399fac6c1d29908f619b8de437\", \"type of type(marathon_preds) is not correct\"\n",
    "\n",
    "assert sha1(str(type(marathon_preds.shape)).encode(\"utf-8\")+b\"61d3eb3be0a95ac2\").hexdigest() == \"7816d81eb9d098df66b13436cd614207db175ce8\", \"type of marathon_preds.shape is not tuple. marathon_preds.shape should be a tuple\"\n",
    "assert sha1(str(len(marathon_preds.shape)).encode(\"utf-8\")+b\"61d3eb3be0a95ac2\").hexdigest() == \"5a8358b0e77b503d13ee896f0ba922f15cb6c78d\", \"length of marathon_preds.shape is not correct\"\n",
    "assert sha1(str(sorted(map(str, marathon_preds.shape))).encode(\"utf-8\")+b\"61d3eb3be0a95ac2\").hexdigest() == \"2e9e15b280340be1c945492365638cbb0a23b480\", \"values of marathon_preds.shape are not correct\"\n",
    "assert sha1(str(marathon_preds.shape).encode(\"utf-8\")+b\"61d3eb3be0a95ac2\").hexdigest() == \"42e402022724b354493fc50cd8d4cf84405cce92\", \"order of elements of marathon_preds.shape is not correct\"\n",
    "\n",
    "assert sha1(str(type(\"predictions\" in marathon_preds.columns)).encode(\"utf-8\")+b\"0d44d71f2f3eb093\").hexdigest() == \"7b1eb6ed9d664847ec941dcb5213baea763cb6f8\", \"type of \\\"predictions\\\" in marathon_preds.columns is not bool. \\\"predictions\\\" in marathon_preds.columns should be a bool\"\n",
    "assert sha1(str(\"predictions\" in marathon_preds.columns).encode(\"utf-8\")+b\"0d44d71f2f3eb093\").hexdigest() == \"cde956120fe09846c63668316d42d6c165b4ad59\", \"boolean value of \\\"predictions\\\" in marathon_preds.columns is not correct\"\n",
    "\n",
    "assert sha1(str(type(sum(marathon_preds.predictions))).encode(\"utf-8\")+b\"2f2192a607691aef\").hexdigest() == \"3c30ed1373142c3319e57e19f2d0fef4ba4a193a\", \"type of sum(marathon_preds.predictions) is not float. Please make sure it is float and not np.float64, etc. You can cast your value into a float using float()\"\n",
    "assert sha1(str(round(sum(marathon_preds.predictions), 2)).encode(\"utf-8\")+b\"2f2192a607691aef\").hexdigest() == \"df3e2d4fbdabee04201896c7c6e7b882331b2e6d\", \"value of sum(marathon_preds.predictions) is not correct (rounded to 2 decimal places)\"\n",
    "\n",
    "assert sha1(str(type(sum(marathon_preds.time_hrs))).encode(\"utf-8\")+b\"8c76bdacff38bcec\").hexdigest() == \"6ee9c8407e7bc5e185681d1928f6830aa6761ad2\", \"type of sum(marathon_preds.time_hrs) is not float. Please make sure it is float and not np.float64, etc. You can cast your value into a float using float()\"\n",
    "assert sha1(str(round(sum(marathon_preds.time_hrs), 2)).encode(\"utf-8\")+b\"8c76bdacff38bcec\").hexdigest() == \"b7d5588a59e90030913c1e1e2a644e79e10ca071\", \"value of sum(marathon_preds.time_hrs) is not correct (rounded to 2 decimal places)\"\n",
    "\n",
    "assert sha1(str(type(marathon_plot is None)).encode(\"utf-8\")+b\"cfc3e7613f96e21c\").hexdigest() == \"73396f2bcc647e7199096d83508b9d7d59645ccb\", \"type of marathon_plot is None is not bool. marathon_plot is None should be a bool\"\n",
    "assert sha1(str(marathon_plot is None).encode(\"utf-8\")+b\"cfc3e7613f96e21c\").hexdigest() == \"68e4bba3cd8bdef38c09b4473c128b43c95ced50\", \"boolean value of marathon_plot is None is not correct\"\n",
    "\n",
    "assert sha1(str(type(len(marathon_plot.layer))).encode(\"utf-8\")+b\"eebfafa6f6ec6beb\").hexdigest() == \"507e71f89b9f8aa4938c0aff0f1667056b9f7e4e\", \"type of len(marathon_plot.layer) is not int. Please make sure it is int and not np.int64, etc. You can cast your value into an int using int()\"\n",
    "assert sha1(str(len(marathon_plot.layer)).encode(\"utf-8\")+b\"eebfafa6f6ec6beb\").hexdigest() == \"b8d613da2a452071cb9b38459c6cbb6055237217\", \"value of len(marathon_plot.layer) is not correct\"\n",
    "\n",
    "assert sha1(str(type(marathon_plot.layer[0].mark)).encode(\"utf-8\")+b\"52795c8b3a084017\").hexdigest() == \"1ad2fc34698098d1e644e6287a124aef972cfcf8\", \"type of marathon_plot.layer[0].mark is not correct\"\n",
    "assert sha1(str(marathon_plot.layer[0].mark).encode(\"utf-8\")+b\"52795c8b3a084017\").hexdigest() == \"8dbb95be6a4347b9cf0c9d9ff9a9dd4bb349ce00\", \"value of marathon_plot.layer[0].mark is not correct\"\n",
    "\n",
    "assert sha1(str(type(marathon_plot.layer[1].mark)).encode(\"utf-8\")+b\"ac88fd9846b01044\").hexdigest() == \"83958030c43b58d1d2b81ed809c397fbb114b7d9\", \"type of marathon_plot.layer[1].mark is not correct\"\n",
    "assert sha1(str(marathon_plot.layer[1].mark).encode(\"utf-8\")+b\"ac88fd9846b01044\").hexdigest() == \"5c7fa257e30a3c4988a5d0f256e238d1eb906ae7\", \"value of marathon_plot.layer[1].mark is not correct\"\n",
    "\n",
    "assert sha1(str(type(marathon_plot.layer[0].encoding.x['shorthand'])).encode(\"utf-8\")+b\"70d762d88e18f6a2\").hexdigest() == \"63607add2b955b6ca3af2af89e9c296b083802f8\", \"type of marathon_plot.layer[0].encoding.x['shorthand'] is not str. marathon_plot.layer[0].encoding.x['shorthand'] should be an str\"\n",
    "assert sha1(str(len(marathon_plot.layer[0].encoding.x['shorthand'])).encode(\"utf-8\")+b\"70d762d88e18f6a2\").hexdigest() == \"c4cd379f549694f699acd695980db19e19e7a14c\", \"length of marathon_plot.layer[0].encoding.x['shorthand'] is not correct\"\n",
    "assert sha1(str(marathon_plot.layer[0].encoding.x['shorthand'].lower()).encode(\"utf-8\")+b\"70d762d88e18f6a2\").hexdigest() == \"151df7b98d28f95bd52ffc45583389486a83676c\", \"value of marathon_plot.layer[0].encoding.x['shorthand'] is not correct\"\n",
    "assert sha1(str(marathon_plot.layer[0].encoding.x['shorthand']).encode(\"utf-8\")+b\"70d762d88e18f6a2\").hexdigest() == \"151df7b98d28f95bd52ffc45583389486a83676c\", \"correct string value of marathon_plot.layer[0].encoding.x['shorthand'] but incorrect case of letters\"\n",
    "\n",
    "assert sha1(str(type(marathon_plot.layer[0].encoding.y['shorthand'])).encode(\"utf-8\")+b\"5d0b1891dd292b6e\").hexdigest() == \"5c25b5cba14cbc5fa8c3ccd373db04cbbd886f3a\", \"type of marathon_plot.layer[0].encoding.y['shorthand'] is not str. marathon_plot.layer[0].encoding.y['shorthand'] should be an str\"\n",
    "assert sha1(str(len(marathon_plot.layer[0].encoding.y['shorthand'])).encode(\"utf-8\")+b\"5d0b1891dd292b6e\").hexdigest() == \"ee111c198a692b2a3fa36003cfa2bc49be0e5b95\", \"length of marathon_plot.layer[0].encoding.y['shorthand'] is not correct\"\n",
    "assert sha1(str(marathon_plot.layer[0].encoding.y['shorthand'].lower()).encode(\"utf-8\")+b\"5d0b1891dd292b6e\").hexdigest() == \"22d37157702cf20d07a571421c4c4582503c2ced\", \"value of marathon_plot.layer[0].encoding.y['shorthand'] is not correct\"\n",
    "assert sha1(str(marathon_plot.layer[0].encoding.y['shorthand']).encode(\"utf-8\")+b\"5d0b1891dd292b6e\").hexdigest() == \"22d37157702cf20d07a571421c4c4582503c2ced\", \"correct string value of marathon_plot.layer[0].encoding.y['shorthand'] but incorrect case of letters\"\n",
    "\n",
    "assert sha1(str(type(marathon_plot.layer[1].encoding.y['shorthand'])).encode(\"utf-8\")+b\"12ac89a8ac9bf1f3\").hexdigest() == \"55c829fa5c99c6c2f0c0f2f67d56095d300f160c\", \"type of marathon_plot.layer[1].encoding.y['shorthand'] is not str. marathon_plot.layer[1].encoding.y['shorthand'] should be an str\"\n",
    "assert sha1(str(len(marathon_plot.layer[1].encoding.y['shorthand'])).encode(\"utf-8\")+b\"12ac89a8ac9bf1f3\").hexdigest() == \"b0d4c412976840b86a38d0c5979e615c5836d2f2\", \"length of marathon_plot.layer[1].encoding.y['shorthand'] is not correct\"\n",
    "assert sha1(str(marathon_plot.layer[1].encoding.y['shorthand'].lower()).encode(\"utf-8\")+b\"12ac89a8ac9bf1f3\").hexdigest() == \"02b09d24a850703afc1b31552d29f8791c30e5eb\", \"value of marathon_plot.layer[1].encoding.y['shorthand'] is not correct\"\n",
    "assert sha1(str(marathon_plot.layer[1].encoding.y['shorthand']).encode(\"utf-8\")+b\"12ac89a8ac9bf1f3\").hexdigest() == \"02b09d24a850703afc1b31552d29f8791c30e5eb\", \"correct string value of marathon_plot.layer[1].encoding.y['shorthand'] but incorrect case of letters\"\n",
    "\n",
    "assert sha1(str(type(isinstance(marathon_plot.layer[0].encoding.x['title'], str))).encode(\"utf-8\")+b\"0b5202bc56b3a4db\").hexdigest() == \"8c4893b4c0fe17313606ad245ef1b842a10d5282\", \"type of isinstance(marathon_plot.layer[0].encoding.x['title'], str) is not bool. isinstance(marathon_plot.layer[0].encoding.x['title'], str) should be a bool\"\n",
    "assert sha1(str(isinstance(marathon_plot.layer[0].encoding.x['title'], str)).encode(\"utf-8\")+b\"0b5202bc56b3a4db\").hexdigest() == \"be9cf0eac5ce8bf7eb2b930c06cc6ba42efb3c28\", \"boolean value of isinstance(marathon_plot.layer[0].encoding.x['title'], str) is not correct\"\n",
    "\n",
    "assert sha1(str(type(isinstance(marathon_plot.layer[0].encoding.y['title'], str))).encode(\"utf-8\")+b\"f09628446353f7c4\").hexdigest() == \"faa5dd1fc7d48d97974b382b9487140ec6461129\", \"type of isinstance(marathon_plot.layer[0].encoding.y['title'], str) is not bool. isinstance(marathon_plot.layer[0].encoding.y['title'], str) should be a bool\"\n",
    "assert sha1(str(isinstance(marathon_plot.layer[0].encoding.y['title'], str)).encode(\"utf-8\")+b\"f09628446353f7c4\").hexdigest() == \"b264945d82724841a46444f88fc495314260e523\", \"boolean value of isinstance(marathon_plot.layer[0].encoding.y['title'], str) is not correct\"\n",
    "\n",
    "print('Success!')"
   ]
  }
 ],
 "metadata": {
  "jupytext": {
   "encoding": "# -*- coding: utf-8 -*-"
  },
  "kernelspec": {
   "display_name": "Python 3 (ipykernel)",
   "language": "python",
   "name": "python3"
  },
  "language_info": {
   "codemirror_mode": {
    "name": "ipython",
    "version": 3
   },
   "file_extension": ".py",
   "mimetype": "text/x-python",
   "name": "python",
   "nbconvert_exporter": "python",
   "pygments_lexer": "ipython3",
   "version": "3.11.4"
  }
 },
 "nbformat": 4,
 "nbformat_minor": 4
}
