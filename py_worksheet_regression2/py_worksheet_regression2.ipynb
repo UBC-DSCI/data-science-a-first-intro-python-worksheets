{
 "cells": [
  {
   "cell_type": "markdown",
   "metadata": {
    "deletable": false,
    "editable": false,
    "nbgrader": {
     "cell_type": "markdown",
     "checksum": "adc0219a3f8afc63449e5b1e5afab052",
     "grade": false,
     "grade_id": "cell-fe148db84368f758",
     "locked": true,
     "schema_version": 3,
     "solution": false,
     "task": false
    }
   },
   "source": [
    "# Worksheet 9 - Regression Continued\n",
    "\n",
    "### Lecture and Tutorial Learning Goals:\n",
    "\n",
    "After completing this week's lecture and assignment work, you will be able to:\n",
    "\n",
    "* Recognize situations where a simple regression analysis would be appropriate for making predictions.\n",
    "* Explain the $k$-nearest neighbour regression algorithm and describe how it differs from k-nn classification.\n",
    "* Interpret the output of a $k$-nn regression.\n",
    "* In a dataset with two variables, perform $k$-nearest neighbour regression in Python using `scikit-learn` to predict the values for a test dataset.\n",
    "* Execute cross-validation in Python to choose the number of neighbours.\n",
    "* Using Python, evaluate $k$-nn regression prediction accuracy using a test data set and an appropriate metric (*e.g.*, root means square prediction error).\n",
    "* In a dataset with > 2 variables, perform $k$-nn regression in Python using `scikit-learn` to predict the values for a test dataset.\n",
    "* In the context of $k$-nn regression, compare and contrast goodness of fit and prediction properties (namely RMSE vs RMSPE).\n",
    "* Describe advantages and disadvantages of the $k$-nearest neighbour regression approach.\n",
    "* Perform ordinary least squares regression in Python using `scikit-learn` to predict the values for a test dataset.\n",
    "* Compare and contrast predictions obtained from $k$-nearest neighbour regression to those obtained using simple ordinary least squares regression from the same dataset.\n",
    "\n",
    "This worksheet covers parts of [Chapter 8](https://python.datasciencebook.ca/regression2) of the online textbook. You should read this chapter before attempting this assignment. Any place you see `___`, you must fill in the function, variable, or data to complete the code. Substitute the `raise NotImplementedError` with your completed code and answers then proceed to run the cell."
   ]
  },
  {
   "cell_type": "code",
   "execution_count": null,
   "metadata": {
    "deletable": false,
    "editable": false,
    "nbgrader": {
     "cell_type": "code",
     "checksum": "ea161fccdf4210dc915e233f3d5b29d1",
     "grade": false,
     "grade_id": "cell-9d267d6cbb575992",
     "locked": true,
     "schema_version": 3,
     "solution": false,
     "task": false
    }
   },
   "outputs": [],
   "source": [
    "### Run this cell before continuing.\n",
    "import altair as alt\n",
    "import numpy as np\n",
    "import pandas as pd\n",
    "from sklearn import set_config\n",
    "from sklearn.linear_model import LinearRegression\n",
    "from sklearn.model_selection import train_test_split\n",
    "from sklearn.metrics import mean_squared_error\n",
    "\n",
    "# Simplify working with large datasets in Altair\n",
    "alt.data_transformers.disable_max_rows()\n",
    "\n",
    "# Output dataframes instead of arrays\n",
    "set_config(transform_output=\"pandas\")"
   ]
  },
  {
   "cell_type": "markdown",
   "metadata": {
    "deletable": false,
    "editable": false,
    "nbgrader": {
     "cell_type": "markdown",
     "checksum": "b2a8bf529074d37a21ef54b01f6aa66e",
     "grade": false,
     "grade_id": "cell-5cd24ea6314eb5a1",
     "locked": true,
     "schema_version": 3,
     "solution": false,
     "task": false
    }
   },
   "source": [
    "### Warm-up Questions\n",
    "\n",
    "Here are some warm-up questions on the topic of multiple regression to get you thinking before we jump into data analysis. The course readings should help you answer these.\n",
    "\n",
    "**Question 1.0**\n",
    "<br> {points: 1}\n",
    "\n",
    "In multivariate k-nn regression with one outcome/target variable and two predictor variables, the predictions take which shape?\n",
    "\n",
    "A. a flat plane\n",
    "\n",
    "B. a wiggly/flexible plane\n",
    "\n",
    "C. A straight line\n",
    "\n",
    "D. a wiggly/flexible line\n",
    "\n",
    "E. a 4D hyperplane\n",
    "\n",
    "F. a 4D wiggly/flexible hyperplane\n",
    "\n",
    "*Assign the letter of your answer to a variable named `answer1_0`. Make sure you put quotations around the letter and pay attention to case (e.g., `\"F\"`).*"
   ]
  },
  {
   "cell_type": "code",
   "execution_count": null,
   "metadata": {
    "deletable": false,
    "nbgrader": {
     "cell_type": "code",
     "checksum": "31f54f3723f9716ced2403ed82229c1d",
     "grade": false,
     "grade_id": "cell-c83bc93df7f00340",
     "locked": false,
     "schema_version": 3,
     "solution": true,
     "task": false
    }
   },
   "outputs": [],
   "source": [
    "# your code here\n",
    "raise NotImplementedError"
   ]
  },
  {
   "cell_type": "code",
   "execution_count": null,
   "metadata": {
    "deletable": false,
    "editable": false,
    "nbgrader": {
     "cell_type": "code",
     "checksum": "5dc35585a1d2e67162f32967b52efb06",
     "grade": true,
     "grade_id": "cell-69d13db813c674a2",
     "locked": true,
     "points": 1,
     "schema_version": 3,
     "solution": false,
     "task": false
    }
   },
   "outputs": [],
   "source": [
    "from hashlib import sha1\n",
    "assert sha1(str(type(answer1_0)).encode(\"utf-8\")+b\"8af9d4bd7e06c414\").hexdigest() == \"0fef4cd1dbfa28f0ca0c2079ed3728291ff798be\", \"type of answer1_0 is not str. answer1_0 should be an str\"\n",
    "assert sha1(str(len(answer1_0)).encode(\"utf-8\")+b\"8af9d4bd7e06c414\").hexdigest() == \"5e35bbc73cd0efa489b7004fcc9aa8cce7dee32d\", \"length of answer1_0 is not correct\"\n",
    "assert sha1(str(answer1_0.lower()).encode(\"utf-8\")+b\"8af9d4bd7e06c414\").hexdigest() == \"77a1c6cf63b9967d187edd1cdf3bc153e22f3b77\", \"value of answer1_0 is not correct\"\n",
    "assert sha1(str(answer1_0).encode(\"utf-8\")+b\"8af9d4bd7e06c414\").hexdigest() == \"4b94e65508de8f4f32c58055950ffddfb8f86e0c\", \"correct string value of answer1_0 but incorrect case of letters\"\n",
    "\n",
    "print('Success!')"
   ]
  },
  {
   "cell_type": "markdown",
   "metadata": {
    "deletable": false,
    "editable": false,
    "nbgrader": {
     "cell_type": "markdown",
     "checksum": "71f384f207968e33c04ed5b6372b8727",
     "grade": false,
     "grade_id": "cell-17b50854bfe8bed1",
     "locked": true,
     "schema_version": 3,
     "solution": false,
     "task": false
    }
   },
   "source": [
    "**Question 1.1** \n",
    "<br> {points: 1}\n",
    "\n",
    "In simple linear regression with one outcome/target variable and one predictor variable, the predictions take which shape?\n",
    "\n",
    "A. a flat plane\n",
    "\n",
    "B. a wiggly/flexible plane\n",
    "\n",
    "C. A straight line\n",
    "\n",
    "D. a wiggly/flexible line\n",
    "\n",
    "E. a 4D hyperplane\n",
    "\n",
    "F. a 4D wiggly/flexible hyperplane\n",
    "\n",
    "*Assign the letter of your answer to a variable named `answer1_1`. Make sure you put quotations around the letter and pay attention to case (e.g., `\"F\"`).*"
   ]
  },
  {
   "cell_type": "code",
   "execution_count": null,
   "metadata": {
    "deletable": false,
    "nbgrader": {
     "cell_type": "code",
     "checksum": "94e95a2c91122277ed81b0478e0fecb5",
     "grade": false,
     "grade_id": "cell-4ba2e045fef50db4",
     "locked": false,
     "schema_version": 3,
     "solution": true,
     "task": false
    }
   },
   "outputs": [],
   "source": [
    "# your code here\n",
    "raise NotImplementedError"
   ]
  },
  {
   "cell_type": "code",
   "execution_count": null,
   "metadata": {
    "deletable": false,
    "editable": false,
    "nbgrader": {
     "cell_type": "code",
     "checksum": "2961dca41d4ac2bc3508bae300012dd9",
     "grade": true,
     "grade_id": "cell-f7542e36e61cd131",
     "locked": true,
     "points": 1,
     "schema_version": 3,
     "solution": false,
     "task": false
    }
   },
   "outputs": [],
   "source": [
    "from hashlib import sha1\n",
    "assert sha1(str(type(answer1_1)).encode(\"utf-8\")+b\"dba2d58fe34ccae9\").hexdigest() == \"9cdeb689d9170adf0f0ab95529a61f4913747c1b\", \"type of answer1_1 is not str. answer1_1 should be an str\"\n",
    "assert sha1(str(len(answer1_1)).encode(\"utf-8\")+b\"dba2d58fe34ccae9\").hexdigest() == \"e7f18387dd25221566349bfacda45014241a6e36\", \"length of answer1_1 is not correct\"\n",
    "assert sha1(str(answer1_1.lower()).encode(\"utf-8\")+b\"dba2d58fe34ccae9\").hexdigest() == \"232c7d5fc4518062d97747e0fe724a180fbd9303\", \"value of answer1_1 is not correct\"\n",
    "assert sha1(str(answer1_1).encode(\"utf-8\")+b\"dba2d58fe34ccae9\").hexdigest() == \"53d3d2d76cde3a7241f79c109a98d931ae559a3d\", \"correct string value of answer1_1 but incorrect case of letters\"\n",
    "\n",
    "print('Success!')"
   ]
  },
  {
   "cell_type": "markdown",
   "metadata": {
    "deletable": false,
    "editable": false,
    "nbgrader": {
     "cell_type": "markdown",
     "checksum": "713d3f6abefc6b9ad75506f5a3ab19e1",
     "grade": false,
     "grade_id": "cell-4c7cb5e7fd4eb668",
     "locked": true,
     "schema_version": 3,
     "solution": false,
     "task": false
    }
   },
   "source": [
    "**Question 1.2**\n",
    "<br> {points: 1}\n",
    "\n",
    "In multiple linear regression with one outcome/target variable and two predictor variables, the predictions take which shape?\n",
    "\n",
    "A. a flat plane\n",
    "\n",
    "B. a wiggly/flexible plane\n",
    "\n",
    "C. A straight line\n",
    "\n",
    "D. a wiggly/flexible line\n",
    "\n",
    "E. a 4D hyperplane\n",
    "\n",
    "F. a 4D wiggly/flexible hyperplane\n",
    "\n",
    "*Assign the letter of your answer to a variable named `answer1_2`. Make sure you put quotations around the letter and pay attention to case (e.g., `\"F\"`).*"
   ]
  },
  {
   "cell_type": "code",
   "execution_count": null,
   "metadata": {
    "deletable": false,
    "nbgrader": {
     "cell_type": "code",
     "checksum": "3d6d421290bc0d308a4f33cfd4c623d3",
     "grade": false,
     "grade_id": "cell-079e531ebcb88c60",
     "locked": false,
     "schema_version": 3,
     "solution": true,
     "task": false
    }
   },
   "outputs": [],
   "source": [
    "# your code here\n",
    "raise NotImplementedError"
   ]
  },
  {
   "cell_type": "code",
   "execution_count": null,
   "metadata": {
    "deletable": false,
    "editable": false,
    "nbgrader": {
     "cell_type": "code",
     "checksum": "81f7b33f43d919e49ae31c7f9e5c32f1",
     "grade": true,
     "grade_id": "cell-547b82e7a64b9aa1",
     "locked": true,
     "points": 1,
     "schema_version": 3,
     "solution": false,
     "task": false
    }
   },
   "outputs": [],
   "source": [
    "from hashlib import sha1\n",
    "assert sha1(str(type(answer1_2)).encode(\"utf-8\")+b\"3aa02f0581d8ef01\").hexdigest() == \"2f6400dd97edf907a264401e3a30c374c27834bd\", \"type of answer1_2 is not str. answer1_2 should be an str\"\n",
    "assert sha1(str(len(answer1_2)).encode(\"utf-8\")+b\"3aa02f0581d8ef01\").hexdigest() == \"5b5da52164dc8ddec1971bce6ec6b7ba16d0e063\", \"length of answer1_2 is not correct\"\n",
    "assert sha1(str(answer1_2.lower()).encode(\"utf-8\")+b\"3aa02f0581d8ef01\").hexdigest() == \"c47ab31ba65fa0834bb0b998692e6e148877a68c\", \"value of answer1_2 is not correct\"\n",
    "assert sha1(str(answer1_2).encode(\"utf-8\")+b\"3aa02f0581d8ef01\").hexdigest() == \"cae838375f45a5a5a1da51aa04593cc5f8e74a92\", \"correct string value of answer1_2 but incorrect case of letters\"\n",
    "\n",
    "print('Success!')"
   ]
  },
  {
   "cell_type": "markdown",
   "metadata": {
    "deletable": false,
    "editable": false,
    "nbgrader": {
     "cell_type": "markdown",
     "checksum": "90902cc596c86e241d127a643265bc37",
     "grade": false,
     "grade_id": "cell-6ae21507eed64700",
     "locked": true,
     "schema_version": 3,
     "solution": false,
     "task": false
    }
   },
   "source": [
    "### Understanding Simple Linear Regression\n",
    "\n",
    "Consider this small and simple dataset: "
   ]
  },
  {
   "cell_type": "code",
   "execution_count": null,
   "metadata": {
    "deletable": false,
    "editable": false,
    "nbgrader": {
     "cell_type": "code",
     "checksum": "8376e92f5728d9af6b7744194fc25448",
     "grade": false,
     "grade_id": "cell-2850a0b99f14004c",
     "locked": true,
     "schema_version": 3,
     "solution": false,
     "task": false
    }
   },
   "outputs": [],
   "source": [
    "points = pd.DataFrame(\n",
    "    [[1, 1], [2, 1], [3, 3], [6, 5], [7, 7], [7, 6]],\n",
    "    columns=[\"X\", \"y\"]\n",
    ")\n",
    "\n",
    "base = alt.Chart(points).mark_point().encode(\n",
    "    x='X',\n",
    "    y='y'\n",
    ")\n",
    "\n",
    "base"
   ]
  },
  {
   "cell_type": "markdown",
   "metadata": {
    "deletable": false,
    "editable": false,
    "nbgrader": {
     "cell_type": "markdown",
     "checksum": "d61fea0714dff7819361e1783a0ae096",
     "grade": false,
     "grade_id": "cell-158e53f25ab76890",
     "locked": true,
     "schema_version": 3,
     "solution": false,
     "task": false
    }
   },
   "source": [
    "Now consider these three **potential** lines we could fit for the same dataset:"
   ]
  },
  {
   "cell_type": "code",
   "execution_count": null,
   "metadata": {
    "deletable": false,
    "editable": false,
    "nbgrader": {
     "cell_type": "code",
     "checksum": "deac399969b373f3346c40048a8d4cc0",
     "grade": false,
     "grade_id": "cell-72d1bbcacfd85b37",
     "locked": true,
     "schema_version": 3,
     "solution": false,
     "task": false
    }
   },
   "outputs": [],
   "source": [
    "lines = pd.DataFrame(\n",
    "    [\n",
    "        [0.93, 0.017562, 'Line A'],\n",
    "        [7, 5.9868, 'Line A'],\n",
    "        [0, 0.1022, 'Line B'],\n",
    "        [7, 6.965, 'Line B'],\n",
    "        [0.26, 0.003564, 'Line C'],\n",
    "        [8, 7.0965, 'Line C']\n",
    "    ],\n",
    "    columns=[\"X\", \"y\", 'Name']\n",
    ")\n",
    "\n",
    "base + alt.Chart(lines).mark_line().encode(\n",
    "    x='X',\n",
    "    y='y',\n",
    "    color='Name'\n",
    ")"
   ]
  },
  {
   "cell_type": "markdown",
   "metadata": {
    "deletable": false,
    "editable": false,
    "nbgrader": {
     "cell_type": "markdown",
     "checksum": "93f43b04c6a0411886a120d5f73831ec",
     "grade": false,
     "grade_id": "cell-d7bb06c12cba1681",
     "locked": true,
     "schema_version": 3,
     "solution": false,
     "task": false
    }
   },
   "source": [
    "**Question 2.0**\n",
    "<br> {points: 1}\n",
    "\n",
    "Use the graph below to roughly calculate the average squared vertical distance between the points and the blue line (\"Line A\" above). **Read values of the graph to a precision of 0.25** (e.g. 1, 1.25, 1.5, 1.75, 2). We reprint the plot for you with only a single line to make it easier to estimate the locations on the graph.\n",
    "\n",
    "*Save your answer to a variable named `answer2_0`.*"
   ]
  },
  {
   "cell_type": "code",
   "execution_count": null,
   "metadata": {
    "deletable": false,
    "editable": false,
    "nbgrader": {
     "cell_type": "code",
     "checksum": "57671f707dffde6192c6803e3da9ecc7",
     "grade": false,
     "grade_id": "cell-4d84f8c3727420a2",
     "locked": true,
     "schema_version": 3,
     "solution": false,
     "task": false
    }
   },
   "outputs": [],
   "source": [
    "base + alt.Chart(lines[lines['Name'] == 'Line A']).mark_line().encode(\n",
    "    x='X',\n",
    "    y='y',\n",
    ")"
   ]
  },
  {
   "cell_type": "code",
   "execution_count": null,
   "metadata": {
    "deletable": false,
    "nbgrader": {
     "cell_type": "code",
     "checksum": "9286a45c72d7b83b0d984ac83c3074f6",
     "grade": false,
     "grade_id": "cell-6cf53cb30ae3cd16",
     "locked": false,
     "schema_version": 3,
     "solution": true
    }
   },
   "outputs": [],
   "source": [
    "# your code here\n",
    "raise NotImplementedError\n",
    "answer2_0"
   ]
  },
  {
   "cell_type": "code",
   "execution_count": null,
   "metadata": {
    "deletable": false,
    "editable": false,
    "nbgrader": {
     "cell_type": "code",
     "checksum": "4223f850e861ca72dd145bf9ec80e113",
     "grade": true,
     "grade_id": "cell-9d0a3c3a16e0f47b",
     "locked": true,
     "points": 1,
     "schema_version": 3,
     "solution": false
    }
   },
   "outputs": [],
   "source": [
    "from hashlib import sha1\n",
    "assert sha1(str(type(answer2_0)).encode(\"utf-8\")+b\"5ff16e82a48db0fb\").hexdigest() == \"850d1f140b30fb46b4b2df323bdecf4bb3f9ff72\", \"type of answer2_0 is not float. Please make sure it is float and not np.float64, etc. You can cast your value into a float using float()\"\n",
    "assert sha1(str(round(answer2_0, 2)).encode(\"utf-8\")+b\"5ff16e82a48db0fb\").hexdigest() == \"02dcfb2211559be25ae03532f8c584a9c3da176c\", \"value of answer2_0 is not correct (rounded to 2 decimal places)\"\n",
    "\n",
    "print('Success!')"
   ]
  },
  {
   "cell_type": "markdown",
   "metadata": {
    "deletable": false,
    "editable": false,
    "nbgrader": {
     "cell_type": "markdown",
     "checksum": "9bb2a0d6ef2c34a151bc03f1bcf87e9c",
     "grade": false,
     "grade_id": "cell-7ef45d3d7c403c81",
     "locked": true,
     "schema_version": 3,
     "solution": false,
     "task": false
    }
   },
   "source": [
    "**Question 2.1**\n",
    "<br> {points: 1}\n",
    "\n",
    "Use the graph below to roughly calculate the average squared vertical distance between the points and the orange line (\"Line B\" above). **Read values of the graph to a precision of 0.25** (e.g. 1, 1.25, 1.5, 1.75, 2). We reprint the plot for you with only a single line to make it easier to estimate the locations on the graph.\n",
    "\n",
    "*Save your answer to a variable named `answer2_1`.*"
   ]
  },
  {
   "cell_type": "code",
   "execution_count": null,
   "metadata": {
    "deletable": false,
    "editable": false,
    "nbgrader": {
     "cell_type": "code",
     "checksum": "a520cf79b3f75b974947f82cdf1cea49",
     "grade": false,
     "grade_id": "cell-be8bd2be4d762d37",
     "locked": true,
     "schema_version": 3,
     "solution": false,
     "task": false
    }
   },
   "outputs": [],
   "source": [
    "base + alt.Chart(lines[lines['Name'] == 'Line B']).mark_line(color='#f58518').encode(\n",
    "    x='X',\n",
    "    y='y',\n",
    ")"
   ]
  },
  {
   "cell_type": "code",
   "execution_count": null,
   "metadata": {
    "deletable": false,
    "nbgrader": {
     "cell_type": "code",
     "checksum": "9180418753908bba09b04bc51eaa2048",
     "grade": false,
     "grade_id": "cell-be5564f4bd6cd576",
     "locked": false,
     "schema_version": 3,
     "solution": true
    }
   },
   "outputs": [],
   "source": [
    "# your code here\n",
    "raise NotImplementedError\n",
    "answer2_1"
   ]
  },
  {
   "cell_type": "code",
   "execution_count": null,
   "metadata": {
    "deletable": false,
    "editable": false,
    "nbgrader": {
     "cell_type": "code",
     "checksum": "dc7c6b2e9c6f23356ba90431316faf2b",
     "grade": true,
     "grade_id": "cell-840f1140c7655088",
     "locked": true,
     "points": 1,
     "schema_version": 3,
     "solution": false
    }
   },
   "outputs": [],
   "source": [
    "from hashlib import sha1\n",
    "assert sha1(str(type(answer2_1)).encode(\"utf-8\")+b\"9a30d9d8993b7992\").hexdigest() == \"84f931fd799bdf6afa7befe8d7770422f384d0f2\", \"type of answer2_1 is not float. Please make sure it is float and not np.float64, etc. You can cast your value into a float using float()\"\n",
    "assert sha1(str(round(answer2_1, 2)).encode(\"utf-8\")+b\"9a30d9d8993b7992\").hexdigest() == \"1e7bf446efe94bc76f97a508b404296c236e7e04\", \"value of answer2_1 is not correct (rounded to 2 decimal places)\"\n",
    "\n",
    "print('Success!')"
   ]
  },
  {
   "cell_type": "markdown",
   "metadata": {
    "deletable": false,
    "editable": false,
    "nbgrader": {
     "cell_type": "markdown",
     "checksum": "e37fc566c4365a836c8e0e7d08b4ee0f",
     "grade": false,
     "grade_id": "cell-69f334fbd3120d91",
     "locked": true,
     "schema_version": 3,
     "solution": false,
     "task": false
    }
   },
   "source": [
    "**Question 2.2** \n",
    "<br> {points: 1}\n",
    "\n",
    "Use the graph below to roughly calculate the average squared vertical distance between the points and the red line (\"Line C\" above). **Read values of the graph to a precision of 0.25** (e.g. 1, 1.25, 1.5, 1.75, 2). We reprint the plot for you with only a single line to make it easier to estimate the locations on the graph.\n",
    "\n",
    "*Save your answer to a variable named `answer2_2`.*"
   ]
  },
  {
   "cell_type": "code",
   "execution_count": null,
   "metadata": {
    "deletable": false,
    "editable": false,
    "nbgrader": {
     "cell_type": "code",
     "checksum": "c919e73b15934c7953b313120f85df91",
     "grade": false,
     "grade_id": "cell-0634261679ff7469",
     "locked": true,
     "schema_version": 3,
     "solution": false,
     "task": false
    }
   },
   "outputs": [],
   "source": [
    "base + alt.Chart(lines[lines['Name'] == 'Line C']).mark_line(color='#e45756').encode(\n",
    "    x='X',\n",
    "    y='y',\n",
    ")"
   ]
  },
  {
   "cell_type": "code",
   "execution_count": null,
   "metadata": {
    "deletable": false,
    "nbgrader": {
     "cell_type": "code",
     "checksum": "5d532b920a76b40a105845f45497621f",
     "grade": false,
     "grade_id": "cell-3aed32faefe82978",
     "locked": false,
     "schema_version": 3,
     "solution": true
    }
   },
   "outputs": [],
   "source": [
    "# your code here\n",
    "raise NotImplementedError\n",
    "answer2_2"
   ]
  },
  {
   "cell_type": "code",
   "execution_count": null,
   "metadata": {
    "deletable": false,
    "editable": false,
    "nbgrader": {
     "cell_type": "code",
     "checksum": "ea2ab88bd78ed797a59412a6fe2827e9",
     "grade": true,
     "grade_id": "cell-3e544bd712b4d796",
     "locked": true,
     "points": 1,
     "schema_version": 3,
     "solution": false
    }
   },
   "outputs": [],
   "source": [
    "from hashlib import sha1\n",
    "assert sha1(str(type(answer2_2)).encode(\"utf-8\")+b\"a57de19ed370ff8e\").hexdigest() == \"e92f97304a7d2fdee225fe10905ed5b31a244bc4\", \"type of answer2_2 is not float. Please make sure it is float and not np.float64, etc. You can cast your value into a float using float()\"\n",
    "assert sha1(str(round(answer2_2, 2)).encode(\"utf-8\")+b\"a57de19ed370ff8e\").hexdigest() == \"62c1d30da01a86f86bf41089baefe99c500cf3d7\", \"value of answer2_2 is not correct (rounded to 2 decimal places)\"\n",
    "\n",
    "print('Success!')"
   ]
  },
  {
   "cell_type": "markdown",
   "metadata": {
    "deletable": false,
    "editable": false,
    "nbgrader": {
     "cell_type": "markdown",
     "checksum": "f05f1f8b0021b3f17914a5a6b8390f58",
     "grade": false,
     "grade_id": "cell-ca359fbdc2020d22",
     "locked": true,
     "schema_version": 3,
     "solution": false,
     "task": false
    }
   },
   "source": [
    "**Question 2.3**\n",
    "<br> {points: 1}\n",
    "\n",
    "Based on your calculations above, which line would linear regression by ordinary least squares choose given our small and simple dataset? Line A, B or C? \n",
    "\n",
    "*Assign the letter of your answer to a variable named `answer2_3`. Make sure you put quotations around the letter and pay attention to case.*"
   ]
  },
  {
   "cell_type": "code",
   "execution_count": null,
   "metadata": {
    "deletable": false,
    "nbgrader": {
     "cell_type": "code",
     "checksum": "8444419ad84a03a0b279db84705cceb2",
     "grade": false,
     "grade_id": "cell-c3bc0fc1f61fb31b",
     "locked": false,
     "schema_version": 3,
     "solution": true
    }
   },
   "outputs": [],
   "source": [
    "# your code here\n",
    "raise NotImplementedError"
   ]
  },
  {
   "cell_type": "code",
   "execution_count": null,
   "metadata": {
    "deletable": false,
    "editable": false,
    "nbgrader": {
     "cell_type": "code",
     "checksum": "94ccde8e2a0f3e9915470de6026b48b8",
     "grade": true,
     "grade_id": "cell-4ae1ac995c661109",
     "locked": true,
     "points": 1,
     "schema_version": 3,
     "solution": false
    }
   },
   "outputs": [],
   "source": [
    "from hashlib import sha1\n",
    "assert sha1(str(type(answer2_3)).encode(\"utf-8\")+b\"b0fbe862e84a889b\").hexdigest() == \"4ea7464f0380f8943acac3531bc239c431433299\", \"type of answer2_3 is not str. answer2_3 should be an str\"\n",
    "assert sha1(str(len(answer2_3)).encode(\"utf-8\")+b\"b0fbe862e84a889b\").hexdigest() == \"b5357b60055dfc44518e05a55751cae847e8c4a0\", \"length of answer2_3 is not correct\"\n",
    "assert sha1(str(answer2_3.lower()).encode(\"utf-8\")+b\"b0fbe862e84a889b\").hexdigest() == \"a699866e701612f95ef5a765d7c1a2e70683167a\", \"value of answer2_3 is not correct\"\n",
    "assert sha1(str(answer2_3).encode(\"utf-8\")+b\"b0fbe862e84a889b\").hexdigest() == \"923b22b4d5e8f06988670e28d54b45f8b2547c0c\", \"correct string value of answer2_3 but incorrect case of letters\"\n",
    "\n",
    "print('Success!')"
   ]
  },
  {
   "cell_type": "markdown",
   "metadata": {
    "deletable": false,
    "editable": false,
    "nbgrader": {
     "cell_type": "markdown",
     "checksum": "49453d76b4c2fd8fe5322b4875396ce0",
     "grade": false,
     "grade_id": "cell-c450e26cb57e9dc9",
     "locked": true,
     "schema_version": 3,
     "solution": false,
     "task": false
    }
   },
   "source": [
    "## Marathon Training Revisited with Linear Regression!\n",
    "\n",
    "<img src='https://media.giphy.com/media/BDagLpxFIm3SM/giphy.gif' width='400'>\n",
    "\n",
    "Source: https://media.giphy.com/media/BDagLpxFIm3SM/giphy.gif\n",
    "\n",
    "Remember our question from last week: what features predict whether athletes will perform better than others? Specifically, we are interested in marathon runners, and looking at how the maximum distance ran per week during training predicts the time it takes a runner to end the race? \n",
    "\n",
    "This time around, however, we will analyze the data using simple linear regression rather than $k$-nn regression. In the end, we will compare our results to what we found last week with $k$-nn regression."
   ]
  },
  {
   "cell_type": "markdown",
   "metadata": {
    "deletable": false,
    "editable": false,
    "nbgrader": {
     "cell_type": "markdown",
     "checksum": "4a699b0a5deecb53931f26e1b67771c5",
     "grade": false,
     "grade_id": "cell-8655bd26820bea69",
     "locked": true,
     "schema_version": 3,
     "solution": false,
     "task": false
    }
   },
   "source": [
    "**Question 3.0**\n",
    "<br> {points: 1}\n",
    "\n",
    "Load the `marathon` data from the `data/` folder and assign it to an object called `marathon`. "
   ]
  },
  {
   "cell_type": "code",
   "execution_count": null,
   "metadata": {
    "deletable": false,
    "nbgrader": {
     "cell_type": "code",
     "checksum": "040485210178cb10c1f52080c6d2eeb6",
     "grade": false,
     "grade_id": "cell-7429888f4a5a274a",
     "locked": false,
     "schema_version": 3,
     "solution": true
    }
   },
   "outputs": [],
   "source": [
    "# your code here\n",
    "raise NotImplementedError\n",
    "marathon"
   ]
  },
  {
   "cell_type": "code",
   "execution_count": null,
   "metadata": {
    "deletable": false,
    "editable": false,
    "nbgrader": {
     "cell_type": "code",
     "checksum": "65ef6221f000965e2d9b3686f8fc95d7",
     "grade": true,
     "grade_id": "cell-36eda8d5f9545c0e",
     "locked": true,
     "points": 1,
     "schema_version": 3,
     "solution": false
    }
   },
   "outputs": [],
   "source": [
    "from hashlib import sha1\n",
    "assert sha1(str(type(marathon is None)).encode(\"utf-8\")+b\"8cee29ccf1e9231b\").hexdigest() == \"590300921f9a04cf9b656e88cf4f3bbf12fb5abd\", \"type of marathon is None is not bool. marathon is None should be a bool\"\n",
    "assert sha1(str(marathon is None).encode(\"utf-8\")+b\"8cee29ccf1e9231b\").hexdigest() == \"50b793d59dbc6b276730617a4a450e782a589d1a\", \"boolean value of marathon is None is not correct\"\n",
    "\n",
    "assert sha1(str(type(marathon)).encode(\"utf-8\")+b\"225d63529a63fe5f\").hexdigest() == \"a568038181086cc6eb3f75d26f8a798d87acc39d\", \"type of type(marathon) is not correct\"\n",
    "\n",
    "assert sha1(str(type(marathon.shape)).encode(\"utf-8\")+b\"7ad84373b2f703d1\").hexdigest() == \"ddd3b125e35f48faafedd82aeee96423f357bdf6\", \"type of marathon.shape is not tuple. marathon.shape should be a tuple\"\n",
    "assert sha1(str(len(marathon.shape)).encode(\"utf-8\")+b\"7ad84373b2f703d1\").hexdigest() == \"58332dea17b357e104278f8c3dfe862810cf3081\", \"length of marathon.shape is not correct\"\n",
    "assert sha1(str(sorted(map(str, marathon.shape))).encode(\"utf-8\")+b\"7ad84373b2f703d1\").hexdigest() == \"ff0cd5260ff0e152e7d66fb7335b210a893c7d31\", \"values of marathon.shape are not correct\"\n",
    "assert sha1(str(marathon.shape).encode(\"utf-8\")+b\"7ad84373b2f703d1\").hexdigest() == \"9ca4b6528191e7a2b6de2807f0e2b0203d5ff530\", \"order of elements of marathon.shape is not correct\"\n",
    "\n",
    "assert sha1(str(type(\"time_hrs\" in marathon.columns)).encode(\"utf-8\")+b\"6ae0705b372b4a60\").hexdigest() == \"825bcfce89c76b37efc4ca3bca62e896749be167\", \"type of \\\"time_hrs\\\" in marathon.columns is not bool. \\\"time_hrs\\\" in marathon.columns should be a bool\"\n",
    "assert sha1(str(\"time_hrs\" in marathon.columns).encode(\"utf-8\")+b\"6ae0705b372b4a60\").hexdigest() == \"68b49932db27f62e6a59d261afcda5a351b188e4\", \"boolean value of \\\"time_hrs\\\" in marathon.columns is not correct\"\n",
    "\n",
    "assert sha1(str(type(\"max\" in marathon.columns)).encode(\"utf-8\")+b\"74071531ccf9e45b\").hexdigest() == \"a28604806a27d2f2d6e766d0560a73f4be6ed7a8\", \"type of \\\"max\\\" in marathon.columns is not bool. \\\"max\\\" in marathon.columns should be a bool\"\n",
    "assert sha1(str(\"max\" in marathon.columns).encode(\"utf-8\")+b\"74071531ccf9e45b\").hexdigest() == \"66e34a82633fefdf8c8e8127431653cec086727e\", \"boolean value of \\\"max\\\" in marathon.columns is not correct\"\n",
    "\n",
    "assert sha1(str(type(round(sum(marathon['max']), 0))).encode(\"utf-8\")+b\"c67fc05edec07a3e\").hexdigest() == \"3a650ac11c976a54be6fa8a5faf6b482a37629c8\", \"type of round(sum(marathon['max']), 0) is not float. Please make sure it is float and not np.float64, etc. You can cast your value into a float using float()\"\n",
    "assert sha1(str(round(round(sum(marathon['max']), 0), 2)).encode(\"utf-8\")+b\"c67fc05edec07a3e\").hexdigest() == \"d445df183a0e83186c2d45d32062cc54bfd91491\", \"value of round(sum(marathon['max']), 0) is not correct (rounded to 2 decimal places)\"\n",
    "\n",
    "assert sha1(str(type(round(sum(marathon['time_hrs']), 0))).encode(\"utf-8\")+b\"33b7e56284c0e128\").hexdigest() == \"718be798aa7815e2e90a2c13ba6eafc021ce71dd\", \"type of round(sum(marathon['time_hrs']), 0) is not float. Please make sure it is float and not np.float64, etc. You can cast your value into a float using float()\"\n",
    "assert sha1(str(round(round(sum(marathon['time_hrs']), 0), 2)).encode(\"utf-8\")+b\"33b7e56284c0e128\").hexdigest() == \"9de3cebc7f534b40df57bbb464ce8e8bc33846d8\", \"value of round(sum(marathon['time_hrs']), 0) is not correct (rounded to 2 decimal places)\"\n",
    "\n",
    "print('Success!')"
   ]
  },
  {
   "cell_type": "markdown",
   "metadata": {
    "deletable": false,
    "editable": false,
    "nbgrader": {
     "cell_type": "markdown",
     "checksum": "4b0a950d02e5f2ee19a0652818cbb293",
     "grade": false,
     "grade_id": "cell-439c2ccda058add2",
     "locked": true,
     "schema_version": 3,
     "solution": false,
     "task": false
    }
   },
   "source": [
    "**Question 3.1**\n",
    "<br> {points: 1}\n",
    "\n",
    "Similar to what we have done for the last few weeks, we will first split the dataset into the training and testing datasets, using 75% of the original data as the training data. Remember, we will be putting the test dataset away in a 'lock box' that we will comeback to later after we choose our final model. Assign your training dataset to an object named `marathon_training` and your testing dataset to an object named `marathon_testing`.\n",
    "\n",
    "Next, set the `time_hrs` as the target (y) and `max` as the feature (X). Store the features as `X_train` and `X_test` and targets as `y_train` and `y_test` respectively for the `marathon_training` and `marathon_testing`.\n",
    "\n",
    "*Assign the objects to `marathon_training`, `marathon_testing`, `X_train`, `y_train`, `X_test` and `y_test` respectively.*"
   ]
  },
  {
   "cell_type": "code",
   "execution_count": null,
   "metadata": {
    "deletable": false,
    "nbgrader": {
     "cell_type": "code",
     "checksum": "48cf18d097e58c90e26b8ad134670b1e",
     "grade": false,
     "grade_id": "cell-4862845e3f18eced",
     "locked": false,
     "schema_version": 3,
     "solution": true
    }
   },
   "outputs": [],
   "source": [
    "# ___, ___ = train_test_split(\n",
    "#     ___,\n",
    "#     test_size=___,\n",
    "#     random_state=2000,  # Do not change the random_state\n",
    "# )\n",
    "\n",
    "# X_train = ___[___]  # A single column data frame\n",
    "# y_train = ___[___]  # A series\n",
    "\n",
    "# X_test = ___[___]  # A single column data frame\n",
    "# y_test = ___[___]  # A series\n",
    "\n",
    "# your code here\n",
    "raise NotImplementedError"
   ]
  },
  {
   "cell_type": "code",
   "execution_count": null,
   "metadata": {
    "deletable": false,
    "editable": false,
    "nbgrader": {
     "cell_type": "code",
     "checksum": "b17bcdf7876b2b1263d7ec112667682a",
     "grade": true,
     "grade_id": "cell-b1eb46161667bcec",
     "locked": true,
     "points": 1,
     "schema_version": 3,
     "solution": false
    }
   },
   "outputs": [],
   "source": [
    "from hashlib import sha1\n",
    "assert sha1(str(type(marathon_training is None)).encode(\"utf-8\")+b\"f7b8b5f11272b115\").hexdigest() == \"1eea9e8bfcdda1d07e600a5f618e6fd3899a5b7a\", \"type of marathon_training is None is not bool. marathon_training is None should be a bool\"\n",
    "assert sha1(str(marathon_training is None).encode(\"utf-8\")+b\"f7b8b5f11272b115\").hexdigest() == \"e13b1fe636af6a332be630a82fbd3f3177f18c86\", \"boolean value of marathon_training is None is not correct\"\n",
    "\n",
    "assert sha1(str(type(marathon_training.shape)).encode(\"utf-8\")+b\"ad677dacc12844c6\").hexdigest() == \"5b9619723a34c919e2acd492c58350060b79444b\", \"type of marathon_training.shape is not tuple. marathon_training.shape should be a tuple\"\n",
    "assert sha1(str(len(marathon_training.shape)).encode(\"utf-8\")+b\"ad677dacc12844c6\").hexdigest() == \"8a918a1b43a4f833e357aad0be1d011f3c2164f3\", \"length of marathon_training.shape is not correct\"\n",
    "assert sha1(str(sorted(map(str, marathon_training.shape))).encode(\"utf-8\")+b\"ad677dacc12844c6\").hexdigest() == \"ecfe12fbce7d0960c8c49a789fb35f8c897e4441\", \"values of marathon_training.shape are not correct\"\n",
    "assert sha1(str(marathon_training.shape).encode(\"utf-8\")+b\"ad677dacc12844c6\").hexdigest() == \"8e4650a2bc125de2f6f4a0d7d4064623c62d071e\", \"order of elements of marathon_training.shape is not correct\"\n",
    "\n",
    "assert sha1(str(type(sum(marathon_training.age))).encode(\"utf-8\")+b\"0c738871cbf143d3\").hexdigest() == \"935796262ad3e77668f1ae4ae0f40b7c92a98f53\", \"type of sum(marathon_training.age) is not int. Please make sure it is int and not np.int64, etc. You can cast your value into an int using int()\"\n",
    "assert sha1(str(sum(marathon_training.age)).encode(\"utf-8\")+b\"0c738871cbf143d3\").hexdigest() == \"11ab4d7f3ed87a02f0c9be88acfffdc47155bcfa\", \"value of sum(marathon_training.age) is not correct\"\n",
    "\n",
    "assert sha1(str(type(marathon_testing is None)).encode(\"utf-8\")+b\"40991bfd77b7da37\").hexdigest() == \"5bca11114bddda38a170d770e4fdef1cf1bca314\", \"type of marathon_testing is None is not bool. marathon_testing is None should be a bool\"\n",
    "assert sha1(str(marathon_testing is None).encode(\"utf-8\")+b\"40991bfd77b7da37\").hexdigest() == \"ff2fb9c2e7592767ad9784666918376e7e82e771\", \"boolean value of marathon_testing is None is not correct\"\n",
    "\n",
    "assert sha1(str(type(marathon_testing.shape)).encode(\"utf-8\")+b\"fa7adf0430561e26\").hexdigest() == \"5747de082c84d44f5904094bd9e0be6804071228\", \"type of marathon_testing.shape is not tuple. marathon_testing.shape should be a tuple\"\n",
    "assert sha1(str(len(marathon_testing.shape)).encode(\"utf-8\")+b\"fa7adf0430561e26\").hexdigest() == \"be650db15f66c26a1c266a3523f560942e30e16c\", \"length of marathon_testing.shape is not correct\"\n",
    "assert sha1(str(sorted(map(str, marathon_testing.shape))).encode(\"utf-8\")+b\"fa7adf0430561e26\").hexdigest() == \"4a0d3597449251f4eebd8a0d7609e58a4765f0b7\", \"values of marathon_testing.shape are not correct\"\n",
    "assert sha1(str(marathon_testing.shape).encode(\"utf-8\")+b\"fa7adf0430561e26\").hexdigest() == \"a13e1d7300cbd39b0d181b9a61e34ac4ea33c9a4\", \"order of elements of marathon_testing.shape is not correct\"\n",
    "\n",
    "assert sha1(str(type(sum(marathon_testing.age))).encode(\"utf-8\")+b\"b9b467182fbb095a\").hexdigest() == \"704cae26436b9f94a6c13e5601b5c33e2c68a5df\", \"type of sum(marathon_testing.age) is not int. Please make sure it is int and not np.int64, etc. You can cast your value into an int using int()\"\n",
    "assert sha1(str(sum(marathon_testing.age)).encode(\"utf-8\")+b\"b9b467182fbb095a\").hexdigest() == \"ee47a5f81c54e1c20663767378950795b881d2cc\", \"value of sum(marathon_testing.age) is not correct\"\n",
    "\n",
    "assert sha1(str(type(X_train.columns.values)).encode(\"utf-8\")+b\"7a47627d8292d962\").hexdigest() == \"f7b2458be04a3e0d6795da000836c82fb8712dd7\", \"type of X_train.columns.values is not correct\"\n",
    "assert sha1(str(X_train.columns.values).encode(\"utf-8\")+b\"7a47627d8292d962\").hexdigest() == \"8b17577930d707f2b57bee7d754c5ad085f0d68d\", \"value of X_train.columns.values is not correct\"\n",
    "\n",
    "assert sha1(str(type(X_train.shape)).encode(\"utf-8\")+b\"1d68a959d6a36c41\").hexdigest() == \"9faaa44cb85efd27116a1d8ce7fadc4c528324a4\", \"type of X_train.shape is not tuple. X_train.shape should be a tuple\"\n",
    "assert sha1(str(len(X_train.shape)).encode(\"utf-8\")+b\"1d68a959d6a36c41\").hexdigest() == \"a3d9cca90f1847185724df2fcdb343d66cc615f1\", \"length of X_train.shape is not correct\"\n",
    "assert sha1(str(sorted(map(str, X_train.shape))).encode(\"utf-8\")+b\"1d68a959d6a36c41\").hexdigest() == \"a8fb714318b004b0c1c5223dceb8e1a4edb89dfd\", \"values of X_train.shape are not correct\"\n",
    "assert sha1(str(X_train.shape).encode(\"utf-8\")+b\"1d68a959d6a36c41\").hexdigest() == \"b3ebfa2d1ec944542eba2cba13e6d86b1e4a3e88\", \"order of elements of X_train.shape is not correct\"\n",
    "\n",
    "assert sha1(str(type(y_train.name)).encode(\"utf-8\")+b\"19e79101e93c4a5c\").hexdigest() == \"b88772d19325a4a770609f665c433e6a3e9432ac\", \"type of y_train.name is not str. y_train.name should be an str\"\n",
    "assert sha1(str(len(y_train.name)).encode(\"utf-8\")+b\"19e79101e93c4a5c\").hexdigest() == \"14d29b8994ee2a724e071f20ed09a568b74e3468\", \"length of y_train.name is not correct\"\n",
    "assert sha1(str(y_train.name.lower()).encode(\"utf-8\")+b\"19e79101e93c4a5c\").hexdigest() == \"b8607f4fe6e926a21d6d368990bb31563f92aa79\", \"value of y_train.name is not correct\"\n",
    "assert sha1(str(y_train.name).encode(\"utf-8\")+b\"19e79101e93c4a5c\").hexdigest() == \"b8607f4fe6e926a21d6d368990bb31563f92aa79\", \"correct string value of y_train.name but incorrect case of letters\"\n",
    "\n",
    "assert sha1(str(type(y_train.shape)).encode(\"utf-8\")+b\"59a61e002c4b1836\").hexdigest() == \"c9a6f0c1e336e4fe02a5f793df628223316e60e3\", \"type of y_train.shape is not tuple. y_train.shape should be a tuple\"\n",
    "assert sha1(str(len(y_train.shape)).encode(\"utf-8\")+b\"59a61e002c4b1836\").hexdigest() == \"dd3c78bc97f66266f59532438e0871d85ec34c01\", \"length of y_train.shape is not correct\"\n",
    "assert sha1(str(sorted(map(str, y_train.shape))).encode(\"utf-8\")+b\"59a61e002c4b1836\").hexdigest() == \"cfd320dfc2dd0efb2e1c6c0d5a6d4e4e2480c054\", \"values of y_train.shape are not correct\"\n",
    "assert sha1(str(y_train.shape).encode(\"utf-8\")+b\"59a61e002c4b1836\").hexdigest() == \"beac2acf5578616c353e8706eb80eab8da2e2280\", \"order of elements of y_train.shape is not correct\"\n",
    "\n",
    "assert sha1(str(type(X_test.columns.values)).encode(\"utf-8\")+b\"e105a57d6014e9a1\").hexdigest() == \"0d09d2d9afbfcb1a1654d60c08272f1952471ada\", \"type of X_test.columns.values is not correct\"\n",
    "assert sha1(str(X_test.columns.values).encode(\"utf-8\")+b\"e105a57d6014e9a1\").hexdigest() == \"fe2af982798ccf6f4bbde8c27a2716f2c23f19c8\", \"value of X_test.columns.values is not correct\"\n",
    "\n",
    "assert sha1(str(type(X_test.shape)).encode(\"utf-8\")+b\"6505195ad08a496f\").hexdigest() == \"ad4256f1279755b07008d8c810c2e733c9e0c3a5\", \"type of X_test.shape is not tuple. X_test.shape should be a tuple\"\n",
    "assert sha1(str(len(X_test.shape)).encode(\"utf-8\")+b\"6505195ad08a496f\").hexdigest() == \"112f711f96204190fe485403af737c52e93af7fe\", \"length of X_test.shape is not correct\"\n",
    "assert sha1(str(sorted(map(str, X_test.shape))).encode(\"utf-8\")+b\"6505195ad08a496f\").hexdigest() == \"0c8b71039f895e9b7ef6ffaa7ba1d11f8e011c6f\", \"values of X_test.shape are not correct\"\n",
    "assert sha1(str(X_test.shape).encode(\"utf-8\")+b\"6505195ad08a496f\").hexdigest() == \"64671c12e0b7504e792cb37a677c1e862b8d0e3d\", \"order of elements of X_test.shape is not correct\"\n",
    "\n",
    "assert sha1(str(type(y_test.name)).encode(\"utf-8\")+b\"2756c1707693aa74\").hexdigest() == \"2c5597654c72b0d7d259cf0f47bb039796aebe76\", \"type of y_test.name is not str. y_test.name should be an str\"\n",
    "assert sha1(str(len(y_test.name)).encode(\"utf-8\")+b\"2756c1707693aa74\").hexdigest() == \"7cc27af01890e44d36b1269103ff6e44d66c2d13\", \"length of y_test.name is not correct\"\n",
    "assert sha1(str(y_test.name.lower()).encode(\"utf-8\")+b\"2756c1707693aa74\").hexdigest() == \"b6a0bd1cb97d6369000b7ebc040a91d0ed43fa32\", \"value of y_test.name is not correct\"\n",
    "assert sha1(str(y_test.name).encode(\"utf-8\")+b\"2756c1707693aa74\").hexdigest() == \"b6a0bd1cb97d6369000b7ebc040a91d0ed43fa32\", \"correct string value of y_test.name but incorrect case of letters\"\n",
    "\n",
    "assert sha1(str(type(y_test.shape)).encode(\"utf-8\")+b\"b1659078b2604ca7\").hexdigest() == \"aca9d80fe06f428eb69ba854b754255d062d7f85\", \"type of y_test.shape is not tuple. y_test.shape should be a tuple\"\n",
    "assert sha1(str(len(y_test.shape)).encode(\"utf-8\")+b\"b1659078b2604ca7\").hexdigest() == \"2216c1c422f22a624ad11ff1809b1bc243e4e97c\", \"length of y_test.shape is not correct\"\n",
    "assert sha1(str(sorted(map(str, y_test.shape))).encode(\"utf-8\")+b\"b1659078b2604ca7\").hexdigest() == \"32a2ce22aed61d32be6c8c8d573afaf70c06903b\", \"values of y_test.shape are not correct\"\n",
    "assert sha1(str(y_test.shape).encode(\"utf-8\")+b\"b1659078b2604ca7\").hexdigest() == \"bccc924ccc5bbd8d1599db55ae78900e8ebb2c1d\", \"order of elements of y_test.shape is not correct\"\n",
    "\n",
    "print('Success!')"
   ]
  },
  {
   "cell_type": "markdown",
   "metadata": {
    "deletable": false,
    "editable": false,
    "nbgrader": {
     "cell_type": "markdown",
     "checksum": "cbc584d833222d0b2d02d812a1c5e027",
     "grade": false,
     "grade_id": "cell-0ebfe08674f42eae",
     "locked": true,
     "schema_version": 3,
     "solution": false,
     "task": false
    }
   },
   "source": [
    "**Question 3.2**\n",
    "<br> {points: 1}\n",
    "\n",
    "Using only the observations in the training dataset, create a scatterplot to assess the relationship between race time (`time_hrs`) and maximum distance ran per week during training (`max`). Put `time_hrs` on the y-axis and `max` on the x-axis. Use `mark_point` and remember to do whatever is necessary to make this an effective visualization, including addressing overplotting in a suitable manner.\n",
    "\n",
    "*Assign this plot to an object called `marathon_scatter`.*"
   ]
  },
  {
   "cell_type": "code",
   "execution_count": null,
   "metadata": {
    "deletable": false,
    "nbgrader": {
     "cell_type": "code",
     "checksum": "d47eaa3aad5c04103b10fa7aa7048589",
     "grade": false,
     "grade_id": "cell-4a1c52e071e0b23e",
     "locked": false,
     "schema_version": 3,
     "solution": true
    }
   },
   "outputs": [],
   "source": [
    "# your code here\n",
    "raise NotImplementedError\n",
    "marathon_scatter"
   ]
  },
  {
   "cell_type": "code",
   "execution_count": null,
   "metadata": {
    "deletable": false,
    "editable": false,
    "nbgrader": {
     "cell_type": "code",
     "checksum": "fd1c67dfa8eb6f7bf01b1b6d89dca563",
     "grade": true,
     "grade_id": "cell-883edd273699e4b7",
     "locked": true,
     "points": 1,
     "schema_version": 3,
     "solution": false
    }
   },
   "outputs": [],
   "source": [
    "from hashlib import sha1\n",
    "assert sha1(str(type(marathon_scatter is None)).encode(\"utf-8\")+b\"7aa21e1b15583549\").hexdigest() == \"5ce4c8ef9bbf01ca32c21355f1073dd6128f52b8\", \"type of marathon_scatter is None is not bool. marathon_scatter is None should be a bool\"\n",
    "assert sha1(str(marathon_scatter is None).encode(\"utf-8\")+b\"7aa21e1b15583549\").hexdigest() == \"22f4de0bf376d3ea37c37917e08965dc62f96048\", \"boolean value of marathon_scatter is None is not correct\"\n",
    "\n",
    "assert sha1(str(type(marathon_scatter.encoding.x['shorthand'])).encode(\"utf-8\")+b\"845478aaae96e856\").hexdigest() == \"3aa004650e35b4d3108bfbe41ca2e4d9fd1af8ca\", \"type of marathon_scatter.encoding.x['shorthand'] is not str. marathon_scatter.encoding.x['shorthand'] should be an str\"\n",
    "assert sha1(str(len(marathon_scatter.encoding.x['shorthand'])).encode(\"utf-8\")+b\"845478aaae96e856\").hexdigest() == \"a95dc656fb8b750c3011294b2c6ccd5d083c9687\", \"length of marathon_scatter.encoding.x['shorthand'] is not correct\"\n",
    "assert sha1(str(marathon_scatter.encoding.x['shorthand'].lower()).encode(\"utf-8\")+b\"845478aaae96e856\").hexdigest() == \"292bc502288cce323c38cfde96b6644f3ab7d70b\", \"value of marathon_scatter.encoding.x['shorthand'] is not correct\"\n",
    "assert sha1(str(marathon_scatter.encoding.x['shorthand']).encode(\"utf-8\")+b\"845478aaae96e856\").hexdigest() == \"292bc502288cce323c38cfde96b6644f3ab7d70b\", \"correct string value of marathon_scatter.encoding.x['shorthand'] but incorrect case of letters\"\n",
    "\n",
    "assert sha1(str(type(marathon_scatter.encoding.y['shorthand'])).encode(\"utf-8\")+b\"c55cc321612aebd7\").hexdigest() == \"1967f902ac763e7778bed3953bbf5c599b4e9338\", \"type of marathon_scatter.encoding.y['shorthand'] is not str. marathon_scatter.encoding.y['shorthand'] should be an str\"\n",
    "assert sha1(str(len(marathon_scatter.encoding.y['shorthand'])).encode(\"utf-8\")+b\"c55cc321612aebd7\").hexdigest() == \"53da6dc0f6ef77b93e98d9fc154e33933a51a623\", \"length of marathon_scatter.encoding.y['shorthand'] is not correct\"\n",
    "assert sha1(str(marathon_scatter.encoding.y['shorthand'].lower()).encode(\"utf-8\")+b\"c55cc321612aebd7\").hexdigest() == \"6d75a634fa547e88889503c21e697a5c73c50e81\", \"value of marathon_scatter.encoding.y['shorthand'] is not correct\"\n",
    "assert sha1(str(marathon_scatter.encoding.y['shorthand']).encode(\"utf-8\")+b\"c55cc321612aebd7\").hexdigest() == \"6d75a634fa547e88889503c21e697a5c73c50e81\", \"correct string value of marathon_scatter.encoding.y['shorthand'] but incorrect case of letters\"\n",
    "\n",
    "assert sha1(str(type(marathon_scatter.mark.type)).encode(\"utf-8\")+b\"51d80f5383c18689\").hexdigest() == \"97bcd7851885d3e297d36be24a09780a82ec5c84\", \"type of marathon_scatter.mark.type is not str. marathon_scatter.mark.type should be an str\"\n",
    "assert sha1(str(len(marathon_scatter.mark.type)).encode(\"utf-8\")+b\"51d80f5383c18689\").hexdigest() == \"ab2a7b7a42bf1af3317aa7ef7485fdbdc0b0d3a9\", \"length of marathon_scatter.mark.type is not correct\"\n",
    "assert sha1(str(marathon_scatter.mark.type.lower()).encode(\"utf-8\")+b\"51d80f5383c18689\").hexdigest() == \"64ee6b4699f6663fc9d7393a5e73d96acef87edc\", \"value of marathon_scatter.mark.type is not correct\"\n",
    "assert sha1(str(marathon_scatter.mark.type).encode(\"utf-8\")+b\"51d80f5383c18689\").hexdigest() == \"64ee6b4699f6663fc9d7393a5e73d96acef87edc\", \"correct string value of marathon_scatter.mark.type but incorrect case of letters\"\n",
    "\n",
    "assert sha1(str(type(marathon_scatter.data.shape[0])).encode(\"utf-8\")+b\"bf57427d5fe50195\").hexdigest() == \"4bfac3767a207e176713d4aad4e2ffda1c8cb3c6\", \"type of marathon_scatter.data.shape[0] is not int. Please make sure it is int and not np.int64, etc. You can cast your value into an int using int()\"\n",
    "assert sha1(str(marathon_scatter.data.shape[0]).encode(\"utf-8\")+b\"bf57427d5fe50195\").hexdigest() == \"f18a1c857ac4869424d4833da6d7b7413f872592\", \"value of marathon_scatter.data.shape[0] is not correct\"\n",
    "\n",
    "assert sha1(str(type('opacity' in marathon_scatter.mark.to_dict())).encode(\"utf-8\")+b\"4a69158e510ee36c\").hexdigest() == \"85861218098525f5908427d11be8cad7993c117a\", \"type of 'opacity' in marathon_scatter.mark.to_dict() is not bool. 'opacity' in marathon_scatter.mark.to_dict() should be a bool\"\n",
    "assert sha1(str('opacity' in marathon_scatter.mark.to_dict()).encode(\"utf-8\")+b\"4a69158e510ee36c\").hexdigest() == \"5e1715893ce900bd957c5dfb1adc39f1ba254b6b\", \"boolean value of 'opacity' in marathon_scatter.mark.to_dict() is not correct\"\n",
    "\n",
    "assert sha1(str(type(isinstance(marathon_scatter.encoding.x['title'], str))).encode(\"utf-8\")+b\"c872b146217592af\").hexdigest() == \"df67c5f5b5fbde314385d98bd8f0eeecd31c0025\", \"type of isinstance(marathon_scatter.encoding.x['title'], str) is not bool. isinstance(marathon_scatter.encoding.x['title'], str) should be a bool\"\n",
    "assert sha1(str(isinstance(marathon_scatter.encoding.x['title'], str)).encode(\"utf-8\")+b\"c872b146217592af\").hexdigest() == \"2ed8f01fcb148e3e98d606f634085bbafc9a2345\", \"boolean value of isinstance(marathon_scatter.encoding.x['title'], str) is not correct\"\n",
    "\n",
    "assert sha1(str(type(isinstance(marathon_scatter.encoding.y['title'], str))).encode(\"utf-8\")+b\"6745ebd94f447681\").hexdigest() == \"c36b89723d5f4d8709173d3f5dba45a35ad39cbd\", \"type of isinstance(marathon_scatter.encoding.y['title'], str) is not bool. isinstance(marathon_scatter.encoding.y['title'], str) should be a bool\"\n",
    "assert sha1(str(isinstance(marathon_scatter.encoding.y['title'], str)).encode(\"utf-8\")+b\"6745ebd94f447681\").hexdigest() == \"9144c8bfbedd6a7496a46d6023af6ac0581e86cf\", \"boolean value of isinstance(marathon_scatter.encoding.y['title'], str) is not correct\"\n",
    "\n",
    "print('Success!')"
   ]
  },
  {
   "cell_type": "markdown",
   "metadata": {
    "deletable": false,
    "editable": false,
    "nbgrader": {
     "cell_type": "markdown",
     "checksum": "7092f753dfc1b6664f634339736b6f7f",
     "grade": false,
     "grade_id": "cell-c66b91eb433ebef7",
     "locked": true,
     "schema_version": 3,
     "solution": false,
     "task": false
    }
   },
   "source": [
    "**Question 3.3**\n",
    "<br> {points: 1}\n",
    "\n",
    "Now that we have looked at our training data, the next step is to build a linear regression model. \n",
    "\n",
    "Instead of using the `KNeighborsRegressor` function, we will be using the `LinearRegression` function to let `scikit-learn` know we want to perform a linear regression.\n",
    "\n",
    "*Assign your answer to an object named `lm`.*"
   ]
  },
  {
   "cell_type": "code",
   "execution_count": null,
   "metadata": {
    "deletable": false,
    "nbgrader": {
     "cell_type": "code",
     "checksum": "4f0a69bf5b2afe873aeea8db0050b891",
     "grade": false,
     "grade_id": "cell-9736241c0c2966b9",
     "locked": false,
     "schema_version": 3,
     "solution": true
    }
   },
   "outputs": [],
   "source": [
    "# lm = _____()\n",
    "\n",
    "# your code here\n",
    "raise NotImplementedError\n",
    "lm"
   ]
  },
  {
   "cell_type": "code",
   "execution_count": null,
   "metadata": {
    "deletable": false,
    "editable": false,
    "nbgrader": {
     "cell_type": "code",
     "checksum": "c0eb5ff11932b72177d1ab880d462f60",
     "grade": true,
     "grade_id": "cell-a647adab28a3dfb2",
     "locked": true,
     "points": 1,
     "schema_version": 3,
     "solution": false
    }
   },
   "outputs": [],
   "source": [
    "from hashlib import sha1\n",
    "assert sha1(str(type(lm is None)).encode(\"utf-8\")+b\"a7e21dbc379ef537\").hexdigest() == \"63cb523142377222abf2adbd17e124cc8bf8bd8f\", \"type of lm is None is not bool. lm is None should be a bool\"\n",
    "assert sha1(str(lm is None).encode(\"utf-8\")+b\"a7e21dbc379ef537\").hexdigest() == \"a1105e8c08da53067619ff02ceb53db902ff3fa0\", \"boolean value of lm is None is not correct\"\n",
    "\n",
    "assert sha1(str(type(type(lm))).encode(\"utf-8\")+b\"c81719ce18002f3a\").hexdigest() == \"f6dc7f6a5c8e766a65f996ecb655922738c3798c\", \"type of type(lm) is not correct\"\n",
    "assert sha1(str(type(lm)).encode(\"utf-8\")+b\"c81719ce18002f3a\").hexdigest() == \"dcb387f03bf812541b4e7a2c5cafc720ffec133f\", \"value of type(lm) is not correct\"\n",
    "\n",
    "print('Success!')"
   ]
  },
  {
   "cell_type": "markdown",
   "metadata": {
    "deletable": false,
    "editable": false,
    "nbgrader": {
     "cell_type": "markdown",
     "checksum": "7c12c9eed68edb061bd374bef11b80aa",
     "grade": false,
     "grade_id": "cell-29d06cfa3e0ab3bc",
     "locked": true,
     "schema_version": 3,
     "solution": false,
     "task": false
    }
   },
   "source": [
    "**Question 3.3.1**\n",
    "<br>{points: 1}\n",
    "\n",
    "After we have created our linear regression model, the next step is to fit the training dataset. \n",
    "\n",
    "*Assign your answer to an object named `lm_fit`.*"
   ]
  },
  {
   "cell_type": "code",
   "execution_count": null,
   "metadata": {
    "deletable": false,
    "nbgrader": {
     "cell_type": "code",
     "checksum": "a0a9a46aba76db6f9ec4a02ace3cf55c",
     "grade": false,
     "grade_id": "cell-72f6968d56ed879f",
     "locked": false,
     "schema_version": 3,
     "solution": true,
     "task": false
    }
   },
   "outputs": [],
   "source": [
    "# ___ = ___.fit(___, ___)\n",
    "\n",
    "# your code here\n",
    "raise NotImplementedError\n",
    "lm_fit"
   ]
  },
  {
   "cell_type": "code",
   "execution_count": null,
   "metadata": {
    "deletable": false,
    "editable": false,
    "nbgrader": {
     "cell_type": "code",
     "checksum": "7984a5250fb76bb411866772cb06e54e",
     "grade": true,
     "grade_id": "cell-9d3b1ff7fdd3faa5",
     "locked": true,
     "points": 1,
     "schema_version": 3,
     "solution": false,
     "task": false
    }
   },
   "outputs": [],
   "source": [
    "from hashlib import sha1\n",
    "assert sha1(str(type(lm_fit is None)).encode(\"utf-8\")+b\"e3d121d1fb0dabeb\").hexdigest() == \"6390f64797357a5a14fdc8bcf7a23892af3b3c6f\", \"type of lm_fit is None is not bool. lm_fit is None should be a bool\"\n",
    "assert sha1(str(lm_fit is None).encode(\"utf-8\")+b\"e3d121d1fb0dabeb\").hexdigest() == \"677a2dd7af966c7f6217285000d0d2aea85b5346\", \"boolean value of lm_fit is None is not correct\"\n",
    "\n",
    "assert sha1(str(type(type(lm_fit))).encode(\"utf-8\")+b\"9738413bebcf7aed\").hexdigest() == \"61f640b420ff986e7f5038ac4b0ba8de4a667c0f\", \"type of type(lm_fit) is not correct\"\n",
    "assert sha1(str(type(lm_fit)).encode(\"utf-8\")+b\"9738413bebcf7aed\").hexdigest() == \"15908f6e713a818ad65fd75a2426c0a702d6df01\", \"value of type(lm_fit) is not correct\"\n",
    "\n",
    "assert sha1(str(type(lm_fit.coef_)).encode(\"utf-8\")+b\"1d2b458ef782cd79\").hexdigest() == \"f26428cb45d04cb643fc2dccb0404d06ec1ce3ed\", \"type of lm_fit.coef_ is not correct\"\n",
    "assert sha1(str(lm_fit.coef_).encode(\"utf-8\")+b\"1d2b458ef782cd79\").hexdigest() == \"a737900d6ef3b8a233f7033bdde19e6bc5b1dff9\", \"value of lm_fit.coef_ is not correct\"\n",
    "\n",
    "assert sha1(str(type(lm_fit.intercept_)).encode(\"utf-8\")+b\"900ada05a3c9449f\").hexdigest() == \"c0973833ef5bd597db4599c77c3a840a07f83a4c\", \"type of lm_fit.intercept_ is not correct\"\n",
    "assert sha1(str(lm_fit.intercept_).encode(\"utf-8\")+b\"900ada05a3c9449f\").hexdigest() == \"aced3e3172264a9492f9413df18ae758580bc93d\", \"value of lm_fit.intercept_ is not correct\"\n",
    "\n",
    "print('Success!')"
   ]
  },
  {
   "cell_type": "markdown",
   "metadata": {
    "deletable": false,
    "editable": false,
    "nbgrader": {
     "cell_type": "markdown",
     "checksum": "aaf1f71b04ffdb0f60eca31269cb5214",
     "grade": false,
     "grade_id": "cell-dad798df6163dff4",
     "locked": true,
     "schema_version": 3,
     "solution": false,
     "task": false
    }
   },
   "source": [
    "**Question 3.4**\n",
    "<br> {points: 1}\n",
    "\n",
    "Now, let's visualize the model predictions as a straight line overlaid on the training data. Use the `predict` function of `lm` to create predictions for the `marathon_training` data. Then, add the column of predictions to the `marathon_training` data frame using the `assign` function. Name the resulting data frame `marathon_preds` and the new column `predictions`.\n",
    "\n",
    "Next, create a scatterplot with the marathon time (y-axis) against the maximum distance run per week (x-axis) from `marathon_preds`. Use `mark_circle` with an opacity of 0.4 to avoid overplotting. Assign your plot to a variable called `marathon_plot`. **Plot the predictions as a black line over the data points.** Remember the fundamentals of effective visualizations such as having a human-readable axes titles.\n",
    "\n",
    "*Name your plot `marathon_plot`.*"
   ]
  },
  {
   "cell_type": "code",
   "execution_count": null,
   "metadata": {
    "deletable": false,
    "nbgrader": {
     "cell_type": "code",
     "checksum": "1ae82d7dd56b5e9a9c3a1b4d3f658d27",
     "grade": false,
     "grade_id": "cell-6131349a47c37876",
     "locked": false,
     "schema_version": 3,
     "solution": true
    }
   },
   "outputs": [],
   "source": [
    "# marathon_preds = ____.assign(\n",
    "#     predictions= _____.predict(____)\n",
    "# )\n",
    "# scatterplot = ___\n",
    "#\n",
    "# marathon_plot = scatterplot + ___.mark_line(___).encode(___)\n",
    "\n",
    "# your code here\n",
    "raise NotImplementedError\n",
    "marathon_plot"
   ]
  },
  {
   "cell_type": "code",
   "execution_count": null,
   "metadata": {
    "deletable": false,
    "editable": false,
    "nbgrader": {
     "cell_type": "code",
     "checksum": "46dc42405688efa13ae91b6252296c80",
     "grade": true,
     "grade_id": "cell-4664079ebe7d0892",
     "locked": true,
     "points": 1,
     "schema_version": 3,
     "solution": false
    }
   },
   "outputs": [],
   "source": [
    "from hashlib import sha1\n",
    "assert sha1(str(type(marathon_preds is None)).encode(\"utf-8\")+b\"9774f5effdf65bda\").hexdigest() == \"44f57919b27ba03e080b183b7d7731db017b3255\", \"type of marathon_preds is None is not bool. marathon_preds is None should be a bool\"\n",
    "assert sha1(str(marathon_preds is None).encode(\"utf-8\")+b\"9774f5effdf65bda\").hexdigest() == \"0e41d6e6f018ffd253b8383667e4e2eb995ec433\", \"boolean value of marathon_preds is None is not correct\"\n",
    "\n",
    "assert sha1(str(type(marathon_preds)).encode(\"utf-8\")+b\"42cecb6be5c7ebf5\").hexdigest() == \"16cbf7b3d77e6b9d493db225e6a90b7afc7018e2\", \"type of type(marathon_preds) is not correct\"\n",
    "\n",
    "assert sha1(str(type(marathon_preds.shape)).encode(\"utf-8\")+b\"6c5da521a99a6c0a\").hexdigest() == \"3d8f7170a080bd6cef3198ccd50073f7114e7067\", \"type of marathon_preds.shape is not tuple. marathon_preds.shape should be a tuple\"\n",
    "assert sha1(str(len(marathon_preds.shape)).encode(\"utf-8\")+b\"6c5da521a99a6c0a\").hexdigest() == \"65955d0b407a5026b1726eada5b40e562d869424\", \"length of marathon_preds.shape is not correct\"\n",
    "assert sha1(str(sorted(map(str, marathon_preds.shape))).encode(\"utf-8\")+b\"6c5da521a99a6c0a\").hexdigest() == \"d7c110c0379e7bc6b980d4500eed55a2c31d9010\", \"values of marathon_preds.shape are not correct\"\n",
    "assert sha1(str(marathon_preds.shape).encode(\"utf-8\")+b\"6c5da521a99a6c0a\").hexdigest() == \"354989d79193b5a28b2c9eaacf55af394d51b797\", \"order of elements of marathon_preds.shape is not correct\"\n",
    "\n",
    "assert sha1(str(type(\"predictions\" in marathon_preds.columns)).encode(\"utf-8\")+b\"c724531a5955cd98\").hexdigest() == \"a4d99ad6a003d42a9ce2b85900749c0a86529bb4\", \"type of \\\"predictions\\\" in marathon_preds.columns is not bool. \\\"predictions\\\" in marathon_preds.columns should be a bool\"\n",
    "assert sha1(str(\"predictions\" in marathon_preds.columns).encode(\"utf-8\")+b\"c724531a5955cd98\").hexdigest() == \"36aac1924403184f8d16b9c8f2debc2846e77075\", \"boolean value of \\\"predictions\\\" in marathon_preds.columns is not correct\"\n",
    "\n",
    "assert sha1(str(type(sum(marathon_preds.predictions))).encode(\"utf-8\")+b\"458ffe8d7f57c93b\").hexdigest() == \"012867f12c0fdb4ee97119623f7f204cc856cfce\", \"type of sum(marathon_preds.predictions) is not float. Please make sure it is float and not np.float64, etc. You can cast your value into a float using float()\"\n",
    "assert sha1(str(round(sum(marathon_preds.predictions), 2)).encode(\"utf-8\")+b\"458ffe8d7f57c93b\").hexdigest() == \"83e566bf52d10c6044e8fc4e0f664c258829526b\", \"value of sum(marathon_preds.predictions) is not correct (rounded to 2 decimal places)\"\n",
    "\n",
    "assert sha1(str(type(sum(marathon_preds.time_hrs))).encode(\"utf-8\")+b\"5232adfb65da4a4c\").hexdigest() == \"ffdc6dd4928ba821e58e458b63424e537d053677\", \"type of sum(marathon_preds.time_hrs) is not float. Please make sure it is float and not np.float64, etc. You can cast your value into a float using float()\"\n",
    "assert sha1(str(round(sum(marathon_preds.time_hrs), 2)).encode(\"utf-8\")+b\"5232adfb65da4a4c\").hexdigest() == \"7f88fb80b3f5aa5311607bd1410725a568e43107\", \"value of sum(marathon_preds.time_hrs) is not correct (rounded to 2 decimal places)\"\n",
    "\n",
    "assert sha1(str(type(marathon_plot is None)).encode(\"utf-8\")+b\"01ddc350d9ac5194\").hexdigest() == \"5142b79321207f4303381c9fabe96d52ecf8f58d\", \"type of marathon_plot is None is not bool. marathon_plot is None should be a bool\"\n",
    "assert sha1(str(marathon_plot is None).encode(\"utf-8\")+b\"01ddc350d9ac5194\").hexdigest() == \"3c060e968144ea9a9a6841bb5ca05258ac4a31e5\", \"boolean value of marathon_plot is None is not correct\"\n",
    "\n",
    "assert sha1(str(type(len(marathon_plot.layer))).encode(\"utf-8\")+b\"a40b059b684476c8\").hexdigest() == \"35f75f08379e7889312379145f387a35f4ed8ef5\", \"type of len(marathon_plot.layer) is not int. Please make sure it is int and not np.int64, etc. You can cast your value into an int using int()\"\n",
    "assert sha1(str(len(marathon_plot.layer)).encode(\"utf-8\")+b\"a40b059b684476c8\").hexdigest() == \"da1f53d39e44c73c3acdd121444ff0fc2884597f\", \"value of len(marathon_plot.layer) is not correct\"\n",
    "\n",
    "assert sha1(str(type(marathon_plot.layer[0].mark)).encode(\"utf-8\")+b\"54c42d19a0502e45\").hexdigest() == \"236b09d4b08f93a16a99c7b275296a03f5c2b57f\", \"type of marathon_plot.layer[0].mark is not correct\"\n",
    "assert sha1(str(marathon_plot.layer[0].mark).encode(\"utf-8\")+b\"54c42d19a0502e45\").hexdigest() == \"937d9ddb0cacfdce1ec234ef08aaaa5a9dcaef1e\", \"value of marathon_plot.layer[0].mark is not correct\"\n",
    "\n",
    "assert sha1(str(type(marathon_plot.layer[1].mark)).encode(\"utf-8\")+b\"e2b24ade04084c48\").hexdigest() == \"b45fcabcc0146b3d310e417a9ee36c6f3aad6411\", \"type of marathon_plot.layer[1].mark is not correct\"\n",
    "assert sha1(str(marathon_plot.layer[1].mark).encode(\"utf-8\")+b\"e2b24ade04084c48\").hexdigest() == \"2cabfa70704a7c955b25aaaeebff6ff16adb669d\", \"value of marathon_plot.layer[1].mark is not correct\"\n",
    "\n",
    "assert sha1(str(type(marathon_plot.layer[0].encoding.x['shorthand'])).encode(\"utf-8\")+b\"2473652af0c4b48b\").hexdigest() == \"39c521688f0003f26226fd4c801d82782f91f35f\", \"type of marathon_plot.layer[0].encoding.x['shorthand'] is not str. marathon_plot.layer[0].encoding.x['shorthand'] should be an str\"\n",
    "assert sha1(str(len(marathon_plot.layer[0].encoding.x['shorthand'])).encode(\"utf-8\")+b\"2473652af0c4b48b\").hexdigest() == \"10e83f7787e91057388fd3918f1b436fceb911ef\", \"length of marathon_plot.layer[0].encoding.x['shorthand'] is not correct\"\n",
    "assert sha1(str(marathon_plot.layer[0].encoding.x['shorthand'].lower()).encode(\"utf-8\")+b\"2473652af0c4b48b\").hexdigest() == \"a2aebfe013515bbea84889bcdb4597ae4329e2bb\", \"value of marathon_plot.layer[0].encoding.x['shorthand'] is not correct\"\n",
    "assert sha1(str(marathon_plot.layer[0].encoding.x['shorthand']).encode(\"utf-8\")+b\"2473652af0c4b48b\").hexdigest() == \"a2aebfe013515bbea84889bcdb4597ae4329e2bb\", \"correct string value of marathon_plot.layer[0].encoding.x['shorthand'] but incorrect case of letters\"\n",
    "\n",
    "assert sha1(str(type(marathon_plot.layer[0].encoding.y['shorthand'])).encode(\"utf-8\")+b\"615dc22e964d0944\").hexdigest() == \"c81da728e4368292b0b5ac262a187656d915b95f\", \"type of marathon_plot.layer[0].encoding.y['shorthand'] is not str. marathon_plot.layer[0].encoding.y['shorthand'] should be an str\"\n",
    "assert sha1(str(len(marathon_plot.layer[0].encoding.y['shorthand'])).encode(\"utf-8\")+b\"615dc22e964d0944\").hexdigest() == \"61642de5054c40a92c5b472acc9785fbd10d7fce\", \"length of marathon_plot.layer[0].encoding.y['shorthand'] is not correct\"\n",
    "assert sha1(str(marathon_plot.layer[0].encoding.y['shorthand'].lower()).encode(\"utf-8\")+b\"615dc22e964d0944\").hexdigest() == \"941b2f7beb6ba89f0d19a56025af876febfd4a9c\", \"value of marathon_plot.layer[0].encoding.y['shorthand'] is not correct\"\n",
    "assert sha1(str(marathon_plot.layer[0].encoding.y['shorthand']).encode(\"utf-8\")+b\"615dc22e964d0944\").hexdigest() == \"941b2f7beb6ba89f0d19a56025af876febfd4a9c\", \"correct string value of marathon_plot.layer[0].encoding.y['shorthand'] but incorrect case of letters\"\n",
    "\n",
    "assert sha1(str(type(marathon_plot.layer[1].encoding.y['shorthand'])).encode(\"utf-8\")+b\"b7402b906acaa818\").hexdigest() == \"7877bb0608a08d870f00d6a959740a8c33439a19\", \"type of marathon_plot.layer[1].encoding.y['shorthand'] is not str. marathon_plot.layer[1].encoding.y['shorthand'] should be an str\"\n",
    "assert sha1(str(len(marathon_plot.layer[1].encoding.y['shorthand'])).encode(\"utf-8\")+b\"b7402b906acaa818\").hexdigest() == \"6e4e398b6293788297d898bed9a6e2e70588c817\", \"length of marathon_plot.layer[1].encoding.y['shorthand'] is not correct\"\n",
    "assert sha1(str(marathon_plot.layer[1].encoding.y['shorthand'].lower()).encode(\"utf-8\")+b\"b7402b906acaa818\").hexdigest() == \"cc9c46cce02ee9182514f5c78f3ac0f883d44903\", \"value of marathon_plot.layer[1].encoding.y['shorthand'] is not correct\"\n",
    "assert sha1(str(marathon_plot.layer[1].encoding.y['shorthand']).encode(\"utf-8\")+b\"b7402b906acaa818\").hexdigest() == \"cc9c46cce02ee9182514f5c78f3ac0f883d44903\", \"correct string value of marathon_plot.layer[1].encoding.y['shorthand'] but incorrect case of letters\"\n",
    "\n",
    "assert sha1(str(type(isinstance(marathon_plot.layer[0].encoding.x['title'], str))).encode(\"utf-8\")+b\"9939be46232e164d\").hexdigest() == \"fcd3236618d89403f17956c9dd4f63cdc868bacb\", \"type of isinstance(marathon_plot.layer[0].encoding.x['title'], str) is not bool. isinstance(marathon_plot.layer[0].encoding.x['title'], str) should be a bool\"\n",
    "assert sha1(str(isinstance(marathon_plot.layer[0].encoding.x['title'], str)).encode(\"utf-8\")+b\"9939be46232e164d\").hexdigest() == \"71d879f7db58988c6ad3cc084ee621086547fa5e\", \"boolean value of isinstance(marathon_plot.layer[0].encoding.x['title'], str) is not correct\"\n",
    "\n",
    "assert sha1(str(type(isinstance(marathon_plot.layer[0].encoding.y['title'], str))).encode(\"utf-8\")+b\"75ce347ea6b35527\").hexdigest() == \"dfb7ff3151fd0a475fe02f730b50f3aa73b41678\", \"type of isinstance(marathon_plot.layer[0].encoding.y['title'], str) is not bool. isinstance(marathon_plot.layer[0].encoding.y['title'], str) should be a bool\"\n",
    "assert sha1(str(isinstance(marathon_plot.layer[0].encoding.y['title'], str)).encode(\"utf-8\")+b\"75ce347ea6b35527\").hexdigest() == \"98b40c18d348e28d41b96a5b1801c4196fc73e9d\", \"boolean value of isinstance(marathon_plot.layer[0].encoding.y['title'], str) is not correct\"\n",
    "\n",
    "print('Success!')"
   ]
  },
  {
   "cell_type": "markdown",
   "metadata": {
    "deletable": false,
    "editable": false,
    "nbgrader": {
     "cell_type": "markdown",
     "checksum": "47169291a6dc432883089a4b9d81b0b3",
     "grade": false,
     "grade_id": "cell-c4273b717c7a3cb7",
     "locked": true,
     "schema_version": 3,
     "solution": false,
     "task": false
    }
   },
   "source": [
    "**Question 3.5**\n",
    "<br> {points: 1}\n",
    "\n",
    "Great! We can now see the line of best fit on the graph. Now let's calculate the RMSPE using the **test data**. To get to this point, first, use the `lm` object to make predictions on the test data. Then, add the column of predictions to the `marathon_testing` data frame using the `assign` function. Name the resulting data frame `test_preds` and the new column `predictions`.\n",
    "\n",
    "Afterwards, calculate the RMSPE using the `mean_squared_error` function.\n",
    "\n",
    "*Assign the RMSPE score to an object called `lm_rmspe`.*"
   ]
  },
  {
   "cell_type": "code",
   "execution_count": null,
   "metadata": {
    "deletable": false,
    "nbgrader": {
     "cell_type": "code",
     "checksum": "3176f9bcec2069c1e738a1b346bd3604",
     "grade": false,
     "grade_id": "cell-5f42a9ac9068cfdf",
     "locked": false,
     "schema_version": 3,
     "solution": true
    }
   },
   "outputs": [],
   "source": [
    "# ___ = ___.assign(\n",
    "#     predictions=___.predict(___)\n",
    "# )\n",
    "\n",
    "# ___ = ___(___, ___)**(1/2)\n",
    "\n",
    "# your code here\n",
    "raise NotImplementedError\n",
    "lm_rmspe"
   ]
  },
  {
   "cell_type": "code",
   "execution_count": null,
   "metadata": {
    "deletable": false,
    "editable": false,
    "nbgrader": {
     "cell_type": "code",
     "checksum": "36f0301c91648f7d2a2a344cd70a4843",
     "grade": true,
     "grade_id": "cell-41031aad5e75b436",
     "locked": true,
     "points": 1,
     "schema_version": 3,
     "solution": false
    }
   },
   "outputs": [],
   "source": [
    "from hashlib import sha1\n",
    "assert sha1(str(type(test_preds is None)).encode(\"utf-8\")+b\"63f7897e3b3ac7ff\").hexdigest() == \"e9097f883e7529ebda9f7af131f9ac0fc577b835\", \"type of test_preds is None is not bool. test_preds is None should be a bool\"\n",
    "assert sha1(str(test_preds is None).encode(\"utf-8\")+b\"63f7897e3b3ac7ff\").hexdigest() == \"7bd3dbb968228d19a8a253a6fb3aaa3991ffcdef\", \"boolean value of test_preds is None is not correct\"\n",
    "\n",
    "assert sha1(str(type(test_preds)).encode(\"utf-8\")+b\"79db1255e3c6e565\").hexdigest() == \"8fed1fea8f4845fc50629c05a2ec28f086cbbb46\", \"type of type(test_preds) is not correct\"\n",
    "\n",
    "assert sha1(str(type(test_preds.shape)).encode(\"utf-8\")+b\"e803f196aec9370d\").hexdigest() == \"946a639599fd1d15f4e5ea8755f264d785d4cac1\", \"type of test_preds.shape is not tuple. test_preds.shape should be a tuple\"\n",
    "assert sha1(str(len(test_preds.shape)).encode(\"utf-8\")+b\"e803f196aec9370d\").hexdigest() == \"401aedda8a3be25d748334baec0a63f24cc9df68\", \"length of test_preds.shape is not correct\"\n",
    "assert sha1(str(sorted(map(str, test_preds.shape))).encode(\"utf-8\")+b\"e803f196aec9370d\").hexdigest() == \"dbb37d47b3fc5417c820b9958cfabd1af6f3e06a\", \"values of test_preds.shape are not correct\"\n",
    "assert sha1(str(test_preds.shape).encode(\"utf-8\")+b\"e803f196aec9370d\").hexdigest() == \"db98cbdc5582d26ccb07146f16f36b4bccd09f4a\", \"order of elements of test_preds.shape is not correct\"\n",
    "\n",
    "assert sha1(str(type(sum(test_preds.predictions))).encode(\"utf-8\")+b\"e1c0bed521388017\").hexdigest() == \"300e44dbad3b006e755f698b133b3da7eed2617f\", \"type of sum(test_preds.predictions) is not float. Please make sure it is float and not np.float64, etc. You can cast your value into a float using float()\"\n",
    "assert sha1(str(round(sum(test_preds.predictions), 2)).encode(\"utf-8\")+b\"e1c0bed521388017\").hexdigest() == \"fbb12393491fc142f454876dee35f30d71f831b1\", \"value of sum(test_preds.predictions) is not correct (rounded to 2 decimal places)\"\n",
    "\n",
    "assert sha1(str(type(lm_rmspe is None)).encode(\"utf-8\")+b\"95dfb4004c9758e2\").hexdigest() == \"23ba70ecc08f22e47f8b1eaacd65ae901ae9ef35\", \"type of lm_rmspe is None is not bool. lm_rmspe is None should be a bool\"\n",
    "assert sha1(str(lm_rmspe is None).encode(\"utf-8\")+b\"95dfb4004c9758e2\").hexdigest() == \"ff989a606904445c051f636bc945e9668d0e74c7\", \"boolean value of lm_rmspe is None is not correct\"\n",
    "\n",
    "assert sha1(str(type(lm_rmspe)).encode(\"utf-8\")+b\"326295698554ad74\").hexdigest() == \"f258d64a03b6afdbccc587ebd0473de215a430d3\", \"type of type(lm_rmspe) is not correct\"\n",
    "\n",
    "assert sha1(str(type(round(lm_rmspe, 1))).encode(\"utf-8\")+b\"12ab528030b3e5fb\").hexdigest() == \"a696a3ff1fa7bb831530b340f78cffcb52794fed\", \"type of round(lm_rmspe, 1) is not correct\"\n",
    "assert sha1(str(round(lm_rmspe, 1)).encode(\"utf-8\")+b\"12ab528030b3e5fb\").hexdigest() == \"96942441706481487e03b4d1288530e60d1da856\", \"value of round(lm_rmspe, 1) is not correct\"\n",
    "\n",
    "print('Success!')"
   ]
  },
  {
   "cell_type": "markdown",
   "metadata": {
    "deletable": false,
    "editable": false,
    "nbgrader": {
     "cell_type": "markdown",
     "checksum": "016f04e041b56300160651d30897757d",
     "grade": false,
     "grade_id": "cell-248f1e3467b09c40",
     "locked": true,
     "schema_version": 3,
     "solution": false,
     "task": false
    }
   },
   "source": [
    "**Question 3.5.1**\n",
    "<br> {points: 1}\n",
    "\n",
    "Now, let's visualize the model predictions as a straight line overlaid on the test data. First, create a scatterplot to assess the relationship between race time (`time_hrs`) and maximum distance ran per week during training (`max`) on the **testing data.** Then add a line to the plot corresponding to the predictions (`predictions`) from the fit linear regression model. Remember to do whatever is necessary to make this an effective visualization.\n",
    "\n",
    "*Assign the plot to an object called `marathon_plot_test`.*"
   ]
  },
  {
   "cell_type": "code",
   "execution_count": null,
   "metadata": {
    "deletable": false,
    "nbgrader": {
     "cell_type": "code",
     "checksum": "fc6b824ffc009d47a9b5f9721525e91c",
     "grade": false,
     "grade_id": "cell-498c80d6fa9369a7",
     "locked": false,
     "schema_version": 3,
     "solution": true,
     "task": false
    }
   },
   "outputs": [],
   "source": [
    "# marathon_plot = ___\n",
    "\n",
    "# your code here\n",
    "raise NotImplementedError\n",
    "marathon_plot_test"
   ]
  },
  {
   "cell_type": "code",
   "execution_count": null,
   "metadata": {
    "deletable": false,
    "editable": false,
    "nbgrader": {
     "cell_type": "code",
     "checksum": "c3cefebde23a078b41e831950a62b91c",
     "grade": true,
     "grade_id": "cell-218d130332eebf2a",
     "locked": true,
     "points": 1,
     "schema_version": 3,
     "solution": false,
     "task": false
    }
   },
   "outputs": [],
   "source": [
    "from hashlib import sha1\n",
    "assert sha1(str(type(marathon_plot is None)).encode(\"utf-8\")+b\"544ca4cf40d5c618\").hexdigest() == \"9a8cd07603dd6b139f7ad8902c8e7f2654556f5c\", \"type of marathon_plot is None is not bool. marathon_plot is None should be a bool\"\n",
    "assert sha1(str(marathon_plot is None).encode(\"utf-8\")+b\"544ca4cf40d5c618\").hexdigest() == \"08da11d10eee749aae85e1eea883e9b9f819c23c\", \"boolean value of marathon_plot is None is not correct\"\n",
    "\n",
    "assert sha1(str(type(len(marathon_plot.layer))).encode(\"utf-8\")+b\"1036e5558889de63\").hexdigest() == \"cd398c187bf82730ddbdf04a1739d5d3e2bebdf1\", \"type of len(marathon_plot.layer) is not int. Please make sure it is int and not np.int64, etc. You can cast your value into an int using int()\"\n",
    "assert sha1(str(len(marathon_plot.layer)).encode(\"utf-8\")+b\"1036e5558889de63\").hexdigest() == \"afca6566224eee3f02609f2511992aa92897fb41\", \"value of len(marathon_plot.layer) is not correct\"\n",
    "\n",
    "assert sha1(str(type(marathon_plot.layer[0].mark)).encode(\"utf-8\")+b\"6f125695f5dde0c4\").hexdigest() == \"416b321a8f064dd33462b362d6e9c4ab448a5f06\", \"type of marathon_plot.layer[0].mark is not correct\"\n",
    "assert sha1(str(marathon_plot.layer[0].mark).encode(\"utf-8\")+b\"6f125695f5dde0c4\").hexdigest() == \"305e49ee490d5dbcff446630447ddffe61fcf485\", \"value of marathon_plot.layer[0].mark is not correct\"\n",
    "\n",
    "assert sha1(str(type(marathon_plot.layer[1].mark)).encode(\"utf-8\")+b\"e127da6f5d9b6966\").hexdigest() == \"c632c947c63b190452701640df4eb3651ed35583\", \"type of marathon_plot.layer[1].mark is not correct\"\n",
    "assert sha1(str(marathon_plot.layer[1].mark).encode(\"utf-8\")+b\"e127da6f5d9b6966\").hexdigest() == \"9683b29abb434e72133eaf786bd05781ba2712e9\", \"value of marathon_plot.layer[1].mark is not correct\"\n",
    "\n",
    "assert sha1(str(type(marathon_plot.layer[0].encoding.x['shorthand'])).encode(\"utf-8\")+b\"76d9d1502b18cdc6\").hexdigest() == \"6672609dd00193b5861bab6afec1d454e692affb\", \"type of marathon_plot.layer[0].encoding.x['shorthand'] is not str. marathon_plot.layer[0].encoding.x['shorthand'] should be an str\"\n",
    "assert sha1(str(len(marathon_plot.layer[0].encoding.x['shorthand'])).encode(\"utf-8\")+b\"76d9d1502b18cdc6\").hexdigest() == \"2f49df704f8aa8d290ea21d15b63c1ed722acee6\", \"length of marathon_plot.layer[0].encoding.x['shorthand'] is not correct\"\n",
    "assert sha1(str(marathon_plot.layer[0].encoding.x['shorthand'].lower()).encode(\"utf-8\")+b\"76d9d1502b18cdc6\").hexdigest() == \"70639bc5fd444a0357651a532ec2274252646434\", \"value of marathon_plot.layer[0].encoding.x['shorthand'] is not correct\"\n",
    "assert sha1(str(marathon_plot.layer[0].encoding.x['shorthand']).encode(\"utf-8\")+b\"76d9d1502b18cdc6\").hexdigest() == \"70639bc5fd444a0357651a532ec2274252646434\", \"correct string value of marathon_plot.layer[0].encoding.x['shorthand'] but incorrect case of letters\"\n",
    "\n",
    "assert sha1(str(type(marathon_plot.layer[0].encoding.y['shorthand'])).encode(\"utf-8\")+b\"1b164596eada0e27\").hexdigest() == \"8082d7dc331cb048042006b51b6d45996daa513b\", \"type of marathon_plot.layer[0].encoding.y['shorthand'] is not str. marathon_plot.layer[0].encoding.y['shorthand'] should be an str\"\n",
    "assert sha1(str(len(marathon_plot.layer[0].encoding.y['shorthand'])).encode(\"utf-8\")+b\"1b164596eada0e27\").hexdigest() == \"3800d354058bbf23c4645dac0b88ca128c134edb\", \"length of marathon_plot.layer[0].encoding.y['shorthand'] is not correct\"\n",
    "assert sha1(str(marathon_plot.layer[0].encoding.y['shorthand'].lower()).encode(\"utf-8\")+b\"1b164596eada0e27\").hexdigest() == \"1baccd4f60d0acdbc66b867e7900f29f51f141e6\", \"value of marathon_plot.layer[0].encoding.y['shorthand'] is not correct\"\n",
    "assert sha1(str(marathon_plot.layer[0].encoding.y['shorthand']).encode(\"utf-8\")+b\"1b164596eada0e27\").hexdigest() == \"1baccd4f60d0acdbc66b867e7900f29f51f141e6\", \"correct string value of marathon_plot.layer[0].encoding.y['shorthand'] but incorrect case of letters\"\n",
    "\n",
    "assert sha1(str(type(marathon_plot.layer[1].encoding.y['shorthand'])).encode(\"utf-8\")+b\"f6e8cdefe6869e32\").hexdigest() == \"ff43e5d69c61f9f8fbb3a0eff82d3884176276ff\", \"type of marathon_plot.layer[1].encoding.y['shorthand'] is not str. marathon_plot.layer[1].encoding.y['shorthand'] should be an str\"\n",
    "assert sha1(str(len(marathon_plot.layer[1].encoding.y['shorthand'])).encode(\"utf-8\")+b\"f6e8cdefe6869e32\").hexdigest() == \"9954b236f9b18c3336c730205d7bb2216ae2360e\", \"length of marathon_plot.layer[1].encoding.y['shorthand'] is not correct\"\n",
    "assert sha1(str(marathon_plot.layer[1].encoding.y['shorthand'].lower()).encode(\"utf-8\")+b\"f6e8cdefe6869e32\").hexdigest() == \"317ada07ca168a17062d90e7ea0ba1f389b97072\", \"value of marathon_plot.layer[1].encoding.y['shorthand'] is not correct\"\n",
    "assert sha1(str(marathon_plot.layer[1].encoding.y['shorthand']).encode(\"utf-8\")+b\"f6e8cdefe6869e32\").hexdigest() == \"317ada07ca168a17062d90e7ea0ba1f389b97072\", \"correct string value of marathon_plot.layer[1].encoding.y['shorthand'] but incorrect case of letters\"\n",
    "\n",
    "assert sha1(str(type(isinstance(marathon_plot.layer[0].encoding.x['title'], str))).encode(\"utf-8\")+b\"2cdf73963ffe7841\").hexdigest() == \"dbf926b4bae2e5dc7768477b126d15e999bcd43b\", \"type of isinstance(marathon_plot.layer[0].encoding.x['title'], str) is not bool. isinstance(marathon_plot.layer[0].encoding.x['title'], str) should be a bool\"\n",
    "assert sha1(str(isinstance(marathon_plot.layer[0].encoding.x['title'], str)).encode(\"utf-8\")+b\"2cdf73963ffe7841\").hexdigest() == \"5c00baa1e8d703a79e9e3d6ad78808376102d57c\", \"boolean value of isinstance(marathon_plot.layer[0].encoding.x['title'], str) is not correct\"\n",
    "\n",
    "assert sha1(str(type(isinstance(marathon_plot.layer[0].encoding.y['title'], str))).encode(\"utf-8\")+b\"510c245e6939e48f\").hexdigest() == \"231fc4d8297232bf6941b80a59594b6284c6b895\", \"type of isinstance(marathon_plot.layer[0].encoding.y['title'], str) is not bool. isinstance(marathon_plot.layer[0].encoding.y['title'], str) should be a bool\"\n",
    "assert sha1(str(isinstance(marathon_plot.layer[0].encoding.y['title'], str)).encode(\"utf-8\")+b\"510c245e6939e48f\").hexdigest() == \"9bf159a474d9ff7cfc3fdbbf1ebd22d9a6798ad6\", \"boolean value of isinstance(marathon_plot.layer[0].encoding.y['title'], str) is not correct\"\n",
    "\n",
    "print('Success!')"
   ]
  },
  {
   "cell_type": "markdown",
   "metadata": {
    "deletable": false,
    "editable": false,
    "nbgrader": {
     "cell_type": "markdown",
     "checksum": "5ed10968379c215307edd81ff5287107",
     "grade": false,
     "grade_id": "cell-3379505df4a3aef4",
     "locked": true,
     "schema_version": 3,
     "solution": false,
     "task": false
    }
   },
   "source": [
    "**Question 3.6**\n",
    "<br> {points: 1}\n",
    "\n",
    "Compare the RMSPE of k-nn regression (`0.616` from last worksheet) to that of simple linear regression. Which is greater? \n",
    "\n",
    "A. Simple linear regression has a greater RMSPE\n",
    "\n",
    "B. $k$-nn regression has a greater RMSPE\n",
    "\n",
    "C. Neither, they are identical\n",
    "\n",
    "*Save the letter of your answer to a variable named `answer3_6`. Make sure you put quotations around the letter and pay attention to case.*"
   ]
  },
  {
   "cell_type": "code",
   "execution_count": null,
   "metadata": {
    "deletable": false,
    "nbgrader": {
     "cell_type": "code",
     "checksum": "7c2a67c2ac62681fd214327c58ae912e",
     "grade": false,
     "grade_id": "cell-e633b4ce6799432e",
     "locked": false,
     "schema_version": 3,
     "solution": true
    }
   },
   "outputs": [],
   "source": [
    "# your code here\n",
    "raise NotImplementedError"
   ]
  },
  {
   "cell_type": "code",
   "execution_count": null,
   "metadata": {
    "deletable": false,
    "editable": false,
    "nbgrader": {
     "cell_type": "code",
     "checksum": "c7f482da93eb7e4921595691074641c6",
     "grade": true,
     "grade_id": "cell-c180c6230f13243c",
     "locked": true,
     "points": 1,
     "schema_version": 3,
     "solution": false
    }
   },
   "outputs": [],
   "source": [
    "from hashlib import sha1\n",
    "assert sha1(str(type(answer3_6)).encode(\"utf-8\")+b\"e9f2e968d99e8496\").hexdigest() == \"9fc6338804c59abcc9881c09eea0b04cd5908f16\", \"type of answer3_6 is not str. answer3_6 should be an str\"\n",
    "assert sha1(str(len(answer3_6)).encode(\"utf-8\")+b\"e9f2e968d99e8496\").hexdigest() == \"e1b3a2e56450b7baada723ff7dd9ab9fedf37b21\", \"length of answer3_6 is not correct\"\n",
    "assert sha1(str(answer3_6.lower()).encode(\"utf-8\")+b\"e9f2e968d99e8496\").hexdigest() == \"e1b15a3b9d4f926f5eb059e4f55d9a59aa765d92\", \"value of answer3_6 is not correct\"\n",
    "assert sha1(str(answer3_6).encode(\"utf-8\")+b\"e9f2e968d99e8496\").hexdigest() == \"766efea05b3dc9fb01663d406c1a27fd107a2c5b\", \"correct string value of answer3_6 but incorrect case of letters\"\n",
    "\n",
    "print('Success!')"
   ]
  },
  {
   "cell_type": "markdown",
   "metadata": {
    "deletable": false,
    "editable": false,
    "nbgrader": {
     "cell_type": "markdown",
     "checksum": "62fa20bdae136650c9bd49790d51c3a0",
     "grade": false,
     "grade_id": "cell-34ba4508e97d7316",
     "locked": true,
     "schema_version": 3,
     "solution": false,
     "task": false
    }
   },
   "source": [
    "**Question 3.7**\n",
    "<br> {points: 1}\n",
    "\n",
    "Which model does a better job of predicting on the test dataset?\n",
    "\n",
    "A. Simple linear regression \n",
    "\n",
    "B. $k$-nn regression \n",
    "\n",
    "C. Neither, they are identical\n",
    "\n",
    "*Save the letter of your answer to a variable named `answer3_7`. Make sure you put quotations around the letter and pay attention to case.*"
   ]
  },
  {
   "cell_type": "code",
   "execution_count": null,
   "metadata": {
    "deletable": false,
    "nbgrader": {
     "cell_type": "code",
     "checksum": "b306d70a03bc262721916e94da3b34de",
     "grade": false,
     "grade_id": "cell-e090cdac97461555",
     "locked": false,
     "schema_version": 3,
     "solution": true
    }
   },
   "outputs": [],
   "source": [
    "# your code here\n",
    "raise NotImplementedError"
   ]
  },
  {
   "cell_type": "code",
   "execution_count": null,
   "metadata": {
    "deletable": false,
    "editable": false,
    "nbgrader": {
     "cell_type": "code",
     "checksum": "5159c16a4be65dae8821e0296d879a5a",
     "grade": true,
     "grade_id": "cell-9f902420da757d0a",
     "locked": true,
     "points": 1,
     "schema_version": 3,
     "solution": false
    }
   },
   "outputs": [],
   "source": [
    "from hashlib import sha1\n",
    "assert sha1(str(type(answer3_7)).encode(\"utf-8\")+b\"2b64819421812686\").hexdigest() == \"d48ff2143037f7a2d4b0d1bb35ed73f38910bb33\", \"type of answer3_7 is not str. answer3_7 should be an str\"\n",
    "assert sha1(str(len(answer3_7)).encode(\"utf-8\")+b\"2b64819421812686\").hexdigest() == \"76b77bc04610e77f81649b66ea0783c49f1a1e6e\", \"length of answer3_7 is not correct\"\n",
    "assert sha1(str(answer3_7.lower()).encode(\"utf-8\")+b\"2b64819421812686\").hexdigest() == \"88e099e9ff63e833d9ad8edac7cd7a3f76de293f\", \"value of answer3_7 is not correct\"\n",
    "assert sha1(str(answer3_7).encode(\"utf-8\")+b\"2b64819421812686\").hexdigest() == \"3a9289f987ace1c4aa97b1dc27794077785e644d\", \"correct string value of answer3_7 but incorrect case of letters\"\n",
    "\n",
    "print('Success!')"
   ]
  },
  {
   "cell_type": "markdown",
   "metadata": {
    "deletable": false,
    "editable": false,
    "nbgrader": {
     "cell_type": "markdown",
     "checksum": "cca8208a18f0fde60d97f7bebb32904f",
     "grade": false,
     "grade_id": "cell-e0b42a79e704b681",
     "locked": true,
     "schema_version": 3,
     "solution": false,
     "task": false
    }
   },
   "source": [
    "Given that the linear regression model is a straight line, we can write our model as a mathematical equation. We can get the two numbers we need for this from the `coef_` and `intercept_` attributes from `lm_fit`. "
   ]
  },
  {
   "cell_type": "code",
   "execution_count": null,
   "metadata": {
    "deletable": false,
    "editable": false,
    "nbgrader": {
     "cell_type": "code",
     "checksum": "2e941e974c0236fea52ed1c0bbba0adc",
     "grade": false,
     "grade_id": "cell-950e45b9b52f7a59",
     "locked": true,
     "schema_version": 3,
     "solution": false,
     "task": false
    }
   },
   "outputs": [],
   "source": [
    "# run this cell\n",
    "print(f\"The coefficient for the linear regression is {lm_fit.coef_[0]:0.3f}.\")\n",
    "print(f\"The intercept for the linear regression is {lm_fit.intercept_:0.3f}.\")"
   ]
  },
  {
   "cell_type": "markdown",
   "metadata": {
    "deletable": false,
    "editable": false,
    "nbgrader": {
     "cell_type": "markdown",
     "checksum": "0e6c23430086498e84e3e263d7350291",
     "grade": false,
     "grade_id": "cell-936d12f8333ecff6",
     "locked": true,
     "schema_version": 3,
     "solution": false,
     "task": false
    }
   },
   "source": [
    "**Question 3.8.1**\n",
    "<br> {points: 1}\n",
    "\n",
    "Which of the following mathematical equations represents the model based on the numbers output in the cell above? \n",
    "\n",
    "A. $Predicted \\ race \\ time \\ (in \\ hours) = 4.851 - 0.022  * max \\ (in \\ miles)$\n",
    "\n",
    "B. $Predicted \\ race \\ time \\ (in \\ hours) = -0.022 + 4.851 * max \\ (in \\ miles)$\n",
    "\n",
    "C. $Predicted \\ max \\ (in \\ miles) = 4.851 - 0.022 *  \\ race \\ time \\ (in \\ hours)$\n",
    " \n",
    "D. $Predicted \\ max \\ (in \\ miles) = -0.022 + 4.851 *  \\ race \\ time \\ (in \\ hours)$\n",
    "\n",
    "*Save the letter of your answer to a variable named `answer3_8_1`. Make sure you put quotations around the letter and pay attention to case.*"
   ]
  },
  {
   "cell_type": "code",
   "execution_count": null,
   "metadata": {
    "deletable": false,
    "nbgrader": {
     "cell_type": "code",
     "checksum": "c081c066506c9a75ea70e69c635c5cb6",
     "grade": false,
     "grade_id": "cell-e2595c01d8d07897",
     "locked": false,
     "schema_version": 3,
     "solution": true,
     "task": false
    }
   },
   "outputs": [],
   "source": [
    "# your code here\n",
    "raise NotImplementedError"
   ]
  },
  {
   "cell_type": "code",
   "execution_count": null,
   "metadata": {
    "deletable": false,
    "editable": false,
    "nbgrader": {
     "cell_type": "code",
     "checksum": "57f487bf5c0f6990df7eb81e27e1b1d3",
     "grade": true,
     "grade_id": "cell-5884a2fd9625b2e8",
     "locked": true,
     "points": 1,
     "schema_version": 3,
     "solution": false,
     "task": false
    }
   },
   "outputs": [],
   "source": [
    "from hashlib import sha1\n",
    "assert sha1(str(type(answer3_8_1)).encode(\"utf-8\")+b\"b0c2f307e3f9259f\").hexdigest() == \"188f93b32fda167e9006e910913665b904edea32\", \"type of answer3_8_1 is not str. answer3_8_1 should be an str\"\n",
    "assert sha1(str(len(answer3_8_1)).encode(\"utf-8\")+b\"b0c2f307e3f9259f\").hexdigest() == \"8700633e9e845909caed86f54952d223d8136083\", \"length of answer3_8_1 is not correct\"\n",
    "assert sha1(str(answer3_8_1.lower()).encode(\"utf-8\")+b\"b0c2f307e3f9259f\").hexdigest() == \"fb1867242139e57c5088aa48be752417a4883a81\", \"value of answer3_8_1 is not correct\"\n",
    "assert sha1(str(answer3_8_1).encode(\"utf-8\")+b\"b0c2f307e3f9259f\").hexdigest() == \"6830ecbffe4a78d147c963b4699ee668afb5ea20\", \"correct string value of answer3_8_1 but incorrect case of letters\"\n",
    "\n",
    "print('Success!')"
   ]
  }
 ],
 "metadata": {
  "kernelspec": {
   "display_name": "Python 3 (ipykernel)",
   "language": "python",
   "name": "python3"
  },
  "language_info": {
   "codemirror_mode": {
    "name": "ipython",
    "version": 3
   },
   "file_extension": ".py",
   "mimetype": "text/x-python",
   "name": "python",
   "nbconvert_exporter": "python",
   "pygments_lexer": "ipython3",
   "version": "3.11.4"
  }
 },
 "nbformat": 4,
 "nbformat_minor": 4
}
