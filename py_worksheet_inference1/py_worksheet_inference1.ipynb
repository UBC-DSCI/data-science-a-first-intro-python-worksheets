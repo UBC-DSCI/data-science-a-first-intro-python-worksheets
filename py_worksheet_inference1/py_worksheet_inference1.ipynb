{
 "cells": [
  {
   "cell_type": "markdown",
   "metadata": {
    "deletable": false,
    "editable": false,
    "nbgrader": {
     "cell_type": "markdown",
     "checksum": "f86784d2fe71c351a739bee2a41aff2b",
     "grade": false,
     "grade_id": "cell-f9cd89ad16c3393f",
     "locked": true,
     "schema_version": 3,
     "solution": false,
     "task": false
    }
   },
   "source": [
    "# Worksheet 11 - Introduction to Statistical Inference\n",
    "\n",
    "### Lecture and Tutorial Learning Goals:\n",
    "\n",
    "After completing this week's lecture and tutorial work, you will be able to:\n",
    "- Describe real world examples of questions that can be answered with the statistical inference methods.\n",
    "- Name common population parameters (e.g., mean, proportion, median, variance, standard deviation) that are often estimated using sample data, and use computation to estimate these.\n",
    "- Define the following statistical sampling terms (population, sample, population parameter, point estimate, sampling distribution).\n",
    "- Explain the difference between a population parameter and sample point estimate.\n",
    "- Use computation to draw random samples from a finite population.\n",
    "- Use computation to create a sampling distribution from a finite population.\n",
    "- Describe how sample size influences the sampling distribution.\n",
    "\n",
    "This worksheet covers parts of [Chapter 10](https://python.datasciencebook.ca/inference) of the online textbook. You should read this chapter before attempting this assignment. Any place you see `___`, you must fill in the function, variable, or data to complete the code. Substitute the `raise NotImplementedError` with your completed code and answers then proceed to run the cell."
   ]
  },
  {
   "cell_type": "code",
   "execution_count": null,
   "metadata": {
    "deletable": false,
    "editable": false,
    "nbgrader": {
     "cell_type": "code",
     "checksum": "7cff5a9d7398423f797d5ad228095433",
     "grade": false,
     "grade_id": "cell-5e46ba6301dcd126",
     "locked": true,
     "schema_version": 3,
     "solution": false,
     "task": false
    }
   },
   "outputs": [],
   "source": [
    "### Run this cell before continuing.\n",
    "import altair as alt\n",
    "import numpy as np\n",
    "import pandas as pd\n",
    "\n",
    "# Simplify working with large datasets in Altair\n",
    "alt.data_transformers.disable_max_rows()"
   ]
  },
  {
   "cell_type": "markdown",
   "metadata": {
    "deletable": false,
    "editable": false,
    "nbgrader": {
     "cell_type": "markdown",
     "checksum": "e28b6a1ee32f91671a08e244208af2cb",
     "grade": false,
     "grade_id": "cell-45228c253c917b4f",
     "locked": true,
     "schema_version": 3,
     "solution": false,
     "task": false
    }
   },
   "source": [
    "**Question 1.0** Multiple Choice:\n",
    "<br> {points: 1}\n",
    "\n",
    "In which of the following questions would inferential methods (e.g., estimation or hypothesis testing) be appropriate?\n",
    "\n",
    "A. Does treating a corn crop with Roundup cause greater yields compared to corn crops that are not treated with pesticides in Saskatchewan?\n",
    "\n",
    "B. Are yields of corn crops which are treated with Roundup different than corn crops which are not treated with pesticides in Saskatchewan?\n",
    "\n",
    "C. What will be the yield of a corn crop in Saskatchewan if we treat it with Roundup next year?\n",
    "\n",
    "D. Are yields of corn crops which are treated with Roundup different than corn crops which are not treated with pesticides in the data set collected from the Rural Municipality of Cymri No. 36 in Saskatchewan?\n",
    "\n",
    "*Assign your answer to an object called `answer1_0`. Your answer should be a single character surrounded by quotes.*"
   ]
  },
  {
   "cell_type": "code",
   "execution_count": null,
   "metadata": {
    "deletable": false,
    "nbgrader": {
     "cell_type": "code",
     "checksum": "7516bea6ea02340597018ace4f996f1f",
     "grade": false,
     "grade_id": "cell-577c4e36954dca80",
     "locked": false,
     "schema_version": 3,
     "solution": true,
     "task": false
    }
   },
   "outputs": [],
   "source": [
    "# your code here\n",
    "raise NotImplementedError"
   ]
  },
  {
   "cell_type": "code",
   "execution_count": null,
   "metadata": {
    "deletable": false,
    "editable": false,
    "nbgrader": {
     "cell_type": "code",
     "checksum": "00fe6a752fb3180b19a4c4727309c0ca",
     "grade": true,
     "grade_id": "cell-d0c5d425485aa846",
     "locked": true,
     "points": 1,
     "schema_version": 3,
     "solution": false,
     "task": false
    }
   },
   "outputs": [],
   "source": [
    "from hashlib import sha1\n",
    "assert sha1(str(type(answer1_0)).encode(\"utf-8\")+b\"c71b61e385930924\").hexdigest() == \"de8e50e169cc0a0e21b7aa2a81224a1859ef2bb2\", \"type of answer1_0 is not str. answer1_0 should be an str\"\n",
    "assert sha1(str(len(answer1_0)).encode(\"utf-8\")+b\"c71b61e385930924\").hexdigest() == \"e338d591749a9f01fab7fa1d3842d332724cdd2a\", \"length of answer1_0 is not correct\"\n",
    "assert sha1(str(answer1_0.lower()).encode(\"utf-8\")+b\"c71b61e385930924\").hexdigest() == \"339c10f9fccd6dc0d3eb8d1809c30b6106debc7f\", \"value of answer1_0 is not correct\"\n",
    "assert sha1(str(answer1_0).encode(\"utf-8\")+b\"c71b61e385930924\").hexdigest() == \"c685e6cb38df0c5d972003ae8381257754fb04f3\", \"correct string value of answer1_0 but incorrect case of letters\"\n",
    "\n",
    "print('Success!')"
   ]
  },
  {
   "cell_type": "markdown",
   "metadata": {
    "deletable": false,
    "editable": false,
    "nbgrader": {
     "cell_type": "markdown",
     "checksum": "01ab7b5c0258210456f4d7b3a5967d28",
     "grade": false,
     "grade_id": "cell-3d0ceca6b0e205c4",
     "locked": true,
     "schema_version": 3,
     "solution": false,
     "task": false
    }
   },
   "source": [
    "**Question 1.1** Matching:\n",
    "<br> {points: 1}\n",
    "\n",
    "Read the mixed up table below and assign the variables in the code cell below a number to match the the term to it's correct definition. Do not put quotations around the number or include words in the answer, we are expecting the assigned values to be numbers.\n",
    "\n",
    "| Terms |  Definitions |\n",
    "|----------------|------------|\n",
    "| <p align=\"left\">point estimate | <p align=\"left\">1. the entire set of entities/objects of interest |\n",
    "| <p align=\"left\">population | <p align=\"left\">2. selecting a subset of observations from a population where each observation is equally likely to be selected at any point during the selection process|\n",
    "| <p align=\"left\">random sampling | <p align=\"left\">3. a numerical summary value about the population |\n",
    "| <p align=\"left\">representative sampling | <p align=\"left\">4. a distribution of point estimates, where each point estimate was calculated from a different random sample from the same population |\n",
    "| <p align=\"left\">population parameter | <p align=\"left\">5. a collection of observations from a population |\n",
    "| <p align=\"left\">sample |  <p align=\"left\">6. a single number calculated from a random sample that estimates an unknown population parameter of interest |\n",
    "| <p align=\"left\">observation | <p align=\"left\">7. selecting a subset of observations from a population where the sample’s characteristics are a good representation of the population’s characteristics |\n",
    "| <p align=\"left\">sampling distribution | <p align=\"left\">8. a quantity or a quality (or set of these) we collect from a given entity/object |"
   ]
  },
  {
   "cell_type": "code",
   "execution_count": null,
   "metadata": {
    "deletable": false,
    "nbgrader": {
     "cell_type": "code",
     "checksum": "5dc9c25ff5639c7622d908eb36f9bc16",
     "grade": false,
     "grade_id": "cell-02ca79301e6453c8",
     "locked": false,
     "schema_version": 3,
     "solution": true,
     "task": false
    }
   },
   "outputs": [],
   "source": [
    "point_estimate = None\n",
    "population = None\n",
    "random_sampling = None\n",
    "representative_sampling = None\n",
    "population_parameter = None\n",
    "sample = None\n",
    "observation = None\n",
    "sampling_distribution = None\n",
    "\n",
    "# your code here\n",
    "raise NotImplementedError"
   ]
  },
  {
   "cell_type": "code",
   "execution_count": null,
   "metadata": {
    "deletable": false,
    "editable": false,
    "nbgrader": {
     "cell_type": "code",
     "checksum": "56ac17587af1ae81b3667efd698b650d",
     "grade": true,
     "grade_id": "cell-3e20f546495eda51",
     "locked": true,
     "points": 1,
     "schema_version": 3,
     "solution": false,
     "task": false
    }
   },
   "outputs": [],
   "source": [
    "from hashlib import sha1\n",
    "assert sha1(str(type(point_estimate)).encode(\"utf-8\")+b\"0338acba801feb5e\").hexdigest() == \"79c79496c8ac735212bd5d17e4ab715138c1bf6c\", \"type of point_estimate is not int. Please make sure it is int and not np.int64, etc. You can cast your value into an int using int()\"\n",
    "assert sha1(str(point_estimate).encode(\"utf-8\")+b\"0338acba801feb5e\").hexdigest() == \"01cf90ee0987d87f22f4cdb9731009e110a72ec8\", \"value of point_estimate is not correct\"\n",
    "\n",
    "assert sha1(str(type(population)).encode(\"utf-8\")+b\"751d9399c023f594\").hexdigest() == \"80efd6bd62891f5bee98957b4c1f7f6d3a3538e7\", \"type of population is not int. Please make sure it is int and not np.int64, etc. You can cast your value into an int using int()\"\n",
    "assert sha1(str(population).encode(\"utf-8\")+b\"751d9399c023f594\").hexdigest() == \"32b21fd617c347f25802cc3f783087ccb5472c76\", \"value of population is not correct\"\n",
    "\n",
    "assert sha1(str(type(random_sampling)).encode(\"utf-8\")+b\"5e14a85323c1327a\").hexdigest() == \"09ade47ee8ef1296592eb99d172640d0049e347c\", \"type of random_sampling is not int. Please make sure it is int and not np.int64, etc. You can cast your value into an int using int()\"\n",
    "assert sha1(str(random_sampling).encode(\"utf-8\")+b\"5e14a85323c1327a\").hexdigest() == \"e6b06bf59e1a0d27a7b6abd92fb7b634b52aee4d\", \"value of random_sampling is not correct\"\n",
    "\n",
    "assert sha1(str(type(representative_sampling)).encode(\"utf-8\")+b\"b692d490d545bd5c\").hexdigest() == \"91c876ca71db17b0b7dd8456d1f64a24c7d522a5\", \"type of representative_sampling is not int. Please make sure it is int and not np.int64, etc. You can cast your value into an int using int()\"\n",
    "assert sha1(str(representative_sampling).encode(\"utf-8\")+b\"b692d490d545bd5c\").hexdigest() == \"7ca155978e3a7220cbb310d9f42b7b68f1bc9c75\", \"value of representative_sampling is not correct\"\n",
    "\n",
    "assert sha1(str(type(population_parameter)).encode(\"utf-8\")+b\"c0204cdb0d5f964d\").hexdigest() == \"b8fd6f7d8f4245e59f0f326bb9b1284f7f768a34\", \"type of population_parameter is not int. Please make sure it is int and not np.int64, etc. You can cast your value into an int using int()\"\n",
    "assert sha1(str(population_parameter).encode(\"utf-8\")+b\"c0204cdb0d5f964d\").hexdigest() == \"564dd30aff93c8cab8f50288a03ea4947d428b09\", \"value of population_parameter is not correct\"\n",
    "\n",
    "assert sha1(str(type(sample)).encode(\"utf-8\")+b\"d3a287d501895057\").hexdigest() == \"1b23314e50e6af41215c7054cfb8eda48b0b4d4e\", \"type of sample is not int. Please make sure it is int and not np.int64, etc. You can cast your value into an int using int()\"\n",
    "assert sha1(str(sample).encode(\"utf-8\")+b\"d3a287d501895057\").hexdigest() == \"509d31930e4898beebdf6595b89b2638a73611ae\", \"value of sample is not correct\"\n",
    "\n",
    "assert sha1(str(type(observation)).encode(\"utf-8\")+b\"a38a0aa567f77938\").hexdigest() == \"5f1a94434127a482d57dc1fda5f981f0511ed482\", \"type of observation is not int. Please make sure it is int and not np.int64, etc. You can cast your value into an int using int()\"\n",
    "assert sha1(str(observation).encode(\"utf-8\")+b\"a38a0aa567f77938\").hexdigest() == \"b164d43fe1a6a7d7824da994d964451adcc89523\", \"value of observation is not correct\"\n",
    "\n",
    "assert sha1(str(type(sampling_distribution)).encode(\"utf-8\")+b\"6d43ca05fe0ab715\").hexdigest() == \"db066b1f499d7f512fb0685e3d1fd49ae30ff96b\", \"type of sampling_distribution is not int. Please make sure it is int and not np.int64, etc. You can cast your value into an int using int()\"\n",
    "assert sha1(str(sampling_distribution).encode(\"utf-8\")+b\"6d43ca05fe0ab715\").hexdigest() == \"69b3ec456d8b94b5b768b67020bae6eb323a0100\", \"value of sampling_distribution is not correct\"\n",
    "\n",
    "print('Success!')"
   ]
  },
  {
   "cell_type": "markdown",
   "metadata": {
    "deletable": false,
    "editable": false,
    "nbgrader": {
     "cell_type": "markdown",
     "checksum": "9f3458bf152319c6d7b6223890087f3b",
     "grade": false,
     "grade_id": "cell-4b8df8ad154a3900",
     "locked": true,
     "schema_version": 3,
     "solution": false,
     "task": false
    }
   },
   "source": [
    "###  Virtual sampling simulation\n",
    "\n",
    "In real life, we rarely, if ever, have measurements for our entire population. Here, however, we will pretend that we somehow were able to ask every single Candian senior what their age is. We will do this so that we can experiment to learn about sampling and how this relates to estimation.\n",
    "\n",
    "Here we make a simulated dataset of ages for our population (all Canadian seniors) bounded by realistic values ($\\geq$ 65 and $\\leq$ 118):"
   ]
  },
  {
   "cell_type": "code",
   "execution_count": null,
   "metadata": {
    "deletable": false,
    "editable": false,
    "nbgrader": {
     "cell_type": "code",
     "checksum": "30c4084bcf609cf54d3d50a740f38a04",
     "grade": false,
     "grade_id": "cell-40ed1f5c6c055f97",
     "locked": true,
     "schema_version": 3,
     "solution": false,
     "task": false
    }
   },
   "outputs": [],
   "source": [
    "# Run this cell to simulate a large finite population\n",
    "# Don't change the seed!\n",
    "np.random.seed(4321)\n",
    "\n",
    "can_seniors = pd.DataFrame({\n",
    "    'age': np.random.exponential(1 / 0.1, 2000000) ** 2 + 65,\n",
    "}).query(\n",
    "    \"65 <= age <= 118\"\n",
    ")\n",
    "\n",
    "can_seniors"
   ]
  },
  {
   "cell_type": "markdown",
   "metadata": {
    "deletable": false,
    "editable": false,
    "nbgrader": {
     "cell_type": "markdown",
     "checksum": "6f351cf5dbd0feef0b41991dc0fdecca",
     "grade": false,
     "grade_id": "cell-9b660b53ec2a2962",
     "locked": true,
     "schema_version": 3,
     "solution": false,
     "task": false
    }
   },
   "source": [
    "**Question 1.2** \n",
    "<br> {points: 1}\n",
    "\n",
    "A distribution defines all the possible values (or intervals) of the data and how often they occur. Visualize the distribution of the population (`can_seniors`) that was just created by plotting a histogram using `maxbins=30` in the `alt.Bin` argument. *Name the plot `pop_dist` and give the x-axis a descriptive label.*"
   ]
  },
  {
   "cell_type": "code",
   "execution_count": null,
   "metadata": {
    "deletable": false,
    "nbgrader": {
     "cell_type": "code",
     "checksum": "1a48a4fde2ac7fd8bb61cd1370400bc6",
     "grade": false,
     "grade_id": "cell-986bdfedad27901f",
     "locked": false,
     "schema_version": 3,
     "solution": true,
     "task": false
    }
   },
   "outputs": [],
   "source": [
    "# ___ = alt.Chart(___, title='Population distribution').mark_bar().encode(\n",
    "#     x=alt.X(___)\n",
    "#         .title(___)\n",
    "#         .bin(___=30),\n",
    "#     y=___\n",
    "# )\n",
    "\n",
    "# your code here\n",
    "raise NotImplementedError\n",
    "pop_dist"
   ]
  },
  {
   "cell_type": "code",
   "execution_count": null,
   "metadata": {
    "deletable": false,
    "editable": false,
    "nbgrader": {
     "cell_type": "code",
     "checksum": "bbbcd67b5481952816bc63835be96e2f",
     "grade": true,
     "grade_id": "cell-9e86388006978a3c",
     "locked": true,
     "points": 1,
     "schema_version": 3,
     "solution": false,
     "task": false
    }
   },
   "outputs": [],
   "source": [
    "from hashlib import sha1\n",
    "assert sha1(str(type(pop_dist.mark)).encode(\"utf-8\")+b\"80562422128bc91c\").hexdigest() == \"1bc5f763550fdbad49b8c7d483d2f5c52f640092\", \"type of pop_dist.mark is not str. pop_dist.mark should be an str\"\n",
    "assert sha1(str(len(pop_dist.mark)).encode(\"utf-8\")+b\"80562422128bc91c\").hexdigest() == \"bab14005e9c6801bebb66d4692a7e89209dde429\", \"length of pop_dist.mark is not correct\"\n",
    "assert sha1(str(pop_dist.mark.lower()).encode(\"utf-8\")+b\"80562422128bc91c\").hexdigest() == \"3070ebd8ebb1aacdc8c8d5ada6ac08311a159e8e\", \"value of pop_dist.mark is not correct\"\n",
    "assert sha1(str(pop_dist.mark).encode(\"utf-8\")+b\"80562422128bc91c\").hexdigest() == \"3070ebd8ebb1aacdc8c8d5ada6ac08311a159e8e\", \"correct string value of pop_dist.mark but incorrect case of letters\"\n",
    "\n",
    "assert sha1(str(type(pop_dist.encoding['x']['shorthand'])).encode(\"utf-8\")+b\"ff4ffcb05e26e789\").hexdigest() == \"4a8344655a89844cd7858e3428a1b5e44ef70186\", \"type of pop_dist.encoding['x']['shorthand'] is not str. pop_dist.encoding['x']['shorthand'] should be an str\"\n",
    "assert sha1(str(len(pop_dist.encoding['x']['shorthand'])).encode(\"utf-8\")+b\"ff4ffcb05e26e789\").hexdigest() == \"5f1d837bcb622206880795e6335f875149ad9283\", \"length of pop_dist.encoding['x']['shorthand'] is not correct\"\n",
    "assert sha1(str(pop_dist.encoding['x']['shorthand'].lower()).encode(\"utf-8\")+b\"ff4ffcb05e26e789\").hexdigest() == \"4e34c72726b80192c761273b4e8a847a854ea082\", \"value of pop_dist.encoding['x']['shorthand'] is not correct\"\n",
    "assert sha1(str(pop_dist.encoding['x']['shorthand']).encode(\"utf-8\")+b\"ff4ffcb05e26e789\").hexdigest() == \"4e34c72726b80192c761273b4e8a847a854ea082\", \"correct string value of pop_dist.encoding['x']['shorthand'] but incorrect case of letters\"\n",
    "\n",
    "assert sha1(str(type(pop_dist.encoding['y']['shorthand'])).encode(\"utf-8\")+b\"4a10ddf03df06653\").hexdigest() == \"6f10827bfded808ad0c96d9a38e721a03c62eeb0\", \"type of pop_dist.encoding['y']['shorthand'] is not str. pop_dist.encoding['y']['shorthand'] should be an str\"\n",
    "assert sha1(str(len(pop_dist.encoding['y']['shorthand'])).encode(\"utf-8\")+b\"4a10ddf03df06653\").hexdigest() == \"acf24778325dd645ba8bf5930c90b22955aa3992\", \"length of pop_dist.encoding['y']['shorthand'] is not correct\"\n",
    "assert sha1(str(pop_dist.encoding['y']['shorthand'].lower()).encode(\"utf-8\")+b\"4a10ddf03df06653\").hexdigest() == \"b6b2fc56d9e76d307f8f340284245f21be14df99\", \"value of pop_dist.encoding['y']['shorthand'] is not correct\"\n",
    "assert sha1(str(pop_dist.encoding['y']['shorthand']).encode(\"utf-8\")+b\"4a10ddf03df06653\").hexdigest() == \"b6b2fc56d9e76d307f8f340284245f21be14df99\", \"correct string value of pop_dist.encoding['y']['shorthand'] but incorrect case of letters\"\n",
    "\n",
    "assert sha1(str(type(isinstance(pop_dist.encoding.x['title'], str))).encode(\"utf-8\")+b\"032aea7a88f38158\").hexdigest() == \"48c577a8808c1b886d458b818e090b87616ba7ed\", \"type of isinstance(pop_dist.encoding.x['title'], str) is not bool. isinstance(pop_dist.encoding.x['title'], str) should be a bool\"\n",
    "assert sha1(str(isinstance(pop_dist.encoding.x['title'], str)).encode(\"utf-8\")+b\"032aea7a88f38158\").hexdigest() == \"90accf647c79e5a9e763e43c02f13812aba2e60a\", \"boolean value of isinstance(pop_dist.encoding.x['title'], str) is not correct\"\n",
    "\n",
    "assert sha1(str(type(pop_dist.data.equals(can_seniors))).encode(\"utf-8\")+b\"e2d514ea78dcd2a4\").hexdigest() == \"a00f24d108fac7586693c134edd5a47ad5146422\", \"type of pop_dist.data.equals(can_seniors) is not bool. pop_dist.data.equals(can_seniors) should be a bool\"\n",
    "assert sha1(str(pop_dist.data.equals(can_seniors)).encode(\"utf-8\")+b\"e2d514ea78dcd2a4\").hexdigest() == \"e1c0fbf2ddb95f72068473a795cf932d80f527d8\", \"boolean value of pop_dist.data.equals(can_seniors) is not correct\"\n",
    "\n",
    "print('Success!')"
   ]
  },
  {
   "cell_type": "markdown",
   "metadata": {
    "deletable": false,
    "editable": false,
    "nbgrader": {
     "cell_type": "markdown",
     "checksum": "2171a72c9d5737b662b688616fc575bc",
     "grade": false,
     "grade_id": "cell-a6d7523259c0ec45",
     "locked": true,
     "schema_version": 3,
     "solution": false,
     "task": false
    }
   },
   "source": [
    "**Question 1.3** \n",
    "<br> {points: 1}\n",
    "\n",
    "We often want to represent distributions by a single value or small number of values. Common values used for this include the mean, median, standard deviation, etc). \n",
    "\n",
    "Use the `agg` method to calculate the following population parameters from the `can_seniors` population:\n",
    "\n",
    "- mean (`mean`)\n",
    "- median (`median`)\n",
    "- standard deviation (`std`)\n",
    "\n",
    "*Name the resulting data frame `pop_parameters` (it should have one only column, called `age`, and one population parameter per row)*"
   ]
  },
  {
   "cell_type": "code",
   "execution_count": null,
   "metadata": {
    "deletable": false,
    "nbgrader": {
     "cell_type": "code",
     "checksum": "089c536643aa3d554e16b60a043d7a49",
     "grade": false,
     "grade_id": "cell-e351a7d3e55d1948",
     "locked": false,
     "schema_version": 3,
     "solution": true,
     "task": false
    }
   },
   "outputs": [],
   "source": [
    "# your code here\n",
    "raise NotImplementedError\n",
    "pop_parameters"
   ]
  },
  {
   "cell_type": "code",
   "execution_count": null,
   "metadata": {
    "deletable": false,
    "editable": false,
    "nbgrader": {
     "cell_type": "code",
     "checksum": "9d04e3039657877b9f224874073f113c",
     "grade": true,
     "grade_id": "cell-ebeb7e12fd1b5f86",
     "locked": true,
     "points": 1,
     "schema_version": 3,
     "solution": false,
     "task": false
    }
   },
   "outputs": [],
   "source": [
    "from hashlib import sha1\n",
    "assert sha1(str(type(pop_parameters.shape[0])).encode(\"utf-8\")+b\"53ef8a89a3a7099f\").hexdigest() == \"ff57fca89295be2c4555adda3d10a49c32e4976d\", \"type of pop_parameters.shape[0] is not int. Please make sure it is int and not np.int64, etc. You can cast your value into an int using int()\"\n",
    "assert sha1(str(pop_parameters.shape[0]).encode(\"utf-8\")+b\"53ef8a89a3a7099f\").hexdigest() == \"2b96166a3beb350ae77bad8be32fc50b566de26c\", \"value of pop_parameters.shape[0] is not correct\"\n",
    "\n",
    "assert sha1(str(type(pop_parameters.shape[1])).encode(\"utf-8\")+b\"d9d6bf918c771da4\").hexdigest() == \"31ee099f17bdaee623ba55fef7f83f1756cd657c\", \"type of pop_parameters.shape[1] is not int. Please make sure it is int and not np.int64, etc. You can cast your value into an int using int()\"\n",
    "assert sha1(str(pop_parameters.shape[1]).encode(\"utf-8\")+b\"d9d6bf918c771da4\").hexdigest() == \"c489d1e9357f17a2f8747b17b74cab73fb8afdd8\", \"value of pop_parameters.shape[1] is not correct\"\n",
    "\n",
    "assert sha1(str(type(\"\".join(pop_parameters.columns.values))).encode(\"utf-8\")+b\"a4cd062ee410a63f\").hexdigest() == \"e05f832fa6d2d2247e6b981df86e54e92ef89544\", \"type of \\\"\\\".join(pop_parameters.columns.values) is not str. \\\"\\\".join(pop_parameters.columns.values) should be an str\"\n",
    "assert sha1(str(len(\"\".join(pop_parameters.columns.values))).encode(\"utf-8\")+b\"a4cd062ee410a63f\").hexdigest() == \"3b39009ea08786f22d98334ed19e1ea8c195fdab\", \"length of \\\"\\\".join(pop_parameters.columns.values) is not correct\"\n",
    "assert sha1(str(\"\".join(pop_parameters.columns.values).lower()).encode(\"utf-8\")+b\"a4cd062ee410a63f\").hexdigest() == \"2b562557990d5b0b4646c86071044c29a2746599\", \"value of \\\"\\\".join(pop_parameters.columns.values) is not correct\"\n",
    "assert sha1(str(\"\".join(pop_parameters.columns.values)).encode(\"utf-8\")+b\"a4cd062ee410a63f\").hexdigest() == \"2b562557990d5b0b4646c86071044c29a2746599\", \"correct string value of \\\"\\\".join(pop_parameters.columns.values) but incorrect case of letters\"\n",
    "\n",
    "print('Success!')"
   ]
  },
  {
   "cell_type": "markdown",
   "metadata": {
    "deletable": false,
    "editable": false,
    "nbgrader": {
     "cell_type": "markdown",
     "checksum": "c4a78cb4ccf4a144ea260fa4cb97d65c",
     "grade": false,
     "grade_id": "cell-f06bf6c52b4b30be",
     "locked": true,
     "schema_version": 3,
     "solution": false,
     "task": false
    }
   },
   "source": [
    "**Question 1.4** \n",
    "<br> {points: 1}\n",
    "\n",
    "In real life, we usually are able to only collect a single sample from the population. We use that sample to try to infer what the population looks like.\n",
    "\n",
    "Take a single random sample of 40 observations using `sample` from the Canadian seniors population (`can_seniors`). Name it `sample_1`. Use 4321 as your `random_state`."
   ]
  },
  {
   "cell_type": "code",
   "execution_count": null,
   "metadata": {
    "deletable": false,
    "nbgrader": {
     "cell_type": "code",
     "checksum": "32a5c27c0f488dee531fc06dababd9fc",
     "grade": false,
     "grade_id": "cell-d8e06640ab5ea386",
     "locked": false,
     "schema_version": 3,
     "solution": true,
     "task": false
    }
   },
   "outputs": [],
   "source": [
    "# ___ = ___.sample(___, random_state=4321)\n",
    "\n",
    "# your code here\n",
    "raise NotImplementedError\n",
    "sample_1.head()"
   ]
  },
  {
   "cell_type": "code",
   "execution_count": null,
   "metadata": {
    "deletable": false,
    "editable": false,
    "nbgrader": {
     "cell_type": "code",
     "checksum": "f31a542b689bdda1cd6a2f82def61333",
     "grade": true,
     "grade_id": "cell-e494fbea71d264cc",
     "locked": true,
     "points": 1,
     "schema_version": 3,
     "solution": false,
     "task": false
    }
   },
   "outputs": [],
   "source": [
    "from hashlib import sha1\n",
    "assert sha1(str(type(sample_1.shape[0])).encode(\"utf-8\")+b\"01810b8c35d70e98\").hexdigest() == \"199cb4886a54e5b505945e23dd55108ced33744a\", \"type of sample_1.shape[0] is not int. Please make sure it is int and not np.int64, etc. You can cast your value into an int using int()\"\n",
    "assert sha1(str(sample_1.shape[0]).encode(\"utf-8\")+b\"01810b8c35d70e98\").hexdigest() == \"20132d96f634d8490b4756aad30d7dbc41265000\", \"value of sample_1.shape[0] is not correct\"\n",
    "\n",
    "assert sha1(str(type(sample_1.shape[1])).encode(\"utf-8\")+b\"dae2bb5b4bc7b9c3\").hexdigest() == \"d4d634f1fd593f66d577b5e43f65653956e9c5fe\", \"type of sample_1.shape[1] is not int. Please make sure it is int and not np.int64, etc. You can cast your value into an int using int()\"\n",
    "assert sha1(str(sample_1.shape[1]).encode(\"utf-8\")+b\"dae2bb5b4bc7b9c3\").hexdigest() == \"bc057a804b6ec5d7b8d9ad8e871e01a2c5352f87\", \"value of sample_1.shape[1] is not correct\"\n",
    "\n",
    "assert sha1(str(type(\"\".join(sample_1.columns.values))).encode(\"utf-8\")+b\"c271d596ab9b98ae\").hexdigest() == \"4c00e83036eeaa620a48ecaef5cea0ad0fa5147a\", \"type of \\\"\\\".join(sample_1.columns.values) is not str. \\\"\\\".join(sample_1.columns.values) should be an str\"\n",
    "assert sha1(str(len(\"\".join(sample_1.columns.values))).encode(\"utf-8\")+b\"c271d596ab9b98ae\").hexdigest() == \"09f0ff523fe6bf88f837e23b96e727d240d7a93d\", \"length of \\\"\\\".join(sample_1.columns.values) is not correct\"\n",
    "assert sha1(str(\"\".join(sample_1.columns.values).lower()).encode(\"utf-8\")+b\"c271d596ab9b98ae\").hexdigest() == \"084978761ebe5cf52144f96ad724215f70bd809e\", \"value of \\\"\\\".join(sample_1.columns.values) is not correct\"\n",
    "assert sha1(str(\"\".join(sample_1.columns.values)).encode(\"utf-8\")+b\"c271d596ab9b98ae\").hexdigest() == \"084978761ebe5cf52144f96ad724215f70bd809e\", \"correct string value of \\\"\\\".join(sample_1.columns.values) but incorrect case of letters\"\n",
    "\n",
    "print('Success!')"
   ]
  },
  {
   "cell_type": "markdown",
   "metadata": {
    "deletable": false,
    "editable": false,
    "nbgrader": {
     "cell_type": "markdown",
     "checksum": "bb4f86e406480d3acef08b874812f6da",
     "grade": false,
     "grade_id": "cell-752cc4982153643f",
     "locked": true,
     "schema_version": 3,
     "solution": false,
     "task": false
    }
   },
   "source": [
    "**Question 1.5** \n",
    "<br> {points: 1}\n",
    "\n",
    "Visualize the distribution of the random sample you just took (`sample_1`) by plotting a histogram using `maxbins=30`. Just as in the population histogram we created above, give the plot a title; a suitable choice could be `\"Sample 1 distribution\"`.\n",
    "\n",
    "*Name the plot `sample_1_dist` and give the plot and the x-axis a descriptive label.*"
   ]
  },
  {
   "cell_type": "code",
   "execution_count": null,
   "metadata": {
    "deletable": false,
    "nbgrader": {
     "cell_type": "code",
     "checksum": "5660b496e256541335348bd83a78c999",
     "grade": false,
     "grade_id": "cell-826dafd6cb26adeb",
     "locked": false,
     "schema_version": 3,
     "solution": true,
     "task": false
    }
   },
   "outputs": [],
   "source": [
    "# your code here\n",
    "raise NotImplementedError\n",
    "sample_1_dist"
   ]
  },
  {
   "cell_type": "code",
   "execution_count": null,
   "metadata": {
    "deletable": false,
    "editable": false,
    "nbgrader": {
     "cell_type": "code",
     "checksum": "73e8ec134f69b6104f9c56c359920509",
     "grade": true,
     "grade_id": "cell-170ce4a2c9de09e4",
     "locked": true,
     "points": 1,
     "schema_version": 3,
     "solution": false,
     "task": false
    }
   },
   "outputs": [],
   "source": [
    "from hashlib import sha1\n",
    "assert sha1(str(type(sample_1_dist.mark)).encode(\"utf-8\")+b\"5b9489df82357147\").hexdigest() == \"cbe59418b24e4426eb9a69763f95c0417b455b4f\", \"type of sample_1_dist.mark is not str. sample_1_dist.mark should be an str\"\n",
    "assert sha1(str(len(sample_1_dist.mark)).encode(\"utf-8\")+b\"5b9489df82357147\").hexdigest() == \"a08ae63a745ae828c3070409a72b3a189e6e58de\", \"length of sample_1_dist.mark is not correct\"\n",
    "assert sha1(str(sample_1_dist.mark.lower()).encode(\"utf-8\")+b\"5b9489df82357147\").hexdigest() == \"5bfeb18d6fe82834171f124d19f853543fc3de4a\", \"value of sample_1_dist.mark is not correct\"\n",
    "assert sha1(str(sample_1_dist.mark).encode(\"utf-8\")+b\"5b9489df82357147\").hexdigest() == \"5bfeb18d6fe82834171f124d19f853543fc3de4a\", \"correct string value of sample_1_dist.mark but incorrect case of letters\"\n",
    "\n",
    "assert sha1(str(type(sample_1_dist.encoding.x['shorthand'])).encode(\"utf-8\")+b\"803057c37355b223\").hexdigest() == \"26a4ed57f861694d252dbb3990b284006d0855df\", \"type of sample_1_dist.encoding.x['shorthand'] is not str. sample_1_dist.encoding.x['shorthand'] should be an str\"\n",
    "assert sha1(str(len(sample_1_dist.encoding.x['shorthand'])).encode(\"utf-8\")+b\"803057c37355b223\").hexdigest() == \"e417060ba97db9200c202c639d2f04a102e146a4\", \"length of sample_1_dist.encoding.x['shorthand'] is not correct\"\n",
    "assert sha1(str(sample_1_dist.encoding.x['shorthand'].lower()).encode(\"utf-8\")+b\"803057c37355b223\").hexdigest() == \"2cfa7e96e2cd3e5bbe6ec661b331983c7cb71129\", \"value of sample_1_dist.encoding.x['shorthand'] is not correct\"\n",
    "assert sha1(str(sample_1_dist.encoding.x['shorthand']).encode(\"utf-8\")+b\"803057c37355b223\").hexdigest() == \"2cfa7e96e2cd3e5bbe6ec661b331983c7cb71129\", \"correct string value of sample_1_dist.encoding.x['shorthand'] but incorrect case of letters\"\n",
    "\n",
    "assert sha1(str(type(sample_1_dist.encoding.y['shorthand'])).encode(\"utf-8\")+b\"678631a78ad33f79\").hexdigest() == \"43d3377d96ed23aa0f9c6f51a81fe1e3a803a1a0\", \"type of sample_1_dist.encoding.y['shorthand'] is not str. sample_1_dist.encoding.y['shorthand'] should be an str\"\n",
    "assert sha1(str(len(sample_1_dist.encoding.y['shorthand'])).encode(\"utf-8\")+b\"678631a78ad33f79\").hexdigest() == \"ae6cbf76a5770592fbd03198bc9b1fff1cdd8189\", \"length of sample_1_dist.encoding.y['shorthand'] is not correct\"\n",
    "assert sha1(str(sample_1_dist.encoding.y['shorthand'].lower()).encode(\"utf-8\")+b\"678631a78ad33f79\").hexdigest() == \"909a16e2e60061b0d5d2b41d0745c5cde1bd24fc\", \"value of sample_1_dist.encoding.y['shorthand'] is not correct\"\n",
    "assert sha1(str(sample_1_dist.encoding.y['shorthand']).encode(\"utf-8\")+b\"678631a78ad33f79\").hexdigest() == \"909a16e2e60061b0d5d2b41d0745c5cde1bd24fc\", \"correct string value of sample_1_dist.encoding.y['shorthand'] but incorrect case of letters\"\n",
    "\n",
    "assert sha1(str(type(isinstance(sample_1_dist.encoding.x['title'], str))).encode(\"utf-8\")+b\"ec3168580bb5f8fe\").hexdigest() == \"85cd50a31d460339174ca7b272013d4f50dd20e8\", \"type of isinstance(sample_1_dist.encoding.x['title'], str) is not bool. isinstance(sample_1_dist.encoding.x['title'], str) should be a bool\"\n",
    "assert sha1(str(isinstance(sample_1_dist.encoding.x['title'], str)).encode(\"utf-8\")+b\"ec3168580bb5f8fe\").hexdigest() == \"9178225f2e372ed64ce06f68ba5044d6b148cd3f\", \"boolean value of isinstance(sample_1_dist.encoding.x['title'], str) is not correct\"\n",
    "\n",
    "assert sha1(str(type(sample_1_dist.data.equals(sample_1))).encode(\"utf-8\")+b\"b8603f0a8c15b8b4\").hexdigest() == \"de670d345cd8409d69c1ae226ed97d7853f921cb\", \"type of sample_1_dist.data.equals(sample_1) is not bool. sample_1_dist.data.equals(sample_1) should be a bool\"\n",
    "assert sha1(str(sample_1_dist.data.equals(sample_1)).encode(\"utf-8\")+b\"b8603f0a8c15b8b4\").hexdigest() == \"3cf904b6267fbbc7a30ee431a41def5a0f550882\", \"boolean value of sample_1_dist.data.equals(sample_1) is not correct\"\n",
    "\n",
    "print('Success!')"
   ]
  },
  {
   "cell_type": "markdown",
   "metadata": {
    "deletable": false,
    "editable": false,
    "nbgrader": {
     "cell_type": "markdown",
     "checksum": "79d37c9e7c50840b6eeefa0da77c8f96",
     "grade": false,
     "grade_id": "cell-3c4b35ed554cb337",
     "locked": true,
     "schema_version": 3,
     "solution": false,
     "task": false
    }
   },
   "source": [
    "**Question 1.6** \n",
    "<br> {points: 1}\n",
    "\n",
    "Use `agg` to calculate the following point estimates from the random sample you just took (`sample_1`):\n",
    "\n",
    "- mean \n",
    "- median \n",
    "- standard deviation \n",
    "\n",
    "*Name this data frame `sample_1_estimates`.*"
   ]
  },
  {
   "cell_type": "code",
   "execution_count": null,
   "metadata": {
    "deletable": false,
    "nbgrader": {
     "cell_type": "code",
     "checksum": "ee89489afa5f06b1b46f34e87825ba85",
     "grade": false,
     "grade_id": "cell-fe9efdbe457ea8e7",
     "locked": false,
     "schema_version": 3,
     "solution": true,
     "task": false
    }
   },
   "outputs": [],
   "source": [
    "# your code here\n",
    "raise NotImplementedError\n",
    "sample_1_estimates"
   ]
  },
  {
   "cell_type": "code",
   "execution_count": null,
   "metadata": {
    "deletable": false,
    "editable": false,
    "nbgrader": {
     "cell_type": "code",
     "checksum": "f542a8860d9fe9742b7cfaeed67ba532",
     "grade": true,
     "grade_id": "cell-021bf21e4a9b93ae",
     "locked": true,
     "points": 1,
     "schema_version": 3,
     "solution": false,
     "task": false
    }
   },
   "outputs": [],
   "source": [
    "from hashlib import sha1\n",
    "assert sha1(str(type(sample_1_estimates.shape[0])).encode(\"utf-8\")+b\"18530a80b6939d20\").hexdigest() == \"23520d0c58be26c3d99500c01eef20fe1f7d75ed\", \"type of sample_1_estimates.shape[0] is not int. Please make sure it is int and not np.int64, etc. You can cast your value into an int using int()\"\n",
    "assert sha1(str(sample_1_estimates.shape[0]).encode(\"utf-8\")+b\"18530a80b6939d20\").hexdigest() == \"9c43299c66d528525812e2856a7f368c73ae2ed4\", \"value of sample_1_estimates.shape[0] is not correct\"\n",
    "\n",
    "assert sha1(str(type(sample_1_estimates.shape[1])).encode(\"utf-8\")+b\"9fb5582c341f2012\").hexdigest() == \"5a4fdb1372e3473e405681b12fcad6e404c84e10\", \"type of sample_1_estimates.shape[1] is not int. Please make sure it is int and not np.int64, etc. You can cast your value into an int using int()\"\n",
    "assert sha1(str(sample_1_estimates.shape[1]).encode(\"utf-8\")+b\"9fb5582c341f2012\").hexdigest() == \"d8a08aa04913c22d4d8de339af261cd6d411ba57\", \"value of sample_1_estimates.shape[1] is not correct\"\n",
    "\n",
    "assert sha1(str(type(sample_1_estimates.columns.values)).encode(\"utf-8\")+b\"2f67406db32199b5\").hexdigest() == \"161ed5565cf3090d658dcdaf7e7d2aac14c14185\", \"type of sample_1_estimates.columns.values is not correct\"\n",
    "assert sha1(str(sample_1_estimates.columns.values).encode(\"utf-8\")+b\"2f67406db32199b5\").hexdigest() == \"7648bc1ad80bbfde48be036f7e0e821bf6212481\", \"value of sample_1_estimates.columns.values is not correct\"\n",
    "\n",
    "print('Success!')"
   ]
  },
  {
   "cell_type": "markdown",
   "metadata": {
    "deletable": false,
    "editable": false,
    "nbgrader": {
     "cell_type": "markdown",
     "checksum": "380e99bbae62ec6f6e6c2454b38a4464",
     "grade": false,
     "grade_id": "cell-ad24cb4b28616d3c",
     "locked": true,
     "schema_version": 3,
     "solution": false,
     "task": false
    }
   },
   "source": [
    "Let's now compare our random sample to the population from which it was drawn. In `altair`, it is possible to display multiple charts together by using the concatenation operators. We can use the `&` operator to concatenate charts vertically and `|` to concatenate horizontally. Since we want to compare the distributions' shape and position on the x-axis, it is most effective to concatenate these charts vertically."
   ]
  },
  {
   "cell_type": "code",
   "execution_count": null,
   "metadata": {
    "deletable": false,
    "editable": false,
    "nbgrader": {
     "cell_type": "code",
     "checksum": "c687dea1b7485ac21af2be94f7ca43b2",
     "grade": false,
     "grade_id": "cell-604e99e0db84fe98",
     "locked": true,
     "schema_version": 3,
     "solution": false,
     "task": false
    }
   },
   "outputs": [],
   "source": [
    "# run this code cell\n",
    "pop_dist & sample_1_dist"
   ]
  },
  {
   "cell_type": "markdown",
   "metadata": {
    "deletable": false,
    "editable": false,
    "nbgrader": {
     "cell_type": "markdown",
     "checksum": "96b62573abeb50fe420efa6aa0d70ecd",
     "grade": false,
     "grade_id": "cell-19718631d33c85a5",
     "locked": true,
     "schema_version": 3,
     "solution": false,
     "task": false
    }
   },
   "source": [
    "And now let's compare the point estimates (mean, median and standard deviation) with the true population parameters we were trying to estimate:"
   ]
  },
  {
   "cell_type": "code",
   "execution_count": null,
   "metadata": {
    "deletable": false,
    "editable": false,
    "nbgrader": {
     "cell_type": "code",
     "checksum": "5e04f5c0a18816e08944274286e5800c",
     "grade": false,
     "grade_id": "cell-ce56a190681ef9e9",
     "locked": true,
     "schema_version": 3,
     "solution": false,
     "task": false
    }
   },
   "outputs": [],
   "source": [
    "# run this cell\n",
    "pop_parameters"
   ]
  },
  {
   "cell_type": "code",
   "execution_count": null,
   "metadata": {
    "deletable": false,
    "editable": false,
    "nbgrader": {
     "cell_type": "code",
     "checksum": "9be9dfe6d055fa4d0584f603c775b52f",
     "grade": false,
     "grade_id": "cell-a1d668a937ee44d7",
     "locked": true,
     "schema_version": 3,
     "solution": false,
     "task": false
    }
   },
   "outputs": [],
   "source": [
    "# run this cell\n",
    "sample_1_estimates"
   ]
  },
  {
   "cell_type": "markdown",
   "metadata": {
    "deletable": false,
    "editable": false,
    "nbgrader": {
     "cell_type": "markdown",
     "checksum": "9cb6a3de45ef951799eeb63a512322d9",
     "grade": false,
     "grade_id": "cell-bb9b0aefa59610ab",
     "locked": true,
     "schema_version": 3,
     "solution": false,
     "task": false
    }
   },
   "source": [
    "**Question 1.7** Multiple Choice\n",
    "<br> {points: 1}\n",
    "\n",
    "After comparing the population and sample distributions above, and the true population parameters and the sample point estimates, which statement below **is not** correct:\n",
    "\n",
    "A. The sample point estimates are close to the values for the true population parameters we are trying to estimate\n",
    "\n",
    "B. The sample distribution is of a similar shape to the population distribution\n",
    "\n",
    "C. The sample point estimates are identical to the values for the true population parameters we are trying to estimate\n",
    "\n",
    "*Assign your answer to an object called `answer1_7`. Your answer should be a single character surrounded by quotes.*"
   ]
  },
  {
   "cell_type": "code",
   "execution_count": null,
   "metadata": {
    "deletable": false,
    "nbgrader": {
     "cell_type": "code",
     "checksum": "8b6888579d4e9d48cb6ed4133373e0a4",
     "grade": false,
     "grade_id": "cell-8ff972ce63d3c314",
     "locked": false,
     "schema_version": 3,
     "solution": true,
     "task": false
    }
   },
   "outputs": [],
   "source": [
    "# your code here\n",
    "raise NotImplementedError"
   ]
  },
  {
   "cell_type": "code",
   "execution_count": null,
   "metadata": {
    "deletable": false,
    "editable": false,
    "nbgrader": {
     "cell_type": "code",
     "checksum": "5de73ae43851e43be6db12ca0b6e0ab6",
     "grade": true,
     "grade_id": "cell-d5cee0eb7c6aebc8",
     "locked": true,
     "points": 1,
     "schema_version": 3,
     "solution": false,
     "task": false
    }
   },
   "outputs": [],
   "source": [
    "from hashlib import sha1\n",
    "assert sha1(str(type(answer1_7)).encode(\"utf-8\")+b\"100f106959fc503a\").hexdigest() == \"39d3e9693a12c8b439721fc41fb578dffd62cb51\", \"type of answer1_7 is not str. answer1_7 should be an str\"\n",
    "assert sha1(str(len(answer1_7)).encode(\"utf-8\")+b\"100f106959fc503a\").hexdigest() == \"6c8ae1b915da6ede249ff73e720b401082abd7b5\", \"length of answer1_7 is not correct\"\n",
    "assert sha1(str(answer1_7.lower()).encode(\"utf-8\")+b\"100f106959fc503a\").hexdigest() == \"39b58552840cc14e6cbf424887e9a35966540752\", \"value of answer1_7 is not correct\"\n",
    "assert sha1(str(answer1_7).encode(\"utf-8\")+b\"100f106959fc503a\").hexdigest() == \"08f759a4cbae7466b0aeb96725513359bfb19827\", \"correct string value of answer1_7 but incorrect case of letters\"\n",
    "\n",
    "print('Success!')"
   ]
  },
  {
   "cell_type": "markdown",
   "metadata": {
    "deletable": false,
    "editable": false,
    "nbgrader": {
     "cell_type": "markdown",
     "checksum": "65f0d1ff1fe358838041fd0b4f576144",
     "grade": false,
     "grade_id": "cell-8babcf95fe04cfa6",
     "locked": true,
     "schema_version": 3,
     "solution": false,
     "task": false
    }
   },
   "source": [
    "**Question 1.8.0** \n",
    "<br> {points: 1}\n",
    "\n",
    "What if we took another sample? What would we expect? Let's try! Take another random sample of size 40 from population (using the different random seed `2020` so that you get a different sample), visualize its distribution with the title `\"Sample 2 distribution\"`, and calculate the point estimates for the sample mean, median, and standard deviation.\n",
    "\n",
    "*Name your random sample of data `sample_2`, name your visualization  `sample_2_dist`, and finally name your estimates `sample_2_estimates`.*"
   ]
  },
  {
   "cell_type": "code",
   "execution_count": null,
   "metadata": {
    "deletable": false,
    "nbgrader": {
     "cell_type": "code",
     "checksum": "166c18234b9139ef08a38d6c280ef284",
     "grade": false,
     "grade_id": "cell-716cd961bf3e0e5c",
     "locked": false,
     "schema_version": 3,
     "solution": true,
     "task": false
    }
   },
   "outputs": [],
   "source": [
    "# your code here\n",
    "raise NotImplementedError\n",
    "sample_2_dist"
   ]
  },
  {
   "cell_type": "code",
   "execution_count": null,
   "metadata": {
    "deletable": false,
    "editable": false,
    "nbgrader": {
     "cell_type": "code",
     "checksum": "26b9321b3e49701eec94ffebca399afe",
     "grade": false,
     "grade_id": "cell-9d59db83b2d9334a",
     "locked": true,
     "schema_version": 3,
     "solution": false,
     "task": false
    }
   },
   "outputs": [],
   "source": [
    "# Run this cell\n",
    "sample_2_estimates"
   ]
  },
  {
   "cell_type": "code",
   "execution_count": null,
   "metadata": {
    "deletable": false,
    "editable": false,
    "nbgrader": {
     "cell_type": "code",
     "checksum": "f51e248a46050681ce32bd44b093435d",
     "grade": true,
     "grade_id": "cell-87ae342a039c4eb0",
     "locked": true,
     "points": 1,
     "schema_version": 3,
     "solution": false,
     "task": false
    }
   },
   "outputs": [],
   "source": [
    "from hashlib import sha1\n",
    "assert sha1(str(type(sample_2.shape[0])).encode(\"utf-8\")+b\"61c626948827cc10\").hexdigest() == \"983259e8018e248246d75c59fae958c72d947fcd\", \"type of sample_2.shape[0] is not int. Please make sure it is int and not np.int64, etc. You can cast your value into an int using int()\"\n",
    "assert sha1(str(sample_2.shape[0]).encode(\"utf-8\")+b\"61c626948827cc10\").hexdigest() == \"1873ba99a3586caec42546e639067570d2b3354d\", \"value of sample_2.shape[0] is not correct\"\n",
    "\n",
    "assert sha1(str(type(sample_2.shape[1])).encode(\"utf-8\")+b\"1083a5f31eb3f112\").hexdigest() == \"f8bbafeb4576d24f4b6c3da81e5b35e9d846f488\", \"type of sample_2.shape[1] is not int. Please make sure it is int and not np.int64, etc. You can cast your value into an int using int()\"\n",
    "assert sha1(str(sample_2.shape[1]).encode(\"utf-8\")+b\"1083a5f31eb3f112\").hexdigest() == \"018242960aafcb9650af049ff78d7d5fd48acd05\", \"value of sample_2.shape[1] is not correct\"\n",
    "\n",
    "assert sha1(str(type(\"\".join(sample_2.columns.values))).encode(\"utf-8\")+b\"70436ca1b257dda4\").hexdigest() == \"2187d9a54d26e4e071f46dc4f2791989f82ea5f5\", \"type of \\\"\\\".join(sample_2.columns.values) is not str. \\\"\\\".join(sample_2.columns.values) should be an str\"\n",
    "assert sha1(str(len(\"\".join(sample_2.columns.values))).encode(\"utf-8\")+b\"70436ca1b257dda4\").hexdigest() == \"c78540ed75ea00a0fe9c557efd57b4525b448dc6\", \"length of \\\"\\\".join(sample_2.columns.values) is not correct\"\n",
    "assert sha1(str(\"\".join(sample_2.columns.values).lower()).encode(\"utf-8\")+b\"70436ca1b257dda4\").hexdigest() == \"5a84d8817e5566e8bf8ee26235f8dfb75840333e\", \"value of \\\"\\\".join(sample_2.columns.values) is not correct\"\n",
    "assert sha1(str(\"\".join(sample_2.columns.values)).encode(\"utf-8\")+b\"70436ca1b257dda4\").hexdigest() == \"5a84d8817e5566e8bf8ee26235f8dfb75840333e\", \"correct string value of \\\"\\\".join(sample_2.columns.values) but incorrect case of letters\"\n",
    "\n",
    "assert sha1(str(type(sample_2_estimates.shape[0])).encode(\"utf-8\")+b\"62b8e9e7b7700ed8\").hexdigest() == \"d875ddd412601cb7895cb40ee4899aca82e1dd2d\", \"type of sample_2_estimates.shape[0] is not int. Please make sure it is int and not np.int64, etc. You can cast your value into an int using int()\"\n",
    "assert sha1(str(sample_2_estimates.shape[0]).encode(\"utf-8\")+b\"62b8e9e7b7700ed8\").hexdigest() == \"656d5cad16e43c16811a49b0fb3e2200323f6787\", \"value of sample_2_estimates.shape[0] is not correct\"\n",
    "\n",
    "assert sha1(str(type(sample_2_estimates.shape[1])).encode(\"utf-8\")+b\"9fba718a83ea581b\").hexdigest() == \"916f2c7fe4bdcba1365e6e973caef741b1ff5c7b\", \"type of sample_2_estimates.shape[1] is not int. Please make sure it is int and not np.int64, etc. You can cast your value into an int using int()\"\n",
    "assert sha1(str(sample_2_estimates.shape[1]).encode(\"utf-8\")+b\"9fba718a83ea581b\").hexdigest() == \"9d424b047e52943cd342316911b6809306cce1df\", \"value of sample_2_estimates.shape[1] is not correct\"\n",
    "\n",
    "assert sha1(str(type(sample_2_estimates.columns.values)).encode(\"utf-8\")+b\"460be1723fec610d\").hexdigest() == \"b46b6af9d7db4ddbff315d369eebadb4a6550a3e\", \"type of sample_2_estimates.columns.values is not correct\"\n",
    "assert sha1(str(sample_2_estimates.columns.values).encode(\"utf-8\")+b\"460be1723fec610d\").hexdigest() == \"cf81a88fc9daa45e99978a273fe527f4a512f61d\", \"value of sample_2_estimates.columns.values is not correct\"\n",
    "\n",
    "assert sha1(str(type(sample_2_dist.mark)).encode(\"utf-8\")+b\"74366074644ba9a1\").hexdigest() == \"6769e6b937067025d168bbca3d66abadd416bb2f\", \"type of sample_2_dist.mark is not str. sample_2_dist.mark should be an str\"\n",
    "assert sha1(str(len(sample_2_dist.mark)).encode(\"utf-8\")+b\"74366074644ba9a1\").hexdigest() == \"4d538f4b5a83d4adee0de81a8f6b1418d3cb88d9\", \"length of sample_2_dist.mark is not correct\"\n",
    "assert sha1(str(sample_2_dist.mark.lower()).encode(\"utf-8\")+b\"74366074644ba9a1\").hexdigest() == \"7976f1083797f0b96345f1d267cb3ea0b83a0253\", \"value of sample_2_dist.mark is not correct\"\n",
    "assert sha1(str(sample_2_dist.mark).encode(\"utf-8\")+b\"74366074644ba9a1\").hexdigest() == \"7976f1083797f0b96345f1d267cb3ea0b83a0253\", \"correct string value of sample_2_dist.mark but incorrect case of letters\"\n",
    "\n",
    "assert sha1(str(type(sample_2_dist.encoding.x['shorthand'])).encode(\"utf-8\")+b\"f507f8849b7f62db\").hexdigest() == \"4ca93a52b88c5ffdbcbcef1c6cefecc7004e2ea2\", \"type of sample_2_dist.encoding.x['shorthand'] is not str. sample_2_dist.encoding.x['shorthand'] should be an str\"\n",
    "assert sha1(str(len(sample_2_dist.encoding.x['shorthand'])).encode(\"utf-8\")+b\"f507f8849b7f62db\").hexdigest() == \"33d4a03e21ca037f1d370ab6f31f45e2c20d7759\", \"length of sample_2_dist.encoding.x['shorthand'] is not correct\"\n",
    "assert sha1(str(sample_2_dist.encoding.x['shorthand'].lower()).encode(\"utf-8\")+b\"f507f8849b7f62db\").hexdigest() == \"b68b786531957beef75e912fd17f8ff089e4c9af\", \"value of sample_2_dist.encoding.x['shorthand'] is not correct\"\n",
    "assert sha1(str(sample_2_dist.encoding.x['shorthand']).encode(\"utf-8\")+b\"f507f8849b7f62db\").hexdigest() == \"b68b786531957beef75e912fd17f8ff089e4c9af\", \"correct string value of sample_2_dist.encoding.x['shorthand'] but incorrect case of letters\"\n",
    "\n",
    "assert sha1(str(type(sample_2_dist.encoding.y['shorthand'])).encode(\"utf-8\")+b\"695e590a0b9273aa\").hexdigest() == \"f7339772fa2c37b0a11aa4a4a069204f15f352c2\", \"type of sample_2_dist.encoding.y['shorthand'] is not str. sample_2_dist.encoding.y['shorthand'] should be an str\"\n",
    "assert sha1(str(len(sample_2_dist.encoding.y['shorthand'])).encode(\"utf-8\")+b\"695e590a0b9273aa\").hexdigest() == \"dfbae8ced2c426b8e23429508693656cf6619f02\", \"length of sample_2_dist.encoding.y['shorthand'] is not correct\"\n",
    "assert sha1(str(sample_2_dist.encoding.y['shorthand'].lower()).encode(\"utf-8\")+b\"695e590a0b9273aa\").hexdigest() == \"a9e3d5af50982ce3e81cf8a2bc9d564af89fb3ca\", \"value of sample_2_dist.encoding.y['shorthand'] is not correct\"\n",
    "assert sha1(str(sample_2_dist.encoding.y['shorthand']).encode(\"utf-8\")+b\"695e590a0b9273aa\").hexdigest() == \"a9e3d5af50982ce3e81cf8a2bc9d564af89fb3ca\", \"correct string value of sample_2_dist.encoding.y['shorthand'] but incorrect case of letters\"\n",
    "\n",
    "assert sha1(str(type(isinstance(sample_2_dist.encoding.x['title'], str))).encode(\"utf-8\")+b\"aa6cf34bff0ab22f\").hexdigest() == \"d658355b015a4592d5e99a16dea51fbf1f39c8ad\", \"type of isinstance(sample_2_dist.encoding.x['title'], str) is not bool. isinstance(sample_2_dist.encoding.x['title'], str) should be a bool\"\n",
    "assert sha1(str(isinstance(sample_2_dist.encoding.x['title'], str)).encode(\"utf-8\")+b\"aa6cf34bff0ab22f\").hexdigest() == \"8be7970224727e40b58c08920b5f422046ab2970\", \"boolean value of isinstance(sample_2_dist.encoding.x['title'], str) is not correct\"\n",
    "\n",
    "assert sha1(str(type(sample_2_dist.data.equals(sample_2))).encode(\"utf-8\")+b\"2a9f296654a118c1\").hexdigest() == \"d9e8df9ee67071a1f417590156782d6ed5b1da39\", \"type of sample_2_dist.data.equals(sample_2) is not bool. sample_2_dist.data.equals(sample_2) should be a bool\"\n",
    "assert sha1(str(sample_2_dist.data.equals(sample_2)).encode(\"utf-8\")+b\"2a9f296654a118c1\").hexdigest() == \"50c73c088884c8ef6a175d30feccf6fdfbab794b\", \"boolean value of sample_2_dist.data.equals(sample_2) is not correct\"\n",
    "\n",
    "print('Success!')"
   ]
  },
  {
   "cell_type": "markdown",
   "metadata": {
    "deletable": false,
    "editable": false,
    "nbgrader": {
     "cell_type": "markdown",
     "checksum": "6d47e311d897fe18622c261d3a0b5212",
     "grade": false,
     "grade_id": "cell-84562b964d37b15f",
     "locked": true,
     "schema_version": 3,
     "solution": false,
     "task": false
    }
   },
   "source": [
    "**Question 1.8.1** \n",
    "<br> {points: 1}\n",
    "\n",
    "After comparing the distribution and point estimates of this second random sample from the population with that of the first random sample and the population, which of the following statements below **is not** correct:\n",
    "\n",
    "A. The sample distributions from different random samples are of a similar shape to the population distribution, but they vary a bit depending which values are captured in the sample\n",
    "\n",
    "B. The sample point estimates from different random samples are close to the values for the true population parameters we are trying to estimate, but they vary a bit depending which values are captured in the sample\n",
    "\n",
    "C. Every random sample from the same population should have an identical set of values and yield identical point estimates.\n",
    "\n",
    "*Assign your answer to an object called `answer1_8_1`. Your answer should be a single character surrounded by quotes.*"
   ]
  },
  {
   "cell_type": "code",
   "execution_count": null,
   "metadata": {
    "deletable": false,
    "nbgrader": {
     "cell_type": "code",
     "checksum": "28566dd40b14a2437485e373c4b8c336",
     "grade": false,
     "grade_id": "cell-17f98eceba8ee494",
     "locked": false,
     "schema_version": 3,
     "solution": true,
     "task": false
    }
   },
   "outputs": [],
   "source": [
    "# your code here\n",
    "raise NotImplementedError"
   ]
  },
  {
   "cell_type": "code",
   "execution_count": null,
   "metadata": {
    "deletable": false,
    "editable": false,
    "nbgrader": {
     "cell_type": "code",
     "checksum": "0e24d5951b91228d357e901813b63a6d",
     "grade": true,
     "grade_id": "cell-00564a8c56afa5c2",
     "locked": true,
     "points": 1,
     "schema_version": 3,
     "solution": false,
     "task": false
    }
   },
   "outputs": [],
   "source": [
    "from hashlib import sha1\n",
    "assert sha1(str(type(answer1_8_1)).encode(\"utf-8\")+b\"108f500e36b8474f\").hexdigest() == \"668b719bb47b16823e4dc67ebdde300d6eb1be6a\", \"type of answer1_8_1 is not str. answer1_8_1 should be an str\"\n",
    "assert sha1(str(len(answer1_8_1)).encode(\"utf-8\")+b\"108f500e36b8474f\").hexdigest() == \"2cd3fa01cb073be8c47f63fe6af644bcb5907caa\", \"length of answer1_8_1 is not correct\"\n",
    "assert sha1(str(answer1_8_1.lower()).encode(\"utf-8\")+b\"108f500e36b8474f\").hexdigest() == \"86867f73c4c0b04a38027067a1b2c03286a4fcb2\", \"value of answer1_8_1 is not correct\"\n",
    "assert sha1(str(answer1_8_1).encode(\"utf-8\")+b\"108f500e36b8474f\").hexdigest() == \"5403e3f5ca18e9989602a86c255c89f951e18b3a\", \"correct string value of answer1_8_1 but incorrect case of letters\"\n",
    "\n",
    "print('Success!')"
   ]
  },
  {
   "cell_type": "markdown",
   "metadata": {
    "deletable": false,
    "editable": false,
    "nbgrader": {
     "cell_type": "markdown",
     "checksum": "a0ff84b3060f360c30a4e4cdc84444d9",
     "grade": false,
     "grade_id": "cell-d1e256c58e03abb7",
     "locked": true,
     "schema_version": 3,
     "solution": false,
     "task": false
    }
   },
   "source": [
    "### Exploring the sampling distribution of an estimate\n",
    "\n",
    "Just how much should we expect the point estimates of our random samples to vary? To build an intuition for this, let's experiment a little more with our population of Canadian seniors. To do this we will take 1000 random samples, and then calculate the point estimate we are interested in (let's choose the mean for this example) for each sample. Finally, we will visualize the distribution of the sample point estimates. This distribution will tell us how much we would expect the point estimates of our random samples to vary for this population for samples of size 40 (the size of our samples)."
   ]
  },
  {
   "cell_type": "markdown",
   "metadata": {
    "deletable": false,
    "editable": false,
    "nbgrader": {
     "cell_type": "markdown",
     "checksum": "5335d39f692d764354e6b4b63b038618",
     "grade": false,
     "grade_id": "cell-2f445a196c50749f",
     "locked": true,
     "schema_version": 3,
     "solution": false,
     "task": false
    }
   },
   "source": [
    "**Question 1.9** \n",
    "<br> {points: 1}\n",
    "\n",
    "Draw 1000 random samples from our population of Canadian seniors (`can_seniors`). Each sample should have 40 observations. Use a list comprehension wrapped in `pd.concat` as in the textbook, and name the resulting data frame `samples`."
   ]
  },
  {
   "cell_type": "code",
   "execution_count": null,
   "metadata": {
    "deletable": false,
    "nbgrader": {
     "cell_type": "code",
     "checksum": "3d29806d46312e9f33ad514571c52b72",
     "grade": false,
     "grade_id": "cell-695ac307a193414a",
     "locked": false,
     "schema_version": 3,
     "solution": true,
     "task": false
    }
   },
   "outputs": [],
   "source": [
    "np.random.seed(4321) # DO NOT CHANGE\n",
    "\n",
    "# ___ = pd.concat([\n",
    "#     can_seniors.sample(___).assign(replicate=___)\n",
    "#     for n in range(___)\n",
    "# ])\n",
    "\n",
    "# your code here\n",
    "raise NotImplementedError\n",
    "samples"
   ]
  },
  {
   "cell_type": "code",
   "execution_count": null,
   "metadata": {
    "deletable": false,
    "editable": false,
    "nbgrader": {
     "cell_type": "code",
     "checksum": "6cc15630e5cd2e94a1f82a984985cb13",
     "grade": true,
     "grade_id": "cell-c58c6bf8b51e07c5",
     "locked": true,
     "points": 1,
     "schema_version": 3,
     "solution": false,
     "task": false
    }
   },
   "outputs": [],
   "source": [
    "from hashlib import sha1\n",
    "assert sha1(str(type(samples.shape[0])).encode(\"utf-8\")+b\"2f7aa3f55ac13549\").hexdigest() == \"89feffa3dfcc9d85fa452301c769ce9fe68a8fb3\", \"type of samples.shape[0] is not int. Please make sure it is int and not np.int64, etc. You can cast your value into an int using int()\"\n",
    "assert sha1(str(samples.shape[0]).encode(\"utf-8\")+b\"2f7aa3f55ac13549\").hexdigest() == \"a7ecc64a15ccb03d8bec8c12fa343e84f7f67efb\", \"value of samples.shape[0] is not correct\"\n",
    "\n",
    "assert sha1(str(type(samples.shape[1])).encode(\"utf-8\")+b\"f01395ac112da0dd\").hexdigest() == \"a7201e6baa4603ff9735e32a80b07b0185da0638\", \"type of samples.shape[1] is not int. Please make sure it is int and not np.int64, etc. You can cast your value into an int using int()\"\n",
    "assert sha1(str(samples.shape[1]).encode(\"utf-8\")+b\"f01395ac112da0dd\").hexdigest() == \"2eaf7f2b0a582de37fb4f2e85afa1b4fdd874255\", \"value of samples.shape[1] is not correct\"\n",
    "\n",
    "assert sha1(str(type(\"\".join(samples.columns.values))).encode(\"utf-8\")+b\"8967b012f05434fc\").hexdigest() == \"3ff4679ce0ce5c29ea21d2c6ca56734db5fb4e5c\", \"type of \\\"\\\".join(samples.columns.values) is not str. \\\"\\\".join(samples.columns.values) should be an str\"\n",
    "assert sha1(str(len(\"\".join(samples.columns.values))).encode(\"utf-8\")+b\"8967b012f05434fc\").hexdigest() == \"5093018435d135646a5e829a40aeed06934fc638\", \"length of \\\"\\\".join(samples.columns.values) is not correct\"\n",
    "assert sha1(str(\"\".join(samples.columns.values).lower()).encode(\"utf-8\")+b\"8967b012f05434fc\").hexdigest() == \"4bf03da67486fc0444000fa40027f1872029959c\", \"value of \\\"\\\".join(samples.columns.values) is not correct\"\n",
    "assert sha1(str(\"\".join(samples.columns.values)).encode(\"utf-8\")+b\"8967b012f05434fc\").hexdigest() == \"4bf03da67486fc0444000fa40027f1872029959c\", \"correct string value of \\\"\\\".join(samples.columns.values) but incorrect case of letters\"\n",
    "\n",
    "print('Success!')"
   ]
  },
  {
   "cell_type": "markdown",
   "metadata": {
    "deletable": false,
    "editable": false,
    "nbgrader": {
     "cell_type": "markdown",
     "checksum": "8f9512df4b99304c04b6e84ba7ea0ba9",
     "grade": false,
     "grade_id": "cell-54d3669aec34e1c1",
     "locked": true,
     "schema_version": 3,
     "solution": false,
     "task": false
    }
   },
   "source": [
    "**Question 2.0** \n",
    "<br> {points: 1}\n",
    "\n",
    "Group by the sample replicate number, and then for each sample, calculate the mean as the point estimate. Name the data frame `sample_estimates`. Use `reset_index` and `rename(columns=___)`, so that the final data frame has the column names `replicate` and `mean_age`."
   ]
  },
  {
   "cell_type": "code",
   "execution_count": null,
   "metadata": {
    "deletable": false,
    "nbgrader": {
     "cell_type": "code",
     "checksum": "0a4b4f0c2cd85bdbd61ece17dc1d4dfa",
     "grade": false,
     "grade_id": "cell-db790cf4f047972a",
     "locked": false,
     "schema_version": 3,
     "solution": true,
     "task": false
    }
   },
   "outputs": [],
   "source": [
    "# your code here\n",
    "raise NotImplementedError\n",
    "sample_estimates"
   ]
  },
  {
   "cell_type": "code",
   "execution_count": null,
   "metadata": {
    "deletable": false,
    "editable": false,
    "nbgrader": {
     "cell_type": "code",
     "checksum": "a3bb6deb6afde38317ef785b2d3ea50c",
     "grade": true,
     "grade_id": "cell-009a8fb2b91b528c",
     "locked": true,
     "points": 1,
     "schema_version": 3,
     "solution": false,
     "task": false
    }
   },
   "outputs": [],
   "source": [
    "from hashlib import sha1\n",
    "assert sha1(str(type(sample_estimates.shape[0])).encode(\"utf-8\")+b\"a3fd52d533f1f5ed\").hexdigest() == \"637406481e95fa5357cb5c6eb603e289781f7621\", \"type of sample_estimates.shape[0] is not int. Please make sure it is int and not np.int64, etc. You can cast your value into an int using int()\"\n",
    "assert sha1(str(sample_estimates.shape[0]).encode(\"utf-8\")+b\"a3fd52d533f1f5ed\").hexdigest() == \"bb47f3683e022ce852f9ac531f4f557c8902c22d\", \"value of sample_estimates.shape[0] is not correct\"\n",
    "\n",
    "assert sha1(str(type(sample_estimates.shape[1])).encode(\"utf-8\")+b\"621c824b72930fed\").hexdigest() == \"ab0ef161952012d4829e7206951911a99beb80e0\", \"type of sample_estimates.shape[1] is not int. Please make sure it is int and not np.int64, etc. You can cast your value into an int using int()\"\n",
    "assert sha1(str(sample_estimates.shape[1]).encode(\"utf-8\")+b\"621c824b72930fed\").hexdigest() == \"e2c057f1b5d63d20c8dbb28e28dbfcdd5f9132cd\", \"value of sample_estimates.shape[1] is not correct\"\n",
    "\n",
    "assert sha1(str(type(\"\".join(sample_estimates.columns.values))).encode(\"utf-8\")+b\"44c0bf3a279bb8eb\").hexdigest() == \"441e974d37f8ebbd54c11330a16e920fd2e42064\", \"type of \\\"\\\".join(sample_estimates.columns.values) is not str. \\\"\\\".join(sample_estimates.columns.values) should be an str\"\n",
    "assert sha1(str(len(\"\".join(sample_estimates.columns.values))).encode(\"utf-8\")+b\"44c0bf3a279bb8eb\").hexdigest() == \"02e9298e03d112fd5e34c70362be824eb27fe56d\", \"length of \\\"\\\".join(sample_estimates.columns.values) is not correct\"\n",
    "assert sha1(str(\"\".join(sample_estimates.columns.values).lower()).encode(\"utf-8\")+b\"44c0bf3a279bb8eb\").hexdigest() == \"7d7566a5797b310e19ae01f98692c4c507bdd0f6\", \"value of \\\"\\\".join(sample_estimates.columns.values) is not correct\"\n",
    "assert sha1(str(\"\".join(sample_estimates.columns.values)).encode(\"utf-8\")+b\"44c0bf3a279bb8eb\").hexdigest() == \"7d7566a5797b310e19ae01f98692c4c507bdd0f6\", \"correct string value of \\\"\\\".join(sample_estimates.columns.values) but incorrect case of letters\"\n",
    "\n",
    "print('Success!')"
   ]
  },
  {
   "cell_type": "markdown",
   "metadata": {
    "deletable": false,
    "editable": false,
    "nbgrader": {
     "cell_type": "markdown",
     "checksum": "e05e58a923d6b93f38c2c9b530f38421",
     "grade": false,
     "grade_id": "cell-b37ce66b7bf8e8bf",
     "locked": true,
     "schema_version": 3,
     "solution": false,
     "task": false
    }
   },
   "source": [
    "**Question 2.1** \n",
    "<br> {points: 1}\n",
    "\n",
    "Visualize the distribution of the sample estimates (`sample_estimates`) you just calculated by plotting a histogram using `maxbins=30`. Name the plot `sampling_distribution`, title the plot `\"Sampling distribution of the sample means\"` and give the x-axis a descriptive label."
   ]
  },
  {
   "cell_type": "code",
   "execution_count": null,
   "metadata": {
    "deletable": false,
    "nbgrader": {
     "cell_type": "code",
     "checksum": "ec695bf1aa653e8496e6a10d3214f989",
     "grade": false,
     "grade_id": "cell-cc60d0afb72d45c2",
     "locked": false,
     "schema_version": 3,
     "solution": true,
     "task": false
    }
   },
   "outputs": [],
   "source": [
    "# your code here\n",
    "raise NotImplementedError\n",
    "sampling_distribution"
   ]
  },
  {
   "cell_type": "code",
   "execution_count": null,
   "metadata": {
    "deletable": false,
    "editable": false,
    "nbgrader": {
     "cell_type": "code",
     "checksum": "10e2cdb4a621476097ddc3b89b9f9225",
     "grade": true,
     "grade_id": "cell-63a57e1040dc4a79",
     "locked": true,
     "points": 1,
     "schema_version": 3,
     "solution": false,
     "task": false
    }
   },
   "outputs": [],
   "source": [
    "from hashlib import sha1\n",
    "assert sha1(str(type(sampling_distribution.mark)).encode(\"utf-8\")+b\"e986f26426483a8a\").hexdigest() == \"afa7243645464fe63044860701773ef5d2e10b33\", \"type of sampling_distribution.mark is not str. sampling_distribution.mark should be an str\"\n",
    "assert sha1(str(len(sampling_distribution.mark)).encode(\"utf-8\")+b\"e986f26426483a8a\").hexdigest() == \"93b96dfd6ae1e3c846bfd9a77d8b44b6473b843a\", \"length of sampling_distribution.mark is not correct\"\n",
    "assert sha1(str(sampling_distribution.mark.lower()).encode(\"utf-8\")+b\"e986f26426483a8a\").hexdigest() == \"85726e2405e7925c18690f70666a71687cfce6d6\", \"value of sampling_distribution.mark is not correct\"\n",
    "assert sha1(str(sampling_distribution.mark).encode(\"utf-8\")+b\"e986f26426483a8a\").hexdigest() == \"85726e2405e7925c18690f70666a71687cfce6d6\", \"correct string value of sampling_distribution.mark but incorrect case of letters\"\n",
    "\n",
    "assert sha1(str(type(sampling_distribution.encoding.x['shorthand'])).encode(\"utf-8\")+b\"e4174740e7c7137c\").hexdigest() == \"8bdbfd8689257ac383730b52f3f1510ccee6e5e7\", \"type of sampling_distribution.encoding.x['shorthand'] is not str. sampling_distribution.encoding.x['shorthand'] should be an str\"\n",
    "assert sha1(str(len(sampling_distribution.encoding.x['shorthand'])).encode(\"utf-8\")+b\"e4174740e7c7137c\").hexdigest() == \"3f1204634aceb21d3dd99ffa48a98fa802d85747\", \"length of sampling_distribution.encoding.x['shorthand'] is not correct\"\n",
    "assert sha1(str(sampling_distribution.encoding.x['shorthand'].lower()).encode(\"utf-8\")+b\"e4174740e7c7137c\").hexdigest() == \"0451de84d92f9bf6c1ed323dbd04efa31ad54a18\", \"value of sampling_distribution.encoding.x['shorthand'] is not correct\"\n",
    "assert sha1(str(sampling_distribution.encoding.x['shorthand']).encode(\"utf-8\")+b\"e4174740e7c7137c\").hexdigest() == \"0451de84d92f9bf6c1ed323dbd04efa31ad54a18\", \"correct string value of sampling_distribution.encoding.x['shorthand'] but incorrect case of letters\"\n",
    "\n",
    "assert sha1(str(type(sampling_distribution.encoding.y['shorthand'])).encode(\"utf-8\")+b\"a2c97e85f783be9f\").hexdigest() == \"bfda58029b6eb26b9bcc51eb89e4d0a05afdc9c8\", \"type of sampling_distribution.encoding.y['shorthand'] is not str. sampling_distribution.encoding.y['shorthand'] should be an str\"\n",
    "assert sha1(str(len(sampling_distribution.encoding.y['shorthand'])).encode(\"utf-8\")+b\"a2c97e85f783be9f\").hexdigest() == \"dc385320b02175312fe00a5f5a2617a89ddd5035\", \"length of sampling_distribution.encoding.y['shorthand'] is not correct\"\n",
    "assert sha1(str(sampling_distribution.encoding.y['shorthand'].lower()).encode(\"utf-8\")+b\"a2c97e85f783be9f\").hexdigest() == \"68ed33dc863e3c71e1c874a6d671ae117490ce56\", \"value of sampling_distribution.encoding.y['shorthand'] is not correct\"\n",
    "assert sha1(str(sampling_distribution.encoding.y['shorthand']).encode(\"utf-8\")+b\"a2c97e85f783be9f\").hexdigest() == \"68ed33dc863e3c71e1c874a6d671ae117490ce56\", \"correct string value of sampling_distribution.encoding.y['shorthand'] but incorrect case of letters\"\n",
    "\n",
    "assert sha1(str(type(isinstance(sampling_distribution.encoding.x['title'], str))).encode(\"utf-8\")+b\"b6524c993f79bf11\").hexdigest() == \"3bb7d2fce45eb0f33f512b7dac3d489f45e9accd\", \"type of isinstance(sampling_distribution.encoding.x['title'], str) is not bool. isinstance(sampling_distribution.encoding.x['title'], str) should be a bool\"\n",
    "assert sha1(str(isinstance(sampling_distribution.encoding.x['title'], str)).encode(\"utf-8\")+b\"b6524c993f79bf11\").hexdigest() == \"034d179fd4bebf7944c079953643afa3142aef2e\", \"boolean value of isinstance(sampling_distribution.encoding.x['title'], str) is not correct\"\n",
    "\n",
    "assert sha1(str(type(sampling_distribution.data.equals(sample_estimates))).encode(\"utf-8\")+b\"406860229a53c8ad\").hexdigest() == \"dca00a024ab5cdb0f75be221545cadc77daa0eda\", \"type of sampling_distribution.data.equals(sample_estimates) is not bool. sampling_distribution.data.equals(sample_estimates) should be a bool\"\n",
    "assert sha1(str(sampling_distribution.data.equals(sample_estimates)).encode(\"utf-8\")+b\"406860229a53c8ad\").hexdigest() == \"85b2c34eb1d46ed9bc5879fa34300c11b54d610d\", \"boolean value of sampling_distribution.data.equals(sample_estimates) is not correct\"\n",
    "\n",
    "print('Success!')"
   ]
  },
  {
   "cell_type": "markdown",
   "metadata": {
    "deletable": false,
    "editable": false,
    "nbgrader": {
     "cell_type": "markdown",
     "checksum": "8bf5d3f29fd9fb89a8aaa73afcb7e592",
     "grade": false,
     "grade_id": "cell-e1b528491ee83745",
     "locked": true,
     "schema_version": 3,
     "solution": false,
     "task": false
    }
   },
   "source": [
    "**Question 2.2** \n",
    "<br> {points: 1}\n",
    "\n",
    "Let's refresh our memories: what is the mean age of the whole population (we calculated this above)? *Assign your answer to an object called `answer2_2`. Your answer should be a single number reported to two decimal places.*\n"
   ]
  },
  {
   "cell_type": "code",
   "execution_count": null,
   "metadata": {
    "deletable": false,
    "nbgrader": {
     "cell_type": "code",
     "checksum": "d8c73ae9e4d42f7bdd0d4a6669287013",
     "grade": false,
     "grade_id": "cell-b3dc0d016c0b2fa0",
     "locked": false,
     "schema_version": 3,
     "solution": true,
     "task": false
    }
   },
   "outputs": [],
   "source": [
    "# your code here\n",
    "raise NotImplementedError\n",
    "answer2_2"
   ]
  },
  {
   "cell_type": "code",
   "execution_count": null,
   "metadata": {
    "deletable": false,
    "editable": false,
    "nbgrader": {
     "cell_type": "code",
     "checksum": "bd8269340a4d6d48b36d0e4853d5dc0c",
     "grade": true,
     "grade_id": "cell-859e93c62242915f",
     "locked": true,
     "points": 1,
     "schema_version": 3,
     "solution": false,
     "task": false
    }
   },
   "outputs": [],
   "source": [
    "from hashlib import sha1\n",
    "assert sha1(str(type(round(answer2_2, 1))).encode(\"utf-8\")+b\"ae0b710c822b3b1a\").hexdigest() == \"d0e4588043bccf405ce6db26cef3beef1afeb425\", \"type of round(answer2_2, 1) is not float. Please make sure it is float and not np.float64, etc. You can cast your value into a float using float()\"\n",
    "assert sha1(str(round(round(answer2_2, 1), 2)).encode(\"utf-8\")+b\"ae0b710c822b3b1a\").hexdigest() == \"ba317ed5adac77710a99b4b0914a539ddf545f23\", \"value of round(answer2_2, 1) is not correct (rounded to 2 decimal places)\"\n",
    "\n",
    "print('Success!')"
   ]
  },
  {
   "cell_type": "markdown",
   "metadata": {
    "deletable": false,
    "editable": false,
    "nbgrader": {
     "cell_type": "markdown",
     "checksum": "e2315357d7ccec90ff2e7c6247c55e24",
     "grade": false,
     "grade_id": "cell-cd211c77f0a630b0",
     "locked": true,
     "schema_version": 3,
     "solution": false,
     "task": false
    }
   },
   "source": [
    "**Question 2.3** Multiple Choice\n",
    "<br> {points: 1}\n",
    "\n",
    "Considering the true value for the population mean, and the sampling distribution you created and visualized in **question 2.1**, which of the following statements below **is not** correct:\n",
    "\n",
    "A. The sampling distribution is centered at the true population mean\n",
    "\n",
    "B. All the sample means are the same value as the true population mean\n",
    "\n",
    "C. Most sample means are at or very near the same value as the true population mean\n",
    "\n",
    "D. A few sample means are far away from the same value as the true population mean\n",
    "\n",
    "*Assign your answer to an object called `answer2_3`. Your answer should be a single character surrounded by quotes.*"
   ]
  },
  {
   "cell_type": "code",
   "execution_count": null,
   "metadata": {
    "deletable": false,
    "nbgrader": {
     "cell_type": "code",
     "checksum": "af9778a8adc19f941ac92d8c9dc852aa",
     "grade": false,
     "grade_id": "cell-aee3630dbf16cba9",
     "locked": false,
     "schema_version": 3,
     "solution": true,
     "task": false
    }
   },
   "outputs": [],
   "source": [
    "# your code here\n",
    "raise NotImplementedError\n",
    "answer2_3"
   ]
  },
  {
   "cell_type": "code",
   "execution_count": null,
   "metadata": {
    "deletable": false,
    "editable": false,
    "nbgrader": {
     "cell_type": "code",
     "checksum": "4953dcd24c5152f417271580e7efc8a4",
     "grade": true,
     "grade_id": "cell-d79f9703b99565f3",
     "locked": true,
     "points": 1,
     "schema_version": 3,
     "solution": false,
     "task": false
    }
   },
   "outputs": [],
   "source": [
    "from hashlib import sha1\n",
    "assert sha1(str(type(answer2_3)).encode(\"utf-8\")+b\"cbae7083dda1212b\").hexdigest() == \"df6cd51904f25083be36c788c44f112f215e5256\", \"type of answer2_3 is not str. answer2_3 should be an str\"\n",
    "assert sha1(str(len(answer2_3)).encode(\"utf-8\")+b\"cbae7083dda1212b\").hexdigest() == \"33f733a97f11ab04086d1d6de4669572ea02f7ea\", \"length of answer2_3 is not correct\"\n",
    "assert sha1(str(answer2_3.lower()).encode(\"utf-8\")+b\"cbae7083dda1212b\").hexdigest() == \"a7cc8efde67803db27e35366b0aba4c1ee74b920\", \"value of answer2_3 is not correct\"\n",
    "assert sha1(str(answer2_3).encode(\"utf-8\")+b\"cbae7083dda1212b\").hexdigest() == \"831e979b2517f302799070042321efa395e37497\", \"correct string value of answer2_3 but incorrect case of letters\"\n",
    "\n",
    "print('Success!')"
   ]
  },
  {
   "cell_type": "markdown",
   "metadata": {
    "deletable": false,
    "editable": false,
    "nbgrader": {
     "cell_type": "markdown",
     "checksum": "2a9f46f2027d9a82372419b30b9afcfd",
     "grade": false,
     "grade_id": "cell-e77dc5e07d87e667",
     "locked": true,
     "schema_version": 3,
     "solution": false,
     "task": false
    }
   },
   "source": [
    "**Question 2.4** True/False\n",
    "<br> {points: 1}\n",
    "\n",
    "Taking a random sample and calculating a point estimate is a good way to get a \"best guess\" of the population parameter you are interested in. True or False?\n",
    "\n",
    "*Assign your answer to an object called `answer2_4`. Your answer should be a boolean. i.e. `True` or `False`*"
   ]
  },
  {
   "cell_type": "code",
   "execution_count": null,
   "metadata": {
    "deletable": false,
    "nbgrader": {
     "cell_type": "code",
     "checksum": "9cd5a8b7240bef055ad2944192efecae",
     "grade": false,
     "grade_id": "cell-6f8050a70cec0677",
     "locked": false,
     "schema_version": 3,
     "solution": true,
     "task": false
    }
   },
   "outputs": [],
   "source": [
    "# your code here\n",
    "raise NotImplementedError\n",
    "answer2_4"
   ]
  },
  {
   "cell_type": "code",
   "execution_count": null,
   "metadata": {
    "deletable": false,
    "editable": false,
    "nbgrader": {
     "cell_type": "code",
     "checksum": "50f59676307535fe3b605729e9664835",
     "grade": true,
     "grade_id": "cell-83c05f5c808126c1",
     "locked": true,
     "points": 1,
     "schema_version": 3,
     "solution": false,
     "task": false
    }
   },
   "outputs": [],
   "source": [
    "from hashlib import sha1\n",
    "assert sha1(str(type(answer2_4)).encode(\"utf-8\")+b\"3a5f3d03c57c6e90\").hexdigest() == \"3c81792a3258afce19821f920749eae8bcfe5080\", \"type of answer2_4 is not bool. answer2_4 should be a bool\"\n",
    "assert sha1(str(answer2_4).encode(\"utf-8\")+b\"3a5f3d03c57c6e90\").hexdigest() == \"49c9a32f27dbf95ae87775ae6d2675d0595c09ee\", \"boolean value of answer2_4 is not correct\"\n",
    "\n",
    "print('Success!')"
   ]
  },
  {
   "cell_type": "markdown",
   "metadata": {
    "deletable": false,
    "editable": false,
    "nbgrader": {
     "cell_type": "markdown",
     "checksum": "7126f8ab1f7737176325c9e27b5e68bb",
     "grade": false,
     "grade_id": "cell-2465e27157c638d7",
     "locked": true,
     "schema_version": 3,
     "solution": false,
     "task": false
    }
   },
   "source": [
    "### The influence of sample size on the sampling distribution\n",
    "\n",
    "What happens to our point estimate when we change the sample size? Let's answer this question by experimenting! We will create 3 different sampling distributions of sample means, each using a different sample size. As we did above, we will draw samples from our Canadian seniors population. We will visualize these sampling distributions and see if we can see a pattern when we vary the sample size."
   ]
  },
  {
   "cell_type": "markdown",
   "metadata": {
    "deletable": false,
    "editable": false,
    "nbgrader": {
     "cell_type": "markdown",
     "checksum": "2fc66ee660a0456f86a6d94fba76d3b3",
     "grade": false,
     "grade_id": "cell-34e0ccb715d582e3",
     "locked": true,
     "schema_version": 3,
     "solution": false,
     "task": false
    }
   },
   "source": [
    "**Question 2.5** \n",
    "<br> {points: 1}\n",
    "\n",
    "Using the same strategy as you did above, draw 1000 random samples from the Canadian seniors population (`can_seniors`), each of size **20**. For each sample, calculate the mean age and assign this data frame to an object called `sample_estimates_20`. As previously, make sure you use `reset_index` so that the data frame has the columns `replicate` and `mean_age`. \n",
    "\n",
    "Then, visualize the distribution of the sample estimates (means) you just calculated by plotting a histogram using `maxbins=30`. Name the plot variable `sampling_distribution_20` and give the x-axis a descriptive label. Give the plot the title `\"n = 20\"`."
   ]
  },
  {
   "cell_type": "code",
   "execution_count": null,
   "metadata": {
    "deletable": false,
    "nbgrader": {
     "cell_type": "code",
     "checksum": "4ac8b1888d46361739d4f55bd057feb1",
     "grade": false,
     "grade_id": "cell-b749043da4922d58",
     "locked": false,
     "schema_version": 3,
     "solution": true,
     "task": false
    }
   },
   "outputs": [],
   "source": [
    "np.random.seed(4321)  # DO NOT CHANGE\n",
    "\n",
    "# your code here\n",
    "raise NotImplementedError\n",
    "sampling_distribution_20"
   ]
  },
  {
   "cell_type": "code",
   "execution_count": null,
   "metadata": {
    "deletable": false,
    "editable": false,
    "nbgrader": {
     "cell_type": "code",
     "checksum": "b577ec77ff656f8230f21559b7999190",
     "grade": true,
     "grade_id": "cell-fae3123c38b31ad8",
     "locked": true,
     "points": 1,
     "schema_version": 3,
     "solution": false,
     "task": false
    }
   },
   "outputs": [],
   "source": [
    "from hashlib import sha1\n",
    "assert sha1(str(type(sampling_distribution_20.mark)).encode(\"utf-8\")+b\"e3ce8622af5b4b78\").hexdigest() == \"bdfac2c65c691a0d703208585cc1ab6ccb0481f9\", \"type of sampling_distribution_20.mark is not str. sampling_distribution_20.mark should be an str\"\n",
    "assert sha1(str(len(sampling_distribution_20.mark)).encode(\"utf-8\")+b\"e3ce8622af5b4b78\").hexdigest() == \"ecb6ea754978297b62cd330fc71ff041f8c492dc\", \"length of sampling_distribution_20.mark is not correct\"\n",
    "assert sha1(str(sampling_distribution_20.mark.lower()).encode(\"utf-8\")+b\"e3ce8622af5b4b78\").hexdigest() == \"c05c721d2c64f08dec61bcedf8402497986440e1\", \"value of sampling_distribution_20.mark is not correct\"\n",
    "assert sha1(str(sampling_distribution_20.mark).encode(\"utf-8\")+b\"e3ce8622af5b4b78\").hexdigest() == \"c05c721d2c64f08dec61bcedf8402497986440e1\", \"correct string value of sampling_distribution_20.mark but incorrect case of letters\"\n",
    "\n",
    "assert sha1(str(type(sampling_distribution_20.encoding.x['shorthand'])).encode(\"utf-8\")+b\"3575e0d40cbb46b7\").hexdigest() == \"5d9b1293748efa76e44ac543a6860a6ff1d98ec4\", \"type of sampling_distribution_20.encoding.x['shorthand'] is not str. sampling_distribution_20.encoding.x['shorthand'] should be an str\"\n",
    "assert sha1(str(len(sampling_distribution_20.encoding.x['shorthand'])).encode(\"utf-8\")+b\"3575e0d40cbb46b7\").hexdigest() == \"bac333b20ba84a29b6d42a411f8eff01f0d8c36e\", \"length of sampling_distribution_20.encoding.x['shorthand'] is not correct\"\n",
    "assert sha1(str(sampling_distribution_20.encoding.x['shorthand'].lower()).encode(\"utf-8\")+b\"3575e0d40cbb46b7\").hexdigest() == \"164003895ed5f7e83afdce3cd99dd1c3e318daa6\", \"value of sampling_distribution_20.encoding.x['shorthand'] is not correct\"\n",
    "assert sha1(str(sampling_distribution_20.encoding.x['shorthand']).encode(\"utf-8\")+b\"3575e0d40cbb46b7\").hexdigest() == \"164003895ed5f7e83afdce3cd99dd1c3e318daa6\", \"correct string value of sampling_distribution_20.encoding.x['shorthand'] but incorrect case of letters\"\n",
    "\n",
    "assert sha1(str(type(sampling_distribution_20.encoding.y['shorthand'])).encode(\"utf-8\")+b\"02692cad007ecf85\").hexdigest() == \"bdab3e9514725cf30fe87a5264f8e211cb302826\", \"type of sampling_distribution_20.encoding.y['shorthand'] is not str. sampling_distribution_20.encoding.y['shorthand'] should be an str\"\n",
    "assert sha1(str(len(sampling_distribution_20.encoding.y['shorthand'])).encode(\"utf-8\")+b\"02692cad007ecf85\").hexdigest() == \"86aea928b2d40b1128fa519963863f7aad5dc48e\", \"length of sampling_distribution_20.encoding.y['shorthand'] is not correct\"\n",
    "assert sha1(str(sampling_distribution_20.encoding.y['shorthand'].lower()).encode(\"utf-8\")+b\"02692cad007ecf85\").hexdigest() == \"6dfa7437402bc1e5757f0648b039235f1c4247ae\", \"value of sampling_distribution_20.encoding.y['shorthand'] is not correct\"\n",
    "assert sha1(str(sampling_distribution_20.encoding.y['shorthand']).encode(\"utf-8\")+b\"02692cad007ecf85\").hexdigest() == \"6dfa7437402bc1e5757f0648b039235f1c4247ae\", \"correct string value of sampling_distribution_20.encoding.y['shorthand'] but incorrect case of letters\"\n",
    "\n",
    "assert sha1(str(type(isinstance(sampling_distribution_20.encoding.x['title'], str))).encode(\"utf-8\")+b\"cf0ea6ed7ca7d24e\").hexdigest() == \"5e2d130594a180f9c3a835a0aa2a6b8fc6465149\", \"type of isinstance(sampling_distribution_20.encoding.x['title'], str) is not bool. isinstance(sampling_distribution_20.encoding.x['title'], str) should be a bool\"\n",
    "assert sha1(str(isinstance(sampling_distribution_20.encoding.x['title'], str)).encode(\"utf-8\")+b\"cf0ea6ed7ca7d24e\").hexdigest() == \"3b5fe83ef51a2edce8eb2f5e4083304b70a25f7c\", \"boolean value of isinstance(sampling_distribution_20.encoding.x['title'], str) is not correct\"\n",
    "\n",
    "assert sha1(str(type(sampling_distribution_20.data.equals(sample_estimates_20))).encode(\"utf-8\")+b\"7260c2515c7f0552\").hexdigest() == \"045fd0a5f024aa2b5a8893efbb33e43795fa11a3\", \"type of sampling_distribution_20.data.equals(sample_estimates_20) is not bool. sampling_distribution_20.data.equals(sample_estimates_20) should be a bool\"\n",
    "assert sha1(str(sampling_distribution_20.data.equals(sample_estimates_20)).encode(\"utf-8\")+b\"7260c2515c7f0552\").hexdigest() == \"ecd3b0c20375d26c1250f1c1111d7f8b666302a3\", \"boolean value of sampling_distribution_20.data.equals(sample_estimates_20) is not correct\"\n",
    "\n",
    "print('Success!')"
   ]
  },
  {
   "cell_type": "markdown",
   "metadata": {
    "deletable": false,
    "editable": false,
    "nbgrader": {
     "cell_type": "markdown",
     "checksum": "50174e8bd5a76a154f91601924bd6ee7",
     "grade": false,
     "grade_id": "cell-54728427a6fc9f21",
     "locked": true,
     "schema_version": 3,
     "solution": false,
     "task": false
    }
   },
   "source": [
    "**Question 2.6** \n",
    "<br> {points: 1}\n",
    "\n",
    "Using the same strategy as you did above, draw 1000 random samples from the Canadian seniors population (`can_seniors`), each of size **100**. For each sample, calculate the mean age and assign this data frame to an object called `sample_estimates_100`. As previously, make sure you use `reset_index` so that the data frame has the columns `replicate` and `mean_age`. \n",
    "\n",
    "Then, visualize the distribution of the sample estimates (means) you just calculated by plotting a histogram using `maxbins=30`. Name the plot variable `sampling_distribution_100` and give the x-axis a descriptive label. Give the plot the title `\"n = 100\"`."
   ]
  },
  {
   "cell_type": "code",
   "execution_count": null,
   "metadata": {
    "deletable": false,
    "nbgrader": {
     "cell_type": "code",
     "checksum": "ab50b4e962c4c4505227c87d16c5fe21",
     "grade": false,
     "grade_id": "cell-417f5129afaf8a43",
     "locked": false,
     "schema_version": 3,
     "solution": true,
     "task": false
    }
   },
   "outputs": [],
   "source": [
    "np.random.seed(4321)  # DO NOT CHANGE\n",
    "\n",
    "# your code here\n",
    "raise NotImplementedError\n",
    "sampling_distribution_100"
   ]
  },
  {
   "cell_type": "code",
   "execution_count": null,
   "metadata": {
    "deletable": false,
    "editable": false,
    "nbgrader": {
     "cell_type": "code",
     "checksum": "f595dcf7cfbe3a80a445f336b9ffa9e9",
     "grade": true,
     "grade_id": "cell-5cc24d62254b5bc5",
     "locked": true,
     "points": 1,
     "schema_version": 3,
     "solution": false,
     "task": false
    }
   },
   "outputs": [],
   "source": [
    "from hashlib import sha1\n",
    "assert sha1(str(type(sampling_distribution_100.mark)).encode(\"utf-8\")+b\"f573431c06f9ba73\").hexdigest() == \"7ea4c902b638fc5bea017a7ca96a5e49cc9d03f1\", \"type of sampling_distribution_100.mark is not str. sampling_distribution_100.mark should be an str\"\n",
    "assert sha1(str(len(sampling_distribution_100.mark)).encode(\"utf-8\")+b\"f573431c06f9ba73\").hexdigest() == \"391ed250109af2cfb629a95fdb9b6bed82e170c1\", \"length of sampling_distribution_100.mark is not correct\"\n",
    "assert sha1(str(sampling_distribution_100.mark.lower()).encode(\"utf-8\")+b\"f573431c06f9ba73\").hexdigest() == \"fbaaa405356a418f69079dbec21c9c247e51e00b\", \"value of sampling_distribution_100.mark is not correct\"\n",
    "assert sha1(str(sampling_distribution_100.mark).encode(\"utf-8\")+b\"f573431c06f9ba73\").hexdigest() == \"fbaaa405356a418f69079dbec21c9c247e51e00b\", \"correct string value of sampling_distribution_100.mark but incorrect case of letters\"\n",
    "\n",
    "assert sha1(str(type(sampling_distribution_100.encoding.x['shorthand'])).encode(\"utf-8\")+b\"2a276c97ffbb015c\").hexdigest() == \"8117c2df6dc7b233c5c4722450e0613e1b1cd531\", \"type of sampling_distribution_100.encoding.x['shorthand'] is not str. sampling_distribution_100.encoding.x['shorthand'] should be an str\"\n",
    "assert sha1(str(len(sampling_distribution_100.encoding.x['shorthand'])).encode(\"utf-8\")+b\"2a276c97ffbb015c\").hexdigest() == \"21380ac8dd02644d31e0423322b563895b195408\", \"length of sampling_distribution_100.encoding.x['shorthand'] is not correct\"\n",
    "assert sha1(str(sampling_distribution_100.encoding.x['shorthand'].lower()).encode(\"utf-8\")+b\"2a276c97ffbb015c\").hexdigest() == \"a0d1897b07ec7a0cc8f71a37cd5b05ccf6ae5487\", \"value of sampling_distribution_100.encoding.x['shorthand'] is not correct\"\n",
    "assert sha1(str(sampling_distribution_100.encoding.x['shorthand']).encode(\"utf-8\")+b\"2a276c97ffbb015c\").hexdigest() == \"a0d1897b07ec7a0cc8f71a37cd5b05ccf6ae5487\", \"correct string value of sampling_distribution_100.encoding.x['shorthand'] but incorrect case of letters\"\n",
    "\n",
    "assert sha1(str(type(sampling_distribution_100.encoding.y['shorthand'])).encode(\"utf-8\")+b\"7d1dfafca7927504\").hexdigest() == \"66ff0cfe0c049622054f62f45a380b400105a7a0\", \"type of sampling_distribution_100.encoding.y['shorthand'] is not str. sampling_distribution_100.encoding.y['shorthand'] should be an str\"\n",
    "assert sha1(str(len(sampling_distribution_100.encoding.y['shorthand'])).encode(\"utf-8\")+b\"7d1dfafca7927504\").hexdigest() == \"f09457b502d28097b859c79c154d228b2237aed5\", \"length of sampling_distribution_100.encoding.y['shorthand'] is not correct\"\n",
    "assert sha1(str(sampling_distribution_100.encoding.y['shorthand'].lower()).encode(\"utf-8\")+b\"7d1dfafca7927504\").hexdigest() == \"cc04abf9fda10a4b64788f5039e2d0d665d48c78\", \"value of sampling_distribution_100.encoding.y['shorthand'] is not correct\"\n",
    "assert sha1(str(sampling_distribution_100.encoding.y['shorthand']).encode(\"utf-8\")+b\"7d1dfafca7927504\").hexdigest() == \"cc04abf9fda10a4b64788f5039e2d0d665d48c78\", \"correct string value of sampling_distribution_100.encoding.y['shorthand'] but incorrect case of letters\"\n",
    "\n",
    "assert sha1(str(type(isinstance(sampling_distribution_100.encoding.x['title'], str))).encode(\"utf-8\")+b\"bf26059a096eddda\").hexdigest() == \"2ed24ec72f3db9f08946b708d97884cfe6758fc7\", \"type of isinstance(sampling_distribution_100.encoding.x['title'], str) is not bool. isinstance(sampling_distribution_100.encoding.x['title'], str) should be a bool\"\n",
    "assert sha1(str(isinstance(sampling_distribution_100.encoding.x['title'], str)).encode(\"utf-8\")+b\"bf26059a096eddda\").hexdigest() == \"5d824c3f2abe591d32c86cb05ea3ca5f3832e0e7\", \"boolean value of isinstance(sampling_distribution_100.encoding.x['title'], str) is not correct\"\n",
    "\n",
    "assert sha1(str(type(sampling_distribution_100.data.equals(sample_estimates_100))).encode(\"utf-8\")+b\"a35eac987e6f6413\").hexdigest() == \"95be3e7798fe0d22b9773b1bb2b4ac7ef8ace15b\", \"type of sampling_distribution_100.data.equals(sample_estimates_100) is not bool. sampling_distribution_100.data.equals(sample_estimates_100) should be a bool\"\n",
    "assert sha1(str(sampling_distribution_100.data.equals(sample_estimates_100)).encode(\"utf-8\")+b\"a35eac987e6f6413\").hexdigest() == \"5f0719f23bc1e373438538330be7a190eea19e84\", \"boolean value of sampling_distribution_100.data.equals(sample_estimates_100) is not correct\"\n",
    "\n",
    "print('Success!')"
   ]
  },
  {
   "cell_type": "markdown",
   "metadata": {
    "deletable": false,
    "editable": false,
    "nbgrader": {
     "cell_type": "markdown",
     "checksum": "1c8fb8616fe5e213e723b6d2d7287ef8",
     "grade": false,
     "grade_id": "cell-617a34d8b1bfc6fb",
     "locked": true,
     "schema_version": 3,
     "solution": false,
     "task": false
    }
   },
   "source": [
    "**Question 2.7** \n",
    "<br> {points: 1}\n",
    "\n",
    "Next, let's compare the three sampling distributions together. To do this more effectively we need to change the histograms x-axes to span the same range. We have previously seen how to change the axis range using `domain`, but since we also want the histogram bins to be recalculated with the new axis range, we need to use a slightly different method here where we change the `extent` over which the bins are created. We have already done this in the cell below, where we also change the title of our initial chart to indicate the sample size we used there.\n",
    "\n",
    "You task is to fill in the name of the variables for the charts that we are concatenating vertically. Start with the one with the smallest `n` on top, and put the one with the largest `n` on the bottom. Name the final panel figure `sampling_distribution_panel`."
   ]
  },
  {
   "cell_type": "code",
   "execution_count": null,
   "metadata": {
    "deletable": false,
    "nbgrader": {
     "cell_type": "code",
     "checksum": "063c6b241dc2027a15b6544934093d0b",
     "grade": false,
     "grade_id": "cell-ae896640d6da399c",
     "locked": false,
     "schema_version": 3,
     "solution": true,
     "task": false
    }
   },
   "outputs": [],
   "source": [
    "# Change the range of the x-axis to be the same for all charts\n",
    "sampling_distribution.title = \"n = 40\"\n",
    "sampling_distribution.encoding.x['bin']['extent'] = (70, 92)\n",
    "sampling_distribution_20.encoding.x['bin']['extent'] = (70, 92)\n",
    "sampling_distribution_100.encoding.x['bin']['extent'] = (70, 92)\n",
    "\n",
    "# ___ = (\n",
    "#     ___.properties(height=150)\n",
    "#     & ___.properties(height=150)\n",
    "#     & ___.properties(height=150)\n",
    "# ).resolve_scale(\n",
    "#     y='shared'  # Set the same y-axis range for all charts\n",
    "# )\n",
    "\n",
    "# your code here\n",
    "raise NotImplementedError\n",
    "sampling_distribution_panel"
   ]
  },
  {
   "cell_type": "code",
   "execution_count": null,
   "metadata": {
    "deletable": false,
    "editable": false,
    "nbgrader": {
     "cell_type": "code",
     "checksum": "e0870d6cff08378452e934d8b02853b2",
     "grade": true,
     "grade_id": "cell-ed03c64897c5640f",
     "locked": true,
     "points": 1,
     "schema_version": 3,
     "solution": false,
     "task": false
    }
   },
   "outputs": [],
   "source": [
    "from hashlib import sha1\n",
    "assert sha1(str(type(sampling_distribution_panel)).encode(\"utf-8\")+b\"66f8edd435d18e15\").hexdigest() == \"342da6f37aa61bec15ad23307f35a7027fe6e578\", \"type of type(sampling_distribution_panel) is not correct\"\n",
    "\n",
    "assert sha1(str(type(sampling_distribution_panel.vconcat[0]['title'])).encode(\"utf-8\")+b\"384a4601145c0654\").hexdigest() == \"151d306cd9b9b7413d5d50d3681cfdb53a5ca825\", \"type of sampling_distribution_panel.vconcat[0]['title'] is not str. sampling_distribution_panel.vconcat[0]['title'] should be an str\"\n",
    "assert sha1(str(len(sampling_distribution_panel.vconcat[0]['title'])).encode(\"utf-8\")+b\"384a4601145c0654\").hexdigest() == \"b3e5096809de18365c30df71a4d355b3787a3414\", \"length of sampling_distribution_panel.vconcat[0]['title'] is not correct\"\n",
    "assert sha1(str(sampling_distribution_panel.vconcat[0]['title'].lower()).encode(\"utf-8\")+b\"384a4601145c0654\").hexdigest() == \"43821e7a4850173cbd0416287e4eced9c9b1441f\", \"value of sampling_distribution_panel.vconcat[0]['title'] is not correct\"\n",
    "assert sha1(str(sampling_distribution_panel.vconcat[0]['title']).encode(\"utf-8\")+b\"384a4601145c0654\").hexdigest() == \"43821e7a4850173cbd0416287e4eced9c9b1441f\", \"correct string value of sampling_distribution_panel.vconcat[0]['title'] but incorrect case of letters\"\n",
    "\n",
    "assert sha1(str(type(sampling_distribution_panel.vconcat[1]['title'])).encode(\"utf-8\")+b\"a263c9ea1bfd7363\").hexdigest() == \"ac69f47748c090ae0c00b59240027cdf7186f917\", \"type of sampling_distribution_panel.vconcat[1]['title'] is not str. sampling_distribution_panel.vconcat[1]['title'] should be an str\"\n",
    "assert sha1(str(len(sampling_distribution_panel.vconcat[1]['title'])).encode(\"utf-8\")+b\"a263c9ea1bfd7363\").hexdigest() == \"c9cfa4333866a9a8422c6e7f6f4acee1675df0bf\", \"length of sampling_distribution_panel.vconcat[1]['title'] is not correct\"\n",
    "assert sha1(str(sampling_distribution_panel.vconcat[1]['title'].lower()).encode(\"utf-8\")+b\"a263c9ea1bfd7363\").hexdigest() == \"8f52c83de35b7a8e78903786350d13a1132dbfb2\", \"value of sampling_distribution_panel.vconcat[1]['title'] is not correct\"\n",
    "assert sha1(str(sampling_distribution_panel.vconcat[1]['title']).encode(\"utf-8\")+b\"a263c9ea1bfd7363\").hexdigest() == \"8f52c83de35b7a8e78903786350d13a1132dbfb2\", \"correct string value of sampling_distribution_panel.vconcat[1]['title'] but incorrect case of letters\"\n",
    "\n",
    "assert sha1(str(type(sampling_distribution_panel.vconcat[2]['title'])).encode(\"utf-8\")+b\"5647cddb0bb68fa4\").hexdigest() == \"5de40f177ee699be880544f26aa417198ced8536\", \"type of sampling_distribution_panel.vconcat[2]['title'] is not str. sampling_distribution_panel.vconcat[2]['title'] should be an str\"\n",
    "assert sha1(str(len(sampling_distribution_panel.vconcat[2]['title'])).encode(\"utf-8\")+b\"5647cddb0bb68fa4\").hexdigest() == \"82b080363ff9ded98e08e93cb750c0adc946afbc\", \"length of sampling_distribution_panel.vconcat[2]['title'] is not correct\"\n",
    "assert sha1(str(sampling_distribution_panel.vconcat[2]['title'].lower()).encode(\"utf-8\")+b\"5647cddb0bb68fa4\").hexdigest() == \"9cad2f43a043be6e777d9a898f570a6e37b31dc9\", \"value of sampling_distribution_panel.vconcat[2]['title'] is not correct\"\n",
    "assert sha1(str(sampling_distribution_panel.vconcat[2]['title']).encode(\"utf-8\")+b\"5647cddb0bb68fa4\").hexdigest() == \"9cad2f43a043be6e777d9a898f570a6e37b31dc9\", \"correct string value of sampling_distribution_panel.vconcat[2]['title'] but incorrect case of letters\"\n",
    "\n",
    "assert sha1(str(type(len(sampling_distribution_panel.vconcat))).encode(\"utf-8\")+b\"5187395e4a6c42c9\").hexdigest() == \"58bec4406226d22c835a05601df87eb3636b2eb5\", \"type of len(sampling_distribution_panel.vconcat) is not int. Please make sure it is int and not np.int64, etc. You can cast your value into an int using int()\"\n",
    "assert sha1(str(len(sampling_distribution_panel.vconcat)).encode(\"utf-8\")+b\"5187395e4a6c42c9\").hexdigest() == \"4b1631b035dd989474b3b995be5a2b46de21650e\", \"value of len(sampling_distribution_panel.vconcat) is not correct\"\n",
    "\n",
    "print('Success!')"
   ]
  },
  {
   "cell_type": "markdown",
   "metadata": {
    "deletable": false,
    "editable": false,
    "nbgrader": {
     "cell_type": "markdown",
     "checksum": "16a2470b9838ebd9f2c7b83769fc6a35",
     "grade": false,
     "grade_id": "cell-05e3eccb230d6deb",
     "locked": true,
     "schema_version": 3,
     "solution": false,
     "task": false
    }
   },
   "source": [
    "**Question 2.8** Multiple Choice\n",
    "<br> {points: 1}\n",
    "\n",
    "Considering the panel figure you created above in **question 2.7**, which of the following statements below **is not** correct:\n",
    "\n",
    "A. As the sample size increases, the sampling distribution of the point estimate becomes narrower.\n",
    "\n",
    "B. As the sample size increases, more sample point estimates are closer to the true population mean.\n",
    "\n",
    "C. As the sample size decreses, the sample point estimates become more variable.\n",
    "\n",
    "D. As the sample size increases, the sample point estimates become more variable.\n",
    "\n",
    "*Assign your answer to an object called `answer2_8`. Your answer should be a single character surrounded by quotes.*"
   ]
  },
  {
   "cell_type": "code",
   "execution_count": null,
   "metadata": {
    "deletable": false,
    "nbgrader": {
     "cell_type": "code",
     "checksum": "0687acaae590df768cfeb8e0ef62ea0c",
     "grade": false,
     "grade_id": "cell-8f9319a3b3411ed5",
     "locked": false,
     "schema_version": 3,
     "solution": true,
     "task": false
    }
   },
   "outputs": [],
   "source": [
    "# your code here\n",
    "raise NotImplementedError\n",
    "answer2_8"
   ]
  },
  {
   "cell_type": "code",
   "execution_count": null,
   "metadata": {
    "deletable": false,
    "editable": false,
    "nbgrader": {
     "cell_type": "code",
     "checksum": "2bbd5917d544b577796a0c38d7544782",
     "grade": true,
     "grade_id": "cell-4bd59f7910e865dc",
     "locked": true,
     "points": 1,
     "schema_version": 3,
     "solution": false,
     "task": false
    }
   },
   "outputs": [],
   "source": [
    "from hashlib import sha1\n",
    "assert sha1(str(type(answer2_8)).encode(\"utf-8\")+b\"b846d50aec9bafc0\").hexdigest() == \"9a1aced494e97c55a6fc52b64534f6f970b47157\", \"type of answer2_8 is not str. answer2_8 should be an str\"\n",
    "assert sha1(str(len(answer2_8)).encode(\"utf-8\")+b\"b846d50aec9bafc0\").hexdigest() == \"78f99126f417bd751e3b16827eff0df106618947\", \"length of answer2_8 is not correct\"\n",
    "assert sha1(str(answer2_8.lower()).encode(\"utf-8\")+b\"b846d50aec9bafc0\").hexdigest() == \"08cad462c589b8fdc00a669ae61ff52672fbaade\", \"value of answer2_8 is not correct\"\n",
    "assert sha1(str(answer2_8).encode(\"utf-8\")+b\"b846d50aec9bafc0\").hexdigest() == \"5bd50c001328682dc80f99d1623f9d392b7f5099\", \"correct string value of answer2_8 but incorrect case of letters\"\n",
    "\n",
    "print('Success!')"
   ]
  },
  {
   "cell_type": "markdown",
   "metadata": {
    "deletable": false,
    "editable": false,
    "nbgrader": {
     "cell_type": "markdown",
     "checksum": "cc08a1f58f4dd868e7fb106d037343ca",
     "grade": false,
     "grade_id": "cell-4622783ca69e105d",
     "locked": true,
     "schema_version": 3,
     "solution": false,
     "task": false
    }
   },
   "source": [
    "**Question 2.9** True/False\n",
    "<br> {points: 1}\n",
    "\n",
    "Given what you observed above, and considering the real life scenario where you will only have one sample, answer the True/False question below:\n",
    "\n",
    "The smaller your random sample, the better your sample point estimate reflect the true population parameter you are trying to estimate. True or False?\n",
    "\n",
    "*Assign your answer to an object called `answer2_9`. Your answer should be a boolean. i.e. `True` or `False`.*"
   ]
  },
  {
   "cell_type": "code",
   "execution_count": null,
   "metadata": {
    "deletable": false,
    "nbgrader": {
     "cell_type": "code",
     "checksum": "e3b62b190d93cd3b6533906c3489fa10",
     "grade": false,
     "grade_id": "cell-3c587e58178a0614",
     "locked": false,
     "schema_version": 3,
     "solution": true,
     "task": false
    }
   },
   "outputs": [],
   "source": [
    "# your code here\n",
    "raise NotImplementedError\n",
    "answer2_9"
   ]
  },
  {
   "cell_type": "code",
   "execution_count": null,
   "metadata": {
    "deletable": false,
    "editable": false,
    "nbgrader": {
     "cell_type": "code",
     "checksum": "741b45425a724e013c1590edfca93734",
     "grade": true,
     "grade_id": "cell-d346c550b654bff1",
     "locked": true,
     "points": 1,
     "schema_version": 3,
     "solution": false,
     "task": false
    }
   },
   "outputs": [],
   "source": [
    "from hashlib import sha1\n",
    "assert sha1(str(type(answer2_9)).encode(\"utf-8\")+b\"4f78aeecf84b521a\").hexdigest() == \"23bee81db930de1d628cd59d9c98b65b9cb7b077\", \"type of answer2_9 is not bool. answer2_9 should be a bool\"\n",
    "assert sha1(str(answer2_9).encode(\"utf-8\")+b\"4f78aeecf84b521a\").hexdigest() == \"b6ac5963857d557cb41bbc874526c4a0ed23bced\", \"boolean value of answer2_9 is not correct\"\n",
    "\n",
    "print('Success!')"
   ]
  }
 ],
 "metadata": {
  "jupytext": {
   "encoding": "# -*- coding: utf-8 -*-"
  },
  "kernelspec": {
   "display_name": "Python 3 (ipykernel)",
   "language": "python",
   "name": "python3"
  },
  "language_info": {
   "codemirror_mode": {
    "name": "ipython",
    "version": 3
   },
   "file_extension": ".py",
   "mimetype": "text/x-python",
   "name": "python",
   "nbconvert_exporter": "python",
   "pygments_lexer": "ipython3",
   "version": "3.11.4"
  }
 },
 "nbformat": 4,
 "nbformat_minor": 4
}
