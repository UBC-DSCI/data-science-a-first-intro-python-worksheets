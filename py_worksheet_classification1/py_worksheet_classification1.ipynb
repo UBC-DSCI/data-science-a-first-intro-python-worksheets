{
 "cells": [
  {
   "cell_type": "markdown",
   "metadata": {
    "deletable": false,
    "editable": false,
    "nbgrader": {
     "cell_type": "markdown",
     "checksum": "501a691e67b46db3675a02b34fad2012",
     "grade": false,
     "grade_id": "cell-56451645af3178ba",
     "locked": true,
     "schema_version": 3,
     "solution": false,
     "task": false
    }
   },
   "source": [
    "# Worksheet 6 - Classification\n",
    "\n",
    "### Lecture and Tutorial Learning Goals:\n",
    "\n",
    "After completing this week's lecture and tutorial work, you will be able to:\n",
    "\n",
    "* Recognize situations where a simple classifier would be appropriate for making predictions.\n",
    "* Explain the $K$-nearest neighbour classification algorithm.\n",
    "* Interpret the output of a classifier.\n",
    "* Compute, by hand, the distance between points when there are two explanatory variables/predictors.\n",
    "* Describe what a training data set is and how it is used in classification.\n",
    "* Given a dataset with two explanatory variables/predictors, use $K$-nearest neighbour classification in Python using the `scikit-learn` framework to predict the class of a single new observation.\n",
    "\n",
    "This worksheet covers parts of [Chapter 5](https://python.datasciencebook.ca/classification1.html) of the online textbook. You should read this chapter before attempting this assignment. Any place you see `___`, you must fill in the function, variable, or data to complete the code. Substitute the `raise NotImplementedError` with your completed code and answers then proceed to run the cell."
   ]
  },
  {
   "cell_type": "code",
   "execution_count": null,
   "metadata": {
    "deletable": false,
    "editable": false,
    "nbgrader": {
     "cell_type": "code",
     "checksum": "f25bda76549040444e709e846f259475",
     "grade": false,
     "grade_id": "cell-9ca533e5e836f7e3",
     "locked": true,
     "schema_version": 3,
     "solution": false,
     "task": false
    }
   },
   "outputs": [],
   "source": [
    "### Run this cell before continuing\n",
    "import random\n",
    "\n",
    "import altair as alt\n",
    "import pandas as pd\n",
    "from sklearn.compose import make_column_transformer\n",
    "from sklearn.neighbors import KNeighborsClassifier\n",
    "from sklearn.pipeline import make_pipeline\n",
    "from sklearn.metrics.pairwise import euclidean_distances\n",
    "from sklearn import set_config\n",
    "\n",
    "# Simplify working with large datasets in Altair\n",
    "alt.data_transformers.disable_max_rows()\n",
    "\n",
    "# Output dataframes instead of arrays\n",
    "set_config(transform_output=\"pandas\")"
   ]
  },
  {
   "cell_type": "markdown",
   "metadata": {
    "deletable": false,
    "editable": false,
    "nbgrader": {
     "cell_type": "markdown",
     "checksum": "99d46d99d2b631d0b270ade6bfebea39",
     "grade": false,
     "grade_id": "cell-1b949a8db8729285",
     "locked": true,
     "schema_version": 3,
     "solution": false
    }
   },
   "source": [
    "**Question 0.1** Multiple Choice: \n",
    "<br> {points: 1}\n",
    "\n",
    "**Which of the following statements is NOT true of a training data set (in the context of classification)?**\n",
    "\n",
    "A. A training data set is a collection of observations for which we know the true classes.\n",
    "\n",
    "B. We can use a training set to explore and build our classifier.\n",
    "\n",
    "C. The training data set is the underlying collection of observations for which we don't know the true classes.\n",
    "\n",
    "*Assign your answer to an object called `answer0_1`. Make sure the correct answer is an uppercase letter. Remember to surround your answer with quotation marks (e.g. \"D\").*"
   ]
  },
  {
   "cell_type": "code",
   "execution_count": null,
   "metadata": {
    "deletable": false,
    "nbgrader": {
     "cell_type": "code",
     "checksum": "94d02735e3d133ba5eda081d874bd5e1",
     "grade": false,
     "grade_id": "cell-f0a0878626777907",
     "locked": false,
     "schema_version": 3,
     "solution": true
    }
   },
   "outputs": [],
   "source": [
    "# your code here\n",
    "raise NotImplementedError"
   ]
  },
  {
   "cell_type": "code",
   "execution_count": null,
   "metadata": {
    "deletable": false,
    "editable": false,
    "nbgrader": {
     "cell_type": "code",
     "checksum": "44f3d31e31a9251940ba8527c3e1df41",
     "grade": true,
     "grade_id": "cell-5cb2c8e6177337fd",
     "locked": true,
     "points": 3,
     "schema_version": 3,
     "solution": false
    }
   },
   "outputs": [],
   "source": [
    "from hashlib import sha1\n",
    "assert sha1(str(type(answer0_1)).encode(\"utf-8\")+b\"20d86ca58f3a0202\").hexdigest() == \"e554c1c2e8bb55abc5bd563cb30237367c6ea4ad\", \"type of answer0_1 is not str. answer0_1 should be an str\"\n",
    "assert sha1(str(len(answer0_1)).encode(\"utf-8\")+b\"20d86ca58f3a0202\").hexdigest() == \"09e25bb9250ebf8ad5779c8e16733c7a1b759b7f\", \"length of answer0_1 is not correct\"\n",
    "assert sha1(str(answer0_1.lower()).encode(\"utf-8\")+b\"20d86ca58f3a0202\").hexdigest() == \"8893d76119a8ba1acdf927057ccb89373d34541e\", \"value of answer0_1 is not correct\"\n",
    "assert sha1(str(answer0_1).encode(\"utf-8\")+b\"20d86ca58f3a0202\").hexdigest() == \"6c48fb16779ca88d0f4f6e7c95e712e8d9a1bde5\", \"correct string value of answer0_1 but incorrect case of letters\"\n",
    "\n",
    "print('Success!')"
   ]
  },
  {
   "cell_type": "markdown",
   "metadata": {
    "deletable": false,
    "editable": false,
    "nbgrader": {
     "cell_type": "markdown",
     "checksum": "757c49374677b53811641456866ac212",
     "grade": false,
     "grade_id": "cell-7996c030ec20bf5c",
     "locked": true,
     "schema_version": 3,
     "solution": false
    }
   },
   "source": [
    "**Question 0.2** Multiple Choice\n",
    "<br> {points: 1}\n",
    "\n",
    "(Adapted from James et al, \"[An introduction to statistical learning](http://www-bcf.usc.edu/~gareth/ISL/)\" (page 53))\n",
    "\n",
    "Consider the scenario below: \n",
    "\n",
    "We collect data on 20 similar products. For each product we have recorded whether it was a success or failure (labelled as such by the Sales team), price charged for the product, marketing budget, competition price, customer data, and ten other variables. \n",
    "\n",
    "**Which of the following is a classification problem?**\n",
    "\n",
    "A. We are interested in comparing the profit margins for products that are a success and products that are a failure. \n",
    "\n",
    "B. We are considering launching a new product and wish to know whether it will be a success or a failure. \n",
    "\n",
    "C. We wish to group customers based on their preferences and use that knowledge to develop targeted marketing programs. \n",
    "\n",
    "*Assign your answer to an object called `answer0_2`. Make sure the correct answer is an uppercase letter. Remember to surround your answer with quotation marks (e.g. \"F\").*"
   ]
  },
  {
   "cell_type": "code",
   "execution_count": null,
   "metadata": {
    "deletable": false,
    "nbgrader": {
     "cell_type": "code",
     "checksum": "d5b8dc21e2c953fb2513876edfc8ece3",
     "grade": false,
     "grade_id": "cell-62c49be2ada51acc",
     "locked": false,
     "schema_version": 3,
     "solution": true
    }
   },
   "outputs": [],
   "source": [
    "# your code here\n",
    "raise NotImplementedError"
   ]
  },
  {
   "cell_type": "code",
   "execution_count": null,
   "metadata": {
    "deletable": false,
    "editable": false,
    "nbgrader": {
     "cell_type": "code",
     "checksum": "cc57133ee0fbb711b41633b8f1a683ad",
     "grade": true,
     "grade_id": "cell-61c63c0827e2a73e",
     "locked": true,
     "points": 3,
     "schema_version": 3,
     "solution": false
    }
   },
   "outputs": [],
   "source": [
    "from hashlib import sha1\n",
    "assert sha1(str(type(answer0_2)).encode(\"utf-8\")+b\"23179909aec30293\").hexdigest() == \"e9e4075126d73ff4ff0bb632e3d3b18f57c33e74\", \"type of answer0_2 is not str. answer0_2 should be an str\"\n",
    "assert sha1(str(len(answer0_2)).encode(\"utf-8\")+b\"23179909aec30293\").hexdigest() == \"fa97d800786c4b251a1211c0819b110dc2c0eb3e\", \"length of answer0_2 is not correct\"\n",
    "assert sha1(str(answer0_2.lower()).encode(\"utf-8\")+b\"23179909aec30293\").hexdigest() == \"501ea0e1ebe78b4be49e442ad66c221769d733ca\", \"value of answer0_2 is not correct\"\n",
    "assert sha1(str(answer0_2).encode(\"utf-8\")+b\"23179909aec30293\").hexdigest() == \"d5add81d55e61c21f8a4115790c0a0c36f0ac7f6\", \"correct string value of answer0_2 but incorrect case of letters\"\n",
    "\n",
    "print('Success!')"
   ]
  },
  {
   "cell_type": "markdown",
   "metadata": {
    "deletable": false,
    "editable": false,
    "nbgrader": {
     "cell_type": "markdown",
     "checksum": "f7d68784cae2955bfc549e6498296a52",
     "grade": false,
     "grade_id": "cell-e5066772a12351f8",
     "locked": true,
     "schema_version": 3,
     "solution": false
    }
   },
   "source": [
    "## 1. Breast Cancer Data Set \n",
    "We will work with the breast cancer data from this week's pre-reading. \n",
    "> Note that the breast cancer data in this worksheet have been **standardized (centred and scaled)** for you already. We will implement these steps in future worksheets/tutorials later, but for now, know the data has been standardized. Therefore the variables are unitless and hence why we have zero and negative values for variables like Radius. \n",
    "\n",
    "**Question 1.0**\n",
    "<br> {points: 1}\n",
    "\n",
    "Read the `clean-wdbc-data.csv` file (found in the `data` directory) using the `pd.read_csv` function into the notebook and store it as a data frame. *Name it `cancer`.*"
   ]
  },
  {
   "cell_type": "code",
   "execution_count": null,
   "metadata": {
    "deletable": false,
    "nbgrader": {
     "cell_type": "code",
     "checksum": "a07a9c14cef4594f8ed569286efe27fa",
     "grade": false,
     "grade_id": "cell-bc7e6d59f6a48ff4",
     "locked": false,
     "schema_version": 3,
     "solution": true
    }
   },
   "outputs": [],
   "source": [
    "# your code here\n",
    "raise NotImplementedError\n",
    "cancer"
   ]
  },
  {
   "cell_type": "code",
   "execution_count": null,
   "metadata": {
    "deletable": false,
    "editable": false,
    "nbgrader": {
     "cell_type": "code",
     "checksum": "1a9f69d8c89d6cad28532c4550d044cf",
     "grade": true,
     "grade_id": "cell-b7dada2851cb2d39",
     "locked": true,
     "points": 1,
     "schema_version": 3,
     "solution": false
    }
   },
   "outputs": [],
   "source": [
    "from hashlib import sha1\n",
    "assert sha1(str(type(cancer is None)).encode(\"utf-8\")+b\"3ca3428fc98bc5ae\").hexdigest() == \"56dba956d27a51924ca772034016adf0b7c54fee\", \"type of cancer is None is not bool. cancer is None should be a bool\"\n",
    "assert sha1(str(cancer is None).encode(\"utf-8\")+b\"3ca3428fc98bc5ae\").hexdigest() == \"59d0d893d17f14cd620c4971a2c03bb3551efe90\", \"boolean value of cancer is None is not correct\"\n",
    "\n",
    "assert sha1(str(type(cancer)).encode(\"utf-8\")+b\"8e7d5ea02fc0d355\").hexdigest() == \"f4fcc91f582bd52918fb2b28f2e33db07ff88f03\", \"type of type(cancer) is not correct\"\n",
    "\n",
    "assert sha1(str(type(cancer.shape)).encode(\"utf-8\")+b\"4d1e81a6040d711c\").hexdigest() == \"50a2bb63023ef01d138bef5b9066d1db51585d18\", \"type of cancer.shape is not tuple. cancer.shape should be a tuple\"\n",
    "assert sha1(str(len(cancer.shape)).encode(\"utf-8\")+b\"4d1e81a6040d711c\").hexdigest() == \"ee918c0f37a97518e830c146db043125c9cae7a0\", \"length of cancer.shape is not correct\"\n",
    "assert sha1(str(sorted(map(str, cancer.shape))).encode(\"utf-8\")+b\"4d1e81a6040d711c\").hexdigest() == \"aed5156f95e4006cc23e7a4435014d8e83d49c6c\", \"values of cancer.shape are not correct\"\n",
    "assert sha1(str(cancer.shape).encode(\"utf-8\")+b\"4d1e81a6040d711c\").hexdigest() == \"2189062c4274f0e1847d0f43fdccb18458271fb4\", \"order of elements of cancer.shape is not correct\"\n",
    "\n",
    "assert sha1(str(type(sum(cancer.Area))).encode(\"utf-8\")+b\"02ff8a00b8c829a4\").hexdigest() == \"69bbd530087777e40d920d3261250569c766a792\", \"type of sum(cancer.Area) is not float. Please make sure it is float and not np.float64, etc. You can cast your value into a float using float()\"\n",
    "assert sha1(str(round(sum(cancer.Area), 2)).encode(\"utf-8\")+b\"02ff8a00b8c829a4\").hexdigest() == \"b557744aa2e0b503ec49f8b58c0ba5d30c0395c2\", \"value of sum(cancer.Area) is not correct (rounded to 2 decimal places)\"\n",
    "\n",
    "assert sha1(str(type(cancer.columns.values)).encode(\"utf-8\")+b\"7c67e4225bada0a3\").hexdigest() == \"20b49a9ebf4aadadc9ff4ca4ca7271bfd3a9ea95\", \"type of cancer.columns.values is not correct\"\n",
    "assert sha1(str(cancer.columns.values).encode(\"utf-8\")+b\"7c67e4225bada0a3\").hexdigest() == \"3e63a8947aac8a8dae54e6aea1abe6571db9f534\", \"value of cancer.columns.values is not correct\"\n",
    "\n",
    "assert sha1(str(type(cancer['Class'].dtype)).encode(\"utf-8\")+b\"0f8f7232fed1e195\").hexdigest() == \"14983f615aba6299e6a20bbfee4732218d4cb4f8\", \"type of cancer['Class'].dtype is not correct\"\n",
    "assert sha1(str(cancer['Class'].dtype).encode(\"utf-8\")+b\"0f8f7232fed1e195\").hexdigest() == \"20eedfb763cd3653642979b4a15f0c57bce6da4a\", \"value of cancer['Class'].dtype is not correct\"\n",
    "\n",
    "print('Success!')"
   ]
  },
  {
   "cell_type": "markdown",
   "metadata": {
    "deletable": false,
    "editable": false,
    "nbgrader": {
     "cell_type": "markdown",
     "checksum": "d75978768753be37eea081f588dc09b4",
     "grade": false,
     "grade_id": "cell-4abc7741b213ce9e",
     "locked": true,
     "schema_version": 3,
     "solution": false
    }
   },
   "source": [
    "**Question 1.1** True or False: \n",
    "<br> {points: 1}\n",
    "\n",
    "After looking at the first six rows of the `cancer` data fame, suppose we asked you to predict the variable \"area\" for a new observation. **Is this a classification problem?**\n",
    "\n",
    "*Assign your answer to an object called `answer1_1`. Make sure the correct answer is a boolean. i.e. `True` or `False`.*"
   ]
  },
  {
   "cell_type": "code",
   "execution_count": null,
   "metadata": {
    "deletable": false,
    "nbgrader": {
     "cell_type": "code",
     "checksum": "ba6decd9db010e62ada7ec4c2624dc0e",
     "grade": false,
     "grade_id": "cell-787de50bba80be9c",
     "locked": false,
     "schema_version": 3,
     "solution": true
    }
   },
   "outputs": [],
   "source": [
    "# your code here\n",
    "raise NotImplementedError"
   ]
  },
  {
   "cell_type": "code",
   "execution_count": null,
   "metadata": {
    "deletable": false,
    "editable": false,
    "nbgrader": {
     "cell_type": "code",
     "checksum": "e53caf217a5a73c150aa781e7bbb45fd",
     "grade": true,
     "grade_id": "cell-8c2ac2ec68bc2ef2",
     "locked": true,
     "points": 3,
     "schema_version": 3,
     "solution": false
    }
   },
   "outputs": [],
   "source": [
    "from hashlib import sha1\n",
    "assert sha1(str(type(answer1_1)).encode(\"utf-8\")+b\"80c4f03233b5e1fe\").hexdigest() == \"e2860d376d7eb33f063cd5e8deb1e053c97be26b\", \"type of answer1_1 is not bool. answer1_1 should be a bool\"\n",
    "assert sha1(str(answer1_1).encode(\"utf-8\")+b\"80c4f03233b5e1fe\").hexdigest() == \"6ffe9f83fd76a224e7f6a2b5b96d70293b202cff\", \"boolean value of answer1_1 is not correct\"\n",
    "\n",
    "print('Success!')"
   ]
  },
  {
   "cell_type": "markdown",
   "metadata": {
    "deletable": false,
    "editable": false,
    "nbgrader": {
     "cell_type": "markdown",
     "checksum": "d5fc1087197d530c400ba09976b8aef5",
     "grade": false,
     "grade_id": "cell-d668650abd9bc1df",
     "locked": true,
     "schema_version": 3,
     "solution": false
    }
   },
   "source": [
    "**Question 1.2** \n",
    "<br> {points: 1}\n",
    "\n",
    "Create a scatterplot of the data with `Symmetry` on the x-axis and `Radius` on the y-axis. Modify your aesthetics by colouring for `Class`. As you create this plot, ensure you follow the guidelines for creating effective visualizations. In particular, note in the chart axis titles whether the data is standardized or not and add a suitable opacity level to the graphical mark. You should also replace the values in the dataframe's `Class` column from `'M'` to `'Malignant'` and from `'B'` to `'Benign'`. \n",
    "\n",
    "*Assign your plot to an object called `cancer_plot`.*"
   ]
  },
  {
   "cell_type": "code",
   "execution_count": null,
   "metadata": {
    "deletable": false,
    "nbgrader": {
     "cell_type": "code",
     "checksum": "4333fde6fe293e05d20ecc4346eb82fc",
     "grade": false,
     "grade_id": "cell-6dadc99c524407f7",
     "locked": false,
     "schema_version": 3,
     "solution": true
    }
   },
   "outputs": [],
   "source": [
    "# cancer[\"Class\"] = cancer[\"Class\"].___({\n",
    "#     ___,\n",
    "#     ___\n",
    "# })\n",
    "#\n",
    "# cancer_plot = ___\n",
    "\n",
    "# your code here\n",
    "raise NotImplementedError\n",
    "cancer_plot"
   ]
  },
  {
   "cell_type": "code",
   "execution_count": null,
   "metadata": {
    "deletable": false,
    "editable": false,
    "nbgrader": {
     "cell_type": "code",
     "checksum": "dbb7ecafeac5733da7c063065f90f7cf",
     "grade": true,
     "grade_id": "cell-82ee9aaeac954391",
     "locked": true,
     "points": 1,
     "schema_version": 3,
     "solution": false
    }
   },
   "outputs": [],
   "source": [
    "from hashlib import sha1\n",
    "assert sha1(str(type(cancer_plot is None)).encode(\"utf-8\")+b\"301a5eeeb97c0bf5\").hexdigest() == \"5db3177c083b8561d8b717f90e8fa12f8af197f0\", \"type of cancer_plot is None is not bool. cancer_plot is None should be a bool\"\n",
    "assert sha1(str(cancer_plot is None).encode(\"utf-8\")+b\"301a5eeeb97c0bf5\").hexdigest() == \"f5e1114c2c49aceba56ed072f2e80c8af6a0d2c0\", \"boolean value of cancer_plot is None is not correct\"\n",
    "\n",
    "assert sha1(str(type(cancer_plot.encoding.x['shorthand'])).encode(\"utf-8\")+b\"501ce732a9265354\").hexdigest() == \"3e82a534ba1441ef3aabea58fe1944c1d0f649d6\", \"type of cancer_plot.encoding.x['shorthand'] is not str. cancer_plot.encoding.x['shorthand'] should be an str\"\n",
    "assert sha1(str(len(cancer_plot.encoding.x['shorthand'])).encode(\"utf-8\")+b\"501ce732a9265354\").hexdigest() == \"9d82d99547f887956ce8eb1afbe7c96e79707f26\", \"length of cancer_plot.encoding.x['shorthand'] is not correct\"\n",
    "assert sha1(str(cancer_plot.encoding.x['shorthand'].lower()).encode(\"utf-8\")+b\"501ce732a9265354\").hexdigest() == \"820bce34c3db7da6abf4cb915dcfad9925d991b0\", \"value of cancer_plot.encoding.x['shorthand'] is not correct\"\n",
    "assert sha1(str(cancer_plot.encoding.x['shorthand']).encode(\"utf-8\")+b\"501ce732a9265354\").hexdigest() == \"57924648eeaed794c61a67c9a61f84700a6935be\", \"correct string value of cancer_plot.encoding.x['shorthand'] but incorrect case of letters\"\n",
    "\n",
    "assert sha1(str(type(cancer_plot.encoding.y['shorthand'])).encode(\"utf-8\")+b\"340da00e7c7a59d0\").hexdigest() == \"8ab37953121c4ad3c6ef669860b3a7c6516fcf23\", \"type of cancer_plot.encoding.y['shorthand'] is not str. cancer_plot.encoding.y['shorthand'] should be an str\"\n",
    "assert sha1(str(len(cancer_plot.encoding.y['shorthand'])).encode(\"utf-8\")+b\"340da00e7c7a59d0\").hexdigest() == \"8516dc6f717cad7fcd7ce317027150b7aeaef1ce\", \"length of cancer_plot.encoding.y['shorthand'] is not correct\"\n",
    "assert sha1(str(cancer_plot.encoding.y['shorthand'].lower()).encode(\"utf-8\")+b\"340da00e7c7a59d0\").hexdigest() == \"1f1ca247f5731105be3feab773ce9a3812207c3c\", \"value of cancer_plot.encoding.y['shorthand'] is not correct\"\n",
    "assert sha1(str(cancer_plot.encoding.y['shorthand']).encode(\"utf-8\")+b\"340da00e7c7a59d0\").hexdigest() == \"0472710fb329aeae93ab295dbeb466bb45e9f176\", \"correct string value of cancer_plot.encoding.y['shorthand'] but incorrect case of letters\"\n",
    "\n",
    "assert sha1(str(type(cancer_plot.encoding.color['shorthand'])).encode(\"utf-8\")+b\"b8b2fbebc56d0b50\").hexdigest() == \"e0dc67d5ac956297c6bf3ae2ca634af92a5b9f53\", \"type of cancer_plot.encoding.color['shorthand'] is not str. cancer_plot.encoding.color['shorthand'] should be an str\"\n",
    "assert sha1(str(len(cancer_plot.encoding.color['shorthand'])).encode(\"utf-8\")+b\"b8b2fbebc56d0b50\").hexdigest() == \"7728e74b7acf00873c9efa0ddd7d5bc8c67a7e3b\", \"length of cancer_plot.encoding.color['shorthand'] is not correct\"\n",
    "assert sha1(str(cancer_plot.encoding.color['shorthand'].lower()).encode(\"utf-8\")+b\"b8b2fbebc56d0b50\").hexdigest() == \"b59b3498615f2a7c459df32a2de25640b4c68f11\", \"value of cancer_plot.encoding.color['shorthand'] is not correct\"\n",
    "assert sha1(str(cancer_plot.encoding.color['shorthand']).encode(\"utf-8\")+b\"b8b2fbebc56d0b50\").hexdigest() == \"d87a26154f26e1fdfd717b988b6d6fc2611e7992\", \"correct string value of cancer_plot.encoding.color['shorthand'] but incorrect case of letters\"\n",
    "\n",
    "assert sha1(str(type(cancer_plot.mark)).encode(\"utf-8\")+b\"a8f728f97612ae45\").hexdigest() == \"ea46de38ab5dd1207ed90ddec63771415b6ccd73\", \"type of cancer_plot.mark is not correct\"\n",
    "assert sha1(str(cancer_plot.mark).encode(\"utf-8\")+b\"a8f728f97612ae45\").hexdigest() == \"8ae29155f850d7a1ab23c72af6b3a3915c26acea\", \"value of cancer_plot.mark is not correct\"\n",
    "\n",
    "assert sha1(str(type(isinstance(cancer_plot.encoding.color['title'], str))).encode(\"utf-8\")+b\"3266963d345ed4d4\").hexdigest() == \"0f1026bff69856c4d94b3870ed41eb8ad91b2028\", \"type of isinstance(cancer_plot.encoding.color['title'], str) is not bool. isinstance(cancer_plot.encoding.color['title'], str) should be a bool\"\n",
    "assert sha1(str(isinstance(cancer_plot.encoding.color['title'], str)).encode(\"utf-8\")+b\"3266963d345ed4d4\").hexdigest() == \"bdad9548badee69b8a8911667b2f8b8d30d83b5a\", \"boolean value of isinstance(cancer_plot.encoding.color['title'], str) is not correct\"\n",
    "\n",
    "assert sha1(str(type(isinstance(cancer_plot.encoding.x['title'], str))).encode(\"utf-8\")+b\"c2dbf46e27e33191\").hexdigest() == \"29361cdac510c61853893f048613c285b3921822\", \"type of isinstance(cancer_plot.encoding.x['title'], str) is not bool. isinstance(cancer_plot.encoding.x['title'], str) should be a bool\"\n",
    "assert sha1(str(isinstance(cancer_plot.encoding.x['title'], str)).encode(\"utf-8\")+b\"c2dbf46e27e33191\").hexdigest() == \"45e6b66ce05f5ab205274196b475b2572aee4b44\", \"boolean value of isinstance(cancer_plot.encoding.x['title'], str) is not correct\"\n",
    "\n",
    "assert sha1(str(type(isinstance(cancer_plot.encoding.y['title'], str))).encode(\"utf-8\")+b\"9118fde5c0f8611a\").hexdigest() == \"4c38a807a234053ac234981680602eb38e66d176\", \"type of isinstance(cancer_plot.encoding.y['title'], str) is not bool. isinstance(cancer_plot.encoding.y['title'], str) should be a bool\"\n",
    "assert sha1(str(isinstance(cancer_plot.encoding.y['title'], str)).encode(\"utf-8\")+b\"9118fde5c0f8611a\").hexdigest() == \"490a56e62148ea3d26d786259833b6e92ec4a2cb\", \"boolean value of isinstance(cancer_plot.encoding.y['title'], str) is not correct\"\n",
    "\n",
    "print('Success!')"
   ]
  },
  {
   "cell_type": "markdown",
   "metadata": {
    "deletable": false,
    "editable": false,
    "nbgrader": {
     "cell_type": "markdown",
     "checksum": "5ba7287255d74f7b6dda894e8a4de724",
     "grade": false,
     "grade_id": "cell-19b9839a8f31d445",
     "locked": true,
     "schema_version": 3,
     "solution": false
    }
   },
   "source": [
    "**Question 1.3** \n",
    "<br> {points: 1}\n",
    "\n",
    "Just by looking at the scatterplot above, how would you classify an observation with `Symmetry` = 1 and `Radius` = 1 (Benign or Malignant)?\n",
    "\n",
    "*Assign your answer to an object called `answer1_3`. Make sure the correct answer is written fully. Remember to surround your answer with quotation marks (e.g. \"Benign\" / \"Malignant\").*"
   ]
  },
  {
   "cell_type": "code",
   "execution_count": null,
   "metadata": {
    "deletable": false,
    "nbgrader": {
     "cell_type": "code",
     "checksum": "1c5fc1838f3adb6952868d3531cbe1b6",
     "grade": false,
     "grade_id": "cell-4770d75e12811ba2",
     "locked": false,
     "schema_version": 3,
     "solution": true
    }
   },
   "outputs": [],
   "source": [
    "# your code here\n",
    "raise NotImplementedError"
   ]
  },
  {
   "cell_type": "code",
   "execution_count": null,
   "metadata": {
    "deletable": false,
    "editable": false,
    "nbgrader": {
     "cell_type": "code",
     "checksum": "cfa236806efb9e185fc4784fae829d27",
     "grade": true,
     "grade_id": "cell-927ef1b1abe0452a",
     "locked": true,
     "points": 3,
     "schema_version": 3,
     "solution": false
    }
   },
   "outputs": [],
   "source": [
    "from hashlib import sha1\n",
    "assert sha1(str(type(answer1_3)).encode(\"utf-8\")+b\"96f8c508c9b9fafe\").hexdigest() == \"e730587e9fddcc745ce729b8aaf2fe0889991520\", \"type of answer1_3 is not str. answer1_3 should be an str\"\n",
    "assert sha1(str(len(answer1_3)).encode(\"utf-8\")+b\"96f8c508c9b9fafe\").hexdigest() == \"aafed179d0bcdbb06ae1f1629cd4601ec2b12028\", \"length of answer1_3 is not correct\"\n",
    "assert sha1(str(answer1_3.lower()).encode(\"utf-8\")+b\"96f8c508c9b9fafe\").hexdigest() == \"6ae04955c70e07753f0fb2b95cc85e9e7625e4d8\", \"value of answer1_3 is not correct\"\n",
    "assert sha1(str(answer1_3).encode(\"utf-8\")+b\"96f8c508c9b9fafe\").hexdigest() == \"4b2ee2868a9383fa617d009b7c1b249617dcaf7f\", \"correct string value of answer1_3 but incorrect case of letters\"\n",
    "\n",
    "print('Success!')"
   ]
  },
  {
   "cell_type": "markdown",
   "metadata": {
    "deletable": false,
    "editable": false,
    "nbgrader": {
     "cell_type": "markdown",
     "checksum": "b816acaf0886f8ad88d6839848de4920",
     "grade": false,
     "grade_id": "cell-042f2da9a72d7533",
     "locked": true,
     "schema_version": 3,
     "solution": false,
     "task": false
    }
   },
   "source": [
    "We will now compute the distance between the first and second observation in the breast cancer dataset using the explanatory variables/predictors `Symmetry` and `Radius`. Recall we can calculate the distance between two points using the following formula:\n",
    "\n",
    "$$Distance = \\sqrt{(a_x -b_x)^2 + (a_y - b_y)^2}$$"
   ]
  },
  {
   "cell_type": "markdown",
   "metadata": {
    "deletable": false,
    "editable": false,
    "nbgrader": {
     "cell_type": "markdown",
     "checksum": "4cf4a2567d60db9b6e57ecae5c36dd89",
     "grade": false,
     "grade_id": "cell-6c27f7d3e70cb8f5",
     "locked": true,
     "schema_version": 3,
     "solution": false
    }
   },
   "source": [
    "**Question 1.4** \n",
    "<br> {points: 1}\n",
    "\n",
    "First, extract the coordinates for the two observations and assign them to objects called: \n",
    "\n",
    "- `ax` (Symmetry value for the first row)\n",
    "- `ay` (Radius value for the first row)\n",
    "- `bx` (Symmetry value for the second row)\n",
    "- `by` (Radius value for the second row).\n",
    "\n",
    "*Scaffolding for `ax` is given*."
   ]
  },
  {
   "cell_type": "code",
   "execution_count": null,
   "metadata": {
    "deletable": false,
    "nbgrader": {
     "cell_type": "code",
     "checksum": "65af1e8f6ad8346b360212ed6b3a3056",
     "grade": false,
     "grade_id": "cell-9aa7e3751578c8c5",
     "locked": false,
     "schema_version": 3,
     "solution": true
    }
   },
   "outputs": [],
   "source": [
    "# ax = cancer.loc[0, \"Symmetry\"] # selecting the first observation from cancer and pulling the value from the Symmetry column as a numeric value only\n",
    "\n",
    "# your code here\n",
    "raise NotImplementedError"
   ]
  },
  {
   "cell_type": "code",
   "execution_count": null,
   "metadata": {
    "deletable": false,
    "editable": false,
    "nbgrader": {
     "cell_type": "code",
     "checksum": "c696369335abfddb517a8b7b494c21fd",
     "grade": true,
     "grade_id": "cell-9117ab916552d6a6",
     "locked": true,
     "points": 1,
     "schema_version": 3,
     "solution": false
    }
   },
   "outputs": [],
   "source": [
    "from hashlib import sha1\n",
    "assert sha1(str(type(ax)).encode(\"utf-8\")+b\"6476d8f4c61d64e5\").hexdigest() == \"cf6df3dc1316b83e634a849fe1003f3869131218\", \"type of ax is not correct\"\n",
    "assert sha1(str(ax).encode(\"utf-8\")+b\"6476d8f4c61d64e5\").hexdigest() == \"692cdf85aec6071f264314f8fbd28c0d75be5a70\", \"value of ax is not correct\"\n",
    "\n",
    "assert sha1(str(type(ay)).encode(\"utf-8\")+b\"5bff1d763ee8f8e9\").hexdigest() == \"bf627f32fb52e1e008561e307ef86d85fd09b2f4\", \"type of ay is not correct\"\n",
    "assert sha1(str(ay).encode(\"utf-8\")+b\"5bff1d763ee8f8e9\").hexdigest() == \"12f50915b4065c392fac7b7e782a7cda1a01c07d\", \"value of ay is not correct\"\n",
    "\n",
    "assert sha1(str(type(bx)).encode(\"utf-8\")+b\"0511ff469bf675b5\").hexdigest() == \"f2ddedcef80ba2eab1c903808f0edf9e50a1f60d\", \"type of bx is not correct\"\n",
    "assert sha1(str(bx).encode(\"utf-8\")+b\"0511ff469bf675b5\").hexdigest() == \"7806b5e890b2db37b9db7486c69da19bfb3f8daf\", \"value of bx is not correct\"\n",
    "\n",
    "assert sha1(str(type(by)).encode(\"utf-8\")+b\"f662f575df3a899a\").hexdigest() == \"20b556d4043d187f97249cdcf54fc566ef47c0b7\", \"type of by is not correct\"\n",
    "assert sha1(str(by).encode(\"utf-8\")+b\"f662f575df3a899a\").hexdigest() == \"ac28690bc400be5942b4442685f05fa931d0bf2f\", \"value of by is not correct\"\n",
    "\n",
    "print('Success!')"
   ]
  },
  {
   "cell_type": "markdown",
   "metadata": {
    "deletable": false,
    "editable": false,
    "nbgrader": {
     "cell_type": "markdown",
     "checksum": "a3c4cd0a0e84143515031f80d130402e",
     "grade": false,
     "grade_id": "cell-d3cdd3053b1b28f3",
     "locked": true,
     "schema_version": 3,
     "solution": false
    }
   },
   "source": [
    "**Question 1.5**\n",
    "<br> {points: 1}\n",
    "\n",
    "Plug the coordinates into the distance equation. Hint: `**` is the exponent symbol in Python.\n",
    "\n",
    "*Assign your answer to an object called `answer1_5`.*\n",
    "\n",
    "Fill in the `___` in the cell below. "
   ]
  },
  {
   "cell_type": "code",
   "execution_count": null,
   "metadata": {
    "deletable": false,
    "nbgrader": {
     "cell_type": "code",
     "checksum": "809581cf16d27f472328be640c3210af",
     "grade": false,
     "grade_id": "cell-df5b6355c3c1fb5e",
     "locked": false,
     "schema_version": 3,
     "solution": true
    }
   },
   "outputs": [],
   "source": [
    "# ___ = ((___ - ___)**___ + (___ - ___)**___)**___\n",
    "\n",
    "# your code here\n",
    "raise NotImplementedError\n",
    "answer1_5"
   ]
  },
  {
   "cell_type": "code",
   "execution_count": null,
   "metadata": {
    "deletable": false,
    "editable": false,
    "nbgrader": {
     "cell_type": "code",
     "checksum": "5d8150cfa8c80a84d6bd6bf3bdf8c19c",
     "grade": true,
     "grade_id": "cell-3d5f251a3d1cd4d4",
     "locked": true,
     "points": 3,
     "schema_version": 3,
     "solution": false
    }
   },
   "outputs": [],
   "source": [
    "from hashlib import sha1\n",
    "assert sha1(str(type(answer1_5)).encode(\"utf-8\")+b\"2d2839230fae86cb\").hexdigest() == \"b381d4c803aad1f15e8e6c19abcfd14cbfb9a09c\", \"type of answer1_5 is not correct\"\n",
    "assert sha1(str(answer1_5).encode(\"utf-8\")+b\"2d2839230fae86cb\").hexdigest() == \"e285dacc0bf4a5b3b6f5755c4e000e80b627f325\", \"value of answer1_5 is not correct\"\n",
    "\n",
    "print('Success!')"
   ]
  },
  {
   "cell_type": "markdown",
   "metadata": {
    "deletable": false,
    "editable": false,
    "nbgrader": {
     "cell_type": "markdown",
     "checksum": "06506ec0db1cb8c74ce59ee6e42413ae",
     "grade": false,
     "grade_id": "cell-7497aeecdc763d29",
     "locked": true,
     "schema_version": 3,
     "solution": false
    }
   },
   "source": [
    "**Question 1.6**\n",
    "<br> {points: 1}\n",
    "\n",
    "Now we'll do the same thing *with 3 explanatory variables/predictors*: `Symmetry`, `Radius` and `Concavity`. Again, use the first two rows in the data set as the points you are calculating the distance between (point $a$ is row 0, and point $b$ is row 1).\n",
    "\n",
    "\n",
    "*Find the coordinates for the third variable (Concavity) and assign them to objects called `za` and `zb`. Use the scaffolding given in **Question 1.4** as a guide.*"
   ]
  },
  {
   "cell_type": "code",
   "execution_count": null,
   "metadata": {
    "deletable": false,
    "nbgrader": {
     "cell_type": "code",
     "checksum": "7b5b5c0e6c009ed6451085d65fe676a2",
     "grade": false,
     "grade_id": "cell-2eaff08bf3baaeb4",
     "locked": false,
     "schema_version": 3,
     "solution": true
    }
   },
   "outputs": [],
   "source": [
    "# your code here\n",
    "raise NotImplementedError"
   ]
  },
  {
   "cell_type": "code",
   "execution_count": null,
   "metadata": {
    "deletable": false,
    "editable": false,
    "nbgrader": {
     "cell_type": "code",
     "checksum": "98c620c16c11b1fab31fd19a4a8e0ec5",
     "grade": true,
     "grade_id": "cell-4944fdeee6a1485f",
     "locked": true,
     "points": 1,
     "schema_version": 3,
     "solution": false
    }
   },
   "outputs": [],
   "source": [
    "from hashlib import sha1\n",
    "assert sha1(str(type(az)).encode(\"utf-8\")+b\"a3c67f23dff3ca05\").hexdigest() == \"bc85b67d76a5ac6f711204456b6cb9a1d523f32b\", \"type of az is not correct\"\n",
    "assert sha1(str(az).encode(\"utf-8\")+b\"a3c67f23dff3ca05\").hexdigest() == \"70bfab63231590c6f067f3f6f2455e5769a5e2af\", \"value of az is not correct\"\n",
    "\n",
    "assert sha1(str(type(bz)).encode(\"utf-8\")+b\"b8f47306712dc484\").hexdigest() == \"2ce5462d140f788af0b4601402dbaca1b9ef13ab\", \"type of bz is not correct\"\n",
    "assert sha1(str(bz).encode(\"utf-8\")+b\"b8f47306712dc484\").hexdigest() == \"4d8d0811c021095f3e1076b605d603ebe7a127fc\", \"value of bz is not correct\"\n",
    "\n",
    "print('Success!')"
   ]
  },
  {
   "cell_type": "markdown",
   "metadata": {
    "deletable": false,
    "editable": false,
    "nbgrader": {
     "cell_type": "markdown",
     "checksum": "58e2d424d2135a156b4f4e61c1ad6b49",
     "grade": false,
     "grade_id": "cell-a2b93620a52ffd2b",
     "locked": true,
     "schema_version": 3,
     "solution": false
    }
   },
   "source": [
    "**Question 1.7**\n",
    "<br> {points: 1}\n",
    "\n",
    "Again, calculate the distance between the first and second observation in the breast cancer dataset using 3 explanatory variables/predictors: `Symmetry`, `Radius` and `Concavity`.\n",
    "\n",
    "*Assign your answer to an object called `answer1_7`. Use the scaffolding given to calculate `answer1_5` as a guide.*"
   ]
  },
  {
   "cell_type": "code",
   "execution_count": null,
   "metadata": {
    "deletable": false,
    "nbgrader": {
     "cell_type": "code",
     "checksum": "a3c566227c25ad5e3c0ab91cf2b04622",
     "grade": false,
     "grade_id": "cell-7cee650ed7204a98",
     "locked": false,
     "schema_version": 3,
     "solution": true
    }
   },
   "outputs": [],
   "source": [
    "# your code here\n",
    "raise NotImplementedError\n",
    "answer1_7"
   ]
  },
  {
   "cell_type": "code",
   "execution_count": null,
   "metadata": {
    "deletable": false,
    "editable": false,
    "nbgrader": {
     "cell_type": "code",
     "checksum": "eea6a0a555d1a15eb82e9ead731e8a4a",
     "grade": true,
     "grade_id": "cell-e5b8f9dc0531ad16",
     "locked": true,
     "points": 3,
     "schema_version": 3,
     "solution": false
    }
   },
   "outputs": [],
   "source": [
    "from hashlib import sha1\n",
    "assert sha1(str(type(round(answer1_7, 2))).encode(\"utf-8\")+b\"a9ce6ff4b8679411\").hexdigest() == \"7ae3c02bc43ff0484457e4451a4871e197fc1732\", \"type of round(answer1_7, 2) is not correct\"\n",
    "assert sha1(str(round(answer1_7, 2)).encode(\"utf-8\")+b\"a9ce6ff4b8679411\").hexdigest() == \"7528e277ca6ec1865406b5de25083fed38afab61\", \"value of round(answer1_7, 2) is not correct\"\n",
    "\n",
    "print('Success!')"
   ]
  },
  {
   "cell_type": "markdown",
   "metadata": {
    "deletable": false,
    "editable": false,
    "nbgrader": {
     "cell_type": "markdown",
     "checksum": "aa2140fad6fb71b083d2ce9b4df42f89",
     "grade": false,
     "grade_id": "cell-eab0518c6e0ee567",
     "locked": true,
     "schema_version": 3,
     "solution": false
    }
   },
   "source": [
    "**Question 1.8**\n",
    "<br> {points: 1}\n",
    "\n",
    "Let's do this without explicitly making coordinate variables!\n",
    "\n",
    "Create a pandas series of the coordinates for each point. Name one series `point_a` and the other series `point_b`. Within the series, the order of coordinates should be: `Symmetry`, `Radius`, `Concavity`.\n",
    "\n",
    "Fill in the `___` in the cell below.\n"
   ]
  },
  {
   "cell_type": "code",
   "execution_count": null,
   "metadata": {
    "deletable": false,
    "nbgrader": {
     "cell_type": "code",
     "checksum": "a452470aa0defd657fa43844d8d5cc24",
     "grade": false,
     "grade_id": "cell-78df392f18904edd",
     "locked": false,
     "schema_version": 3,
     "solution": true
    }
   },
   "outputs": [],
   "source": [
    "# This is only the scaffolding for one point (you need to make another one for row number 1)\n",
    "\n",
    "# ___ =  cancer.loc[0, [___, \"Radius\", ___]]\n",
    "\n",
    "\n",
    "# your code here\n",
    "raise NotImplementedError\n",
    "print(point_a)\n",
    "print(point_b)"
   ]
  },
  {
   "cell_type": "code",
   "execution_count": null,
   "metadata": {
    "deletable": false,
    "editable": false,
    "nbgrader": {
     "cell_type": "code",
     "checksum": "0a1a6945815274ac77d514ce135ffdc7",
     "grade": true,
     "grade_id": "cell-c20cf45fef3d389b",
     "locked": true,
     "points": 1,
     "schema_version": 3,
     "solution": false
    }
   },
   "outputs": [],
   "source": [
    "from hashlib import sha1\n",
    "assert sha1(str(type(round(sum(point_a), 2))).encode(\"utf-8\")+b\"18a3bf6138496759\").hexdigest() == \"e87cd8a3f78fd57f63a1b0b768f700da2501fa1e\", \"type of round(sum(point_a), 2) is not correct\"\n",
    "assert sha1(str(round(sum(point_a), 2)).encode(\"utf-8\")+b\"18a3bf6138496759\").hexdigest() == \"52387dc82e7b5d5eabbad7db92671337368cb922\", \"value of round(sum(point_a), 2) is not correct\"\n",
    "\n",
    "assert sha1(str(type(round(sum(point_b), 2))).encode(\"utf-8\")+b\"7908f89ae4f03a1e\").hexdigest() == \"ff2ac988b47de0fbd04cb22533273a1cee0e22b6\", \"type of round(sum(point_b), 2) is not correct\"\n",
    "assert sha1(str(round(sum(point_b), 2)).encode(\"utf-8\")+b\"7908f89ae4f03a1e\").hexdigest() == \"65e3b7d5c9dac9f6bc8222d4a7facd0aa08e5f49\", \"value of round(sum(point_b), 2) is not correct\"\n",
    "\n",
    "print('Success!')"
   ]
  },
  {
   "cell_type": "markdown",
   "metadata": {
    "deletable": false,
    "editable": false,
    "nbgrader": {
     "cell_type": "markdown",
     "checksum": "75dc464cd9d17c8ba2fb42692eb4e56e",
     "grade": false,
     "grade_id": "cell-c5b5b0129c7b8e60",
     "locked": true,
     "schema_version": 3,
     "solution": false
    }
   },
   "source": [
    "**Question 1.9**\n",
    "<br> {points: 1}\n",
    "\n",
    "Compute the squared differences between the two series, `point_a` and `point_b`. The result should be a series of length 3 named `dif_square`. *Hint: `**` is the exponent symbol in Python.*"
   ]
  },
  {
   "cell_type": "code",
   "execution_count": null,
   "metadata": {
    "deletable": false,
    "nbgrader": {
     "cell_type": "code",
     "checksum": "0a57813061262beb93ae4f4f117800c9",
     "grade": false,
     "grade_id": "cell-8244086b2edb3999",
     "locked": false,
     "schema_version": 3,
     "solution": true
    }
   },
   "outputs": [],
   "source": [
    "# your code here\n",
    "raise NotImplementedError\n",
    "dif_square"
   ]
  },
  {
   "cell_type": "code",
   "execution_count": null,
   "metadata": {
    "deletable": false,
    "editable": false,
    "nbgrader": {
     "cell_type": "code",
     "checksum": "7ce2f3ce7c22fce4584cb643f72d5307",
     "grade": true,
     "grade_id": "cell-fb099b82bbaac1f5",
     "locked": true,
     "points": 3,
     "schema_version": 3,
     "solution": false
    }
   },
   "outputs": [],
   "source": [
    "from hashlib import sha1\n",
    "assert sha1(str(type(sum(dif_square))).encode(\"utf-8\")+b\"8b25b64120a6224c\").hexdigest() == \"b84ed3d38980cf4a017fc6c3f5d94e2ce8dc2658\", \"type of sum(dif_square) is not correct\"\n",
    "assert sha1(str(sum(dif_square)).encode(\"utf-8\")+b\"8b25b64120a6224c\").hexdigest() == \"8cb226c0555e792fd240b0657fa4f6e9a49afad9\", \"value of sum(dif_square) is not correct\"\n",
    "\n",
    "print('Success!')"
   ]
  },
  {
   "cell_type": "markdown",
   "metadata": {
    "deletable": false,
    "editable": false,
    "nbgrader": {
     "cell_type": "markdown",
     "checksum": "1e273734f788c6cdecb7d7859e25b6a1",
     "grade": false,
     "grade_id": "cell-2f2f6160dfde75a1",
     "locked": true,
     "schema_version": 3,
     "solution": false
    }
   },
   "source": [
    "**Question 1.09.1**\n",
    "<br> {points: 1}\n",
    "\n",
    "Sum the squared differences between the two points, `point_a` and `point_b`. The result should be a single number named `dif_sum`. \n",
    "\n",
    "*Hint: the `sum` dataframe method in Python returns the sum of the elements in a series*"
   ]
  },
  {
   "cell_type": "code",
   "execution_count": null,
   "metadata": {
    "deletable": false,
    "nbgrader": {
     "cell_type": "code",
     "checksum": "48eca56133082aa0819ba3bbeaf8a571",
     "grade": false,
     "grade_id": "cell-86ab5cef9257a578",
     "locked": false,
     "schema_version": 3,
     "solution": true
    }
   },
   "outputs": [],
   "source": [
    "# your code here\n",
    "raise NotImplementedError\n",
    "dif_sum"
   ]
  },
  {
   "cell_type": "code",
   "execution_count": null,
   "metadata": {
    "deletable": false,
    "editable": false,
    "nbgrader": {
     "cell_type": "code",
     "checksum": "81c92092ef25acbfdbeb4e01f67a565d",
     "grade": true,
     "grade_id": "cell-629beff90c931f51",
     "locked": true,
     "points": 3,
     "schema_version": 3,
     "solution": false
    }
   },
   "outputs": [],
   "source": [
    "from hashlib import sha1\n",
    "assert sha1(str(type(dif_sum)).encode(\"utf-8\")+b\"0be4a307d300f221\").hexdigest() == \"e3a29bb0a50d646c1ca21a732085cf01f13c078b\", \"type of dif_sum is not correct\"\n",
    "assert sha1(str(dif_sum).encode(\"utf-8\")+b\"0be4a307d300f221\").hexdigest() == \"bdd41ae0be80b6c67abc8bf859749fc0ad8cb618\", \"value of dif_sum is not correct\"\n",
    "\n",
    "print('Success!')"
   ]
  },
  {
   "cell_type": "markdown",
   "metadata": {
    "deletable": false,
    "editable": false,
    "nbgrader": {
     "cell_type": "markdown",
     "checksum": "c89e70beda90ab61fc9f35b4ed7c4cda",
     "grade": false,
     "grade_id": "cell-7e182c22fa4eec69",
     "locked": true,
     "schema_version": 3,
     "solution": false
    }
   },
   "source": [
    "**Question 1.09.2**\n",
    "<br> {points: 1}\n",
    "\n",
    "Square root the sum of your squared differences. The result should be a number named `root_dif_sum`. "
   ]
  },
  {
   "cell_type": "code",
   "execution_count": null,
   "metadata": {
    "deletable": false,
    "nbgrader": {
     "cell_type": "code",
     "checksum": "9b850385ac41a93fa5c6ec15e6f3f820",
     "grade": false,
     "grade_id": "cell-660055c1546fc78c",
     "locked": false,
     "schema_version": 3,
     "solution": true
    }
   },
   "outputs": [],
   "source": [
    "# your code here\n",
    "raise NotImplementedError\n",
    "root_dif_sum"
   ]
  },
  {
   "cell_type": "code",
   "execution_count": null,
   "metadata": {
    "deletable": false,
    "editable": false,
    "nbgrader": {
     "cell_type": "code",
     "checksum": "6ee3d3c47c14784f83735a6c15aa213c",
     "grade": true,
     "grade_id": "cell-d144868a6cbc8b3f",
     "locked": true,
     "points": 3,
     "schema_version": 3,
     "solution": false
    }
   },
   "outputs": [],
   "source": [
    "from hashlib import sha1\n",
    "assert sha1(str(type(root_dif_sum)).encode(\"utf-8\")+b\"4f844c00101d1e2e\").hexdigest() == \"ca34a5881aa6bd820ab9bb679372f6d95bc53fda\", \"type of root_dif_sum is not correct\"\n",
    "assert sha1(str(root_dif_sum).encode(\"utf-8\")+b\"4f844c00101d1e2e\").hexdigest() == \"912269b7b5cccf17171fc41491233072d5a008d4\", \"value of root_dif_sum is not correct\"\n",
    "\n",
    "print('Success!')"
   ]
  },
  {
   "cell_type": "markdown",
   "metadata": {
    "deletable": false,
    "editable": false,
    "nbgrader": {
     "cell_type": "markdown",
     "checksum": "90b8cc52324383a1ef50c2fc651e3aa4",
     "grade": false,
     "grade_id": "cell-fe94f79e97960c76",
     "locked": true,
     "schema_version": 3,
     "solution": false
    }
   },
   "source": [
    "**Question 1.09.3**\n",
    "<br> {points: 1}\n",
    "\n",
    "If we have more than a few points, calculating distances as we did in the previous questions is VERY tedious. Let's use the `euclidean_distances` function from `scikit-learn` package to find the distance between the first and second observation in the breast cancer dataset using Symmetry, Radius and Concavity. \n",
    "\n",
    "Fill in the `___` in the cell below. \n",
    "\n",
    "*Assign your answer to an object called `dist_cancer_two_rows`. Note that the euclidean_distances function will return four values, one for each pair of combinations of the coordinates for the two points; we will see another example of this and describe it more in detail later in this worksheet.*"
   ]
  },
  {
   "cell_type": "code",
   "execution_count": null,
   "metadata": {
    "deletable": false,
    "nbgrader": {
     "cell_type": "code",
     "checksum": "1c645a5608af47d86c25ae1c253153e3",
     "grade": false,
     "grade_id": "cell-49a6780a9752e7d0",
     "locked": false,
     "schema_version": 3,
     "solution": true
    }
   },
   "outputs": [],
   "source": [
    "# dist_cancer_two_rows = euclidean_distances(\n",
    "#     cancer.loc[0:1, [___, \"Radius\", ___]]\n",
    "# )\n",
    "\n",
    "# your code here\n",
    "raise NotImplementedError\n",
    "dist_cancer_two_rows"
   ]
  },
  {
   "cell_type": "code",
   "execution_count": null,
   "metadata": {
    "deletable": false,
    "editable": false,
    "nbgrader": {
     "cell_type": "code",
     "checksum": "ace092a5cf84eff12d3cfff270100304",
     "grade": true,
     "grade_id": "cell-657a6cc18a3bf8ce",
     "locked": true,
     "points": 3,
     "schema_version": 3,
     "solution": false
    }
   },
   "outputs": [],
   "source": [
    "from hashlib import sha1\n",
    "assert sha1(str(type(dist_cancer_two_rows[0, 0])).encode(\"utf-8\")+b\"8a331d5e3b3f11e2\").hexdigest() == \"72af7dbb517a9caa641d34182ccc7de3a0a6dfb1\", \"type of dist_cancer_two_rows[0, 0] is not correct\"\n",
    "assert sha1(str(dist_cancer_two_rows[0, 0]).encode(\"utf-8\")+b\"8a331d5e3b3f11e2\").hexdigest() == \"63c7cf9eec5227d0f332487eee69c736022b8e0d\", \"value of dist_cancer_two_rows[0, 0] is not correct\"\n",
    "\n",
    "assert sha1(str(type(dist_cancer_two_rows[0, 1])).encode(\"utf-8\")+b\"33924e04cb66c4b7\").hexdigest() == \"b62b4e7fa6274a69f05020845088a9e74653c711\", \"type of dist_cancer_two_rows[0, 1] is not correct\"\n",
    "assert sha1(str(dist_cancer_two_rows[0, 1]).encode(\"utf-8\")+b\"33924e04cb66c4b7\").hexdigest() == \"d595e28baa6b0b4b085a1558d1b867c9590d2639\", \"value of dist_cancer_two_rows[0, 1] is not correct\"\n",
    "\n",
    "assert sha1(str(type(dist_cancer_two_rows[1, 0])).encode(\"utf-8\")+b\"ee194ccb1fcb2439\").hexdigest() == \"0654dfd479d5f5ad9990a7bc47bf2f41f3bd92ec\", \"type of dist_cancer_two_rows[1, 0] is not correct\"\n",
    "assert sha1(str(dist_cancer_two_rows[1, 0]).encode(\"utf-8\")+b\"ee194ccb1fcb2439\").hexdigest() == \"573526961afbdcc80c2ea7557b793b12a7820f4d\", \"value of dist_cancer_two_rows[1, 0] is not correct\"\n",
    "\n",
    "assert sha1(str(type(dist_cancer_two_rows[1, 1])).encode(\"utf-8\")+b\"262b6ee5f5823324\").hexdigest() == \"a2e33c1770f846a4ae77e095a7dcc4005f872ba6\", \"type of dist_cancer_two_rows[1, 1] is not correct\"\n",
    "assert sha1(str(dist_cancer_two_rows[1, 1]).encode(\"utf-8\")+b\"262b6ee5f5823324\").hexdigest() == \"a66eba80464e236b8157867e0d148d0c8e5c04a6\", \"value of dist_cancer_two_rows[1, 1] is not correct\"\n",
    "\n",
    "print('Success!')"
   ]
  },
  {
   "cell_type": "markdown",
   "metadata": {
    "deletable": false,
    "editable": false,
    "nbgrader": {
     "cell_type": "markdown",
     "checksum": "3cc638a5f6d4382a0a3bdab3c23a849d",
     "grade": false,
     "grade_id": "cell-d2b6719023a2ec78",
     "locked": true,
     "schema_version": 3,
     "solution": false
    }
   },
   "source": [
    "**Question 1.09.4** True or False: \n",
    "<br> {points: 1}\n",
    "\n",
    "Compare `answer1_7`, `root_dif_sum`, and `dist_cancer_two_rows`. \n",
    "\n",
    "**Are they all the same value?** \n",
    "\n",
    "*Assign your answer to an object called `answer1_09_4`. Make sure the correct answer is a boolean. i.e. `True` or `False`.*"
   ]
  },
  {
   "cell_type": "code",
   "execution_count": null,
   "metadata": {
    "deletable": false,
    "nbgrader": {
     "cell_type": "code",
     "checksum": "33d70059ff697b0289b01c2e3eed073f",
     "grade": false,
     "grade_id": "cell-083ba5d559495244",
     "locked": false,
     "schema_version": 3,
     "solution": true
    }
   },
   "outputs": [],
   "source": [
    "# your code here\n",
    "raise NotImplementedError"
   ]
  },
  {
   "cell_type": "code",
   "execution_count": null,
   "metadata": {
    "deletable": false,
    "editable": false,
    "nbgrader": {
     "cell_type": "code",
     "checksum": "3d815e9ce85100a5ebfeb3e845f6298f",
     "grade": true,
     "grade_id": "cell-15ea031e7e016f14",
     "locked": true,
     "points": 3,
     "schema_version": 3,
     "solution": false
    }
   },
   "outputs": [],
   "source": [
    "from hashlib import sha1\n",
    "assert sha1(str(type(answer1_09_4)).encode(\"utf-8\")+b\"f4c65926d9c3ec9c\").hexdigest() == \"967b4f4749b8eeb2181ae6643de93c68a3bdb3fb\", \"type of answer1_09_4 is not bool. answer1_09_4 should be a bool\"\n",
    "assert sha1(str(answer1_09_4).encode(\"utf-8\")+b\"f4c65926d9c3ec9c\").hexdigest() == \"ed3a8412af50fbb44817edd176c55bb6ce2a823d\", \"boolean value of answer1_09_4 is not correct\"\n",
    "\n",
    "print('Success!')"
   ]
  },
  {
   "cell_type": "markdown",
   "metadata": {
    "deletable": false,
    "editable": false,
    "nbgrader": {
     "cell_type": "markdown",
     "checksum": "adeae37fa078f7f293147a4a496d5632",
     "grade": false,
     "grade_id": "cell-098264eb921f8d92",
     "locked": true,
     "schema_version": 3,
     "solution": false
    }
   },
   "source": [
    "## 2. Classification - A Simple Example Done Manually\n",
    "\n",
    "**Question 2.0.0**\n",
    "<br> {points: 1}\n",
    "\n",
    "Let's take a random sample of 5 observations from the breast cancer dataset using the `sample` dataframe method. To make this random sample reproducible, we will use `random_state=20` inside the `sample` function. This means that the random number generator will start at the same point each time when we run the code and we will always get back the same random samples. \n",
    "\n",
    "We will focus on the predictors Symmetry and Radius only. Thus, we will need to select the columns `Symmetry` and `Radius` and `Class`. Save these 5 rows and 3 columns to a data frame named `small_sample`.\n",
    "\n",
    "Fill in the `___` in the scaffolding provided below."
   ]
  },
  {
   "cell_type": "code",
   "execution_count": null,
   "metadata": {
    "deletable": false,
    "nbgrader": {
     "cell_type": "code",
     "checksum": "feaae4b62a0821cfc40c706244bcc71f",
     "grade": false,
     "grade_id": "cell-42f7c13ee9d9b055",
     "locked": false,
     "schema_version": 3,
     "solution": true,
     "task": false
    }
   },
   "outputs": [],
   "source": [
    "# ___ = cancer.sample(5, random_state=20)[[___, ___, ___]]\n",
    "\n",
    "# your code here\n",
    "raise NotImplementedError\n",
    "small_sample"
   ]
  },
  {
   "cell_type": "code",
   "execution_count": null,
   "metadata": {
    "deletable": false,
    "editable": false,
    "nbgrader": {
     "cell_type": "code",
     "checksum": "acb971d0830010aeefeb289f9c512d70",
     "grade": true,
     "grade_id": "cell-48197ca917cfaeb9",
     "locked": true,
     "points": 1,
     "schema_version": 3,
     "solution": false,
     "task": false
    }
   },
   "outputs": [],
   "source": [
    "from hashlib import sha1\n",
    "assert sha1(str(type(small_sample is None)).encode(\"utf-8\")+b\"5eed605a1044edd0\").hexdigest() == \"7473b36b5a3f8973cc37ba997494975c4807aa03\", \"type of small_sample is None is not bool. small_sample is None should be a bool\"\n",
    "assert sha1(str(small_sample is None).encode(\"utf-8\")+b\"5eed605a1044edd0\").hexdigest() == \"ccfe04d017c87432e7a057ba7d968cd870a9a6cb\", \"boolean value of small_sample is None is not correct\"\n",
    "\n",
    "assert sha1(str(type(small_sample)).encode(\"utf-8\")+b\"30c94475159290a9\").hexdigest() == \"a030e28ff8a9a86243bdcbc0a5a523b79a57fba2\", \"type of type(small_sample) is not correct\"\n",
    "\n",
    "assert sha1(str(type(small_sample.shape)).encode(\"utf-8\")+b\"d49b0a9e67106efe\").hexdigest() == \"2b88412f800e855d621e928319db6f27790bbcf4\", \"type of small_sample.shape is not tuple. small_sample.shape should be a tuple\"\n",
    "assert sha1(str(len(small_sample.shape)).encode(\"utf-8\")+b\"d49b0a9e67106efe\").hexdigest() == \"96414c5218051f8d21b1edb6af3da2ec843ff73e\", \"length of small_sample.shape is not correct\"\n",
    "assert sha1(str(sorted(map(str, small_sample.shape))).encode(\"utf-8\")+b\"d49b0a9e67106efe\").hexdigest() == \"bc3d007e75fe931ddcb20e4c996538094fd73015\", \"values of small_sample.shape are not correct\"\n",
    "assert sha1(str(small_sample.shape).encode(\"utf-8\")+b\"d49b0a9e67106efe\").hexdigest() == \"ca96bb2fba684326776cde425380de224c01f5b1\", \"order of elements of small_sample.shape is not correct\"\n",
    "\n",
    "assert sha1(str(type(\"Symmetry\" in small_sample.columns)).encode(\"utf-8\")+b\"2476d4beb0814b34\").hexdigest() == \"9bf2c2d7a73373daa5e6e076cab63cfee8358151\", \"type of \\\"Symmetry\\\" in small_sample.columns is not bool. \\\"Symmetry\\\" in small_sample.columns should be a bool\"\n",
    "assert sha1(str(\"Symmetry\" in small_sample.columns).encode(\"utf-8\")+b\"2476d4beb0814b34\").hexdigest() == \"9c6ab193cbb3b461a0ff466abf9a95b1ef498dcf\", \"boolean value of \\\"Symmetry\\\" in small_sample.columns is not correct\"\n",
    "\n",
    "assert sha1(str(type(\"Radius\" in small_sample.columns)).encode(\"utf-8\")+b\"1a4d3e6f32434a9a\").hexdigest() == \"4908df0f87edb71ce3f3c718c5f3534ef900bfa7\", \"type of \\\"Radius\\\" in small_sample.columns is not bool. \\\"Radius\\\" in small_sample.columns should be a bool\"\n",
    "assert sha1(str(\"Radius\" in small_sample.columns).encode(\"utf-8\")+b\"1a4d3e6f32434a9a\").hexdigest() == \"5ef0d669b373f483cbbf56a43f0a71c1ebfc0a47\", \"boolean value of \\\"Radius\\\" in small_sample.columns is not correct\"\n",
    "\n",
    "assert sha1(str(type(\"Class\" in small_sample.columns)).encode(\"utf-8\")+b\"ef07e126f0aa32e2\").hexdigest() == \"9b4b61f9d2328e9ffa0ea244715d33b96df7cecb\", \"type of \\\"Class\\\" in small_sample.columns is not bool. \\\"Class\\\" in small_sample.columns should be a bool\"\n",
    "assert sha1(str(\"Class\" in small_sample.columns).encode(\"utf-8\")+b\"ef07e126f0aa32e2\").hexdigest() == \"4dafa148ca1e78381e3ab92e7fea0ed147237a69\", \"boolean value of \\\"Class\\\" in small_sample.columns is not correct\"\n",
    "\n",
    "print('Success!')"
   ]
  },
  {
   "cell_type": "markdown",
   "metadata": {
    "deletable": false,
    "editable": false,
    "nbgrader": {
     "cell_type": "markdown",
     "checksum": "bfadceb01ed2afb3951c7430e07e2ed3",
     "grade": false,
     "grade_id": "cell-d85472a31a22f709",
     "locked": true,
     "schema_version": 3,
     "solution": false,
     "task": false
    }
   },
   "source": [
    "**Question 2.0.1**\n",
    "<br> {points: 1}\n",
    "\n",
    "Finally, create a scatter plot where `Symmetry` is on the x-axis, and `Radius` is on the y-axis. Color the points by `Class`. Name your plot `small_sample_plot`.\n",
    "\n",
    "Fill in the `___` in the scaffolding provided below.\n",
    "\n",
    "As you create this plot, ensure you follow the guidelines for creating effective visualizations. In particular, note on the plot axes whether the data is standardized or not. Don't set an opacity value in this chart."
   ]
  },
  {
   "cell_type": "code",
   "execution_count": null,
   "metadata": {
    "deletable": false,
    "nbgrader": {
     "cell_type": "code",
     "checksum": "17e93be426135055d29b0bf3d5856c15",
     "grade": false,
     "grade_id": "cell-7b3aa8c412086b6a",
     "locked": false,
     "schema_version": 3,
     "solution": true
    }
   },
   "outputs": [],
   "source": [
    "# ___ = alt.Chart(___).mark_point().encode(\n",
    "#     x=___,\n",
    "#     y=___,\n",
    "#     color=___\n",
    "# )\n",
    "\n",
    "# your code here\n",
    "raise NotImplementedError\n",
    "small_sample_plot"
   ]
  },
  {
   "cell_type": "code",
   "execution_count": null,
   "metadata": {
    "deletable": false,
    "editable": false,
    "nbgrader": {
     "cell_type": "code",
     "checksum": "752922bda1303d9c3cd0091dce28734a",
     "grade": true,
     "grade_id": "cell-c224b6ae53340848",
     "locked": true,
     "points": 1,
     "schema_version": 3,
     "solution": false
    }
   },
   "outputs": [],
   "source": [
    "from hashlib import sha1\n",
    "assert sha1(str(type(small_sample_plot is None)).encode(\"utf-8\")+b\"2fb88992577b55e4\").hexdigest() == \"96048847a45151bf910cbdc9aa65ebc6b235778f\", \"type of small_sample_plot is None is not bool. small_sample_plot is None should be a bool\"\n",
    "assert sha1(str(small_sample_plot is None).encode(\"utf-8\")+b\"2fb88992577b55e4\").hexdigest() == \"6bcb0867908269a7bc4a72e5662fed76626bf1d4\", \"boolean value of small_sample_plot is None is not correct\"\n",
    "\n",
    "assert sha1(str(type(sum(small_sample_plot.data.Symmetry))).encode(\"utf-8\")+b\"fb0aabaec975614d\").hexdigest() == \"1d1cdebfd519e47dae53358e00e149bbda529baa\", \"type of sum(small_sample_plot.data.Symmetry) is not float. Please make sure it is float and not np.float64, etc. You can cast your value into a float using float()\"\n",
    "assert sha1(str(round(sum(small_sample_plot.data.Symmetry), 2)).encode(\"utf-8\")+b\"fb0aabaec975614d\").hexdigest() == \"bec2cd5f80fad6fa333f1abe807118e8fb35285c\", \"value of sum(small_sample_plot.data.Symmetry) is not correct (rounded to 2 decimal places)\"\n",
    "\n",
    "assert sha1(str(type(small_sample_plot.mark)).encode(\"utf-8\")+b\"ccef36b7be6131c7\").hexdigest() == \"86f41467f2605a7aa6f59e134894ab63b49baff3\", \"type of small_sample_plot.mark is not str. small_sample_plot.mark should be an str\"\n",
    "assert sha1(str(len(small_sample_plot.mark)).encode(\"utf-8\")+b\"ccef36b7be6131c7\").hexdigest() == \"d14eebb69055dcfc6c7790d13f11d40de0e08a25\", \"length of small_sample_plot.mark is not correct\"\n",
    "assert sha1(str(small_sample_plot.mark.lower()).encode(\"utf-8\")+b\"ccef36b7be6131c7\").hexdigest() == \"d34d6bd3c2413e91f2db8d304bf4c1a5b627e399\", \"value of small_sample_plot.mark is not correct\"\n",
    "assert sha1(str(small_sample_plot.mark).encode(\"utf-8\")+b\"ccef36b7be6131c7\").hexdigest() == \"d34d6bd3c2413e91f2db8d304bf4c1a5b627e399\", \"correct string value of small_sample_plot.mark but incorrect case of letters\"\n",
    "\n",
    "assert sha1(str(type(small_sample_plot.encoding.color['shorthand'])).encode(\"utf-8\")+b\"555b58adf05e5180\").hexdigest() == \"8ff88aecaaf2fcc2faaab8c57023517d5a894ffe\", \"type of small_sample_plot.encoding.color['shorthand'] is not str. small_sample_plot.encoding.color['shorthand'] should be an str\"\n",
    "assert sha1(str(len(small_sample_plot.encoding.color['shorthand'])).encode(\"utf-8\")+b\"555b58adf05e5180\").hexdigest() == \"85db948b9bddf70222aad8785ed6cc5cb0b90056\", \"length of small_sample_plot.encoding.color['shorthand'] is not correct\"\n",
    "assert sha1(str(small_sample_plot.encoding.color['shorthand'].lower()).encode(\"utf-8\")+b\"555b58adf05e5180\").hexdigest() == \"aba16970fffa847e6c0ba7838893ef7d91077740\", \"value of small_sample_plot.encoding.color['shorthand'] is not correct\"\n",
    "assert sha1(str(small_sample_plot.encoding.color['shorthand']).encode(\"utf-8\")+b\"555b58adf05e5180\").hexdigest() == \"057504c9f60313d642ee15f14311d7861e7f3fe4\", \"correct string value of small_sample_plot.encoding.color['shorthand'] but incorrect case of letters\"\n",
    "\n",
    "assert sha1(str(type(small_sample_plot.encoding.x['shorthand'])).encode(\"utf-8\")+b\"ff17209be04402a0\").hexdigest() == \"bbc93c9977d6f9a5432bc4fdb1032ff598195ab6\", \"type of small_sample_plot.encoding.x['shorthand'] is not str. small_sample_plot.encoding.x['shorthand'] should be an str\"\n",
    "assert sha1(str(len(small_sample_plot.encoding.x['shorthand'])).encode(\"utf-8\")+b\"ff17209be04402a0\").hexdigest() == \"99423ccda2e84c5211f9b4e1de25ac2d624ea040\", \"length of small_sample_plot.encoding.x['shorthand'] is not correct\"\n",
    "assert sha1(str(small_sample_plot.encoding.x['shorthand'].lower()).encode(\"utf-8\")+b\"ff17209be04402a0\").hexdigest() == \"355aef1c8d216e20f15461d1b776c2138323b9c1\", \"value of small_sample_plot.encoding.x['shorthand'] is not correct\"\n",
    "assert sha1(str(small_sample_plot.encoding.x['shorthand']).encode(\"utf-8\")+b\"ff17209be04402a0\").hexdigest() == \"28d51f9f8b5b48c4149c6f2febd6be372434cd33\", \"correct string value of small_sample_plot.encoding.x['shorthand'] but incorrect case of letters\"\n",
    "\n",
    "assert sha1(str(type(small_sample_plot.encoding.y['shorthand'])).encode(\"utf-8\")+b\"a8d820f48ac11b9e\").hexdigest() == \"2cfc3fae9e9a4a6f21d137161f1f3b934c4e0f26\", \"type of small_sample_plot.encoding.y['shorthand'] is not str. small_sample_plot.encoding.y['shorthand'] should be an str\"\n",
    "assert sha1(str(len(small_sample_plot.encoding.y['shorthand'])).encode(\"utf-8\")+b\"a8d820f48ac11b9e\").hexdigest() == \"c184f84c75e8a57b7cdb4effd56bf7346c8ca9e8\", \"length of small_sample_plot.encoding.y['shorthand'] is not correct\"\n",
    "assert sha1(str(small_sample_plot.encoding.y['shorthand'].lower()).encode(\"utf-8\")+b\"a8d820f48ac11b9e\").hexdigest() == \"f372af99b0527b1aa2f39b06238638e6ec1cb749\", \"value of small_sample_plot.encoding.y['shorthand'] is not correct\"\n",
    "assert sha1(str(small_sample_plot.encoding.y['shorthand']).encode(\"utf-8\")+b\"a8d820f48ac11b9e\").hexdigest() == \"c5629b84e9c3cc9a26104c7cc0b7b370117408e7\", \"correct string value of small_sample_plot.encoding.y['shorthand'] but incorrect case of letters\"\n",
    "\n",
    "assert sha1(str(type(isinstance(small_sample_plot.encoding.x['title'], str))).encode(\"utf-8\")+b\"90613bf45fad7b7f\").hexdigest() == \"0934f49b0e604b0b1ea06259ea99c294d267b47a\", \"type of isinstance(small_sample_plot.encoding.x['title'], str) is not bool. isinstance(small_sample_plot.encoding.x['title'], str) should be a bool\"\n",
    "assert sha1(str(isinstance(small_sample_plot.encoding.x['title'], str)).encode(\"utf-8\")+b\"90613bf45fad7b7f\").hexdigest() == \"42762b7308aac01724f2c28e046a21f94df50482\", \"boolean value of isinstance(small_sample_plot.encoding.x['title'], str) is not correct\"\n",
    "\n",
    "assert sha1(str(type(isinstance(small_sample_plot.encoding.y['title'], str))).encode(\"utf-8\")+b\"890615714c6e2558\").hexdigest() == \"49981bacf9239c42a7facef6d444b393c6c5f4d7\", \"type of isinstance(small_sample_plot.encoding.y['title'], str) is not bool. isinstance(small_sample_plot.encoding.y['title'], str) should be a bool\"\n",
    "assert sha1(str(isinstance(small_sample_plot.encoding.y['title'], str)).encode(\"utf-8\")+b\"890615714c6e2558\").hexdigest() == \"f5579154baa44334ce2c65ca0bf316dafd39ecf8\", \"boolean value of isinstance(small_sample_plot.encoding.y['title'], str) is not correct\"\n",
    "\n",
    "assert sha1(str(type(isinstance(small_sample_plot.encoding.color['title'], str))).encode(\"utf-8\")+b\"455aa4cc162909dc\").hexdigest() == \"921977479931264a3ab89ff43c5df7f56f4343cd\", \"type of isinstance(small_sample_plot.encoding.color['title'], str) is not bool. isinstance(small_sample_plot.encoding.color['title'], str) should be a bool\"\n",
    "assert sha1(str(isinstance(small_sample_plot.encoding.color['title'], str)).encode(\"utf-8\")+b\"455aa4cc162909dc\").hexdigest() == \"0c8cb4d24b95260489df2d013569a2f88ed9c3d7\", \"boolean value of isinstance(small_sample_plot.encoding.color['title'], str) is not correct\"\n",
    "\n",
    "print('Success!')"
   ]
  },
  {
   "cell_type": "markdown",
   "metadata": {
    "deletable": false,
    "editable": false,
    "nbgrader": {
     "cell_type": "markdown",
     "checksum": "da7e0fa047310c9250637948ff47c035",
     "grade": false,
     "grade_id": "cell-ea9b69d1eb8ef76c",
     "locked": true,
     "schema_version": 3,
     "solution": false
    }
   },
   "source": [
    "**Question 2.1** \n",
    "<br> {points: 1}\n",
    "\n",
    "Suppose we are interested in classifying a new observation with `Symmetry = 0.5` and `Radius = 0`, but unknown `Class`. Using the `small_sample` data frame, add another row with `Symmetry = 0.5`, `Radius = 0`, and `Class = \"unknown\"`.\n",
    "\n",
    "Fill in the `___` in the scaffolding provided below.\n",
    "\n",
    "*Assign your answer to an object called `updated_sample`.*"
   ]
  },
  {
   "cell_type": "code",
   "execution_count": null,
   "metadata": {
    "deletable": false,
    "nbgrader": {
     "cell_type": "code",
     "checksum": "2fd221a1f1b965a272afd36b831f9311",
     "grade": false,
     "grade_id": "cell-96047e4736208b46",
     "locked": false,
     "schema_version": 3,
     "solution": true
    }
   },
   "outputs": [],
   "source": [
    "# new_observation = pd.DataFrame({\"_____\": [_____], \"_____\": [_____], \"_____\": [_____]})\n",
    "# ______ = pd.concat([_____, _____]).reset_index(drop=True)\n",
    "\n",
    "# your code here\n",
    "raise NotImplementedError\n",
    "updated_sample"
   ]
  },
  {
   "cell_type": "code",
   "execution_count": null,
   "metadata": {
    "deletable": false,
    "editable": false,
    "nbgrader": {
     "cell_type": "code",
     "checksum": "29fbb29c672a1c09999347f471ea66a4",
     "grade": true,
     "grade_id": "cell-136ec7a4a7af2698",
     "locked": true,
     "points": 1,
     "schema_version": 3,
     "solution": false
    }
   },
   "outputs": [],
   "source": [
    "from hashlib import sha1\n",
    "assert sha1(str(type(updated_sample is None)).encode(\"utf-8\")+b\"1d6e4d4f076972eb\").hexdigest() == \"33657d227c2eb6d1df4e9abbb60a042b7fa73f28\", \"type of updated_sample is None is not bool. updated_sample is None should be a bool\"\n",
    "assert sha1(str(updated_sample is None).encode(\"utf-8\")+b\"1d6e4d4f076972eb\").hexdigest() == \"7b05ecc0caa12f512fbec556eb2b180190eca83e\", \"boolean value of updated_sample is None is not correct\"\n",
    "\n",
    "assert sha1(str(type(updated_sample)).encode(\"utf-8\")+b\"f9ffcbaa07bdc093\").hexdigest() == \"9c9e152236f5eeb1ba8acd8f68028f3ccc0b78b6\", \"type of type(updated_sample) is not correct\"\n",
    "\n",
    "assert sha1(str(type(updated_sample.Class[5])).encode(\"utf-8\")+b\"1c06cb5fbb0abfab\").hexdigest() == \"2ec9d031784a0f9fd25601f1574171b979b8df91\", \"type of updated_sample.Class[5] is not str. updated_sample.Class[5] should be an str\"\n",
    "assert sha1(str(len(updated_sample.Class[5])).encode(\"utf-8\")+b\"1c06cb5fbb0abfab\").hexdigest() == \"4246ec7a0de7664657b5a77333a953bc9267e25c\", \"length of updated_sample.Class[5] is not correct\"\n",
    "assert sha1(str(updated_sample.Class[5].lower()).encode(\"utf-8\")+b\"1c06cb5fbb0abfab\").hexdigest() == \"1136f372795c2cc9b95fd42e4909d3456d510028\", \"value of updated_sample.Class[5] is not correct\"\n",
    "assert sha1(str(updated_sample.Class[5]).encode(\"utf-8\")+b\"1c06cb5fbb0abfab\").hexdigest() == \"1136f372795c2cc9b95fd42e4909d3456d510028\", \"correct string value of updated_sample.Class[5] but incorrect case of letters\"\n",
    "\n",
    "assert sha1(str(type(updated_sample.shape)).encode(\"utf-8\")+b\"5b6d754dad298436\").hexdigest() == \"b11f1c9672ca0e141a75c7af7422374c6a681ec2\", \"type of updated_sample.shape is not tuple. updated_sample.shape should be a tuple\"\n",
    "assert sha1(str(len(updated_sample.shape)).encode(\"utf-8\")+b\"5b6d754dad298436\").hexdigest() == \"e2e80663c1f2b876aa9e4c4a032ec668da449724\", \"length of updated_sample.shape is not correct\"\n",
    "assert sha1(str(sorted(map(str, updated_sample.shape))).encode(\"utf-8\")+b\"5b6d754dad298436\").hexdigest() == \"42c1bec82b6aa03f5d735578aa3282ab8375de41\", \"values of updated_sample.shape are not correct\"\n",
    "assert sha1(str(updated_sample.shape).encode(\"utf-8\")+b\"5b6d754dad298436\").hexdigest() == \"821c12cb65793d6e222fe4c03649ee24951264da\", \"order of elements of updated_sample.shape is not correct\"\n",
    "\n",
    "assert sha1(str(type(sum(updated_sample.Radius))).encode(\"utf-8\")+b\"8a4b2368ff83377a\").hexdigest() == \"e52658044ceef2ddf17e2f09f72149d8aa797f4b\", \"type of sum(updated_sample.Radius) is not float. Please make sure it is float and not np.float64, etc. You can cast your value into a float using float()\"\n",
    "assert sha1(str(round(sum(updated_sample.Radius), 2)).encode(\"utf-8\")+b\"8a4b2368ff83377a\").hexdigest() == \"e9625dd39e9f9be43fdbaffda2c5c772816cdb90\", \"value of sum(updated_sample.Radius) is not correct (rounded to 2 decimal places)\"\n",
    "\n",
    "assert sha1(str(type(sum(updated_sample.Symmetry))).encode(\"utf-8\")+b\"cf5f0f72d5314679\").hexdigest() == \"6ccf1effb5018cc5be07e2705cedc3122aabd56f\", \"type of sum(updated_sample.Symmetry) is not float. Please make sure it is float and not np.float64, etc. You can cast your value into a float using float()\"\n",
    "assert sha1(str(round(sum(updated_sample.Symmetry), 2)).encode(\"utf-8\")+b\"cf5f0f72d5314679\").hexdigest() == \"06a2c3efbbc7c6763aceb5de02132b55b0531389\", \"value of sum(updated_sample.Symmetry) is not correct (rounded to 2 decimal places)\"\n",
    "\n",
    "print('Success!')"
   ]
  },
  {
   "cell_type": "markdown",
   "metadata": {
    "deletable": false,
    "editable": false,
    "nbgrader": {
     "cell_type": "markdown",
     "checksum": "b8d1da25155061db5313d17e5a211b2f",
     "grade": false,
     "grade_id": "cell-0c2e46a6b87bc2f2",
     "locked": true,
     "schema_version": 3,
     "solution": false
    }
   },
   "source": [
    "**Question 2.2**\n",
    "<br> {points: 1}\n",
    "\n",
    "Compute the distance between each pair of the 6 observations in the `updated_sample` dataframe using the `euclidean_distances` function based on two variables: `Symmetry` and `Radius`. Fill in the `___` in the scaffolding provided below.\n",
    "\n",
    "\n",
    "*Assign your answer to an object called `dist_matrix`.*"
   ]
  },
  {
   "cell_type": "code",
   "execution_count": null,
   "metadata": {
    "deletable": false,
    "nbgrader": {
     "cell_type": "code",
     "checksum": "b89428711d40daba60e75347b113bb59",
     "grade": false,
     "grade_id": "cell-e08fcfbf45d4e190",
     "locked": false,
     "schema_version": 3,
     "solution": true
    }
   },
   "outputs": [],
   "source": [
    "# dist_matrix = pd.DataFrame(___(updated_sample[[___, ___]]))\n",
    "\n",
    "# your code here\n",
    "raise NotImplementedError\n",
    "dist_matrix"
   ]
  },
  {
   "cell_type": "code",
   "execution_count": null,
   "metadata": {
    "deletable": false,
    "editable": false,
    "nbgrader": {
     "cell_type": "code",
     "checksum": "585eba350005c16b1321b5083cfc4571",
     "grade": true,
     "grade_id": "cell-a8cd3d77bfcea0b0",
     "locked": true,
     "points": 1,
     "schema_version": 3,
     "solution": false
    }
   },
   "outputs": [],
   "source": [
    "from hashlib import sha1\n",
    "assert sha1(str(type(dist_matrix is None)).encode(\"utf-8\")+b\"c23dd61c7a1d8336\").hexdigest() == \"4366b9a2f412e76e78c1e7a4017c6f0dbba6733b\", \"type of dist_matrix is None is not bool. dist_matrix is None should be a bool\"\n",
    "assert sha1(str(dist_matrix is None).encode(\"utf-8\")+b\"c23dd61c7a1d8336\").hexdigest() == \"45fabbd4c717bd4fc5197b66717b1fed80b238f3\", \"boolean value of dist_matrix is None is not correct\"\n",
    "\n",
    "assert sha1(str(type(dist_matrix)).encode(\"utf-8\")+b\"a667436a557d6bbf\").hexdigest() == \"7d5f93828ca9d5fe0739353753ee30d0a41875aa\", \"type of type(dist_matrix) is not correct\"\n",
    "\n",
    "assert sha1(str(type(dist_matrix.shape)).encode(\"utf-8\")+b\"a539c749d6735278\").hexdigest() == \"49a4994aabecb0b23d7cfe8bcd584ffb95cefcb5\", \"type of dist_matrix.shape is not tuple. dist_matrix.shape should be a tuple\"\n",
    "assert sha1(str(len(dist_matrix.shape)).encode(\"utf-8\")+b\"a539c749d6735278\").hexdigest() == \"2e0c37a802a2c7429d5bbc456e11f67d167d5238\", \"length of dist_matrix.shape is not correct\"\n",
    "assert sha1(str(sorted(map(str, dist_matrix.shape))).encode(\"utf-8\")+b\"a539c749d6735278\").hexdigest() == \"b4332eb7d05f32f8e25af7d3528a84cf76b63a76\", \"values of dist_matrix.shape are not correct\"\n",
    "assert sha1(str(dist_matrix.shape).encode(\"utf-8\")+b\"a539c749d6735278\").hexdigest() == \"ebba1cbeccc28ebc99792dd27690207e1b5e902d\", \"order of elements of dist_matrix.shape is not correct\"\n",
    "\n",
    "assert sha1(str(type(sum(dist_matrix.iloc[0]))).encode(\"utf-8\")+b\"f00eb7c213719082\").hexdigest() == \"0d40b14ad45bc3022f5257f516caad58ce7461eb\", \"type of sum(dist_matrix.iloc[0]) is not float. Please make sure it is float and not np.float64, etc. You can cast your value into a float using float()\"\n",
    "assert sha1(str(round(sum(dist_matrix.iloc[0]), 2)).encode(\"utf-8\")+b\"f00eb7c213719082\").hexdigest() == \"15f57ccca6c1aabb0799ce5debd9ecdede06ab02\", \"value of sum(dist_matrix.iloc[0]) is not correct (rounded to 2 decimal places)\"\n",
    "\n",
    "assert sha1(str(type(sum(dist_matrix.iloc[1]))).encode(\"utf-8\")+b\"1fe16a66dc153c72\").hexdigest() == \"7488fc0ef4272327c5f8aeb3ad516c9d0683b071\", \"type of sum(dist_matrix.iloc[1]) is not float. Please make sure it is float and not np.float64, etc. You can cast your value into a float using float()\"\n",
    "assert sha1(str(round(sum(dist_matrix.iloc[1]), 2)).encode(\"utf-8\")+b\"1fe16a66dc153c72\").hexdigest() == \"9daaddf6860acaacad477971b6e0c19f7fca7b04\", \"value of sum(dist_matrix.iloc[1]) is not correct (rounded to 2 decimal places)\"\n",
    "\n",
    "assert sha1(str(type(sum(dist_matrix.iloc[4]))).encode(\"utf-8\")+b\"5a34f71a3f2cc329\").hexdigest() == \"4d91a2d0af1b1e5c8732f655fc0520bb337df9e2\", \"type of sum(dist_matrix.iloc[4]) is not float. Please make sure it is float and not np.float64, etc. You can cast your value into a float using float()\"\n",
    "assert sha1(str(round(sum(dist_matrix.iloc[4]), 2)).encode(\"utf-8\")+b\"5a34f71a3f2cc329\").hexdigest() == \"5d907888382136ebc359de2729c79aef80bf7877\", \"value of sum(dist_matrix.iloc[4]) is not correct (rounded to 2 decimal places)\"\n",
    "\n",
    "assert sha1(str(type(sum(dist_matrix.iloc[5]))).encode(\"utf-8\")+b\"806b606d559a7571\").hexdigest() == \"f73d1b681364a161256f56a0a2c9321dbbb1e1a7\", \"type of sum(dist_matrix.iloc[5]) is not float. Please make sure it is float and not np.float64, etc. You can cast your value into a float using float()\"\n",
    "assert sha1(str(round(sum(dist_matrix.iloc[5]), 2)).encode(\"utf-8\")+b\"806b606d559a7571\").hexdigest() == \"e259fa97d1515bdfa6021c7cae03c56f3c3c1a2f\", \"value of sum(dist_matrix.iloc[5]) is not correct (rounded to 2 decimal places)\"\n",
    "\n",
    "print('Success!')"
   ]
  },
  {
   "cell_type": "markdown",
   "metadata": {
    "deletable": false,
    "editable": false,
    "nbgrader": {
     "cell_type": "markdown",
     "checksum": "9c396e6ffae91d510f638e93f9440221",
     "grade": false,
     "grade_id": "cell-aba0edb4c4788627",
     "locked": true,
     "schema_version": 3,
     "solution": false
    }
   },
   "source": [
    "**Question 2.3** Multiple Choice:\n",
    "<br> {points: 1}\n",
    "\n",
    "In the table above, the row and column numbers reflect the row number from the data frame the `euclidean_distances` function was applied to. The values in `dist_matrix` are the distances between the points of the row and column number. For example, the distance between the point 2 and point 4 is 2.444209. And the distance between point 3 and point 3 (the same point) is 0.\n",
    "\n",
    "The diagonal is all zeros since the distance between a point and itself is always zero. Each pairwise distance value occurs two times in the table, once above and once below the diagonal of zeros, so technically it would be enough if we saved the diagonal plus either the values above or below, but here we keep all of them because it fits the table format nicely.\n",
    "\n",
    "**Which observation is the nearest to our new point?**\n",
    "\n",
    "*Assign your answer to an object called `answer2_3`. Make sure your answer is a number."
   ]
  },
  {
   "cell_type": "code",
   "execution_count": null,
   "metadata": {
    "deletable": false,
    "nbgrader": {
     "cell_type": "code",
     "checksum": "10c3bcc9b0db2d4b3fb2ee608a2f834e",
     "grade": false,
     "grade_id": "cell-bdbdb888f697f310",
     "locked": false,
     "schema_version": 3,
     "solution": true
    }
   },
   "outputs": [],
   "source": [
    "# your code here\n",
    "raise NotImplementedError"
   ]
  },
  {
   "cell_type": "code",
   "execution_count": null,
   "metadata": {
    "deletable": false,
    "editable": false,
    "nbgrader": {
     "cell_type": "code",
     "checksum": "28a89e4a8ba228f8a23693dc1fe6c1f9",
     "grade": true,
     "grade_id": "cell-371a2959d06316e2",
     "locked": true,
     "points": 3,
     "schema_version": 3,
     "solution": false
    }
   },
   "outputs": [],
   "source": [
    "from hashlib import sha1\n",
    "assert sha1(str(type(answer2_3)).encode(\"utf-8\")+b\"72de121a4494051d\").hexdigest() == \"737d2ca3fbe0ef343d03400b7ab7f47673431a9d\", \"type of answer2_3 is not int. Please make sure it is int and not np.int64, etc. You can cast your value into an int using int()\"\n",
    "assert sha1(str(answer2_3).encode(\"utf-8\")+b\"72de121a4494051d\").hexdigest() == \"e1f4ef17a78cf714020c08e3513a6c44d1188b2f\", \"value of answer2_3 is not correct\"\n",
    "\n",
    "print('Success!')"
   ]
  },
  {
   "cell_type": "markdown",
   "metadata": {
    "deletable": false,
    "editable": false,
    "nbgrader": {
     "cell_type": "markdown",
     "checksum": "7b692e8014baae67bc6807ff850b719c",
     "grade": false,
     "grade_id": "cell-d2210381e32e3b13",
     "locked": true,
     "schema_version": 3,
     "solution": false
    }
   },
   "source": [
    "**Question 2.4** Multiple Choice: \n",
    "<br> {points: 1}\n",
    "\n",
    "If we use the K-nearest neighbour classification algorithm with K = 1 to classify the new observation using your answers to **Questions 2.2 & 2.3**, is the new data point predicted to be benign or malignant?\n",
    "\n",
    "*Assign your answer to an object called `answer2_4`. Make sure the correct answer is written fully as either \"Benign\" or \"Malignant\". Remember to surround your answer with quotation marks.* "
   ]
  },
  {
   "cell_type": "code",
   "execution_count": null,
   "metadata": {
    "deletable": false,
    "nbgrader": {
     "cell_type": "code",
     "checksum": "e9019b11b6b8c9f74d38162fd941c18f",
     "grade": false,
     "grade_id": "cell-22366d4a160c0c16",
     "locked": false,
     "schema_version": 3,
     "solution": true
    }
   },
   "outputs": [],
   "source": [
    "# your code here\n",
    "raise NotImplementedError"
   ]
  },
  {
   "cell_type": "code",
   "execution_count": null,
   "metadata": {
    "deletable": false,
    "editable": false,
    "nbgrader": {
     "cell_type": "code",
     "checksum": "9a36fa465bfd0da5487e18555ee9d560",
     "grade": true,
     "grade_id": "cell-bf715d3502c96d7e",
     "locked": true,
     "points": 3,
     "schema_version": 3,
     "solution": false
    }
   },
   "outputs": [],
   "source": [
    "from hashlib import sha1\n",
    "assert sha1(str(type(answer2_4)).encode(\"utf-8\")+b\"0c704a7ef3bc4f23\").hexdigest() == \"a3397fd4a84e06c977b37092de15685d510f85c1\", \"type of answer2_4 is not str. answer2_4 should be an str\"\n",
    "assert sha1(str(len(answer2_4)).encode(\"utf-8\")+b\"0c704a7ef3bc4f23\").hexdigest() == \"6961339ab135f0511e1eddbeba9315c2d1e5507d\", \"length of answer2_4 is not correct\"\n",
    "assert sha1(str(answer2_4.lower()).encode(\"utf-8\")+b\"0c704a7ef3bc4f23\").hexdigest() == \"d5aea46d8cf550da52ca83120480058904a93254\", \"value of answer2_4 is not correct\"\n",
    "assert sha1(str(answer2_4).encode(\"utf-8\")+b\"0c704a7ef3bc4f23\").hexdigest() == \"5bd4eadb32675066f0f53fdae5dd5db3d889ae02\", \"correct string value of answer2_4 but incorrect case of letters\"\n",
    "\n",
    "print('Success!')"
   ]
  },
  {
   "cell_type": "markdown",
   "metadata": {
    "deletable": false,
    "editable": false,
    "nbgrader": {
     "cell_type": "markdown",
     "checksum": "ea0850f0241b59a478d23c49767d41cd",
     "grade": false,
     "grade_id": "cell-066b94daf2bb2b53",
     "locked": true,
     "schema_version": 3,
     "solution": false
    }
   },
   "source": [
    "**Question 2.5** Multiple Choice:\n",
    "<br> {points: 1}\n",
    "\n",
    "Using your answers to **Questions 2.2 & 2.3**, what are the three closest observations to your new point?\n",
    "\n",
    "A. 1, 3, 2\n",
    "\n",
    "B. 0, 1, 3\n",
    "\n",
    "C. 5, 2, 4\n",
    "\n",
    "D. 3, 4, 2\n",
    "\n",
    "*Assign your answer to an object called `answer2_5`. Make sure the correct answer is an uppercase letter. Remember to surround your answer with quotation marks (e.g. \"F\").*"
   ]
  },
  {
   "cell_type": "code",
   "execution_count": null,
   "metadata": {
    "deletable": false,
    "nbgrader": {
     "cell_type": "code",
     "checksum": "0660932897a5435430dabc3908249f22",
     "grade": false,
     "grade_id": "cell-559773dc29d9781f",
     "locked": false,
     "schema_version": 3,
     "solution": true
    }
   },
   "outputs": [],
   "source": [
    "# your code here\n",
    "raise NotImplementedError"
   ]
  },
  {
   "cell_type": "code",
   "execution_count": null,
   "metadata": {
    "deletable": false,
    "editable": false,
    "nbgrader": {
     "cell_type": "code",
     "checksum": "fecb03ff696f3cad05411f43009985a1",
     "grade": true,
     "grade_id": "cell-377f6fc0e8af55a9",
     "locked": true,
     "points": 3,
     "schema_version": 3,
     "solution": false
    }
   },
   "outputs": [],
   "source": [
    "from hashlib import sha1\n",
    "assert sha1(str(type(answer2_5)).encode(\"utf-8\")+b\"7d4656f45ea2b0c7\").hexdigest() == \"65042c3095eb1ac9a428e955c23256c495b96509\", \"type of answer2_5 is not str. answer2_5 should be an str\"\n",
    "assert sha1(str(len(answer2_5)).encode(\"utf-8\")+b\"7d4656f45ea2b0c7\").hexdigest() == \"baa43a0655a217211dcd9d74a0a09770596e1f5b\", \"length of answer2_5 is not correct\"\n",
    "assert sha1(str(answer2_5.lower()).encode(\"utf-8\")+b\"7d4656f45ea2b0c7\").hexdigest() == \"1eb9a50b5788378ea74b5353d9414562c1ffb1f5\", \"value of answer2_5 is not correct\"\n",
    "assert sha1(str(answer2_5).encode(\"utf-8\")+b\"7d4656f45ea2b0c7\").hexdigest() == \"279ae08811e47c686ba641da17d2abf0c781723d\", \"correct string value of answer2_5 but incorrect case of letters\"\n",
    "\n",
    "print('Success!')"
   ]
  },
  {
   "cell_type": "markdown",
   "metadata": {
    "deletable": false,
    "editable": false,
    "nbgrader": {
     "cell_type": "markdown",
     "checksum": "dcfdc0e4c35f32a74cdf8f14deab2299",
     "grade": false,
     "grade_id": "cell-bf7fd236053daada",
     "locked": true,
     "schema_version": 3,
     "solution": false
    }
   },
   "source": [
    "**Question 2.6** Multiple Choice: \n",
    "<br> {points: 1}\n",
    "\n",
    "We will now use the K-nearest neighbour classification algorithm with K = 3 to classify the new observation using your answers to **Questions 2.2 & 2.3**. Is the new data point predicted to be benign or malignant?\n",
    "\n",
    "*Assign your answer to an object called `answer2_6`. Make sure the correct answer is written fully. Remember to surround your answer with quotation marks (e.g. \"Benign\" / \"Malignant\").*"
   ]
  },
  {
   "cell_type": "code",
   "execution_count": null,
   "metadata": {
    "deletable": false,
    "nbgrader": {
     "cell_type": "code",
     "checksum": "03ade657f4654214091bf3dac2f324cd",
     "grade": false,
     "grade_id": "cell-258763f514ce8d52",
     "locked": false,
     "schema_version": 3,
     "solution": true
    }
   },
   "outputs": [],
   "source": [
    "# your code here\n",
    "raise NotImplementedError"
   ]
  },
  {
   "cell_type": "code",
   "execution_count": null,
   "metadata": {
    "deletable": false,
    "editable": false,
    "nbgrader": {
     "cell_type": "code",
     "checksum": "7d1e66d3973eb28ab25a3fb34b7a62c1",
     "grade": true,
     "grade_id": "cell-2a8fd7a3457fb02a",
     "locked": true,
     "points": 3,
     "schema_version": 3,
     "solution": false
    }
   },
   "outputs": [],
   "source": [
    "from hashlib import sha1\n",
    "assert sha1(str(type(answer2_6)).encode(\"utf-8\")+b\"471d3e965329c7ea\").hexdigest() == \"1b046ba63839f15d605e94a5002fcc6f8c980bb1\", \"type of answer2_6 is not str. answer2_6 should be an str\"\n",
    "assert sha1(str(len(answer2_6)).encode(\"utf-8\")+b\"471d3e965329c7ea\").hexdigest() == \"0098e5cfb2db0e13e18677e35d3012139192a3f1\", \"length of answer2_6 is not correct\"\n",
    "assert sha1(str(answer2_6.lower()).encode(\"utf-8\")+b\"471d3e965329c7ea\").hexdigest() == \"d62cee4bcb114eaefcf3cd4d6e6117e5bf76449c\", \"value of answer2_6 is not correct\"\n",
    "assert sha1(str(answer2_6).encode(\"utf-8\")+b\"471d3e965329c7ea\").hexdigest() == \"ad2a976f32db397d9d22518d454fd227fde8de10\", \"correct string value of answer2_6 but incorrect case of letters\"\n",
    "\n",
    "print('Success!')"
   ]
  },
  {
   "cell_type": "markdown",
   "metadata": {
    "deletable": false,
    "editable": false,
    "nbgrader": {
     "cell_type": "markdown",
     "checksum": "6aef431522c8dba8d06f105ac210ecfd",
     "grade": false,
     "grade_id": "cell-070238e3e7380252",
     "locked": true,
     "schema_version": 3,
     "solution": false
    }
   },
   "source": [
    "**Question 2.7**\n",
    "<br> {points: 1}\n",
    "\n",
    "Compare your answers in 2.4 and 2.6. Are they the same?\n",
    "\n",
    "*Assign your answer to an object called `answer2_7`. Make sure the correct answer is written in lower-case. Remember to surround your answer with quotation marks (e.g. \"yes\" / \"no\").* "
   ]
  },
  {
   "cell_type": "code",
   "execution_count": null,
   "metadata": {
    "deletable": false,
    "nbgrader": {
     "cell_type": "code",
     "checksum": "e969c267f7269cfcdb58d807dcadd0a3",
     "grade": false,
     "grade_id": "cell-5eb56b54aae58afa",
     "locked": false,
     "schema_version": 3,
     "solution": true
    }
   },
   "outputs": [],
   "source": [
    "# your code here\n",
    "raise NotImplementedError"
   ]
  },
  {
   "cell_type": "code",
   "execution_count": null,
   "metadata": {
    "deletable": false,
    "editable": false,
    "nbgrader": {
     "cell_type": "code",
     "checksum": "7e331f738bbe2f4d4066f1f9ad1473f0",
     "grade": true,
     "grade_id": "cell-067dc96bdc43046c",
     "locked": true,
     "points": 3,
     "schema_version": 3,
     "solution": false
    }
   },
   "outputs": [],
   "source": [
    "from hashlib import sha1\n",
    "assert sha1(str(type(answer2_7)).encode(\"utf-8\")+b\"5bf4499ce0e3bd8d\").hexdigest() == \"6c96be631c14537115db01b9f4064ed80c0dbdf4\", \"type of answer2_7 is not str. answer2_7 should be an str\"\n",
    "assert sha1(str(len(answer2_7)).encode(\"utf-8\")+b\"5bf4499ce0e3bd8d\").hexdigest() == \"d4547a58e8f47a9fe9367965c636bd95e88e3adb\", \"length of answer2_7 is not correct\"\n",
    "assert sha1(str(answer2_7.lower()).encode(\"utf-8\")+b\"5bf4499ce0e3bd8d\").hexdigest() == \"790bc8dde04f8b159c417780b00e3578cb48a46a\", \"value of answer2_7 is not correct\"\n",
    "assert sha1(str(answer2_7).encode(\"utf-8\")+b\"5bf4499ce0e3bd8d\").hexdigest() == \"790bc8dde04f8b159c417780b00e3578cb48a46a\", \"correct string value of answer2_7 but incorrect case of letters\"\n",
    "\n",
    "print('Success!')"
   ]
  },
  {
   "cell_type": "markdown",
   "metadata": {
    "deletable": false,
    "editable": false,
    "nbgrader": {
     "cell_type": "markdown",
     "checksum": "6c0e438ec1491f860d3e075295498e0e",
     "grade": false,
     "grade_id": "cell-c279ff71adbb5d92",
     "locked": true,
     "schema_version": 3,
     "solution": false,
     "task": false
    }
   },
   "source": [
    "## 3. Using `scikit-learn` to perform k-nearest neighbours\n",
    "\n",
    "Now that we understand how K-nearest neighbours (k-nn) classification works, let's get familar with the `scikit-learn` Python package. The benefit of using `scikit-learn` is that it will keep our code simple, readable and accurate. Coding less and in a tidier format means that there is less chance for errors to occur.  \n",
    "\n",
    "We'll again focus on `Radius` and `Symmetry` as the two predictors. This time, we would like to predict the class of a new observation with `Symmetry = 1` and `Radius = 0`. This one is a bit tricky to do visually from the plot below, and so is a motivating example for us to compute the prediction using k-nn with the `scikit-learn` package. Let's use `K = 7`."
   ]
  },
  {
   "cell_type": "code",
   "execution_count": null,
   "metadata": {
    "deletable": false,
    "editable": false,
    "nbgrader": {
     "cell_type": "code",
     "checksum": "bd2dd86364838cdf3d42646a9ad64c77",
     "grade": false,
     "grade_id": "cell-56677f538700d703",
     "locked": true,
     "schema_version": 3,
     "solution": false,
     "task": false
    }
   },
   "outputs": [],
   "source": [
    "# Run this to remind yourself what the data looks like\n",
    "cancer_plot"
   ]
  },
  {
   "cell_type": "markdown",
   "metadata": {
    "deletable": false,
    "editable": false,
    "nbgrader": {
     "cell_type": "markdown",
     "checksum": "9eda1dc50d63ab186380d08c86d1bc5c",
     "grade": false,
     "grade_id": "cell-0be2bf18a64cc945",
     "locked": true,
     "schema_version": 3,
     "solution": false
    }
   },
   "source": [
    "**Question 3.1** \n",
    "<br> {points: 1}\n",
    "\n",
    "Create a **model** for K-nearest neighbours classification by using the `KNeighborsClassifier` function. Specify that we want to set `n_neighbors = 7`.\n",
    "\n",
    "Name your model specification `knn_spec`."
   ]
  },
  {
   "cell_type": "code",
   "execution_count": null,
   "metadata": {
    "deletable": false,
    "nbgrader": {
     "cell_type": "code",
     "checksum": "02af91221f9fdb4855c5737f2525182a",
     "grade": false,
     "grade_id": "cell-6c32562496f83241",
     "locked": false,
     "schema_version": 3,
     "solution": true,
     "task": false
    }
   },
   "outputs": [],
   "source": [
    "# ___ = KNeighborsClassifier(n_neighbors=___)\n",
    "\n",
    "# your code here\n",
    "raise NotImplementedError\n",
    "knn_spec"
   ]
  },
  {
   "cell_type": "code",
   "execution_count": null,
   "metadata": {
    "deletable": false,
    "editable": false,
    "nbgrader": {
     "cell_type": "code",
     "checksum": "e836038b6056300058bede0b4a8bed7e",
     "grade": true,
     "grade_id": "cell-685a4e4330f23a90",
     "locked": true,
     "points": 1,
     "schema_version": 3,
     "solution": false
    }
   },
   "outputs": [],
   "source": [
    "from hashlib import sha1\n",
    "assert sha1(str(type(knn_spec is None)).encode(\"utf-8\")+b\"8cf23bb6396cd042\").hexdigest() == \"ef9a4ac28ed98333e3dd0be69d0fbb305f14f2b3\", \"type of knn_spec is None is not bool. knn_spec is None should be a bool\"\n",
    "assert sha1(str(knn_spec is None).encode(\"utf-8\")+b\"8cf23bb6396cd042\").hexdigest() == \"8685b81dc73779e0e337c53ffe9526bc76159167\", \"boolean value of knn_spec is None is not correct\"\n",
    "\n",
    "assert sha1(str(type(knn_spec.n_neighbors)).encode(\"utf-8\")+b\"b0cf8b886fa89316\").hexdigest() == \"dd0bfc604d1e8af1e2f074d5866b7baf2c60326a\", \"type of knn_spec.n_neighbors is not int. Please make sure it is int and not np.int64, etc. You can cast your value into an int using int()\"\n",
    "assert sha1(str(knn_spec.n_neighbors).encode(\"utf-8\")+b\"b0cf8b886fa89316\").hexdigest() == \"7d1f1435eda831c4b686559541645a08c02af572\", \"value of knn_spec.n_neighbors is not correct\"\n",
    "\n",
    "assert sha1(str(type(knn_spec.algorithm)).encode(\"utf-8\")+b\"b85ff604728ad5ac\").hexdigest() == \"2ef667b29b320b446cd09b33c995224ecedc36e0\", \"type of knn_spec.algorithm is not str. knn_spec.algorithm should be an str\"\n",
    "assert sha1(str(len(knn_spec.algorithm)).encode(\"utf-8\")+b\"b85ff604728ad5ac\").hexdigest() == \"0ecc1fe20fa170a49fafe49fc680275cb978fbd4\", \"length of knn_spec.algorithm is not correct\"\n",
    "assert sha1(str(knn_spec.algorithm.lower()).encode(\"utf-8\")+b\"b85ff604728ad5ac\").hexdigest() == \"f67ca9a03fa8a208f79b7cb57178907ea0939d97\", \"value of knn_spec.algorithm is not correct\"\n",
    "assert sha1(str(knn_spec.algorithm).encode(\"utf-8\")+b\"b85ff604728ad5ac\").hexdigest() == \"f67ca9a03fa8a208f79b7cb57178907ea0939d97\", \"correct string value of knn_spec.algorithm but incorrect case of letters\"\n",
    "\n",
    "print('Success!')"
   ]
  },
  {
   "cell_type": "markdown",
   "metadata": {
    "deletable": false,
    "editable": false,
    "nbgrader": {
     "cell_type": "markdown",
     "checksum": "eb2399b350c7d343589ed39615f585c5",
     "grade": false,
     "grade_id": "cell-5ccafffc3a34805b",
     "locked": true,
     "schema_version": 3,
     "solution": false
    }
   },
   "source": [
    "**Question 3.2**\n",
    "<br> {points: 1}\n",
    "\n",
    "To train the model on the breast cancer dataset, pass `knn_spec` and the `cancer` dataset to the `.fit` function. Specify `Class` as your target variable and the `Symmetry` and `Radius` variables as your predictors. Name your fitted model as `knn_fit`."
   ]
  },
  {
   "cell_type": "code",
   "execution_count": null,
   "metadata": {
    "deletable": false,
    "nbgrader": {
     "cell_type": "code",
     "checksum": "72f73386ec37bfcfb94b48055f369ade",
     "grade": false,
     "grade_id": "cell-cdee2d8667038f6a",
     "locked": false,
     "schema_version": 3,
     "solution": true
    }
   },
   "outputs": [],
   "source": [
    "# X = ___[[\"Symmetry\", ___]]\n",
    "# y = ___[___]\n",
    "# ___ = ___.fit(___, ___)\n",
    "\n",
    "# your code here\n",
    "raise NotImplementedError\n",
    "knn_fit"
   ]
  },
  {
   "cell_type": "code",
   "execution_count": null,
   "metadata": {
    "deletable": false,
    "editable": false,
    "nbgrader": {
     "cell_type": "code",
     "checksum": "e47a043223c4912b9d26a551dacf03b1",
     "grade": true,
     "grade_id": "cell-f99ed1dee272d06a",
     "locked": true,
     "points": 1,
     "schema_version": 3,
     "solution": false
    }
   },
   "outputs": [],
   "source": [
    "from hashlib import sha1\n",
    "assert sha1(str(type(knn_fit is None)).encode(\"utf-8\")+b\"a6cce66644077895\").hexdigest() == \"4dafd473af89553abd3b7103b7878e406379fb3f\", \"type of knn_fit is None is not bool. knn_fit is None should be a bool\"\n",
    "assert sha1(str(knn_fit is None).encode(\"utf-8\")+b\"a6cce66644077895\").hexdigest() == \"e871ef49f1286832f336a1d405acccc5801c92ae\", \"boolean value of knn_fit is None is not correct\"\n",
    "\n",
    "assert sha1(str(type(type(knn_fit))).encode(\"utf-8\")+b\"91ccb6b721191661\").hexdigest() == \"5518ee3a87dcd52e150888ee106f7e79a55a0d67\", \"type of type(knn_fit) is not correct\"\n",
    "assert sha1(str(type(knn_fit)).encode(\"utf-8\")+b\"91ccb6b721191661\").hexdigest() == \"8234681cefd1320cd4f680a1e79234fb2b22e5c6\", \"value of type(knn_fit) is not correct\"\n",
    "\n",
    "assert sha1(str(type(knn_fit.classes_)).encode(\"utf-8\")+b\"c33c1e0b78de5ac5\").hexdigest() == \"c2714947bf0d8ade77b3bda13128a370054fe6ba\", \"type of knn_fit.classes_ is not correct\"\n",
    "assert sha1(str(knn_fit.classes_).encode(\"utf-8\")+b\"c33c1e0b78de5ac5\").hexdigest() == \"a97a52598c21fd028381293899c3d4e664f515c3\", \"value of knn_fit.classes_ is not correct\"\n",
    "\n",
    "assert sha1(str(type(knn_fit.effective_metric_)).encode(\"utf-8\")+b\"601f9136a7f89aa1\").hexdigest() == \"70d042271907fa295e57a6c627f66e4d7f380a58\", \"type of knn_fit.effective_metric_ is not str. knn_fit.effective_metric_ should be an str\"\n",
    "assert sha1(str(len(knn_fit.effective_metric_)).encode(\"utf-8\")+b\"601f9136a7f89aa1\").hexdigest() == \"cb3a69a99d930c6d7cc8abb2547ef619e314fe9b\", \"length of knn_fit.effective_metric_ is not correct\"\n",
    "assert sha1(str(knn_fit.effective_metric_.lower()).encode(\"utf-8\")+b\"601f9136a7f89aa1\").hexdigest() == \"6a1c3c00650b049b66af247fe00583b8c7e79d98\", \"value of knn_fit.effective_metric_ is not correct\"\n",
    "assert sha1(str(knn_fit.effective_metric_).encode(\"utf-8\")+b\"601f9136a7f89aa1\").hexdigest() == \"6a1c3c00650b049b66af247fe00583b8c7e79d98\", \"correct string value of knn_fit.effective_metric_ but incorrect case of letters\"\n",
    "\n",
    "assert sha1(str(type(knn_fit.n_features_in_)).encode(\"utf-8\")+b\"70e2fe5338133020\").hexdigest() == \"5cf68e7a3f5b4ee661101347a6616c65ff13b860\", \"type of knn_fit.n_features_in_ is not int. Please make sure it is int and not np.int64, etc. You can cast your value into an int using int()\"\n",
    "assert sha1(str(knn_fit.n_features_in_).encode(\"utf-8\")+b\"70e2fe5338133020\").hexdigest() == \"4a89e3589f1322937fe2c5e9eb02a076effd9ad8\", \"value of knn_fit.n_features_in_ is not correct\"\n",
    "\n",
    "assert sha1(str(type(X.columns.values)).encode(\"utf-8\")+b\"51494cedc13d1f8b\").hexdigest() == \"6b698fa9d01b2674952139664d5120fc14771ac5\", \"type of X.columns.values is not correct\"\n",
    "assert sha1(str(X.columns.values).encode(\"utf-8\")+b\"51494cedc13d1f8b\").hexdigest() == \"e95a13bbfa1818bb3ad8eaeb2653814c62acfaa5\", \"value of X.columns.values is not correct\"\n",
    "\n",
    "assert sha1(str(type(y.name)).encode(\"utf-8\")+b\"187937a5d2e9e933\").hexdigest() == \"9b9d8aa38e381affb5bc1742a1962e714b543a15\", \"type of y.name is not str. y.name should be an str\"\n",
    "assert sha1(str(len(y.name)).encode(\"utf-8\")+b\"187937a5d2e9e933\").hexdigest() == \"af700d091598dfbebe685cf685cf1feeb3b379ff\", \"length of y.name is not correct\"\n",
    "assert sha1(str(y.name.lower()).encode(\"utf-8\")+b\"187937a5d2e9e933\").hexdigest() == \"ac5c64da52f7d093de32da05cbdaeb4ad3e7eca0\", \"value of y.name is not correct\"\n",
    "assert sha1(str(y.name).encode(\"utf-8\")+b\"187937a5d2e9e933\").hexdigest() == \"7ba5bf2497c384b97621c71d5ae981f39115f6ad\", \"correct string value of y.name but incorrect case of letters\"\n",
    "\n",
    "assert sha1(str(type(sum(X.Symmetry))).encode(\"utf-8\")+b\"eb1409e943774ab4\").hexdigest() == \"37b85ed972c48b397371157b67b7d9d7a64fe70d\", \"type of sum(X.Symmetry) is not float. Please make sure it is float and not np.float64, etc. You can cast your value into a float using float()\"\n",
    "assert sha1(str(round(sum(X.Symmetry), 2)).encode(\"utf-8\")+b\"eb1409e943774ab4\").hexdigest() == \"34a6f545e0664ca9e05842b3d6b481f393e00758\", \"value of sum(X.Symmetry) is not correct (rounded to 2 decimal places)\"\n",
    "\n",
    "assert sha1(str(type(sum(X.Radius))).encode(\"utf-8\")+b\"0b522d766fc8495b\").hexdigest() == \"a06359f1eee9ee1499c2993047d18e798db750d5\", \"type of sum(X.Radius) is not float. Please make sure it is float and not np.float64, etc. You can cast your value into a float using float()\"\n",
    "assert sha1(str(round(sum(X.Radius), 2)).encode(\"utf-8\")+b\"0b522d766fc8495b\").hexdigest() == \"b60d7def311aa7e1577328701b031308e98defc7\", \"value of sum(X.Radius) is not correct (rounded to 2 decimal places)\"\n",
    "\n",
    "print('Success!')"
   ]
  },
  {
   "cell_type": "markdown",
   "metadata": {
    "deletable": false,
    "editable": false,
    "nbgrader": {
     "cell_type": "markdown",
     "checksum": "247c7c6fb6c0a8485a26007733e7e0d6",
     "grade": false,
     "grade_id": "cell-51e9956deb5ca6fd",
     "locked": true,
     "schema_version": 3,
     "solution": false,
     "task": false
    }
   },
   "source": [
    "**Question 3.3**\n",
    "<br>{points: 1}\n",
    "\n",
    "Now we will make our prediction on the `Class` of a new observation with a `Symmetry` of 1 and a `Radius` of 0. First, create a dataframe with these variables and values and call it `new_obs`. Next, use the `.predict` function to obtain our prediction by passing `knn_fit` and `new_obs` to it. Name your predicted class as `class_prediction`."
   ]
  },
  {
   "cell_type": "code",
   "execution_count": null,
   "metadata": {
    "deletable": false,
    "nbgrader": {
     "cell_type": "code",
     "checksum": "95b6b6409bbe8ad405dd630070e68dc7",
     "grade": false,
     "grade_id": "cell-29520122db413f38",
     "locked": false,
     "schema_version": 3,
     "solution": true,
     "task": false
    }
   },
   "outputs": [],
   "source": [
    "# ___ = pd.DataFrame([[1, 0]], columns=[___, ___])\n",
    "# ___ = ___.predict(___)\n",
    "\n",
    "# your code here\n",
    "raise NotImplementedError\n",
    "class_prediction"
   ]
  },
  {
   "cell_type": "code",
   "execution_count": null,
   "metadata": {
    "deletable": false,
    "editable": false,
    "nbgrader": {
     "cell_type": "code",
     "checksum": "43b05357a856e72d38eee108ca1d1dd1",
     "grade": true,
     "grade_id": "cell-8ccf0ef821e9d0de",
     "locked": true,
     "points": 1,
     "schema_version": 3,
     "solution": false,
     "task": false
    }
   },
   "outputs": [],
   "source": [
    "from hashlib import sha1\n",
    "assert sha1(str(type(new_obs is None)).encode(\"utf-8\")+b\"f23df5404b588c94\").hexdigest() == \"974d6e0ffb13cf23b3862d38c57d49415303b5a1\", \"type of new_obs is None is not bool. new_obs is None should be a bool\"\n",
    "assert sha1(str(new_obs is None).encode(\"utf-8\")+b\"f23df5404b588c94\").hexdigest() == \"f571d3e6c58906caa2c055bdface936df374d119\", \"boolean value of new_obs is None is not correct\"\n",
    "\n",
    "assert sha1(str(type(new_obs)).encode(\"utf-8\")+b\"ad8190321963344e\").hexdigest() == \"646b82e5564216380212a5b78847b6b7f00db3f9\", \"type of type(new_obs) is not correct\"\n",
    "\n",
    "assert sha1(str(type(new_obs.Symmetry.values)).encode(\"utf-8\")+b\"303da4254d14439b\").hexdigest() == \"10e05f9efeee52d6d760d87038de5542ab817e7c\", \"type of new_obs.Symmetry.values is not correct\"\n",
    "assert sha1(str(new_obs.Symmetry.values).encode(\"utf-8\")+b\"303da4254d14439b\").hexdigest() == \"3d4f6a667ab7a1c119ce0677c5c22c50b647ecf6\", \"value of new_obs.Symmetry.values is not correct\"\n",
    "\n",
    "assert sha1(str(type(new_obs.Radius.values)).encode(\"utf-8\")+b\"57d6a68ef1e22287\").hexdigest() == \"3e5a175dedf2d356ec3943449b97d5fb5e6e0634\", \"type of new_obs.Radius.values is not correct\"\n",
    "assert sha1(str(new_obs.Radius.values).encode(\"utf-8\")+b\"57d6a68ef1e22287\").hexdigest() == \"61d85e27c2c2a79deccec2adb38231dd66bb07d3\", \"value of new_obs.Radius.values is not correct\"\n",
    "\n",
    "assert sha1(str(type(class_prediction is None)).encode(\"utf-8\")+b\"8a5f65601a6318f0\").hexdigest() == \"2c5390544dc1caed1b8c1fe3ff4cc48f8b6365e6\", \"type of class_prediction is None is not bool. class_prediction is None should be a bool\"\n",
    "assert sha1(str(class_prediction is None).encode(\"utf-8\")+b\"8a5f65601a6318f0\").hexdigest() == \"e6398c57c6de1072ec94803b541c29bd76b3d4fa\", \"boolean value of class_prediction is None is not correct\"\n",
    "\n",
    "assert sha1(str(type(class_prediction)).encode(\"utf-8\")+b\"8b3e081b7e50d84d\").hexdigest() == \"9e8b87b06f87c104a3ff6184625b844e827d730e\", \"type of class_prediction is not correct\"\n",
    "assert sha1(str(class_prediction).encode(\"utf-8\")+b\"8b3e081b7e50d84d\").hexdigest() == \"c034482e7e03724f2481f475b154cfe17573b19b\", \"value of class_prediction is not correct\"\n",
    "\n",
    "print('Success!')"
   ]
  },
  {
   "cell_type": "markdown",
   "metadata": {
    "deletable": false,
    "editable": false,
    "nbgrader": {
     "cell_type": "markdown",
     "checksum": "f3a4ca158cfe5d48a5af51ae177c8e7a",
     "grade": false,
     "grade_id": "cell-df0b5140effdf82e",
     "locked": true,
     "schema_version": 3,
     "solution": false
    }
   },
   "source": [
    "**Question 3.4**\n",
    "<br> {points: 1}\n",
    "\n",
    "Let's perform K-nearest neighbour classification again, but with three predictors. Use the `scikit-learn` package and `K = 7` to classify a new observation where we measure `Symmetry = 1`, `Radius = 0` and `Concavity = 1`. Use the scaffolding from **Questions 3.2** and **3.3** to help you.\n",
    "\n",
    "- Pass the same `knn_spec` from before to `fit`, but this time specify `Symmetry`, `Radius`, and `Concavity` as the predictors. Save the predictor as `X_2` and the target as `y_2`. Store the output in `knn_fit_2`. \n",
    "- Store the new observation values in an object called `new_obs_2`.\n",
    "- Store the output of `predict` in an object called `class_prediction_2`."
   ]
  },
  {
   "cell_type": "code",
   "execution_count": null,
   "metadata": {
    "deletable": false,
    "nbgrader": {
     "cell_type": "code",
     "checksum": "272fcd889a202e370dbae3503caeac99",
     "grade": false,
     "grade_id": "cell-9ebae1c9d403b859",
     "locked": false,
     "schema_version": 3,
     "solution": true
    }
   },
   "outputs": [],
   "source": [
    "# your code here\n",
    "raise NotImplementedError\n",
    "class_prediction_2"
   ]
  },
  {
   "cell_type": "code",
   "execution_count": null,
   "metadata": {
    "deletable": false,
    "editable": false,
    "nbgrader": {
     "cell_type": "code",
     "checksum": "82000636333ced75b0955c2e198b22ce",
     "grade": true,
     "grade_id": "cell-ae8bad16e80bdfef",
     "locked": true,
     "points": 1,
     "schema_version": 3,
     "solution": false
    }
   },
   "outputs": [],
   "source": [
    "from hashlib import sha1\n",
    "assert sha1(str(type(knn_fit_2 is None)).encode(\"utf-8\")+b\"19c821719b9a2701\").hexdigest() == \"35443a71500a378a804b9df5f1fd8624b2c77162\", \"type of knn_fit_2 is None is not bool. knn_fit_2 is None should be a bool\"\n",
    "assert sha1(str(knn_fit_2 is None).encode(\"utf-8\")+b\"19c821719b9a2701\").hexdigest() == \"b595401b725d36211acb2f95b6d56934c4417e91\", \"boolean value of knn_fit_2 is None is not correct\"\n",
    "\n",
    "assert sha1(str(type(knn_fit_2.kneighbors)).encode(\"utf-8\")+b\"705d983108257b6c\").hexdigest() == \"efb5a4dac959dc560e143cf0abbc0976a527590e\", \"type of knn_fit_2.kneighbors is not correct\"\n",
    "assert sha1(str(knn_fit_2.kneighbors).encode(\"utf-8\")+b\"705d983108257b6c\").hexdigest() == \"58d462cba8b039ab4ec73f622da1709d4e447606\", \"value of knn_fit_2.kneighbors is not correct\"\n",
    "\n",
    "assert sha1(str(type(knn_fit_2.effective_metric_)).encode(\"utf-8\")+b\"220d19d3248415dd\").hexdigest() == \"65ac79b492aedcd5e5d768c4602a0cee8bc2d54b\", \"type of knn_fit_2.effective_metric_ is not str. knn_fit_2.effective_metric_ should be an str\"\n",
    "assert sha1(str(len(knn_fit_2.effective_metric_)).encode(\"utf-8\")+b\"220d19d3248415dd\").hexdigest() == \"654884f3df17a61734cacf349ace9ba25670fc3c\", \"length of knn_fit_2.effective_metric_ is not correct\"\n",
    "assert sha1(str(knn_fit_2.effective_metric_.lower()).encode(\"utf-8\")+b\"220d19d3248415dd\").hexdigest() == \"e2c709faf2f701d537b2313b4394e4b3a20f3149\", \"value of knn_fit_2.effective_metric_ is not correct\"\n",
    "assert sha1(str(knn_fit_2.effective_metric_).encode(\"utf-8\")+b\"220d19d3248415dd\").hexdigest() == \"e2c709faf2f701d537b2313b4394e4b3a20f3149\", \"correct string value of knn_fit_2.effective_metric_ but incorrect case of letters\"\n",
    "\n",
    "assert sha1(str(type(type(knn_fit_2))).encode(\"utf-8\")+b\"91eae26c25ffb187\").hexdigest() == \"313a4f247a8146602397e4fb1c4ac2ea73ddcb9b\", \"type of type(knn_fit_2) is not correct\"\n",
    "assert sha1(str(type(knn_fit_2)).encode(\"utf-8\")+b\"91eae26c25ffb187\").hexdigest() == \"8d49fb7e109ec073930705d28d1e43ff4c7f1360\", \"value of type(knn_fit_2) is not correct\"\n",
    "\n",
    "assert sha1(str(type(knn_fit_2.n_features_in_)).encode(\"utf-8\")+b\"1cef78df413a0e65\").hexdigest() == \"f434772836f7a3ebcef1536f50c1a2b22c2c0223\", \"type of knn_fit_2.n_features_in_ is not int. Please make sure it is int and not np.int64, etc. You can cast your value into an int using int()\"\n",
    "assert sha1(str(knn_fit_2.n_features_in_).encode(\"utf-8\")+b\"1cef78df413a0e65\").hexdigest() == \"fd5c339a17db4e0b3bda41f4dc1bbe141165b57d\", \"value of knn_fit_2.n_features_in_ is not correct\"\n",
    "\n",
    "assert sha1(str(type(X_2.columns.values)).encode(\"utf-8\")+b\"09527936c93eb624\").hexdigest() == \"495fa04723d16513c8e78a3f33201e5964b807d5\", \"type of X_2.columns.values is not correct\"\n",
    "assert sha1(str(X_2.columns.values).encode(\"utf-8\")+b\"09527936c93eb624\").hexdigest() == \"ece8957730c3a8bfd4f5963a80b45959db9d8a34\", \"value of X_2.columns.values is not correct\"\n",
    "\n",
    "assert sha1(str(type(y_2.name)).encode(\"utf-8\")+b\"246dce87d2054562\").hexdigest() == \"94196ccd97cf8b8bba752082d7e453f9e696f429\", \"type of y_2.name is not str. y_2.name should be an str\"\n",
    "assert sha1(str(len(y_2.name)).encode(\"utf-8\")+b\"246dce87d2054562\").hexdigest() == \"efac7c0c78d79caba25f711270e1a856a4eb7913\", \"length of y_2.name is not correct\"\n",
    "assert sha1(str(y_2.name.lower()).encode(\"utf-8\")+b\"246dce87d2054562\").hexdigest() == \"51442711b036c8751db6b8603a8d3c01d1f5cd96\", \"value of y_2.name is not correct\"\n",
    "assert sha1(str(y_2.name).encode(\"utf-8\")+b\"246dce87d2054562\").hexdigest() == \"078c7105e4692df756267c93ee942bfbab7954a5\", \"correct string value of y_2.name but incorrect case of letters\"\n",
    "\n",
    "assert sha1(str(type(y_2.values)).encode(\"utf-8\")+b\"0fb7684f22b61a78\").hexdigest() == \"d45a3b78173b1d12e3114f9b43c52f68d4e0497a\", \"type of y_2.values is not correct\"\n",
    "assert sha1(str(y_2.values).encode(\"utf-8\")+b\"0fb7684f22b61a78\").hexdigest() == \"b8df9c7b6c051b2a77c0d3ec5795fcc467839277\", \"value of y_2.values is not correct\"\n",
    "\n",
    "assert sha1(str(type(sum(X_2.Symmetry))).encode(\"utf-8\")+b\"84edddfad875b13c\").hexdigest() == \"b316587218aa3da86526334a15fcdf0c781abd4a\", \"type of sum(X_2.Symmetry) is not float. Please make sure it is float and not np.float64, etc. You can cast your value into a float using float()\"\n",
    "assert sha1(str(round(sum(X_2.Symmetry), 2)).encode(\"utf-8\")+b\"84edddfad875b13c\").hexdigest() == \"6900ef79cb74eca9838a7c6d9332c0220f981dcb\", \"value of sum(X_2.Symmetry) is not correct (rounded to 2 decimal places)\"\n",
    "\n",
    "assert sha1(str(type(sum(X_2.Radius))).encode(\"utf-8\")+b\"d0e702c12221c5a9\").hexdigest() == \"5df9cb5f1c0e2f6bf04d6d768f1973b8db1ca84d\", \"type of sum(X_2.Radius) is not float. Please make sure it is float and not np.float64, etc. You can cast your value into a float using float()\"\n",
    "assert sha1(str(round(sum(X_2.Radius), 2)).encode(\"utf-8\")+b\"d0e702c12221c5a9\").hexdigest() == \"9c6915855adfa72bac2d4c0e65cfd391e464d7cd\", \"value of sum(X_2.Radius) is not correct (rounded to 2 decimal places)\"\n",
    "\n",
    "assert sha1(str(type(sum(X_2.Concavity))).encode(\"utf-8\")+b\"d100b4915f2e479b\").hexdigest() == \"d839584893e37e657f8c3253af449e2312c95e0c\", \"type of sum(X_2.Concavity) is not float. Please make sure it is float and not np.float64, etc. You can cast your value into a float using float()\"\n",
    "assert sha1(str(round(sum(X_2.Concavity), 2)).encode(\"utf-8\")+b\"d100b4915f2e479b\").hexdigest() == \"a02f5207fa8a39940b7baa24bb76e513420173c2\", \"value of sum(X_2.Concavity) is not correct (rounded to 2 decimal places)\"\n",
    "\n",
    "assert sha1(str(type(new_obs_2 is None)).encode(\"utf-8\")+b\"d8bbeb3d3afd54f3\").hexdigest() == \"4b02768141b0d289025a61617f1327f9253fc0ca\", \"type of new_obs_2 is None is not bool. new_obs_2 is None should be a bool\"\n",
    "assert sha1(str(new_obs_2 is None).encode(\"utf-8\")+b\"d8bbeb3d3afd54f3\").hexdigest() == \"1b283f048e4de9864b65ab66bbc7d79e9ca89de0\", \"boolean value of new_obs_2 is None is not correct\"\n",
    "\n",
    "assert sha1(str(type(new_obs_2)).encode(\"utf-8\")+b\"797caf0c25bddbe7\").hexdigest() == \"971d6d22cb869ec3051ac66905317131b4519312\", \"type of type(new_obs_2) is not correct\"\n",
    "\n",
    "assert sha1(str(type(new_obs_2.Symmetry.values)).encode(\"utf-8\")+b\"319e59fb2d59cb37\").hexdigest() == \"75fdb72ddc061393fd73fd0f2c5953692c3535f9\", \"type of new_obs_2.Symmetry.values is not correct\"\n",
    "assert sha1(str(new_obs_2.Symmetry.values).encode(\"utf-8\")+b\"319e59fb2d59cb37\").hexdigest() == \"1d499f713f2404c2ca83ba1a50dc452105a633f6\", \"value of new_obs_2.Symmetry.values is not correct\"\n",
    "\n",
    "assert sha1(str(type(new_obs_2.Radius.values)).encode(\"utf-8\")+b\"a6580eef0cec5898\").hexdigest() == \"b7c617ea98809b8812c6250a68a743d1f1051556\", \"type of new_obs_2.Radius.values is not correct\"\n",
    "assert sha1(str(new_obs_2.Radius.values).encode(\"utf-8\")+b\"a6580eef0cec5898\").hexdigest() == \"f8142759fdf4925fe6f61cf8d1702a5d6214d09e\", \"value of new_obs_2.Radius.values is not correct\"\n",
    "\n",
    "assert sha1(str(type(new_obs_2.Concavity.values)).encode(\"utf-8\")+b\"e6cf012d6845896e\").hexdigest() == \"c72b670451bbd82a3db7d1142a8140d0338815b3\", \"type of new_obs_2.Concavity.values is not correct\"\n",
    "assert sha1(str(new_obs_2.Concavity.values).encode(\"utf-8\")+b\"e6cf012d6845896e\").hexdigest() == \"1a7bd3691c0e9771f2f3567e9a763e2483f6a23f\", \"value of new_obs_2.Concavity.values is not correct\"\n",
    "\n",
    "assert sha1(str(type(class_prediction_2 is None)).encode(\"utf-8\")+b\"0fad66d3d1161334\").hexdigest() == \"67b046226a7e4f2933ac1fba8e0e32dc3ed4c459\", \"type of class_prediction_2 is None is not bool. class_prediction_2 is None should be a bool\"\n",
    "assert sha1(str(class_prediction_2 is None).encode(\"utf-8\")+b\"0fad66d3d1161334\").hexdigest() == \"db1ae1e1e2dfc13b70f2387540e6a42d5ebe1383\", \"boolean value of class_prediction_2 is None is not correct\"\n",
    "\n",
    "assert sha1(str(type(class_prediction_2)).encode(\"utf-8\")+b\"df0e837f9e871af8\").hexdigest() == \"b95b483d6864254ae7cd6acca5effe1a431b8fb2\", \"type of class_prediction_2 is not correct\"\n",
    "assert sha1(str(class_prediction_2).encode(\"utf-8\")+b\"df0e837f9e871af8\").hexdigest() == \"adf60eba68a6bf88c8d9c71403be64f67e959109\", \"value of class_prediction_2 is not correct\"\n",
    "\n",
    "print('Success!')"
   ]
  },
  {
   "cell_type": "markdown",
   "metadata": {
    "deletable": false,
    "editable": false,
    "nbgrader": {
     "cell_type": "markdown",
     "checksum": "c33846ad5061d448188446ecb5183971",
     "grade": false,
     "grade_id": "cell-5758f98a43d755fe",
     "locked": true,
     "schema_version": 3,
     "solution": false,
     "task": false
    }
   },
   "source": [
    "**Question 3.5**\n",
    "<br>{points: 1}\n",
    "\n",
    "Finally, we will perform K-nearest neighbour classification again, using the `scikit-learn` package and `K = 7` to classify a new observation where we use **all the predictors** in our data set (we give you the values in the code below). \n",
    "\n",
    "But we first have to do one important thing: we need to remove the ID variable from the analysis (it's not a numerical measurement that we should use for classification). Thankfully, `scikit-learn` provides a nice way of combining data preprocessing and training into a single consistent pipeline.\n",
    "\n",
    "We will first create a preprocessor to remove the `ID` variable using the `drop` preprocessing step. Since we aren't doing any preprocessing to other columns, we will set the `remainder` parameter to `passthrough`. Do so below using the provided scaffolding. Name the preprocessor object `knn_preprocessor`.\n"
   ]
  },
  {
   "cell_type": "code",
   "execution_count": null,
   "metadata": {
    "deletable": false,
    "nbgrader": {
     "cell_type": "code",
     "checksum": "19fb5a3fabf55091873905acc63b3f5a",
     "grade": false,
     "grade_id": "cell-4b45e92db544f078",
     "locked": false,
     "schema_version": 3,
     "solution": true,
     "task": false
    }
   },
   "outputs": [],
   "source": [
    "# ___ = make_column_transformer(\n",
    "#     (\"drop\", [___]),\n",
    "#     remainder=___\n",
    "# )\n",
    "\n",
    "# your code here\n",
    "raise NotImplementedError\n",
    "knn_preprocessor"
   ]
  },
  {
   "cell_type": "code",
   "execution_count": null,
   "metadata": {
    "deletable": false,
    "editable": false,
    "nbgrader": {
     "cell_type": "code",
     "checksum": "2016153b2ec6222a5ea2b6e652817ed7",
     "grade": true,
     "grade_id": "cell-c6b6f36644c1de32",
     "locked": true,
     "points": 1,
     "schema_version": 3,
     "solution": false,
     "task": false
    }
   },
   "outputs": [],
   "source": [
    "from hashlib import sha1\n",
    "assert sha1(str(type(knn_preprocessor is None)).encode(\"utf-8\")+b\"1a20985b04bb92eb\").hexdigest() == \"b6e3deaefbfa71f889fba4289ee99fb7e27b02e7\", \"type of knn_preprocessor is None is not bool. knn_preprocessor is None should be a bool\"\n",
    "assert sha1(str(knn_preprocessor is None).encode(\"utf-8\")+b\"1a20985b04bb92eb\").hexdigest() == \"228702d57b25c0b5898c116bece308a6ff6084ea\", \"boolean value of knn_preprocessor is None is not correct\"\n",
    "\n",
    "assert sha1(str(type(type(knn_preprocessor))).encode(\"utf-8\")+b\"5385f634cb29459f\").hexdigest() == \"4286617a1e005629684766055882ef3fcdc85a93\", \"type of type(knn_preprocessor) is not correct\"\n",
    "assert sha1(str(type(knn_preprocessor)).encode(\"utf-8\")+b\"5385f634cb29459f\").hexdigest() == \"dff8c996355163738a76d4b5c8b55b86aa8269bf\", \"value of type(knn_preprocessor) is not correct\"\n",
    "\n",
    "assert sha1(str(type(knn_preprocessor.get_feature_names_out)).encode(\"utf-8\")+b\"3913fa1bbdf16398\").hexdigest() == \"0fed4424123f33c3a7aaa5d92b36433237739490\", \"type of knn_preprocessor.get_feature_names_out is not correct\"\n",
    "assert sha1(str(knn_preprocessor.get_feature_names_out).encode(\"utf-8\")+b\"3913fa1bbdf16398\").hexdigest() == \"fe1ff56a08da0d6a5b6e999b21d8f111e4d7045e\", \"value of knn_preprocessor.get_feature_names_out is not correct\"\n",
    "\n",
    "print('Success!')"
   ]
  },
  {
   "cell_type": "markdown",
   "metadata": {
    "deletable": false,
    "editable": false,
    "nbgrader": {
     "cell_type": "markdown",
     "checksum": "cf7f976e89a5c9e9f17e07358a223cf4",
     "grade": false,
     "grade_id": "cell-f2205e10137bba29",
     "locked": true,
     "schema_version": 3,
     "solution": false,
     "task": false
    }
   },
   "source": [
    "**Question 3.6**\n",
    "<br> {points: 1}\n",
    "\n",
    "Create a **pipeline** that includes the new preprocessor (`knn_preprocessor`) and the model specification (`knn_spec`) using the scaffolding below. Name the pipeline object `knn_pipeline`."
   ]
  },
  {
   "cell_type": "code",
   "execution_count": null,
   "metadata": {
    "deletable": false,
    "nbgrader": {
     "cell_type": "code",
     "checksum": "3d4ab70626ac09d16b3e7a6dc453fdfe",
     "grade": false,
     "grade_id": "cell-ad1115a24af76299",
     "locked": false,
     "schema_version": 3,
     "solution": true,
     "task": false
    }
   },
   "outputs": [],
   "source": [
    "# ___ = make_pipeline(___, ___)\n",
    "\n",
    "# your code here\n",
    "raise NotImplementedError\n",
    "knn_pipeline"
   ]
  },
  {
   "cell_type": "code",
   "execution_count": null,
   "metadata": {
    "deletable": false,
    "editable": false,
    "nbgrader": {
     "cell_type": "code",
     "checksum": "86c3f857fcfe34fa331a08e56b5cc617",
     "grade": true,
     "grade_id": "cell-a091b39308a96640",
     "locked": true,
     "points": 1,
     "schema_version": 3,
     "solution": false,
     "task": false
    }
   },
   "outputs": [],
   "source": [
    "from hashlib import sha1\n",
    "assert sha1(str(type(knn_pipeline is None)).encode(\"utf-8\")+b\"5c612f11a58b5a03\").hexdigest() == \"94bafa09035adf77ca5b1d8943ad3fa6a2ca4234\", \"type of knn_pipeline is None is not bool. knn_pipeline is None should be a bool\"\n",
    "assert sha1(str(knn_pipeline is None).encode(\"utf-8\")+b\"5c612f11a58b5a03\").hexdigest() == \"7d0a38e8122aff03d81079c2e59533077f8f5048\", \"boolean value of knn_pipeline is None is not correct\"\n",
    "\n",
    "assert sha1(str(type(type(knn_pipeline))).encode(\"utf-8\")+b\"4d50e3ce6e64cbd9\").hexdigest() == \"c10e05957feac91cc4b62c6b50df69897a1771fa\", \"type of type(knn_pipeline) is not correct\"\n",
    "assert sha1(str(type(knn_pipeline)).encode(\"utf-8\")+b\"4d50e3ce6e64cbd9\").hexdigest() == \"a47a3fc7831bef20d977e1ed10405bd65a070f90\", \"value of type(knn_pipeline) is not correct\"\n",
    "\n",
    "assert sha1(str(type(knn_pipeline.named_steps.kneighborsclassifier.n_neighbors)).encode(\"utf-8\")+b\"ea0e9aa4b02a0f34\").hexdigest() == \"cfd59430455fa25d36cab1f80d9f0d26234d8549\", \"type of knn_pipeline.named_steps.kneighborsclassifier.n_neighbors is not int. Please make sure it is int and not np.int64, etc. You can cast your value into an int using int()\"\n",
    "assert sha1(str(knn_pipeline.named_steps.kneighborsclassifier.n_neighbors).encode(\"utf-8\")+b\"ea0e9aa4b02a0f34\").hexdigest() == \"b5b22b6aba90aa211df475b23594ce353449e162\", \"value of knn_pipeline.named_steps.kneighborsclassifier.n_neighbors is not correct\"\n",
    "\n",
    "print('Success!')"
   ]
  },
  {
   "cell_type": "markdown",
   "metadata": {
    "deletable": false,
    "editable": false,
    "nbgrader": {
     "cell_type": "markdown",
     "checksum": "ad8fe156d4918254e41e1606f024227d",
     "grade": false,
     "grade_id": "cell-f5f5e1eb6b4eae96",
     "locked": true,
     "schema_version": 3,
     "solution": false,
     "task": false
    }
   },
   "source": [
    "**Question 3.7**\n",
    "{points: 1}\n",
    "\n",
    "Finally, `fit` the pipeline and predict the class label for the new observation named `new_obs_all`. Name the `fit` object `knn_fit_all`, and the class prediction `class_prediction_all`. Name the new predictor as `X_3` and the new target as `y_3`."
   ]
  },
  {
   "cell_type": "code",
   "execution_count": null,
   "metadata": {
    "deletable": false,
    "nbgrader": {
     "cell_type": "code",
     "checksum": "de540dbaf10c7e0c1ed2d9e6fec8bc78",
     "grade": false,
     "grade_id": "cell-1a574f5403a0315e",
     "locked": false,
     "schema_version": 3,
     "solution": true
    }
   },
   "outputs": [],
   "source": [
    "new_obs_all = pd.DataFrame(\n",
    "    [[None, 0, 0, 0, 0, 0.5, 0, 1, 0, 1, 0]],\n",
    "    columns=[\n",
    "        \"ID\",\n",
    "        \"Radius\",\n",
    "        \"Texture\",\n",
    "        \"Perimeter\",\n",
    "        \"Area\",\n",
    "        \"Smoothness\",\n",
    "        \"Compactness\",\n",
    "        \"Concavity\",\n",
    "        \"Concave_points\",\n",
    "        \"Symmetry\",\n",
    "        \"Fractal_dimension\",\n",
    "    ],\n",
    ")\n",
    "# X_3 = cancer.drop(columns=[___])\n",
    "# y_3 = cancer[___]\n",
    "# ___ = knn_pipeline.fit(___, ___)\n",
    "# ___ = knn_fit_all.____(____)\n",
    "\n",
    "# your code here\n",
    "raise NotImplementedError\n",
    "class_prediction_all"
   ]
  },
  {
   "cell_type": "code",
   "execution_count": null,
   "metadata": {
    "deletable": false,
    "editable": false,
    "nbgrader": {
     "cell_type": "code",
     "checksum": "ca475b03e2eace6078bea9ce99281fb9",
     "grade": true,
     "grade_id": "cell-036a77a7a92f0c3d",
     "locked": true,
     "points": 1,
     "schema_version": 3,
     "solution": false
    }
   },
   "outputs": [],
   "source": [
    "from hashlib import sha1\n",
    "assert sha1(str(type(class_prediction_all)).encode(\"utf-8\")+b\"08bf90942c7e7025\").hexdigest() == \"2535d77f1eaa165187e70f17a357da3110aa4d0d\", \"type of class_prediction_all is not correct\"\n",
    "assert sha1(str(class_prediction_all).encode(\"utf-8\")+b\"08bf90942c7e7025\").hexdigest() == \"cadc955ada0e2a6486a855865fcef2c1769ad785\", \"value of class_prediction_all is not correct\"\n",
    "\n",
    "print('Success!')"
   ]
  },
  {
   "cell_type": "markdown",
   "metadata": {
    "deletable": false,
    "editable": false,
    "nbgrader": {
     "cell_type": "markdown",
     "checksum": "9e58b841ef09ca686d209a1e2317eb80",
     "grade": false,
     "grade_id": "cell-9fe84a61d314cfed",
     "locked": true,
     "schema_version": 3,
     "solution": false,
     "task": false
    }
   },
   "source": [
    "## 4. Reviewing Some Concepts\n",
    "\n",
    "We will conclude with two multiple choice questions to reinforce some key concepts when doing classification with K-nearest neighbours."
   ]
  },
  {
   "cell_type": "markdown",
   "metadata": {
    "deletable": false,
    "editable": false,
    "nbgrader": {
     "cell_type": "markdown",
     "checksum": "486de8a86ebe4009219df6b5358bb550",
     "grade": false,
     "grade_id": "cell-b904a53540f32475",
     "locked": true,
     "schema_version": 3,
     "solution": false
    }
   },
   "source": [
    "**Question 4.0**\n",
    "<br> {points: 1}\n",
    "\n",
    "In the K-nearest neighbours classification algorithm, we calculate the distance between the new observation (for which we are trying to predict the class/label/outcome) and each of the observations in the training data set so that we can:\n",
    "\n",
    "A. Find the `K` nearest neighbours of the new observation\n",
    "\n",
    "B. Assess how well our model fits the data\n",
    "\n",
    "C. Find outliers\n",
    "\n",
    "D. Assign the new observation to a cluster\n",
    "\n",
    "*Assign your answer (e.g. \"E\") to an object called: `answer4_0`. Make sure your answer is an uppercase letter and is surrounded with quotation marks.*"
   ]
  },
  {
   "cell_type": "code",
   "execution_count": null,
   "metadata": {
    "deletable": false,
    "nbgrader": {
     "cell_type": "code",
     "checksum": "fb615604ca1e21ab81a688c7c0c884a8",
     "grade": false,
     "grade_id": "cell-13d8575850bc1390",
     "locked": false,
     "schema_version": 3,
     "solution": true
    }
   },
   "outputs": [],
   "source": [
    "# your code here\n",
    "raise NotImplementedError"
   ]
  },
  {
   "cell_type": "code",
   "execution_count": null,
   "metadata": {
    "deletable": false,
    "editable": false,
    "nbgrader": {
     "cell_type": "code",
     "checksum": "3b1a03a00be2628698ac5048390205be",
     "grade": true,
     "grade_id": "cell-437eb5f41aed17bc",
     "locked": true,
     "points": 1,
     "schema_version": 3,
     "solution": false
    }
   },
   "outputs": [],
   "source": [
    "from hashlib import sha1\n",
    "assert sha1(str(type(answer4_0)).encode(\"utf-8\")+b\"90b1617b020ff336\").hexdigest() == \"9af3615af16a8feaff5563769d155a7f2f1b9048\", \"type of answer4_0 is not str. answer4_0 should be an str\"\n",
    "assert sha1(str(len(answer4_0)).encode(\"utf-8\")+b\"90b1617b020ff336\").hexdigest() == \"d97967d0431d5a4e0bcea26ac7cd9d7306967f49\", \"length of answer4_0 is not correct\"\n",
    "assert sha1(str(answer4_0.lower()).encode(\"utf-8\")+b\"90b1617b020ff336\").hexdigest() == \"fa9150a150997aec8fc328e23ce14a5a94f7b25f\", \"value of answer4_0 is not correct\"\n",
    "assert sha1(str(answer4_0).encode(\"utf-8\")+b\"90b1617b020ff336\").hexdigest() == \"8c891cf1a1b53ace0cf6c9b5ae696ff5226060ac\", \"correct string value of answer4_0 but incorrect case of letters\"\n",
    "\n",
    "print('Success!')"
   ]
  },
  {
   "cell_type": "markdown",
   "metadata": {
    "deletable": false,
    "editable": false,
    "nbgrader": {
     "cell_type": "markdown",
     "checksum": "76ab4ea5bf55a3e8c0235e5ce82c7ff6",
     "grade": false,
     "grade_id": "cell-a60b11b11c972d2c",
     "locked": true,
     "schema_version": 3,
     "solution": false,
     "task": false
    }
   },
   "source": [
    "**Question 4.1**\n",
    "<br> {points: 1}\n",
    "\n",
    "In the K-nearest neighbours classification algorithm, we choose the label/class for a new observation by:\n",
    "\n",
    "A. Taking the mean (average value) label/class of the K nearest neighbours \n",
    "\n",
    "B. Taking the median (middle value) label/class of the K nearest neighbours \n",
    "\n",
    "C. Taking the mode (value that appears most often, *i.e.*, the majority vote) label/class of the K nearest neighbours \n",
    "\n",
    "*Assign your answer (e.g., \"E\") to an object called `answer4_1`. Make sure your answer is an uppercase letter and is surrounded with quotation marks.*"
   ]
  },
  {
   "cell_type": "code",
   "execution_count": null,
   "metadata": {
    "deletable": false,
    "nbgrader": {
     "cell_type": "code",
     "checksum": "63c2b6bfa4c158fbdb4b84ed619b1ecc",
     "grade": false,
     "grade_id": "cell-ed504d5d3d6f58ea",
     "locked": false,
     "schema_version": 3,
     "solution": true
    }
   },
   "outputs": [],
   "source": [
    "# your code here\n",
    "raise NotImplementedError"
   ]
  },
  {
   "cell_type": "code",
   "execution_count": null,
   "metadata": {
    "deletable": false,
    "editable": false,
    "nbgrader": {
     "cell_type": "code",
     "checksum": "163e6192a97c89b4a83d8e71aa472460",
     "grade": true,
     "grade_id": "cell-303f4a3bd9b343f2",
     "locked": true,
     "points": 1,
     "schema_version": 3,
     "solution": false
    }
   },
   "outputs": [],
   "source": [
    "from hashlib import sha1\n",
    "assert sha1(str(type(answer4_1)).encode(\"utf-8\")+b\"8a78d2356e35700a\").hexdigest() == \"86cfc5848118f0d6507fb4fc7f72872dc0153d9d\", \"type of answer4_1 is not str. answer4_1 should be an str\"\n",
    "assert sha1(str(len(answer4_1)).encode(\"utf-8\")+b\"8a78d2356e35700a\").hexdigest() == \"fbda6cd6ba4203c0a62cd02846e05038a666f0c1\", \"length of answer4_1 is not correct\"\n",
    "assert sha1(str(answer4_1.lower()).encode(\"utf-8\")+b\"8a78d2356e35700a\").hexdigest() == \"1d553a8b2059b0cd3ac22beaf94cb248220a3efe\", \"value of answer4_1 is not correct\"\n",
    "assert sha1(str(answer4_1).encode(\"utf-8\")+b\"8a78d2356e35700a\").hexdigest() == \"d46f32e3a9f552795c749ec3909d077014003418\", \"correct string value of answer4_1 but incorrect case of letters\"\n",
    "\n",
    "print('Success!')"
   ]
  }
 ],
 "metadata": {
  "kernelspec": {
   "display_name": "Python 3 (ipykernel)",
   "language": "python",
   "name": "python3"
  },
  "language_info": {
   "codemirror_mode": {
    "name": "ipython",
    "version": 3
   },
   "file_extension": ".py",
   "mimetype": "text/x-python",
   "name": "python",
   "nbconvert_exporter": "python",
   "pygments_lexer": "ipython3",
   "version": "3.11.4"
  }
 },
 "nbformat": 4,
 "nbformat_minor": 4
}
