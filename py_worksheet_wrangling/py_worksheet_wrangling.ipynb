{
 "cells": [
  {
   "cell_type": "markdown",
   "metadata": {
    "deletable": false,
    "editable": false,
    "nbgrader": {
     "cell_type": "markdown",
     "checksum": "7007aa13ab6e48a0e71b59e247424b71",
     "grade": false,
     "grade_id": "cell-a3e4ac7f29e7ee20",
     "locked": true,
     "schema_version": 3,
     "solution": false,
     "task": false
    }
   },
   "source": [
    "# Worksheet 3: Cleaning and Wrangling Data\n",
    "\n",
    "\n",
    "### Lecture and Tutorial Learning Goals:\n",
    "\n",
    "After completing this week's lecture and tutorial work, you will be able to:\n",
    "\n",
    "* define the term \"tidy data\"\n",
    "* Explain when chaining is appropriate and demonstrate chaining over multiple lines and verbs.\n",
    "* discuss the advantages and disadvantages of storing data in a tidy data format\n",
    "* recall and use the following functions and methods for their intended data wrangling tasks:\n",
    "    - Use `loc[]` to select rows or columns.\n",
    "    - Use `[]` to filter rows of a data frame.\n",
    "    - Create new or columns in a data frame using `assign` method.\n",
    "    - Use `groupby` to calculate summary statistics on grouped objects \n",
    "    - Use `melt` and `pivot` to reshape data frames, specifically to make tidy data.\n",
    "    \n",
    "This worksheet covers parts of [Chapter 3](https://python.datasciencebook.ca/wrangling.html) of the online textbook. You should read this chapter before attempting the worksheet."
   ]
  },
  {
   "cell_type": "code",
   "execution_count": null,
   "metadata": {
    "deletable": false,
    "editable": false,
    "nbgrader": {
     "cell_type": "code",
     "checksum": "f97edcc48ad8ab17458573455b7ee656",
     "grade": false,
     "grade_id": "cell-9ad6a603a70e118a",
     "locked": true,
     "schema_version": 3,
     "solution": false,
     "task": false
    }
   },
   "outputs": [],
   "source": [
    "### Run this cell before continuing.\n",
    "import altair as alt\n",
    "import pandas as pd\n",
    "\n",
    "# Simplify working with large datasets in Altair\n",
    "alt.data_transformers.disable_max_rows()"
   ]
  },
  {
   "cell_type": "markdown",
   "metadata": {
    "deletable": false,
    "editable": false,
    "nbgrader": {
     "cell_type": "markdown",
     "checksum": "c4216c380079fd788b19c5542921ee63",
     "grade": false,
     "grade_id": "cell-0d59d96414adc1b8",
     "locked": true,
     "schema_version": 3,
     "solution": false,
     "task": false
    }
   },
   "source": [
    "**Question 0.0** Multiple Choice: \n",
    "<br> {points: 1}\n",
    "\n",
    "Which of the following characterize a tidy dataset? note - there may be more than 1 correct answers to this question\n",
    "\n",
    "A) Each row is a single variable\n",
    "\n",
    "B) There are no missing or erroneous values\n",
    "\n",
    "C) Each value is a single cell\n",
    "\n",
    "D) Each variable is a single column\n",
    "\n",
    "*Assign your answer to an object called `answer0_0` in the code chunk below. Make sure your answer contains uppercase letters and surround it with quotation marks and square brackets. If there are more than one answers to this question, separate each letter with a comma within the square brackets. For example if you believe the answer is A, B and C your answer would like this:\n",
    "`answer0_0 = ['A', 'B', 'C']`*\n",
    "\n"
   ]
  },
  {
   "cell_type": "code",
   "execution_count": null,
   "metadata": {
    "deletable": false,
    "nbgrader": {
     "cell_type": "code",
     "checksum": "aee20ce053bfd831dbf772b4cf3071fb",
     "grade": false,
     "grade_id": "cell-cffd5df5830ecafd",
     "locked": false,
     "schema_version": 3,
     "solution": true,
     "task": false
    }
   },
   "outputs": [],
   "source": [
    "# your code here\n",
    "raise NotImplementedError"
   ]
  },
  {
   "cell_type": "code",
   "execution_count": null,
   "metadata": {
    "deletable": false,
    "editable": false,
    "nbgrader": {
     "cell_type": "code",
     "checksum": "bf178cd352d79b528e8f0a6da790c4f4",
     "grade": true,
     "grade_id": "cell-0bea903e0f37148c",
     "locked": true,
     "points": 3,
     "schema_version": 3,
     "solution": false,
     "task": false
    }
   },
   "outputs": [],
   "source": [
    "from hashlib import sha1\n",
    "assert sha1(str(type(answer0_0)).encode(\"utf-8\")+b\"3bcbd9dcd9b22f07\").hexdigest() == \"5f16ac8b327012895158422c37b5868b371123f6\", \"type of answer0_0 is not list. answer0_0 should be a list\"\n",
    "assert sha1(str(len(answer0_0)).encode(\"utf-8\")+b\"3bcbd9dcd9b22f07\").hexdigest() == \"089aa9d01c1155d5492fb06a57eed6adf81870be\", \"length of answer0_0 is not correct\"\n",
    "assert sha1(str(sorted(map(str, answer0_0))).encode(\"utf-8\")+b\"3bcbd9dcd9b22f07\").hexdigest() == \"ae76ca890da2c0bca9c5213fa3ccdb6af4ebe4ea\", \"values of answer0_0 are not correct\"\n",
    "assert sha1(str(answer0_0).encode(\"utf-8\")+b\"3bcbd9dcd9b22f07\").hexdigest() == \"ae76ca890da2c0bca9c5213fa3ccdb6af4ebe4ea\", \"order of elements of answer0_0 is not correct\"\n",
    "\n",
    "print('Success!')"
   ]
  },
  {
   "cell_type": "markdown",
   "metadata": {
    "deletable": false,
    "editable": false,
    "nbgrader": {
     "cell_type": "markdown",
     "checksum": "5986685c6a02b07eeb16d1d5bfb2be14",
     "grade": false,
     "grade_id": "cell-77d758b913b7fb7d",
     "locked": true,
     "schema_version": 3,
     "solution": false
    }
   },
   "source": [
    "**Question 0.1** Multiple Choice: \n",
    "<br> {points: 1}\n",
    "\n",
    "The data below is wine ratings given for 3 wines by 5 different wine tasters. We are interested in seeing if Taster or Wine type influences the rating.  Given that motivation, which arrangement of the data set show below is \"tidy\"?,\n",
    "\n",
    "##### Data set 1:\n",
    "\n",
    "|     Taster       | Chardonnay | Pinot Grigio | Pinot Blanc |\n",
    "|------------|------------|--------------|-----------------|\n",
    "| 001 | 75         | 89           | 92              |\n",
    "| 002 | 89         | 88           | 89              |\n",
    "| 003 | 72         | 90           | 95              |\n",
    "| 004 | 85         | 81           | 90              |\n",
    "| 005 | 83         | 89           | 88              |\n",
    "\n",
    "##### Data set 2:\n",
    "\n",
    "|   Wine | Taster 001 | Taster 002 | Taster 003 | Taster 004 | Taster 005 |\n",
    "|------------|------------|--------------|-----------------|-------|---------|\n",
    "| Chardonnay | 75         | 89           | 72              | 85 | 83|\n",
    "| Pinot Grigio | 89         | 88           | 90             | 81 | 89 |\n",
    "| Pinot Blanc | 92         | 89           | 95              | 90 | 88 |\n",
    "\n",
    "##### Data set 3:\n",
    "\n",
    "| Taster           | Wine | Rating | \n",
    "|------------|------------|----|\n",
    "| 001 |  Chardonnay |  75         |\n",
    "| 002 |  Chardonnay | 89         | \n",
    "| 003 |  Chardonnay |72         | \n",
    "| 004 |  Chardonnay |85         | \n",
    "| 005 | Chardonnay | 83         | \n",
    "| 001 |  Pinot Grigio | 89         |\n",
    "| 002 |  Pinot Grigio | 88         | \n",
    "| 003 |  Pinot Grigio | 90         | \n",
    "| 004 |  Pinot Grigio | 81         |\n",
    "| 005 |  Pinot Grigio | 90         |\n",
    "| 001 |  Pinot Blanc | 92         |\n",
    "| 002 | Pinot Blanc | 89         |\n",
    "| 003 | Pinot Blanc | 95         | \n",
    "| 004 | Pinot Blanc | 90         |\n",
    "| 005 | Pinot Blanc | 88         | \n",
    "\n",
    "##### Data set 4:\n",
    "| Taster    | Chardonnay Rating | \n",
    "|------------|------------|\n",
    "| 001 |  75         | \n",
    "| 002 |   89         | \n",
    "| 003 |  72         |\n",
    "| 004 | 85         | \n",
    "| 005 | 83         |\n",
    "\n",
    "| Taster           | Pinot Grigio Rating | \n",
    "|------------|------------|\n",
    "| 001 |   89         |\n",
    "| 002 |  88         |\n",
    "| 003 |  90         | \n",
    "| 004 | 81         | \n",
    "| 005 |  90         | \n",
    "\n",
    "| Taster           | Pinot Blanc Rating | \n",
    "|------------|------------|\n",
    "| 001 |   92         | \n",
    "| 002 |  89         |\n",
    "| 003 |  95         | \n",
    "| 004 |  90         | \n",
    "| 005 |  88         | \n",
    "\n",
    "\n",
    "*Assign your answer to an object called `answer0_1`. Make sure your answer is surrounded by square brackets. If there are more than one answers to this question, separate each number with a comma in the square brackets. For example if you believe the answer is 1, 2 and 3 your answer would like this: `answer0_1` = [1, 2, 3]*"
   ]
  },
  {
   "cell_type": "code",
   "execution_count": null,
   "metadata": {
    "deletable": false,
    "nbgrader": {
     "cell_type": "code",
     "checksum": "cd8b3c0528decd8dba06d4ea554f9712",
     "grade": false,
     "grade_id": "cell-875bec2db6814c4e",
     "locked": false,
     "schema_version": 3,
     "solution": true
    }
   },
   "outputs": [],
   "source": [
    "# your code here\n",
    "raise NotImplementedError"
   ]
  },
  {
   "cell_type": "code",
   "execution_count": null,
   "metadata": {
    "deletable": false,
    "editable": false,
    "nbgrader": {
     "cell_type": "code",
     "checksum": "7651d161d187fe293f398f484d829030",
     "grade": true,
     "grade_id": "cell-7bc5804c8cd5900d",
     "locked": true,
     "points": 3,
     "schema_version": 3,
     "solution": false
    }
   },
   "outputs": [],
   "source": [
    "from hashlib import sha1\n",
    "assert sha1(str(type(answer0_1)).encode(\"utf-8\")+b\"89f9363d76dd1763\").hexdigest() == \"ad857cce67c75b74faebad9dd9c5b1154dc32700\", \"type of answer0_1 is not list. answer0_1 should be a list\"\n",
    "assert sha1(str(len(answer0_1)).encode(\"utf-8\")+b\"89f9363d76dd1763\").hexdigest() == \"8532f2ef1a61cf64d379483e18cf99866c2a8a10\", \"length of answer0_1 is not correct\"\n",
    "assert sha1(str(sorted(map(str, answer0_1))).encode(\"utf-8\")+b\"89f9363d76dd1763\").hexdigest() == \"706192550668c512741a5367e0fd250d718bb3ee\", \"values of answer0_1 are not correct\"\n",
    "assert sha1(str(answer0_1).encode(\"utf-8\")+b\"89f9363d76dd1763\").hexdigest() == \"db37b71debc38147bc105d87cf12f2da8bd333d1\", \"order of elements of answer0_1 is not correct\"\n",
    "\n",
    "print('Success!')"
   ]
  },
  {
   "cell_type": "markdown",
   "metadata": {
    "deletable": false,
    "editable": false,
    "nbgrader": {
     "cell_type": "markdown",
     "checksum": "d2ed92379f556830ac1525c090b35d10",
     "grade": false,
     "grade_id": "cell-216b6088d404c4fc",
     "locked": true,
     "schema_version": 3,
     "solution": false,
     "task": false
    }
   },
   "source": [
    "**Question 0.2** Multiple Choice: \n",
    "<br> {points: 1}\n",
    "\n",
    "To answer the question, assign the letter associated with the correct answer to a variable in the code cell below:\n",
    "\n",
    "Why is the primary goal of data wrangling getting dataframes into the tidy data format?\n",
    "\n",
    "A) Having data expressed in such a way, allows for easier readability and is more aesthetically pleasing.\n",
    "\n",
    "B) Tidy format uses less storage space on your computer.\n",
    "\n",
    "C) Many or most modern Data Science tools accept the tidy data format directly (or very close to that) and we need to get the data in a state ready for analysis.\n",
    "\n",
    "*Answer in the cell below using the uppercase letter associated with your answer. Place your answer between `\"\"`, assign the correct answer to an object called `answer0_2`.*"
   ]
  },
  {
   "cell_type": "code",
   "execution_count": null,
   "metadata": {
    "deletable": false,
    "nbgrader": {
     "cell_type": "code",
     "checksum": "810e78626bf0c8657d0f2fad682fb553",
     "grade": false,
     "grade_id": "cell-fc224cb5d19b5cc1",
     "locked": false,
     "schema_version": 3,
     "solution": true,
     "task": false
    }
   },
   "outputs": [],
   "source": [
    "# your code here\n",
    "raise NotImplementedError"
   ]
  },
  {
   "cell_type": "code",
   "execution_count": null,
   "metadata": {
    "deletable": false,
    "editable": false,
    "nbgrader": {
     "cell_type": "code",
     "checksum": "6c850a9feeaa4ea81fd0490ab2785f05",
     "grade": true,
     "grade_id": "cell-385b06349b0b7c8f",
     "locked": true,
     "points": 3,
     "schema_version": 3,
     "solution": false,
     "task": false
    }
   },
   "outputs": [],
   "source": [
    "from hashlib import sha1\n",
    "assert sha1(str(type(answer0_2)).encode(\"utf-8\")+b\"4d3fb27524f7f526\").hexdigest() == \"d46bc08bb9733aef35f658b3aaed2391e394d6d6\", \"type of answer0_2 is not str. answer0_2 should be an str\"\n",
    "assert sha1(str(len(answer0_2)).encode(\"utf-8\")+b\"4d3fb27524f7f526\").hexdigest() == \"50860092344525a24faa86cfb16907b421a78b24\", \"length of answer0_2 is not correct\"\n",
    "assert sha1(str(answer0_2.lower()).encode(\"utf-8\")+b\"4d3fb27524f7f526\").hexdigest() == \"f0dd1b101170a4758dcce8ecf96100c3c4a25b29\", \"value of answer0_2 is not correct\"\n",
    "assert sha1(str(answer0_2).encode(\"utf-8\")+b\"4d3fb27524f7f526\").hexdigest() == \"8fad530cf2a830d03c398de13f368abf3843244a\", \"correct string value of answer0_2 but incorrect case of letters\"\n",
    "\n",
    "print('Success!')"
   ]
  },
  {
   "cell_type": "markdown",
   "metadata": {
    "deletable": false,
    "editable": false,
    "nbgrader": {
     "cell_type": "markdown",
     "checksum": "317f20c17f2d4d8d5827409d56a65384",
     "grade": false,
     "grade_id": "cell-122d814c0cfa7294",
     "locked": true,
     "schema_version": 3,
     "solution": false
    }
   },
   "source": [
    "**Question 0.3** Multiple Choice: \n",
    "<br> {points: 1}\n",
    "\n",
    "For which scenario would using one of the `groupby` + `mean` be appropriate?\n",
    "\n",
    "A. To apply the same function to every row. \n",
    "\n",
    "B. To apply the same function to every column.\n",
    "\n",
    "C. To apply the same function to groups of rows. \n",
    "\n",
    "D. To apply the same function to groups of columns.\n",
    "\n",
    "*Assign your answer to an object called `answer0_3`.  Make sure your answer is an uppercase letter and is surrounded by quotation marks (e.g. `\"F\"`).*"
   ]
  },
  {
   "cell_type": "code",
   "execution_count": null,
   "metadata": {
    "deletable": false,
    "nbgrader": {
     "cell_type": "code",
     "checksum": "e966f4ad309952a5427ec79107785f91",
     "grade": false,
     "grade_id": "cell-85fb659000512dcd",
     "locked": false,
     "schema_version": 3,
     "solution": true
    }
   },
   "outputs": [],
   "source": [
    "# your code here\n",
    "raise NotImplementedError"
   ]
  },
  {
   "cell_type": "code",
   "execution_count": null,
   "metadata": {
    "deletable": false,
    "editable": false,
    "nbgrader": {
     "cell_type": "code",
     "checksum": "bb935f17d52c1e3f52b1a6d5f139ba34",
     "grade": true,
     "grade_id": "cell-386ada4b41ae9cae",
     "locked": true,
     "points": 3,
     "schema_version": 3,
     "solution": false
    }
   },
   "outputs": [],
   "source": [
    "from hashlib import sha1\n",
    "assert sha1(str(type(answer0_3)).encode(\"utf-8\")+b\"375979e346007b07\").hexdigest() == \"cbc3767712e53606f0fea697ab647fac6498109f\", \"type of answer0_3 is not str. answer0_3 should be an str\"\n",
    "assert sha1(str(len(answer0_3)).encode(\"utf-8\")+b\"375979e346007b07\").hexdigest() == \"b8c727dcc5181c79fcdcaee4b47e331e53fefc48\", \"length of answer0_3 is not correct\"\n",
    "assert sha1(str(answer0_3.lower()).encode(\"utf-8\")+b\"375979e346007b07\").hexdigest() == \"9ddb77f0b448e1c19680b0e02ad8e60bc139849e\", \"value of answer0_3 is not correct\"\n",
    "assert sha1(str(answer0_3).encode(\"utf-8\")+b\"375979e346007b07\").hexdigest() == \"93e3488706ca883ed5e01eb2f1c1033de01c640f\", \"correct string value of answer0_3 but incorrect case of letters\"\n",
    "\n",
    "print('Success!')"
   ]
  },
  {
   "cell_type": "markdown",
   "metadata": {
    "deletable": false,
    "editable": false,
    "nbgrader": {
     "cell_type": "markdown",
     "checksum": "8ce794daf58240c87dc3816f2d6868f2",
     "grade": false,
     "grade_id": "cell-fa871a669adbf899",
     "locked": true,
     "schema_version": 3,
     "solution": false,
     "task": false
    }
   },
   "source": [
    "## 1. Assessing avocado prices to inform restaurant menu planning\n",
    "\n",
    "It is a well known that millennials LOVE avocado toast (joking...well mostly 😉), and so many restaurants will offer menu items that centre around this delicious food! Like many food items, avocado prices fluctuate. So a restaurant who wants to maximize profits on avocado-containing dishes might ask if there are times when the price of avocados are less expensive to purchase? If such times exist, this is when the restaurant should put avocado-containing dishes on the menu to maximize their profits for those dishes. \n",
    "\n",
    "<img align=\"left\" src=\"https://www.averiecooks.com/wp-content/uploads/2017/07/egghole-2.jpg\" width=\"150\" />"
   ]
  },
  {
   "cell_type": "markdown",
   "metadata": {
    "deletable": false,
    "editable": false,
    "nbgrader": {
     "cell_type": "markdown",
     "checksum": "6f879185b3739704219c1e2c00a8c06c",
     "grade": false,
     "grade_id": "cell-f911d0be7d9dc7f7",
     "locked": true,
     "schema_version": 3,
     "solution": false,
     "task": false
    }
   },
   "source": [
    "*Source: https://www.averiecooks.com/egg-hole-avocado-toast/*\n",
    "\n",
    "To answer this question we will analyze a data set of avocado sales from multiple US markets. This data was downloaded from the [Hass Avocado Board website](http://www.hassavocadoboard.com/) in May of 2018 & compiled into a single CSV. Each row in the data set contains weekly sales data for a region. The data set spans the year 2015-2018.\n",
    "\n",
    "Some relevant columns in the dataset:\n",
    "\n",
    "- `Date` - The date in year-month-day format\n",
    "- `average_price` - The average price of a single avocado\n",
    "- `type` - conventional or organic\n",
    "- `yr` - The year\n",
    "- `region` - The city or region of the observation\n",
    "- `small_hass_volume` in pounds (lbs)\t\n",
    "- `large_hass_volume` in pounds (lbs)\t\t\n",
    "- `extra_l_hass_volume`\tin pounds (lbs)\t\n",
    "- `wk` - integer number for the calendar week in the year (e.g., first week of January is 1, and last week of December is 52).\n",
    "\n",
    "To answer our question of whether there are times in the year when avocados are typically less expensive (and thus we can make more profitable menu items with them at a restaurant) we will want to create a scatter plot of `average_price` (y-axis) versus `Date` (x-axis)."
   ]
  },
  {
   "cell_type": "markdown",
   "metadata": {
    "deletable": false,
    "editable": false,
    "nbgrader": {
     "cell_type": "markdown",
     "checksum": "8a026996f8a6e53e7a7369de878a4100",
     "grade": false,
     "grade_id": "cell-acb1e485a76f043b",
     "locked": true,
     "schema_version": 3,
     "solution": false
    }
   },
   "source": [
    "**Question 1.1** Multiple Choice:\n",
    "<br> {points: 1}\n",
    "\n",
    "Which of the following is not included in the `csv` file?\n",
    "\n",
    "A. Average price of a single avocado.\n",
    "\n",
    "B. The farming practice (production with/without the use of chemicals). \n",
    "\n",
    "C. Average price of a bag of avocados.\n",
    "\n",
    "D. All options are included in the data set.\n",
    "\n",
    "*Assign your answer to an object called `answer1_1`. Make sure your answer is an uppercase letter and is surrounded by quotation marks (e.g. `\"F\"`).* "
   ]
  },
  {
   "cell_type": "code",
   "execution_count": null,
   "metadata": {
    "deletable": false,
    "nbgrader": {
     "cell_type": "code",
     "checksum": "d236b41c7081f0845aba209e0a822347",
     "grade": false,
     "grade_id": "cell-39161480e71d9b43",
     "locked": false,
     "schema_version": 3,
     "solution": true
    }
   },
   "outputs": [],
   "source": [
    "# your code here\n",
    "raise NotImplementedError"
   ]
  },
  {
   "cell_type": "code",
   "execution_count": null,
   "metadata": {
    "deletable": false,
    "editable": false,
    "nbgrader": {
     "cell_type": "code",
     "checksum": "234da7a076c1c758b6d6af29b1b68377",
     "grade": true,
     "grade_id": "cell-1c278f180e20468f",
     "locked": true,
     "points": 3,
     "schema_version": 3,
     "solution": false
    }
   },
   "outputs": [],
   "source": [
    "from hashlib import sha1\n",
    "assert sha1(str(type(answer1_1)).encode(\"utf-8\")+b\"441e02e45d573b51\").hexdigest() == \"249d33760490372b5768521bc4b0137c3d542328\", \"type of answer1_1 is not str. answer1_1 should be an str\"\n",
    "assert sha1(str(len(answer1_1)).encode(\"utf-8\")+b\"441e02e45d573b51\").hexdigest() == \"6d612482b2321ae7bc680f58483237dda8111684\", \"length of answer1_1 is not correct\"\n",
    "assert sha1(str(answer1_1.lower()).encode(\"utf-8\")+b\"441e02e45d573b51\").hexdigest() == \"05a9d608c89eb0d92c4a7c743bc2d8bb465bee86\", \"value of answer1_1 is not correct\"\n",
    "assert sha1(str(answer1_1).encode(\"utf-8\")+b\"441e02e45d573b51\").hexdigest() == \"5c17d6acd2cd7b42bf23ee41e2f3cc3069b34442\", \"correct string value of answer1_1 but incorrect case of letters\"\n",
    "\n",
    "print('Success!')"
   ]
  },
  {
   "cell_type": "markdown",
   "metadata": {
    "deletable": false,
    "editable": false,
    "nbgrader": {
     "cell_type": "markdown",
     "checksum": "1fa28c377d50527d3a5230311f1c684e",
     "grade": false,
     "grade_id": "cell-56154f20b1c3af0b",
     "locked": true,
     "schema_version": 3,
     "solution": false
    }
   },
   "source": [
    "**Question 1.2** Multiple Choice:\n",
    "<br> {points: 1}\n",
    "\n",
    "The rows in the data frame represent:\n",
    "\n",
    "A. daily avocado sales data for a region\n",
    "\n",
    "B. weekly avocado sales data for a region\n",
    "\n",
    "C. bi-weekly avocado sales data for a region\n",
    "\n",
    "D. yearly avocado sales data for a region\n",
    "\n",
    "*Assign your answer to an object called `answer1_2`. Make sure your answer is an uppercase letter and is surrounded by quotation marks (e.g. `\"F\"`).*"
   ]
  },
  {
   "cell_type": "code",
   "execution_count": null,
   "metadata": {
    "deletable": false,
    "nbgrader": {
     "cell_type": "code",
     "checksum": "dbe4d74869841a52e2bc947887d5afb2",
     "grade": false,
     "grade_id": "cell-1d614695a9d4a4f9",
     "locked": false,
     "schema_version": 3,
     "solution": true
    }
   },
   "outputs": [],
   "source": [
    "# your code here\n",
    "raise NotImplementedError"
   ]
  },
  {
   "cell_type": "code",
   "execution_count": null,
   "metadata": {
    "deletable": false,
    "editable": false,
    "nbgrader": {
     "cell_type": "code",
     "checksum": "b69d6270ef26a794347f9b8cb07e6ffe",
     "grade": true,
     "grade_id": "cell-6adfe52857aa9333",
     "locked": true,
     "points": 3,
     "schema_version": 3,
     "solution": false
    }
   },
   "outputs": [],
   "source": [
    "from hashlib import sha1\n",
    "assert sha1(str(type(answer1_2)).encode(\"utf-8\")+b\"eb6d57c04aba05b5\").hexdigest() == \"2555b62bda2d990c7fddac0c41e3c5496df8e0ca\", \"type of answer1_2 is not str. answer1_2 should be an str\"\n",
    "assert sha1(str(len(answer1_2)).encode(\"utf-8\")+b\"eb6d57c04aba05b5\").hexdigest() == \"cde50847e249ebdec21a2f5782b1a054b4cdf7c3\", \"length of answer1_2 is not correct\"\n",
    "assert sha1(str(answer1_2.lower()).encode(\"utf-8\")+b\"eb6d57c04aba05b5\").hexdigest() == \"f09954ddda63c4398933fc1362f891f454f5ccaf\", \"value of answer1_2 is not correct\"\n",
    "assert sha1(str(answer1_2).encode(\"utf-8\")+b\"eb6d57c04aba05b5\").hexdigest() == \"61da6a86ea74970e35fb835b9f3d61b992657958\", \"correct string value of answer1_2 but incorrect case of letters\"\n",
    "\n",
    "print('Success!')"
   ]
  },
  {
   "cell_type": "markdown",
   "metadata": {
    "deletable": false,
    "editable": false,
    "nbgrader": {
     "cell_type": "markdown",
     "checksum": "90a4dee0b159c2090552aacf6083e1ea",
     "grade": false,
     "grade_id": "cell-7e263f37387da63d",
     "locked": true,
     "schema_version": 3,
     "solution": false
    }
   },
   "source": [
    "**Question 1.3** \n",
    "<br> {points: 1}\n",
    "\n",
    "The first step to plotting total volume against average price is to read the file `avocado_prices.csv` using the shortest relative path. The data file was given to you along with this worksheet, but you will have to look to see where it is in the `data` directory to correctly load it. When you do this, you should also preview the file to help you choose an appropriate `.read_*` function to read the data.\n",
    "\n",
    "*Assign your answer to an object called `avocado`.* "
   ]
  },
  {
   "cell_type": "code",
   "execution_count": null,
   "metadata": {
    "deletable": false,
    "nbgrader": {
     "cell_type": "code",
     "checksum": "08aaa424342cce98facbc1424c23dfbe",
     "grade": false,
     "grade_id": "cell-434656ab0b99d8bd",
     "locked": false,
     "schema_version": 3,
     "solution": true
    }
   },
   "outputs": [],
   "source": [
    "# ___ = ___(\"___\")\n",
    "\n",
    "# your code here\n",
    "raise NotImplementedError\n",
    "avocado"
   ]
  },
  {
   "cell_type": "code",
   "execution_count": null,
   "metadata": {
    "deletable": false,
    "editable": false,
    "nbgrader": {
     "cell_type": "code",
     "checksum": "c173d78c447fa80f6f879c37a039d05f",
     "grade": true,
     "grade_id": "cell-a968fbd8b038ba4b",
     "locked": true,
     "points": 3,
     "schema_version": 3,
     "solution": false
    }
   },
   "outputs": [],
   "source": [
    "from hashlib import sha1\n",
    "assert sha1(str(type(avocado is None)).encode(\"utf-8\")+b\"24d20a3d9829ebb6\").hexdigest() == \"a8b72bbb5161fcd093163005b74c0f54eef0d53c\", \"type of avocado is None is not bool. avocado is None should be a bool\"\n",
    "assert sha1(str(avocado is None).encode(\"utf-8\")+b\"24d20a3d9829ebb6\").hexdigest() == \"3fbeb56b6ab8476e072c3f37908b867226eb26e7\", \"boolean value of avocado is None is not correct\"\n",
    "\n",
    "assert sha1(str(type(avocado)).encode(\"utf-8\")+b\"077b338e56b4c208\").hexdigest() == \"43cf3015f5cc60a2c0f00a2cfcf76ccdd5c39c15\", \"type of type(avocado) is not correct\"\n",
    "\n",
    "assert sha1(str(type(avocado.shape)).encode(\"utf-8\")+b\"59629926485f758e\").hexdigest() == \"70c4148005e35fbc207484cc3fd910e439cdce4d\", \"type of avocado.shape is not tuple. avocado.shape should be a tuple\"\n",
    "assert sha1(str(len(avocado.shape)).encode(\"utf-8\")+b\"59629926485f758e\").hexdigest() == \"d8e3ed0d6b5df7192a701c716b12a63fe253335d\", \"length of avocado.shape is not correct\"\n",
    "assert sha1(str(sorted(map(str, avocado.shape))).encode(\"utf-8\")+b\"59629926485f758e\").hexdigest() == \"82d61a3c8bc7727d0e3b6fd920d26a41e64ee5e7\", \"values of avocado.shape are not correct\"\n",
    "assert sha1(str(avocado.shape).encode(\"utf-8\")+b\"59629926485f758e\").hexdigest() == \"0340e7ad8eded332873a467726dfa57583c6f258\", \"order of elements of avocado.shape is not correct\"\n",
    "\n",
    "assert sha1(str(type(avocado.columns.values)).encode(\"utf-8\")+b\"f24ed744fc6c8500\").hexdigest() == \"21aec4a20ec228ce848682956337337930dd69d5\", \"type of avocado.columns.values is not correct\"\n",
    "assert sha1(str(avocado.columns.values).encode(\"utf-8\")+b\"f24ed744fc6c8500\").hexdigest() == \"249a0a5f3df981b3b52512cb93132514f3b33531\", \"value of avocado.columns.values is not correct\"\n",
    "\n",
    "print('Success!')"
   ]
  },
  {
   "cell_type": "markdown",
   "metadata": {
    "deletable": false,
    "editable": false,
    "nbgrader": {
     "cell_type": "markdown",
     "checksum": "7c89d17600705e7016c7708d5448173a",
     "grade": false,
     "grade_id": "cell-80ee505836e01bce",
     "locked": true,
     "schema_version": 3,
     "solution": false,
     "task": false
    }
   },
   "source": [
    "**Question 1.4**\n",
    "\n",
    "{points: 1}\n",
    "\n",
    "To answer our question, let's now create the scatter plot where we plot `average_price` on the y-axis versus `Date` on the x-axis. Fill in the `___` in the cell below. \n",
    "\n",
    "*Assign your answer to an object called `avocado_plot`. Don't forget to create proper English axis labels.*"
   ]
  },
  {
   "cell_type": "code",
   "execution_count": null,
   "metadata": {
    "deletable": false,
    "nbgrader": {
     "cell_type": "code",
     "checksum": "fac499116b5eda71b7e615cb9b75046f",
     "grade": false,
     "grade_id": "cell-fd8156be131e6ab6",
     "locked": false,
     "schema_version": 3,
     "solution": true
    }
   },
   "outputs": [],
   "source": [
    "# ___ = alt.Chart(___).mark_point().encode(\n",
    "#     x=alt.X(___).title(___),\n",
    "#     y=alt.Y(___).title(___)\n",
    "# )\n",
    "\n",
    "# your code here\n",
    "raise NotImplementedError\n",
    "avocado_plot"
   ]
  },
  {
   "cell_type": "code",
   "execution_count": null,
   "metadata": {
    "deletable": false,
    "editable": false,
    "nbgrader": {
     "cell_type": "code",
     "checksum": "40dd833302a3eb4ab15d0bd8cbeb586a",
     "grade": true,
     "grade_id": "cell-89b7338558e28dbc",
     "locked": true,
     "points": 1,
     "schema_version": 3,
     "solution": false
    }
   },
   "outputs": [],
   "source": [
    "from hashlib import sha1\n",
    "assert sha1(str(type(avocado_plot is None)).encode(\"utf-8\")+b\"6360478d5416e3f4\").hexdigest() == \"9c4da7c2bea85ad42bd61bd437e1ccdaad41c495\", \"type of avocado_plot is None is not bool. avocado_plot is None should be a bool\"\n",
    "assert sha1(str(avocado_plot is None).encode(\"utf-8\")+b\"6360478d5416e3f4\").hexdigest() == \"c54531d62c07ae03ce4f9a0bf50132489d203dd8\", \"boolean value of avocado_plot is None is not correct\"\n",
    "\n",
    "assert sha1(str(type(avocado_plot.encoding.x['shorthand'])).encode(\"utf-8\")+b\"1edfa49cde1fb903\").hexdigest() == \"e1b17aec7a7799b95350bdc961879be8d1688c73\", \"type of avocado_plot.encoding.x['shorthand'] is not str. avocado_plot.encoding.x['shorthand'] should be an str\"\n",
    "assert sha1(str(len(avocado_plot.encoding.x['shorthand'])).encode(\"utf-8\")+b\"1edfa49cde1fb903\").hexdigest() == \"0990e570bcaac4075c779f0e43b97151078d3173\", \"length of avocado_plot.encoding.x['shorthand'] is not correct\"\n",
    "assert sha1(str(avocado_plot.encoding.x['shorthand'].lower()).encode(\"utf-8\")+b\"1edfa49cde1fb903\").hexdigest() == \"87073773f4f34132ee06e9c0ad7b63412841b436\", \"value of avocado_plot.encoding.x['shorthand'] is not correct\"\n",
    "assert sha1(str(avocado_plot.encoding.x['shorthand']).encode(\"utf-8\")+b\"1edfa49cde1fb903\").hexdigest() == \"229b33a83446299e89011e3ec0436014a3309263\", \"correct string value of avocado_plot.encoding.x['shorthand'] but incorrect case of letters\"\n",
    "\n",
    "assert sha1(str(type(avocado_plot.encoding.y['shorthand'])).encode(\"utf-8\")+b\"63d3b1d2be6963ad\").hexdigest() == \"3b031312a077e863d779431be5d952c4ec26b5a8\", \"type of avocado_plot.encoding.y['shorthand'] is not str. avocado_plot.encoding.y['shorthand'] should be an str\"\n",
    "assert sha1(str(len(avocado_plot.encoding.y['shorthand'])).encode(\"utf-8\")+b\"63d3b1d2be6963ad\").hexdigest() == \"f18717f20724a2924baf0c804e40ad40ab81165a\", \"length of avocado_plot.encoding.y['shorthand'] is not correct\"\n",
    "assert sha1(str(avocado_plot.encoding.y['shorthand'].lower()).encode(\"utf-8\")+b\"63d3b1d2be6963ad\").hexdigest() == \"e0e663fe1de2711d4096817d56f9ecb6e6d5d4d7\", \"value of avocado_plot.encoding.y['shorthand'] is not correct\"\n",
    "assert sha1(str(avocado_plot.encoding.y['shorthand']).encode(\"utf-8\")+b\"63d3b1d2be6963ad\").hexdigest() == \"e0e663fe1de2711d4096817d56f9ecb6e6d5d4d7\", \"correct string value of avocado_plot.encoding.y['shorthand'] but incorrect case of letters\"\n",
    "\n",
    "assert sha1(str(type(avocado_plot.mark)).encode(\"utf-8\")+b\"bb7b6cc56f9d4d8e\").hexdigest() == \"6cc974966c0691751269648fd2981989bae14c85\", \"type of avocado_plot.mark is not str. avocado_plot.mark should be an str\"\n",
    "assert sha1(str(len(avocado_plot.mark)).encode(\"utf-8\")+b\"bb7b6cc56f9d4d8e\").hexdigest() == \"0e8434a54b0cffdfbd6e3a48462685f0f2a8348a\", \"length of avocado_plot.mark is not correct\"\n",
    "assert sha1(str(avocado_plot.mark.lower()).encode(\"utf-8\")+b\"bb7b6cc56f9d4d8e\").hexdigest() == \"d89614b983ce78575f667e1a01dc20e33ac33b1c\", \"value of avocado_plot.mark is not correct\"\n",
    "assert sha1(str(avocado_plot.mark).encode(\"utf-8\")+b\"bb7b6cc56f9d4d8e\").hexdigest() == \"d89614b983ce78575f667e1a01dc20e33ac33b1c\", \"correct string value of avocado_plot.mark but incorrect case of letters\"\n",
    "\n",
    "assert sha1(str(type(isinstance(avocado_plot.encoding.y['title'], str))).encode(\"utf-8\")+b\"fe8b20a2eb1c45d6\").hexdigest() == \"fc7a0c8422feade2627d57559ca20d5491bb4356\", \"type of isinstance(avocado_plot.encoding.y['title'], str) is not bool. isinstance(avocado_plot.encoding.y['title'], str) should be a bool\"\n",
    "assert sha1(str(isinstance(avocado_plot.encoding.y['title'], str)).encode(\"utf-8\")+b\"fe8b20a2eb1c45d6\").hexdigest() == \"0c484453c5f067c982e0f8501b7bd212831f80e9\", \"boolean value of isinstance(avocado_plot.encoding.y['title'], str) is not correct\"\n",
    "\n",
    "assert sha1(str(type(isinstance(avocado_plot.encoding.x['title'], str))).encode(\"utf-8\")+b\"47de8326e01f05dd\").hexdigest() == \"557d4291b844e9b21f7a08de2bc98db97632fb2d\", \"type of isinstance(avocado_plot.encoding.x['title'], str) is not bool. isinstance(avocado_plot.encoding.x['title'], str) should be a bool\"\n",
    "assert sha1(str(isinstance(avocado_plot.encoding.x['title'], str)).encode(\"utf-8\")+b\"47de8326e01f05dd\").hexdigest() == \"ac7656aac058d8e11fc03843d770f43ea446b313\", \"boolean value of isinstance(avocado_plot.encoding.x['title'], str) is not correct\"\n",
    "\n",
    "print('Success!')"
   ]
  },
  {
   "cell_type": "markdown",
   "metadata": {
    "deletable": false,
    "editable": false,
    "nbgrader": {
     "cell_type": "markdown",
     "checksum": "86f6e3df6a50f63a8b5fd49234680a37",
     "grade": false,
     "grade_id": "cell-f5bf4e53775781f8",
     "locked": true,
     "schema_version": 3,
     "solution": false,
     "task": false
    }
   },
   "source": [
    "This is a big plot! You can scroll and maybe see some trends, but really what we see in the plot above is not very informative. Why? Because there is a lot of overplotting (data points sitting on top of other data points). What can we do? One solution is to reduce/aggregate the data in a meaningful way to help anwer our question. Remember that we are interested in determining if there are times when the price of avocados are less expensive so that we can recommend when restaurants should put dishes on the menu that contain avocado to maximize their profits for those dishes.\n",
    "\n",
    "In the data we plotted above, each row is the total sales for avocados for that region for each year. Lets use `.groupby` + `.mean` calculate the average price for each week across years and region. We can then plot that aggregated price against the week and perhaps get a clearer picture."
   ]
  },
  {
   "cell_type": "markdown",
   "metadata": {
    "deletable": false,
    "editable": false,
    "nbgrader": {
     "cell_type": "markdown",
     "checksum": "0951f84f24205b00aca078de96c04031",
     "grade": false,
     "grade_id": "cell-07909555b45c6c28",
     "locked": true,
     "schema_version": 3,
     "solution": false
    }
   },
   "source": [
    "**Question 1.5**\n",
    "<br> {points: 1}\n",
    "\n",
    "Create a reduced/aggregated version of the `avocado` data set and name it `avocado_aggregate`. To do this you will want to `groupby` the `wk` column and then use `mean` to calculate the average price. We pass `numeric_only=True` to tell pandas that we want the mean only of the numeric columns. Note: after applying `groupby` to the dataframe, it will automatically set the `groupby` column as index. Since we would like to use the `wk` column later in the plot, we would apply `reset_index` to reset the index for the dataframe.\n",
    "\n",
    "*Assign your answer to an object called `avocado_aggregate`.*"
   ]
  },
  {
   "cell_type": "code",
   "execution_count": null,
   "metadata": {
    "deletable": false,
    "nbgrader": {
     "cell_type": "code",
     "checksum": "5aec532f49434ebec6a1885829e1f0aa",
     "grade": false,
     "grade_id": "cell-25fc8f43f1d193db",
     "locked": false,
     "schema_version": 3,
     "solution": true
    }
   },
   "outputs": [],
   "source": [
    "# ___ = ___.groupby(___).mean(numeric_only=True).reset_index()\n",
    "\n",
    "# your code here\n",
    "raise NotImplementedError\n",
    "avocado_aggregate.head()"
   ]
  },
  {
   "cell_type": "code",
   "execution_count": null,
   "metadata": {
    "deletable": false,
    "editable": false,
    "nbgrader": {
     "cell_type": "code",
     "checksum": "1f55e96053924304511c1c30ecb48bc6",
     "grade": true,
     "grade_id": "cell-81ec3e479caeb7d7",
     "locked": true,
     "points": 3,
     "schema_version": 3,
     "solution": false
    }
   },
   "outputs": [],
   "source": [
    "from hashlib import sha1\n",
    "assert str(type(avocado_aggregate is None)) == \"<class 'bool'>\", \"type of avocado_aggregate is None is not bool. avocado_aggregate is None should be a bool\"\n",
    "assert str(avocado_aggregate is None) == \"False\", \"boolean value of avocado_aggregate is None is not correct\"\n",
    "\n",
    "assert str(type(avocado_aggregate.shape)) == \"<class 'tuple'>\", \"type of avocado_aggregate.shape is not tuple. avocado_aggregate.shape should be a tuple\"\n",
    "assert str(len(avocado_aggregate.shape)) == \"2\", \"length of avocado_aggregate.shape is not correct\"\n",
    "assert str(sorted(map(str, avocado_aggregate.shape))) == \"['53', '6']\", \"values of avocado_aggregate.shape are not correct\"\n",
    "assert str(avocado_aggregate.shape) == \"(53, 6)\", \"order of elements of avocado_aggregate.shape is not correct\"\n",
    "\n",
    "assert sha1(str(type(sum(avocado_aggregate.wk))).encode(\"utf-8\")+b\"d04806bcb713e338\").hexdigest() == \"776c6d9f2acab4bfbb243bbaa48517af1b58c229\", \"type of sum(avocado_aggregate.wk) is not int. Please make sure it is int and not np.int64, etc. You can cast your value into an int using int()\"\n",
    "assert sha1(str(sum(avocado_aggregate.wk)).encode(\"utf-8\")+b\"d04806bcb713e338\").hexdigest() == \"bbfbe1aec576e3acd4a35fc9ecbe137ee81d8718\", \"value of sum(avocado_aggregate.wk) is not correct\"\n",
    "\n",
    "assert sha1(str(type(sum(avocado_aggregate.average_price))).encode(\"utf-8\")+b\"9809da6871eeb744\").hexdigest() == \"b85b3aa33dc6b6b6d106e1cea0c0987acdd6a5bc\", \"type of sum(avocado_aggregate.average_price) is not float. Please make sure it is float and not np.float64, etc. You can cast your value into a float using float()\"\n",
    "assert sha1(str(round(sum(avocado_aggregate.average_price), 2)).encode(\"utf-8\")+b\"9809da6871eeb744\").hexdigest() == \"282374e0f461937ced272367ab2733702e544186\", \"value of sum(avocado_aggregate.average_price) is not correct (rounded to 2 decimal places)\"\n",
    "\n",
    "print('Success!')"
   ]
  },
  {
   "cell_type": "markdown",
   "metadata": {
    "deletable": false,
    "editable": false,
    "nbgrader": {
     "cell_type": "markdown",
     "checksum": "0e9fa0be1db32e8383950f87e117b938",
     "grade": false,
     "grade_id": "cell-aa0422ac0aade558",
     "locked": true,
     "schema_version": 3,
     "solution": false
    }
   },
   "source": [
    "**Question 1.6**\n",
    "<br> {points: 1}\n",
    "\n",
    "Now let's take the `avocado_aggregate` data frame and use it to create a scatter plot where we plot `average_price` on the y-axis versus `wk` on the x-axis. \n",
    "\n",
    "*Assign your answer to an object called `avocado_aggregate_plot`. Don't forget to create proper English axis titles.*"
   ]
  },
  {
   "cell_type": "code",
   "execution_count": null,
   "metadata": {
    "deletable": false,
    "nbgrader": {
     "cell_type": "code",
     "checksum": "6c183fb305c229ab93e3d58a940ea7d3",
     "grade": false,
     "grade_id": "cell-e081bf3fd0e40162",
     "locked": false,
     "schema_version": 3,
     "solution": true
    }
   },
   "outputs": [],
   "source": [
    "# ___ = alt.Chart(___).mark_point().encode(\n",
    "#     x=alt.X(___).title(___),\n",
    "#     y=alt.Y(___)\n",
    "#         .title(____)\n",
    "#         .scale(zero=False)\n",
    "# )\n",
    "\n",
    "\n",
    "# your code here\n",
    "raise NotImplementedError\n",
    "avocado_aggregate_plot"
   ]
  },
  {
   "cell_type": "code",
   "execution_count": null,
   "metadata": {
    "deletable": false,
    "editable": false,
    "nbgrader": {
     "cell_type": "code",
     "checksum": "b27629678329f6985d1793f47bd00c75",
     "grade": true,
     "grade_id": "cell-d70b07b4c2dc0202",
     "locked": true,
     "points": 1,
     "schema_version": 3,
     "solution": false
    }
   },
   "outputs": [],
   "source": [
    "from hashlib import sha1\n",
    "assert sha1(str(type(avocado_aggregate_plot is None)).encode(\"utf-8\")+b\"b77d982418a5b047\").hexdigest() == \"ab1ff9070fa6df3f50677b8a35502477f57ec799\", \"type of avocado_aggregate_plot is None is not bool. avocado_aggregate_plot is None should be a bool\"\n",
    "assert sha1(str(avocado_aggregate_plot is None).encode(\"utf-8\")+b\"b77d982418a5b047\").hexdigest() == \"dd46973f8e0790cb8dfd94793d8e240d8e8025e5\", \"boolean value of avocado_aggregate_plot is None is not correct\"\n",
    "\n",
    "assert sha1(str(type(avocado_aggregate_plot.encoding.x['shorthand'])).encode(\"utf-8\")+b\"daf8bf19110b2e5f\").hexdigest() == \"533ce8ac6b1630a91f878f1bf3902b22ea1382b5\", \"type of avocado_aggregate_plot.encoding.x['shorthand'] is not str. avocado_aggregate_plot.encoding.x['shorthand'] should be an str\"\n",
    "assert sha1(str(len(avocado_aggregate_plot.encoding.x['shorthand'])).encode(\"utf-8\")+b\"daf8bf19110b2e5f\").hexdigest() == \"03f6b96ca29d1897af6fbd463c421a66bdb875dc\", \"length of avocado_aggregate_plot.encoding.x['shorthand'] is not correct\"\n",
    "assert sha1(str(avocado_aggregate_plot.encoding.x['shorthand'].lower()).encode(\"utf-8\")+b\"daf8bf19110b2e5f\").hexdigest() == \"4d31b099b07385d846a6a9454f805fc3699f33eb\", \"value of avocado_aggregate_plot.encoding.x['shorthand'] is not correct\"\n",
    "assert sha1(str(avocado_aggregate_plot.encoding.x['shorthand']).encode(\"utf-8\")+b\"daf8bf19110b2e5f\").hexdigest() == \"4d31b099b07385d846a6a9454f805fc3699f33eb\", \"correct string value of avocado_aggregate_plot.encoding.x['shorthand'] but incorrect case of letters\"\n",
    "\n",
    "assert sha1(str(type(avocado_aggregate_plot.encoding.y['shorthand'])).encode(\"utf-8\")+b\"0f76920c3f9bd663\").hexdigest() == \"c88822f21eb41b0875327df03b3e48eedab374b2\", \"type of avocado_aggregate_plot.encoding.y['shorthand'] is not str. avocado_aggregate_plot.encoding.y['shorthand'] should be an str\"\n",
    "assert sha1(str(len(avocado_aggregate_plot.encoding.y['shorthand'])).encode(\"utf-8\")+b\"0f76920c3f9bd663\").hexdigest() == \"c45e911957aea47af20f97e24bfc3a74062d4dae\", \"length of avocado_aggregate_plot.encoding.y['shorthand'] is not correct\"\n",
    "assert sha1(str(avocado_aggregate_plot.encoding.y['shorthand'].lower()).encode(\"utf-8\")+b\"0f76920c3f9bd663\").hexdigest() == \"79961e7150c97392396edeef4b515dd18e520f0b\", \"value of avocado_aggregate_plot.encoding.y['shorthand'] is not correct\"\n",
    "assert sha1(str(avocado_aggregate_plot.encoding.y['shorthand']).encode(\"utf-8\")+b\"0f76920c3f9bd663\").hexdigest() == \"79961e7150c97392396edeef4b515dd18e520f0b\", \"correct string value of avocado_aggregate_plot.encoding.y['shorthand'] but incorrect case of letters\"\n",
    "\n",
    "assert sha1(str(type(avocado_aggregate_plot.mark)).encode(\"utf-8\")+b\"0e02baebb373686c\").hexdigest() == \"14d3c04f3a7d41f5eb962d7df43da833310ae793\", \"type of avocado_aggregate_plot.mark is not str. avocado_aggregate_plot.mark should be an str\"\n",
    "assert sha1(str(len(avocado_aggregate_plot.mark)).encode(\"utf-8\")+b\"0e02baebb373686c\").hexdigest() == \"8d3c586d010a9f1163964405e95dc8d2cc53aeba\", \"length of avocado_aggregate_plot.mark is not correct\"\n",
    "assert sha1(str(avocado_aggregate_plot.mark.lower()).encode(\"utf-8\")+b\"0e02baebb373686c\").hexdigest() == \"83ccbd29e0ef2a2b998d526a886a33cac17e5c0c\", \"value of avocado_aggregate_plot.mark is not correct\"\n",
    "assert sha1(str(avocado_aggregate_plot.mark).encode(\"utf-8\")+b\"0e02baebb373686c\").hexdigest() == \"83ccbd29e0ef2a2b998d526a886a33cac17e5c0c\", \"correct string value of avocado_aggregate_plot.mark but incorrect case of letters\"\n",
    "\n",
    "assert sha1(str(type(isinstance(avocado_aggregate_plot.encoding.x['title'], str))).encode(\"utf-8\")+b\"9c0e5948607d63e2\").hexdigest() == \"1f7ccf6c3a1448f978882d96daf9654c04608cd4\", \"type of isinstance(avocado_aggregate_plot.encoding.x['title'], str) is not bool. isinstance(avocado_aggregate_plot.encoding.x['title'], str) should be a bool\"\n",
    "assert sha1(str(isinstance(avocado_aggregate_plot.encoding.x['title'], str)).encode(\"utf-8\")+b\"9c0e5948607d63e2\").hexdigest() == \"2410afe61c9b646a8b8af33232d744126e7ee0cd\", \"boolean value of isinstance(avocado_aggregate_plot.encoding.x['title'], str) is not correct\"\n",
    "\n",
    "assert sha1(str(type(isinstance(avocado_aggregate_plot.encoding.y['title'], str))).encode(\"utf-8\")+b\"7e7d69a745dee448\").hexdigest() == \"04de2e111770b19cca130c99ac6ed6ba03868837\", \"type of isinstance(avocado_aggregate_plot.encoding.y['title'], str) is not bool. isinstance(avocado_aggregate_plot.encoding.y['title'], str) should be a bool\"\n",
    "assert sha1(str(isinstance(avocado_aggregate_plot.encoding.y['title'], str)).encode(\"utf-8\")+b\"7e7d69a745dee448\").hexdigest() == \"84657413f4c2f8b2ced72a23bddf6130023e7ac7\", \"boolean value of isinstance(avocado_aggregate_plot.encoding.y['title'], str) is not correct\"\n",
    "\n",
    "print('Success!')"
   ]
  },
  {
   "cell_type": "markdown",
   "metadata": {
    "deletable": false,
    "editable": false,
    "nbgrader": {
     "cell_type": "markdown",
     "checksum": "536f294b841952b053e6f231262c2319",
     "grade": false,
     "grade_id": "cell-b8dfe798ae35428d",
     "locked": true,
     "schema_version": 3,
     "solution": false,
     "task": false
    }
   },
   "source": [
    "We can now see that the prices of avocados does indeed fluctuate throughout the year. And we could use this information to recommend to restaurants that if they want to maximize profit from menu items that contain avocados, they should only offer them on the menu roughly between December and May. \n",
    "\n",
    "Why might this happen? Perhaps price has something to do with supply? We can also use this data set to get some insight into that question by plotting total avocado volume (y-axis) versus week. To do this, we will first have to create a column called `total_volume` whose value is the sum of the small, large and extra large-sized avocado volumes. To do this we will have to go back to the original `avocado` data frame we loaded."
   ]
  },
  {
   "cell_type": "markdown",
   "metadata": {
    "deletable": false,
    "editable": false,
    "nbgrader": {
     "cell_type": "markdown",
     "checksum": "5c294fea4a8f49eb5936c7df453ca4a8",
     "grade": false,
     "grade_id": "cell-11acd47d959662ee",
     "locked": true,
     "schema_version": 3,
     "solution": false
    }
   },
   "source": [
    "**Question 1.7**\n",
    "<br> {points: 1}\n",
    "\n",
    "Our next step to plotting `total_volume` per week against week is to create a new column in the `avocado` data frame called `total_volume` which is equal to the sum of all three volume columns:\n",
    "\n",
    "Fill in the `___` in the cell below. "
   ]
  },
  {
   "cell_type": "code",
   "execution_count": null,
   "metadata": {
    "deletable": false,
    "nbgrader": {
     "cell_type": "code",
     "checksum": "e0e6eab05416f293de5caaa5fd775afd",
     "grade": false,
     "grade_id": "cell-20ec4476bb9540db",
     "locked": false,
     "schema_version": 3,
     "solution": true
    }
   },
   "outputs": [],
   "source": [
    "# avocado = avocado.assign(___=___ + ___ + ___\n",
    "\n",
    "# your code here\n",
    "raise NotImplementedError\n",
    "avocado"
   ]
  },
  {
   "cell_type": "code",
   "execution_count": null,
   "metadata": {
    "deletable": false,
    "editable": false,
    "nbgrader": {
     "cell_type": "code",
     "checksum": "2f0e9b49e7a6122e7778f34f3bdb4489",
     "grade": true,
     "grade_id": "cell-1b331febb2ce27b5",
     "locked": true,
     "points": 3,
     "schema_version": 3,
     "solution": false
    }
   },
   "outputs": [],
   "source": [
    "from hashlib import sha1\n",
    "assert str(type(avocado is None)) == \"<class 'bool'>\", \"type of avocado is None is not bool. avocado is None should be a bool\"\n",
    "assert str(avocado is None) == \"False\", \"boolean value of avocado is None is not correct\"\n",
    "\n",
    "assert str(type(avocado.shape)) == \"<class 'tuple'>\", \"type of avocado.shape is not tuple. avocado.shape should be a tuple\"\n",
    "assert str(len(avocado.shape)) == \"2\", \"length of avocado.shape is not correct\"\n",
    "assert str(sorted(map(str, avocado.shape))) == \"['10', '17911']\", \"values of avocado.shape are not correct\"\n",
    "assert str(avocado.shape) == \"(17911, 10)\", \"order of elements of avocado.shape is not correct\"\n",
    "\n",
    "assert sha1(str(type(sum(avocado.total_volume.dropna()))).encode(\"utf-8\")+b\"ab97604f4bd2edfc\").hexdigest() == \"cdd95573141df20eee65d80873ea71b1ccb09c77\", \"type of sum(avocado.total_volume.dropna()) is not float. Please make sure it is float and not np.float64, etc. You can cast your value into a float using float()\"\n",
    "assert sha1(str(round(sum(avocado.total_volume.dropna()), 2)).encode(\"utf-8\")+b\"ab97604f4bd2edfc\").hexdigest() == \"147ff033dc7cef656eb9de60023c1922157cb5e8\", \"value of sum(avocado.total_volume.dropna()) is not correct (rounded to 2 decimal places)\"\n",
    "\n",
    "print('Success!')"
   ]
  },
  {
   "cell_type": "markdown",
   "metadata": {
    "deletable": false,
    "editable": false,
    "nbgrader": {
     "cell_type": "markdown",
     "checksum": "25d9eb34d5c359093e35b0249e5ffbb9",
     "grade": false,
     "grade_id": "cell-97fc42a8c2d802d8",
     "locked": true,
     "schema_version": 3,
     "solution": false
    }
   },
   "source": [
    "**Question 1.8** \n",
    "<br> {points: 1}\n",
    "\n",
    "Now, create another reduced/aggregated version of the `avocado` data frame and name it `avocado_aggregate_2`. To do this you will want to `groupby` the `wk` column and then use `mean` to calculate the average total volume."
   ]
  },
  {
   "cell_type": "code",
   "execution_count": null,
   "metadata": {
    "deletable": false,
    "nbgrader": {
     "cell_type": "code",
     "checksum": "0b37607a17da05c1b67810d6cb435373",
     "grade": false,
     "grade_id": "cell-d3d0314b483daf3c",
     "locked": false,
     "schema_version": 3,
     "solution": true
    }
   },
   "outputs": [],
   "source": [
    "# ___ = ___.groupby(___).mean(numeric_only=True).reset_index()\n",
    "\n",
    "\n",
    "# your code here\n",
    "raise NotImplementedError\n",
    "avocado_aggregate_2.head()"
   ]
  },
  {
   "cell_type": "code",
   "execution_count": null,
   "metadata": {
    "deletable": false,
    "editable": false,
    "nbgrader": {
     "cell_type": "code",
     "checksum": "78bac446aea6bafd1cc7001af88e96bf",
     "grade": true,
     "grade_id": "cell-975338ad4661f5af",
     "locked": true,
     "points": 3,
     "schema_version": 3,
     "solution": false
    }
   },
   "outputs": [],
   "source": [
    "from hashlib import sha1\n",
    "assert str(type(avocado_aggregate_2 is None)) == \"<class 'bool'>\", \"type of avocado_aggregate_2 is None is not bool. avocado_aggregate_2 is None should be a bool\"\n",
    "assert str(avocado_aggregate_2 is None) == \"False\", \"boolean value of avocado_aggregate_2 is None is not correct\"\n",
    "\n",
    "assert str(type(avocado_aggregate_2.shape)) == \"<class 'tuple'>\", \"type of avocado_aggregate_2.shape is not tuple. avocado_aggregate_2.shape should be a tuple\"\n",
    "assert str(len(avocado_aggregate_2.shape)) == \"2\", \"length of avocado_aggregate_2.shape is not correct\"\n",
    "assert str(sorted(map(str, avocado_aggregate_2.shape))) == \"['53', '7']\", \"values of avocado_aggregate_2.shape are not correct\"\n",
    "assert str(avocado_aggregate_2.shape) == \"(53, 7)\", \"order of elements of avocado_aggregate_2.shape is not correct\"\n",
    "\n",
    "assert sha1(str(type(sum(avocado_aggregate_2.total_volume))).encode(\"utf-8\")+b\"69320ae51145ca04\").hexdigest() == \"d31f10fd652833c1e0b3999de3daa9546518e69b\", \"type of sum(avocado_aggregate_2.total_volume) is not float. Please make sure it is float and not np.float64, etc. You can cast your value into a float using float()\"\n",
    "assert sha1(str(round(sum(avocado_aggregate_2.total_volume), 2)).encode(\"utf-8\")+b\"69320ae51145ca04\").hexdigest() == \"ba8e308b955617c47e75abd0d92b173a1b786c67\", \"value of sum(avocado_aggregate_2.total_volume) is not correct (rounded to 2 decimal places)\"\n",
    "\n",
    "assert sha1(str(type(sum(avocado_aggregate_2.wk))).encode(\"utf-8\")+b\"3074b953b243cdd2\").hexdigest() == \"134e54d1db189b63639c3823d843ce95e2484533\", \"type of sum(avocado_aggregate_2.wk) is not int. Please make sure it is int and not np.int64, etc. You can cast your value into an int using int()\"\n",
    "assert sha1(str(sum(avocado_aggregate_2.wk)).encode(\"utf-8\")+b\"3074b953b243cdd2\").hexdigest() == \"ef703311242432e7543ff84708bc5584aeca2341\", \"value of sum(avocado_aggregate_2.wk) is not correct\"\n",
    "\n",
    "print('Success!')"
   ]
  },
  {
   "cell_type": "markdown",
   "metadata": {
    "deletable": false,
    "editable": false,
    "nbgrader": {
     "cell_type": "markdown",
     "checksum": "e084cebc85f59ec306b4468c0191379b",
     "grade": false,
     "grade_id": "cell-ea1a11950f66b4f5",
     "locked": true,
     "schema_version": 3,
     "solution": false
    }
   },
   "source": [
    "**Question 1.10** \n",
    "<br> {points: 1}\n",
    "\n",
    "Now let's take the `avocado_aggregate_2` data frame and use it to create a scatter plot where we plot average `total_volume` (in pounds, lbs) on the y-axis versus `wk` on the x-axis. Assign your answer to an object called `avocado_aggregate_plot_2`. Don't forget to create proper English axis labels.\n",
    "\n",
    "> Hint: don't forget to include the units for volume in your axis titles."
   ]
  },
  {
   "cell_type": "code",
   "execution_count": null,
   "metadata": {
    "deletable": false,
    "nbgrader": {
     "cell_type": "code",
     "checksum": "c04ab38d66ed9b48400c0748b5935d9f",
     "grade": false,
     "grade_id": "cell-11af7abfd81fb0f2",
     "locked": false,
     "schema_version": 3,
     "solution": true
    }
   },
   "outputs": [],
   "source": [
    "# ___ = alt.Chart(___).mark_point().encode(\n",
    "#     x=alt.X(___).title(___),\n",
    "#     y=alt.Y(___)\n",
    "#         .title(___)\n",
    "#         .scale(zero=False)\n",
    "# )\n",
    "\n",
    "# your code here\n",
    "raise NotImplementedError\n",
    "avocado_aggregate_plot_2"
   ]
  },
  {
   "cell_type": "code",
   "execution_count": null,
   "metadata": {
    "deletable": false,
    "editable": false,
    "nbgrader": {
     "cell_type": "code",
     "checksum": "873f15a16d34def1b0d27af4d62063a5",
     "grade": true,
     "grade_id": "cell-7a0b7fca31c9c8ec",
     "locked": true,
     "points": 1,
     "schema_version": 3,
     "solution": false
    }
   },
   "outputs": [],
   "source": [
    "from hashlib import sha1\n",
    "assert sha1(str(type(avocado_aggregate_plot_2 is None)).encode(\"utf-8\")+b\"83f05596e6d75005\").hexdigest() == \"ae145097e4c025472819a7b745c892a98cd7340c\", \"type of avocado_aggregate_plot_2 is None is not bool. avocado_aggregate_plot_2 is None should be a bool\"\n",
    "assert sha1(str(avocado_aggregate_plot_2 is None).encode(\"utf-8\")+b\"83f05596e6d75005\").hexdigest() == \"934beda9bcd7fddd30b3985a11b7a518f45584a8\", \"boolean value of avocado_aggregate_plot_2 is None is not correct\"\n",
    "\n",
    "assert sha1(str(type(avocado_aggregate_plot_2.encoding.x['shorthand'])).encode(\"utf-8\")+b\"a5de4a04b9ef2068\").hexdigest() == \"8784a386abaccc2254bc3d84d85b9cc829eeb1bd\", \"type of avocado_aggregate_plot_2.encoding.x['shorthand'] is not str. avocado_aggregate_plot_2.encoding.x['shorthand'] should be an str\"\n",
    "assert sha1(str(len(avocado_aggregate_plot_2.encoding.x['shorthand'])).encode(\"utf-8\")+b\"a5de4a04b9ef2068\").hexdigest() == \"5cbc37f5b0007d79ce19f9218abdfc56bdab95c7\", \"length of avocado_aggregate_plot_2.encoding.x['shorthand'] is not correct\"\n",
    "assert sha1(str(avocado_aggregate_plot_2.encoding.x['shorthand'].lower()).encode(\"utf-8\")+b\"a5de4a04b9ef2068\").hexdigest() == \"0255b94b66cab23a1801753f3e67f516afc1e20f\", \"value of avocado_aggregate_plot_2.encoding.x['shorthand'] is not correct\"\n",
    "assert sha1(str(avocado_aggregate_plot_2.encoding.x['shorthand']).encode(\"utf-8\")+b\"a5de4a04b9ef2068\").hexdigest() == \"0255b94b66cab23a1801753f3e67f516afc1e20f\", \"correct string value of avocado_aggregate_plot_2.encoding.x['shorthand'] but incorrect case of letters\"\n",
    "\n",
    "assert sha1(str(type(avocado_aggregate_plot_2.encoding.y['shorthand'])).encode(\"utf-8\")+b\"a5d3e11f96f51ab4\").hexdigest() == \"c258b3f7789041f55b4e224ce9e6c200f911bd6f\", \"type of avocado_aggregate_plot_2.encoding.y['shorthand'] is not str. avocado_aggregate_plot_2.encoding.y['shorthand'] should be an str\"\n",
    "assert sha1(str(len(avocado_aggregate_plot_2.encoding.y['shorthand'])).encode(\"utf-8\")+b\"a5d3e11f96f51ab4\").hexdigest() == \"117af42261bd35e0369ed050213b86a60ae4b0b3\", \"length of avocado_aggregate_plot_2.encoding.y['shorthand'] is not correct\"\n",
    "assert sha1(str(avocado_aggregate_plot_2.encoding.y['shorthand'].lower()).encode(\"utf-8\")+b\"a5d3e11f96f51ab4\").hexdigest() == \"ee16f2180921fa759d575f3aa453f58930deaa3a\", \"value of avocado_aggregate_plot_2.encoding.y['shorthand'] is not correct\"\n",
    "assert sha1(str(avocado_aggregate_plot_2.encoding.y['shorthand']).encode(\"utf-8\")+b\"a5d3e11f96f51ab4\").hexdigest() == \"ee16f2180921fa759d575f3aa453f58930deaa3a\", \"correct string value of avocado_aggregate_plot_2.encoding.y['shorthand'] but incorrect case of letters\"\n",
    "\n",
    "assert sha1(str(type(avocado_aggregate_plot_2.mark)).encode(\"utf-8\")+b\"b8a1865025c27e7c\").hexdigest() == \"e675c9584e760d5c95ad08e338d60bba3f150ae8\", \"type of avocado_aggregate_plot_2.mark is not str. avocado_aggregate_plot_2.mark should be an str\"\n",
    "assert sha1(str(len(avocado_aggregate_plot_2.mark)).encode(\"utf-8\")+b\"b8a1865025c27e7c\").hexdigest() == \"8848ef6446501e823cc542af81096264722608e4\", \"length of avocado_aggregate_plot_2.mark is not correct\"\n",
    "assert sha1(str(avocado_aggregate_plot_2.mark.lower()).encode(\"utf-8\")+b\"b8a1865025c27e7c\").hexdigest() == \"bfb1771f33dfa183de44efdf8406d3f7fed4ae84\", \"value of avocado_aggregate_plot_2.mark is not correct\"\n",
    "assert sha1(str(avocado_aggregate_plot_2.mark).encode(\"utf-8\")+b\"b8a1865025c27e7c\").hexdigest() == \"bfb1771f33dfa183de44efdf8406d3f7fed4ae84\", \"correct string value of avocado_aggregate_plot_2.mark but incorrect case of letters\"\n",
    "\n",
    "assert sha1(str(type(isinstance(avocado_aggregate_plot_2.encoding.x['title'], str))).encode(\"utf-8\")+b\"77e7b05db82771f4\").hexdigest() == \"6de4131dbf9eb618298ada84504798470a11f31f\", \"type of isinstance(avocado_aggregate_plot_2.encoding.x['title'], str) is not bool. isinstance(avocado_aggregate_plot_2.encoding.x['title'], str) should be a bool\"\n",
    "assert sha1(str(isinstance(avocado_aggregate_plot_2.encoding.x['title'], str)).encode(\"utf-8\")+b\"77e7b05db82771f4\").hexdigest() == \"fed3fff80a10558c405492e4a8d2c43fb84206b9\", \"boolean value of isinstance(avocado_aggregate_plot_2.encoding.x['title'], str) is not correct\"\n",
    "\n",
    "assert sha1(str(type(isinstance(avocado_aggregate_plot_2.encoding.y['title'], str))).encode(\"utf-8\")+b\"0ce424985068a774\").hexdigest() == \"c828987a827cc5362306ff225ee658deec9159b7\", \"type of isinstance(avocado_aggregate_plot_2.encoding.y['title'], str) is not bool. isinstance(avocado_aggregate_plot_2.encoding.y['title'], str) should be a bool\"\n",
    "assert sha1(str(isinstance(avocado_aggregate_plot_2.encoding.y['title'], str)).encode(\"utf-8\")+b\"0ce424985068a774\").hexdigest() == \"f02e28d567b5a2dbe7670a268b0d6004a0366398\", \"boolean value of isinstance(avocado_aggregate_plot_2.encoding.y['title'], str) is not correct\"\n",
    "\n",
    "print('Success!')"
   ]
  },
  {
   "cell_type": "markdown",
   "metadata": {
    "deletable": false,
    "editable": false,
    "nbgrader": {
     "cell_type": "markdown",
     "checksum": "0e53d03902f6638ab153df8dfd95379d",
     "grade": false,
     "grade_id": "cell-83ce58105c97d477",
     "locked": true,
     "schema_version": 3,
     "solution": false,
     "task": false
    }
   },
   "source": [
    "We can see from the above plot of the average total volume versus the week that there are more avocados sold (and perhaps this reflects what is available for sale) roughly between January to May. This time period of increased volume corresponds with the lower avocado prices. We can *hypothesize* (but not conclude, of course) that the lower prices may be due to an increased availability of avocados during this time period."
   ]
  },
  {
   "cell_type": "markdown",
   "metadata": {
    "deletable": false,
    "editable": false,
    "nbgrader": {
     "cell_type": "markdown",
     "checksum": "df304d903814167320ad048736e36c94",
     "grade": false,
     "grade_id": "cell-15b71c3a5274adf6",
     "locked": true,
     "schema_version": 3,
     "solution": false,
     "task": false
    }
   },
   "source": [
    "## 2. Sea Surface Temperatures in Departure Bay\n",
    "The next data set that we will be looking at contains environmental data from 1914 to 2018. The data was collected by the DFO (Canada's Department of Fisheries and Oceans) at the Pacific Biological Station (Departure Bay). Daily sea surface temperature (in degrees Celsius) and salinity (in practical salinity units, PSU) observations have been carried out at several locations on the coast of British Columbia. The number of stations reporting at any given time has varied as sampling has been discontinued at some stations, and started or resumed at others.\n",
    "\n",
    "Presently termed the British Columbia Shore Station Oceanographic Program (BCSOP), there are 12 participating stations; most of these are staffed by Fisheries and Oceans Canada. You can look at data from other stations at http://www.pac.dfo-mpo.gc.ca/science/oceans/data-donnees/lightstations-phares/index-eng.html \n",
    "\n",
    "Further information from the Government of Canada's website indicates: \n",
    ">  Observations are made daily using seawater collected in a bucket lowered into the surface water at or near the daytime high tide. This sampling method was designed long ago by Dr. John P. Tully and has not been changed in the interests of a homogeneous data set. This means, for example, that if an observer starts sampling one day at 6 a.m., and continues to sample at the daytime high tide on the second day the sample will be taken at about 06:50 the next day, 07:40 the day after etc. When the daytime high-tide gets close to 6 p.m. the observer will then begin again to sample early in the morning, and the cycle continues. Since there is a day/night variation in the sea surface temperatures the daily time series will show a signal that varies with the14-day tidal cycle. This artifact does not affect the monthly sea surface temperature data.\n",
    "\n",
    "In this worksheet, we want to see if the sea surface temperature has been changing over time. "
   ]
  },
  {
   "cell_type": "markdown",
   "metadata": {
    "deletable": false,
    "editable": false,
    "nbgrader": {
     "cell_type": "markdown",
     "checksum": "e12239e7c50041fc0f15fa3d9084638b",
     "grade": false,
     "grade_id": "cell-8f4dc9433ea2a7e9",
     "locked": true,
     "schema_version": 3,
     "solution": false
    }
   },
   "source": [
    "**Question 2.1** True or False:\n",
    "<br> {points: 1}\n",
    "\n",
    "The sampling of surface water occurs at the same time each day. \n",
    "\n",
    "*Assign your answer to an object called `answer2_1`. Make sure your answer is a boolean. i.e. `True` or `False`.* "
   ]
  },
  {
   "cell_type": "code",
   "execution_count": null,
   "metadata": {
    "deletable": false,
    "nbgrader": {
     "cell_type": "code",
     "checksum": "fbe12e6b0a0d4bf6519aafe93b7c8baa",
     "grade": false,
     "grade_id": "cell-4eb1407dda8e1fe2",
     "locked": false,
     "schema_version": 3,
     "solution": true
    }
   },
   "outputs": [],
   "source": [
    "# your code here\n",
    "raise NotImplementedError"
   ]
  },
  {
   "cell_type": "code",
   "execution_count": null,
   "metadata": {
    "deletable": false,
    "editable": false,
    "nbgrader": {
     "cell_type": "code",
     "checksum": "7e58459eb701a7d9442c3358d35ec026",
     "grade": true,
     "grade_id": "cell-aef90db69249870d",
     "locked": true,
     "points": 3,
     "schema_version": 3,
     "solution": false
    }
   },
   "outputs": [],
   "source": [
    "from hashlib import sha1\n",
    "assert sha1(str(type(answer2_1)).encode(\"utf-8\")+b\"2deb781ce8d9f061\").hexdigest() == \"7cc12c5d2c2887670d56888673615fde112b3ff2\", \"type of answer2_1 is not bool. answer2_1 should be a bool\"\n",
    "assert sha1(str(answer2_1).encode(\"utf-8\")+b\"2deb781ce8d9f061\").hexdigest() == \"fe07da32f3d5e0cc37611f545408a25b002e96ea\", \"boolean value of answer2_1 is not correct\"\n",
    "\n",
    "print('Success!')"
   ]
  },
  {
   "cell_type": "markdown",
   "metadata": {
    "deletable": false,
    "editable": false,
    "nbgrader": {
     "cell_type": "markdown",
     "checksum": "f646082b34259ea6cb09a5a39741d412",
     "grade": false,
     "grade_id": "cell-0155ff05e1bac66f",
     "locked": true,
     "schema_version": 3,
     "solution": false
    }
   },
   "source": [
    "**Question 2.2** Multiple Choice:\n",
    "<br> {points: 1}\n",
    "\n",
    "If high tide occurred at 9am today, what time would the scientist collect data tomorrow?\n",
    "\n",
    "A. 11:10 am \n",
    "\n",
    "B. 9:50 am \n",
    "\n",
    "C. 10:00 pm \n",
    "\n",
    "D. Trick question... you skip days when collecting data. \n",
    "\n",
    "*Assign your answer to an object called `answer2_2`. Make sure your answer is an uppercase letter and is surrounded by quotation marks (e.g. `\"F\"`).* "
   ]
  },
  {
   "cell_type": "code",
   "execution_count": null,
   "metadata": {
    "deletable": false,
    "nbgrader": {
     "cell_type": "code",
     "checksum": "726830a8f448dd5426e2a7630b9ce486",
     "grade": false,
     "grade_id": "cell-c93cda405137fbfd",
     "locked": false,
     "schema_version": 3,
     "solution": true
    }
   },
   "outputs": [],
   "source": [
    "# your code here\n",
    "raise NotImplementedError"
   ]
  },
  {
   "cell_type": "code",
   "execution_count": null,
   "metadata": {
    "deletable": false,
    "editable": false,
    "nbgrader": {
     "cell_type": "code",
     "checksum": "6b69eda3df20d77252bb516154ff55e4",
     "grade": true,
     "grade_id": "cell-957f2b6edf976bfd",
     "locked": true,
     "points": 3,
     "schema_version": 3,
     "solution": false
    }
   },
   "outputs": [],
   "source": [
    "from hashlib import sha1\n",
    "assert sha1(str(type(answer2_2)).encode(\"utf-8\")+b\"af017a7f25f5b909\").hexdigest() == \"a1ea39661c5a67d710654584fe7cb41148f3ff49\", \"type of answer2_2 is not str. answer2_2 should be an str\"\n",
    "assert sha1(str(len(answer2_2)).encode(\"utf-8\")+b\"af017a7f25f5b909\").hexdigest() == \"75e7e70f38e9360b9a11c3ec19b83a5b06e2cfd2\", \"length of answer2_2 is not correct\"\n",
    "assert sha1(str(answer2_2.lower()).encode(\"utf-8\")+b\"af017a7f25f5b909\").hexdigest() == \"8716f420a6a4ba07a3dba0753ba4b88126afec57\", \"value of answer2_2 is not correct\"\n",
    "assert sha1(str(answer2_2).encode(\"utf-8\")+b\"af017a7f25f5b909\").hexdigest() == \"1338ef3c32e7d6f9aaf96e987506d4ae0dc4ec30\", \"correct string value of answer2_2 but incorrect case of letters\"\n",
    "\n",
    "print('Success!')"
   ]
  },
  {
   "cell_type": "markdown",
   "metadata": {
    "deletable": false,
    "editable": false,
    "nbgrader": {
     "cell_type": "markdown",
     "checksum": "64ea8b6e015b231655313dd81d9d84aa",
     "grade": false,
     "grade_id": "cell-e1bf20ed85ae3d0d",
     "locked": true,
     "schema_version": 3,
     "solution": false
    }
   },
   "source": [
    "**Question 2.3**\n",
    "<br> {points: 1}\n",
    "\n",
    "To begin working with this data, read the file `departure_bay_temperature.csv` using a relative path. Note, this file (just like the avocado data set) is found within the `data` directory. \n",
    "\n",
    "*Assign your answer to an object called `sea_surface`.* \n",
    "\n",
    "> Hint: check out the data file in the editor mode to see from which row the actual data begins, and you will need to specify the `skiprows` argument accordingly in the suitable `pandas` function."
   ]
  },
  {
   "cell_type": "code",
   "execution_count": null,
   "metadata": {
    "deletable": false,
    "nbgrader": {
     "cell_type": "code",
     "checksum": "e633fcc8fc92649def199838df544382",
     "grade": false,
     "grade_id": "cell-b10c1a879331aa37",
     "locked": false,
     "schema_version": 3,
     "solution": true
    }
   },
   "outputs": [],
   "source": [
    "# your code here\n",
    "raise NotImplementedError\n",
    "sea_surface"
   ]
  },
  {
   "cell_type": "code",
   "execution_count": null,
   "metadata": {
    "deletable": false,
    "editable": false,
    "nbgrader": {
     "cell_type": "code",
     "checksum": "919df274d5edb558fe14d13f1facf66b",
     "grade": true,
     "grade_id": "cell-09a9fd7ca9f44ada",
     "locked": true,
     "points": 3,
     "schema_version": 3,
     "solution": false
    }
   },
   "outputs": [],
   "source": [
    "from hashlib import sha1\n",
    "assert str(type(sea_surface is None)) == \"<class 'bool'>\", \"type of sea_surface is None is not bool. sea_surface is None should be a bool\"\n",
    "assert str(sea_surface is None) == \"False\", \"boolean value of sea_surface is None is not correct\"\n",
    "\n",
    "assert str(type(sea_surface)) == \"<class 'pandas.core.frame.DataFrame'>\", \"type of type(sea_surface) is not correct\"\n",
    "\n",
    "assert str(type(sea_surface.shape)) == \"<class 'tuple'>\", \"type of sea_surface.shape is not tuple. sea_surface.shape should be a tuple\"\n",
    "assert str(len(sea_surface.shape)) == \"2\", \"length of sea_surface.shape is not correct\"\n",
    "assert str(sorted(map(str, sea_surface.shape))) == \"['105', '13']\", \"values of sea_surface.shape are not correct\"\n",
    "assert str(sea_surface.shape) == \"(105, 13)\", \"order of elements of sea_surface.shape is not correct\"\n",
    "\n",
    "assert str(type(sea_surface.columns.values)) == \"<class 'numpy.ndarray'>\", \"type of sea_surface.columns.values is not correct\"\n",
    "assert str(sea_surface.columns.values) == \"['Year' 'Jan' 'Feb' 'Mar' 'Apr' 'May' 'Jun' 'Jul' 'Aug' 'Sep' 'Oct' 'Nov'\\n 'Dec']\", \"value of sea_surface.columns.values is not correct\"\n",
    "\n",
    "assert sha1(str(type(sum(sea_surface.Year))).encode(\"utf-8\")+b\"66464a0ddae61f15\").hexdigest() == \"26e4466ad97d17b73df197d5657b0f395d8f3385\", \"type of sum(sea_surface.Year) is not int. Please make sure it is int and not np.int64, etc. You can cast your value into an int using int()\"\n",
    "assert sha1(str(sum(sea_surface.Year)).encode(\"utf-8\")+b\"66464a0ddae61f15\").hexdigest() == \"1b9a9e3a9d79dbc2bb004aedb55a8ed1d76f8afc\", \"value of sum(sea_surface.Year) is not correct\"\n",
    "\n",
    "print('Success!')"
   ]
  },
  {
   "cell_type": "markdown",
   "metadata": {
    "deletable": false,
    "editable": false,
    "nbgrader": {
     "cell_type": "markdown",
     "checksum": "f3e9a738394e878d85f6910cc4faf4bf",
     "grade": false,
     "grade_id": "cell-e755c156454253ba",
     "locked": true,
     "schema_version": 3,
     "solution": false,
     "task": false
    }
   },
   "source": [
    "**Question 2.3.1**\n",
    "<br> {points: 1}\n",
    "\n",
    "The data above in Question 2.3 is not tidy, which reasons listed below explain why?\n",
    "\n",
    "A. There are NaN's in the data set\n",
    "\n",
    "B. The variable temperature is split across more than one column\n",
    "\n",
    "C. Values for the variable month are stored as column names\n",
    "\n",
    "D. A and C\n",
    "\n",
    "E. B and C\n",
    "\n",
    "F. All of the above\n",
    "\n",
    "*Assign your answer to an object called `answer2_3_1`.*"
   ]
  },
  {
   "cell_type": "code",
   "execution_count": null,
   "metadata": {
    "deletable": false,
    "nbgrader": {
     "cell_type": "code",
     "checksum": "8df82700e71e72597edc665d455334ec",
     "grade": false,
     "grade_id": "cell-6e1789eb7032fc30",
     "locked": false,
     "schema_version": 3,
     "solution": true,
     "task": false
    }
   },
   "outputs": [],
   "source": [
    "# your code here\n",
    "raise NotImplementedError"
   ]
  },
  {
   "cell_type": "code",
   "execution_count": null,
   "metadata": {
    "deletable": false,
    "editable": false,
    "nbgrader": {
     "cell_type": "code",
     "checksum": "b68a9458fc43a00988c8fa8da43d096e",
     "grade": true,
     "grade_id": "cell-f449a87635bac905",
     "locked": true,
     "points": 3,
     "schema_version": 3,
     "solution": false,
     "task": false
    }
   },
   "outputs": [],
   "source": [
    "from hashlib import sha1\n",
    "assert sha1(str(type(answer2_3_1)).encode(\"utf-8\")+b\"302bf6ad8dc73dd1\").hexdigest() == \"890ee38e8ccd667cd73c16c562d23037cb43cad2\", \"type of answer2_3_1 is not str. answer2_3_1 should be an str\"\n",
    "assert sha1(str(len(answer2_3_1)).encode(\"utf-8\")+b\"302bf6ad8dc73dd1\").hexdigest() == \"8dac64841e29294a70bfb3b48a1271d61ea22130\", \"length of answer2_3_1 is not correct\"\n",
    "assert sha1(str(answer2_3_1.lower()).encode(\"utf-8\")+b\"302bf6ad8dc73dd1\").hexdigest() == \"57992565629cd3439721d7e215927f57b7beefec\", \"value of answer2_3_1 is not correct\"\n",
    "assert sha1(str(answer2_3_1).encode(\"utf-8\")+b\"302bf6ad8dc73dd1\").hexdigest() == \"5e67687206371d15b875bc81368b39012a2f8bfa\", \"correct string value of answer2_3_1 but incorrect case of letters\"\n",
    "\n",
    "print('Success!')"
   ]
  },
  {
   "cell_type": "markdown",
   "metadata": {
    "deletable": false,
    "editable": false,
    "nbgrader": {
     "cell_type": "markdown",
     "checksum": "be09f73e797a675759dde138198d7106",
     "grade": false,
     "grade_id": "cell-0b23c682c8caa306",
     "locked": true,
     "schema_version": 3,
     "solution": false
    }
   },
   "source": [
    "**Question 2.4**\n",
    "<br> {points: 1}\n",
    "\n",
    "Given `altair` expects tidy data, we need to convert our data into that format. To do this we will use the `melt` function. We would like our data to end up looking like this:\n",
    "\n",
    "| Year | Month | Temperature |\n",
    "|------|-------|-------------|\n",
    "| 1914 | Jan   | 7.2         |\n",
    "| 1915 | Jan   | 5.6         |\n",
    "| 1916 | Jan   | 1.2         |\n",
    "| 1917 | Jan   | 3.8         |\n",
    "| 1918 | Jan   | 3.7         |\n",
    "| ...  | ...   | ...         |\n",
    "| 2014 | Dec   | 7.1         |\n",
    "| 2015 | Dec   | 6.8         |\n",
    "| 2016 | Dec   | 5.5         |\n",
    "| 2017 | Dec   | 6.9         |\n",
    "| 2018 | Dec   | NaN         |\n",
    "\n",
    "\n",
    "Fill in the `___` in the cell below. \n",
    "\n",
    "*Assign your answer to an object called `tidy_temp`.*"
   ]
  },
  {
   "cell_type": "code",
   "execution_count": null,
   "metadata": {
    "deletable": false,
    "nbgrader": {
     "cell_type": "code",
     "checksum": "bcd0ddb2dd805451efb28897c9f768c4",
     "grade": false,
     "grade_id": "cell-422718995704f040",
     "locked": false,
     "schema_version": 3,
     "solution": true
    }
   },
   "outputs": [],
   "source": [
    "# ___ = sea_surface.___(id_vars=['Year'],  var_name='___', value_name='Temperature')\n",
    "\n",
    "\n",
    "# your code here\n",
    "raise NotImplementedError\n",
    "tidy_temp"
   ]
  },
  {
   "cell_type": "code",
   "execution_count": null,
   "metadata": {
    "deletable": false,
    "editable": false,
    "nbgrader": {
     "cell_type": "code",
     "checksum": "855ca83dcee5c12ea642be1e281466fc",
     "grade": true,
     "grade_id": "cell-afb070ca8361d0a7",
     "locked": true,
     "points": 3,
     "schema_version": 3,
     "solution": false
    }
   },
   "outputs": [],
   "source": [
    "from hashlib import sha1\n",
    "assert str(type(tidy_temp is None)) == \"<class 'bool'>\", \"type of tidy_temp is None is not bool. tidy_temp is None should be a bool\"\n",
    "assert str(tidy_temp is None) == \"False\", \"boolean value of tidy_temp is None is not correct\"\n",
    "\n",
    "assert str(type(tidy_temp.shape)) == \"<class 'tuple'>\", \"type of tidy_temp.shape is not tuple. tidy_temp.shape should be a tuple\"\n",
    "assert str(len(tidy_temp.shape)) == \"2\", \"length of tidy_temp.shape is not correct\"\n",
    "assert str(sorted(map(str, tidy_temp.shape))) == \"['1260', '3']\", \"values of tidy_temp.shape are not correct\"\n",
    "assert str(tidy_temp.shape) == \"(1260, 3)\", \"order of elements of tidy_temp.shape is not correct\"\n",
    "\n",
    "assert str(type(tidy_temp.columns)) == \"<class 'pandas.core.indexes.base.Index'>\", \"type of tidy_temp.columns is not correct\"\n",
    "assert str(tidy_temp.columns) == \"Index(['Year', 'Month', 'Temperature'], dtype='object')\", \"value of tidy_temp.columns is not correct\"\n",
    "\n",
    "assert sha1(str(type(sum(tidy_temp.Temperature.dropna()))).encode(\"utf-8\")+b\"18b23df716786b06\").hexdigest() == \"3d6b7a771d387c6abca583b48e56951a182c616c\", \"type of sum(tidy_temp.Temperature.dropna()) is not float. Please make sure it is float and not np.float64, etc. You can cast your value into a float using float()\"\n",
    "assert sha1(str(round(sum(tidy_temp.Temperature.dropna()), 2)).encode(\"utf-8\")+b\"18b23df716786b06\").hexdigest() == \"df5b99cb971bee5cb3ac5e08af7ff71d92df447a\", \"value of sum(tidy_temp.Temperature.dropna()) is not correct (rounded to 2 decimal places)\"\n",
    "\n",
    "print('Success!')"
   ]
  },
  {
   "cell_type": "markdown",
   "metadata": {
    "deletable": false,
    "editable": false,
    "nbgrader": {
     "cell_type": "markdown",
     "checksum": "55ed46c9448dcf39c135a58751cc47a0",
     "grade": false,
     "grade_id": "cell-4d3484d80d9f0854",
     "locked": true,
     "schema_version": 3,
     "solution": false
    }
   },
   "source": [
    "**Question 2.5**\n",
    "<br> {points: 1}\n",
    "\n",
    "Now that we have our data in a tidy format, we can create our plot that compares the average monthly sea surface temperatures (in degrees Celsius) to the year they were recorded. To make our plots more informative, we should plot each month separately. We can filter the data before we pipe our data into the `alt.Chart` function. Let's start out by just plotting the data for the month of November. As usual, use proper English to label your axes :)\n",
    "\n",
    "*Assign your answer to an object called `nov_temp_plot`.*\n",
    "\n",
    "> Hint: don't forget to include the units for temperature in your data visualization."
   ]
  },
  {
   "cell_type": "code",
   "execution_count": null,
   "metadata": {
    "deletable": false,
    "nbgrader": {
     "cell_type": "code",
     "checksum": "f7bef05534c5df21833030675ecb9971",
     "grade": false,
     "grade_id": "cell-b1ac578751969b78",
     "locked": false,
     "schema_version": 3,
     "solution": true
    }
   },
   "outputs": [],
   "source": [
    "# ___ = alt.Chart(___[___[___] == \"Nov\"]).mark_point().encode(\n",
    "#     x=alt.X(___)\n",
    "#         .scale(zero=False),\n",
    "#     y=alt.Y(___)\n",
    "#         .title(___)\n",
    "#         .scale(zero=False)\n",
    "# )\n",
    "\n",
    "# your code here\n",
    "raise NotImplementedError\n",
    "nov_temp_plot"
   ]
  },
  {
   "cell_type": "code",
   "execution_count": null,
   "metadata": {
    "deletable": false,
    "editable": false,
    "nbgrader": {
     "cell_type": "code",
     "checksum": "4fe597b8b529ef7237087c364216c3bf",
     "grade": true,
     "grade_id": "cell-8ddfbb3c8b82e695",
     "locked": true,
     "points": 1,
     "schema_version": 3,
     "solution": false
    }
   },
   "outputs": [],
   "source": [
    "from hashlib import sha1\n",
    "assert sha1(str(type(nov_temp_plot is None)).encode(\"utf-8\")+b\"5b93e8c5250a747c\").hexdigest() == \"5cc7a2a7f1f56d0add053561150ed9fe1802283d\", \"type of nov_temp_plot is None is not bool. nov_temp_plot is None should be a bool\"\n",
    "assert sha1(str(nov_temp_plot is None).encode(\"utf-8\")+b\"5b93e8c5250a747c\").hexdigest() == \"f001999aa0367e04d77174bf8b793a5441f2d3d1\", \"boolean value of nov_temp_plot is None is not correct\"\n",
    "\n",
    "assert sha1(str(type(nov_temp_plot.data.Month.unique())).encode(\"utf-8\")+b\"2f85a2215af19aa7\").hexdigest() == \"34c0ad832c52316c9a7c503fe88351e48a5ab2a2\", \"type of nov_temp_plot.data.Month.unique() is not correct\"\n",
    "assert sha1(str(nov_temp_plot.data.Month.unique()).encode(\"utf-8\")+b\"2f85a2215af19aa7\").hexdigest() == \"7ac436b5c7df20c5f8fe5ee082aafc404b885993\", \"value of nov_temp_plot.data.Month.unique() is not correct\"\n",
    "\n",
    "assert sha1(str(type(nov_temp_plot.encoding.x['shorthand'])).encode(\"utf-8\")+b\"a44684b5676d7b32\").hexdigest() == \"77b8291109ba9e5ed2243fb38afb79d26cb1a45e\", \"type of nov_temp_plot.encoding.x['shorthand'] is not str. nov_temp_plot.encoding.x['shorthand'] should be an str\"\n",
    "assert sha1(str(len(nov_temp_plot.encoding.x['shorthand'])).encode(\"utf-8\")+b\"a44684b5676d7b32\").hexdigest() == \"75acaf44ddf8be5c0bfdc1ef81aff2108c3b0132\", \"length of nov_temp_plot.encoding.x['shorthand'] is not correct\"\n",
    "assert sha1(str(nov_temp_plot.encoding.x['shorthand'].lower()).encode(\"utf-8\")+b\"a44684b5676d7b32\").hexdigest() == \"d341fd6e7d06b597cc0f082482c932293e88650a\", \"value of nov_temp_plot.encoding.x['shorthand'] is not correct\"\n",
    "assert sha1(str(nov_temp_plot.encoding.x['shorthand']).encode(\"utf-8\")+b\"a44684b5676d7b32\").hexdigest() == \"a876fd7483f51f6ffa8e34302139e71585ce1e1f\", \"correct string value of nov_temp_plot.encoding.x['shorthand'] but incorrect case of letters\"\n",
    "\n",
    "assert sha1(str(type(nov_temp_plot.encoding.y['shorthand'])).encode(\"utf-8\")+b\"0bdc1cf1b3885c81\").hexdigest() == \"f6889e83f7212046c2a52582a92a8445fe191e08\", \"type of nov_temp_plot.encoding.y['shorthand'] is not str. nov_temp_plot.encoding.y['shorthand'] should be an str\"\n",
    "assert sha1(str(len(nov_temp_plot.encoding.y['shorthand'])).encode(\"utf-8\")+b\"0bdc1cf1b3885c81\").hexdigest() == \"38f0e365eb455c327b3289e97514734d364ad800\", \"length of nov_temp_plot.encoding.y['shorthand'] is not correct\"\n",
    "assert sha1(str(nov_temp_plot.encoding.y['shorthand'].lower()).encode(\"utf-8\")+b\"0bdc1cf1b3885c81\").hexdigest() == \"a14c028b3dcce83d77e9d6e812b0882ea688d752\", \"value of nov_temp_plot.encoding.y['shorthand'] is not correct\"\n",
    "assert sha1(str(nov_temp_plot.encoding.y['shorthand']).encode(\"utf-8\")+b\"0bdc1cf1b3885c81\").hexdigest() == \"ef6bf272fd0618356f113f422a749b1149c05d5f\", \"correct string value of nov_temp_plot.encoding.y['shorthand'] but incorrect case of letters\"\n",
    "\n",
    "assert sha1(str(type(nov_temp_plot.mark)).encode(\"utf-8\")+b\"bfb2748129ad9f79\").hexdigest() == \"83c23971134a92a067af12f798cba0df2c21d53a\", \"type of nov_temp_plot.mark is not str. nov_temp_plot.mark should be an str\"\n",
    "assert sha1(str(len(nov_temp_plot.mark)).encode(\"utf-8\")+b\"bfb2748129ad9f79\").hexdigest() == \"a58d71dc21afc1b5419626aa786506085afd51f7\", \"length of nov_temp_plot.mark is not correct\"\n",
    "assert sha1(str(nov_temp_plot.mark.lower()).encode(\"utf-8\")+b\"bfb2748129ad9f79\").hexdigest() == \"bbce8368f0dd7253c9e40bc8900ba53cb8d6cbd9\", \"value of nov_temp_plot.mark is not correct\"\n",
    "assert sha1(str(nov_temp_plot.mark).encode(\"utf-8\")+b\"bfb2748129ad9f79\").hexdigest() == \"bbce8368f0dd7253c9e40bc8900ba53cb8d6cbd9\", \"correct string value of nov_temp_plot.mark but incorrect case of letters\"\n",
    "\n",
    "assert sha1(str(type(isinstance(nov_temp_plot.encoding.y['title'], str))).encode(\"utf-8\")+b\"d4d9e4eed9a975e1\").hexdigest() == \"5cd790d55625863f350aa49ae57de2b9531c7d20\", \"type of isinstance(nov_temp_plot.encoding.y['title'], str) is not bool. isinstance(nov_temp_plot.encoding.y['title'], str) should be a bool\"\n",
    "assert sha1(str(isinstance(nov_temp_plot.encoding.y['title'], str)).encode(\"utf-8\")+b\"d4d9e4eed9a975e1\").hexdigest() == \"3765dcd0bf80358ebabe485eb6d147c0d6f4aed5\", \"boolean value of isinstance(nov_temp_plot.encoding.y['title'], str) is not correct\"\n",
    "\n",
    "print('Success!')"
   ]
  },
  {
   "cell_type": "markdown",
   "metadata": {
    "deletable": false,
    "editable": false,
    "nbgrader": {
     "cell_type": "markdown",
     "checksum": "ae77e75d827d91d25f0b0d2d8840b78d",
     "grade": false,
     "grade_id": "cell-9de2b3c001bbe02d",
     "locked": true,
     "schema_version": 3,
     "solution": false,
     "task": false
    }
   },
   "source": [
    "We can see that there may be a small decrease in colder temperatures in recent years, and/or the temperatures in recent years look less variable compared to years before 1975. What about other months? Let's plot them! \n",
    "\n",
    "Instead of repeating the code above for the 11 other months, we'll take advantage of a `altair` function that we haven't met yet, `facet`. We will learn more about this function next week, this week we will give you the code for it."
   ]
  },
  {
   "cell_type": "markdown",
   "metadata": {
    "deletable": false,
    "editable": false,
    "nbgrader": {
     "cell_type": "markdown",
     "checksum": "d0de957dfb2d82f1bb77800334ab680b",
     "grade": false,
     "grade_id": "cell-27e2c5089e6710ef",
     "locked": true,
     "schema_version": 3,
     "solution": false
    }
   },
   "source": [
    "**Question 2.6**\n",
    "<br> {points: 1}\n",
    "\n",
    "Fill in the missing code below to plot the average monthly sea surface temperatures to the year they were recorded for all months. \n",
    "\n",
    "*Assign your answer to an object called `all_temp_plot`.*\n",
    "\n",
    "> Hint: don't forget to include the units for temperature in your data visualization."
   ]
  },
  {
   "cell_type": "code",
   "execution_count": null,
   "metadata": {
    "deletable": false,
    "nbgrader": {
     "cell_type": "code",
     "checksum": "f73445d467cf88f30891011a4eea7fb3",
     "grade": false,
     "grade_id": "cell-6a5d54a80ebdc73c",
     "locked": false,
     "schema_version": 3,
     "solution": true
    }
   },
   "outputs": [],
   "source": [
    "# ___ = alt.Chart(___).mark_point().encode(\n",
    "#     x=alt.X(___)\n",
    "#         .scale(zero=False),\n",
    "#     y=alt.Y(___)\n",
    "#         .title(___)\n",
    "#         .scale(zero=False)\n",
    "# ).facet(\n",
    "#     'Month',\n",
    "#     columns=4,\n",
    "# )\n",
    "\n",
    "# your code here\n",
    "raise NotImplementedError\n",
    "all_temp_plot"
   ]
  },
  {
   "cell_type": "code",
   "execution_count": null,
   "metadata": {
    "deletable": false,
    "editable": false,
    "nbgrader": {
     "cell_type": "code",
     "checksum": "8997321c23457a1d7efbe70257aafa3a",
     "grade": true,
     "grade_id": "cell-4529c8b1eb657878",
     "locked": true,
     "points": 1,
     "schema_version": 3,
     "solution": false
    }
   },
   "outputs": [],
   "source": [
    "from hashlib import sha1\n",
    "assert sha1(str(type(all_temp_plot is None)).encode(\"utf-8\")+b\"78f4672123dfc5fc\").hexdigest() == \"f3ccc9f0f5edcaea30ed47ccd3c5601793f9f246\", \"type of all_temp_plot is None is not bool. all_temp_plot is None should be a bool\"\n",
    "assert sha1(str(all_temp_plot is None).encode(\"utf-8\")+b\"78f4672123dfc5fc\").hexdigest() == \"a4cccaf12f3ab6acca772d50f0dce8f1648c296f\", \"boolean value of all_temp_plot is None is not correct\"\n",
    "\n",
    "assert sha1(str(type(\"Month\" in all_temp_plot.data.columns)).encode(\"utf-8\")+b\"fe53997d06b3ce5e\").hexdigest() == \"0467f3f04e9e8323af953aa8fc48a7a7779bf3dd\", \"type of \\\"Month\\\" in all_temp_plot.data.columns is not bool. \\\"Month\\\" in all_temp_plot.data.columns should be a bool\"\n",
    "assert sha1(str(\"Month\" in all_temp_plot.data.columns).encode(\"utf-8\")+b\"fe53997d06b3ce5e\").hexdigest() == \"ea3972146f5b9ca01e7c0e7ce4e0d65909b6c054\", \"boolean value of \\\"Month\\\" in all_temp_plot.data.columns is not correct\"\n",
    "\n",
    "assert sha1(str(type(all_temp_plot.facet)).encode(\"utf-8\")+b\"fb0e1b0ca20e57fd\").hexdigest() == \"fd64ceb58309b154003b15f88b33499bd33a7053\", \"type of all_temp_plot.facet is not correct\"\n",
    "assert sha1(str(all_temp_plot.facet).encode(\"utf-8\")+b\"fb0e1b0ca20e57fd\").hexdigest() == \"a3cfac266fcd92d0139f6e36aac7cbce42957b23\", \"value of all_temp_plot.facet is not correct\"\n",
    "\n",
    "print('Success!')"
   ]
  },
  {
   "cell_type": "markdown",
   "metadata": {
    "deletable": false,
    "editable": false,
    "nbgrader": {
     "cell_type": "markdown",
     "checksum": "8681d50f447f9d16a8a44d52ca069f3d",
     "grade": false,
     "grade_id": "cell-5406840f482b0738",
     "locked": true,
     "schema_version": 3,
     "solution": false,
     "task": false
    }
   },
   "source": [
    "We can see above that some months show a small, but general increase in temperatures, whereas others don't. And some months show a change in variability and others do not. From this it is clear to us that if we are trying to understand temperature changes over time, we best keep data from different months separate. Also note that the months are sorted in alphabetic order, but it would have been better to sort it according to where during the year each month occurs, we will learn how to do this in an upcoming chapter!"
   ]
  },
  {
   "cell_type": "markdown",
   "metadata": {
    "deletable": false,
    "editable": false,
    "nbgrader": {
     "cell_type": "markdown",
     "checksum": "d8218a3c7217edb9483fa20667e9d437",
     "grade": false,
     "grade_id": "cell-4fed26cd837beb2b",
     "locked": true,
     "schema_version": 3,
     "solution": false,
     "task": false
    }
   },
   "source": [
    "## 3. Pollution in Madrid\n",
    "We're working with a data set from Kaggle once again! [This data](https://www.kaggle.com/decide-soluciones/air-quality-madrid) was collected under the instructions from Madrid's City Council and is publicly available on their website. In recent years, high levels of pollution during certain dry periods has forced the authorities to take measures against the use of cars and act as a reasoning to propose certain regulations. This data includes daily and hourly measurements of air quality from 2001 to 2008. Pollutants are categorized based on their chemical properties.\n",
    "\n",
    "There are a number of stations set up around Madrid and each station's data frame contains all particle measurements that such station has registered from 01/2001 - 04/2008. Not every station has the same equipment, therefore each station can measure only a certain subset of particles. The complete list of possible measurements and their explanations are given by the website:\n",
    "\n",
    "- `SO_2`: sulphur dioxide level measured in μg/m³. High levels can produce irritation in the skin and membranes, and worsen asthma or heart diseases in sensitive groups.\n",
    "- `CO`: carbon monoxide level measured in mg/m³. Carbon monoxide poisoning involves headaches, dizziness and confusion in short exposures and can result in loss of consciousness, arrhythmias, seizures or even death.\n",
    "- `NO_2`: nitrogen dioxide level measured in μg/m³. Long-term exposure is a cause of chronic lung diseases, and are harmful for the vegetation.\n",
    "- `PM10`: particles smaller than 10 μm. Even though they cannot penetrate the alveolus, they can still penetrate through the lungs and affect other organs. Long term exposure can result in lung cancer and cardiovascular complications.\n",
    "- `NOx`: nitrous oxides level measured in μg/m³. Affect the human respiratory system worsening asthma or other diseases, and are responsible of the yellowish-brown color of photochemical smog.\n",
    "- `O_3`: ozone level measured in μg/m³. High levels can produce asthma, bronchytis or other chronic pulmonary diseases in sensitive groups or outdoor workers.\n",
    "- `TOL`: toluene (methylbenzene) level measured in μg/m³. Long-term exposure to this substance (present in tobacco smoke as well) can result in kidney complications or permanent brain damage.\n",
    "- `BEN`: benzene level measured in μg/m³. Benzene is a eye and skin irritant, and long exposures may result in several types of cancer, leukaemia and anaemias. Benzene is considered a group 1 carcinogenic to humans.\n",
    "- `EBE`: ethylbenzene level measured in μg/m³. Long term exposure can cause hearing or kidney problems and the IARC has concluded that long-term exposure can produce cancer.\n",
    "- `MXY`: m-xylene level measured in μg/m³. Xylenes can affect not only air but also water and soil, and a long exposure to high levels of xylenes can result in diseases affecting the liver, kidney and nervous system.\n",
    "- `PXY`: p-xylene level measured in μg/m³. See MXY for xylene exposure effects on health.\n",
    "- `OXY`: o-xylene level measured in μg/m³. See MXY for xylene exposure effects on health.\n",
    "- `TCH`: total hydrocarbons level measured in mg/m³. This group of substances can be responsible of different blood, immune system, liver, spleen, kidneys or lung diseases.\n",
    "- `NMHC`: non-methane hydrocarbons (volatile organic compounds) level measured in mg/m³. Long exposure to some of these substances can result in damage to the liver, kidney, and central nervous system. Some of them are suspected to cause cancer in humans."
   ]
  },
  {
   "cell_type": "markdown",
   "metadata": {
    "deletable": false,
    "editable": false,
    "nbgrader": {
     "cell_type": "markdown",
     "checksum": "f4ffcadff0d22e56abe5dd706008b13f",
     "grade": false,
     "grade_id": "cell-892f43f18911d0ba",
     "locked": true,
     "schema_version": 3,
     "solution": false,
     "task": false
    }
   },
   "source": [
    "The goal of this assignment is to see if pollutants are decreasing (is air quality improving) and also compare which pollutant has decreased the most over the span of 5 years (2001 - 2006). \n",
    "1. First do a plot of one of the pollutants (EBE). \n",
    "2. Next, group it by month and year; calculate the maximum value and plot it (to see the trend through time). \n",
    "3. Now we will look at which pollutant decreased the most. First we will look at pollution in 2001 (get the maximum value for each of the pollutants). And then do the same for 2006. "
   ]
  },
  {
   "cell_type": "markdown",
   "metadata": {
    "deletable": false,
    "editable": false,
    "nbgrader": {
     "cell_type": "markdown",
     "checksum": "c9d249a6060690c7b00190e86c91ff02",
     "grade": false,
     "grade_id": "cell-a99486a2f16469ae",
     "locked": true,
     "schema_version": 3,
     "solution": false
    }
   },
   "source": [
    "**Question 3.1** Multiple Choice: \n",
    "<br> {points: 1}\n",
    "\n",
    "What big picture question are we trying to answer?\n",
    "\n",
    "A. Did EBE decrease in Madrid between 2001 and 2006?\n",
    "\n",
    "B. Of all the pollutants, which decreased the most between 2001 and 2006? \n",
    "\n",
    "C. Of all the pollutants, which decreased the least between 2001 and 2006?\n",
    "\n",
    "D. Did EBE increase in Madrid between 2001 and 2006?\n",
    "\n",
    "*Assign your answer to an object called `answer3_1`. Make sure your answer is an uppercase letter and is surrounded by quotation marks (e.g. `\"F\"`).*"
   ]
  },
  {
   "cell_type": "code",
   "execution_count": null,
   "metadata": {
    "deletable": false,
    "nbgrader": {
     "cell_type": "code",
     "checksum": "e8e54c80e73f166a37cd9925a8273f23",
     "grade": false,
     "grade_id": "cell-fffa52c5bf768a43",
     "locked": false,
     "schema_version": 3,
     "solution": true
    }
   },
   "outputs": [],
   "source": [
    "# your code here\n",
    "raise NotImplementedError"
   ]
  },
  {
   "cell_type": "code",
   "execution_count": null,
   "metadata": {
    "deletable": false,
    "editable": false,
    "nbgrader": {
     "cell_type": "code",
     "checksum": "7b7e37de30f65623faa9428ef67cff24",
     "grade": true,
     "grade_id": "cell-d67db6d2cd3971aa",
     "locked": true,
     "points": 3,
     "schema_version": 3,
     "solution": false
    }
   },
   "outputs": [],
   "source": [
    "from hashlib import sha1\n",
    "assert sha1(str(type(all_temp_plot)).encode(\"utf-8\")+b\"dbdf2bdf3c8fdbe7\").hexdigest() == \"4fc456a39a472ceba0c3aa824467d09e9915b24a\", \"type of all_temp_plot is not correct\"\n",
    "assert sha1(str(all_temp_plot).encode(\"utf-8\")+b\"dbdf2bdf3c8fdbe7\").hexdigest() == \"a0f667ef319e444bf507a922adc5cb64af55499b\", \"value of all_temp_plot is not correct\"\n",
    "\n",
    "print('Success!')"
   ]
  },
  {
   "cell_type": "markdown",
   "metadata": {
    "deletable": false,
    "editable": false,
    "nbgrader": {
     "cell_type": "markdown",
     "checksum": "6ca799de6ed748a3edc5b899b77ed28b",
     "grade": false,
     "grade_id": "cell-beefc03e5d6c203d",
     "locked": true,
     "schema_version": 3,
     "solution": false
    }
   },
   "source": [
    "**Question 3.2** \n",
    "<br> {points: 1}\n",
    "\n",
    "To begin working with this data, read the file `madrid_pollution.csv`. Note, this file (just like the avocado and sea surface data set) is found in the `data` directory. \n",
    "\n",
    "*Assign your answer to an object called `madrid`.* \n",
    "\n",
    "> Hint: check out the data file in the editor mode to see which delimitor is used, and then select the proper `pandas` function."
   ]
  },
  {
   "cell_type": "code",
   "execution_count": null,
   "metadata": {
    "deletable": false,
    "nbgrader": {
     "cell_type": "code",
     "checksum": "6ed2835265606c0ce9872adb082bd06b",
     "grade": false,
     "grade_id": "cell-7f7939bcc9bebde2",
     "locked": false,
     "schema_version": 3,
     "solution": true
    }
   },
   "outputs": [],
   "source": [
    "# your code here\n",
    "raise NotImplementedError\n",
    "madrid"
   ]
  },
  {
   "cell_type": "code",
   "execution_count": null,
   "metadata": {
    "deletable": false,
    "editable": false,
    "nbgrader": {
     "cell_type": "code",
     "checksum": "7e837f2072817d6696317b8242cdd325",
     "grade": true,
     "grade_id": "cell-902507dc58ec5428",
     "locked": true,
     "points": 3,
     "schema_version": 3,
     "solution": false
    }
   },
   "outputs": [],
   "source": [
    "from hashlib import sha1\n",
    "assert str(type(madrid is None)) == \"<class 'bool'>\", \"type of madrid is None is not bool. madrid is None should be a bool\"\n",
    "assert str(madrid is None) == \"False\", \"boolean value of madrid is None is not correct\"\n",
    "\n",
    "assert str(type(madrid)) == \"<class 'pandas.core.frame.DataFrame'>\", \"type of type(madrid) is not correct\"\n",
    "\n",
    "assert str(type(madrid.shape)) == \"<class 'tuple'>\", \"type of madrid.shape is not tuple. madrid.shape should be a tuple\"\n",
    "assert str(len(madrid.shape)) == \"2\", \"length of madrid.shape is not correct\"\n",
    "assert str(sorted(map(str, madrid.shape))) == \"['17', '51864']\", \"values of madrid.shape are not correct\"\n",
    "assert str(madrid.shape) == \"(51864, 17)\", \"order of elements of madrid.shape is not correct\"\n",
    "\n",
    "assert str(type(madrid.columns.values)) == \"<class 'numpy.ndarray'>\", \"type of madrid.columns.values is not correct\"\n",
    "assert str(madrid.columns.values) == \"['date' 'BEN' 'CO' 'EBE' 'MXY' 'NMHC' 'NO_2' 'NOx' 'OXY' 'O_3' 'PM10'\\n 'PXY' 'SO_2' 'TCH' 'TOL' 'year' 'mnth']\", \"value of madrid.columns.values is not correct\"\n",
    "\n",
    "assert sha1(str(type(sum(madrid.BEN.dropna()))).encode(\"utf-8\")+b\"895d33474063b158\").hexdigest() == \"409b3c80e866ab23fa4aae28cdbad8111698ad8f\", \"type of sum(madrid.BEN.dropna()) is not float. Please make sure it is float and not np.float64, etc. You can cast your value into a float using float()\"\n",
    "assert sha1(str(round(sum(madrid.BEN.dropna()), 2)).encode(\"utf-8\")+b\"895d33474063b158\").hexdigest() == \"9af7c46237a3ba0529b967847a846139f80bfc72\", \"value of sum(madrid.BEN.dropna()) is not correct (rounded to 2 decimal places)\"\n",
    "\n",
    "print('Success!')"
   ]
  },
  {
   "cell_type": "markdown",
   "metadata": {
    "deletable": false,
    "editable": false,
    "nbgrader": {
     "cell_type": "markdown",
     "checksum": "c1079d6a21c027f50dc2d5a6cfd14af1",
     "grade": false,
     "grade_id": "cell-da06d5b257b928f0",
     "locked": true,
     "schema_version": 3,
     "solution": false
    }
   },
   "source": [
    "**Question 3.3**\n",
    "<br> {points: 1}\n",
    "\n",
    "Now that the data is loaded in Python, create a scatter plot that compares ethylbenzene (`EBE`) values against the date they were recorded. This graph will showcase the concentration of ethylbenzene in Madrid over time. As usual, label your axes: \n",
    "\n",
    "- x = Date\n",
    "- y = Ethylbenzene (μg/m³)\n",
    "\n",
    "*Assign your answer to an object called `EBE_pollution`.*"
   ]
  },
  {
   "cell_type": "code",
   "execution_count": null,
   "metadata": {
    "deletable": false,
    "nbgrader": {
     "cell_type": "code",
     "checksum": "34055a21e52a422721a385a58db79437",
     "grade": false,
     "grade_id": "cell-14614015f46ccfff",
     "locked": false,
     "schema_version": 3,
     "solution": true
    },
    "tags": []
   },
   "outputs": [],
   "source": [
    "# ___ = alt.Chart(___).mark_point().encode(\n",
    "#     x=alt.X(___).title(___),\n",
    "#     y=alt.Y(___).title(___)\n",
    "# ).properties(width=800)\n",
    "\n",
    "# your code here\n",
    "raise NotImplementedError\n",
    "EBE_pollution\n",
    "\n",
    "# Are levels increasing or decreasing?"
   ]
  },
  {
   "cell_type": "code",
   "execution_count": null,
   "metadata": {
    "deletable": false,
    "editable": false,
    "nbgrader": {
     "cell_type": "code",
     "checksum": "7281bff326b123165c825674a0a3f37b",
     "grade": true,
     "grade_id": "cell-4de75a47d9cc2dca",
     "locked": true,
     "points": 1,
     "schema_version": 3,
     "solution": false
    }
   },
   "outputs": [],
   "source": [
    "from hashlib import sha1\n",
    "assert sha1(str(type(EBE_pollution is None)).encode(\"utf-8\")+b\"9067a91886fe4957\").hexdigest() == \"4de1fcbb606daaead0788134dd23dd2247e127cb\", \"type of EBE_pollution is None is not bool. EBE_pollution is None should be a bool\"\n",
    "assert sha1(str(EBE_pollution is None).encode(\"utf-8\")+b\"9067a91886fe4957\").hexdigest() == \"f453db21b14885c8accc5d1a089c954b529c65bf\", \"boolean value of EBE_pollution is None is not correct\"\n",
    "\n",
    "assert sha1(str(type(EBE_pollution.encoding.x['shorthand'])).encode(\"utf-8\")+b\"4ad35e3e5c0de573\").hexdigest() == \"64ecd1f37786a450a4702f3b9f9ee97c7d5febb6\", \"type of EBE_pollution.encoding.x['shorthand'] is not str. EBE_pollution.encoding.x['shorthand'] should be an str\"\n",
    "assert sha1(str(len(EBE_pollution.encoding.x['shorthand'])).encode(\"utf-8\")+b\"4ad35e3e5c0de573\").hexdigest() == \"b10c8f44ae46a087afbd469c7186ae07b1c9b462\", \"length of EBE_pollution.encoding.x['shorthand'] is not correct\"\n",
    "assert sha1(str(EBE_pollution.encoding.x['shorthand'].lower()).encode(\"utf-8\")+b\"4ad35e3e5c0de573\").hexdigest() == \"dac8d640d919ce33b0901570ffda1c8bdd44c215\", \"value of EBE_pollution.encoding.x['shorthand'] is not correct\"\n",
    "assert sha1(str(EBE_pollution.encoding.x['shorthand']).encode(\"utf-8\")+b\"4ad35e3e5c0de573\").hexdigest() == \"545f0e0190c19f6df37c1fc0afe475cf462786a5\", \"correct string value of EBE_pollution.encoding.x['shorthand'] but incorrect case of letters\"\n",
    "\n",
    "assert sha1(str(type(EBE_pollution.encoding.y['shorthand'])).encode(\"utf-8\")+b\"314a762f37801cee\").hexdigest() == \"1536d1d32ba7c1a40816d22675f3da13ef7c17ff\", \"type of EBE_pollution.encoding.y['shorthand'] is not str. EBE_pollution.encoding.y['shorthand'] should be an str\"\n",
    "assert sha1(str(len(EBE_pollution.encoding.y['shorthand'])).encode(\"utf-8\")+b\"314a762f37801cee\").hexdigest() == \"0451fc41df94860bd8f00d05db1deb36cabd20f8\", \"length of EBE_pollution.encoding.y['shorthand'] is not correct\"\n",
    "assert sha1(str(EBE_pollution.encoding.y['shorthand'].lower()).encode(\"utf-8\")+b\"314a762f37801cee\").hexdigest() == \"07169808909c4452469a143a4d2b0da0bdfc49df\", \"value of EBE_pollution.encoding.y['shorthand'] is not correct\"\n",
    "assert sha1(str(EBE_pollution.encoding.y['shorthand']).encode(\"utf-8\")+b\"314a762f37801cee\").hexdigest() == \"4f003f69a0d78f22093c0ebf9f6730812094c822\", \"correct string value of EBE_pollution.encoding.y['shorthand'] but incorrect case of letters\"\n",
    "\n",
    "assert sha1(str(type(EBE_pollution.mark)).encode(\"utf-8\")+b\"23c648c970750c35\").hexdigest() == \"7a3d4f7cbb540b422123906e4aafccf1ccae861e\", \"type of EBE_pollution.mark is not str. EBE_pollution.mark should be an str\"\n",
    "assert sha1(str(len(EBE_pollution.mark)).encode(\"utf-8\")+b\"23c648c970750c35\").hexdigest() == \"4cc8430f339857aa2f184dd1de71ee3e110f29d4\", \"length of EBE_pollution.mark is not correct\"\n",
    "assert sha1(str(EBE_pollution.mark.lower()).encode(\"utf-8\")+b\"23c648c970750c35\").hexdigest() == \"b4f6fab40cfec68f6848f60a6d214a4d504d2b7f\", \"value of EBE_pollution.mark is not correct\"\n",
    "assert sha1(str(EBE_pollution.mark).encode(\"utf-8\")+b\"23c648c970750c35\").hexdigest() == \"b4f6fab40cfec68f6848f60a6d214a4d504d2b7f\", \"correct string value of EBE_pollution.mark but incorrect case of letters\"\n",
    "\n",
    "assert sha1(str(type(isinstance(EBE_pollution.encoding.x['title'], str))).encode(\"utf-8\")+b\"772d9de50605c703\").hexdigest() == \"a78d697141f22ca115ec7ea240c9a8f3a1d3ea70\", \"type of isinstance(EBE_pollution.encoding.x['title'], str) is not bool. isinstance(EBE_pollution.encoding.x['title'], str) should be a bool\"\n",
    "assert sha1(str(isinstance(EBE_pollution.encoding.x['title'], str)).encode(\"utf-8\")+b\"772d9de50605c703\").hexdigest() == \"f183073f091d00b27822f36ca8e87eb636c74eb7\", \"boolean value of isinstance(EBE_pollution.encoding.x['title'], str) is not correct\"\n",
    "\n",
    "assert sha1(str(type(isinstance(EBE_pollution.encoding.y['title'], str))).encode(\"utf-8\")+b\"3a0a4ec9d85c2ce1\").hexdigest() == \"2556242609645080a8ffa85b0908c0f2bb86ae04\", \"type of isinstance(EBE_pollution.encoding.y['title'], str) is not bool. isinstance(EBE_pollution.encoding.y['title'], str) should be a bool\"\n",
    "assert sha1(str(isinstance(EBE_pollution.encoding.y['title'], str)).encode(\"utf-8\")+b\"3a0a4ec9d85c2ce1\").hexdigest() == \"a72951aab479b54d73cb25e83709983691448b70\", \"boolean value of isinstance(EBE_pollution.encoding.y['title'], str) is not correct\"\n",
    "\n",
    "print('Success!')"
   ]
  },
  {
   "cell_type": "markdown",
   "metadata": {
    "deletable": false,
    "editable": false,
    "nbgrader": {
     "cell_type": "markdown",
     "checksum": "b658b04f5daef6e4549c08a50bdfd2f3",
     "grade": false,
     "grade_id": "cell-112c1b3ac6b6c720",
     "locked": true,
     "schema_version": 3,
     "solution": false,
     "task": false
    }
   },
   "source": [
    "We can see from this plot that over time, there are less and less high (> 25 μg/m³) EBE values."
   ]
  },
  {
   "cell_type": "markdown",
   "metadata": {
    "deletable": false,
    "editable": false,
    "nbgrader": {
     "cell_type": "markdown",
     "checksum": "bc504a52ef31f0f567b11ab1a517c877",
     "grade": false,
     "grade_id": "cell-648260c1e625b576",
     "locked": true,
     "schema_version": 3,
     "solution": false
    }
   },
   "source": [
    "**Question 3.4**\n",
    "<br> {points: 1}\n",
    "\n",
    "The question above asks you to write out code that allows visualization of all EBE recordings - which are taken every single hour of every day. Consequently the graph consists of many points and appears so densely plotted that it is difficult to interpret. In this question, we are going to clean up the graph and focus on max EBE readings from each month. To further investigate if this trend is changing over time, we will use `groupby` and `max` to create a new data set.\n",
    "\n",
    "Fill in the `___` in the cell below. \n",
    "\n",
    "*Assign your answer to an object called `madrid_pollution`.*"
   ]
  },
  {
   "cell_type": "code",
   "execution_count": null,
   "metadata": {
    "deletable": false,
    "nbgrader": {
     "cell_type": "code",
     "checksum": "8514621883a2b6697273f4b6478a8052",
     "grade": false,
     "grade_id": "cell-dbd1c81ead522ff6",
     "locked": false,
     "schema_version": 3,
     "solution": true
    }
   },
   "outputs": [],
   "source": [
    "# ___ = ___.groupby([\"year\", ___]).max(\"EBE\").reset_index()\n",
    "\n",
    "# your code here\n",
    "raise NotImplementedError\n",
    "madrid_pollution"
   ]
  },
  {
   "cell_type": "code",
   "execution_count": null,
   "metadata": {
    "deletable": false,
    "editable": false,
    "nbgrader": {
     "cell_type": "code",
     "checksum": "8e0877f39e3e289dd00adc907ec137a3",
     "grade": true,
     "grade_id": "cell-d04ca4acf0f5f6bc",
     "locked": true,
     "points": 3,
     "schema_version": 3,
     "solution": false
    }
   },
   "outputs": [],
   "source": [
    "from hashlib import sha1\n",
    "assert sha1(str(type(madrid_pollution is None)).encode(\"utf-8\")+b\"d40f863738cb22ff\").hexdigest() == \"71141eaed0d4e78669f4c26be54bd64a4fc9a3db\", \"type of madrid_pollution is None is not bool. madrid_pollution is None should be a bool\"\n",
    "assert sha1(str(madrid_pollution is None).encode(\"utf-8\")+b\"d40f863738cb22ff\").hexdigest() == \"366ba6ebe68e41a4480424c38caeab7b2fc61ade\", \"boolean value of madrid_pollution is None is not correct\"\n",
    "\n",
    "assert sha1(str(type(madrid_pollution.shape)).encode(\"utf-8\")+b\"3dccd1ca1d577335\").hexdigest() == \"21bf7111171b6a0b8aaf6fce4c66d72971f2cedf\", \"type of madrid_pollution.shape is not tuple. madrid_pollution.shape should be a tuple\"\n",
    "assert sha1(str(len(madrid_pollution.shape)).encode(\"utf-8\")+b\"3dccd1ca1d577335\").hexdigest() == \"983014db3c0fdf248b52fb1fad003bff584de4c5\", \"length of madrid_pollution.shape is not correct\"\n",
    "assert sha1(str(sorted(map(str, madrid_pollution.shape))).encode(\"utf-8\")+b\"3dccd1ca1d577335\").hexdigest() == \"3ea1ec6574d0d403443b65d2939080a3c2dd46fc\", \"values of madrid_pollution.shape are not correct\"\n",
    "assert sha1(str(madrid_pollution.shape).encode(\"utf-8\")+b\"3dccd1ca1d577335\").hexdigest() == \"0efe8c4ae40416bd5511cdc473a53196237ba780\", \"order of elements of madrid_pollution.shape is not correct\"\n",
    "\n",
    "assert sha1(str(type(sum(madrid_pollution.year))).encode(\"utf-8\")+b\"a0c285182a6e85c7\").hexdigest() == \"9b865d41a12e8f0db3b3b0e1d9bde386a3aa7ac1\", \"type of sum(madrid_pollution.year) is not int. Please make sure it is int and not np.int64, etc. You can cast your value into an int using int()\"\n",
    "assert sha1(str(sum(madrid_pollution.year)).encode(\"utf-8\")+b\"a0c285182a6e85c7\").hexdigest() == \"ab57010f307f1f5b3fec35b2e020d2a838c23469\", \"value of sum(madrid_pollution.year) is not correct\"\n",
    "\n",
    "print('Success!')"
   ]
  },
  {
   "cell_type": "markdown",
   "metadata": {
    "deletable": false,
    "editable": false,
    "nbgrader": {
     "cell_type": "markdown",
     "checksum": "12741172ba84ffc08233a15200a7cc78",
     "grade": false,
     "grade_id": "cell-7275e7512b1bd674",
     "locked": true,
     "schema_version": 3,
     "solution": false
    }
   },
   "source": [
    "**Question 3.5**\n",
    "<br> {points: 1}\n",
    "\n",
    "Plot the new maximum EBE values versus the month they were recorded, split into side-by-side plots for each year. Again, we will use facetting (more on this next week) to plot each year side-by-side. \n",
    "\n",
    "*Assign your answer to an object called `madrid_plot`. Remember to label your axes.*"
   ]
  },
  {
   "cell_type": "code",
   "execution_count": null,
   "metadata": {
    "deletable": false,
    "nbgrader": {
     "cell_type": "code",
     "checksum": "223d258df9761e74a4122cf090046d00",
     "grade": false,
     "grade_id": "cell-a406232e78b0e3ab",
     "locked": false,
     "schema_version": 3,
     "solution": true
    }
   },
   "outputs": [],
   "source": [
    "# ___ = alt.Chart(___).mark_point().encode(\n",
    "#     x=alt.X(___).title(___),\n",
    "#     y=alt.Y(___).title(___)\n",
    "# ).facet(\"year\")\n",
    "\n",
    "# your code here\n",
    "raise NotImplementedError\n",
    "madrid_plot"
   ]
  },
  {
   "cell_type": "code",
   "execution_count": null,
   "metadata": {
    "deletable": false,
    "editable": false,
    "nbgrader": {
     "cell_type": "code",
     "checksum": "07d691a53629092840265470d5c6853c",
     "grade": true,
     "grade_id": "cell-b12cea24ac607772",
     "locked": true,
     "points": 1,
     "schema_version": 3,
     "solution": false
    }
   },
   "outputs": [],
   "source": [
    "from hashlib import sha1\n",
    "assert str(type(madrid_plot is None)) == \"<class 'bool'>\", \"type of madrid_plot is None is not bool. madrid_plot is None should be a bool\"\n",
    "assert str(madrid_plot is None) == \"False\", \"boolean value of madrid_plot is None is not correct\"\n",
    "\n",
    "assert str(type(madrid_plot.facet)) == \"<class 'altair.vegalite.v5.schema.channels.Facet'>\", \"type of madrid_plot.facet is not correct\"\n",
    "assert str(madrid_plot.facet) == \"Facet({\\n  shorthand: 'year'\\n})\", \"value of madrid_plot.facet is not correct\"\n",
    "\n",
    "print('Success!')"
   ]
  },
  {
   "cell_type": "markdown",
   "metadata": {
    "deletable": false,
    "editable": false,
    "nbgrader": {
     "cell_type": "markdown",
     "checksum": "d5e4b3db7b7147bf41fc9ce8f33aa21d",
     "grade": false,
     "grade_id": "cell-f8e81164975da6e9",
     "locked": true,
     "schema_version": 3,
     "solution": false
    }
   },
   "source": [
    "**Question 3.6**\n",
    "<br> {points: 1}\n",
    "\n",
    "Now we want to see which of the pollutants has decreased the most. Therefore, we must repeat the same thing that we did in the questions above but for every pollutant (using the original data set)!  \n",
    "\n",
    "First we will look at Madrid pollution in 2001 (filter for this year). Next we have to drop the columns that should be excluded (such as the date). Lastly, use the `max` function to create max values for all columns.\n",
    "\n",
    "Note: The `max` function would return a pandas series. But since we would need a dataframe for later exercises, we need to convert the series to a dataframe by using `pd.DataFrame`. Applying `transpose` to the dataframe turns each row into a column, which is also helpful for later exercises.\n",
    "\n",
    "Fill in the `___` in the cell below.\n",
    "\n",
    "*Assign your answer to an object called `pollution_2001`.*"
   ]
  },
  {
   "cell_type": "code",
   "execution_count": null,
   "metadata": {
    "deletable": false,
    "nbgrader": {
     "cell_type": "code",
     "checksum": "8c56d8c3a83a1bf39a798cf1e0bab440",
     "grade": false,
     "grade_id": "cell-be1574acc60b53e9",
     "locked": false,
     "schema_version": 3,
     "solution": true
    }
   },
   "outputs": [],
   "source": [
    "# ___ = pd.DataFrame(\n",
    "#     madrid\n",
    "#     [___]\n",
    "#     .drop(columns=[___, ___, ___])\n",
    "#     .___()\n",
    "# ).transpose()\n",
    "\n",
    "# your code here\n",
    "raise NotImplementedError\n",
    "pollution_2001"
   ]
  },
  {
   "cell_type": "code",
   "execution_count": null,
   "metadata": {
    "deletable": false,
    "editable": false,
    "nbgrader": {
     "cell_type": "code",
     "checksum": "ff105624a32a6c937a45e2a6d8708e79",
     "grade": true,
     "grade_id": "cell-23ecb8f3102f3435",
     "locked": true,
     "points": 3,
     "schema_version": 3,
     "solution": false
    }
   },
   "outputs": [],
   "source": [
    "from hashlib import sha1\n",
    "assert sha1(str(type(pollution_2001 is None)).encode(\"utf-8\")+b\"2a58c2c888bb909a\").hexdigest() == \"d0c27bdcf0126c5bec6fb6fa5c856e40f4a89490\", \"type of pollution_2001 is None is not bool. pollution_2001 is None should be a bool\"\n",
    "assert sha1(str(pollution_2001 is None).encode(\"utf-8\")+b\"2a58c2c888bb909a\").hexdigest() == \"8bcd8911ffdd676a569adf882baa33937c54cae6\", \"boolean value of pollution_2001 is None is not correct\"\n",
    "\n",
    "assert sha1(str(type(pollution_2001.shape)).encode(\"utf-8\")+b\"f420a804e6e74f59\").hexdigest() == \"b2e0c8d6efabe031cea927dd87d1de59acb0ad90\", \"type of pollution_2001.shape is not tuple. pollution_2001.shape should be a tuple\"\n",
    "assert sha1(str(len(pollution_2001.shape)).encode(\"utf-8\")+b\"f420a804e6e74f59\").hexdigest() == \"176461da6145d8c1f1f4defecfd3ca9233412b52\", \"length of pollution_2001.shape is not correct\"\n",
    "assert sha1(str(sorted(map(str, pollution_2001.shape))).encode(\"utf-8\")+b\"f420a804e6e74f59\").hexdigest() == \"337132733fa379482b85240d937e3ae4ddbf74ba\", \"values of pollution_2001.shape are not correct\"\n",
    "assert sha1(str(pollution_2001.shape).encode(\"utf-8\")+b\"f420a804e6e74f59\").hexdigest() == \"ab6afb83e0873a1f328478c654e62efc0d913157\", \"order of elements of pollution_2001.shape is not correct\"\n",
    "\n",
    "assert sha1(str(type(pollution_2001.MXY.values)).encode(\"utf-8\")+b\"9b8893b6472c0799\").hexdigest() == \"1fed02a96b424d20f77f49d72ca4a79baab339f6\", \"type of pollution_2001.MXY.values is not correct\"\n",
    "assert sha1(str(pollution_2001.MXY.values).encode(\"utf-8\")+b\"9b8893b6472c0799\").hexdigest() == \"296744ca3835aaf485623cfb10b4819c0f9056bd\", \"value of pollution_2001.MXY.values is not correct\"\n",
    "\n",
    "assert sha1(str(type(pollution_2001.values.sum())).encode(\"utf-8\")+b\"f915df13e4fb81fa\").hexdigest() == \"6cfda7930c441e498886ad12449f6b6204e95a6c\", \"type of pollution_2001.values.sum() is not correct\"\n",
    "assert sha1(str(pollution_2001.values.sum()).encode(\"utf-8\")+b\"f915df13e4fb81fa\").hexdigest() == \"4bd8de8fe2378322510cf709e0138fcce9eb42a5\", \"value of pollution_2001.values.sum() is not correct\"\n",
    "\n",
    "print('Success!')"
   ]
  },
  {
   "cell_type": "markdown",
   "metadata": {
    "deletable": false,
    "editable": false,
    "nbgrader": {
     "cell_type": "markdown",
     "checksum": "4e7a96c4f21bfc5fb9e81ae4c20ade55",
     "grade": false,
     "grade_id": "cell-e39870b13e1cfdbc",
     "locked": true,
     "schema_version": 3,
     "solution": false
    }
   },
   "source": [
    "**Question 3.7**\n",
    "<br> {points: 1}\n",
    "\n",
    "Now repeat what you did for Question 3.6, but filter for 2006 instead. \n",
    "\n",
    "*Assign your answer to an object called `pollution_2006`.*"
   ]
  },
  {
   "cell_type": "code",
   "execution_count": null,
   "metadata": {
    "deletable": false,
    "nbgrader": {
     "cell_type": "code",
     "checksum": "94e97bf90f8fe784d1973e27c11928da",
     "grade": false,
     "grade_id": "cell-f32f902d017d6f0f",
     "locked": false,
     "schema_version": 3,
     "solution": true
    }
   },
   "outputs": [],
   "source": [
    "# your code here\n",
    "raise NotImplementedError\n",
    "pollution_2006"
   ]
  },
  {
   "cell_type": "code",
   "execution_count": null,
   "metadata": {
    "deletable": false,
    "editable": false,
    "nbgrader": {
     "cell_type": "code",
     "checksum": "0fde18b0697cb5ec33c34fb77b9d48bc",
     "grade": true,
     "grade_id": "cell-df023e23794302c6",
     "locked": true,
     "points": 3,
     "schema_version": 3,
     "solution": false
    }
   },
   "outputs": [],
   "source": [
    "from hashlib import sha1\n",
    "assert str(type(pollution_2006 is None)) == \"<class 'bool'>\", \"type of pollution_2006 is None is not bool. pollution_2006 is None should be a bool\"\n",
    "assert str(pollution_2006 is None) == \"False\", \"boolean value of pollution_2006 is None is not correct\"\n",
    "\n",
    "assert str(type(pollution_2006.shape)) == \"<class 'tuple'>\", \"type of pollution_2006.shape is not tuple. pollution_2006.shape should be a tuple\"\n",
    "assert str(len(pollution_2006.shape)) == \"2\", \"length of pollution_2006.shape is not correct\"\n",
    "assert str(sorted(map(str, pollution_2006.shape))) == \"['1', '14']\", \"values of pollution_2006.shape are not correct\"\n",
    "assert str(pollution_2006.shape) == \"(1, 14)\", \"order of elements of pollution_2006.shape is not correct\"\n",
    "\n",
    "assert sha1(str(type(pollution_2006.MXY.values)).encode(\"utf-8\")+b\"5bc13f18355b06c3\").hexdigest() == \"36f773a55780bb3d53ed0c8586a096806275ac16\", \"type of pollution_2006.MXY.values is not correct\"\n",
    "assert sha1(str(pollution_2006.MXY.values).encode(\"utf-8\")+b\"5bc13f18355b06c3\").hexdigest() == \"d8e5868f6f4d493a28bf38711c8d62144d50932d\", \"value of pollution_2006.MXY.values is not correct\"\n",
    "\n",
    "assert sha1(str(type(pollution_2006.values.sum())).encode(\"utf-8\")+b\"624be4b84a2a70c5\").hexdigest() == \"383f8e6f3fdbefd45e479b830828e259663b8aab\", \"type of pollution_2006.values.sum() is not correct\"\n",
    "assert sha1(str(pollution_2006.values.sum()).encode(\"utf-8\")+b\"624be4b84a2a70c5\").hexdigest() == \"6a2f65ef6e9de19b1ae59ad74b5af6be304dcfdc\", \"value of pollution_2006.values.sum() is not correct\"\n",
    "\n",
    "print('Success!')"
   ]
  },
  {
   "cell_type": "markdown",
   "metadata": {
    "deletable": false,
    "editable": false,
    "nbgrader": {
     "cell_type": "markdown",
     "checksum": "ecc042d43f280cdc8e6fa3f36b83e117",
     "grade": false,
     "grade_id": "cell-a16e6e9379986fdd",
     "locked": true,
     "schema_version": 3,
     "solution": false
    }
   },
   "source": [
    "**Question 3.8** \n",
    "<br> {points: 1}\n",
    "\n",
    "Which pollutant decreased by the greatest magnitude between 2001 and 2006? Given that your the two objects you just created, `pollution_2001` and `pollution_2006` are data frames with the same columns you should be able to subtract the two objects to find which pollutant decreased by the greatest magnitude between the two years. \n",
    "\n",
    "*Assign your answer to an object called `answer3_8`. Make sure to write the answer exactly as it is given in the data set.* Example: \n",
    "\n",
    "```\n",
    "answer3_8 = \"BEN\"\n",
    "```"
   ]
  },
  {
   "cell_type": "code",
   "execution_count": null,
   "metadata": {
    "deletable": false,
    "nbgrader": {
     "cell_type": "code",
     "checksum": "c003c9b98d2d227c7fb824f738676fda",
     "grade": false,
     "grade_id": "cell-37d1d8a36a3010c8",
     "locked": false,
     "schema_version": 3,
     "solution": true
    }
   },
   "outputs": [],
   "source": [
    "# your code here\n",
    "raise NotImplementedError"
   ]
  },
  {
   "cell_type": "code",
   "execution_count": null,
   "metadata": {
    "deletable": false,
    "editable": false,
    "nbgrader": {
     "cell_type": "code",
     "checksum": "cd8fb50091900c844184ac47b0243fdf",
     "grade": true,
     "grade_id": "cell-5ed11e7cbe1ac843",
     "locked": true,
     "points": 3,
     "schema_version": 3,
     "solution": false
    }
   },
   "outputs": [],
   "source": [
    "from hashlib import sha1\n",
    "assert sha1(str(type(answer3_8)).encode(\"utf-8\")+b\"acf9badefcb92263\").hexdigest() == \"483f612fe0fd7674dc12c3c4ed21f7f604c834f5\", \"type of answer3_8 is not str. answer3_8 should be an str\"\n",
    "assert sha1(str(len(answer3_8)).encode(\"utf-8\")+b\"acf9badefcb92263\").hexdigest() == \"2b40b1cb4e230bed2b0a5d58807fc7d16cfbe691\", \"length of answer3_8 is not correct\"\n",
    "assert sha1(str(answer3_8.lower()).encode(\"utf-8\")+b\"acf9badefcb92263\").hexdigest() == \"c8ce901b92db2aeb3b980c649c86e7f5c54fea15\", \"value of answer3_8 is not correct\"\n",
    "assert sha1(str(answer3_8).encode(\"utf-8\")+b\"acf9badefcb92263\").hexdigest() == \"9bd3bbd1a918a854487ece2e459c00c38a34c6c0\", \"correct string value of answer3_8 but incorrect case of letters\"\n",
    "\n",
    "print('Success!')"
   ]
  },
  {
   "cell_type": "markdown",
   "metadata": {
    "deletable": false,
    "editable": false,
    "nbgrader": {
     "cell_type": "markdown",
     "checksum": "fabf7b47998a71ea8afd9ed6ceb24321",
     "grade": false,
     "grade_id": "cell-39c7d54ce32a3cf3",
     "locked": true,
     "schema_version": 3,
     "solution": false
    }
   },
   "source": [
    "**Question 3.9**\n",
    "<br> {points: 1}\n",
    "\n",
    "Given that there were only 14 columns in the data frame above, you could use your eyes to pick out which pollutant decreased by the greatest magnitude between 2001 and 2006. But what would you do if you had 100 columns? Or 1000 columns? It would take A LONG TIME for your human eyeballs to find the biggest difference. Maybe you could use the min funcion by specifying `axis=1` (horizontally):"
   ]
  },
  {
   "cell_type": "code",
   "execution_count": null,
   "metadata": {
    "deletable": false,
    "editable": false,
    "nbgrader": {
     "cell_type": "code",
     "checksum": "c4c46f5cccfd17742f297cc6c14a12ac",
     "grade": false,
     "grade_id": "cell-3e5f51fc465018c3",
     "locked": true,
     "schema_version": 3,
     "solution": false,
     "task": false
    }
   },
   "outputs": [],
   "source": [
    "# run this cell\n",
    "(pollution_2006 - pollution_2001).min(axis=1)"
   ]
  },
  {
   "cell_type": "markdown",
   "metadata": {
    "deletable": false,
    "editable": false,
    "nbgrader": {
     "cell_type": "markdown",
     "checksum": "7ce41cb786907c1c71338be09fb2c104",
     "grade": false,
     "grade_id": "cell-6281bc171c2d9074",
     "locked": true,
     "schema_version": 3,
     "solution": false,
     "task": false
    }
   },
   "source": [
    "This is a step in the right direction, but you get the value and not the column name... What are we to do? Tidy our data! Our data is not in tidy format, and so it's difficult to access the values for the variable pollutant because they are stuck as column headers. Let's use `melt` to tidy our data and make it look like this:\n",
    "\n",
    "| pollutant | value  |\n",
    "|-----------|--------|\n",
    "| BEN       | -33.04 |\n",
    "| CO        | -6.91  |\n",
    "| ...       | ...    |\n",
    "\n",
    "To answer this question, fill in the `___` in the cell below. \n",
    "\n",
    "*Assign your answer to an object called `pollution_diff` and ensure it has the same column names as the table pictured above.*"
   ]
  },
  {
   "cell_type": "code",
   "execution_count": null,
   "metadata": {
    "deletable": false,
    "nbgrader": {
     "cell_type": "code",
     "checksum": "c70d664f8482b90fa7f1b1d59234e413",
     "grade": false,
     "grade_id": "cell-96e5081abb9ab341",
     "locked": false,
     "schema_version": 3,
     "solution": true
    }
   },
   "outputs": [],
   "source": [
    "pollution_diff = pollution_2006 - pollution_2001\n",
    "# pollution_diff = ___.melt(var_name=___, value_name=___)\n",
    "\n",
    "\n",
    "# your code here\n",
    "raise NotImplementedError\n",
    "pollution_diff"
   ]
  },
  {
   "cell_type": "code",
   "execution_count": null,
   "metadata": {
    "deletable": false,
    "editable": false,
    "nbgrader": {
     "cell_type": "code",
     "checksum": "f1b7886c41b24c5ca1ae7c92b095e1e2",
     "grade": true,
     "grade_id": "cell-434094b036007273",
     "locked": true,
     "points": 3,
     "schema_version": 3,
     "solution": false
    }
   },
   "outputs": [],
   "source": [
    "from hashlib import sha1\n",
    "assert sha1(str(type(pollution_diff is None)).encode(\"utf-8\")+b\"bf03dfad56da7751\").hexdigest() == \"1580eb4e086b533e41c649ddff3ae8bd6775bb77\", \"type of pollution_diff is None is not bool. pollution_diff is None should be a bool\"\n",
    "assert sha1(str(pollution_diff is None).encode(\"utf-8\")+b\"bf03dfad56da7751\").hexdigest() == \"ca61ef1843bdf511f39e79eb2e2dcde4a9067fad\", \"boolean value of pollution_diff is None is not correct\"\n",
    "\n",
    "assert sha1(str(type(pollution_diff.shape)).encode(\"utf-8\")+b\"d197b74da956c266\").hexdigest() == \"9c5781b40cf0eca70f14a787ed14ff5d0e827ee8\", \"type of pollution_diff.shape is not tuple. pollution_diff.shape should be a tuple\"\n",
    "assert sha1(str(len(pollution_diff.shape)).encode(\"utf-8\")+b\"d197b74da956c266\").hexdigest() == \"c7a130aa0372aa8b789c2ed9ad8be6b59b3df1e6\", \"length of pollution_diff.shape is not correct\"\n",
    "assert sha1(str(sorted(map(str, pollution_diff.shape))).encode(\"utf-8\")+b\"d197b74da956c266\").hexdigest() == \"9a2d8b24cbaa9b0feb4a30b17177b26b4bdbbc8e\", \"values of pollution_diff.shape are not correct\"\n",
    "assert sha1(str(pollution_diff.shape).encode(\"utf-8\")+b\"d197b74da956c266\").hexdigest() == \"98685d18b28c9ff6044f37934aa89a58ee2326fe\", \"order of elements of pollution_diff.shape is not correct\"\n",
    "\n",
    "assert sha1(str(type(pollution_diff.columns.values)).encode(\"utf-8\")+b\"3ad11063209ea422\").hexdigest() == \"24880cb80cf350b7ad32f972505d9c123c8223c8\", \"type of pollution_diff.columns.values is not correct\"\n",
    "assert sha1(str(pollution_diff.columns.values).encode(\"utf-8\")+b\"3ad11063209ea422\").hexdigest() == \"6d1b166891ad4ea207ab23af174d9b9d0914f9b6\", \"value of pollution_diff.columns.values is not correct\"\n",
    "\n",
    "assert sha1(str(type(sum(pollution_diff.value))).encode(\"utf-8\")+b\"52a7eea27fe8970b\").hexdigest() == \"7bdfe3dc1c176804c26b1de9fbeab0feb165458d\", \"type of sum(pollution_diff.value) is not float. Please make sure it is float and not np.float64, etc. You can cast your value into a float using float()\"\n",
    "assert sha1(str(round(sum(pollution_diff.value), 2)).encode(\"utf-8\")+b\"52a7eea27fe8970b\").hexdigest() == \"aa78e806343c77234626b1da99d50502246be345\", \"value of sum(pollution_diff.value) is not correct (rounded to 2 decimal places)\"\n",
    "\n",
    "print('Success!')"
   ]
  },
  {
   "cell_type": "markdown",
   "metadata": {
    "deletable": false,
    "editable": false,
    "nbgrader": {
     "cell_type": "markdown",
     "checksum": "812d2ec14e8a81e751e06db626ebf1d0",
     "grade": false,
     "grade_id": "cell-8933eb3ea15101f3",
     "locked": true,
     "schema_version": 3,
     "solution": false
    }
   },
   "source": [
    "**Question 3.10**\n",
    "<br> {points: 1}\n",
    "\n",
    "Now that you have tidy data, you can use `sort_values` and argument `ascending=False` to order the data in descending order. Each element of the `value` column corresponds to an amount of decrease in a pollutant; so the *largest decrease* in pollutant should be *most negative entry*, i.e., the last row in the resulting dataframe. Therefore, we can take the sorted dataframe and chain it to `tail` (with the argument `1`) to return only the last row of the data frame.\n",
    "\n",
    "(the function `tail` is just like `head`, except it returns the last rows of the dataframe instead of the first rows.)\n",
    "\n",
    "To answer this question, fill in the `___` in the cell below. \n",
    "\n",
    "*Assign your answer to an object called `max_pollution_diff`.*"
   ]
  },
  {
   "cell_type": "code",
   "execution_count": null,
   "metadata": {
    "deletable": false,
    "nbgrader": {
     "cell_type": "code",
     "checksum": "1c8e98272b17f2687700eeba3998ea5d",
     "grade": false,
     "grade_id": "cell-b25d71fbf02fa70e",
     "locked": false,
     "schema_version": 3,
     "solution": true
    }
   },
   "outputs": [],
   "source": [
    "# max_pollution_diff = ___.sort_values(by=___, ascending=False).tail(1)\n",
    "\n",
    "# your code here\n",
    "raise NotImplementedError\n",
    "max_pollution_diff"
   ]
  },
  {
   "cell_type": "code",
   "execution_count": null,
   "metadata": {
    "deletable": false,
    "editable": false,
    "nbgrader": {
     "cell_type": "code",
     "checksum": "f824ec8efdf07b7fb5e3b875043883c5",
     "grade": true,
     "grade_id": "cell-f9cfd97235c900d5",
     "locked": true,
     "points": 3,
     "schema_version": 3,
     "solution": false
    }
   },
   "outputs": [],
   "source": [
    "from hashlib import sha1\n",
    "assert sha1(str(type(max_pollution_diff is None)).encode(\"utf-8\")+b\"310df13ed2c4fd86\").hexdigest() == \"9e38cbea8e35ae1bc4e48ac0417de643578aa0bb\", \"type of max_pollution_diff is None is not bool. max_pollution_diff is None should be a bool\"\n",
    "assert sha1(str(max_pollution_diff is None).encode(\"utf-8\")+b\"310df13ed2c4fd86\").hexdigest() == \"1af98bb33049b2d6decb21df164d3498b9c46f4a\", \"boolean value of max_pollution_diff is None is not correct\"\n",
    "\n",
    "assert sha1(str(type(max_pollution_diff.shape)).encode(\"utf-8\")+b\"ff3b0c999a18e11c\").hexdigest() == \"e2ca4d0ef7062cc63df506f4bedad2998b33153e\", \"type of max_pollution_diff.shape is not tuple. max_pollution_diff.shape should be a tuple\"\n",
    "assert sha1(str(len(max_pollution_diff.shape)).encode(\"utf-8\")+b\"ff3b0c999a18e11c\").hexdigest() == \"70a49c0c66d70eae11bc6446472ef483c3f97880\", \"length of max_pollution_diff.shape is not correct\"\n",
    "assert sha1(str(sorted(map(str, max_pollution_diff.shape))).encode(\"utf-8\")+b\"ff3b0c999a18e11c\").hexdigest() == \"00f5eb7d5dfa26e0c8cfc8d9d7ee6a0238c38c66\", \"values of max_pollution_diff.shape are not correct\"\n",
    "assert sha1(str(max_pollution_diff.shape).encode(\"utf-8\")+b\"ff3b0c999a18e11c\").hexdigest() == \"c76ea17d5f77f960a85715f99b295d06d098d7d1\", \"order of elements of max_pollution_diff.shape is not correct\"\n",
    "\n",
    "assert sha1(str(type(max_pollution_diff.columns.values)).encode(\"utf-8\")+b\"4d6e2fb7c53c48ed\").hexdigest() == \"9e2a8dcd055b77e4e1b945829f4e9b95c042ea21\", \"type of max_pollution_diff.columns.values is not correct\"\n",
    "assert sha1(str(max_pollution_diff.columns.values).encode(\"utf-8\")+b\"4d6e2fb7c53c48ed\").hexdigest() == \"464c27061aab802600cfae7afbe7c8dffbcd1621\", \"value of max_pollution_diff.columns.values is not correct\"\n",
    "\n",
    "assert sha1(str(type(sum(max_pollution_diff.value))).encode(\"utf-8\")+b\"85ecde0555f77712\").hexdigest() == \"99a047025611f0abfa37d96118bc261836b62117\", \"type of sum(max_pollution_diff.value) is not float. Please make sure it is float and not np.float64, etc. You can cast your value into a float using float()\"\n",
    "assert sha1(str(round(sum(max_pollution_diff.value), 2)).encode(\"utf-8\")+b\"85ecde0555f77712\").hexdigest() == \"4e40906c41dc993be3fa62f864c790ea948773b1\", \"value of sum(max_pollution_diff.value) is not correct (rounded to 2 decimal places)\"\n",
    "\n",
    "print('Success!')"
   ]
  },
  {
   "cell_type": "markdown",
   "metadata": {
    "deletable": false,
    "editable": false,
    "nbgrader": {
     "cell_type": "markdown",
     "checksum": "764ce1e60976980e7a5d13cde20d8fa7",
     "grade": false,
     "grade_id": "cell-cc19d9a2d3663e09",
     "locked": true,
     "schema_version": 3,
     "solution": false,
     "task": false
    }
   },
   "source": [
    "At the end of this data wrangling worksheet, we'll leave you with a couple quotes to ponder:\n",
    "\n",
    "> “Happy families are all alike; every unhappy family is unhappy in its own way.” –– Leo Tolstoy\n",
    "\n",
    "> “Tidy datasets are all alike, but every messy dataset is messy in its own way.” –– Hadley Wickham\n"
   ]
  }
 ],
 "metadata": {
  "jupytext": {
   "encoding": "# -*- coding: utf-8 -*-"
  },
  "kernelspec": {
   "display_name": "Python 3 (ipykernel)",
   "language": "python",
   "name": "python3"
  },
  "language_info": {
   "codemirror_mode": {
    "name": "ipython",
    "version": 3
   },
   "file_extension": ".py",
   "mimetype": "text/x-python",
   "name": "python",
   "nbconvert_exporter": "python",
   "pygments_lexer": "ipython3",
   "version": "3.11.4"
  }
 },
 "nbformat": 4,
 "nbformat_minor": 4
}
