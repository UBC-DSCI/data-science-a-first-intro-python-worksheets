{
 "cells": [
  {
   "cell_type": "markdown",
   "metadata": {
    "deletable": false,
    "editable": false,
    "nbgrader": {
     "cell_type": "markdown",
     "checksum": "e97748a474a0df6ff260b7c277e15f8f",
     "grade": false,
     "grade_id": "cell-f863750069537ead",
     "locked": true,
     "schema_version": 3,
     "solution": false,
     "task": false
    }
   },
   "source": [
    "# Worksheet 12 - The Bootstrap\n",
    "\n",
    "We will cover 2 things today:\n",
    "\n",
    "1. [Estimation when you only have 1 sample (like in real life!)](#Estimation-with-only-one-sample)\n",
    "2. [Getting Python + Jupyter working for you outside of our course](#Getting-Python-+-Jupyter-working-for-you-outside-of-our-course)"
   ]
  },
  {
   "cell_type": "markdown",
   "metadata": {
    "deletable": false,
    "editable": false,
    "nbgrader": {
     "cell_type": "markdown",
     "checksum": "0af84829498faa595f70b807bf9c3f97",
     "grade": false,
     "grade_id": "cell-feeb551ce9229310",
     "locked": true,
     "schema_version": 3,
     "solution": false,
     "task": false
    }
   },
   "source": [
    "### Lecture and Tutorial Learning Goals:\n",
    "\n",
    "After completing this week's lecture and tutorial work, you will be able to:\n",
    "- Explain why we don't have a sampling distribution in practice/real life.\n",
    "- Define bootstrapping.\n",
    "- Use Python to create a bootstrap distribution to approximate a sampling distribution.\n",
    "- Contrast bootstrap and sampling distributions.\n",
    "\n",
    "This worksheet covers parts of [Chapter 10](https://python.datasciencebook.ca/inference) of the online textbook. You should read this chapter before attempting this assignment. Any place you see `___`, you must fill in the function, variable, or data to complete the code. Substitute the `raise NotImplementedError` with your completed code and answers then proceed to run the cell."
   ]
  },
  {
   "cell_type": "code",
   "execution_count": null,
   "metadata": {
    "deletable": false,
    "editable": false,
    "nbgrader": {
     "cell_type": "code",
     "checksum": "f5492ab327f894773a7e522f3ef0e51d",
     "grade": false,
     "grade_id": "cell-55b5050a0a343a4f",
     "locked": true,
     "schema_version": 3,
     "solution": false,
     "task": false
    }
   },
   "outputs": [],
   "source": [
    "### Run this cell before continuing.\n",
    "import altair as alt\n",
    "import numpy as np\n",
    "import pandas as pd\n",
    "\n",
    "# Simplify working with large datasets in Altair\n",
    "alt.data_transformers.disable_max_rows()"
   ]
  },
  {
   "cell_type": "markdown",
   "metadata": {
    "deletable": false,
    "editable": false,
    "nbgrader": {
     "cell_type": "markdown",
     "checksum": "45827f1d33373e875656a0a097fbe1ef",
     "grade": false,
     "grade_id": "cell-b0098728d66708d2",
     "locked": true,
     "schema_version": 3,
     "solution": false,
     "task": false
    }
   },
   "source": [
    "**Question 1.1** True/False:\n",
    "<br> {points: 1}\n",
    "\n",
    "In real life, we typically take many samples from the population and create a sampling distribution when we perform estimation. True or false?\n",
    "\n",
    "*Assign your answer to an object called `answer1_1`. Your answer should be a boolean. i.e. `True` or `False`.*"
   ]
  },
  {
   "cell_type": "code",
   "execution_count": null,
   "metadata": {
    "deletable": false,
    "nbgrader": {
     "cell_type": "code",
     "checksum": "579b8b2a8396e609a0433b4d4864a97c",
     "grade": false,
     "grade_id": "cell-03cc711477e4baf7",
     "locked": false,
     "schema_version": 3,
     "solution": true,
     "task": false
    }
   },
   "outputs": [],
   "source": [
    "# your code here\n",
    "raise NotImplementedError"
   ]
  },
  {
   "cell_type": "code",
   "execution_count": null,
   "metadata": {
    "deletable": false,
    "editable": false,
    "nbgrader": {
     "cell_type": "code",
     "checksum": "bf179876e02025fc98cb15b650311e28",
     "grade": true,
     "grade_id": "cell-e8aa24da1ef5f535",
     "locked": true,
     "points": 1,
     "schema_version": 3,
     "solution": false,
     "task": false
    }
   },
   "outputs": [],
   "source": [
    "from hashlib import sha1\n",
    "assert sha1(str(type(answer1_1)).encode(\"utf-8\")+b\"8da4bbc0859f604a\").hexdigest() == \"b76620c1c8bc935d3179b39f2a5204ded4b903a1\", \"type of answer1_1 is not bool. answer1_1 should be a bool\"\n",
    "assert sha1(str(answer1_1).encode(\"utf-8\")+b\"8da4bbc0859f604a\").hexdigest() == \"31eef0f177c268972d150b081401556810440f74\", \"boolean value of answer1_1 is not correct\"\n",
    "\n",
    "print('Success!')"
   ]
  },
  {
   "cell_type": "markdown",
   "metadata": {
    "deletable": false,
    "editable": false,
    "nbgrader": {
     "cell_type": "markdown",
     "checksum": "0210bbb99abf687e877faf85810a29c8",
     "grade": false,
     "grade_id": "cell-05b19510ad97aeb3",
     "locked": true,
     "schema_version": 3,
     "solution": false,
     "task": false
    }
   },
   "source": [
    "**Question 1.2** Ordering\n",
    "<br> {points: 1}\n",
    "\n",
    "Correctly re-order the steps for creating a bootstrap sample from those listed below. \n",
    "\n",
    "1. record the observation's value\n",
    "2. repeat the above the same number of times as there are observations in the original sample \n",
    "3. return the observation to the original sample\n",
    "4. randomly draw an observation from the original sample (which was drawn from the population)\n",
    "\n",
    "Create your answer by reordering values below in the `answer1_2` list with the correct order for the steps above for creating a bootstrap sample."
   ]
  },
  {
   "cell_type": "code",
   "execution_count": null,
   "metadata": {
    "deletable": false,
    "nbgrader": {
     "cell_type": "code",
     "checksum": "5524eabbbbec4190912c0d4962f5eebc",
     "grade": false,
     "grade_id": "cell-dbdb7facfc6bda43",
     "locked": false,
     "schema_version": 3,
     "solution": true,
     "task": false
    }
   },
   "outputs": [],
   "source": [
    "answer1_2 = [1, 2, 3, 4]  # reorder the values!\n",
    "# your code here\n",
    "raise NotImplementedError"
   ]
  },
  {
   "cell_type": "code",
   "execution_count": null,
   "metadata": {
    "deletable": false,
    "editable": false,
    "nbgrader": {
     "cell_type": "code",
     "checksum": "32b4a9af98c1a7ae98812645665a019b",
     "grade": true,
     "grade_id": "cell-8a257d7535ce46fe",
     "locked": true,
     "points": 1,
     "schema_version": 3,
     "solution": false,
     "task": false
    }
   },
   "outputs": [],
   "source": [
    "from hashlib import sha1\n",
    "assert sha1(str(type(\"\".join(map(str, answer1_2)))).encode(\"utf-8\")+b\"d1d0f0ca1c34363f\").hexdigest() == \"09e7deb757bb1d7e956b40e620828fe40b5fb353\", \"type of \\\"\\\".join(map(str, answer1_2)) is not str. \\\"\\\".join(map(str, answer1_2)) should be an str\"\n",
    "assert sha1(str(len(\"\".join(map(str, answer1_2)))).encode(\"utf-8\")+b\"d1d0f0ca1c34363f\").hexdigest() == \"238d23ad17748b8d1d630bb0f0c84478506ad7f0\", \"length of \\\"\\\".join(map(str, answer1_2)) is not correct\"\n",
    "assert sha1(str(\"\".join(map(str, answer1_2)).lower()).encode(\"utf-8\")+b\"d1d0f0ca1c34363f\").hexdigest() == \"644d626173633edddc1653f2bc4f82c861daf9fa\", \"value of \\\"\\\".join(map(str, answer1_2)) is not correct\"\n",
    "assert sha1(str(\"\".join(map(str, answer1_2))).encode(\"utf-8\")+b\"d1d0f0ca1c34363f\").hexdigest() == \"644d626173633edddc1653f2bc4f82c861daf9fa\", \"correct string value of \\\"\\\".join(map(str, answer1_2)) but incorrect case of letters\"\n",
    "\n",
    "print('Success!')"
   ]
  },
  {
   "cell_type": "markdown",
   "metadata": {
    "deletable": false,
    "editable": false,
    "nbgrader": {
     "cell_type": "markdown",
     "checksum": "83650d768909b0827002ccde84fb13c7",
     "grade": false,
     "grade_id": "cell-a612ade2b8ba83fc",
     "locked": true,
     "schema_version": 3,
     "solution": false,
     "task": false
    }
   },
   "source": [
    "**Question 1.3** Multiple choice\n",
    "<br> {points: 1}\n",
    "\n",
    "From the list below, choose the correct description of a bootstrap distribution for a point estimate:\n",
    "\n",
    "A. a list of point estimates calculated from many samples drawn with replacement from the population\n",
    "\n",
    "B. a list of point estimates calculated from many samples drawn without replacement from the population\n",
    "\n",
    "C. a list of point estimates calculated from bootstrap samples drawn with replacement from a single sample (that was drawn from the population)\n",
    "\n",
    "D. a list of point estimates calculated from bootstrap samples drawn without replacement from a single sample (that was drawn from the population)\n",
    "\n",
    "*Assign your answer to an object called `answer1_3`. Your answer should be an uppercase letter and is surrounded by quotes. (e.g. `\"F\"`)*"
   ]
  },
  {
   "cell_type": "code",
   "execution_count": null,
   "metadata": {
    "deletable": false,
    "nbgrader": {
     "cell_type": "code",
     "checksum": "2b5e205723a8c4fce7632c22a3fd7766",
     "grade": false,
     "grade_id": "cell-fe8959defed4a439",
     "locked": false,
     "schema_version": 3,
     "solution": true,
     "task": false
    }
   },
   "outputs": [],
   "source": [
    "# your code here\n",
    "raise NotImplementedError"
   ]
  },
  {
   "cell_type": "code",
   "execution_count": null,
   "metadata": {
    "deletable": false,
    "editable": false,
    "nbgrader": {
     "cell_type": "code",
     "checksum": "798036f4608f78293e61a03ff279d63e",
     "grade": true,
     "grade_id": "cell-59dbb6a427a133c5",
     "locked": true,
     "points": 1,
     "schema_version": 3,
     "solution": false,
     "task": false
    }
   },
   "outputs": [],
   "source": [
    "from hashlib import sha1\n",
    "assert sha1(str(type(answer1_3)).encode(\"utf-8\")+b\"696d3cd8aef8f352\").hexdigest() == \"d69c63d5d41a39ff40ec930ed727a4773c34f5de\", \"type of answer1_3 is not str. answer1_3 should be an str\"\n",
    "assert sha1(str(len(answer1_3)).encode(\"utf-8\")+b\"696d3cd8aef8f352\").hexdigest() == \"8c36003872fa22cdf617118c1869e86ae49512c1\", \"length of answer1_3 is not correct\"\n",
    "assert sha1(str(answer1_3.lower()).encode(\"utf-8\")+b\"696d3cd8aef8f352\").hexdigest() == \"e053209ed89dba4b8bc001d6f1b6bbf2ce407ad1\", \"value of answer1_3 is not correct\"\n",
    "assert sha1(str(answer1_3).encode(\"utf-8\")+b\"696d3cd8aef8f352\").hexdigest() == \"d76047d9b3801e57b310a1e67c3dd86277d15926\", \"correct string value of answer1_3 but incorrect case of letters\"\n",
    "\n",
    "print('Success!')"
   ]
  },
  {
   "cell_type": "markdown",
   "metadata": {
    "deletable": false,
    "editable": false,
    "nbgrader": {
     "cell_type": "markdown",
     "checksum": "027e1dbd9f5d9eae8827885d72bfcecb",
     "grade": false,
     "grade_id": "cell-1df2a1ba39ccc80d",
     "locked": true,
     "schema_version": 3,
     "solution": false,
     "task": false
    }
   },
   "source": [
    "**Question 1.4** Multiple choice\n",
    "<br> {points: 1}\n",
    "\n",
    "From the list below, choose the correct explanation of why, when performing estimation, we want to report a plausible **range** for the true population quantity we are trying to estimate along with the point estimate:\n",
    "\n",
    "A. The point estimate is our best guess at the true population quantity we are trying to estimate\n",
    "\n",
    "B. The point estimate will often not be the exact value of the true population quantity we are trying to estimate\n",
    "\n",
    "C. The value of a point estimate from one sample might very well be different than the value of a point estimate from another sample.\n",
    "\n",
    "D. B & C\n",
    "\n",
    "F. A & C\n",
    "\n",
    "E. None of the above\n",
    "\n",
    "*Assign your answer to an object called `answer1_4`. Your answer should be an uppercase letter and is surrounded by quotes (e.g. `\"F\"`).*"
   ]
  },
  {
   "cell_type": "code",
   "execution_count": null,
   "metadata": {
    "deletable": false,
    "nbgrader": {
     "cell_type": "code",
     "checksum": "2637a738c7a900e4e9c741a57d77c698",
     "grade": false,
     "grade_id": "cell-fd7e89338bbb71ca",
     "locked": false,
     "schema_version": 3,
     "solution": true,
     "task": false
    }
   },
   "outputs": [],
   "source": [
    "# your code here\n",
    "raise NotImplementedError"
   ]
  },
  {
   "cell_type": "code",
   "execution_count": null,
   "metadata": {
    "deletable": false,
    "editable": false,
    "nbgrader": {
     "cell_type": "code",
     "checksum": "6b6959c3d991bb42f287961e14c32171",
     "grade": true,
     "grade_id": "cell-9448b3731eccbe8c",
     "locked": true,
     "points": 1,
     "schema_version": 3,
     "solution": false,
     "task": false
    }
   },
   "outputs": [],
   "source": [
    "from hashlib import sha1\n",
    "assert sha1(str(type(answer1_4)).encode(\"utf-8\")+b\"79b871a543ff7413\").hexdigest() == \"adcc024cdc4142ddf63d2662c2b29d5caa7755ac\", \"type of answer1_4 is not str. answer1_4 should be an str\"\n",
    "assert sha1(str(len(answer1_4)).encode(\"utf-8\")+b\"79b871a543ff7413\").hexdigest() == \"f4149939b26bc1109fd9f5d005dc6da0c16f0e3e\", \"length of answer1_4 is not correct\"\n",
    "assert sha1(str(answer1_4.lower()).encode(\"utf-8\")+b\"79b871a543ff7413\").hexdigest() == \"1918537ccd231d61285f0c0c1c944121c35b7b6c\", \"value of answer1_4 is not correct\"\n",
    "assert sha1(str(answer1_4).encode(\"utf-8\")+b\"79b871a543ff7413\").hexdigest() == \"1e09197c80d6953c73f8a886348773d07fea357c\", \"correct string value of answer1_4 but incorrect case of letters\"\n",
    "\n",
    "print('Success!')"
   ]
  },
  {
   "cell_type": "markdown",
   "metadata": {
    "deletable": false,
    "editable": false,
    "nbgrader": {
     "cell_type": "markdown",
     "checksum": "0a40a5c35842025d17e27bb17bb691e8",
     "grade": false,
     "grade_id": "cell-76363f7f1f56807e",
     "locked": true,
     "schema_version": 3,
     "solution": false,
     "task": false
    }
   },
   "source": [
    "###  Continuing with our virtual population of Canadian seniors from last worksheet\n",
    "\n",
    "Here we re-create the virtual population (ages of all Canadian seniors) we used in the last worksheet. It was bounded by realistic values ($\\geq$ 65 and $\\leq$ 118):"
   ]
  },
  {
   "cell_type": "code",
   "execution_count": null,
   "metadata": {
    "deletable": false,
    "editable": false,
    "nbgrader": {
     "cell_type": "code",
     "checksum": "be29c9e37a8fd4060ff21b414be3e106",
     "grade": false,
     "grade_id": "cell-522aafd1e9430ef3",
     "locked": true,
     "schema_version": 3,
     "solution": false,
     "task": false
    }
   },
   "outputs": [],
   "source": [
    "# Run this cell to simulate a large finite population\n",
    "# Don't change the seed!\n",
    "np.random.seed(4321)\n",
    "\n",
    "can_seniors = pd.DataFrame({\n",
    "    'age': np.random.exponential(1 / 0.1, 2000000) ** 2 + 65,\n",
    "}).query(\n",
    "    \"65 <= age <= 118\"\n",
    ")\n",
    "can_seniors"
   ]
  },
  {
   "cell_type": "markdown",
   "metadata": {
    "deletable": false,
    "editable": false,
    "nbgrader": {
     "cell_type": "markdown",
     "checksum": "5561245d433c1e817a99ae2a8ba5d19c",
     "grade": false,
     "grade_id": "cell-557951d5cb618c2c",
     "locked": true,
     "schema_version": 3,
     "solution": false,
     "task": false
    }
   },
   "source": [
    "Let's remind ourselves of what this population looks like:"
   ]
  },
  {
   "cell_type": "code",
   "execution_count": null,
   "metadata": {
    "deletable": false,
    "editable": false,
    "nbgrader": {
     "cell_type": "code",
     "checksum": "ba419372cc1f1da4c4107ab41ed8772d",
     "grade": false,
     "grade_id": "cell-ac4865a9c4709bbb",
     "locked": true,
     "schema_version": 3,
     "solution": false,
     "task": false
    }
   },
   "outputs": [],
   "source": [
    "# Run this cell\n",
    "pop_dist = alt.Chart(can_seniors, title='Population distribution').mark_bar().encode(\n",
    "    x=alt.X(\"age\")\n",
    "        .title(\"Age (years)\")\n",
    "        .bin(maxbins=30),\n",
    "    y=\"count()\"\n",
    ")\n",
    "pop_dist"
   ]
  },
  {
   "cell_type": "markdown",
   "metadata": {
    "deletable": false,
    "editable": false,
    "nbgrader": {
     "cell_type": "markdown",
     "checksum": "80ca92fd78203ba5c6755adb306bb512",
     "grade": false,
     "grade_id": "cell-f2e798c845edc3ee",
     "locked": true,
     "schema_version": 3,
     "solution": false,
     "task": false
    }
   },
   "source": [
    "### Estimate the mean age of Canadian Seniors\n",
    "\n",
    "Let's say we are interested in estimating the mean age of Canadian Seniors. Given that we have the population (we created it) we could just calculate the mean age from this population data. However in real life, we usually only have one small-ish sample from the population. Also, from our experimentation with sampling distributions, we know that different random samples will give us different point estimates. We also know from these experiments that the point estimates from different random samples will mostly be close to the true population quanitity we are trying to estimate, and how close depends on the sample size.\n",
    "\n",
    "What about in real life though, when we only have one sample? Can we say how close? Or at least give some plausible range of where we would expect the population quanitity we are trying to estimate to fall? Yes! We can do this using a method called bootstrapping! Let's explore how to create a bootstrap distribution from a single sample using Python and then we will discuss how the bootstrap distribution relates to the sampling distribution, and what it can tell us about the true population quantity we are trying to estimate."
   ]
  },
  {
   "cell_type": "markdown",
   "metadata": {
    "deletable": false,
    "editable": false,
    "nbgrader": {
     "cell_type": "markdown",
     "checksum": "5c79b5dab23b2d6c7cf9cf3d3f3ab343",
     "grade": false,
     "grade_id": "cell-9282c2797da1931b",
     "locked": true,
     "schema_version": 3,
     "solution": false,
     "task": false
    }
   },
   "source": [
    "Let's draw a single sample of size 40 from the population and visualize it:"
   ]
  },
  {
   "cell_type": "code",
   "execution_count": null,
   "metadata": {
    "deletable": false,
    "editable": false,
    "nbgrader": {
     "cell_type": "code",
     "checksum": "cd14628713ad4442b4df17a7b5050b85",
     "grade": false,
     "grade_id": "cell-01de9069dec4f4e5",
     "locked": true,
     "schema_version": 3,
     "solution": false,
     "task": false
    }
   },
   "outputs": [],
   "source": [
    "# Run this cell\n",
    "one_sample = can_seniors.sample(40, random_state=12345)\n",
    "one_sample"
   ]
  },
  {
   "cell_type": "code",
   "execution_count": null,
   "metadata": {
    "deletable": false,
    "editable": false,
    "nbgrader": {
     "cell_type": "code",
     "checksum": "bb65312fd841597bc6cf7c912c0c436a",
     "grade": false,
     "grade_id": "cell-1468c684182d5b3b",
     "locked": true,
     "schema_version": 3,
     "solution": false,
     "task": false
    }
   },
   "outputs": [],
   "source": [
    "# Run this cell\n",
    "one_sample_dist = alt.Chart(one_sample, title=\"Distribution of one sample\").mark_bar().encode(\n",
    "    x=alt.X(\"age\")\n",
    "        .title(\"Age (years)\")\n",
    "        .bin(maxbins=30),\n",
    "    y=\"count()\"\n",
    ")\n",
    "one_sample_dist"
   ]
  },
  {
   "cell_type": "markdown",
   "metadata": {
    "deletable": false,
    "editable": false,
    "nbgrader": {
     "cell_type": "markdown",
     "checksum": "d2b8dbe1add87bc2a28074fb65ec08e0",
     "grade": false,
     "grade_id": "cell-aaf103d19b9fba0d",
     "locked": true,
     "schema_version": 3,
     "solution": false,
     "task": false
    }
   },
   "source": [
    "**Question 1.5** \n",
    "<br> {points: 1}\n",
    "\n",
    "Calculate the mean age (our point estimate of interest) from the random sample you just took (`one_sample`). Assign the result to a variable called `one_sample_estimates`."
   ]
  },
  {
   "cell_type": "code",
   "execution_count": null,
   "metadata": {
    "deletable": false,
    "nbgrader": {
     "cell_type": "code",
     "checksum": "f28104353e674cf54cd5099322303646",
     "grade": false,
     "grade_id": "cell-443a7d1dcaf35e9a",
     "locked": false,
     "schema_version": 3,
     "solution": true,
     "task": false
    }
   },
   "outputs": [],
   "source": [
    "# your code here\n",
    "raise NotImplementedError\n",
    "one_sample_estimates"
   ]
  },
  {
   "cell_type": "code",
   "execution_count": null,
   "metadata": {
    "deletable": false,
    "editable": false,
    "nbgrader": {
     "cell_type": "code",
     "checksum": "670e455422d43c16a2a94b52cc5c1dff",
     "grade": true,
     "grade_id": "cell-8e9e83895e2967dd",
     "locked": true,
     "points": 1,
     "schema_version": 3,
     "solution": false,
     "task": false
    }
   },
   "outputs": [],
   "source": [
    "from hashlib import sha1\n",
    "assert sha1(str(type(one_sample_estimates.shape[0])).encode(\"utf-8\")+b\"5a8bfbf75ef41be0\").hexdigest() == \"256fbed4833c4eee2a87636e236be8a1a587130d\", \"type of one_sample_estimates.shape[0] is not int. Please make sure it is int and not np.int64, etc. You can cast your value into an int using int()\"\n",
    "assert sha1(str(one_sample_estimates.shape[0]).encode(\"utf-8\")+b\"5a8bfbf75ef41be0\").hexdigest() == \"dcb6fc42a583d727cdc927e0e72c368ed13c435c\", \"value of one_sample_estimates.shape[0] is not correct\"\n",
    "\n",
    "assert sha1(str(type(round(one_sample_estimates, 2))).encode(\"utf-8\")+b\"aa4592981272dd3e\").hexdigest() == \"779b44a8bb321f66fa2ad9582fe1889cd5e3e7ca\", \"type of round(one_sample_estimates, 2) is not correct\"\n",
    "assert sha1(str(round(one_sample_estimates, 2)).encode(\"utf-8\")+b\"aa4592981272dd3e\").hexdigest() == \"2d7e692b12287413d27a5810bef5907cb3ac163d\", \"value of round(one_sample_estimates, 2) is not correct\"\n",
    "\n",
    "print('Success!')"
   ]
  },
  {
   "cell_type": "markdown",
   "metadata": {
    "deletable": false,
    "editable": false,
    "nbgrader": {
     "cell_type": "markdown",
     "checksum": "61586671f8e28198caa1f4ebf885cc74",
     "grade": false,
     "grade_id": "cell-5575d82939196fc9",
     "locked": true,
     "schema_version": 3,
     "solution": false,
     "task": false
    }
   },
   "source": [
    "**Question 1.6** \n",
    "<br> {points: 1}\n",
    "\n",
    "To generate a single bootstrap sample in Python, we can use the `sample` method with `frac=1` to indicate that the bootstrap sample size is the same as the original sample. In contrast to when we created a sampling distribution from a population, we will set `replace=True` to ensure we don't end up with the exact same sample each time when perfroming the bootstrap.\n",
    "\n",
    "Use `sample` to take a single bootstrap sample from the sample you drew from the population. Use 4321 as the `random_state` and name this bootstrap sample `boot1`."
   ]
  },
  {
   "cell_type": "code",
   "execution_count": null,
   "metadata": {
    "deletable": false,
    "nbgrader": {
     "cell_type": "code",
     "checksum": "8b7b9cbb599a436317f9e8d58395cf41",
     "grade": false,
     "grade_id": "cell-239c20c4566f1f3c",
     "locked": false,
     "schema_version": 3,
     "solution": true,
     "task": false
    }
   },
   "outputs": [],
   "source": [
    "# ___ = one_sample.___(frac=___, replace=___, random_state=4321)\n",
    "\n",
    "# your code here\n",
    "raise NotImplementedError\n",
    "boot1"
   ]
  },
  {
   "cell_type": "code",
   "execution_count": null,
   "metadata": {
    "deletable": false,
    "editable": false,
    "nbgrader": {
     "cell_type": "code",
     "checksum": "e97eba8676b51ce8ed7ac6239781aab5",
     "grade": true,
     "grade_id": "cell-af716b8959aee1ac",
     "locked": true,
     "points": 1,
     "schema_version": 3,
     "solution": false,
     "task": false
    }
   },
   "outputs": [],
   "source": [
    "from hashlib import sha1\n",
    "assert sha1(str(type(\"\".join(boot1.columns))).encode(\"utf-8\")+b\"baced830d0eb0145\").hexdigest() == \"06e06d8967e9cb183c071aac11539da1ba85c40a\", \"type of \\\"\\\".join(boot1.columns) is not str. \\\"\\\".join(boot1.columns) should be an str\"\n",
    "assert sha1(str(len(\"\".join(boot1.columns))).encode(\"utf-8\")+b\"baced830d0eb0145\").hexdigest() == \"797272f83add551f7a69f8a4d396b94641cc8216\", \"length of \\\"\\\".join(boot1.columns) is not correct\"\n",
    "assert sha1(str(\"\".join(boot1.columns).lower()).encode(\"utf-8\")+b\"baced830d0eb0145\").hexdigest() == \"65ff91f48f8fe3dfaba0bd1cadf4f772c21a10b3\", \"value of \\\"\\\".join(boot1.columns) is not correct\"\n",
    "assert sha1(str(\"\".join(boot1.columns)).encode(\"utf-8\")+b\"baced830d0eb0145\").hexdigest() == \"65ff91f48f8fe3dfaba0bd1cadf4f772c21a10b3\", \"correct string value of \\\"\\\".join(boot1.columns) but incorrect case of letters\"\n",
    "\n",
    "assert sha1(str(type(boot1.shape[0])).encode(\"utf-8\")+b\"c353a3e60c1b902f\").hexdigest() == \"e36a6a96b65ca68beffbba92b246509d53d6f3fe\", \"type of boot1.shape[0] is not int. Please make sure it is int and not np.int64, etc. You can cast your value into an int using int()\"\n",
    "assert sha1(str(boot1.shape[0]).encode(\"utf-8\")+b\"c353a3e60c1b902f\").hexdigest() == \"804c9f32f182a37fe8def5c75c664fa4c5bab046\", \"value of boot1.shape[0] is not correct\"\n",
    "\n",
    "assert sha1(str(type(round(sum(boot1.age), 2))).encode(\"utf-8\")+b\"c7271b9193fb13c6\").hexdigest() == \"0b32ed5ec57a9d1fc80bfb84945a21c3016b9201\", \"type of round(sum(boot1.age), 2) is not float. Please make sure it is float and not np.float64, etc. You can cast your value into a float using float()\"\n",
    "assert sha1(str(round(round(sum(boot1.age), 2), 2)).encode(\"utf-8\")+b\"c7271b9193fb13c6\").hexdigest() == \"d8cb3b7632db9d1235c4d95280cdd4607115e416\", \"value of round(sum(boot1.age), 2) is not correct (rounded to 2 decimal places)\"\n",
    "\n",
    "assert sha1(str(type(sum(range(boot1.shape[0])))).encode(\"utf-8\")+b\"43bd071a6a5ee204\").hexdigest() == \"e5b85d9434cbafb29cfa79327dc75bfa1874c141\", \"type of sum(range(boot1.shape[0])) is not int. Please make sure it is int and not np.int64, etc. You can cast your value into an int using int()\"\n",
    "assert sha1(str(sum(range(boot1.shape[0]))).encode(\"utf-8\")+b\"43bd071a6a5ee204\").hexdigest() == \"4a484ec0109380ae7a86670a7ac891d015a195d3\", \"value of sum(range(boot1.shape[0])) is not correct\"\n",
    "\n",
    "print('Success!')"
   ]
  },
  {
   "cell_type": "markdown",
   "metadata": {
    "deletable": false,
    "editable": false,
    "nbgrader": {
     "cell_type": "markdown",
     "checksum": "6b31a0ff4438ccff63a746d6d0600cb2",
     "grade": false,
     "grade_id": "cell-7760b102574e0887",
     "locked": true,
     "schema_version": 3,
     "solution": false,
     "task": false
    }
   },
   "source": [
    "**Question 1.7** Multiple choice\n",
    "<br> {points: 1}\n",
    "\n",
    "Why do we change `replace` to `TRUE`?\n",
    "\n",
    "A. Taking a bootstrap sample involves drawing observations from the original population without replacement\n",
    "\n",
    "B. Taking a bootstrap sample involves drawing observations from the original population with replacement\n",
    "\n",
    "C. Taking a bootstrap sample involves drawing observations from the original sample without replacement\n",
    "\n",
    "D. Taking a bootstrap sample involves drawing observations from the original sample with replacement\n",
    "\n",
    "*Assign your answer to an object called `answer1_7`. Your answer should be an uppercase letter and is surrounded by quotes (e.g. `\"F\"`).*"
   ]
  },
  {
   "cell_type": "code",
   "execution_count": null,
   "metadata": {
    "deletable": false,
    "nbgrader": {
     "cell_type": "code",
     "checksum": "c9a0b9c0c32e57ee03fed8db30f605cd",
     "grade": false,
     "grade_id": "cell-ba91c2de68609fe7",
     "locked": false,
     "schema_version": 3,
     "solution": true,
     "task": false
    }
   },
   "outputs": [],
   "source": [
    "# your code here\n",
    "raise NotImplementedError"
   ]
  },
  {
   "cell_type": "code",
   "execution_count": null,
   "metadata": {
    "deletable": false,
    "editable": false,
    "nbgrader": {
     "cell_type": "code",
     "checksum": "0b1870499bc28bd2a55396c1e9a179ed",
     "grade": true,
     "grade_id": "cell-1b79e9b905b70215",
     "locked": true,
     "points": 1,
     "schema_version": 3,
     "solution": false,
     "task": false
    }
   },
   "outputs": [],
   "source": [
    "from hashlib import sha1\n",
    "assert sha1(str(type(answer1_7)).encode(\"utf-8\")+b\"e4c9d91535aa4410\").hexdigest() == \"96de88c83150d4408080a7c64dd8cf2b562ee6b8\", \"type of answer1_7 is not str. answer1_7 should be an str\"\n",
    "assert sha1(str(len(answer1_7)).encode(\"utf-8\")+b\"e4c9d91535aa4410\").hexdigest() == \"ed9d66f2fde029578a25a39c8318befc731e2a40\", \"length of answer1_7 is not correct\"\n",
    "assert sha1(str(answer1_7.lower()).encode(\"utf-8\")+b\"e4c9d91535aa4410\").hexdigest() == \"14371fd21f08b8b7a53fc79f10719dad2045246b\", \"value of answer1_7 is not correct\"\n",
    "assert sha1(str(answer1_7).encode(\"utf-8\")+b\"e4c9d91535aa4410\").hexdigest() == \"a8c78f5a68c55ca6b6945502492bbcc93a069e7b\", \"correct string value of answer1_7 but incorrect case of letters\"\n",
    "\n",
    "print('Success!')"
   ]
  },
  {
   "cell_type": "markdown",
   "metadata": {
    "deletable": false,
    "editable": false,
    "nbgrader": {
     "cell_type": "markdown",
     "checksum": "fa0e2f824c4681092e7cb0541d7c9650",
     "grade": false,
     "grade_id": "cell-93ea2b7d26e0e137",
     "locked": true,
     "schema_version": 3,
     "solution": false,
     "task": false
    }
   },
   "source": [
    "**Question 1.8** \n",
    "<br> {points: 1}\n",
    "\n",
    "Visualize the distribution of the bootstrap sample you just took (`boot1`). Set `maxbins=30`, name the plot `boot1_dist`, and give the plot and the x-axis a descriptive title."
   ]
  },
  {
   "cell_type": "code",
   "execution_count": null,
   "metadata": {
    "deletable": false,
    "nbgrader": {
     "cell_type": "code",
     "checksum": "84c2d8fb78a780441b5146d6c17ca260",
     "grade": false,
     "grade_id": "cell-389271affd1fc5af",
     "locked": false,
     "schema_version": 3,
     "solution": true,
     "task": false
    }
   },
   "outputs": [],
   "source": [
    "# your code here\n",
    "raise NotImplementedError\n",
    "boot1_dist"
   ]
  },
  {
   "cell_type": "code",
   "execution_count": null,
   "metadata": {
    "deletable": false,
    "editable": false,
    "nbgrader": {
     "cell_type": "code",
     "checksum": "977a6982ec2e03e3501e26ded43d68d5",
     "grade": true,
     "grade_id": "cell-3b7b4b4c4cc4971e",
     "locked": true,
     "points": 1,
     "schema_version": 3,
     "solution": false,
     "task": false
    }
   },
   "outputs": [],
   "source": [
    "from hashlib import sha1\n",
    "assert sha1(str(type(boot1_dist.encoding.x['shorthand'])).encode(\"utf-8\")+b\"ffcf0644d4cac0b7\").hexdigest() == \"2a91f8ee4262bb3bb21ae560fcf4a0b111b902a2\", \"type of boot1_dist.encoding.x['shorthand'] is not str. boot1_dist.encoding.x['shorthand'] should be an str\"\n",
    "assert sha1(str(len(boot1_dist.encoding.x['shorthand'])).encode(\"utf-8\")+b\"ffcf0644d4cac0b7\").hexdigest() == \"32162f2cb4f7d448cdb73a39462b87b48d2339c3\", \"length of boot1_dist.encoding.x['shorthand'] is not correct\"\n",
    "assert sha1(str(boot1_dist.encoding.x['shorthand'].lower()).encode(\"utf-8\")+b\"ffcf0644d4cac0b7\").hexdigest() == \"ca74598a9232f8e5070ec1a7495efbe79de6bfb0\", \"value of boot1_dist.encoding.x['shorthand'] is not correct\"\n",
    "assert sha1(str(boot1_dist.encoding.x['shorthand']).encode(\"utf-8\")+b\"ffcf0644d4cac0b7\").hexdigest() == \"ca74598a9232f8e5070ec1a7495efbe79de6bfb0\", \"correct string value of boot1_dist.encoding.x['shorthand'] but incorrect case of letters\"\n",
    "\n",
    "assert sha1(str(type(boot1_dist.encoding.y['shorthand'])).encode(\"utf-8\")+b\"638d94695be1919a\").hexdigest() == \"3240649eeb9808ed7bb97e8442ae351df2c8cb25\", \"type of boot1_dist.encoding.y['shorthand'] is not str. boot1_dist.encoding.y['shorthand'] should be an str\"\n",
    "assert sha1(str(len(boot1_dist.encoding.y['shorthand'])).encode(\"utf-8\")+b\"638d94695be1919a\").hexdigest() == \"d7bdb292156397d131a86ae5eab4bc223020e5ef\", \"length of boot1_dist.encoding.y['shorthand'] is not correct\"\n",
    "assert sha1(str(boot1_dist.encoding.y['shorthand'].lower()).encode(\"utf-8\")+b\"638d94695be1919a\").hexdigest() == \"162963803f5f38c479d7577f35666552d1dbb3f4\", \"value of boot1_dist.encoding.y['shorthand'] is not correct\"\n",
    "assert sha1(str(boot1_dist.encoding.y['shorthand']).encode(\"utf-8\")+b\"638d94695be1919a\").hexdigest() == \"162963803f5f38c479d7577f35666552d1dbb3f4\", \"correct string value of boot1_dist.encoding.y['shorthand'] but incorrect case of letters\"\n",
    "\n",
    "assert sha1(str(type(boot1_dist.mark)).encode(\"utf-8\")+b\"d57e07d32077ca4c\").hexdigest() == \"e83e1a5ce622f159643709f11c04541f950fbfda\", \"type of boot1_dist.mark is not str. boot1_dist.mark should be an str\"\n",
    "assert sha1(str(len(boot1_dist.mark)).encode(\"utf-8\")+b\"d57e07d32077ca4c\").hexdigest() == \"5b0b208b6c910f142c432c417fbc7f80b88360fe\", \"length of boot1_dist.mark is not correct\"\n",
    "assert sha1(str(boot1_dist.mark.lower()).encode(\"utf-8\")+b\"d57e07d32077ca4c\").hexdigest() == \"3cf0be5388af4375859773f005103cc1b2830cf0\", \"value of boot1_dist.mark is not correct\"\n",
    "assert sha1(str(boot1_dist.mark).encode(\"utf-8\")+b\"d57e07d32077ca4c\").hexdigest() == \"3cf0be5388af4375859773f005103cc1b2830cf0\", \"correct string value of boot1_dist.mark but incorrect case of letters\"\n",
    "\n",
    "assert sha1(str(type(boot1_dist.data.shape[0])).encode(\"utf-8\")+b\"65c18456b1808eaa\").hexdigest() == \"9b391bb28cec73e6b5625fca3b4eff46e097b18f\", \"type of boot1_dist.data.shape[0] is not int. Please make sure it is int and not np.int64, etc. You can cast your value into an int using int()\"\n",
    "assert sha1(str(boot1_dist.data.shape[0]).encode(\"utf-8\")+b\"65c18456b1808eaa\").hexdigest() == \"affbbde9733a3f171f1f513755a626c658478cba\", \"value of boot1_dist.data.shape[0] is not correct\"\n",
    "\n",
    "assert sha1(str(type(round(boot1_dist.data.sum(), 2))).encode(\"utf-8\")+b\"b92c15ad17e02c21\").hexdigest() == \"343af00aacb8fca94df22ce3b7560d4b4687f0b1\", \"type of round(boot1_dist.data.sum(), 2) is not correct\"\n",
    "assert sha1(str(round(boot1_dist.data.sum(), 2)).encode(\"utf-8\")+b\"b92c15ad17e02c21\").hexdigest() == \"f98becc5bd1a63538f0caf207b99a60147f1250c\", \"value of round(boot1_dist.data.sum(), 2) is not correct\"\n",
    "\n",
    "assert sha1(str(type(isinstance(boot1_dist.encoding.x['title'], str))).encode(\"utf-8\")+b\"5616060c4d5b8f76\").hexdigest() == \"09a86aa9e356a55ecd3f848b696ff18f6d7214c5\", \"type of isinstance(boot1_dist.encoding.x['title'], str) is not bool. isinstance(boot1_dist.encoding.x['title'], str) should be a bool\"\n",
    "assert sha1(str(isinstance(boot1_dist.encoding.x['title'], str)).encode(\"utf-8\")+b\"5616060c4d5b8f76\").hexdigest() == \"66bc343574c1686fc4b97878cea58f0b729d477f\", \"boolean value of isinstance(boot1_dist.encoding.x['title'], str) is not correct\"\n",
    "\n",
    "assert sha1(str(type(isinstance(boot1_dist.encoding.y['title'], str))).encode(\"utf-8\")+b\"6e6a5b3c1de74405\").hexdigest() == \"cdc0da723eb71c0aeb3d4862a1cbb59e877c269c\", \"type of isinstance(boot1_dist.encoding.y['title'], str) is not bool. isinstance(boot1_dist.encoding.y['title'], str) should be a bool\"\n",
    "assert sha1(str(isinstance(boot1_dist.encoding.y['title'], str)).encode(\"utf-8\")+b\"6e6a5b3c1de74405\").hexdigest() == \"df12da08aff52f88798a634d3bc3b84032b2e318\", \"boolean value of isinstance(boot1_dist.encoding.y['title'], str) is not correct\"\n",
    "\n",
    "assert sha1(str(type(boot1_dist.title is not None)).encode(\"utf-8\")+b\"97c80974ddd0a031\").hexdigest() == \"3f3b85b832740760b62eae5b2f4918799ff1a265\", \"type of boot1_dist.title is not None is not bool. boot1_dist.title is not None should be a bool\"\n",
    "assert sha1(str(boot1_dist.title is not None).encode(\"utf-8\")+b\"97c80974ddd0a031\").hexdigest() == \"46cfdcf11414ef300ee3650e11c9c1f95bc44aa3\", \"boolean value of boot1_dist.title is not None is not correct\"\n",
    "\n",
    "print('Success!')"
   ]
  },
  {
   "cell_type": "markdown",
   "metadata": {
    "deletable": false,
    "editable": false,
    "nbgrader": {
     "cell_type": "markdown",
     "checksum": "c691f81e9028349e41fe15d875710e53",
     "grade": false,
     "grade_id": "cell-84ed6755705e4eee",
     "locked": true,
     "schema_version": 3,
     "solution": false,
     "task": false
    }
   },
   "source": [
    "Let's now compare our bootstrap sample to the original random sample that we drew from the population:"
   ]
  },
  {
   "cell_type": "code",
   "execution_count": null,
   "metadata": {
    "deletable": false,
    "editable": false,
    "nbgrader": {
     "cell_type": "code",
     "checksum": "b01b59bf18198c2762c01fd12f2171fe",
     "grade": false,
     "grade_id": "cell-afd154dc6f0c3e39",
     "locked": true,
     "schema_version": 3,
     "solution": false,
     "task": false
    }
   },
   "outputs": [],
   "source": [
    "# Run this code cell\n",
    "one_sample_dist & boot1_dist"
   ]
  },
  {
   "cell_type": "markdown",
   "metadata": {
    "deletable": false,
    "editable": false,
    "nbgrader": {
     "cell_type": "markdown",
     "checksum": "47f3c85bb420a44735999d664286e765",
     "grade": false,
     "grade_id": "cell-fa64eb1f98987c99",
     "locked": true,
     "schema_version": 3,
     "solution": false,
     "task": false
    }
   },
   "source": [
    "Earlier we calculate the mean of our original sample to be about 79.6 years. What is the mean of our bootstrap sample?"
   ]
  },
  {
   "cell_type": "code",
   "execution_count": null,
   "metadata": {
    "deletable": false,
    "editable": false,
    "nbgrader": {
     "cell_type": "code",
     "checksum": "d1a518041a9676d4efadd284fb7ae750",
     "grade": false,
     "grade_id": "cell-77b326e307cf1cf6",
     "locked": true,
     "schema_version": 3,
     "solution": false,
     "task": false
    }
   },
   "outputs": [],
   "source": [
    "# Run this cell\n",
    "boot1.mean()"
   ]
  },
  {
   "cell_type": "markdown",
   "metadata": {
    "deletable": false,
    "editable": false,
    "nbgrader": {
     "cell_type": "markdown",
     "checksum": "a6a6f6afe4ff8ff4ffe61ab9de6af88b",
     "grade": false,
     "grade_id": "cell-c33dd58cb3c572af",
     "locked": true,
     "schema_version": 3,
     "solution": false,
     "task": false
    }
   },
   "source": [
    "We see that original sample distrbution and the bootstrap sample distribution are of similar shape, but not identical. They also have different means. The difference of the frequency of the values in the bootstrap sample (and the difference of the value of the mean) comes from sampling from the original sample with replacement. Why sample with replacement? If we didn't we would end up with the original sample again. What we are trying to do with bootstrapping is to mimic drawing another sample from the population, without actually doing that. \n",
    "\n",
    "Why are we doing this? As mentioned earlier, in real life we typically only have one sample and thus we cannot create a sampling distribution that we can use to tell us about how we might expect our point estimate to behave if we took another sample. What we can do instead, is to use our sample as an estimate of our population, and sample from that with replacement (i.e., bootstrapping) many times to create many bootstrap samples. We can then calculate point estimates for each bootstrap sample and create a bootstrap distribution of our point estimates and use this as a proxy for a sampling distribution. We can finally use this bootstrap distribution of our point estimates to suggest how we might expected our point estimate to behave if we took another sample."
   ]
  },
  {
   "cell_type": "markdown",
   "metadata": {
    "deletable": false,
    "editable": false,
    "nbgrader": {
     "cell_type": "markdown",
     "checksum": "b8d7a4a6b1c82473537c091b8fedb5dc",
     "grade": false,
     "grade_id": "cell-f5b5d685693ffe7f",
     "locked": true,
     "schema_version": 3,
     "solution": false,
     "task": false
    }
   },
   "source": [
    "**Question 1.9** \n",
    "<br> {points: 1}\n",
    "\n",
    "What do 6 different bootstrap samples look like? Use the `sample` method to create a single data frame with 6 bootstrap samples drawn from the original sample we drew from the population, `one_sample`. Assign a new column called `replicate` to mark the sample number `(from 0 to 5)`. Name the data frame `boot6`.\n",
    "\n",
    "Set the seed as `1234`."
   ]
  },
  {
   "cell_type": "code",
   "execution_count": null,
   "metadata": {
    "deletable": false,
    "nbgrader": {
     "cell_type": "code",
     "checksum": "cb7b5423e04df399831cce7bc0ce223d",
     "grade": false,
     "grade_id": "cell-6607b2dec92a2913",
     "locked": false,
     "schema_version": 3,
     "solution": true,
     "task": false
    }
   },
   "outputs": [],
   "source": [
    "np.random.seed(1234)  # DO NOT CHANGE!\n",
    "# your code here\n",
    "raise NotImplementedError\n",
    "boot6"
   ]
  },
  {
   "cell_type": "code",
   "execution_count": null,
   "metadata": {
    "deletable": false,
    "editable": false,
    "nbgrader": {
     "cell_type": "code",
     "checksum": "5910e71004d800aad3de26477e293c95",
     "grade": true,
     "grade_id": "cell-e57717e45df34f9a",
     "locked": true,
     "points": 1,
     "schema_version": 3,
     "solution": false,
     "task": false
    }
   },
   "outputs": [],
   "source": [
    "from hashlib import sha1\n",
    "assert sha1(str(type(\"\".join(boot6.columns))).encode(\"utf-8\")+b\"941f9e4fa84c020e\").hexdigest() == \"53df5ce8b4c00b72b7d583d318fd538111ae9631\", \"type of \\\"\\\".join(boot6.columns) is not str. \\\"\\\".join(boot6.columns) should be an str\"\n",
    "assert sha1(str(len(\"\".join(boot6.columns))).encode(\"utf-8\")+b\"941f9e4fa84c020e\").hexdigest() == \"f7389b568c9e860ffd96927e768be8d7e186ad8e\", \"length of \\\"\\\".join(boot6.columns) is not correct\"\n",
    "assert sha1(str(\"\".join(boot6.columns).lower()).encode(\"utf-8\")+b\"941f9e4fa84c020e\").hexdigest() == \"c6fd06f360ab300782c5619b3d2f0c83bdf164aa\", \"value of \\\"\\\".join(boot6.columns) is not correct\"\n",
    "assert sha1(str(\"\".join(boot6.columns)).encode(\"utf-8\")+b\"941f9e4fa84c020e\").hexdigest() == \"c6fd06f360ab300782c5619b3d2f0c83bdf164aa\", \"correct string value of \\\"\\\".join(boot6.columns) but incorrect case of letters\"\n",
    "\n",
    "assert sha1(str(type(boot6.shape[0])).encode(\"utf-8\")+b\"780d823fce2b7da7\").hexdigest() == \"51605d12b87d25e22153d723c00a9d3c18c15588\", \"type of boot6.shape[0] is not int. Please make sure it is int and not np.int64, etc. You can cast your value into an int using int()\"\n",
    "assert sha1(str(boot6.shape[0]).encode(\"utf-8\")+b\"780d823fce2b7da7\").hexdigest() == \"2e09203e98ed8d6097b3e6afb72b2df319beba4e\", \"value of boot6.shape[0] is not correct\"\n",
    "\n",
    "assert sha1(str(type(round(sum(boot6.age), 2))).encode(\"utf-8\")+b\"d6757d2ded553b7f\").hexdigest() == \"8757ab32c3c9ff2b60b1aced1ddac1e2b8b7835e\", \"type of round(sum(boot6.age), 2) is not float. Please make sure it is float and not np.float64, etc. You can cast your value into a float using float()\"\n",
    "assert sha1(str(round(round(sum(boot6.age), 2), 2)).encode(\"utf-8\")+b\"d6757d2ded553b7f\").hexdigest() == \"68f7a7955f13fc24158346f272468aeba5b440af\", \"value of round(sum(boot6.age), 2) is not correct (rounded to 2 decimal places)\"\n",
    "\n",
    "assert sha1(str(type(sum(boot6.replicate.unique()))).encode(\"utf-8\")+b\"5d02f6bcd0f693f0\").hexdigest() == \"d6e67da831cece8c871df89e1a3fe27c080138bf\", \"type of sum(boot6.replicate.unique()) is not correct\"\n",
    "assert sha1(str(sum(boot6.replicate.unique())).encode(\"utf-8\")+b\"5d02f6bcd0f693f0\").hexdigest() == \"d6b71232e41e23119479fe5d8fb416be94fe7e7a\", \"value of sum(boot6.replicate.unique()) is not correct\"\n",
    "\n",
    "print('Success!')"
   ]
  },
  {
   "cell_type": "markdown",
   "metadata": {
    "deletable": false,
    "editable": false,
    "nbgrader": {
     "cell_type": "markdown",
     "checksum": "b33288b01f7520dc423fb584d6d1e9b3",
     "grade": false,
     "grade_id": "cell-558b102565ddf4ae",
     "locked": true,
     "schema_version": 3,
     "solution": false,
     "task": false
    }
   },
   "source": [
    "**Question 2.0** \n",
    "<br> {points: 1}\n",
    "\n",
    "Now visualize the six bootstrap sample distributions from `boot6` by faceting the `replicate` column. To facilitate comparing the distribution, lay the plots out in a single column and set each plot's height to 100. Name the plot object `boot6_dist` and give the plot and the x-axis a descriptive title."
   ]
  },
  {
   "cell_type": "code",
   "execution_count": null,
   "metadata": {
    "deletable": false,
    "nbgrader": {
     "cell_type": "code",
     "checksum": "ad477d6f7ba270038b1d49988251c079",
     "grade": false,
     "grade_id": "cell-d1d36a4806776c6c",
     "locked": false,
     "schema_version": 3,
     "solution": true,
     "task": false
    }
   },
   "outputs": [],
   "source": [
    "# ___ = alt.Chart(___, title=___).___().___(\n",
    "#     x=alt.X(___)\n",
    "#         .title(___)\n",
    "#         .___(maxbins=30),\n",
    "#     y=___\n",
    "# ).___(\n",
    "#     ___=100\n",
    "# ).facet(\n",
    "#     ___,\n",
    "#     ___=1\n",
    "# )\n",
    "\n",
    "# your code here\n",
    "raise NotImplementedError\n",
    "boot6_dist"
   ]
  },
  {
   "cell_type": "code",
   "execution_count": null,
   "metadata": {
    "deletable": false,
    "editable": false,
    "nbgrader": {
     "cell_type": "code",
     "checksum": "5918b463cafdfb98c078396d93147ca6",
     "grade": true,
     "grade_id": "cell-38e6f9e544c5ce17",
     "locked": true,
     "points": 1,
     "schema_version": 3,
     "solution": false,
     "task": false
    }
   },
   "outputs": [],
   "source": [
    "from hashlib import sha1\n",
    "assert sha1(str(type(boot6_dist.facet['shorthand'])).encode(\"utf-8\")+b\"d1c2fe63e79c708c\").hexdigest() == \"554afdb3b28d2d426afc03af592f332e0a3deb2f\", \"type of boot6_dist.facet['shorthand'] is not str. boot6_dist.facet['shorthand'] should be an str\"\n",
    "assert sha1(str(len(boot6_dist.facet['shorthand'])).encode(\"utf-8\")+b\"d1c2fe63e79c708c\").hexdigest() == \"32dec15683cd0ff9d0fdb7cbda6a737ff606201a\", \"length of boot6_dist.facet['shorthand'] is not correct\"\n",
    "assert sha1(str(boot6_dist.facet['shorthand'].lower()).encode(\"utf-8\")+b\"d1c2fe63e79c708c\").hexdigest() == \"b1aba475fec8a1ac975a96de874e14c4916ba0f4\", \"value of boot6_dist.facet['shorthand'] is not correct\"\n",
    "assert sha1(str(boot6_dist.facet['shorthand']).encode(\"utf-8\")+b\"d1c2fe63e79c708c\").hexdigest() == \"b1aba475fec8a1ac975a96de874e14c4916ba0f4\", \"correct string value of boot6_dist.facet['shorthand'] but incorrect case of letters\"\n",
    "\n",
    "assert sha1(str(type(boot6_dist.data.shape[0])).encode(\"utf-8\")+b\"edf1ae5de24351a3\").hexdigest() == \"33cb8db0de5524c4b458c6439f099850ff6bfdb9\", \"type of boot6_dist.data.shape[0] is not int. Please make sure it is int and not np.int64, etc. You can cast your value into an int using int()\"\n",
    "assert sha1(str(boot6_dist.data.shape[0]).encode(\"utf-8\")+b\"edf1ae5de24351a3\").hexdigest() == \"485960a1686769baa489c434b35cf6683a205f29\", \"value of boot6_dist.data.shape[0] is not correct\"\n",
    "\n",
    "assert sha1(str(type(boot6_dist.title is not None)).encode(\"utf-8\")+b\"7160d84fd646426e\").hexdigest() == \"d0b299ae2a4e86999fd21fffdfd41f9f2d392d5f\", \"type of boot6_dist.title is not None is not bool. boot6_dist.title is not None should be a bool\"\n",
    "assert sha1(str(boot6_dist.title is not None).encode(\"utf-8\")+b\"7160d84fd646426e\").hexdigest() == \"2aef56d483ae116657f6163a1730d66e4c1f084e\", \"boolean value of boot6_dist.title is not None is not correct\"\n",
    "\n",
    "print('Success!')"
   ]
  },
  {
   "cell_type": "markdown",
   "metadata": {
    "deletable": false,
    "editable": false,
    "nbgrader": {
     "cell_type": "markdown",
     "checksum": "f61883754408e8b6af7f9c50916d6f83",
     "grade": false,
     "grade_id": "cell-8c48012a69725219",
     "locked": true,
     "schema_version": 3,
     "solution": false,
     "task": false
    }
   },
   "source": [
    "**Question 2.1** \n",
    "<br> {points: 1}\n",
    "\n",
    "Calculate the mean of these 6 bootstrap samples using `groupby` and `mean` and save result into a column called `mean_age`. Use `reset_index` so that the resulting data frame has two columns: `replicate` and `mean`. Name the data frame `boot6_means`."
   ]
  },
  {
   "cell_type": "code",
   "execution_count": null,
   "metadata": {
    "deletable": false,
    "nbgrader": {
     "cell_type": "code",
     "checksum": "91b998b77bcff788c3cf6af2a828a988",
     "grade": false,
     "grade_id": "cell-b9692d80805c724a",
     "locked": false,
     "schema_version": 3,
     "solution": true,
     "task": false
    }
   },
   "outputs": [],
   "source": [
    "# your code here\n",
    "raise NotImplementedError\n",
    "boot6_means"
   ]
  },
  {
   "cell_type": "code",
   "execution_count": null,
   "metadata": {
    "deletable": false,
    "editable": false,
    "nbgrader": {
     "cell_type": "code",
     "checksum": "5d2968a924436561944bc2fa27d76920",
     "grade": true,
     "grade_id": "cell-f2cfe994fece602d",
     "locked": true,
     "points": 1,
     "schema_version": 3,
     "solution": false,
     "task": false
    }
   },
   "outputs": [],
   "source": [
    "from hashlib import sha1\n",
    "assert sha1(str(type(boot6_means.shape[0])).encode(\"utf-8\")+b\"da6b67a5dc64285f\").hexdigest() == \"517b2813255e2e9e6eb4681f24218eef4d042686\", \"type of boot6_means.shape[0] is not int. Please make sure it is int and not np.int64, etc. You can cast your value into an int using int()\"\n",
    "assert sha1(str(boot6_means.shape[0]).encode(\"utf-8\")+b\"da6b67a5dc64285f\").hexdigest() == \"6fa0df9151383a1100d8bfc3f5ea7e0748cf9eb9\", \"value of boot6_means.shape[0] is not correct\"\n",
    "\n",
    "assert sha1(str(type(boot6_means.shape[1])).encode(\"utf-8\")+b\"a3dff58db9c9c0e6\").hexdigest() == \"74eeb061932ac0545a9771b84d08f089fb9863b6\", \"type of boot6_means.shape[1] is not int. Please make sure it is int and not np.int64, etc. You can cast your value into an int using int()\"\n",
    "assert sha1(str(boot6_means.shape[1]).encode(\"utf-8\")+b\"a3dff58db9c9c0e6\").hexdigest() == \"ae4610041f4439a0f81cc4701fca6a3b941356a0\", \"value of boot6_means.shape[1] is not correct\"\n",
    "\n",
    "assert sha1(str(type(\"\".join(boot6_means.columns))).encode(\"utf-8\")+b\"30ef07ddac45c626\").hexdigest() == \"f1493e7841f82032c7d85097df8d32b88fe55fde\", \"type of \\\"\\\".join(boot6_means.columns) is not str. \\\"\\\".join(boot6_means.columns) should be an str\"\n",
    "assert sha1(str(len(\"\".join(boot6_means.columns))).encode(\"utf-8\")+b\"30ef07ddac45c626\").hexdigest() == \"43bf199914c67e360bd7ecf69d2c1004a4594c5e\", \"length of \\\"\\\".join(boot6_means.columns) is not correct\"\n",
    "assert sha1(str(\"\".join(boot6_means.columns).lower()).encode(\"utf-8\")+b\"30ef07ddac45c626\").hexdigest() == \"de471b8b41dfebd8970cced11a31122044db83ef\", \"value of \\\"\\\".join(boot6_means.columns) is not correct\"\n",
    "assert sha1(str(\"\".join(boot6_means.columns)).encode(\"utf-8\")+b\"30ef07ddac45c626\").hexdigest() == \"de471b8b41dfebd8970cced11a31122044db83ef\", \"correct string value of \\\"\\\".join(boot6_means.columns) but incorrect case of letters\"\n",
    "\n",
    "assert sha1(str(type(round(boot6_means[\"mean_age\"][0], 2))).encode(\"utf-8\")+b\"f313f2d35d51f4b0\").hexdigest() == \"428d1612fe134ab110e709e9198f8fc7d76abfed\", \"type of round(boot6_means[\\\"mean_age\\\"][0], 2) is not correct\"\n",
    "assert sha1(str(round(boot6_means[\"mean_age\"][0], 2)).encode(\"utf-8\")+b\"f313f2d35d51f4b0\").hexdigest() == \"3b9953cb5ba4be1675c83a7c50a0ad1555318ff5\", \"value of round(boot6_means[\\\"mean_age\\\"][0], 2) is not correct\"\n",
    "\n",
    "print('Success!')"
   ]
  },
  {
   "cell_type": "markdown",
   "metadata": {
    "deletable": false,
    "editable": false,
    "nbgrader": {
     "cell_type": "markdown",
     "checksum": "5671e699c3e31960d4415c123aaf7e31",
     "grade": false,
     "grade_id": "cell-00909da5655c00a5",
     "locked": true,
     "schema_version": 3,
     "solution": false,
     "task": false
    }
   },
   "source": [
    "**Question 2.2** \n",
    "<br> {points: 1}\n",
    "\n",
    "Let's now take 1000 bootstrap samples from the original sample we drew from the population (`one_sample`). As previously, assign a new column called `replicate` to mark the sample number `(from 0 to 999)`. Name the data frame `boot1000`.\n",
    "\n",
    "Set the seed as `1234`."
   ]
  },
  {
   "cell_type": "code",
   "execution_count": null,
   "metadata": {
    "deletable": false,
    "nbgrader": {
     "cell_type": "code",
     "checksum": "9c086d48ca156ab2e246c0d47b45f47c",
     "grade": false,
     "grade_id": "cell-cd89ca0c9e456e1b",
     "locked": false,
     "schema_version": 3,
     "solution": true,
     "task": false
    }
   },
   "outputs": [],
   "source": [
    "np.random.seed(1234)  # DO NOT CHANGE!\n",
    "# your code here\n",
    "raise NotImplementedError\n",
    "boot1000"
   ]
  },
  {
   "cell_type": "code",
   "execution_count": null,
   "metadata": {
    "deletable": false,
    "editable": false,
    "nbgrader": {
     "cell_type": "code",
     "checksum": "06a2980e3625530b9f267bc961e45e0c",
     "grade": true,
     "grade_id": "cell-343d880b6f801822",
     "locked": true,
     "points": 1,
     "schema_version": 3,
     "solution": false,
     "task": false
    }
   },
   "outputs": [],
   "source": [
    "from hashlib import sha1\n",
    "assert sha1(str(type(\"\".join(boot1000.columns))).encode(\"utf-8\")+b\"fab82ccb08ca682f\").hexdigest() == \"bdbcca31139addc3224b375019f0a8608f6239d9\", \"type of \\\"\\\".join(boot1000.columns) is not str. \\\"\\\".join(boot1000.columns) should be an str\"\n",
    "assert sha1(str(len(\"\".join(boot1000.columns))).encode(\"utf-8\")+b\"fab82ccb08ca682f\").hexdigest() == \"50d28b3e4b41d77cd3442c96f074e84e61951977\", \"length of \\\"\\\".join(boot1000.columns) is not correct\"\n",
    "assert sha1(str(\"\".join(boot1000.columns).lower()).encode(\"utf-8\")+b\"fab82ccb08ca682f\").hexdigest() == \"156ccedf4fcba6c6b340a709289e746a3bcf0196\", \"value of \\\"\\\".join(boot1000.columns) is not correct\"\n",
    "assert sha1(str(\"\".join(boot1000.columns)).encode(\"utf-8\")+b\"fab82ccb08ca682f\").hexdigest() == \"156ccedf4fcba6c6b340a709289e746a3bcf0196\", \"correct string value of \\\"\\\".join(boot1000.columns) but incorrect case of letters\"\n",
    "\n",
    "assert sha1(str(type(boot1000.shape[0])).encode(\"utf-8\")+b\"d85870fec100fde1\").hexdigest() == \"01fc8671b6c1f67acfa96c7a719ef2c9d94fa019\", \"type of boot1000.shape[0] is not int. Please make sure it is int and not np.int64, etc. You can cast your value into an int using int()\"\n",
    "assert sha1(str(boot1000.shape[0]).encode(\"utf-8\")+b\"d85870fec100fde1\").hexdigest() == \"3db4bb3fa25e1e6f46e493de68c1680b704477e7\", \"value of boot1000.shape[0] is not correct\"\n",
    "\n",
    "assert sha1(str(type(round(sum(boot1000.age), 2))).encode(\"utf-8\")+b\"ed7f3bebacd8daab\").hexdigest() == \"b268b07f763d1daac43e0530ea3937e5f0538772\", \"type of round(sum(boot1000.age), 2) is not float. Please make sure it is float and not np.float64, etc. You can cast your value into a float using float()\"\n",
    "assert sha1(str(round(round(sum(boot1000.age), 2), 2)).encode(\"utf-8\")+b\"ed7f3bebacd8daab\").hexdigest() == \"822716009bb248f11d5017f59fd077e73fbfeced\", \"value of round(sum(boot1000.age), 2) is not correct (rounded to 2 decimal places)\"\n",
    "\n",
    "assert sha1(str(type(sum([x for x in range(boot1000.shape[0])]))).encode(\"utf-8\")+b\"ca1e2b4af0f838cd\").hexdigest() == \"73222ccdbf9f74501ab6f670ca43d0629f9fda59\", \"type of sum([x for x in range(boot1000.shape[0])]) is not int. Please make sure it is int and not np.int64, etc. You can cast your value into an int using int()\"\n",
    "assert sha1(str(sum([x for x in range(boot1000.shape[0])])).encode(\"utf-8\")+b\"ca1e2b4af0f838cd\").hexdigest() == \"63d9b6968f52f6abf489b1e3d9d8a8d2e8c21880\", \"value of sum([x for x in range(boot1000.shape[0])]) is not correct\"\n",
    "\n",
    "print('Success!')"
   ]
  },
  {
   "cell_type": "markdown",
   "metadata": {
    "deletable": false,
    "editable": false,
    "nbgrader": {
     "cell_type": "markdown",
     "checksum": "2b364a8e7e238bbd65754aec737f6305",
     "grade": false,
     "grade_id": "cell-85473b296ef14d1c",
     "locked": true,
     "schema_version": 3,
     "solution": false,
     "task": false
    }
   },
   "source": [
    "**Question 2.3** \n",
    "<br> {points: 1}\n",
    "Calculate the mean of these 1000 bootstrap samples using `groupby` and `mean` and save result into a column called `mean_age`. Use `reset_index` so that the resulting data frame has two columns: `replicate` and `mean`. Name the data frame `boot1000_means`."
   ]
  },
  {
   "cell_type": "code",
   "execution_count": null,
   "metadata": {
    "deletable": false,
    "nbgrader": {
     "cell_type": "code",
     "checksum": "dcc7c1d09050e40ec4b40ee6316c5b02",
     "grade": false,
     "grade_id": "cell-51d5f2afbb677369",
     "locked": false,
     "schema_version": 3,
     "solution": true,
     "task": false
    }
   },
   "outputs": [],
   "source": [
    "# your code here\n",
    "raise NotImplementedError\n",
    "boot1000_means"
   ]
  },
  {
   "cell_type": "code",
   "execution_count": null,
   "metadata": {
    "deletable": false,
    "editable": false,
    "nbgrader": {
     "cell_type": "code",
     "checksum": "d168af9949c99a094b9323b9c5dfc2e3",
     "grade": true,
     "grade_id": "cell-bcf16788d57cef52",
     "locked": true,
     "points": 1,
     "schema_version": 3,
     "solution": false,
     "task": false
    }
   },
   "outputs": [],
   "source": [
    "from hashlib import sha1\n",
    "assert sha1(str(type(boot1000_means.shape[0])).encode(\"utf-8\")+b\"14406c237a8080ef\").hexdigest() == \"277b26acc62bc184a61c9563f7d04191bc358384\", \"type of boot1000_means.shape[0] is not int. Please make sure it is int and not np.int64, etc. You can cast your value into an int using int()\"\n",
    "assert sha1(str(boot1000_means.shape[0]).encode(\"utf-8\")+b\"14406c237a8080ef\").hexdigest() == \"b94c84f9d48abf9215ea4f19ef73e42f5ec7986c\", \"value of boot1000_means.shape[0] is not correct\"\n",
    "\n",
    "assert sha1(str(type(boot1000_means.shape[1])).encode(\"utf-8\")+b\"ee16ef4810ccd00e\").hexdigest() == \"e4fcd95927b06502c835fc867424e7d6fe4ac9cd\", \"type of boot1000_means.shape[1] is not int. Please make sure it is int and not np.int64, etc. You can cast your value into an int using int()\"\n",
    "assert sha1(str(boot1000_means.shape[1]).encode(\"utf-8\")+b\"ee16ef4810ccd00e\").hexdigest() == \"795391dd59904cbdb2083f4da2409c5e32a34053\", \"value of boot1000_means.shape[1] is not correct\"\n",
    "\n",
    "assert sha1(str(type(\"\".join(boot1000_means.columns))).encode(\"utf-8\")+b\"f82706726418d8f3\").hexdigest() == \"2d84da79bffb66ab5169a0169f107eaeebc9725f\", \"type of \\\"\\\".join(boot1000_means.columns) is not str. \\\"\\\".join(boot1000_means.columns) should be an str\"\n",
    "assert sha1(str(len(\"\".join(boot1000_means.columns))).encode(\"utf-8\")+b\"f82706726418d8f3\").hexdigest() == \"c52f7f550e9820b2be9800aef198e63fb172107b\", \"length of \\\"\\\".join(boot1000_means.columns) is not correct\"\n",
    "assert sha1(str(\"\".join(boot1000_means.columns).lower()).encode(\"utf-8\")+b\"f82706726418d8f3\").hexdigest() == \"aa53ea505136cf70d768e577d83347dc2530e7da\", \"value of \\\"\\\".join(boot1000_means.columns) is not correct\"\n",
    "assert sha1(str(\"\".join(boot1000_means.columns)).encode(\"utf-8\")+b\"f82706726418d8f3\").hexdigest() == \"aa53ea505136cf70d768e577d83347dc2530e7da\", \"correct string value of \\\"\\\".join(boot1000_means.columns) but incorrect case of letters\"\n",
    "\n",
    "assert sha1(str(type(round(boot1000_means[\"mean_age\"][0], 2))).encode(\"utf-8\")+b\"1d9accfce20d4ac7\").hexdigest() == \"79fab0be5873c6a8d760c1ff9be9c783818722cf\", \"type of round(boot1000_means[\\\"mean_age\\\"][0], 2) is not correct\"\n",
    "assert sha1(str(round(boot1000_means[\"mean_age\"][0], 2)).encode(\"utf-8\")+b\"1d9accfce20d4ac7\").hexdigest() == \"1d416a84d3c4b5a0db51a53753178d2fdcbcfd92\", \"value of round(boot1000_means[\\\"mean_age\\\"][0], 2) is not correct\"\n",
    "\n",
    "print('Success!')"
   ]
  },
  {
   "cell_type": "markdown",
   "metadata": {
    "deletable": false,
    "editable": false,
    "nbgrader": {
     "cell_type": "markdown",
     "checksum": "311960132a0be6d70c880f89e552da80",
     "grade": false,
     "grade_id": "cell-75683253957d46bd",
     "locked": true,
     "schema_version": 3,
     "solution": false,
     "task": false
    }
   },
   "source": [
    "**Question 2.4** \n",
    "<br> {points: 1}\n",
    "\n",
    "Visualize the distribution of the bootstrap sample point estimates (`boot1000_means`) you just calculated by plotting a histogram with `maxbins=30`. Name the plot `boot_est_dist` and give the plot and the x-axis a descriptive title."
   ]
  },
  {
   "cell_type": "code",
   "execution_count": null,
   "metadata": {
    "deletable": false,
    "nbgrader": {
     "cell_type": "code",
     "checksum": "d7c4aceb49dfc4585495e7454c8ced30",
     "grade": false,
     "grade_id": "cell-21f093a752cc5d8c",
     "locked": false,
     "schema_version": 3,
     "solution": true,
     "task": false
    }
   },
   "outputs": [],
   "source": [
    "# your code here\n",
    "raise NotImplementedError\n",
    "boot_est_dist"
   ]
  },
  {
   "cell_type": "code",
   "execution_count": null,
   "metadata": {
    "deletable": false,
    "editable": false,
    "nbgrader": {
     "cell_type": "code",
     "checksum": "2613903f6e622d53d6c12ce17cdd5ead",
     "grade": true,
     "grade_id": "cell-13a4f6d6fbcd8cbb",
     "locked": true,
     "points": 1,
     "schema_version": 3,
     "solution": false,
     "task": false
    }
   },
   "outputs": [],
   "source": [
    "from hashlib import sha1\n",
    "assert sha1(str(type(boot_est_dist.encoding.x.field)).encode(\"utf-8\")+b\"22048e0dbe3d3f50\").hexdigest() == \"755c27b781a23c17f44e3c72ecaeb8242ffe79e9\", \"type of boot_est_dist.encoding.x.field is not correct\"\n",
    "assert sha1(str(boot_est_dist.encoding.x.field).encode(\"utf-8\")+b\"22048e0dbe3d3f50\").hexdigest() == \"05309ec03d2008ceb920cd852e2146dfe9fc8065\", \"value of boot_est_dist.encoding.x.field is not correct\"\n",
    "\n",
    "assert sha1(str(type(boot_est_dist.mark)).encode(\"utf-8\")+b\"ed58c5b3e239c248\").hexdigest() == \"3bb96e7f5c0ca83dbf4cff6818b79e77067eacbd\", \"type of boot_est_dist.mark is not str. boot_est_dist.mark should be an str\"\n",
    "assert sha1(str(len(boot_est_dist.mark)).encode(\"utf-8\")+b\"ed58c5b3e239c248\").hexdigest() == \"22655a894f282f13145724a9cdb5a8db862d2334\", \"length of boot_est_dist.mark is not correct\"\n",
    "assert sha1(str(boot_est_dist.mark.lower()).encode(\"utf-8\")+b\"ed58c5b3e239c248\").hexdigest() == \"6cc2b7dc8341f270154bac9b7cb3651274bc208b\", \"value of boot_est_dist.mark is not correct\"\n",
    "assert sha1(str(boot_est_dist.mark).encode(\"utf-8\")+b\"ed58c5b3e239c248\").hexdigest() == \"6cc2b7dc8341f270154bac9b7cb3651274bc208b\", \"correct string value of boot_est_dist.mark but incorrect case of letters\"\n",
    "\n",
    "assert sha1(str(type(boot_est_dist.data.shape[0])).encode(\"utf-8\")+b\"c37e1be3479089dc\").hexdigest() == \"eb0676b4ed465a79ea9024d6b07c94febfeba79c\", \"type of boot_est_dist.data.shape[0] is not int. Please make sure it is int and not np.int64, etc. You can cast your value into an int using int()\"\n",
    "assert sha1(str(boot_est_dist.data.shape[0]).encode(\"utf-8\")+b\"c37e1be3479089dc\").hexdigest() == \"7115d517a3c7b6085636007ebac4a1c88c9c8180\", \"value of boot_est_dist.data.shape[0] is not correct\"\n",
    "\n",
    "assert sha1(str(type(round(sum(boot_est_dist.data.sum()), 2))).encode(\"utf-8\")+b\"bfab34be361ac256\").hexdigest() == \"0ba6110bd4a5eca1ce460343e3753d2f946bc5dc\", \"type of round(sum(boot_est_dist.data.sum()), 2) is not float. Please make sure it is float and not np.float64, etc. You can cast your value into a float using float()\"\n",
    "assert sha1(str(round(round(sum(boot_est_dist.data.sum()), 2), 2)).encode(\"utf-8\")+b\"bfab34be361ac256\").hexdigest() == \"356c52883daaf216e8eb1fbeb71deb19f8a6ad6f\", \"value of round(sum(boot_est_dist.data.sum()), 2) is not correct (rounded to 2 decimal places)\"\n",
    "\n",
    "assert sha1(str(type(boot_est_dist.encoding.x.field != boot_est_dist.encoding.x.title)).encode(\"utf-8\")+b\"64a097ac8fab43d2\").hexdigest() == \"32618dae6126eca1fe456371056d9570d4efe86a\", \"type of boot_est_dist.encoding.x.field != boot_est_dist.encoding.x.title is not bool. boot_est_dist.encoding.x.field != boot_est_dist.encoding.x.title should be a bool\"\n",
    "assert sha1(str(boot_est_dist.encoding.x.field != boot_est_dist.encoding.x.title).encode(\"utf-8\")+b\"64a097ac8fab43d2\").hexdigest() == \"d683a3af45f4c410adc3b11cb175b027bf165d5e\", \"boolean value of boot_est_dist.encoding.x.field != boot_est_dist.encoding.x.title is not correct\"\n",
    "\n",
    "assert sha1(str(type(boot_est_dist.title is not None)).encode(\"utf-8\")+b\"c4d1ad0e3b54845f\").hexdigest() == \"b7c593e5fa0b6bc3bbf7dc3f8c611edc5f40fdb9\", \"type of boot_est_dist.title is not None is not bool. boot_est_dist.title is not None should be a bool\"\n",
    "assert sha1(str(boot_est_dist.title is not None).encode(\"utf-8\")+b\"c4d1ad0e3b54845f\").hexdigest() == \"758095916899fdf1775ed4a898e11776d185644d\", \"boolean value of boot_est_dist.title is not None is not correct\"\n",
    "\n",
    "print('Success!')"
   ]
  },
  {
   "cell_type": "markdown",
   "metadata": {
    "deletable": false,
    "editable": false,
    "nbgrader": {
     "cell_type": "markdown",
     "checksum": "ab6b0dcf3ba1c60460060f2f68a0dc2e",
     "grade": false,
     "grade_id": "cell-16863c73a0e61db1",
     "locked": true,
     "schema_version": 3,
     "solution": false,
     "task": false
    }
   },
   "source": [
    "How does the bootstrap distribution above compare to the sampling distribution? Let's visualize them side by side:"
   ]
  },
  {
   "cell_type": "code",
   "execution_count": null,
   "metadata": {
    "deletable": false,
    "editable": false,
    "nbgrader": {
     "cell_type": "code",
     "checksum": "5b344d5534b7b7b5ac9cf3a699883f46",
     "grade": false,
     "grade_id": "cell-a86b551fb1260606",
     "locked": true,
     "schema_version": 3,
     "solution": false,
     "task": false
    }
   },
   "outputs": [],
   "source": [
    "# Run this cell\n",
    "\n",
    "# Create sampling distribution from the population\n",
    "np.random.seed(4321)\n",
    "samples = pd.concat([\n",
    "    can_seniors.sample(40).assign(replicate=n)\n",
    "    for n in range(1000)\n",
    "])\n",
    "\n",
    "sample_estimates = (\n",
    "    samples.groupby(\"replicate\")\n",
    "    .mean()\n",
    "    .reset_index()\n",
    "    .rename(columns={\"age\": \"mean_age\"})\n",
    ")"
   ]
  },
  {
   "cell_type": "code",
   "execution_count": null,
   "metadata": {
    "deletable": false,
    "editable": false,
    "nbgrader": {
     "cell_type": "code",
     "checksum": "d68f12822b5d6097131fa4fd9f658d3f",
     "grade": false,
     "grade_id": "cell-a86b551fb126060d6",
     "locked": true,
     "schema_version": 3,
     "solution": false,
     "task": false
    }
   },
   "outputs": [],
   "source": [
    "# Visualize the sampling distribution\n",
    "sampling_dist = alt.Chart(\n",
    "    sample_estimates,\n",
    "    title=[\n",
    "        \"Sampling distribution\",\n",
    "        f'mean = {sample_estimates[\"mean_age\"].mean().round(1)}'\n",
    "    ]\n",
    ").mark_bar().encode(\n",
    "    x=alt.X(\"mean_age\")\n",
    "        .title(\"Sample mean age (years)\")\n",
    "        .bin(maxbins=30, extent=(72, 94)),\n",
    "    y=\"count()\"\n",
    ").properties(\n",
    "    height=150\n",
    ")\n",
    "\n",
    "# Plot both distribution\n",
    "boot_est_dist.encoding.x['bin']['extent'] = (72, 94)\n",
    "sampling_dist & boot_est_dist.properties(\n",
    "    height=150,\n",
    "    title=[\n",
    "        \"Bootstrap distribution\",\n",
    "        f'mean = {boot1000_means[\"mean_age\"].mean().round(1)}'\n",
    "    ]\n",
    ")"
   ]
  },
  {
   "cell_type": "markdown",
   "metadata": {
    "deletable": false,
    "editable": false,
    "nbgrader": {
     "cell_type": "markdown",
     "checksum": "a913f796caa5374e7ae4202485969829",
     "grade": false,
     "grade_id": "cell-2529f74ae181fd44",
     "locked": true,
     "schema_version": 3,
     "solution": false,
     "task": false
    }
   },
   "source": [
    "Reminder: the true population quantity we are trying to estimate, the population mean, is about 79 years. We know this because we created this population and calculated this value. In real life we wouldn't know this value."
   ]
  },
  {
   "cell_type": "markdown",
   "metadata": {
    "deletable": false,
    "editable": false,
    "nbgrader": {
     "cell_type": "markdown",
     "checksum": "1c4e3184a599f5341cb5e56a83fc2bf3",
     "grade": false,
     "grade_id": "cell-15147e6c224ccb72",
     "locked": true,
     "schema_version": 3,
     "solution": false,
     "task": false
    }
   },
   "source": [
    "**Question 2.5** True/False\n",
    "<br> {points: 1}\n",
    "\n",
    "The mean of the bootstrap distribution is the same value as the mean of the sampling distribution of the sample means. True or false?\n",
    "\n",
    "*Assign your answer to an object called `answer2_5`. Your answer should be a boolean. i.e. `True` or `False`.*"
   ]
  },
  {
   "cell_type": "code",
   "execution_count": null,
   "metadata": {
    "deletable": false,
    "nbgrader": {
     "cell_type": "code",
     "checksum": "361feba52b818934ec4c11328ddd8630",
     "grade": false,
     "grade_id": "cell-0e3ed3ca2495a0bc",
     "locked": false,
     "schema_version": 3,
     "solution": true,
     "task": false
    }
   },
   "outputs": [],
   "source": [
    "# your code here\n",
    "raise NotImplementedError"
   ]
  },
  {
   "cell_type": "code",
   "execution_count": null,
   "metadata": {
    "deletable": false,
    "editable": false,
    "nbgrader": {
     "cell_type": "code",
     "checksum": "d96c5635c9de75d9b2938063b562e789",
     "grade": true,
     "grade_id": "cell-3ea212ad593b9f57",
     "locked": true,
     "points": 1,
     "schema_version": 3,
     "solution": false,
     "task": false
    }
   },
   "outputs": [],
   "source": [
    "from hashlib import sha1\n",
    "assert sha1(str(type(answer2_5)).encode(\"utf-8\")+b\"416ba23a942572e2\").hexdigest() == \"f3cb4e785b52da86f3deac20e896447180701c49\", \"type of answer2_5 is not bool. answer2_5 should be a bool\"\n",
    "assert sha1(str(answer2_5).encode(\"utf-8\")+b\"416ba23a942572e2\").hexdigest() == \"bd4fa09eb4438887270d18dc5ad3cbef71b198e3\", \"boolean value of answer2_5 is not correct\"\n",
    "\n",
    "print('Success!')"
   ]
  },
  {
   "cell_type": "markdown",
   "metadata": {
    "deletable": false,
    "editable": false,
    "nbgrader": {
     "cell_type": "markdown",
     "checksum": "36a16be1a9d202d096b583e4d1c8a6b6",
     "grade": false,
     "grade_id": "cell-8f170c7bb0c58227",
     "locked": true,
     "schema_version": 3,
     "solution": false,
     "task": false
    }
   },
   "source": [
    "**Question 2.6** True/False\n",
    "<br> {points: 1}\n",
    "\n",
    "The mean of the bootstrap distribution is not the same value as the mean of the sampling distribution because the bootstrap distribution was created from samples drawn from a single sample, whereas the sampling distribution was created from samples drawn from the population. True or false?\n",
    "\n",
    "*Assign your answer to an object called `answer2_6`. Your answer should be a boolean. i.e. `True` or `False`.*"
   ]
  },
  {
   "cell_type": "code",
   "execution_count": null,
   "metadata": {
    "deletable": false,
    "nbgrader": {
     "cell_type": "code",
     "checksum": "f5c5ee6c8148592a4abd673e7a34c1bf",
     "grade": false,
     "grade_id": "cell-230cf28d4590a63d",
     "locked": false,
     "schema_version": 3,
     "solution": true,
     "task": false
    }
   },
   "outputs": [],
   "source": [
    "# your code here\n",
    "raise NotImplementedError"
   ]
  },
  {
   "cell_type": "code",
   "execution_count": null,
   "metadata": {
    "deletable": false,
    "editable": false,
    "nbgrader": {
     "cell_type": "code",
     "checksum": "d840bbfd12ca60558c790e1a67ac184c",
     "grade": true,
     "grade_id": "cell-b167494acba2816d",
     "locked": true,
     "points": 1,
     "schema_version": 3,
     "solution": false,
     "task": false
    }
   },
   "outputs": [],
   "source": [
    "from hashlib import sha1\n",
    "assert sha1(str(type(answer2_6)).encode(\"utf-8\")+b\"7a8e1bca45b2049b\").hexdigest() == \"9d339753b5ac9e7c30edebf0fd609ad060dc15a9\", \"type of answer2_6 is not bool. answer2_6 should be a bool\"\n",
    "assert sha1(str(answer2_6).encode(\"utf-8\")+b\"7a8e1bca45b2049b\").hexdigest() == \"46a61683b1d7d3e1811a19a4aa6f123ee0237d71\", \"boolean value of answer2_6 is not correct\"\n",
    "\n",
    "print('Success!')"
   ]
  },
  {
   "cell_type": "markdown",
   "metadata": {
    "deletable": false,
    "editable": false,
    "nbgrader": {
     "cell_type": "markdown",
     "checksum": "b246e1122d1314010929999e97df9ab0",
     "grade": false,
     "grade_id": "cell-c569dabb88890bfc",
     "locked": true,
     "schema_version": 3,
     "solution": false,
     "task": false
    }
   },
   "source": [
    "**Question 2.7** True/False\n",
    "<br> {points: 1}\n",
    "\n",
    "The shape and spread (i.e. width) of the distribution of the bootstrap sample means is a poor approximation of the shape and spread of the sampling distribution of the sample means. True or false?\n",
    "\n",
    "*Assign your answer to an object called `answer2_7`. Your answer should be a boolean. i.e. `True` or `False`.*"
   ]
  },
  {
   "cell_type": "code",
   "execution_count": null,
   "metadata": {
    "deletable": false,
    "nbgrader": {
     "cell_type": "code",
     "checksum": "34f45cda41591164dc4e6557b14fc030",
     "grade": false,
     "grade_id": "cell-f82d46022821b073",
     "locked": false,
     "schema_version": 3,
     "solution": true,
     "task": false
    }
   },
   "outputs": [],
   "source": [
    "# your code here\n",
    "raise NotImplementedError"
   ]
  },
  {
   "cell_type": "code",
   "execution_count": null,
   "metadata": {
    "deletable": false,
    "editable": false,
    "nbgrader": {
     "cell_type": "code",
     "checksum": "923b3435f5671bc729c5aea893c248bb",
     "grade": true,
     "grade_id": "cell-2ab1350547ae451d",
     "locked": true,
     "points": 1,
     "schema_version": 3,
     "solution": false,
     "task": false
    }
   },
   "outputs": [],
   "source": [
    "from hashlib import sha1\n",
    "assert sha1(str(type(answer2_7)).encode(\"utf-8\")+b\"c9e7c687b8d4b2a4\").hexdigest() == \"6f46310549b19d7e2e1a887c8f272abd90cdb0b7\", \"type of answer2_7 is not bool. answer2_7 should be a bool\"\n",
    "assert sha1(str(answer2_7).encode(\"utf-8\")+b\"c9e7c687b8d4b2a4\").hexdigest() == \"1d3295a05057824c61183b2ea28d83393c8ffcdf\", \"boolean value of answer2_7 is not correct\"\n",
    "\n",
    "print('Success!')"
   ]
  },
  {
   "cell_type": "markdown",
   "metadata": {
    "deletable": false,
    "editable": false,
    "nbgrader": {
     "cell_type": "markdown",
     "checksum": "8101b7b2097db5050f2c8b58c975ef53",
     "grade": false,
     "grade_id": "cell-8399b964d743f33c",
     "locked": true,
     "schema_version": 3,
     "solution": false,
     "task": false
    }
   },
   "source": [
    "**Question 2.8** True/False\n",
    "<br> {points: 1}\n",
    "\n",
    "In real life, where we only have one sample and cannot create a sampling distribution, the distribution of the bootstrap sample estimates (here means) can suggest how we might expect our point estimate to behave if we took another sample. True or false?\n",
    "\n",
    "*Assign your answer to an object called `answer2_8`. Your answer should be a boolean. i.e. `True` or `False`.*"
   ]
  },
  {
   "cell_type": "code",
   "execution_count": null,
   "metadata": {
    "deletable": false,
    "nbgrader": {
     "cell_type": "code",
     "checksum": "1a27c57aaadcd38d1347724ed72004f8",
     "grade": false,
     "grade_id": "cell-59cfd94899e457a7",
     "locked": false,
     "schema_version": 3,
     "solution": true,
     "task": false
    }
   },
   "outputs": [],
   "source": [
    "# your code here\n",
    "raise NotImplementedError"
   ]
  },
  {
   "cell_type": "code",
   "execution_count": null,
   "metadata": {
    "deletable": false,
    "editable": false,
    "nbgrader": {
     "cell_type": "code",
     "checksum": "9662accc445609032e61086f6a9223af",
     "grade": true,
     "grade_id": "cell-4d2a0325f4fd2406",
     "locked": true,
     "points": 1,
     "schema_version": 3,
     "solution": false,
     "task": false
    }
   },
   "outputs": [],
   "source": [
    "from hashlib import sha1\n",
    "assert sha1(str(type(answer2_8)).encode(\"utf-8\")+b\"c99b7194247c469e\").hexdigest() == \"3667b761c05968723112cc1bd4e7731159531948\", \"type of answer2_8 is not bool. answer2_8 should be a bool\"\n",
    "assert sha1(str(answer2_8).encode(\"utf-8\")+b\"c99b7194247c469e\").hexdigest() == \"1d9983b1f3d2b8506f2d05ae998165297f74b3fc\", \"boolean value of answer2_8 is not correct\"\n",
    "\n",
    "print('Success!')"
   ]
  },
  {
   "cell_type": "markdown",
   "metadata": {
    "deletable": false,
    "editable": false,
    "nbgrader": {
     "cell_type": "markdown",
     "checksum": "e1922c201ead42beb140513403972276",
     "grade": false,
     "grade_id": "cell-3af745f41b79a813",
     "locked": true,
     "schema_version": 3,
     "solution": false,
     "task": false
    }
   },
   "source": [
    "### Using the bootstrap distribution to calculate a plausible range for point estimates\n",
    "\n",
    "Once we have created a bootstrap distribution, we can use it to suggest a plausible range where we might expect the true population quantity to lie. One formal name for a commonly used plausible range is called a confidence interval. Confidence intervals can be set at different levels, an example of a commonly used level is 95%. When we report a point estimate with a 95% confidence interval as the plausible range, formally we are saying that if we repeated this process of building confidence intervals more times with more samples, we’d expect ~ 95% of them to contain the value of the population quantity.\n",
    "\n",
    "> How do you choose a level for a confidence interval? You have to consider the downstream application of your estimation and what the cost/consequence of an incorrect estimate would be. The higher the cost/consequence, the higher a confidence level you would want to use. You will learn more about this in later Statistics courses.\n",
    "\n",
    "To calculate an approximate 95% confidence interval using bootstrapping, we essentially order the values in our bootstrap distribution and then take the value at the 2.5th percentile as the lower bound of the plausible range, and the 97.5th percentile as the upper bound of the plausible range. "
   ]
  },
  {
   "cell_type": "code",
   "execution_count": null,
   "metadata": {
    "deletable": false,
    "editable": false,
    "nbgrader": {
     "cell_type": "code",
     "checksum": "bdbc007791e1f87fe97a94e313fb0633",
     "grade": false,
     "grade_id": "cell-4e8bd702d14d0973",
     "locked": true,
     "schema_version": 3,
     "solution": false,
     "task": false
    }
   },
   "outputs": [],
   "source": [
    "# Run this cell\n",
    "# A \"quantile\" is a at 100th of a percentile (similar to a proportion vs a percentage)\n",
    "boot1000_means[\"mean_age\"].quantile([0.025, 0.975])"
   ]
  },
  {
   "cell_type": "markdown",
   "metadata": {
    "deletable": false,
    "editable": false,
    "nbgrader": {
     "cell_type": "markdown",
     "checksum": "43aedf483265e87632ac48a7a8d93fb9",
     "grade": false,
     "grade_id": "cell-671ea52cb570ec80",
     "locked": true,
     "schema_version": 3,
     "solution": false,
     "task": false
    }
   },
   "source": [
    "Thus, to finish our estimation of the population quantity that we are trying to estimate, we would report the point estimate and the lower and upper bounds of our confidence interval. We would say something like this:\n",
    "\n",
    "Our sample mean age for Canadian seniors was measured to be 83.7 years, and we’re 95% \"confident\" that the true population mean for Canadian seniors is between 78.8 and 89.2. \n",
    "\n",
    "Here our 95% confidence interval does contain the true population mean for Canadian seniors, 79 years - pretty neat! However, in real life we would never be able to know this because we only have observations from a single sample, not the whole population."
   ]
  },
  {
   "cell_type": "markdown",
   "metadata": {
    "deletable": false,
    "editable": false,
    "nbgrader": {
     "cell_type": "markdown",
     "checksum": "1b0d85f0084376db3746016fb9f6bba4",
     "grade": false,
     "grade_id": "cell-9453844511483837",
     "locked": true,
     "schema_version": 3,
     "solution": false,
     "task": false
    }
   },
   "source": [
    "**Question 2.9** True/False\n",
    "<br> {points: 1}\n",
    "\n",
    "For any sample we take, if we use bootstrapping to calculate the 95% confidence intervals, the true population quantity we are trying to estimate would always fall within the lower and upper bounds of the confidence interval. True or false?\n",
    "\n",
    "*Assign your answer to an object called `answer2_9`. Your answer should be a boolean. i.e. `True` or `False`.*"
   ]
  },
  {
   "cell_type": "code",
   "execution_count": null,
   "metadata": {
    "deletable": false,
    "nbgrader": {
     "cell_type": "code",
     "checksum": "9b1b0ef7046e443eb9ddc1b4a1931b5d",
     "grade": false,
     "grade_id": "cell-91e462917a53edad",
     "locked": false,
     "schema_version": 3,
     "solution": true,
     "task": false
    }
   },
   "outputs": [],
   "source": [
    "# your code here\n",
    "raise NotImplementedError"
   ]
  },
  {
   "cell_type": "code",
   "execution_count": null,
   "metadata": {
    "deletable": false,
    "editable": false,
    "nbgrader": {
     "cell_type": "code",
     "checksum": "cd97c4b39ba755347bf0f29c17b761ed",
     "grade": true,
     "grade_id": "cell-e0a24858ef65cea9",
     "locked": true,
     "points": 1,
     "schema_version": 3,
     "solution": false,
     "task": false
    }
   },
   "outputs": [],
   "source": [
    "from hashlib import sha1\n",
    "assert sha1(str(type(answer2_9)).encode(\"utf-8\")+b\"d8cb590d181270bf\").hexdigest() == \"51a50aacd6479a8fc3411a3a1752c141362eeb8c\", \"type of answer2_9 is not bool. answer2_9 should be a bool\"\n",
    "assert sha1(str(answer2_9).encode(\"utf-8\")+b\"d8cb590d181270bf\").hexdigest() == \"a52d19b6c70dd180dab23a73a91be741928e071c\", \"boolean value of answer2_9 is not correct\"\n",
    "\n",
    "print('Success!')"
   ]
  }
 ],
 "metadata": {
  "jupytext": {
   "encoding": "# -*- coding: utf-8 -*-"
  },
  "kernelspec": {
   "display_name": "Python 3 (ipykernel)",
   "language": "python",
   "name": "python3"
  },
  "language_info": {
   "codemirror_mode": {
    "name": "ipython",
    "version": 3
   },
   "file_extension": ".py",
   "mimetype": "text/x-python",
   "name": "python",
   "nbconvert_exporter": "python",
   "pygments_lexer": "ipython3",
   "version": "3.11.4"
  }
 },
 "nbformat": 4,
 "nbformat_minor": 4
}
